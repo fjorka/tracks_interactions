{
 "cells": [
  {
   "cell_type": "code",
   "execution_count": 1,
   "metadata": {},
   "outputs": [],
   "source": [
    "import os\n",
    "\n",
    "from pathlib import Path\n",
    "\n",
    "import napari\n",
    "import numpy as np\n",
    "from tqdm import tqdm\n",
    "from rich.pretty import pprint\n",
    "\n",
    "\n",
    "from ultrack import track, to_tracks_layer, tracks_to_zarr\n",
    "from ultrack.imgproc import normalize\n",
    "from ultrack.utils import estimate_parameters_from_labels, labels_to_edges\n",
    "from ultrack.utils.array import array_apply, create_zarr\n",
    "from ultrack.config import MainConfig\n",
    "from ultrack.core.solve.processing import solve\n",
    "from ultrack.imgproc.segmentation import reconstruction_by_dilation, Cellpose\n",
    "from ultrack.utils.cuda import import_module, to_cpu, torch_default_device\n",
    "\n",
    "import dask.array as da\n",
    "\n",
    "import matplotlib.pyplot as plt"
   ]
  },
  {
   "cell_type": "code",
   "execution_count": 2,
   "metadata": {},
   "outputs": [
    {
     "data": {
      "text/plain": [
       "True"
      ]
     },
     "execution_count": 2,
     "metadata": {},
     "output_type": "execute_result"
    }
   ],
   "source": [
    "import torch\n",
    "torch.cuda.is_available()"
   ]
  },
  {
   "cell_type": "code",
   "execution_count": 3,
   "metadata": {},
   "outputs": [],
   "source": [
    "# frames_start = 115\n",
    "# frames_stop = 125\n",
    "# row_start = 4250\n",
    "# row_stop = 4750\n",
    "# col_start = 4200\n",
    "# col_stop = 4900\n",
    "\n",
    "frames_start = 0\n",
    "frames_stop = -1\n",
    "row_start = 0\n",
    "row_stop = -1\n",
    "col_start = 0\n",
    "col_stop = -1"
   ]
  },
  {
   "cell_type": "code",
   "execution_count": 3,
   "metadata": {},
   "outputs": [
    {
     "data": {
      "text/plain": [
       "(10, 500, 700)"
      ]
     },
     "execution_count": 3,
     "metadata": {},
     "output_type": "execute_result"
    }
   ],
   "source": [
    "zarr_masks_path = r'D:\\kasia\\tracking\\E6_exp\\E6_small_masks.zarr'\n",
    "\n",
    "dask_masks = da.from_zarr(zarr_masks_path,0)[frames_start:frames_stop, row_start:row_stop, col_start:col_stop]\n",
    "dask_masks.shape"
   ]
  },
  {
   "cell_type": "code",
   "execution_count": 4,
   "metadata": {},
   "outputs": [
    {
     "name": "stdout",
     "output_type": "stream",
     "text": [
      "(10, 500, 700)\n",
      "(10, 500, 700)\n"
     ]
    }
   ],
   "source": [
    "ch0_path = r'D:\\kasia\\tracking\\E6_exp\\E6_C0.zarr'\n",
    "ch1_path = r'D:\\kasia\\tracking\\E6_exp\\E6_C1.zarr'\n",
    "\n",
    "ch0_da = da.from_zarr(ch0_path,1)[frames_start:frames_stop, row_start:row_stop, col_start:col_stop]\n",
    "ch1_da = da.from_zarr(ch1_path,1)[frames_start:frames_stop, row_start:row_stop, col_start:col_stop]\n",
    "\n",
    "print(ch0_da.shape)\n",
    "print(ch1_da.shape)"
   ]
  },
  {
   "cell_type": "code",
   "execution_count": 30,
   "metadata": {},
   "outputs": [
    {
     "name": "stderr",
     "output_type": "stream",
     "text": [
      "Applying normalize ...:   0%|          | 0/10 [00:00<?, ?it/s]c:\\Users\\kmk280\\.conda\\envs\\ultrack-env\\lib\\site-packages\\dask\\array\\core.py:1712: FutureWarning: The `numpy.quantile` function is not implemented by Dask array. You may want to use the da.map_blocks function or something similar to silence this warning. Your code may stop working in a future release.\n",
      "  warnings.warn(\n",
      "c:\\Users\\kmk280\\.conda\\envs\\ultrack-env\\lib\\site-packages\\dask\\array\\core.py:1712: FutureWarning: The `numpy.quantile` function is not implemented by Dask array. You may want to use the da.map_blocks function or something similar to silence this warning. Your code may stop working in a future release.\n",
      "  warnings.warn(\n",
      "c:\\Users\\kmk280\\.conda\\envs\\ultrack-env\\lib\\site-packages\\dask\\array\\core.py:1712: FutureWarning: The `numpy.quantile` function is not implemented by Dask array. You may want to use the da.map_blocks function or something similar to silence this warning. Your code may stop working in a future release.\n",
      "  warnings.warn(\n",
      "c:\\Users\\kmk280\\.conda\\envs\\ultrack-env\\lib\\site-packages\\dask\\array\\core.py:1712: FutureWarning: The `numpy.quantile` function is not implemented by Dask array. You may want to use the da.map_blocks function or something similar to silence this warning. Your code may stop working in a future release.\n",
      "  warnings.warn(\n",
      "Applying normalize ...:  20%|██        | 2/10 [00:00<00:00, 13.84it/s]c:\\Users\\kmk280\\.conda\\envs\\ultrack-env\\lib\\site-packages\\dask\\array\\core.py:1712: FutureWarning: The `numpy.quantile` function is not implemented by Dask array. You may want to use the da.map_blocks function or something similar to silence this warning. Your code may stop working in a future release.\n",
      "  warnings.warn(\n",
      "c:\\Users\\kmk280\\.conda\\envs\\ultrack-env\\lib\\site-packages\\dask\\array\\core.py:1712: FutureWarning: The `numpy.quantile` function is not implemented by Dask array. You may want to use the da.map_blocks function or something similar to silence this warning. Your code may stop working in a future release.\n",
      "  warnings.warn(\n",
      "c:\\Users\\kmk280\\.conda\\envs\\ultrack-env\\lib\\site-packages\\dask\\array\\core.py:1712: FutureWarning: The `numpy.quantile` function is not implemented by Dask array. You may want to use the da.map_blocks function or something similar to silence this warning. Your code may stop working in a future release.\n",
      "  warnings.warn(\n",
      "c:\\Users\\kmk280\\.conda\\envs\\ultrack-env\\lib\\site-packages\\dask\\array\\core.py:1712: FutureWarning: The `numpy.quantile` function is not implemented by Dask array. You may want to use the da.map_blocks function or something similar to silence this warning. Your code may stop working in a future release.\n",
      "  warnings.warn(\n",
      "Applying normalize ...:  40%|████      | 4/10 [00:00<00:00, 14.68it/s]c:\\Users\\kmk280\\.conda\\envs\\ultrack-env\\lib\\site-packages\\dask\\array\\core.py:1712: FutureWarning: The `numpy.quantile` function is not implemented by Dask array. You may want to use the da.map_blocks function or something similar to silence this warning. Your code may stop working in a future release.\n",
      "  warnings.warn(\n",
      "c:\\Users\\kmk280\\.conda\\envs\\ultrack-env\\lib\\site-packages\\dask\\array\\core.py:1712: FutureWarning: The `numpy.quantile` function is not implemented by Dask array. You may want to use the da.map_blocks function or something similar to silence this warning. Your code may stop working in a future release.\n",
      "  warnings.warn(\n",
      "c:\\Users\\kmk280\\.conda\\envs\\ultrack-env\\lib\\site-packages\\dask\\array\\core.py:1712: FutureWarning: The `numpy.quantile` function is not implemented by Dask array. You may want to use the da.map_blocks function or something similar to silence this warning. Your code may stop working in a future release.\n",
      "  warnings.warn(\n",
      "c:\\Users\\kmk280\\.conda\\envs\\ultrack-env\\lib\\site-packages\\dask\\array\\core.py:1712: FutureWarning: The `numpy.quantile` function is not implemented by Dask array. You may want to use the da.map_blocks function or something similar to silence this warning. Your code may stop working in a future release.\n",
      "  warnings.warn(\n",
      "Applying normalize ...:  60%|██████    | 6/10 [00:00<00:00, 14.81it/s]c:\\Users\\kmk280\\.conda\\envs\\ultrack-env\\lib\\site-packages\\dask\\array\\core.py:1712: FutureWarning: The `numpy.quantile` function is not implemented by Dask array. You may want to use the da.map_blocks function or something similar to silence this warning. Your code may stop working in a future release.\n",
      "  warnings.warn(\n",
      "c:\\Users\\kmk280\\.conda\\envs\\ultrack-env\\lib\\site-packages\\dask\\array\\core.py:1712: FutureWarning: The `numpy.quantile` function is not implemented by Dask array. You may want to use the da.map_blocks function or something similar to silence this warning. Your code may stop working in a future release.\n",
      "  warnings.warn(\n",
      "c:\\Users\\kmk280\\.conda\\envs\\ultrack-env\\lib\\site-packages\\dask\\array\\core.py:1712: FutureWarning: The `numpy.quantile` function is not implemented by Dask array. You may want to use the da.map_blocks function or something similar to silence this warning. Your code may stop working in a future release.\n",
      "  warnings.warn(\n",
      "c:\\Users\\kmk280\\.conda\\envs\\ultrack-env\\lib\\site-packages\\dask\\array\\core.py:1712: FutureWarning: The `numpy.quantile` function is not implemented by Dask array. You may want to use the da.map_blocks function or something similar to silence this warning. Your code may stop working in a future release.\n",
      "  warnings.warn(\n",
      "Applying normalize ...:  80%|████████  | 8/10 [00:00<00:00, 15.03it/s]c:\\Users\\kmk280\\.conda\\envs\\ultrack-env\\lib\\site-packages\\dask\\array\\core.py:1712: FutureWarning: The `numpy.quantile` function is not implemented by Dask array. You may want to use the da.map_blocks function or something similar to silence this warning. Your code may stop working in a future release.\n",
      "  warnings.warn(\n",
      "c:\\Users\\kmk280\\.conda\\envs\\ultrack-env\\lib\\site-packages\\dask\\array\\core.py:1712: FutureWarning: The `numpy.quantile` function is not implemented by Dask array. You may want to use the da.map_blocks function or something similar to silence this warning. Your code may stop working in a future release.\n",
      "  warnings.warn(\n",
      "c:\\Users\\kmk280\\.conda\\envs\\ultrack-env\\lib\\site-packages\\dask\\array\\core.py:1712: FutureWarning: The `numpy.quantile` function is not implemented by Dask array. You may want to use the da.map_blocks function or something similar to silence this warning. Your code may stop working in a future release.\n",
      "  warnings.warn(\n",
      "c:\\Users\\kmk280\\.conda\\envs\\ultrack-env\\lib\\site-packages\\dask\\array\\core.py:1712: FutureWarning: The `numpy.quantile` function is not implemented by Dask array. You may want to use the da.map_blocks function or something similar to silence this warning. Your code may stop working in a future release.\n",
      "  warnings.warn(\n",
      "Applying normalize ...: 100%|██████████| 10/10 [00:00<00:00, 14.89it/s]\n"
     ]
    }
   ],
   "source": [
    "chunks = (1, 512, 512)\n",
    "\n",
    "normalized = create_zarr(ch1_da.shape, np.float16, \"normalized.zarr\", chunks=chunks, overwrite=True)\n",
    "array_apply(\n",
    "    ch1_da,\n",
    "    out_array=normalized,\n",
    "    func=normalize,\n",
    "    gamma=0.5,\n",
    ")"
   ]
  },
  {
   "cell_type": "code",
   "execution_count": 35,
   "metadata": {},
   "outputs": [
    {
     "data": {
      "text/plain": [
       "device(type='cpu')"
      ]
     },
     "execution_count": 35,
     "metadata": {},
     "output_type": "execute_result"
    }
   ],
   "source": [
    "torch_default_device()"
   ]
  },
  {
   "cell_type": "code",
   "execution_count": 50,
   "metadata": {},
   "outputs": [
    {
     "name": "stderr",
     "output_type": "stream",
     "text": [
      "Applying Cellpose ...: 100%|██████████| 10/10 [00:11<00:00,  1.12s/it]\n"
     ]
    }
   ],
   "source": [
    "cellpose_labels = create_zarr(ch1_da.shape, np.uint32, \"240311_cellpose_labels.zarr\", chunks=chunks, overwrite=True)\n",
    "\n",
    "array_apply(\n",
    "    normalized,\n",
    "    out_array=cellpose_labels,\n",
    "    func=Cellpose(model_type=\"cyto2\", device=torch_default_device()),\n",
    "    tile=False,\n",
    "    normalize=False,\n",
    "    diameter = 50,\n",
    ")"
   ]
  },
  {
   "cell_type": "code",
   "execution_count": 51,
   "metadata": {},
   "outputs": [
    {
     "data": {
      "text/plain": [
       "(10, 500, 700)"
      ]
     },
     "execution_count": 51,
     "metadata": {},
     "output_type": "execute_result"
    }
   ],
   "source": [
    "zarr_masks_path2 = r'D:\\kasia\\tracking\\E6_exp\\code\\tracks_interactions\\examples\\240311_cellpose_labels.zarr'\n",
    "\n",
    "dask_masks2 = da.from_zarr(zarr_masks_path2)\n",
    "dask_masks2.shape"
   ]
  },
  {
   "cell_type": "code",
   "execution_count": 38,
   "metadata": {},
   "outputs": [
    {
     "name": "stderr",
     "output_type": "stream",
     "text": [
      "Converting labels to edges:   0%|          | 0/10 [00:00<?, ?it/s]"
     ]
    },
    {
     "name": "stderr",
     "output_type": "stream",
     "text": [
      "Converting labels to edges: 100%|██████████| 10/10 [00:00<00:00, 36.17it/s]\n"
     ]
    }
   ],
   "source": [
    "# test if it can be run from a list of labels\n",
    "\n",
    "detection2, edges2 = labels_to_edges(dask_masks2, \n",
    "                                   detection_store_or_path=\"detection2.zarr\", \n",
    "                                   edges_store_or_path=\"edges2.zarr\", \n",
    "                                   overwrite=True, \n",
    "                                   sigma=4.0)"
   ]
  },
  {
   "cell_type": "code",
   "execution_count": 2,
   "metadata": {},
   "outputs": [
    {
     "data": {
      "text/html": [
       "<pre style=\"white-space:pre;overflow-x:auto;line-height:normal;font-family:Menlo,'DejaVu Sans Mono',consolas,'Courier New',monospace\"><span style=\"color: #800080; text-decoration-color: #800080; font-weight: bold\">MainConfig</span><span style=\"font-weight: bold\">(</span>\n",
       "<span style=\"color: #7fbf7f; text-decoration-color: #7fbf7f\">│   </span><span style=\"color: #808000; text-decoration-color: #808000\">data_config</span>=<span style=\"color: #800080; text-decoration-color: #800080; font-weight: bold\">DataConfig</span><span style=\"font-weight: bold\">(</span><span style=\"color: #808000; text-decoration-color: #808000\">working_dir</span>=<span style=\"color: #800080; text-decoration-color: #800080; font-weight: bold\">WindowsPath</span><span style=\"font-weight: bold\">(</span><span style=\"color: #008000; text-decoration-color: #008000\">'.'</span><span style=\"font-weight: bold\">)</span>, <span style=\"color: #808000; text-decoration-color: #808000\">database</span>=<span style=\"color: #008000; text-decoration-color: #008000\">'sqlite'</span>, <span style=\"color: #808000; text-decoration-color: #808000\">address</span>=<span style=\"color: #800080; text-decoration-color: #800080; font-style: italic\">None</span>, <span style=\"color: #808000; text-decoration-color: #808000\">n_workers</span>=<span style=\"color: #008080; text-decoration-color: #008080; font-weight: bold\">1</span><span style=\"font-weight: bold\">)</span>,\n",
       "<span style=\"color: #7fbf7f; text-decoration-color: #7fbf7f\">│   </span><span style=\"color: #808000; text-decoration-color: #808000\">segmentation_config</span>=<span style=\"color: #800080; text-decoration-color: #800080; font-weight: bold\">SegmentationConfig</span><span style=\"font-weight: bold\">(</span>\n",
       "<span style=\"color: #7fbf7f; text-decoration-color: #7fbf7f\">│   │   </span><span style=\"color: #808000; text-decoration-color: #808000\">threshold</span>=<span style=\"color: #008080; text-decoration-color: #008080; font-weight: bold\">0.5</span>,\n",
       "<span style=\"color: #7fbf7f; text-decoration-color: #7fbf7f\">│   │   </span><span style=\"color: #808000; text-decoration-color: #808000\">min_area</span>=<span style=\"color: #008080; text-decoration-color: #008080; font-weight: bold\">400</span>,\n",
       "<span style=\"color: #7fbf7f; text-decoration-color: #7fbf7f\">│   │   </span><span style=\"color: #808000; text-decoration-color: #808000\">max_area</span>=<span style=\"color: #008080; text-decoration-color: #008080; font-weight: bold\">2000</span>,\n",
       "<span style=\"color: #7fbf7f; text-decoration-color: #7fbf7f\">│   │   </span><span style=\"color: #808000; text-decoration-color: #808000\">min_frontier</span>=<span style=\"color: #008080; text-decoration-color: #008080; font-weight: bold\">0.1</span>,\n",
       "<span style=\"color: #7fbf7f; text-decoration-color: #7fbf7f\">│   │   </span><span style=\"color: #808000; text-decoration-color: #808000\">anisotropy_penalization</span>=<span style=\"color: #008080; text-decoration-color: #008080; font-weight: bold\">0.0</span>,\n",
       "<span style=\"color: #7fbf7f; text-decoration-color: #7fbf7f\">│   │   </span><span style=\"color: #808000; text-decoration-color: #808000\">max_noise</span>=<span style=\"color: #008080; text-decoration-color: #008080; font-weight: bold\">0.0</span>,\n",
       "<span style=\"color: #7fbf7f; text-decoration-color: #7fbf7f\">│   │   </span><span style=\"color: #808000; text-decoration-color: #808000\">ws_hierarchy</span>=<span style=\"font-weight: bold\">&lt;</span><span style=\"color: #ff00ff; text-decoration-color: #ff00ff; font-weight: bold\">function</span><span style=\"color: #000000; text-decoration-color: #000000\"> watershed_hierarchy_by_area at </span><span style=\"color: #008080; text-decoration-color: #008080; font-weight: bold\">0x000001D6EF4CAEF0</span><span style=\"font-weight: bold\">&gt;</span>,\n",
       "<span style=\"color: #7fbf7f; text-decoration-color: #7fbf7f\">│   │   </span><span style=\"color: #808000; text-decoration-color: #808000\">n_workers</span>=<span style=\"color: #008080; text-decoration-color: #008080; font-weight: bold\">10</span>\n",
       "<span style=\"color: #7fbf7f; text-decoration-color: #7fbf7f\">│   </span><span style=\"font-weight: bold\">)</span>,\n",
       "<span style=\"color: #7fbf7f; text-decoration-color: #7fbf7f\">│   </span><span style=\"color: #808000; text-decoration-color: #808000\">linking_config</span>=<span style=\"color: #800080; text-decoration-color: #800080; font-weight: bold\">LinkingConfig</span><span style=\"font-weight: bold\">(</span>\n",
       "<span style=\"color: #7fbf7f; text-decoration-color: #7fbf7f\">│   │   </span><span style=\"color: #808000; text-decoration-color: #808000\">n_workers</span>=<span style=\"color: #008080; text-decoration-color: #008080; font-weight: bold\">10</span>,\n",
       "<span style=\"color: #7fbf7f; text-decoration-color: #7fbf7f\">│   │   </span><span style=\"color: #808000; text-decoration-color: #808000\">max_neighbors</span>=<span style=\"color: #008080; text-decoration-color: #008080; font-weight: bold\">5</span>,\n",
       "<span style=\"color: #7fbf7f; text-decoration-color: #7fbf7f\">│   │   </span><span style=\"color: #808000; text-decoration-color: #808000\">max_distance</span>=<span style=\"color: #008080; text-decoration-color: #008080; font-weight: bold\">25</span>,\n",
       "<span style=\"color: #7fbf7f; text-decoration-color: #7fbf7f\">│   │   </span><span style=\"color: #808000; text-decoration-color: #808000\">distance_weight</span>=<span style=\"color: #008080; text-decoration-color: #008080; font-weight: bold\">0.0</span>,\n",
       "<span style=\"color: #7fbf7f; text-decoration-color: #7fbf7f\">│   │   </span><span style=\"color: #808000; text-decoration-color: #808000\">z_score_threshold</span>=<span style=\"color: #008080; text-decoration-color: #008080; font-weight: bold\">5.0</span>\n",
       "<span style=\"color: #7fbf7f; text-decoration-color: #7fbf7f\">│   </span><span style=\"font-weight: bold\">)</span>,\n",
       "<span style=\"color: #7fbf7f; text-decoration-color: #7fbf7f\">│   </span><span style=\"color: #808000; text-decoration-color: #808000\">tracking_config</span>=<span style=\"color: #800080; text-decoration-color: #800080; font-weight: bold\">TrackingConfig</span><span style=\"font-weight: bold\">(</span>\n",
       "<span style=\"color: #7fbf7f; text-decoration-color: #7fbf7f\">│   │   </span><span style=\"color: #808000; text-decoration-color: #808000\">appear_weight</span>=<span style=\"color: #008080; text-decoration-color: #008080; font-weight: bold\">-1</span>,\n",
       "<span style=\"color: #7fbf7f; text-decoration-color: #7fbf7f\">│   │   </span><span style=\"color: #808000; text-decoration-color: #808000\">disappear_weight</span>=<span style=\"color: #008080; text-decoration-color: #008080; font-weight: bold\">-1</span>,\n",
       "<span style=\"color: #7fbf7f; text-decoration-color: #7fbf7f\">│   │   </span><span style=\"color: #808000; text-decoration-color: #808000\">division_weight</span>=<span style=\"color: #008080; text-decoration-color: #008080; font-weight: bold\">-0.1</span>,\n",
       "<span style=\"color: #7fbf7f; text-decoration-color: #7fbf7f\">│   │   </span><span style=\"color: #808000; text-decoration-color: #808000\">dismiss_weight_guess</span>=<span style=\"color: #800080; text-decoration-color: #800080; font-style: italic\">None</span>,\n",
       "<span style=\"color: #7fbf7f; text-decoration-color: #7fbf7f\">│   │   </span><span style=\"color: #808000; text-decoration-color: #808000\">include_weight_guess</span>=<span style=\"color: #800080; text-decoration-color: #800080; font-style: italic\">None</span>,\n",
       "<span style=\"color: #7fbf7f; text-decoration-color: #7fbf7f\">│   │   </span><span style=\"color: #808000; text-decoration-color: #808000\">window_size</span>=<span style=\"color: #008080; text-decoration-color: #008080; font-weight: bold\">50</span>,\n",
       "<span style=\"color: #7fbf7f; text-decoration-color: #7fbf7f\">│   │   </span><span style=\"color: #808000; text-decoration-color: #808000\">overlap_size</span>=<span style=\"color: #008080; text-decoration-color: #008080; font-weight: bold\">5</span>,\n",
       "<span style=\"color: #7fbf7f; text-decoration-color: #7fbf7f\">│   │   </span><span style=\"color: #808000; text-decoration-color: #808000\">solution_gap</span>=<span style=\"color: #008080; text-decoration-color: #008080; font-weight: bold\">0.0</span>,\n",
       "<span style=\"color: #7fbf7f; text-decoration-color: #7fbf7f\">│   │   </span><span style=\"color: #808000; text-decoration-color: #808000\">time_limit</span>=<span style=\"color: #008080; text-decoration-color: #008080; font-weight: bold\">36000</span>,\n",
       "<span style=\"color: #7fbf7f; text-decoration-color: #7fbf7f\">│   │   </span><span style=\"color: #808000; text-decoration-color: #808000\">method</span>=<span style=\"color: #008080; text-decoration-color: #008080; font-weight: bold\">0</span>,\n",
       "<span style=\"color: #7fbf7f; text-decoration-color: #7fbf7f\">│   │   </span><span style=\"color: #808000; text-decoration-color: #808000\">n_threads</span>=<span style=\"color: #008080; text-decoration-color: #008080; font-weight: bold\">-1</span>,\n",
       "<span style=\"color: #7fbf7f; text-decoration-color: #7fbf7f\">│   │   </span><span style=\"color: #808000; text-decoration-color: #808000\">link_function</span>=<span style=\"color: #008000; text-decoration-color: #008000\">'power'</span>,\n",
       "<span style=\"color: #7fbf7f; text-decoration-color: #7fbf7f\">│   │   </span><span style=\"color: #808000; text-decoration-color: #808000\">power</span>=<span style=\"color: #008080; text-decoration-color: #008080; font-weight: bold\">4</span>,\n",
       "<span style=\"color: #7fbf7f; text-decoration-color: #7fbf7f\">│   │   </span><span style=\"color: #808000; text-decoration-color: #808000\">bias</span>=<span style=\"color: #008080; text-decoration-color: #008080; font-weight: bold\">-0.001</span>\n",
       "<span style=\"color: #7fbf7f; text-decoration-color: #7fbf7f\">│   </span><span style=\"font-weight: bold\">)</span>\n",
       "<span style=\"font-weight: bold\">)</span>\n",
       "</pre>\n"
      ],
      "text/plain": [
       "\u001b[1;35mMainConfig\u001b[0m\u001b[1m(\u001b[0m\n",
       "\u001b[2;32m│   \u001b[0m\u001b[33mdata_config\u001b[0m=\u001b[1;35mDataConfig\u001b[0m\u001b[1m(\u001b[0m\u001b[33mworking_dir\u001b[0m=\u001b[1;35mWindowsPath\u001b[0m\u001b[1m(\u001b[0m\u001b[32m'.'\u001b[0m\u001b[1m)\u001b[0m, \u001b[33mdatabase\u001b[0m=\u001b[32m'sqlite'\u001b[0m, \u001b[33maddress\u001b[0m=\u001b[3;35mNone\u001b[0m, \u001b[33mn_workers\u001b[0m=\u001b[1;36m1\u001b[0m\u001b[1m)\u001b[0m,\n",
       "\u001b[2;32m│   \u001b[0m\u001b[33msegmentation_config\u001b[0m=\u001b[1;35mSegmentationConfig\u001b[0m\u001b[1m(\u001b[0m\n",
       "\u001b[2;32m│   │   \u001b[0m\u001b[33mthreshold\u001b[0m=\u001b[1;36m0\u001b[0m\u001b[1;36m.5\u001b[0m,\n",
       "\u001b[2;32m│   │   \u001b[0m\u001b[33mmin_area\u001b[0m=\u001b[1;36m400\u001b[0m,\n",
       "\u001b[2;32m│   │   \u001b[0m\u001b[33mmax_area\u001b[0m=\u001b[1;36m2000\u001b[0m,\n",
       "\u001b[2;32m│   │   \u001b[0m\u001b[33mmin_frontier\u001b[0m=\u001b[1;36m0\u001b[0m\u001b[1;36m.1\u001b[0m,\n",
       "\u001b[2;32m│   │   \u001b[0m\u001b[33manisotropy_penalization\u001b[0m=\u001b[1;36m0\u001b[0m\u001b[1;36m.0\u001b[0m,\n",
       "\u001b[2;32m│   │   \u001b[0m\u001b[33mmax_noise\u001b[0m=\u001b[1;36m0\u001b[0m\u001b[1;36m.0\u001b[0m,\n",
       "\u001b[2;32m│   │   \u001b[0m\u001b[33mws_hierarchy\u001b[0m=\u001b[1m<\u001b[0m\u001b[1;95mfunction\u001b[0m\u001b[39m watershed_hierarchy_by_area at \u001b[0m\u001b[1;36m0x000001D6EF4CAEF0\u001b[0m\u001b[1m>\u001b[0m,\n",
       "\u001b[2;32m│   │   \u001b[0m\u001b[33mn_workers\u001b[0m=\u001b[1;36m10\u001b[0m\n",
       "\u001b[2;32m│   \u001b[0m\u001b[1m)\u001b[0m,\n",
       "\u001b[2;32m│   \u001b[0m\u001b[33mlinking_config\u001b[0m=\u001b[1;35mLinkingConfig\u001b[0m\u001b[1m(\u001b[0m\n",
       "\u001b[2;32m│   │   \u001b[0m\u001b[33mn_workers\u001b[0m=\u001b[1;36m10\u001b[0m,\n",
       "\u001b[2;32m│   │   \u001b[0m\u001b[33mmax_neighbors\u001b[0m=\u001b[1;36m5\u001b[0m,\n",
       "\u001b[2;32m│   │   \u001b[0m\u001b[33mmax_distance\u001b[0m=\u001b[1;36m25\u001b[0m,\n",
       "\u001b[2;32m│   │   \u001b[0m\u001b[33mdistance_weight\u001b[0m=\u001b[1;36m0\u001b[0m\u001b[1;36m.0\u001b[0m,\n",
       "\u001b[2;32m│   │   \u001b[0m\u001b[33mz_score_threshold\u001b[0m=\u001b[1;36m5\u001b[0m\u001b[1;36m.0\u001b[0m\n",
       "\u001b[2;32m│   \u001b[0m\u001b[1m)\u001b[0m,\n",
       "\u001b[2;32m│   \u001b[0m\u001b[33mtracking_config\u001b[0m=\u001b[1;35mTrackingConfig\u001b[0m\u001b[1m(\u001b[0m\n",
       "\u001b[2;32m│   │   \u001b[0m\u001b[33mappear_weight\u001b[0m=\u001b[1;36m-1\u001b[0m,\n",
       "\u001b[2;32m│   │   \u001b[0m\u001b[33mdisappear_weight\u001b[0m=\u001b[1;36m-1\u001b[0m,\n",
       "\u001b[2;32m│   │   \u001b[0m\u001b[33mdivision_weight\u001b[0m=\u001b[1;36m-0.1\u001b[0m,\n",
       "\u001b[2;32m│   │   \u001b[0m\u001b[33mdismiss_weight_guess\u001b[0m=\u001b[3;35mNone\u001b[0m,\n",
       "\u001b[2;32m│   │   \u001b[0m\u001b[33minclude_weight_guess\u001b[0m=\u001b[3;35mNone\u001b[0m,\n",
       "\u001b[2;32m│   │   \u001b[0m\u001b[33mwindow_size\u001b[0m=\u001b[1;36m50\u001b[0m,\n",
       "\u001b[2;32m│   │   \u001b[0m\u001b[33moverlap_size\u001b[0m=\u001b[1;36m5\u001b[0m,\n",
       "\u001b[2;32m│   │   \u001b[0m\u001b[33msolution_gap\u001b[0m=\u001b[1;36m0\u001b[0m\u001b[1;36m.0\u001b[0m,\n",
       "\u001b[2;32m│   │   \u001b[0m\u001b[33mtime_limit\u001b[0m=\u001b[1;36m36000\u001b[0m,\n",
       "\u001b[2;32m│   │   \u001b[0m\u001b[33mmethod\u001b[0m=\u001b[1;36m0\u001b[0m,\n",
       "\u001b[2;32m│   │   \u001b[0m\u001b[33mn_threads\u001b[0m=\u001b[1;36m-1\u001b[0m,\n",
       "\u001b[2;32m│   │   \u001b[0m\u001b[33mlink_function\u001b[0m=\u001b[32m'power'\u001b[0m,\n",
       "\u001b[2;32m│   │   \u001b[0m\u001b[33mpower\u001b[0m=\u001b[1;36m4\u001b[0m,\n",
       "\u001b[2;32m│   │   \u001b[0m\u001b[33mbias\u001b[0m=\u001b[1;36m-0.001\u001b[0m\n",
       "\u001b[2;32m│   \u001b[0m\u001b[1m)\u001b[0m\n",
       "\u001b[1m)\u001b[0m\n"
      ]
     },
     "metadata": {},
     "output_type": "display_data"
    }
   ],
   "source": [
    "config = MainConfig()\n",
    "config.segmentation_config.min_area = 400\n",
    "config.segmentation_config.max_area = 2000\n",
    "config.segmentation_config.min_frontier = 0.1\n",
    "config.segmentation_config.n_workers = 10\n",
    "\n",
    "config.linking_config.max_distance = 25\n",
    "config.linking_config.n_workers = 10\n",
    "\n",
    "config.tracking_config.appear_weight = -1\n",
    "config.tracking_config.disappear_weight = -1\n",
    "config.tracking_config.division_weight = -0.1\n",
    "config.tracking_config.power = 4\n",
    "config.tracking_config.bias = -0.001\n",
    "config.tracking_config.solution_gap = 0.0\n",
    "\n",
    "config.tracking_config.window_size = 50\n",
    "config.tracking_config.overlap_size = 5\n",
    "\n",
    "pprint(config)"
   ]
  },
  {
   "cell_type": "code",
   "execution_count": 4,
   "metadata": {},
   "outputs": [],
   "source": [
    "detection = da.from_zarr(r'D:\\kasia\\tracking\\E6_exp\\double_segmentation_det_edges\\240312_detection.zarr')#(r\"D:\\kasia\\tracking\\E6_exp\\code\\tests\\detection.zarr\")\n",
    "edges = da.from_zarr(r'D:\\kasia\\tracking\\E6_exp\\double_segmentation_det_edges\\240312_edges.zarr')#(r\"D:\\kasia\\tracking\\E6_exp\\code\\tests\\edges.zarr\")\n"
   ]
  },
  {
   "cell_type": "code",
   "execution_count": 5,
   "metadata": {},
   "outputs": [
    {
     "name": "stderr",
     "output_type": "stream",
     "text": [
      "Adding nodes to database: 100%|██████████| 240/240 [32:48<00:00,  8.20s/it]\n",
      "Linking nodes.: 100%|██████████| 239/239 [01:07<00:00,  3.54it/s]\n"
     ]
    },
    {
     "name": "stdout",
     "output_type": "stream",
     "text": [
      "Using Gurobi solver\n",
      "Solving ILP batch 0\n",
      "Constructing ILP ...\n",
      "Solving ILP ...\n",
      "Saving solution ...\n",
      "Done!\n",
      "Using Gurobi solver\n",
      "Solving ILP batch 2\n",
      "Constructing ILP ...\n",
      "Solving ILP ...\n",
      "Saving solution ...\n",
      "Done!\n",
      "Using Gurobi solver\n",
      "Solving ILP batch 4\n",
      "Constructing ILP ...\n",
      "Solving ILP ...\n",
      "Saving solution ...\n",
      "Done!\n",
      "Using Gurobi solver\n",
      "Solving ILP batch 1\n",
      "Constructing ILP ...\n",
      "Solving ILP ...\n",
      "Saving solution ...\n",
      "Done!\n",
      "Using Gurobi solver\n",
      "Solving ILP batch 3\n",
      "Constructing ILP ...\n",
      "Solving ILP ...\n",
      "Saving solution ...\n",
      "Done!\n"
     ]
    }
   ],
   "source": [
    "# tracking directly from the labels\n",
    "# may require more memory to keep edges in\n",
    "track(\n",
    "    detection=detection,\n",
    "    edges=edges,\n",
    "    config=config,\n",
    "    overwrite=True, #\"solutions\" - to recalculate from the database\n",
    ")"
   ]
  },
  {
   "cell_type": "code",
   "execution_count": 53,
   "metadata": {},
   "outputs": [
    {
     "name": "stderr",
     "output_type": "stream",
     "text": [
      "Converting labels to edges: 100%|██████████| 10/10 [00:00<00:00, 17.06it/s]\n",
      "WARNING:ultrack.core.segmentation.processing:Found zarr with MemoryStore. Using an zarr with MemoryStore can lead to considerable memory usage.\n",
      "WARNING:ultrack.core.segmentation.processing:Found zarr with MemoryStore. Using an zarr with MemoryStore can lead to considerable memory usage.\n",
      "Adding nodes to database: 100%|██████████| 10/10 [00:10<00:00,  1.00s/it]\n",
      "Linking nodes.: 100%|██████████| 9/9 [00:10<00:00,  1.13s/it]\n"
     ]
    },
    {
     "name": "stdout",
     "output_type": "stream",
     "text": [
      "Using Gurobi solver\n",
      "Solving ILP batch 0\n",
      "Constructing ILP ...\n",
      "Solving ILP ...\n",
      "Saving solution ...\n",
      "Done!\n"
     ]
    }
   ],
   "source": [
    "# track(\n",
    "#     labels= [dask_masks, dask_masks2],\n",
    "#     config=config,\n",
    "#     overwrite=True,\n",
    "# )"
   ]
  },
  {
   "cell_type": "code",
   "execution_count": 6,
   "metadata": {},
   "outputs": [
    {
     "name": "stderr",
     "output_type": "stream",
     "text": [
      "c:\\Users\\kmk280\\.conda\\envs\\ultrack-env\\lib\\site-packages\\numba\\typed\\typeddict.py:39: NumbaTypeSafetyWarning: \u001b[1m\u001b[1m\u001b[1munsafe cast from int64 to int32. Precision may be lost.\u001b[0m\u001b[0m\u001b[0m\n",
      "  return d[key]\n",
      "Exporting segmentation masks: 100%|██████████| 240/240 [03:03<00:00,  1.31it/s]\n"
     ]
    }
   ],
   "source": [
    "tracks_df, graph = to_tracks_layer(config)\n",
    "labels = tracks_to_zarr(config, tracks_df)"
   ]
  },
  {
   "cell_type": "code",
   "execution_count": 7,
   "metadata": {},
   "outputs": [
    {
     "data": {
      "text/plain": [
       "<zarr.core.Array (240, 8395, 8400) int32>"
      ]
     },
     "execution_count": 7,
     "metadata": {},
     "output_type": "execute_result"
    }
   ],
   "source": [
    "labels"
   ]
  },
  {
   "cell_type": "code",
   "execution_count": 3,
   "metadata": {},
   "outputs": [],
   "source": [
    "import zarr\n",
    "from rechunker import rechunk\n",
    "from numcodecs import Blosc\n",
    "import dask.array as da"
   ]
  },
  {
   "cell_type": "code",
   "execution_count": 32,
   "metadata": {},
   "outputs": [
    {
     "data": {
      "text/plain": [
       "<zarr.core.Array (240, 8395, 8400) int32>"
      ]
     },
     "execution_count": 32,
     "metadata": {},
     "output_type": "execute_result"
    }
   ],
   "source": [
    "target_path = r'D:\\kasia\\tracking\\zarr_tests\\labels_double_1024.zarr'\n",
    "\n",
    "# Define the target store and array parameters\n",
    "target_store = zarr.DirectoryStore(target_path, dimension_separator=\"/\") \n",
    "target_chunks = (1, 1024, 1024)  # New chunk shape\n",
    "\n",
    "compressor = Blosc(cname='lz4', clevel=5, shuffle=Blosc.SHUFFLE, blocksize=0)\n",
    "\n",
    "rechunked = rechunk(labels, \n",
    "                    max_mem=500000000,\n",
    "                    target_chunks=target_chunks, \n",
    "                    target_store=target_store,\n",
    "                    target_options={'compressor': compressor},\n",
    "                    )\n",
    "\n",
    "rechunked.execute()"
   ]
  },
  {
   "cell_type": "code",
   "execution_count": 5,
   "metadata": {},
   "outputs": [
    {
     "data": {
      "text/plain": [
       "(240, 8395, 8400)"
      ]
     },
     "execution_count": 5,
     "metadata": {},
     "output_type": "execute_result"
    }
   ],
   "source": [
    "target_path = r'D:\\kasia\\tracking\\E6_exp\\double_segmentation_ultrack\\labels_double_1024.zarr'\n",
    "labels = da.from_zarr(target_path)\n",
    "labels.shape"
   ]
  },
  {
   "cell_type": "code",
   "execution_count": 12,
   "metadata": {},
   "outputs": [
    {
     "data": {
      "text/plain": [
       "<zarr.core.Array (240, 8395, 8400) int32>"
      ]
     },
     "execution_count": 12,
     "metadata": {},
     "output_type": "execute_result"
    }
   ],
   "source": [
    "target_path = r'D:\\kasia\\tracking\\E6_exp\\double_segmentation_ultrack\\labels_double_flat.zarr'\n",
    "labels_path = r'D:\\kasia\\tracking\\E6_exp\\double_segmentation_ultrack\\temp_store.zarr'\n",
    "labels = zarr.open(labels_path, mode='r')\n",
    "\n",
    "target_store = zarr.DirectoryStore(target_path, dimension_separator=\".\") \n",
    "target_chunks = (1, labels.shape[1], labels.shape[2])  # New chunk shape\n",
    "\n",
    "compressor = Blosc(cname='lz4', clevel=5, shuffle=Blosc.SHUFFLE, blocksize=0)\n",
    "\n",
    "rechunked = rechunk(labels, \n",
    "                    max_mem=500000000,\n",
    "                    target_chunks=target_chunks, \n",
    "                    target_store=target_store,\n",
    "                    target_options={'compressor': compressor},\n",
    "                    )\n",
    "\n",
    "rechunked.execute()"
   ]
  },
  {
   "cell_type": "code",
   "execution_count": 14,
   "metadata": {},
   "outputs": [
    {
     "data": {
      "text/html": [
       "<table class=\"zarr-info\"><tbody><tr><th style=\"text-align: left\">Type</th><td style=\"text-align: left\">zarr.core.Array</td></tr><tr><th style=\"text-align: left\">Data type</th><td style=\"text-align: left\">int32</td></tr><tr><th style=\"text-align: left\">Shape</th><td style=\"text-align: left\">(240, 8395, 8400)</td></tr><tr><th style=\"text-align: left\">Chunk shape</th><td style=\"text-align: left\">(1, 8395, 8400)</td></tr><tr><th style=\"text-align: left\">Order</th><td style=\"text-align: left\">C</td></tr><tr><th style=\"text-align: left\">Read-only</th><td style=\"text-align: left\">False</td></tr><tr><th style=\"text-align: left\">Compressor</th><td style=\"text-align: left\">Blosc(cname='lz4', clevel=5, shuffle=SHUFFLE, blocksize=0)</td></tr><tr><th style=\"text-align: left\">Store type</th><td style=\"text-align: left\">zarr.storage.TempStore</td></tr><tr><th style=\"text-align: left\">No. bytes</th><td style=\"text-align: left\">67697280000 (63.0G)</td></tr><tr><th style=\"text-align: left\">No. bytes stored</th><td style=\"text-align: left\">1759328863 (1.6G)</td></tr><tr><th style=\"text-align: left\">Storage ratio</th><td style=\"text-align: left\">38.5</td></tr><tr><th style=\"text-align: left\">Chunks initialized</th><td style=\"text-align: left\">240/240</td></tr></tbody></table>"
      ],
      "text/plain": [
       "Type               : zarr.core.Array\n",
       "Data type          : int32\n",
       "Shape              : (240, 8395, 8400)\n",
       "Chunk shape        : (1, 8395, 8400)\n",
       "Order              : C\n",
       "Read-only          : False\n",
       "Compressor         : Blosc(cname='lz4', clevel=5, shuffle=SHUFFLE, blocksize=0)\n",
       "Store type         : zarr.storage.TempStore\n",
       "No. bytes          : 67697280000 (63.0G)\n",
       "No. bytes stored   : 1759328863 (1.6G)\n",
       "Storage ratio      : 38.5\n",
       "Chunks initialized : 240/240"
      ]
     },
     "execution_count": 14,
     "metadata": {},
     "output_type": "execute_result"
    }
   ],
   "source": [
    "labels.info"
   ]
  },
  {
   "cell_type": "code",
   "execution_count": null,
   "metadata": {},
   "outputs": [],
   "source": []
  },
  {
   "cell_type": "code",
   "execution_count": 13,
   "metadata": {},
   "outputs": [
    {
     "ename": "KeyboardInterrupt",
     "evalue": "",
     "output_type": "error",
     "traceback": [
      "\u001b[1;31m---------------------------------------------------------------------------\u001b[0m",
      "\u001b[1;31mKeyboardInterrupt\u001b[0m                         Traceback (most recent call last)",
      "Cell \u001b[1;32mIn[13], line 20\u001b[0m\n\u001b[0;32m     17\u001b[0m root \u001b[38;5;241m=\u001b[39m zarr\u001b[38;5;241m.\u001b[39mgroup(store\u001b[38;5;241m=\u001b[39mstore)\n\u001b[0;32m     19\u001b[0m \u001b[38;5;66;03m# it will fail if the store already contains arrays\u001b[39;00m\n\u001b[1;32m---> 20\u001b[0m \u001b[43mwrite_image\u001b[49m\u001b[43m(\u001b[49m\u001b[43mimage\u001b[49m\u001b[38;5;241;43m=\u001b[39;49m\u001b[43mlabels\u001b[49m\u001b[43m,\u001b[49m\u001b[43m \u001b[49m\u001b[43mgroup\u001b[49m\u001b[38;5;241;43m=\u001b[39;49m\u001b[43mroot\u001b[49m\u001b[43m,\u001b[49m\u001b[43m \u001b[49m\u001b[43maxes\u001b[49m\u001b[38;5;241;43m=\u001b[39;49m\u001b[38;5;124;43m\"\u001b[39;49m\u001b[38;5;124;43mtyx\u001b[39;49m\u001b[38;5;124;43m\"\u001b[39;49m\u001b[43m,\u001b[49m\u001b[43m \u001b[49m\u001b[43mstorage_options\u001b[49m\u001b[38;5;241;43m=\u001b[39;49m\u001b[38;5;28;43mdict\u001b[39;49m\u001b[43m(\u001b[49m\u001b[43mchunks\u001b[49m\u001b[38;5;241;43m=\u001b[39;49m\u001b[43m(\u001b[49m\u001b[43msize_t\u001b[49m\u001b[43m,\u001b[49m\u001b[43msize_xy\u001b[49m\u001b[43m,\u001b[49m\u001b[43m \u001b[49m\u001b[43msize_xy\u001b[49m\u001b[43m)\u001b[49m\u001b[43m,\u001b[49m\u001b[43mcompressor\u001b[49m\u001b[38;5;241;43m=\u001b[39;49m\u001b[43mcompressor\u001b[49m\u001b[43m)\u001b[49m\u001b[43m)\u001b[49m\n",
      "File \u001b[1;32mc:\\Users\\kmk280\\.conda\\envs\\ultrack-env\\lib\\site-packages\\ome_zarr\\writer.py:492\u001b[0m, in \u001b[0;36mwrite_image\u001b[1;34m(image, group, scaler, chunks, fmt, axes, coordinate_transformations, storage_options, compute, **metadata)\u001b[0m\n\u001b[0;32m    490\u001b[0m \u001b[38;5;28;01melse\u001b[39;00m:\n\u001b[0;32m    491\u001b[0m     mip, axes \u001b[38;5;241m=\u001b[39m _create_mip(image, fmt, scaler, axes)\n\u001b[1;32m--> 492\u001b[0m     dask_delayed_jobs \u001b[38;5;241m=\u001b[39m write_multiscale(\n\u001b[0;32m    493\u001b[0m         mip,\n\u001b[0;32m    494\u001b[0m         group,\n\u001b[0;32m    495\u001b[0m         chunks\u001b[38;5;241m=\u001b[39mchunks,\n\u001b[0;32m    496\u001b[0m         fmt\u001b[38;5;241m=\u001b[39mfmt,\n\u001b[0;32m    497\u001b[0m         axes\u001b[38;5;241m=\u001b[39maxes,\n\u001b[0;32m    498\u001b[0m         coordinate_transformations\u001b[38;5;241m=\u001b[39mcoordinate_transformations,\n\u001b[0;32m    499\u001b[0m         storage_options\u001b[38;5;241m=\u001b[39mstorage_options,\n\u001b[0;32m    500\u001b[0m         name\u001b[38;5;241m=\u001b[39m\u001b[38;5;28;01mNone\u001b[39;00m,\n\u001b[0;32m    501\u001b[0m         compute\u001b[38;5;241m=\u001b[39mcompute,\n\u001b[0;32m    502\u001b[0m         \u001b[38;5;241m*\u001b[39m\u001b[38;5;241m*\u001b[39mmetadata,\n\u001b[0;32m    503\u001b[0m     )\n\u001b[0;32m    505\u001b[0m \u001b[38;5;28;01mreturn\u001b[39;00m dask_delayed_jobs\n",
      "File \u001b[1;32mc:\\Users\\kmk280\\.conda\\envs\\ultrack-env\\lib\\site-packages\\ome_zarr\\writer.py:266\u001b[0m, in \u001b[0;36mwrite_multiscale\u001b[1;34m(pyramid, group, chunks, fmt, axes, coordinate_transformations, storage_options, name, compute, **metadata)\u001b[0m\n\u001b[0;32m    263\u001b[0m             dask_delayed\u001b[38;5;241m.\u001b[39mappend(da_delayed)\n\u001b[0;32m    265\u001b[0m     \u001b[38;5;28;01melse\u001b[39;00m:\n\u001b[1;32m--> 266\u001b[0m         group\u001b[38;5;241m.\u001b[39mcreate_dataset(\u001b[38;5;28mstr\u001b[39m(path), data\u001b[38;5;241m=\u001b[39mdata, chunks\u001b[38;5;241m=\u001b[39mchunks_opt, \u001b[38;5;241m*\u001b[39m\u001b[38;5;241m*\u001b[39moptions)\n\u001b[0;32m    268\u001b[0m     datasets\u001b[38;5;241m.\u001b[39mappend({\u001b[38;5;124m\"\u001b[39m\u001b[38;5;124mpath\u001b[39m\u001b[38;5;124m\"\u001b[39m: \u001b[38;5;28mstr\u001b[39m(path)})\n\u001b[0;32m    270\u001b[0m \u001b[38;5;28;01mif\u001b[39;00m coordinate_transformations \u001b[38;5;129;01mis\u001b[39;00m \u001b[38;5;28;01mNone\u001b[39;00m:\n",
      "File \u001b[1;32mc:\\Users\\kmk280\\.conda\\envs\\ultrack-env\\lib\\site-packages\\zarr\\hierarchy.py:1093\u001b[0m, in \u001b[0;36mGroup.create_dataset\u001b[1;34m(self, name, **kwargs)\u001b[0m\n\u001b[0;32m   1034\u001b[0m \u001b[38;5;250m\u001b[39m\u001b[38;5;124;03m\"\"\"Create an array.\u001b[39;00m\n\u001b[0;32m   1035\u001b[0m \n\u001b[0;32m   1036\u001b[0m \u001b[38;5;124;03mArrays are known as \"datasets\" in HDF5 terminology. For compatibility\u001b[39;00m\n\u001b[1;32m   (...)\u001b[0m\n\u001b[0;32m   1089\u001b[0m \n\u001b[0;32m   1090\u001b[0m \u001b[38;5;124;03m\"\"\"\u001b[39;00m\n\u001b[0;32m   1091\u001b[0m \u001b[38;5;28;01massert\u001b[39;00m \u001b[38;5;124m\"\u001b[39m\u001b[38;5;124mmode\u001b[39m\u001b[38;5;124m\"\u001b[39m \u001b[38;5;129;01mnot\u001b[39;00m \u001b[38;5;129;01min\u001b[39;00m kwargs\n\u001b[1;32m-> 1093\u001b[0m \u001b[38;5;28;01mreturn\u001b[39;00m \u001b[38;5;28mself\u001b[39m\u001b[38;5;241m.\u001b[39m_write_op(\u001b[38;5;28mself\u001b[39m\u001b[38;5;241m.\u001b[39m_create_dataset_nosync, name, \u001b[38;5;241m*\u001b[39m\u001b[38;5;241m*\u001b[39mkwargs)\n",
      "File \u001b[1;32mc:\\Users\\kmk280\\.conda\\envs\\ultrack-env\\lib\\site-packages\\zarr\\hierarchy.py:934\u001b[0m, in \u001b[0;36mGroup._write_op\u001b[1;34m(self, f, *args, **kwargs)\u001b[0m\n\u001b[0;32m    931\u001b[0m     lock \u001b[38;5;241m=\u001b[39m \u001b[38;5;28mself\u001b[39m\u001b[38;5;241m.\u001b[39m_synchronizer[group_meta_key]\n\u001b[0;32m    933\u001b[0m \u001b[38;5;28;01mwith\u001b[39;00m lock:\n\u001b[1;32m--> 934\u001b[0m     \u001b[38;5;28;01mreturn\u001b[39;00m f(\u001b[38;5;241m*\u001b[39margs, \u001b[38;5;241m*\u001b[39m\u001b[38;5;241m*\u001b[39mkwargs)\n",
      "File \u001b[1;32mc:\\Users\\kmk280\\.conda\\envs\\ultrack-env\\lib\\site-packages\\zarr\\hierarchy.py:1108\u001b[0m, in \u001b[0;36mGroup._create_dataset_nosync\u001b[1;34m(self, name, data, **kwargs)\u001b[0m\n\u001b[0;32m   1105\u001b[0m     a \u001b[38;5;241m=\u001b[39m create(store\u001b[38;5;241m=\u001b[39m\u001b[38;5;28mself\u001b[39m\u001b[38;5;241m.\u001b[39m_store, path\u001b[38;5;241m=\u001b[39mpath, chunk_store\u001b[38;5;241m=\u001b[39m\u001b[38;5;28mself\u001b[39m\u001b[38;5;241m.\u001b[39m_chunk_store, \u001b[38;5;241m*\u001b[39m\u001b[38;5;241m*\u001b[39mkwargs)\n\u001b[0;32m   1107\u001b[0m \u001b[38;5;28;01melse\u001b[39;00m:\n\u001b[1;32m-> 1108\u001b[0m     a \u001b[38;5;241m=\u001b[39m array(data, store\u001b[38;5;241m=\u001b[39m\u001b[38;5;28mself\u001b[39m\u001b[38;5;241m.\u001b[39m_store, path\u001b[38;5;241m=\u001b[39mpath, chunk_store\u001b[38;5;241m=\u001b[39m\u001b[38;5;28mself\u001b[39m\u001b[38;5;241m.\u001b[39m_chunk_store, \u001b[38;5;241m*\u001b[39m\u001b[38;5;241m*\u001b[39mkwargs)\n\u001b[0;32m   1110\u001b[0m \u001b[38;5;28;01mreturn\u001b[39;00m a\n",
      "File \u001b[1;32mc:\\Users\\kmk280\\.conda\\envs\\ultrack-env\\lib\\site-packages\\zarr\\creation.py:444\u001b[0m, in \u001b[0;36marray\u001b[1;34m(data, **kwargs)\u001b[0m\n\u001b[0;32m    441\u001b[0m z \u001b[38;5;241m=\u001b[39m create(\u001b[38;5;241m*\u001b[39m\u001b[38;5;241m*\u001b[39mkwargs)\n\u001b[0;32m    443\u001b[0m \u001b[38;5;66;03m# fill with data\u001b[39;00m\n\u001b[1;32m--> 444\u001b[0m \u001b[43mz\u001b[49m\u001b[43m[\u001b[49m\u001b[38;5;241;43m.\u001b[39;49m\u001b[38;5;241;43m.\u001b[39;49m\u001b[38;5;241;43m.\u001b[39;49m\u001b[43m]\u001b[49m \u001b[38;5;241m=\u001b[39m data\n\u001b[0;32m    446\u001b[0m \u001b[38;5;66;03m# set read_only property afterwards\u001b[39;00m\n\u001b[0;32m    447\u001b[0m z\u001b[38;5;241m.\u001b[39mread_only \u001b[38;5;241m=\u001b[39m read_only\n",
      "File \u001b[1;32mc:\\Users\\kmk280\\.conda\\envs\\ultrack-env\\lib\\site-packages\\zarr\\core.py:1448\u001b[0m, in \u001b[0;36mArray.__setitem__\u001b[1;34m(self, selection, value)\u001b[0m\n\u001b[0;32m   1446\u001b[0m     \u001b[38;5;28mself\u001b[39m\u001b[38;5;241m.\u001b[39mset_orthogonal_selection(pure_selection, value, fields\u001b[38;5;241m=\u001b[39mfields)\n\u001b[0;32m   1447\u001b[0m \u001b[38;5;28;01melse\u001b[39;00m:\n\u001b[1;32m-> 1448\u001b[0m     \u001b[38;5;28;43mself\u001b[39;49m\u001b[38;5;241;43m.\u001b[39;49m\u001b[43mset_basic_selection\u001b[49m\u001b[43m(\u001b[49m\u001b[43mpure_selection\u001b[49m\u001b[43m,\u001b[49m\u001b[43m \u001b[49m\u001b[43mvalue\u001b[49m\u001b[43m,\u001b[49m\u001b[43m \u001b[49m\u001b[43mfields\u001b[49m\u001b[38;5;241;43m=\u001b[39;49m\u001b[43mfields\u001b[49m\u001b[43m)\u001b[49m\n",
      "File \u001b[1;32mc:\\Users\\kmk280\\.conda\\envs\\ultrack-env\\lib\\site-packages\\zarr\\core.py:1544\u001b[0m, in \u001b[0;36mArray.set_basic_selection\u001b[1;34m(self, selection, value, fields)\u001b[0m\n\u001b[0;32m   1542\u001b[0m     \u001b[38;5;28;01mreturn\u001b[39;00m \u001b[38;5;28mself\u001b[39m\u001b[38;5;241m.\u001b[39m_set_basic_selection_zd(selection, value, fields\u001b[38;5;241m=\u001b[39mfields)\n\u001b[0;32m   1543\u001b[0m \u001b[38;5;28;01melse\u001b[39;00m:\n\u001b[1;32m-> 1544\u001b[0m     \u001b[38;5;28;01mreturn\u001b[39;00m \u001b[38;5;28;43mself\u001b[39;49m\u001b[38;5;241;43m.\u001b[39;49m\u001b[43m_set_basic_selection_nd\u001b[49m\u001b[43m(\u001b[49m\u001b[43mselection\u001b[49m\u001b[43m,\u001b[49m\u001b[43m \u001b[49m\u001b[43mvalue\u001b[49m\u001b[43m,\u001b[49m\u001b[43m \u001b[49m\u001b[43mfields\u001b[49m\u001b[38;5;241;43m=\u001b[39;49m\u001b[43mfields\u001b[49m\u001b[43m)\u001b[49m\n",
      "File \u001b[1;32mc:\\Users\\kmk280\\.conda\\envs\\ultrack-env\\lib\\site-packages\\zarr\\core.py:1934\u001b[0m, in \u001b[0;36mArray._set_basic_selection_nd\u001b[1;34m(self, selection, value, fields)\u001b[0m\n\u001b[0;32m   1928\u001b[0m \u001b[38;5;28;01mdef\u001b[39;00m \u001b[38;5;21m_set_basic_selection_nd\u001b[39m(\u001b[38;5;28mself\u001b[39m, selection, value, fields\u001b[38;5;241m=\u001b[39m\u001b[38;5;28;01mNone\u001b[39;00m):\n\u001b[0;32m   1929\u001b[0m     \u001b[38;5;66;03m# implementation of __setitem__ for array with at least one dimension\u001b[39;00m\n\u001b[0;32m   1930\u001b[0m \n\u001b[0;32m   1931\u001b[0m     \u001b[38;5;66;03m# setup indexer\u001b[39;00m\n\u001b[0;32m   1932\u001b[0m     indexer \u001b[38;5;241m=\u001b[39m BasicIndexer(selection, \u001b[38;5;28mself\u001b[39m)\n\u001b[1;32m-> 1934\u001b[0m     \u001b[38;5;28;43mself\u001b[39;49m\u001b[38;5;241;43m.\u001b[39;49m\u001b[43m_set_selection\u001b[49m\u001b[43m(\u001b[49m\u001b[43mindexer\u001b[49m\u001b[43m,\u001b[49m\u001b[43m \u001b[49m\u001b[43mvalue\u001b[49m\u001b[43m,\u001b[49m\u001b[43m \u001b[49m\u001b[43mfields\u001b[49m\u001b[38;5;241;43m=\u001b[39;49m\u001b[43mfields\u001b[49m\u001b[43m)\u001b[49m\n",
      "File \u001b[1;32mc:\\Users\\kmk280\\.conda\\envs\\ultrack-env\\lib\\site-packages\\zarr\\core.py:1997\u001b[0m, in \u001b[0;36mArray._set_selection\u001b[1;34m(self, indexer, value, fields)\u001b[0m\n\u001b[0;32m   1995\u001b[0m     chunk_values\u001b[38;5;241m.\u001b[39mappend(value)\n\u001b[0;32m   1996\u001b[0m \u001b[38;5;28;01melse\u001b[39;00m:\n\u001b[1;32m-> 1997\u001b[0m     cv \u001b[38;5;241m=\u001b[39m \u001b[43mvalue\u001b[49m\u001b[43m[\u001b[49m\u001b[43mout_selection\u001b[49m\u001b[43m]\u001b[49m\n\u001b[0;32m   1998\u001b[0m     \u001b[38;5;66;03m# handle missing singleton dimensions\u001b[39;00m\n\u001b[0;32m   1999\u001b[0m     \u001b[38;5;28;01mif\u001b[39;00m indexer\u001b[38;5;241m.\u001b[39mdrop_axes:  \u001b[38;5;66;03m# pragma: no cover\u001b[39;00m\n",
      "File \u001b[1;32mc:\\Users\\kmk280\\.conda\\envs\\ultrack-env\\lib\\site-packages\\zarr\\core.py:794\u001b[0m, in \u001b[0;36mArray.__getitem__\u001b[1;34m(self, selection)\u001b[0m\n\u001b[0;32m    792\u001b[0m     result \u001b[38;5;241m=\u001b[39m \u001b[38;5;28mself\u001b[39m\u001b[38;5;241m.\u001b[39mvindex[selection]\n\u001b[0;32m    793\u001b[0m \u001b[38;5;28;01melif\u001b[39;00m is_pure_orthogonal_indexing(pure_selection, \u001b[38;5;28mself\u001b[39m\u001b[38;5;241m.\u001b[39mndim):\n\u001b[1;32m--> 794\u001b[0m     result \u001b[38;5;241m=\u001b[39m \u001b[38;5;28;43mself\u001b[39;49m\u001b[38;5;241;43m.\u001b[39;49m\u001b[43mget_orthogonal_selection\u001b[49m\u001b[43m(\u001b[49m\u001b[43mpure_selection\u001b[49m\u001b[43m,\u001b[49m\u001b[43m \u001b[49m\u001b[43mfields\u001b[49m\u001b[38;5;241;43m=\u001b[39;49m\u001b[43mfields\u001b[49m\u001b[43m)\u001b[49m\n\u001b[0;32m    795\u001b[0m \u001b[38;5;28;01melse\u001b[39;00m:\n\u001b[0;32m    796\u001b[0m     result \u001b[38;5;241m=\u001b[39m \u001b[38;5;28mself\u001b[39m\u001b[38;5;241m.\u001b[39mget_basic_selection(pure_selection, fields\u001b[38;5;241m=\u001b[39mfields)\n",
      "File \u001b[1;32mc:\\Users\\kmk280\\.conda\\envs\\ultrack-env\\lib\\site-packages\\zarr\\core.py:1076\u001b[0m, in \u001b[0;36mArray.get_orthogonal_selection\u001b[1;34m(self, selection, out, fields)\u001b[0m\n\u001b[0;32m   1073\u001b[0m \u001b[38;5;66;03m# setup indexer\u001b[39;00m\n\u001b[0;32m   1074\u001b[0m indexer \u001b[38;5;241m=\u001b[39m OrthogonalIndexer(selection, \u001b[38;5;28mself\u001b[39m)\n\u001b[1;32m-> 1076\u001b[0m \u001b[38;5;28;01mreturn\u001b[39;00m \u001b[38;5;28;43mself\u001b[39;49m\u001b[38;5;241;43m.\u001b[39;49m\u001b[43m_get_selection\u001b[49m\u001b[43m(\u001b[49m\u001b[43mindexer\u001b[49m\u001b[38;5;241;43m=\u001b[39;49m\u001b[43mindexer\u001b[49m\u001b[43m,\u001b[49m\u001b[43m \u001b[49m\u001b[43mout\u001b[49m\u001b[38;5;241;43m=\u001b[39;49m\u001b[43mout\u001b[49m\u001b[43m,\u001b[49m\u001b[43m \u001b[49m\u001b[43mfields\u001b[49m\u001b[38;5;241;43m=\u001b[39;49m\u001b[43mfields\u001b[49m\u001b[43m)\u001b[49m\n",
      "File \u001b[1;32mc:\\Users\\kmk280\\.conda\\envs\\ultrack-env\\lib\\site-packages\\zarr\\core.py:1339\u001b[0m, in \u001b[0;36mArray._get_selection\u001b[1;34m(self, indexer, out, fields)\u001b[0m\n\u001b[0;32m   1336\u001b[0m \u001b[38;5;28;01mif\u001b[39;00m math\u001b[38;5;241m.\u001b[39mprod(out_shape) \u001b[38;5;241m>\u001b[39m \u001b[38;5;241m0\u001b[39m:\n\u001b[0;32m   1337\u001b[0m     \u001b[38;5;66;03m# allow storage to get multiple items at once\u001b[39;00m\n\u001b[0;32m   1338\u001b[0m     lchunk_coords, lchunk_selection, lout_selection \u001b[38;5;241m=\u001b[39m \u001b[38;5;28mzip\u001b[39m(\u001b[38;5;241m*\u001b[39mindexer)\n\u001b[1;32m-> 1339\u001b[0m     \u001b[38;5;28;43mself\u001b[39;49m\u001b[38;5;241;43m.\u001b[39;49m\u001b[43m_chunk_getitems\u001b[49m\u001b[43m(\u001b[49m\n\u001b[0;32m   1340\u001b[0m \u001b[43m        \u001b[49m\u001b[43mlchunk_coords\u001b[49m\u001b[43m,\u001b[49m\n\u001b[0;32m   1341\u001b[0m \u001b[43m        \u001b[49m\u001b[43mlchunk_selection\u001b[49m\u001b[43m,\u001b[49m\n\u001b[0;32m   1342\u001b[0m \u001b[43m        \u001b[49m\u001b[43mout\u001b[49m\u001b[43m,\u001b[49m\n\u001b[0;32m   1343\u001b[0m \u001b[43m        \u001b[49m\u001b[43mlout_selection\u001b[49m\u001b[43m,\u001b[49m\n\u001b[0;32m   1344\u001b[0m \u001b[43m        \u001b[49m\u001b[43mdrop_axes\u001b[49m\u001b[38;5;241;43m=\u001b[39;49m\u001b[43mindexer\u001b[49m\u001b[38;5;241;43m.\u001b[39;49m\u001b[43mdrop_axes\u001b[49m\u001b[43m,\u001b[49m\n\u001b[0;32m   1345\u001b[0m \u001b[43m        \u001b[49m\u001b[43mfields\u001b[49m\u001b[38;5;241;43m=\u001b[39;49m\u001b[43mfields\u001b[49m\u001b[43m,\u001b[49m\n\u001b[0;32m   1346\u001b[0m \u001b[43m    \u001b[49m\u001b[43m)\u001b[49m\n\u001b[0;32m   1347\u001b[0m \u001b[38;5;28;01mif\u001b[39;00m out\u001b[38;5;241m.\u001b[39mshape:\n\u001b[0;32m   1348\u001b[0m     \u001b[38;5;28;01mreturn\u001b[39;00m out\n",
      "File \u001b[1;32mc:\\Users\\kmk280\\.conda\\envs\\ultrack-env\\lib\\site-packages\\zarr\\core.py:2173\u001b[0m, in \u001b[0;36mArray._chunk_getitems\u001b[1;34m(self, lchunk_coords, lchunk_selection, out, lout_selection, drop_axes, fields)\u001b[0m\n\u001b[0;32m   2171\u001b[0m     \u001b[38;5;28;01mif\u001b[39;00m \u001b[38;5;129;01mnot\u001b[39;00m \u001b[38;5;28misinstance\u001b[39m(\u001b[38;5;28mself\u001b[39m\u001b[38;5;241m.\u001b[39m_meta_array, np\u001b[38;5;241m.\u001b[39mndarray):\n\u001b[0;32m   2172\u001b[0m         contexts \u001b[38;5;241m=\u001b[39m ConstantMap(ckeys, constant\u001b[38;5;241m=\u001b[39mContext(meta_array\u001b[38;5;241m=\u001b[39m\u001b[38;5;28mself\u001b[39m\u001b[38;5;241m.\u001b[39m_meta_array))\n\u001b[1;32m-> 2173\u001b[0m     cdatas \u001b[38;5;241m=\u001b[39m \u001b[38;5;28;43mself\u001b[39;49m\u001b[38;5;241;43m.\u001b[39;49m\u001b[43mchunk_store\u001b[49m\u001b[38;5;241;43m.\u001b[39;49m\u001b[43mgetitems\u001b[49m\u001b[43m(\u001b[49m\u001b[43mckeys\u001b[49m\u001b[43m,\u001b[49m\u001b[43m \u001b[49m\u001b[43mcontexts\u001b[49m\u001b[38;5;241;43m=\u001b[39;49m\u001b[43mcontexts\u001b[49m\u001b[43m)\u001b[49m\n\u001b[0;32m   2175\u001b[0m \u001b[38;5;28;01mfor\u001b[39;00m ckey, chunk_select, out_select \u001b[38;5;129;01min\u001b[39;00m \u001b[38;5;28mzip\u001b[39m(ckeys, lchunk_selection, lout_selection):\n\u001b[0;32m   2176\u001b[0m     \u001b[38;5;28;01mif\u001b[39;00m ckey \u001b[38;5;129;01min\u001b[39;00m cdatas:\n",
      "File \u001b[1;32mc:\\Users\\kmk280\\.conda\\envs\\ultrack-env\\lib\\site-packages\\zarr\\_storage\\store.py:161\u001b[0m, in \u001b[0;36mBaseStore.getitems\u001b[1;34m(self, keys, contexts)\u001b[0m\n\u001b[0;32m    136\u001b[0m \u001b[38;5;28;01mdef\u001b[39;00m \u001b[38;5;21mgetitems\u001b[39m(\n\u001b[0;32m    137\u001b[0m     \u001b[38;5;28mself\u001b[39m, keys: Sequence[\u001b[38;5;28mstr\u001b[39m], \u001b[38;5;241m*\u001b[39m, contexts: Mapping[\u001b[38;5;28mstr\u001b[39m, Context]\n\u001b[0;32m    138\u001b[0m ) \u001b[38;5;241m-\u001b[39m\u001b[38;5;241m>\u001b[39m Mapping[\u001b[38;5;28mstr\u001b[39m, Any]:\n\u001b[0;32m    139\u001b[0m \u001b[38;5;250m    \u001b[39m\u001b[38;5;124;03m\"\"\"Retrieve data from multiple keys.\u001b[39;00m\n\u001b[0;32m    140\u001b[0m \n\u001b[0;32m    141\u001b[0m \u001b[38;5;124;03m    Parameters\u001b[39;00m\n\u001b[1;32m   (...)\u001b[0m\n\u001b[0;32m    159\u001b[0m \u001b[38;5;124;03m    keys and/or to utilize the contexts.\u001b[39;00m\n\u001b[0;32m    160\u001b[0m \u001b[38;5;124;03m    \"\"\"\u001b[39;00m\n\u001b[1;32m--> 161\u001b[0m     \u001b[38;5;28;01mreturn\u001b[39;00m {k: \u001b[38;5;28mself\u001b[39m[k] \u001b[38;5;28;01mfor\u001b[39;00m k \u001b[38;5;129;01min\u001b[39;00m keys \u001b[38;5;28;01mif\u001b[39;00m k \u001b[38;5;129;01min\u001b[39;00m \u001b[38;5;28mself\u001b[39m}\n",
      "File \u001b[1;32mc:\\Users\\kmk280\\.conda\\envs\\ultrack-env\\lib\\site-packages\\zarr\\_storage\\store.py:161\u001b[0m, in \u001b[0;36m<dictcomp>\u001b[1;34m(.0)\u001b[0m\n\u001b[0;32m    136\u001b[0m \u001b[38;5;28;01mdef\u001b[39;00m \u001b[38;5;21mgetitems\u001b[39m(\n\u001b[0;32m    137\u001b[0m     \u001b[38;5;28mself\u001b[39m, keys: Sequence[\u001b[38;5;28mstr\u001b[39m], \u001b[38;5;241m*\u001b[39m, contexts: Mapping[\u001b[38;5;28mstr\u001b[39m, Context]\n\u001b[0;32m    138\u001b[0m ) \u001b[38;5;241m-\u001b[39m\u001b[38;5;241m>\u001b[39m Mapping[\u001b[38;5;28mstr\u001b[39m, Any]:\n\u001b[0;32m    139\u001b[0m \u001b[38;5;250m    \u001b[39m\u001b[38;5;124;03m\"\"\"Retrieve data from multiple keys.\u001b[39;00m\n\u001b[0;32m    140\u001b[0m \n\u001b[0;32m    141\u001b[0m \u001b[38;5;124;03m    Parameters\u001b[39;00m\n\u001b[1;32m   (...)\u001b[0m\n\u001b[0;32m    159\u001b[0m \u001b[38;5;124;03m    keys and/or to utilize the contexts.\u001b[39;00m\n\u001b[0;32m    160\u001b[0m \u001b[38;5;124;03m    \"\"\"\u001b[39;00m\n\u001b[1;32m--> 161\u001b[0m     \u001b[38;5;28;01mreturn\u001b[39;00m {k: \u001b[38;5;28;43mself\u001b[39;49m\u001b[43m[\u001b[49m\u001b[43mk\u001b[49m\u001b[43m]\u001b[49m \u001b[38;5;28;01mfor\u001b[39;00m k \u001b[38;5;129;01min\u001b[39;00m keys \u001b[38;5;28;01mif\u001b[39;00m k \u001b[38;5;129;01min\u001b[39;00m \u001b[38;5;28mself\u001b[39m}\n",
      "File \u001b[1;32mc:\\Users\\kmk280\\.conda\\envs\\ultrack-env\\lib\\site-packages\\zarr\\storage.py:1113\u001b[0m, in \u001b[0;36mDirectoryStore.__getitem__\u001b[1;34m(self, key)\u001b[0m\n\u001b[0;32m   1111\u001b[0m filepath \u001b[38;5;241m=\u001b[39m os\u001b[38;5;241m.\u001b[39mpath\u001b[38;5;241m.\u001b[39mjoin(\u001b[38;5;28mself\u001b[39m\u001b[38;5;241m.\u001b[39mpath, key)\n\u001b[0;32m   1112\u001b[0m \u001b[38;5;28;01mif\u001b[39;00m os\u001b[38;5;241m.\u001b[39mpath\u001b[38;5;241m.\u001b[39misfile(filepath):\n\u001b[1;32m-> 1113\u001b[0m     \u001b[38;5;28;01mreturn\u001b[39;00m \u001b[38;5;28;43mself\u001b[39;49m\u001b[38;5;241;43m.\u001b[39;49m\u001b[43m_fromfile\u001b[49m\u001b[43m(\u001b[49m\u001b[43mfilepath\u001b[49m\u001b[43m)\u001b[49m\n\u001b[0;32m   1114\u001b[0m \u001b[38;5;28;01melse\u001b[39;00m:\n\u001b[0;32m   1115\u001b[0m     \u001b[38;5;28;01mraise\u001b[39;00m \u001b[38;5;167;01mKeyError\u001b[39;00m(key)\n",
      "File \u001b[1;32mc:\\Users\\kmk280\\.conda\\envs\\ultrack-env\\lib\\site-packages\\zarr\\storage.py:1088\u001b[0m, in \u001b[0;36mDirectoryStore._fromfile\u001b[1;34m(fn)\u001b[0m\n\u001b[0;32m   1075\u001b[0m \u001b[38;5;250m\u001b[39m\u001b[38;5;124;03m\"\"\"Read data from a file\u001b[39;00m\n\u001b[0;32m   1076\u001b[0m \n\u001b[0;32m   1077\u001b[0m \u001b[38;5;124;03mParameters\u001b[39;00m\n\u001b[1;32m   (...)\u001b[0m\n\u001b[0;32m   1085\u001b[0m \u001b[38;5;124;03mfile reading logic.\u001b[39;00m\n\u001b[0;32m   1086\u001b[0m \u001b[38;5;124;03m\"\"\"\u001b[39;00m\n\u001b[0;32m   1087\u001b[0m \u001b[38;5;28;01mwith\u001b[39;00m \u001b[38;5;28mopen\u001b[39m(fn, \u001b[38;5;124m\"\u001b[39m\u001b[38;5;124mrb\u001b[39m\u001b[38;5;124m\"\u001b[39m) \u001b[38;5;28;01mas\u001b[39;00m f:\n\u001b[1;32m-> 1088\u001b[0m     \u001b[38;5;28;01mreturn\u001b[39;00m \u001b[43mf\u001b[49m\u001b[38;5;241;43m.\u001b[39;49m\u001b[43mread\u001b[49m\u001b[43m(\u001b[49m\u001b[43m)\u001b[49m\n",
      "\u001b[1;31mKeyboardInterrupt\u001b[0m: "
     ]
    }
   ],
   "source": [
    "from numcodecs import Blosc\n",
    "import zarr\n",
    "from ome_zarr.io import parse_url\n",
    "from ome_zarr.writer import write_image\n",
    "\n",
    "compressor = Blosc(cname='lz4', clevel=1, shuffle=Blosc.BITSHUFFLE)\n",
    "\n",
    "# save zarr file\n",
    "\n",
    "size_t = 10\n",
    "size_xy = 128\n",
    "\n",
    "zarr_path = r'D:\\kasia\\tracking\\zarr_tests\\labels_double.zarr'\n",
    "\n",
    "# write the image data\n",
    "store = parse_url(zarr_path, mode=\"w\").store\n",
    "root = zarr.group(store=store)\n",
    "\n",
    "# it will fail if the store already contains arrays\n",
    "write_image(image=labels, group=root, axes=\"tyx\", storage_options=dict(chunks=(size_t,size_xy, size_xy),compressor=compressor))"
   ]
  },
  {
   "cell_type": "code",
   "execution_count": null,
   "metadata": {},
   "outputs": [
    {
     "ename": "",
     "evalue": "",
     "output_type": "error",
     "traceback": [
      "\u001b[1;31mnotebook controller is DISPOSED. \n",
      "\u001b[1;31mView Jupyter <a href='command:jupyter.viewOutput'>log</a> for further details."
     ]
    }
   ],
   "source": [
    "from numcodecs import Blosc\n",
    "import zarr\n",
    "from ome_zarr.io import parse_url\n",
    "from ome_zarr.writer import write_image\n",
    "\n",
    "compressor = Blosc(cname='lz4', clevel=9, shuffle=Blosc.BITSHUFFLE)\n",
    "\n",
    "# save zarr file\n",
    "\n",
    "size_t = 10\n",
    "size_xy = 128\n",
    "\n",
    "zarr_path = r'D:\\kasia\\tracking\\zarr_tests\\labels_double_c9.zarr'\n",
    "\n",
    "# write the image data\n",
    "store = parse_url(zarr_path, mode=\"w\").store\n",
    "root = zarr.group(store=store)\n",
    "\n",
    "# it will fail if the store already contains arrays\n",
    "write_image(image=labels, group=root, axes=\"tyx\", storage_options=dict(chunks=(size_t,size_xy, size_xy),compressor=compressor))"
   ]
  },
  {
   "cell_type": "code",
   "execution_count": null,
   "metadata": {},
   "outputs": [],
   "source": [
    "from numcodecs import Blosc\n",
    "import zarr\n",
    "from ome_zarr.io import parse_url\n",
    "from ome_zarr.writer import write_image\n",
    "\n",
    "compressor = Blosc(cname='lz4', clevel=9, shuffle=Blosc.BITSHUFFLE)\n",
    "\n",
    "# save zarr file\n",
    "\n",
    "size_t = 1\n",
    "size_xy = 512\n",
    "\n",
    "zarr_path = r'D:\\kasia\\tracking\\zarr_tests\\labels_double_c9_512.zarr'\n",
    "\n",
    "# write the image data\n",
    "store = parse_url(zarr_path, mode=\"w\").store\n",
    "root = zarr.group(store=store)\n",
    "\n",
    "# it will fail if the store already contains arrays\n",
    "write_image(image=labels, group=root, axes=\"tyx\", storage_options=dict(chunks=(size_t,size_xy, size_xy),compressor=compressor))"
   ]
  },
  {
   "cell_type": "code",
   "execution_count": 55,
   "metadata": {},
   "outputs": [
    {
     "name": "stderr",
     "output_type": "stream",
     "text": [
      "c:\\Users\\kmk280\\.conda\\envs\\ultrack-env\\lib\\site-packages\\napari\\_qt\\qt_main_window.py:629: UserWarning: Using NAPARI_PERFMON with an already-running QtApp (--gui qt?) is not supported.\n",
      "  qapp = get_app()\n"
     ]
    },
    {
     "data": {
      "text/plain": [
       "<Labels layer 'labels' at 0x1ed110d9660>"
      ]
     },
     "execution_count": 55,
     "metadata": {},
     "output_type": "execute_result"
    }
   ],
   "source": [
    "viewer = napari.Viewer()\n",
    "viewer.add_image(ch0_da, name=\"ch0\", colormap=\"green\", blending=\"additive\")\n",
    "viewer.add_image(ch1_da, name=\"ch1\", colormap=\"red\", blending=\"additive\")\n",
    "viewer.add_labels(dask_masks)\n",
    "viewer.add_image(edges, blending=\"additive\", colormap=\"magma\")\n",
    "viewer.add_image(edges2, blending=\"additive\", colormap=\"magma\")\n",
    "viewer.add_labels(labels)\n"
   ]
  },
  {
   "cell_type": "code",
   "execution_count": 52,
   "metadata": {},
   "outputs": [
    {
     "data": {
      "text/plain": [
       "<Labels layer 'dask_masks2' at 0x1ed2ab49ab0>"
      ]
     },
     "execution_count": 52,
     "metadata": {},
     "output_type": "execute_result"
    }
   ],
   "source": [
    "viewer.add_labels(dask_masks2)"
   ]
  },
  {
   "cell_type": "code",
   "execution_count": null,
   "metadata": {},
   "outputs": [],
   "source": []
  }
 ],
 "metadata": {
  "kernelspec": {
   "display_name": "Python 3 (ipykernel)",
   "language": "python",
   "name": "python3"
  },
  "language_info": {
   "codemirror_mode": {
    "name": "ipython",
    "version": 3
   },
   "file_extension": ".py",
   "mimetype": "text/x-python",
   "name": "python",
   "nbconvert_exporter": "python",
   "pygments_lexer": "ipython3",
   "version": "3.10.13"
  }
 },
 "nbformat": 4,
 "nbformat_minor": 4
}

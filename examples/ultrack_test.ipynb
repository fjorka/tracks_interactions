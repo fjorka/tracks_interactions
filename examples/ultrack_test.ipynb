{
 "cells": [
  {
   "cell_type": "code",
   "execution_count": 1,
   "metadata": {},
   "outputs": [],
   "source": [
    "import os\n",
    "\n",
    "from pathlib import Path\n",
    "\n",
    "import napari\n",
    "import numpy as np\n",
    "from tqdm import tqdm\n",
    "from rich.pretty import pprint\n",
    "\n",
    "\n",
    "from ultrack import track, to_tracks_layer, tracks_to_zarr\n",
    "from ultrack.imgproc import normalize\n",
    "from ultrack.utils import estimate_parameters_from_labels, labels_to_edges\n",
    "from ultrack.utils.array import array_apply, create_zarr\n",
    "from ultrack.config import MainConfig\n",
    "from ultrack.core.solve.processing import solve\n",
    "from ultrack.imgproc.segmentation import reconstruction_by_dilation, Cellpose\n",
    "from ultrack.utils.cuda import import_module, to_cpu, torch_default_device\n",
    "\n",
    "import dask.array as da\n",
    "\n",
    "import matplotlib.pyplot as plt"
   ]
  },
  {
   "cell_type": "code",
   "execution_count": 2,
   "metadata": {},
   "outputs": [
    {
     "data": {
      "text/plain": [
       "True"
      ]
     },
     "execution_count": 2,
     "metadata": {},
     "output_type": "execute_result"
    }
   ],
   "source": [
    "import torch\n",
    "torch.cuda.is_available()"
   ]
  },
  {
   "cell_type": "code",
   "execution_count": 3,
   "metadata": {},
   "outputs": [],
   "source": [
    "# frames_start = 115\n",
    "# frames_stop = 125\n",
    "# row_start = 4250\n",
    "# row_stop = 4750\n",
    "# col_start = 4200\n",
    "# col_stop = 4900\n",
    "\n",
    "frames_start = 0\n",
    "frames_stop = -1\n",
    "row_start = 0\n",
    "row_stop = -1\n",
    "col_start = 0\n",
    "col_stop = -1"
   ]
  },
  {
   "cell_type": "code",
   "execution_count": 3,
   "metadata": {},
   "outputs": [
    {
     "data": {
      "text/plain": [
       "(10, 500, 700)"
      ]
     },
     "execution_count": 3,
     "metadata": {},
     "output_type": "execute_result"
    }
   ],
   "source": [
    "zarr_masks_path = r'D:\\kasia\\tracking\\E6_exp\\E6_small_masks.zarr'\n",
    "\n",
    "dask_masks = da.from_zarr(zarr_masks_path,0)[frames_start:frames_stop, row_start:row_stop, col_start:col_stop]\n",
    "dask_masks.shape"
   ]
  },
  {
   "cell_type": "code",
   "execution_count": 4,
   "metadata": {},
   "outputs": [
    {
     "name": "stdout",
     "output_type": "stream",
     "text": [
      "(10, 500, 700)\n",
      "(10, 500, 700)\n"
     ]
    }
   ],
   "source": [
    "ch0_path = r'D:\\kasia\\tracking\\E6_exp\\E6_C0.zarr'\n",
    "ch1_path = r'D:\\kasia\\tracking\\E6_exp\\E6_C1.zarr'\n",
    "\n",
    "ch0_da = da.from_zarr(ch0_path,1)[frames_start:frames_stop, row_start:row_stop, col_start:col_stop]\n",
    "ch1_da = da.from_zarr(ch1_path,1)[frames_start:frames_stop, row_start:row_stop, col_start:col_stop]\n",
    "\n",
    "print(ch0_da.shape)\n",
    "print(ch1_da.shape)"
   ]
  },
  {
   "cell_type": "code",
   "execution_count": 30,
   "metadata": {},
   "outputs": [
    {
     "name": "stderr",
     "output_type": "stream",
     "text": [
      "Applying normalize ...:   0%|          | 0/10 [00:00<?, ?it/s]c:\\Users\\kmk280\\.conda\\envs\\ultrack-env\\lib\\site-packages\\dask\\array\\core.py:1712: FutureWarning: The `numpy.quantile` function is not implemented by Dask array. You may want to use the da.map_blocks function or something similar to silence this warning. Your code may stop working in a future release.\n",
      "  warnings.warn(\n",
      "c:\\Users\\kmk280\\.conda\\envs\\ultrack-env\\lib\\site-packages\\dask\\array\\core.py:1712: FutureWarning: The `numpy.quantile` function is not implemented by Dask array. You may want to use the da.map_blocks function or something similar to silence this warning. Your code may stop working in a future release.\n",
      "  warnings.warn(\n",
      "c:\\Users\\kmk280\\.conda\\envs\\ultrack-env\\lib\\site-packages\\dask\\array\\core.py:1712: FutureWarning: The `numpy.quantile` function is not implemented by Dask array. You may want to use the da.map_blocks function or something similar to silence this warning. Your code may stop working in a future release.\n",
      "  warnings.warn(\n",
      "c:\\Users\\kmk280\\.conda\\envs\\ultrack-env\\lib\\site-packages\\dask\\array\\core.py:1712: FutureWarning: The `numpy.quantile` function is not implemented by Dask array. You may want to use the da.map_blocks function or something similar to silence this warning. Your code may stop working in a future release.\n",
      "  warnings.warn(\n",
      "Applying normalize ...:  20%|██        | 2/10 [00:00<00:00, 13.84it/s]c:\\Users\\kmk280\\.conda\\envs\\ultrack-env\\lib\\site-packages\\dask\\array\\core.py:1712: FutureWarning: The `numpy.quantile` function is not implemented by Dask array. You may want to use the da.map_blocks function or something similar to silence this warning. Your code may stop working in a future release.\n",
      "  warnings.warn(\n",
      "c:\\Users\\kmk280\\.conda\\envs\\ultrack-env\\lib\\site-packages\\dask\\array\\core.py:1712: FutureWarning: The `numpy.quantile` function is not implemented by Dask array. You may want to use the da.map_blocks function or something similar to silence this warning. Your code may stop working in a future release.\n",
      "  warnings.warn(\n",
      "c:\\Users\\kmk280\\.conda\\envs\\ultrack-env\\lib\\site-packages\\dask\\array\\core.py:1712: FutureWarning: The `numpy.quantile` function is not implemented by Dask array. You may want to use the da.map_blocks function or something similar to silence this warning. Your code may stop working in a future release.\n",
      "  warnings.warn(\n",
      "c:\\Users\\kmk280\\.conda\\envs\\ultrack-env\\lib\\site-packages\\dask\\array\\core.py:1712: FutureWarning: The `numpy.quantile` function is not implemented by Dask array. You may want to use the da.map_blocks function or something similar to silence this warning. Your code may stop working in a future release.\n",
      "  warnings.warn(\n",
      "Applying normalize ...:  40%|████      | 4/10 [00:00<00:00, 14.68it/s]c:\\Users\\kmk280\\.conda\\envs\\ultrack-env\\lib\\site-packages\\dask\\array\\core.py:1712: FutureWarning: The `numpy.quantile` function is not implemented by Dask array. You may want to use the da.map_blocks function or something similar to silence this warning. Your code may stop working in a future release.\n",
      "  warnings.warn(\n",
      "c:\\Users\\kmk280\\.conda\\envs\\ultrack-env\\lib\\site-packages\\dask\\array\\core.py:1712: FutureWarning: The `numpy.quantile` function is not implemented by Dask array. You may want to use the da.map_blocks function or something similar to silence this warning. Your code may stop working in a future release.\n",
      "  warnings.warn(\n",
      "c:\\Users\\kmk280\\.conda\\envs\\ultrack-env\\lib\\site-packages\\dask\\array\\core.py:1712: FutureWarning: The `numpy.quantile` function is not implemented by Dask array. You may want to use the da.map_blocks function or something similar to silence this warning. Your code may stop working in a future release.\n",
      "  warnings.warn(\n",
      "c:\\Users\\kmk280\\.conda\\envs\\ultrack-env\\lib\\site-packages\\dask\\array\\core.py:1712: FutureWarning: The `numpy.quantile` function is not implemented by Dask array. You may want to use the da.map_blocks function or something similar to silence this warning. Your code may stop working in a future release.\n",
      "  warnings.warn(\n",
      "Applying normalize ...:  60%|██████    | 6/10 [00:00<00:00, 14.81it/s]c:\\Users\\kmk280\\.conda\\envs\\ultrack-env\\lib\\site-packages\\dask\\array\\core.py:1712: FutureWarning: The `numpy.quantile` function is not implemented by Dask array. You may want to use the da.map_blocks function or something similar to silence this warning. Your code may stop working in a future release.\n",
      "  warnings.warn(\n",
      "c:\\Users\\kmk280\\.conda\\envs\\ultrack-env\\lib\\site-packages\\dask\\array\\core.py:1712: FutureWarning: The `numpy.quantile` function is not implemented by Dask array. You may want to use the da.map_blocks function or something similar to silence this warning. Your code may stop working in a future release.\n",
      "  warnings.warn(\n",
      "c:\\Users\\kmk280\\.conda\\envs\\ultrack-env\\lib\\site-packages\\dask\\array\\core.py:1712: FutureWarning: The `numpy.quantile` function is not implemented by Dask array. You may want to use the da.map_blocks function or something similar to silence this warning. Your code may stop working in a future release.\n",
      "  warnings.warn(\n",
      "c:\\Users\\kmk280\\.conda\\envs\\ultrack-env\\lib\\site-packages\\dask\\array\\core.py:1712: FutureWarning: The `numpy.quantile` function is not implemented by Dask array. You may want to use the da.map_blocks function or something similar to silence this warning. Your code may stop working in a future release.\n",
      "  warnings.warn(\n",
      "Applying normalize ...:  80%|████████  | 8/10 [00:00<00:00, 15.03it/s]c:\\Users\\kmk280\\.conda\\envs\\ultrack-env\\lib\\site-packages\\dask\\array\\core.py:1712: FutureWarning: The `numpy.quantile` function is not implemented by Dask array. You may want to use the da.map_blocks function or something similar to silence this warning. Your code may stop working in a future release.\n",
      "  warnings.warn(\n",
      "c:\\Users\\kmk280\\.conda\\envs\\ultrack-env\\lib\\site-packages\\dask\\array\\core.py:1712: FutureWarning: The `numpy.quantile` function is not implemented by Dask array. You may want to use the da.map_blocks function or something similar to silence this warning. Your code may stop working in a future release.\n",
      "  warnings.warn(\n",
      "c:\\Users\\kmk280\\.conda\\envs\\ultrack-env\\lib\\site-packages\\dask\\array\\core.py:1712: FutureWarning: The `numpy.quantile` function is not implemented by Dask array. You may want to use the da.map_blocks function or something similar to silence this warning. Your code may stop working in a future release.\n",
      "  warnings.warn(\n",
      "c:\\Users\\kmk280\\.conda\\envs\\ultrack-env\\lib\\site-packages\\dask\\array\\core.py:1712: FutureWarning: The `numpy.quantile` function is not implemented by Dask array. You may want to use the da.map_blocks function or something similar to silence this warning. Your code may stop working in a future release.\n",
      "  warnings.warn(\n",
      "Applying normalize ...: 100%|██████████| 10/10 [00:00<00:00, 14.89it/s]\n"
     ]
    }
   ],
   "source": [
    "chunks = (1, 512, 512)\n",
    "\n",
    "normalized = create_zarr(ch1_da.shape, np.float16, \"normalized.zarr\", chunks=chunks, overwrite=True)\n",
    "array_apply(\n",
    "    ch1_da,\n",
    "    out_array=normalized,\n",
    "    func=normalize,\n",
    "    gamma=0.5,\n",
    ")"
   ]
  },
  {
   "cell_type": "code",
   "execution_count": 35,
   "metadata": {},
   "outputs": [
    {
     "data": {
      "text/plain": [
       "device(type='cpu')"
      ]
     },
     "execution_count": 35,
     "metadata": {},
     "output_type": "execute_result"
    }
   ],
   "source": [
    "torch_default_device()"
   ]
  },
  {
   "cell_type": "code",
   "execution_count": 50,
   "metadata": {},
   "outputs": [
    {
     "name": "stderr",
     "output_type": "stream",
     "text": [
      "Applying Cellpose ...: 100%|██████████| 10/10 [00:11<00:00,  1.12s/it]\n"
     ]
    }
   ],
   "source": [
    "cellpose_labels = create_zarr(ch1_da.shape, np.uint32, \"240311_cellpose_labels.zarr\", chunks=chunks, overwrite=True)\n",
    "\n",
    "array_apply(\n",
    "    normalized,\n",
    "    out_array=cellpose_labels,\n",
    "    func=Cellpose(model_type=\"cyto2\", device=torch_default_device()),\n",
    "    tile=False,\n",
    "    normalize=False,\n",
    "    diameter = 50,\n",
    ")"
   ]
  },
  {
   "cell_type": "code",
   "execution_count": 51,
   "metadata": {},
   "outputs": [
    {
     "data": {
      "text/plain": [
       "(10, 500, 700)"
      ]
     },
     "execution_count": 51,
     "metadata": {},
     "output_type": "execute_result"
    }
   ],
   "source": [
    "zarr_masks_path2 = r'D:\\kasia\\tracking\\E6_exp\\code\\tracks_interactions\\examples\\240311_cellpose_labels.zarr'\n",
    "\n",
    "dask_masks2 = da.from_zarr(zarr_masks_path2)\n",
    "dask_masks2.shape"
   ]
  },
  {
   "cell_type": "code",
   "execution_count": 38,
   "metadata": {},
   "outputs": [
    {
     "name": "stderr",
     "output_type": "stream",
     "text": [
      "Converting labels to edges:   0%|          | 0/10 [00:00<?, ?it/s]"
     ]
    },
    {
     "name": "stderr",
     "output_type": "stream",
     "text": [
      "Converting labels to edges: 100%|██████████| 10/10 [00:00<00:00, 36.17it/s]\n"
     ]
    }
   ],
   "source": [
    "# test if it can be run from a list of labels\n",
    "\n",
    "detection2, edges2 = labels_to_edges(dask_masks2, \n",
    "                                   detection_store_or_path=\"detection2.zarr\", \n",
    "                                   edges_store_or_path=\"edges2.zarr\", \n",
    "                                   overwrite=True, \n",
    "                                   sigma=4.0)"
   ]
  },
  {
   "cell_type": "code",
   "execution_count": 45,
   "metadata": {},
   "outputs": [
    {
     "data": {
      "text/html": [
       "<pre style=\"white-space:pre;overflow-x:auto;line-height:normal;font-family:Menlo,'DejaVu Sans Mono',consolas,'Courier New',monospace\"><span style=\"color: #800080; text-decoration-color: #800080; font-weight: bold\">MainConfig</span><span style=\"font-weight: bold\">(</span>\n",
       "<span style=\"color: #7fbf7f; text-decoration-color: #7fbf7f\">│   </span><span style=\"color: #808000; text-decoration-color: #808000\">data_config</span>=<span style=\"color: #800080; text-decoration-color: #800080; font-weight: bold\">DataConfig</span><span style=\"font-weight: bold\">(</span><span style=\"color: #808000; text-decoration-color: #808000\">working_dir</span>=<span style=\"color: #800080; text-decoration-color: #800080; font-weight: bold\">WindowsPath</span><span style=\"font-weight: bold\">(</span><span style=\"color: #008000; text-decoration-color: #008000\">'.'</span><span style=\"font-weight: bold\">)</span>, <span style=\"color: #808000; text-decoration-color: #808000\">database</span>=<span style=\"color: #008000; text-decoration-color: #008000\">'sqlite'</span>, <span style=\"color: #808000; text-decoration-color: #808000\">address</span>=<span style=\"color: #800080; text-decoration-color: #800080; font-style: italic\">None</span>, <span style=\"color: #808000; text-decoration-color: #808000\">n_workers</span>=<span style=\"color: #008080; text-decoration-color: #008080; font-weight: bold\">1</span><span style=\"font-weight: bold\">)</span>,\n",
       "<span style=\"color: #7fbf7f; text-decoration-color: #7fbf7f\">│   </span><span style=\"color: #808000; text-decoration-color: #808000\">segmentation_config</span>=<span style=\"color: #800080; text-decoration-color: #800080; font-weight: bold\">SegmentationConfig</span><span style=\"font-weight: bold\">(</span>\n",
       "<span style=\"color: #7fbf7f; text-decoration-color: #7fbf7f\">│   │   </span><span style=\"color: #808000; text-decoration-color: #808000\">threshold</span>=<span style=\"color: #008080; text-decoration-color: #008080; font-weight: bold\">0.5</span>,\n",
       "<span style=\"color: #7fbf7f; text-decoration-color: #7fbf7f\">│   │   </span><span style=\"color: #808000; text-decoration-color: #808000\">min_area</span>=<span style=\"color: #008080; text-decoration-color: #008080; font-weight: bold\">400</span>,\n",
       "<span style=\"color: #7fbf7f; text-decoration-color: #7fbf7f\">│   │   </span><span style=\"color: #808000; text-decoration-color: #808000\">max_area</span>=<span style=\"color: #008080; text-decoration-color: #008080; font-weight: bold\">2000</span>,\n",
       "<span style=\"color: #7fbf7f; text-decoration-color: #7fbf7f\">│   │   </span><span style=\"color: #808000; text-decoration-color: #808000\">min_frontier</span>=<span style=\"color: #008080; text-decoration-color: #008080; font-weight: bold\">0.1</span>,\n",
       "<span style=\"color: #7fbf7f; text-decoration-color: #7fbf7f\">│   │   </span><span style=\"color: #808000; text-decoration-color: #808000\">anisotropy_penalization</span>=<span style=\"color: #008080; text-decoration-color: #008080; font-weight: bold\">0.0</span>,\n",
       "<span style=\"color: #7fbf7f; text-decoration-color: #7fbf7f\">│   │   </span><span style=\"color: #808000; text-decoration-color: #808000\">max_noise</span>=<span style=\"color: #008080; text-decoration-color: #008080; font-weight: bold\">0.0</span>,\n",
       "<span style=\"color: #7fbf7f; text-decoration-color: #7fbf7f\">│   │   </span><span style=\"color: #808000; text-decoration-color: #808000\">ws_hierarchy</span>=<span style=\"font-weight: bold\">&lt;</span><span style=\"color: #ff00ff; text-decoration-color: #ff00ff; font-weight: bold\">function</span><span style=\"color: #000000; text-decoration-color: #000000\"> watershed_hierarchy_by_area at </span><span style=\"color: #008080; text-decoration-color: #008080; font-weight: bold\">0x000001ED4294AD40</span><span style=\"font-weight: bold\">&gt;</span>,\n",
       "<span style=\"color: #7fbf7f; text-decoration-color: #7fbf7f\">│   │   </span><span style=\"color: #808000; text-decoration-color: #808000\">n_workers</span>=<span style=\"color: #008080; text-decoration-color: #008080; font-weight: bold\">10</span>\n",
       "<span style=\"color: #7fbf7f; text-decoration-color: #7fbf7f\">│   </span><span style=\"font-weight: bold\">)</span>,\n",
       "<span style=\"color: #7fbf7f; text-decoration-color: #7fbf7f\">│   </span><span style=\"color: #808000; text-decoration-color: #808000\">linking_config</span>=<span style=\"color: #800080; text-decoration-color: #800080; font-weight: bold\">LinkingConfig</span><span style=\"font-weight: bold\">(</span>\n",
       "<span style=\"color: #7fbf7f; text-decoration-color: #7fbf7f\">│   │   </span><span style=\"color: #808000; text-decoration-color: #808000\">n_workers</span>=<span style=\"color: #008080; text-decoration-color: #008080; font-weight: bold\">10</span>,\n",
       "<span style=\"color: #7fbf7f; text-decoration-color: #7fbf7f\">│   │   </span><span style=\"color: #808000; text-decoration-color: #808000\">max_neighbors</span>=<span style=\"color: #008080; text-decoration-color: #008080; font-weight: bold\">5</span>,\n",
       "<span style=\"color: #7fbf7f; text-decoration-color: #7fbf7f\">│   │   </span><span style=\"color: #808000; text-decoration-color: #808000\">max_distance</span>=<span style=\"color: #008080; text-decoration-color: #008080; font-weight: bold\">25</span>,\n",
       "<span style=\"color: #7fbf7f; text-decoration-color: #7fbf7f\">│   │   </span><span style=\"color: #808000; text-decoration-color: #808000\">distance_weight</span>=<span style=\"color: #008080; text-decoration-color: #008080; font-weight: bold\">0.0</span>,\n",
       "<span style=\"color: #7fbf7f; text-decoration-color: #7fbf7f\">│   │   </span><span style=\"color: #808000; text-decoration-color: #808000\">z_score_threshold</span>=<span style=\"color: #008080; text-decoration-color: #008080; font-weight: bold\">5.0</span>\n",
       "<span style=\"color: #7fbf7f; text-decoration-color: #7fbf7f\">│   </span><span style=\"font-weight: bold\">)</span>,\n",
       "<span style=\"color: #7fbf7f; text-decoration-color: #7fbf7f\">│   </span><span style=\"color: #808000; text-decoration-color: #808000\">tracking_config</span>=<span style=\"color: #800080; text-decoration-color: #800080; font-weight: bold\">TrackingConfig</span><span style=\"font-weight: bold\">(</span>\n",
       "<span style=\"color: #7fbf7f; text-decoration-color: #7fbf7f\">│   │   </span><span style=\"color: #808000; text-decoration-color: #808000\">appear_weight</span>=<span style=\"color: #008080; text-decoration-color: #008080; font-weight: bold\">-1</span>,\n",
       "<span style=\"color: #7fbf7f; text-decoration-color: #7fbf7f\">│   │   </span><span style=\"color: #808000; text-decoration-color: #808000\">disappear_weight</span>=<span style=\"color: #008080; text-decoration-color: #008080; font-weight: bold\">-1</span>,\n",
       "<span style=\"color: #7fbf7f; text-decoration-color: #7fbf7f\">│   │   </span><span style=\"color: #808000; text-decoration-color: #808000\">division_weight</span>=<span style=\"color: #008080; text-decoration-color: #008080; font-weight: bold\">-0.1</span>,\n",
       "<span style=\"color: #7fbf7f; text-decoration-color: #7fbf7f\">│   │   </span><span style=\"color: #808000; text-decoration-color: #808000\">dismiss_weight_guess</span>=<span style=\"color: #800080; text-decoration-color: #800080; font-style: italic\">None</span>,\n",
       "<span style=\"color: #7fbf7f; text-decoration-color: #7fbf7f\">│   │   </span><span style=\"color: #808000; text-decoration-color: #808000\">include_weight_guess</span>=<span style=\"color: #800080; text-decoration-color: #800080; font-style: italic\">None</span>,\n",
       "<span style=\"color: #7fbf7f; text-decoration-color: #7fbf7f\">│   │   </span><span style=\"color: #808000; text-decoration-color: #808000\">window_size</span>=<span style=\"color: #008080; text-decoration-color: #008080; font-weight: bold\">50</span>,\n",
       "<span style=\"color: #7fbf7f; text-decoration-color: #7fbf7f\">│   │   </span><span style=\"color: #808000; text-decoration-color: #808000\">overlap_size</span>=<span style=\"color: #008080; text-decoration-color: #008080; font-weight: bold\">5</span>,\n",
       "<span style=\"color: #7fbf7f; text-decoration-color: #7fbf7f\">│   │   </span><span style=\"color: #808000; text-decoration-color: #808000\">solution_gap</span>=<span style=\"color: #008080; text-decoration-color: #008080; font-weight: bold\">0.0</span>,\n",
       "<span style=\"color: #7fbf7f; text-decoration-color: #7fbf7f\">│   │   </span><span style=\"color: #808000; text-decoration-color: #808000\">time_limit</span>=<span style=\"color: #008080; text-decoration-color: #008080; font-weight: bold\">36000</span>,\n",
       "<span style=\"color: #7fbf7f; text-decoration-color: #7fbf7f\">│   │   </span><span style=\"color: #808000; text-decoration-color: #808000\">method</span>=<span style=\"color: #008080; text-decoration-color: #008080; font-weight: bold\">0</span>,\n",
       "<span style=\"color: #7fbf7f; text-decoration-color: #7fbf7f\">│   │   </span><span style=\"color: #808000; text-decoration-color: #808000\">n_threads</span>=<span style=\"color: #008080; text-decoration-color: #008080; font-weight: bold\">-1</span>,\n",
       "<span style=\"color: #7fbf7f; text-decoration-color: #7fbf7f\">│   │   </span><span style=\"color: #808000; text-decoration-color: #808000\">link_function</span>=<span style=\"color: #008000; text-decoration-color: #008000\">'power'</span>,\n",
       "<span style=\"color: #7fbf7f; text-decoration-color: #7fbf7f\">│   │   </span><span style=\"color: #808000; text-decoration-color: #808000\">power</span>=<span style=\"color: #008080; text-decoration-color: #008080; font-weight: bold\">4</span>,\n",
       "<span style=\"color: #7fbf7f; text-decoration-color: #7fbf7f\">│   │   </span><span style=\"color: #808000; text-decoration-color: #808000\">bias</span>=<span style=\"color: #008080; text-decoration-color: #008080; font-weight: bold\">-0.001</span>\n",
       "<span style=\"color: #7fbf7f; text-decoration-color: #7fbf7f\">│   </span><span style=\"font-weight: bold\">)</span>\n",
       "<span style=\"font-weight: bold\">)</span>\n",
       "</pre>\n"
      ],
      "text/plain": [
       "\u001b[1;35mMainConfig\u001b[0m\u001b[1m(\u001b[0m\n",
       "\u001b[2;32m│   \u001b[0m\u001b[33mdata_config\u001b[0m=\u001b[1;35mDataConfig\u001b[0m\u001b[1m(\u001b[0m\u001b[33mworking_dir\u001b[0m=\u001b[1;35mWindowsPath\u001b[0m\u001b[1m(\u001b[0m\u001b[32m'.'\u001b[0m\u001b[1m)\u001b[0m, \u001b[33mdatabase\u001b[0m=\u001b[32m'sqlite'\u001b[0m, \u001b[33maddress\u001b[0m=\u001b[3;35mNone\u001b[0m, \u001b[33mn_workers\u001b[0m=\u001b[1;36m1\u001b[0m\u001b[1m)\u001b[0m,\n",
       "\u001b[2;32m│   \u001b[0m\u001b[33msegmentation_config\u001b[0m=\u001b[1;35mSegmentationConfig\u001b[0m\u001b[1m(\u001b[0m\n",
       "\u001b[2;32m│   │   \u001b[0m\u001b[33mthreshold\u001b[0m=\u001b[1;36m0\u001b[0m\u001b[1;36m.5\u001b[0m,\n",
       "\u001b[2;32m│   │   \u001b[0m\u001b[33mmin_area\u001b[0m=\u001b[1;36m400\u001b[0m,\n",
       "\u001b[2;32m│   │   \u001b[0m\u001b[33mmax_area\u001b[0m=\u001b[1;36m2000\u001b[0m,\n",
       "\u001b[2;32m│   │   \u001b[0m\u001b[33mmin_frontier\u001b[0m=\u001b[1;36m0\u001b[0m\u001b[1;36m.1\u001b[0m,\n",
       "\u001b[2;32m│   │   \u001b[0m\u001b[33manisotropy_penalization\u001b[0m=\u001b[1;36m0\u001b[0m\u001b[1;36m.0\u001b[0m,\n",
       "\u001b[2;32m│   │   \u001b[0m\u001b[33mmax_noise\u001b[0m=\u001b[1;36m0\u001b[0m\u001b[1;36m.0\u001b[0m,\n",
       "\u001b[2;32m│   │   \u001b[0m\u001b[33mws_hierarchy\u001b[0m=\u001b[1m<\u001b[0m\u001b[1;95mfunction\u001b[0m\u001b[39m watershed_hierarchy_by_area at \u001b[0m\u001b[1;36m0x000001ED4294AD40\u001b[0m\u001b[1m>\u001b[0m,\n",
       "\u001b[2;32m│   │   \u001b[0m\u001b[33mn_workers\u001b[0m=\u001b[1;36m10\u001b[0m\n",
       "\u001b[2;32m│   \u001b[0m\u001b[1m)\u001b[0m,\n",
       "\u001b[2;32m│   \u001b[0m\u001b[33mlinking_config\u001b[0m=\u001b[1;35mLinkingConfig\u001b[0m\u001b[1m(\u001b[0m\n",
       "\u001b[2;32m│   │   \u001b[0m\u001b[33mn_workers\u001b[0m=\u001b[1;36m10\u001b[0m,\n",
       "\u001b[2;32m│   │   \u001b[0m\u001b[33mmax_neighbors\u001b[0m=\u001b[1;36m5\u001b[0m,\n",
       "\u001b[2;32m│   │   \u001b[0m\u001b[33mmax_distance\u001b[0m=\u001b[1;36m25\u001b[0m,\n",
       "\u001b[2;32m│   │   \u001b[0m\u001b[33mdistance_weight\u001b[0m=\u001b[1;36m0\u001b[0m\u001b[1;36m.0\u001b[0m,\n",
       "\u001b[2;32m│   │   \u001b[0m\u001b[33mz_score_threshold\u001b[0m=\u001b[1;36m5\u001b[0m\u001b[1;36m.0\u001b[0m\n",
       "\u001b[2;32m│   \u001b[0m\u001b[1m)\u001b[0m,\n",
       "\u001b[2;32m│   \u001b[0m\u001b[33mtracking_config\u001b[0m=\u001b[1;35mTrackingConfig\u001b[0m\u001b[1m(\u001b[0m\n",
       "\u001b[2;32m│   │   \u001b[0m\u001b[33mappear_weight\u001b[0m=\u001b[1;36m-1\u001b[0m,\n",
       "\u001b[2;32m│   │   \u001b[0m\u001b[33mdisappear_weight\u001b[0m=\u001b[1;36m-1\u001b[0m,\n",
       "\u001b[2;32m│   │   \u001b[0m\u001b[33mdivision_weight\u001b[0m=\u001b[1;36m-0.1\u001b[0m,\n",
       "\u001b[2;32m│   │   \u001b[0m\u001b[33mdismiss_weight_guess\u001b[0m=\u001b[3;35mNone\u001b[0m,\n",
       "\u001b[2;32m│   │   \u001b[0m\u001b[33minclude_weight_guess\u001b[0m=\u001b[3;35mNone\u001b[0m,\n",
       "\u001b[2;32m│   │   \u001b[0m\u001b[33mwindow_size\u001b[0m=\u001b[1;36m50\u001b[0m,\n",
       "\u001b[2;32m│   │   \u001b[0m\u001b[33moverlap_size\u001b[0m=\u001b[1;36m5\u001b[0m,\n",
       "\u001b[2;32m│   │   \u001b[0m\u001b[33msolution_gap\u001b[0m=\u001b[1;36m0\u001b[0m\u001b[1;36m.0\u001b[0m,\n",
       "\u001b[2;32m│   │   \u001b[0m\u001b[33mtime_limit\u001b[0m=\u001b[1;36m36000\u001b[0m,\n",
       "\u001b[2;32m│   │   \u001b[0m\u001b[33mmethod\u001b[0m=\u001b[1;36m0\u001b[0m,\n",
       "\u001b[2;32m│   │   \u001b[0m\u001b[33mn_threads\u001b[0m=\u001b[1;36m-1\u001b[0m,\n",
       "\u001b[2;32m│   │   \u001b[0m\u001b[33mlink_function\u001b[0m=\u001b[32m'power'\u001b[0m,\n",
       "\u001b[2;32m│   │   \u001b[0m\u001b[33mpower\u001b[0m=\u001b[1;36m4\u001b[0m,\n",
       "\u001b[2;32m│   │   \u001b[0m\u001b[33mbias\u001b[0m=\u001b[1;36m-0.001\u001b[0m\n",
       "\u001b[2;32m│   \u001b[0m\u001b[1m)\u001b[0m\n",
       "\u001b[1m)\u001b[0m\n"
      ]
     },
     "metadata": {},
     "output_type": "display_data"
    }
   ],
   "source": [
    "config = MainConfig()\n",
    "config.segmentation_config.min_area = 400\n",
    "config.segmentation_config.max_area = 2000\n",
    "config.segmentation_config.min_frontier = 0.1\n",
    "config.segmentation_config.n_workers = 10\n",
    "\n",
    "config.linking_config.max_distance = 25\n",
    "config.linking_config.n_workers = 10\n",
    "\n",
    "config.tracking_config.appear_weight = -1\n",
    "config.tracking_config.disappear_weight = -1\n",
    "config.tracking_config.division_weight = -0.1\n",
    "config.tracking_config.power = 4\n",
    "config.tracking_config.bias = -0.001\n",
    "config.tracking_config.solution_gap = 0.0\n",
    "\n",
    "config.tracking_config.window_size = 50\n",
    "config.tracking_config.overlap_size = 5\n",
    "\n",
    "pprint(config)"
   ]
  },
  {
   "cell_type": "code",
   "execution_count": 43,
   "metadata": {},
   "outputs": [],
   "source": [
    "detection = da.from_zarr('detection.zarr')#(r\"D:\\kasia\\tracking\\E6_exp\\code\\tests\\detection.zarr\")\n",
    "edges = da.from_zarr('edges.zarr')#(r\"D:\\kasia\\tracking\\E6_exp\\code\\tests\\edges.zarr\")\n",
    "detection2 = da.from_zarr('detection2.zarr')#(r\"D:\\kasia\\tracking\\E6_exp\\code\\tests\\detection.zarr\")\n",
    "edges2 = da.from_zarr('edges2.zarr')#(r\"D:\\kasia\\tracking\\E6_exp\\code\\tests\\edges.zarr\")"
   ]
  },
  {
   "cell_type": "code",
   "execution_count": null,
   "metadata": {},
   "outputs": [],
   "source": [
    "# tracking directly from the labels\n",
    "# may require more memory to keep edges in\n",
    "track(\n",
    "    labels=dask_masks,\n",
    "    sigma=4.0,\n",
    "    config=config,\n",
    "    overwrite=True, #\"solutions\" - to recalculate from the database\n",
    ")"
   ]
  },
  {
   "cell_type": "code",
   "execution_count": 53,
   "metadata": {},
   "outputs": [
    {
     "name": "stderr",
     "output_type": "stream",
     "text": [
      "Converting labels to edges: 100%|██████████| 10/10 [00:00<00:00, 17.06it/s]\n",
      "WARNING:ultrack.core.segmentation.processing:Found zarr with MemoryStore. Using an zarr with MemoryStore can lead to considerable memory usage.\n",
      "WARNING:ultrack.core.segmentation.processing:Found zarr with MemoryStore. Using an zarr with MemoryStore can lead to considerable memory usage.\n",
      "Adding nodes to database: 100%|██████████| 10/10 [00:10<00:00,  1.00s/it]\n",
      "Linking nodes.: 100%|██████████| 9/9 [00:10<00:00,  1.13s/it]\n"
     ]
    },
    {
     "name": "stdout",
     "output_type": "stream",
     "text": [
      "Using Gurobi solver\n",
      "Solving ILP batch 0\n",
      "Constructing ILP ...\n",
      "Solving ILP ...\n",
      "Saving solution ...\n",
      "Done!\n"
     ]
    }
   ],
   "source": [
    "track(\n",
    "    labels= [dask_masks, dask_masks2],\n",
    "    config=config,\n",
    "    overwrite=True,\n",
    ")"
   ]
  },
  {
   "cell_type": "code",
   "execution_count": 54,
   "metadata": {},
   "outputs": [
    {
     "name": "stderr",
     "output_type": "stream",
     "text": [
      "Exporting segmentation masks:   0%|          | 0/10 [00:00<?, ?it/s]"
     ]
    },
    {
     "name": "stderr",
     "output_type": "stream",
     "text": [
      "Exporting segmentation masks: 100%|██████████| 10/10 [00:00<00:00, 117.65it/s]\n"
     ]
    }
   ],
   "source": [
    "tracks_df, graph = to_tracks_layer(config)\n",
    "labels = tracks_to_zarr(config, tracks_df)"
   ]
  },
  {
   "cell_type": "code",
   "execution_count": 55,
   "metadata": {},
   "outputs": [
    {
     "name": "stderr",
     "output_type": "stream",
     "text": [
      "c:\\Users\\kmk280\\.conda\\envs\\ultrack-env\\lib\\site-packages\\napari\\_qt\\qt_main_window.py:629: UserWarning: Using NAPARI_PERFMON with an already-running QtApp (--gui qt?) is not supported.\n",
      "  qapp = get_app()\n"
     ]
    },
    {
     "data": {
      "text/plain": [
       "<Labels layer 'labels' at 0x1ed110d9660>"
      ]
     },
     "execution_count": 55,
     "metadata": {},
     "output_type": "execute_result"
    }
   ],
   "source": [
    "viewer = napari.Viewer()\n",
    "viewer.add_image(ch0_da, name=\"ch0\", colormap=\"green\", blending=\"additive\")\n",
    "viewer.add_image(ch1_da, name=\"ch1\", colormap=\"red\", blending=\"additive\")\n",
    "viewer.add_labels(dask_masks)\n",
    "viewer.add_image(edges, blending=\"additive\", colormap=\"magma\")\n",
    "viewer.add_image(edges2, blending=\"additive\", colormap=\"magma\")\n",
    "viewer.add_labels(labels)\n"
   ]
  },
  {
   "cell_type": "code",
   "execution_count": 52,
   "metadata": {},
   "outputs": [
    {
     "data": {
      "text/plain": [
       "<Labels layer 'dask_masks2' at 0x1ed2ab49ab0>"
      ]
     },
     "execution_count": 52,
     "metadata": {},
     "output_type": "execute_result"
    }
   ],
   "source": [
    "viewer.add_labels(dask_masks2)"
   ]
  },
  {
   "cell_type": "code",
   "execution_count": null,
   "metadata": {},
   "outputs": [],
   "source": []
  }
 ],
 "metadata": {
  "kernelspec": {
   "display_name": "Python 3 (ipykernel)",
   "language": "python",
   "name": "python3"
  },
  "language_info": {
   "codemirror_mode": {
    "name": "ipython",
    "version": 3
   },
   "file_extension": ".py",
   "mimetype": "text/x-python",
   "name": "python",
   "nbconvert_exporter": "python",
   "pygments_lexer": "ipython3",
   "version": "3.10.13"
  }
 },
 "nbformat": 4,
 "nbformat_minor": 4
}

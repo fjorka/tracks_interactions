{
 "cells": [
  {
   "cell_type": "code",
   "execution_count": 7,
   "metadata": {},
   "outputs": [],
   "source": [
    "import os\n",
    "os.environ['NAPARI_PERFMON'] = '0'"
   ]
  },
  {
   "cell_type": "code",
   "execution_count": 8,
   "metadata": {},
   "outputs": [
    {
     "name": "stderr",
     "output_type": "stream",
     "text": [
      "c:\\Users\\kmk280\\.conda\\envs\\track-base-0320\\lib\\site-packages\\napari\\_qt\\qt_main_window.py:640: UserWarning: Using NAPARI_PERFMON with an already-running QtApp (--gui qt?) is not supported.\n",
      "  qapp = get_app()\n"
     ]
    }
   ],
   "source": [
    "import napari\n",
    "import numpy as np\n",
    "\n",
    "viewer = napari.Viewer()\n",
    "viewer.add_labels(np.zeros([100,100]).astype(int))\n",
    "\n",
    "@viewer.bind_key('b',overwrite=True)\n",
    "def hello_world(viewer):\n",
    "    viewer.status = 'B pressed.'\n",
    "\n",
    "@viewer.bind_key('h',overwrite=True)\n",
    "def hello_world(viewer):\n",
    "    viewer.status = 'H pressed.'"
   ]
  },
  {
   "cell_type": "code",
   "execution_count": 2,
   "metadata": {},
   "outputs": [],
   "source": [
    "import napari\n",
    "import numpy as np\n",
    "\n",
    "array_size = (2,2000, 2000)\n",
    "np_array = np.zeros(array_size, dtype='uint32')   \n",
    "np_array[0,0,0] =1\n",
    "viewer = napari.Viewer()\n",
    "viewer.add_labels(np_array,name='np')\n",
    "\n",
    "viewer.layers['np'].selected_label = 1\n",
    "\n"
   ]
  },
  {
   "cell_type": "code",
   "execution_count": 11,
   "metadata": {},
   "outputs": [],
   "source": [
    "viewer.layers['np'].selected_label = 0"
   ]
  },
  {
   "cell_type": "code",
   "execution_count": 10,
   "metadata": {},
   "outputs": [
    {
     "data": {
      "text/plain": [
       "<Labels layer 'np' at 0x21c05049ff0>"
      ]
     },
     "execution_count": 10,
     "metadata": {},
     "output_type": "execute_result"
    }
   ],
   "source": [
    "import napari\n",
    "import zarr\n",
    "import tensorstore as ts\n",
    "import numpy as np\n",
    "\n",
    "array_size = (2,2000, 2000)\n",
    "np_array = np.zeros(array_size, dtype='uint32')    \n",
    "\n",
    "zarr_path = r'd://example.zarr'\n",
    "z = zarr.zeros(array_size, chunks=(1,1000, 1000), dtype='uint32')\n",
    "zarr.save(zarr_path, z)\n",
    "\n",
    "spec = {\n",
    "  'driver': 'zarr',\n",
    "  'kvstore': {\n",
    "    'driver': 'file', \n",
    "    'path': zarr_path,\n",
    "  },\n",
    "}\n",
    "\n",
    "ts_array = ts.open(spec).result()\n",
    "\n",
    "viewer = napari.Viewer()\n",
    "viewer.add_labels(ts_array,name='ts')\n",
    "viewer.add_labels(np_array,name='np')\n"
   ]
  },
  {
   "cell_type": "code",
   "execution_count": 9,
   "metadata": {},
   "outputs": [
    {
     "data": {
      "text/plain": [
       "<Labels layer 'ts_array' at 0x21f22fa7100>"
      ]
     },
     "execution_count": 9,
     "metadata": {},
     "output_type": "execute_result"
    }
   ],
   "source": [
    "import napari\n",
    "import dask.array as da\n",
    "\n",
    "zarr_path = r'D:\\kasia\\tracking\\E6_exp\\double_segmentation_ultrack\\labels_double_1024.zarr'\n",
    "spec = {\n",
    "  'driver': 'zarr',\n",
    "  'kvstore': {\n",
    "    'driver': 'file', \n",
    "    'path': zarr_path,\n",
    "  },\n",
    "}\n",
    "\n",
    "ts_array = ts.open(spec).result()\n",
    "        \n",
    "viewer = napari.Viewer()\n",
    "viewer.add_labels(ts_array)\n"
   ]
  },
  {
   "cell_type": "code",
   "execution_count": null,
   "metadata": {},
   "outputs": [],
   "source": []
  }
 ],
 "metadata": {
  "kernelspec": {
   "display_name": "track-base-0320",
   "language": "python",
   "name": "python3"
  },
  "language_info": {
   "codemirror_mode": {
    "name": "ipython",
    "version": 3
   },
   "file_extension": ".py",
   "mimetype": "text/x-python",
   "name": "python",
   "nbconvert_exporter": "python",
   "pygments_lexer": "ipython3",
   "version": "3.10.14"
  }
 },
 "nbformat": 4,
 "nbformat_minor": 2
}

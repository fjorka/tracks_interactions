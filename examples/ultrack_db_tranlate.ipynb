{
 "cells": [
  {
   "cell_type": "code",
   "execution_count": 4,
   "metadata": {},
   "outputs": [
    {
     "name": "stdout",
     "output_type": "stream",
     "text": [
      "The autoreload extension is already loaded. To reload it, use:\n",
      "  %reload_ext autoreload\n"
     ]
    }
   ],
   "source": [
    "%load_ext autoreload\n",
    "%autoreload 2\n",
    "\n",
    "import numpy as np\n",
    "from tqdm import tqdm\n",
    "\n",
    "import sqlalchemy as sqla\n",
    "from sqlalchemy import create_engine, Column, and_\n",
    "from sqlalchemy.orm import Session\n",
    "\n",
    "from ultrack.core.database import NodeDB\n",
    "from ultrack.core.export.utils import solution_dataframe_from_sql\n",
    "\n",
    "import sys\n",
    "sys.path.append('..')\n",
    "from tracks_interactions.db.db_model import Base, CellDB, TrackDB\n",
    "from tracks_interactions.db.db_translate_functions import add_track_ids_to_tracks_df\n",
    "from tracks_interactions.db.db_functions import calculate_cell_signals"
   ]
  },
  {
   "cell_type": "code",
   "execution_count": 5,
   "metadata": {},
   "outputs": [],
   "source": [
    "# create a new database\n",
    "\n",
    "new_db_path = r'D:\\kasia\\tracking\\E6_exp\\double_segmentation_ultrack\\Exp6_gardener.db'\n",
    "\n",
    "engine = create_engine(f'sqlite:///{new_db_path}')\n",
    "\n",
    "# creates a table\n",
    "Base.metadata.create_all(engine) "
   ]
  },
  {
   "cell_type": "code",
   "execution_count": 6,
   "metadata": {},
   "outputs": [],
   "source": [
    "# get engine for the original database\n",
    "\n",
    "org_db_path = r'D:\\kasia\\tracking\\E6_exp\\double_segmentation_ultrack\\data.db'\n",
    "engine_org = create_engine(f'sqlite:///{org_db_path}')"
   ]
  },
  {
   "cell_type": "code",
   "execution_count": 7,
   "metadata": {},
   "outputs": [
    {
     "name": "stderr",
     "output_type": "stream",
     "text": [
      "c:\\Users\\kmk280\\.conda\\envs\\ultrack-env\\lib\\site-packages\\numba\\typed\\typeddict.py:39: NumbaTypeSafetyWarning: \u001b[1m\u001b[1m\u001b[1munsafe cast from int64 to int32. Precision may be lost.\u001b[0m\u001b[0m\u001b[0m\n",
      "  return d[key]\n"
     ]
    },
    {
     "data": {
      "text/html": [
       "<div>\n",
       "<style scoped>\n",
       "    .dataframe tbody tr th:only-of-type {\n",
       "        vertical-align: middle;\n",
       "    }\n",
       "\n",
       "    .dataframe tbody tr th {\n",
       "        vertical-align: top;\n",
       "    }\n",
       "\n",
       "    .dataframe thead th {\n",
       "        text-align: right;\n",
       "    }\n",
       "</style>\n",
       "<table border=\"1\" class=\"dataframe\">\n",
       "  <thead>\n",
       "    <tr style=\"text-align: right;\">\n",
       "      <th></th>\n",
       "      <th>id</th>\n",
       "      <th>parent_id</th>\n",
       "      <th>t</th>\n",
       "      <th>z</th>\n",
       "      <th>y</th>\n",
       "      <th>x</th>\n",
       "      <th>track_id</th>\n",
       "      <th>parent_track_id</th>\n",
       "      <th>root</th>\n",
       "    </tr>\n",
       "  </thead>\n",
       "  <tbody>\n",
       "    <tr>\n",
       "      <th>0</th>\n",
       "      <td>3000015</td>\n",
       "      <td>2000015</td>\n",
       "      <td>2</td>\n",
       "      <td>0.0</td>\n",
       "      <td>195.0</td>\n",
       "      <td>3850.0</td>\n",
       "      <td>45</td>\n",
       "      <td>-1</td>\n",
       "      <td>45.0</td>\n",
       "    </tr>\n",
       "    <tr>\n",
       "      <th>1</th>\n",
       "      <td>3000020</td>\n",
       "      <td>2000019</td>\n",
       "      <td>2</td>\n",
       "      <td>0.0</td>\n",
       "      <td>214.0</td>\n",
       "      <td>4561.0</td>\n",
       "      <td>54</td>\n",
       "      <td>-1</td>\n",
       "      <td>54.0</td>\n",
       "    </tr>\n",
       "    <tr>\n",
       "      <th>2</th>\n",
       "      <td>3000021</td>\n",
       "      <td>2000023</td>\n",
       "      <td>2</td>\n",
       "      <td>0.0</td>\n",
       "      <td>218.0</td>\n",
       "      <td>5011.0</td>\n",
       "      <td>64</td>\n",
       "      <td>-1</td>\n",
       "      <td>64.0</td>\n",
       "    </tr>\n",
       "    <tr>\n",
       "      <th>3</th>\n",
       "      <td>3000022</td>\n",
       "      <td>2000024</td>\n",
       "      <td>2</td>\n",
       "      <td>0.0</td>\n",
       "      <td>241.0</td>\n",
       "      <td>4204.0</td>\n",
       "      <td>56</td>\n",
       "      <td>-1</td>\n",
       "      <td>56.0</td>\n",
       "    </tr>\n",
       "    <tr>\n",
       "      <th>4</th>\n",
       "      <td>3000028</td>\n",
       "      <td>2000022</td>\n",
       "      <td>2</td>\n",
       "      <td>0.0</td>\n",
       "      <td>239.0</td>\n",
       "      <td>3780.0</td>\n",
       "      <td>55</td>\n",
       "      <td>-1</td>\n",
       "      <td>55.0</td>\n",
       "    </tr>\n",
       "    <tr>\n",
       "      <th>...</th>\n",
       "      <td>...</td>\n",
       "      <td>...</td>\n",
       "      <td>...</td>\n",
       "      <td>...</td>\n",
       "      <td>...</td>\n",
       "      <td>...</td>\n",
       "      <td>...</td>\n",
       "      <td>...</td>\n",
       "      <td>...</td>\n",
       "    </tr>\n",
       "    <tr>\n",
       "      <th>2328359</th>\n",
       "      <td>238012044</td>\n",
       "      <td>237012158</td>\n",
       "      <td>237</td>\n",
       "      <td>0.0</td>\n",
       "      <td>8296.0</td>\n",
       "      <td>3763.0</td>\n",
       "      <td>50518</td>\n",
       "      <td>50516</td>\n",
       "      <td>50514.0</td>\n",
       "    </tr>\n",
       "    <tr>\n",
       "      <th>2328360</th>\n",
       "      <td>238012045</td>\n",
       "      <td>237012159</td>\n",
       "      <td>237</td>\n",
       "      <td>0.0</td>\n",
       "      <td>8310.0</td>\n",
       "      <td>4604.0</td>\n",
       "      <td>53233</td>\n",
       "      <td>-1</td>\n",
       "      <td>53233.0</td>\n",
       "    </tr>\n",
       "    <tr>\n",
       "      <th>2328361</th>\n",
       "      <td>238012046</td>\n",
       "      <td>237012160</td>\n",
       "      <td>237</td>\n",
       "      <td>0.0</td>\n",
       "      <td>8307.0</td>\n",
       "      <td>4994.0</td>\n",
       "      <td>34369</td>\n",
       "      <td>34367</td>\n",
       "      <td>34356.0</td>\n",
       "    </tr>\n",
       "    <tr>\n",
       "      <th>2328362</th>\n",
       "      <td>238012047</td>\n",
       "      <td>237012161</td>\n",
       "      <td>237</td>\n",
       "      <td>0.0</td>\n",
       "      <td>8318.0</td>\n",
       "      <td>4131.0</td>\n",
       "      <td>56264</td>\n",
       "      <td>-1</td>\n",
       "      <td>56264.0</td>\n",
       "    </tr>\n",
       "    <tr>\n",
       "      <th>2328363</th>\n",
       "      <td>238012048</td>\n",
       "      <td>237012162</td>\n",
       "      <td>237</td>\n",
       "      <td>0.0</td>\n",
       "      <td>8320.0</td>\n",
       "      <td>4289.0</td>\n",
       "      <td>33981</td>\n",
       "      <td>33980</td>\n",
       "      <td>33977.0</td>\n",
       "    </tr>\n",
       "  </tbody>\n",
       "</table>\n",
       "<p>2328364 rows × 9 columns</p>\n",
       "</div>"
      ],
      "text/plain": [
       "                id  parent_id    t    z       y       x  track_id  \\\n",
       "0          3000015    2000015    2  0.0   195.0  3850.0        45   \n",
       "1          3000020    2000019    2  0.0   214.0  4561.0        54   \n",
       "2          3000021    2000023    2  0.0   218.0  5011.0        64   \n",
       "3          3000022    2000024    2  0.0   241.0  4204.0        56   \n",
       "4          3000028    2000022    2  0.0   239.0  3780.0        55   \n",
       "...            ...        ...  ...  ...     ...     ...       ...   \n",
       "2328359  238012044  237012158  237  0.0  8296.0  3763.0     50518   \n",
       "2328360  238012045  237012159  237  0.0  8310.0  4604.0     53233   \n",
       "2328361  238012046  237012160  237  0.0  8307.0  4994.0     34369   \n",
       "2328362  238012047  237012161  237  0.0  8318.0  4131.0     56264   \n",
       "2328363  238012048  237012162  237  0.0  8320.0  4289.0     33981   \n",
       "\n",
       "         parent_track_id     root  \n",
       "0                     -1     45.0  \n",
       "1                     -1     54.0  \n",
       "2                     -1     64.0  \n",
       "3                     -1     56.0  \n",
       "4                     -1     55.0  \n",
       "...                  ...      ...  \n",
       "2328359            50516  50514.0  \n",
       "2328360               -1  53233.0  \n",
       "2328361            34367  34356.0  \n",
       "2328362               -1  56264.0  \n",
       "2328363            33980  33977.0  \n",
       "\n",
       "[2328364 rows x 9 columns]"
      ]
     },
     "execution_count": 7,
     "metadata": {},
     "output_type": "execute_result"
    }
   ],
   "source": [
    "# get a solution in a form of a dataframe\n",
    "\n",
    "df = solution_dataframe_from_sql(f'sqlite:///{org_db_path}')\n",
    "df = add_track_ids_to_tracks_df(df)\n",
    "\n",
    "df.reset_index(inplace=True)\n",
    "df"
   ]
  },
  {
   "cell_type": "code",
   "execution_count": 8,
   "metadata": {},
   "outputs": [
    {
     "data": {
      "text/plain": [
       "Index(['id', 'parent_id', 't', 'z', 'y', 'x', 'track_id', 'parent_track_id',\n",
       "       'root'],\n",
       "      dtype='object')"
      ]
     },
     "execution_count": 8,
     "metadata": {},
     "output_type": "execute_result"
    }
   ],
   "source": [
    "df.columns"
   ]
  },
  {
   "cell_type": "markdown",
   "metadata": {},
   "source": [
    "## Create a cells table"
   ]
  },
  {
   "cell_type": "code",
   "execution_count": 9,
   "metadata": {},
   "outputs": [],
   "source": [
    "# that has to be changed to operate on the original database\n",
    "# because at the moment objects not assigned to a track are not saved in the database\n",
    "# the consideration is what if multiple segmentations were given to ultrack and\n",
    "# there are multiple possible objects for a single cell ???\n",
    "\n",
    "def add_cell(row):\n",
    "\n",
    "        global session\n",
    "        global session_db_org\n",
    "        \n",
    "        cell = CellDB(id = row['id'],\n",
    "                    t =row['t'],\n",
    "                    track_id = row['track_id'],\n",
    "                    row = row['y'],\n",
    "                    col = row['x'])\n",
    "        \n",
    "        # get a mask of this cell\n",
    "        cell_obj = session_db_org.query(NodeDB).filter(NodeDB.id==row['id']).first()\n",
    "\n",
    "        cell.mask = cell_obj.pickle.mask\n",
    "        \n",
    "        cell.bbox_0 = int(cell_obj.pickle.bbox[0])\n",
    "        cell.bbox_1 = int(cell_obj.pickle.bbox[1])\n",
    "        cell.bbox_2 = int(cell_obj.pickle.bbox[2])\n",
    "        cell.bbox_3 = int(cell_obj.pickle.bbox[3])\n",
    "\n",
    "        session.add(cell)"
   ]
  },
  {
   "cell_type": "code",
   "execution_count": 10,
   "metadata": {},
   "outputs": [
    {
     "name": "stderr",
     "output_type": "stream",
     "text": [
      "Progress: 100%|██████████| 2328364/2328364 [14:59<00:00, 2589.43it/s] \n"
     ]
    }
   ],
   "source": [
    "# create a table of cells\n",
    "# exp6 - ~ 15 min\n",
    "\n",
    "tqdm.pandas(desc=\"Progress\")\n",
    "\n",
    "session_db_org = Session(engine_org)\n",
    "session = Session(engine)\n",
    "\n",
    "df.progress_apply(add_cell, axis=1)\n",
    "\n",
    "session.commit()\n",
    "\n",
    "session_db_org.close()\n",
    "session.close()"
   ]
  },
  {
   "cell_type": "markdown",
   "metadata": {},
   "source": [
    "### Add signals to the cells table"
   ]
  },
  {
   "cell_type": "code",
   "execution_count": 11,
   "metadata": {},
   "outputs": [],
   "source": [
    "import dask.array as da"
   ]
  },
  {
   "cell_type": "code",
   "execution_count": 12,
   "metadata": {},
   "outputs": [],
   "source": [
    "ch0_path = r'D:\\kasia\\tracking\\E6_exp\\E6_C0.zarr'\n",
    "ch1_path = r'D:\\kasia\\tracking\\E6_exp\\E6_C1.zarr'\n",
    "\n",
    "ch0_da = da.from_zarr(ch0_path,1)\n",
    "ch1_da = da.from_zarr(ch1_path,1)"
   ]
  },
  {
   "cell_type": "code",
   "execution_count": 13,
   "metadata": {},
   "outputs": [
    {
     "data": {
      "text/plain": [
       "True"
      ]
     },
     "execution_count": 13,
     "metadata": {},
     "output_type": "execute_result"
    }
   ],
   "source": [
    "type(ch0_da)==da.core.Array"
   ]
  },
  {
   "cell_type": "code",
   "execution_count": 14,
   "metadata": {},
   "outputs": [
    {
     "name": "stderr",
     "output_type": "stream",
     "text": [
      "100%|██████████| 241/241 [30:08<00:00,  7.50s/it]\n"
     ]
    }
   ],
   "source": [
    "# for exp6 around 25 min\n",
    "\n",
    "session = Session(engine)\n",
    "\n",
    "for frame in tqdm(range(ch0_da.shape[0])):\n",
    "\n",
    "    cells = session.query(CellDB).filter(CellDB.t==frame).all()\n",
    "    ch0 = ch0_da[frame].compute()\n",
    "    ch1 = ch1_da[frame].compute()\n",
    "\n",
    "    for cell in cells:\n",
    "\n",
    "        # Calculate cell measurements for each cell\n",
    "        new_signals = calculate_cell_signals(cell, [ch0, ch1])\n",
    "        \n",
    "        # Update the signals field with the new JSON data\n",
    "        cell.signals = new_signals\n",
    "        \n",
    "    # Commit changes to the database\n",
    "    session.commit()\n",
    "\n",
    "session.close()"
   ]
  },
  {
   "cell_type": "markdown",
   "metadata": {},
   "source": [
    "## Create a tracks table"
   ]
  },
  {
   "cell_type": "code",
   "execution_count": 15,
   "metadata": {},
   "outputs": [
    {
     "data": {
      "text/html": [
       "<div>\n",
       "<style scoped>\n",
       "    .dataframe tbody tr th:only-of-type {\n",
       "        vertical-align: middle;\n",
       "    }\n",
       "\n",
       "    .dataframe tbody tr th {\n",
       "        vertical-align: top;\n",
       "    }\n",
       "\n",
       "    .dataframe thead th {\n",
       "        text-align: right;\n",
       "    }\n",
       "</style>\n",
       "<table border=\"1\" class=\"dataframe\">\n",
       "  <thead>\n",
       "    <tr style=\"text-align: right;\">\n",
       "      <th></th>\n",
       "      <th>track_id</th>\n",
       "      <th>parent_track_id</th>\n",
       "      <th>root</th>\n",
       "      <th>t_min</th>\n",
       "      <th>t_max</th>\n",
       "    </tr>\n",
       "  </thead>\n",
       "  <tbody>\n",
       "    <tr>\n",
       "      <th>0</th>\n",
       "      <td>1</td>\n",
       "      <td>-1</td>\n",
       "      <td>1.0</td>\n",
       "      <td>3</td>\n",
       "      <td>14</td>\n",
       "    </tr>\n",
       "    <tr>\n",
       "      <th>1</th>\n",
       "      <td>2</td>\n",
       "      <td>-1</td>\n",
       "      <td>2.0</td>\n",
       "      <td>1</td>\n",
       "      <td>50</td>\n",
       "    </tr>\n",
       "    <tr>\n",
       "      <th>2</th>\n",
       "      <td>3</td>\n",
       "      <td>2</td>\n",
       "      <td>2.0</td>\n",
       "      <td>51</td>\n",
       "      <td>116</td>\n",
       "    </tr>\n",
       "    <tr>\n",
       "      <th>3</th>\n",
       "      <td>4</td>\n",
       "      <td>2</td>\n",
       "      <td>2.0</td>\n",
       "      <td>51</td>\n",
       "      <td>71</td>\n",
       "    </tr>\n",
       "    <tr>\n",
       "      <th>4</th>\n",
       "      <td>5</td>\n",
       "      <td>-1</td>\n",
       "      <td>5.0</td>\n",
       "      <td>1</td>\n",
       "      <td>28</td>\n",
       "    </tr>\n",
       "    <tr>\n",
       "      <th>...</th>\n",
       "      <td>...</td>\n",
       "      <td>...</td>\n",
       "      <td>...</td>\n",
       "      <td>...</td>\n",
       "      <td>...</td>\n",
       "    </tr>\n",
       "    <tr>\n",
       "      <th>56297</th>\n",
       "      <td>56298</td>\n",
       "      <td>-1</td>\n",
       "      <td>56298.0</td>\n",
       "      <td>237</td>\n",
       "      <td>239</td>\n",
       "    </tr>\n",
       "    <tr>\n",
       "      <th>56298</th>\n",
       "      <td>56299</td>\n",
       "      <td>-1</td>\n",
       "      <td>56299.0</td>\n",
       "      <td>237</td>\n",
       "      <td>237</td>\n",
       "    </tr>\n",
       "    <tr>\n",
       "      <th>56299</th>\n",
       "      <td>56300</td>\n",
       "      <td>56299</td>\n",
       "      <td>56299.0</td>\n",
       "      <td>238</td>\n",
       "      <td>239</td>\n",
       "    </tr>\n",
       "    <tr>\n",
       "      <th>56300</th>\n",
       "      <td>56301</td>\n",
       "      <td>56299</td>\n",
       "      <td>56299.0</td>\n",
       "      <td>238</td>\n",
       "      <td>239</td>\n",
       "    </tr>\n",
       "    <tr>\n",
       "      <th>56301</th>\n",
       "      <td>56302</td>\n",
       "      <td>-1</td>\n",
       "      <td>56302.0</td>\n",
       "      <td>237</td>\n",
       "      <td>239</td>\n",
       "    </tr>\n",
       "  </tbody>\n",
       "</table>\n",
       "<p>56302 rows × 5 columns</p>\n",
       "</div>"
      ],
      "text/plain": [
       "       track_id  parent_track_id     root  t_min  t_max\n",
       "0             1               -1      1.0      3     14\n",
       "1             2               -1      2.0      1     50\n",
       "2             3                2      2.0     51    116\n",
       "3             4                2      2.0     51     71\n",
       "4             5               -1      5.0      1     28\n",
       "...         ...              ...      ...    ...    ...\n",
       "56297     56298               -1  56298.0    237    239\n",
       "56298     56299               -1  56299.0    237    237\n",
       "56299     56300            56299  56299.0    238    239\n",
       "56300     56301            56299  56299.0    238    239\n",
       "56301     56302               -1  56302.0    237    239\n",
       "\n",
       "[56302 rows x 5 columns]"
      ]
     },
     "execution_count": 15,
     "metadata": {},
     "output_type": "execute_result"
    }
   ],
   "source": [
    "df_tracks = df.groupby(['track_id','parent_track_id' ,'root']).agg({'t':['min','max']})\n",
    "df_tracks.reset_index(inplace=True)\n",
    "df_tracks.columns = ['_'.join(col).strip('_') for col in df_tracks.columns.values]\n",
    "df_tracks"
   ]
  },
  {
   "cell_type": "code",
   "execution_count": 16,
   "metadata": {},
   "outputs": [],
   "source": [
    "def add_track(row):\n",
    "\n",
    "        global session\n",
    "        \n",
    "        track = TrackDB(track_id = row['track_id'],\n",
    "                        parent_track_id = row['parent_track_id'],\n",
    "                        root = row['root'],\n",
    "                        t_begin = row['t_min'],\n",
    "                        t_end = row['t_max'])\n",
    "        \n",
    "\n",
    "        session.add(track)"
   ]
  },
  {
   "cell_type": "code",
   "execution_count": 17,
   "metadata": {},
   "outputs": [],
   "source": [
    "# create a table of tracks\n",
    "\n",
    "session = Session(engine)  \n",
    "\n",
    "df_tracks.apply(add_track, axis=1)\n",
    "\n",
    "session.commit()\n",
    "\n",
    "session.close()"
   ]
  },
  {
   "cell_type": "markdown",
   "metadata": {},
   "source": [
    "## Tests"
   ]
  },
  {
   "cell_type": "code",
   "execution_count": 14,
   "metadata": {},
   "outputs": [
    {
     "data": {
      "text/plain": [
       "[(72, 1124.8367816092),\n",
       " (73, 974.61690647482),\n",
       " (74, 1056.7583497053),\n",
       " (75, 1048.63026819923),\n",
       " (76, 934.575959933222),\n",
       " (77, 870.22629969419),\n",
       " (78, 902.058441558442),\n",
       " (79, 871.124213836478),\n",
       " (80, 799.590395480226),\n",
       " (81, 896.310177705977),\n",
       " (82, 878.967032967033),\n",
       " (83, 898.824193548387),\n",
       " (84, 849.671775223499),\n",
       " (85, 868.837282780411),\n",
       " (86, 842.46015037594),\n",
       " (87, 880.224324324324),\n",
       " (88, 821.526315789474),\n",
       " (89, 791.246110325318),\n",
       " (90, 768.794466403162),\n",
       " (91, 782.233196159122),\n",
       " (92, 813.235807860262),\n",
       " (93, 920.645328719723),\n",
       " (94, 789.628180039139),\n",
       " (95, 767.321828358209),\n",
       " (96, 907.497478991597),\n",
       " (97, 797.595716198126),\n",
       " (98, 915.130136986301),\n",
       " (99, 1009.13223140496)]"
      ]
     },
     "execution_count": 14,
     "metadata": {},
     "output_type": "execute_result"
    }
   ],
   "source": [
    "with Session(engine) as session:\n",
    "\n",
    "    results = session.query(CellDB.t, CellDB.signals['ch1_nuc'])\\\n",
    "        .filter(CellDB.track_id == 40)\\\n",
    "        .order_by(CellDB.t)\\\n",
    "        .all()\n",
    "\n",
    "results"
   ]
  },
  {
   "cell_type": "code",
   "execution_count": null,
   "metadata": {},
   "outputs": [],
   "source": []
  }
 ],
 "metadata": {
  "kernelspec": {
   "display_name": "tracking",
   "language": "python",
   "name": "python3"
  },
  "language_info": {
   "codemirror_mode": {
    "name": "ipython",
    "version": 3
   },
   "file_extension": ".py",
   "mimetype": "text/x-python",
   "name": "python",
   "nbconvert_exporter": "python",
   "pygments_lexer": "ipython3",
   "version": "3.10.13"
  }
 },
 "nbformat": 4,
 "nbformat_minor": 2
}

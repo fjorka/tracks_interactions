{
 "cells": [
  {
   "cell_type": "markdown",
   "metadata": {},
   "source": [
    "### Doodle"
   ]
  },
  {
   "cell_type": "code",
   "execution_count": null,
   "metadata": {},
   "outputs": [],
   "source": [
    "r = int(viewer.camera.center[1])\n",
    "c = int(viewer.camera.center[2])\n",
    "rad = 100"
   ]
  },
  {
   "cell_type": "code",
   "execution_count": null,
   "metadata": {},
   "outputs": [],
   "source": [
    "# get access to the database\n",
    "#new_db_path = r'C:\\Users\\kmk280\\Exp6_gardener.db'\n",
    "new_db_path = r'D:\\kasia\\tracking\\E6_exp\\double_segmentation_ultrack\\Exp6_gardener.db'\n",
    "engine = create_engine(f'sqlite:///{new_db_path}')\n",
    "session = sessionmaker(bind=engine)()"
   ]
  },
  {
   "cell_type": "code",
   "execution_count": null,
   "metadata": {},
   "outputs": [],
   "source": [
    "def build_frame(session,ind,rad):\n",
    "\n",
    "    global viewer\n",
    "\n",
    "    frame = np.zeros([2*rad,2*rad]).astype('uint32')\n",
    "\n",
    "    query = session.query(CellDB).filter(CellDB.t == ind).filter(CellDB.track_id > 23239).filter(CellDB.track_id < 24000).all()\n",
    "\n",
    "    for cell in query:\n",
    "\n",
    "        if ((cell.bbox_0-r+rad > 0) and (cell.bbox_1-c+rad > 0) and (cell.bbox_2-r+rad < 2*rad-1) and (cell.bbox_3-c+rad < 2*rad-1)):\n",
    "\n",
    "            box = frame[cell.bbox_0-r+rad:cell.bbox_2-r+rad,cell.bbox_1-c+rad:cell.bbox_3-c+rad]\n",
    "\n",
    "            if box.shape == cell.mask.shape:\n",
    "\n",
    "                frame[cell.bbox_0-r+rad:cell.bbox_2-r+rad,cell.bbox_1-c+rad:cell.bbox_3-c+rad] = box + (cell.mask.astype('uint32') * cell.track_id)\n",
    "\n",
    "    \n",
    "\n",
    "    return frame"
   ]
  },
  {
   "cell_type": "code",
   "execution_count": null,
   "metadata": {},
   "outputs": [],
   "source": [
    "def build_frame():\n",
    "\n",
    "    global viewer1\n",
    "\n",
    "    ind = viewer1.dims.current_step[0] + 120\n",
    "\n",
    "    frame = np.zeros([2*rad,2*rad]).astype('uint32')\n",
    "\n",
    "    query = session.query(CellDB).filter(CellDB.t == ind).filter(CellDB.track_id > 23239).filter(CellDB.track_id < 30000).all()\n",
    "\n",
    "    for cell in query:\n",
    "\n",
    "        if ((cell.bbox_0-r+rad > 0) and (cell.bbox_1-c+rad > 0) and (cell.bbox_2-r+rad < 2*rad-1) and (cell.bbox_3-c+rad < 2*rad-1)):\n",
    "\n",
    "            box = frame[cell.bbox_0-r+rad:cell.bbox_2-r+rad,cell.bbox_1-c+rad:cell.bbox_3-c+rad]\n",
    "\n",
    "            if box.shape == cell.mask.shape:\n",
    "\n",
    "                frame[cell.bbox_0-r+rad:cell.bbox_2-r+rad,cell.bbox_1-c+rad:cell.bbox_3-c+rad] = box + (cell.mask.astype('uint32') * cell.track_id)\n",
    "\n",
    "    viewer1.layers['Labels'].data = frame\n",
    "\n",
    "    return frame"
   ]
  },
  {
   "cell_type": "code",
   "execution_count": null,
   "metadata": {},
   "outputs": [
    {
     "data": {
      "text/plain": [
       "<function __main__.build_frame()>"
      ]
     },
     "metadata": {},
     "output_type": "display_data"
    }
   ],
   "source": [
    "rad = 200\n",
    "viewer1 = napari.Viewer()\n",
    "viewer1.add_image(np.zeros([100,2*rad,2*rad]))\n",
    "f = np.zeros([2*rad,2*rad]).astype('uint32')\n",
    "viewer1.add_labels(f,name='Labels')\n",
    "viewer1.dims.events.current_step.connect(build_frame)"
   ]
  },
  {
   "cell_type": "code",
   "execution_count": null,
   "metadata": {},
   "outputs": [
    {
     "data": {
      "text/plain": [
       "[121011622 from frame 120 with track_id 23240 at (5587,5540),\n",
       " 121011059 from frame 120 with track_id 23244 at (5511,5463),\n",
       " 121011264 from frame 120 with track_id 23246 at (5516,5603),\n",
       " 121011267 from frame 120 with track_id 23247 at (5544,5604),\n",
       " 121011970 from frame 120 with track_id 23252 at (5686,4183),\n",
       " 121011969 from frame 120 with track_id 23255 at (5704,4171),\n",
       " 121012128 from frame 120 with track_id 23260 at (5738,4160),\n",
       " 121011826 from frame 120 with track_id 23261 at (5646,4292),\n",
       " 121011308 from frame 120 with track_id 23265 at (5497,4113),\n",
       " 121011206 from frame 120 with track_id 23266 at (5466,4079),\n",
       " 121011400 from frame 120 with track_id 23271 at (5531,4198),\n",
       " 121011615 from frame 120 with track_id 23272 at (5589,4132),\n",
       " 121011854 from frame 120 with track_id 23276 at (5653,4152),\n",
       " 121011195 from frame 120 with track_id 23282 at (5497,546),\n",
       " 121011196 from frame 120 with track_id 23285 at (5499,573),\n",
       " 121011282 from frame 120 with track_id 23296 at (5472,3570),\n",
       " 121011847 from frame 120 with track_id 23297 at (5647,3758),\n",
       " 121010609 from frame 120 with track_id 23301 at (5270,4267),\n",
       " 121010801 from frame 120 with track_id 23306 at (5371,7077),\n",
       " 121010989 from frame 120 with track_id 23317 at (5432,7030),\n",
       " 121010982 from frame 120 with track_id 23318 at (5492,7041),\n",
       " 121011292 from frame 120 with track_id 23321 at (5486,3194),\n",
       " 121011600 from frame 120 with track_id 23324 at (5575,3324),\n",
       " 121011097 from frame 120 with track_id 23327 at (5415,3254),\n",
       " 121011354 from frame 120 with track_id 23328 at (5501,3262),\n",
       " 121010856 from frame 120 with track_id 23335 at (5450,4254),\n",
       " 121010853 from frame 120 with track_id 23336 at (5394,4230),\n",
       " 121010855 from frame 120 with track_id 23341 at (5427,4235),\n",
       " 121011367 from frame 120 with track_id 23343 at (5516,4288),\n",
       " 121011360 from frame 120 with track_id 23344 at (5509,4245),\n",
       " 121011134 from frame 120 with track_id 23348 at (5477,7274),\n",
       " 121011533 from frame 120 with track_id 23351 at (5585,7353),\n",
       " 121011128 from frame 120 with track_id 23366 at (5453,7342),\n",
       " 121011138 from frame 120 with track_id 23367 at (5447,7319),\n",
       " 121011121 from frame 120 with track_id 23378 at (5491,7418),\n",
       " 121011405 from frame 120 with track_id 23380 at (5533,7353),\n",
       " 121011130 from frame 120 with track_id 23382 at (5451,7405),\n",
       " 121011451 from frame 120 with track_id 23385 at (5557,5732),\n",
       " 121011252 from frame 120 with track_id 23396 at (5465,5769),\n",
       " 121011249 from frame 120 with track_id 23401 at (5494,5757),\n",
       " 121011452 from frame 120 with track_id 23407 at (5557,5761),\n",
       " 121011823 from frame 120 with track_id 23408 at (5637,5832),\n",
       " 121011368 from frame 120 with track_id 23410 at (5520,4997),\n",
       " 121011242 from frame 120 with track_id 23413 at (5465,5038),\n",
       " 121011358 from frame 120 with track_id 23417 at (5513,5203),\n",
       " 121011593 from frame 120 with track_id 23418 at (5582,5215),\n",
       " 121011378 from frame 120 with track_id 23426 at (5536,5120),\n",
       " 121011380 from frame 120 with track_id 23431 at (5566,5151),\n",
       " 121011379 from frame 120 with track_id 23432 at (5528,5144),\n",
       " 121011244 from frame 120 with track_id 23439 at (5459,7774),\n",
       " 121011958 from frame 120 with track_id 23444 at (5683,330),\n",
       " 121011662 from frame 120 with track_id 23448 at (5608,6220),\n",
       " 121011805 from frame 120 with track_id 23449 at (5629,6142),\n",
       " 121011834 from frame 120 with track_id 23453 at (5649,5911),\n",
       " 121011166 from frame 120 with track_id 23455 at (5533,5915),\n",
       " 121011601 from frame 120 with track_id 23464 at (5575,6059),\n",
       " 121011466 from frame 120 with track_id 23469 at (5561,4909),\n",
       " 121011216 from frame 120 with track_id 23470 at (5532,4681),\n",
       " 121011780 from frame 120 with track_id 23473 at (5622,4623),\n",
       " 121011621 from frame 120 with track_id 23474 at (5583,4655),\n",
       " 121011630 from frame 120 with track_id 23475 at (5591,4838),\n",
       " 121010624 from frame 120 with track_id 23481 at (5449,7642),\n",
       " 121010644 from frame 120 with track_id 23483 at (5388,7722),\n",
       " 121010657 from frame 120 with track_id 23489 at (5450,7553),\n",
       " 121010654 from frame 120 with track_id 23490 at (5458,7587),\n",
       " 121011207 from frame 120 with track_id 23498 at (5494,4071),\n",
       " 121011208 from frame 120 with track_id 23501 at (5516,4067),\n",
       " 121011595 from frame 120 with track_id 23503 at (5577,3808),\n",
       " 121011428 from frame 120 with track_id 23504 at (5557,636),\n",
       " 121011172 from frame 120 with track_id 23507 at (5502,5857),\n",
       " 121011220 from frame 120 with track_id 23511 at (5502,4697),\n",
       " 121011607 from frame 120 with track_id 23512 at (5584,5005),\n",
       " 121011213 from frame 120 with track_id 23514 at (5478,4771),\n",
       " 121011781 from frame 120 with track_id 23516 at (5621,4704),\n",
       " 121011427 from frame 120 with track_id 23519 at (5546,2858),\n",
       " 121011450 from frame 120 with track_id 23520 at (5553,2900),\n",
       " 121011430 from frame 120 with track_id 23525 at (5575,2999),\n",
       " 121011281 from frame 120 with track_id 23526 at (5492,2906),\n",
       " 121011431 from frame 120 with track_id 23531 at (5597,2970),\n",
       " 121011394 from frame 120 with track_id 23542 at (5528,7749),\n",
       " 121011371 from frame 120 with track_id 23545 at (5519,7793),\n",
       " 121011702 from frame 120 with track_id 23559 at (5700,7822),\n",
       " 121011674 from frame 120 with track_id 23561 at (5652,7827),\n",
       " 121011677 from frame 120 with track_id 23562 at (5630,7802),\n",
       " 121011853 from frame 120 with track_id 23566 at (5657,2704),\n",
       " 121011463 from frame 120 with track_id 23570 at (5558,4101),\n",
       " 121011366 from frame 120 with track_id 23573 at (5513,3976),\n",
       " 121011202 from frame 120 with track_id 23575 at (5544,4061),\n",
       " 121011203 from frame 120 with track_id 23576 at (5568,4038),\n",
       " 121011663 from frame 120 with track_id 23581 at (5604,4057),\n",
       " 121011668 from frame 120 with track_id 23588 at (5682,4073),\n",
       " 121011632 from frame 120 with track_id 23591 at (5637,3929),\n",
       " 121012186 from frame 120 with track_id 23594 at (5776,4140),\n",
       " 121012117 from frame 120 with track_id 23596 at (5746,4065),\n",
       " 121012164 from frame 120 with track_id 23597 at (5796,4110),\n",
       " 121011947 from frame 120 with track_id 23606 at (5675,3868),\n",
       " 121011349 from frame 120 with track_id 23609 at (5505,4452),\n",
       " 121011221 from frame 120 with track_id 23615 at (5530,4717),\n",
       " 121011362 from frame 120 with track_id 23617 at (5517,4615),\n",
       " 121011456 from frame 120 with track_id 23619 at (5555,4548),\n",
       " 121011348 from frame 120 with track_id 23620 at (5496,4479),\n",
       " 121011313 from frame 120 with track_id 23624 at (5539,7635),\n",
       " 121011316 from frame 120 with track_id 23625 at (5554,7609),\n",
       " 121011570 from frame 120 with track_id 23631 at (5572,6534),\n",
       " 121011793 from frame 120 with track_id 23636 at (5624,6620),\n",
       " 121012097 from frame 120 with track_id 23639 at (5724,6414),\n",
       " 121012132 from frame 120 with track_id 23643 at (5744,6343),\n",
       " 121012189 from frame 120 with track_id 23644 at (5785,6267),\n",
       " 121011309 from frame 120 with track_id 23649 at (5497,6487),\n",
       " 121011413 from frame 120 with track_id 23654 at (5546,6466),\n",
       " 121011448 from frame 120 with track_id 23658 at (5572,6373),\n",
       " 121011447 from frame 120 with track_id 23659 at (5545,6368),\n",
       " 121011940 from frame 120 with track_id 23663 at (5668,6290),\n",
       " 121011841 from frame 120 with track_id 23667 at (5646,6388),\n",
       " 121011416 from frame 120 with track_id 23668 at (5589,6472),\n",
       " 121011576 from frame 120 with track_id 23672 at (5580,6599),\n",
       " 121011578 from frame 120 with track_id 23675 at (5563,6570),\n",
       " 121011007 from frame 120 with track_id 23680 at (5511,7029),\n",
       " 121011009 from frame 120 with track_id 23688 at (5555,7016),\n",
       " 121011459 from frame 120 with track_id 23690 at (5551,6631),\n",
       " 121011460 from frame 120 with track_id 23693 at (5578,6639),\n",
       " 121011356 from frame 120 with track_id 23698 at (5506,669),\n",
       " 121011752 from frame 120 with track_id 23702 at (5641,651),\n",
       " 121011928 from frame 120 with track_id 23707 at (5704,599),\n",
       " 121011930 from frame 120 with track_id 23708 at (5735,609),\n",
       " 121011197 from frame 120 with track_id 23711 at (5486,593),\n",
       " 121011018 from frame 120 with track_id 23716 at (5419,7000),\n",
       " 121011609 from frame 120 with track_id 23723 at (5579,6774),\n",
       " 121011610 from frame 120 with track_id 23730 at (5586,6746),\n",
       " 121011608 from frame 120 with track_id 23731 at (5586,6717),\n",
       " 121010996 from frame 120 with track_id 23733 at (5577,7008),\n",
       " 121011319 from frame 120 with track_id 23737 at (5505,7613),\n",
       " 121011417 from frame 120 with track_id 23760 at (5542,7987),\n",
       " 121011692 from frame 120 with track_id 23767 at (5643,7916),\n",
       " 121011693 from frame 120 with track_id 23768 at (5672,7868),\n",
       " 121012042 from frame 120 with track_id 23770 at (5705,7993),\n",
       " 121011966 from frame 120 with track_id 23772 at (5686,4248),\n",
       " 121012185 from frame 120 with track_id 23777 at (5793,4160),\n",
       " 121009878 from frame 120 with track_id 23778 at (5002,5187),\n",
       " 121010358 from frame 120 with track_id 23783 at (5165,6884),\n",
       " 121010694 from frame 120 with track_id 23787 at (5283,2607),\n",
       " 121010552 from frame 120 with track_id 23792 at (5241,2633),\n",
       " 121010792 from frame 120 with track_id 23793 at (5316,2688),\n",
       " 121010612 from frame 120 with track_id 23800 at (5272,2814),\n",
       " 121010473 from frame 120 with track_id 23801 at (5223,2775),\n",
       " 121010787 from frame 120 with track_id 23802 at (5315,2635),\n",
       " 121011590 from frame 120 with track_id 23808 at (5569,5854),\n",
       " 121011959 from frame 120 with track_id 23812 at (5684,5880),\n",
       " 121011305 from frame 120 with track_id 23815 at (5566,3400),\n",
       " 121011659 from frame 120 with track_id 23828 at (5599,7577),\n",
       " 121011660 from frame 120 with track_id 23829 at (5630,7565),\n",
       " 121011782 from frame 120 with track_id 23830 at (5624,7529),\n",
       " 121011501 from frame 120 with track_id 23831 at (5666,7497),\n",
       " 121011946 from frame 120 with track_id 23834 at (5671,3073),\n",
       " 121011440 from frame 120 with track_id 23836 at (5623,2979),\n",
       " 121011835 from frame 120 with track_id 23837 at (5647,2876),\n",
       " 121011191 from frame 120 with track_id 23841 at (5441,7489),\n",
       " 121012129 from frame 120 with track_id 23849 at (5738,6523),\n",
       " 121011572 from frame 120 with track_id 23858 at (5614,6535),\n",
       " 121011255 from frame 120 with track_id 23859 at (5498,6638),\n",
       " 121011432 from frame 120 with track_id 23871 at (5594,3049),\n",
       " 121011541 from frame 120 with track_id 23885 at (5704,7362),\n",
       " 121011829 from frame 120 with track_id 23893 at (5643,2217),\n",
       " 121011830 from frame 120 with track_id 23894 at (5660,2185),\n",
       " 121011987 from frame 120 with track_id 23901 at (5693,5442),\n",
       " 121011403 from frame 120 with track_id 23902 at (5561,5361),\n",
       " 121011756 from frame 120 with track_id 23907 at (5613,5453),\n",
       " 121011617 from frame 120 with track_id 23909 at (5578,5415),\n",
       " 121011061 from frame 120 with track_id 23916 at (5521,5502),\n",
       " 121011758 from frame 120 with track_id 23918 at (5619,5503),\n",
       " 121011772 from frame 120 with track_id 23920 at (5616,5327),\n",
       " 121012044 from frame 120 with track_id 23921 at (5715,5485),\n",
       " 121012267 from frame 120 with track_id 23923 at (5816,5714),\n",
       " 121011594 from frame 120 with track_id 23930 at (5576,5497),\n",
       " 121012065 from frame 120 with track_id 23933 at (5741,5658),\n",
       " 121012066 from frame 120 with track_id 23934 at (5725,5641),\n",
       " 121010626 from frame 120 with track_id 23940 at (5453,7673),\n",
       " 121011333 from frame 120 with track_id 23943 at (5495,7703),\n",
       " 121011679 from frame 120 with track_id 23954 at (5762,7788),\n",
       " 121011864 from frame 120 with track_id 23957 at (5682,7727),\n",
       " 121011713 from frame 120 with track_id 23963 at (5751,7840),\n",
       " 121011682 from frame 120 with track_id 23966 at (5727,7787),\n",
       " 121012136 from frame 120 with track_id 23970 at (5744,7664),\n",
       " 121010182 from frame 120 with track_id 23975 at (5091,6503),\n",
       " 121010370 from frame 120 with track_id 23980 at (5179,6375),\n",
       " 121010369 from frame 120 with track_id 23981 at (5205,6353),\n",
       " 121010086 from frame 120 with track_id 23984 at (5272,7522),\n",
       " 121010723 from frame 120 with track_id 23986 at (5291,7572),\n",
       " 121010949 from frame 120 with track_id 23989 at (5377,1454),\n",
       " 121010582 from frame 120 with track_id 23990 at (5280,1435),\n",
       " 121011090 from frame 120 with track_id 23996 at (5447,1739),\n",
       " 121011089 from frame 120 with track_id 23997 at (5426,1745)]"
      ]
     },
     "metadata": {},
     "output_type": "display_data"
    }
   ],
   "source": [
    "session.query(CellDB).filter(CellDB.t == 120).filter(CellDB.track_id > 23239).filter(CellDB.track_id < 24000).all()"
   ]
  },
  {
   "cell_type": "code",
   "execution_count": null,
   "metadata": {},
   "outputs": [],
   "source": [
    "ind = 125\n",
    "query = session.query(CellDB).filter(CellDB.t == ind).filter(CellDB.track_id > 23239).filter(CellDB.track_id < 23280).all()"
   ]
  },
  {
   "cell_type": "code",
   "execution_count": null,
   "metadata": {},
   "outputs": [
    {
     "data": {
      "text/plain": [
       "12"
      ]
     },
     "metadata": {},
     "output_type": "display_data"
    }
   ],
   "source": [
    "len(query)"
   ]
  },
  {
   "cell_type": "code",
   "execution_count": null,
   "metadata": {},
   "outputs": [
    {
     "data": {
      "text/plain": [
       "[126011270 from frame 125 with track_id 22866 at (5426,5497),\n",
       " 126011271 from frame 125 with track_id 22874 at (5447,5526),\n",
       " 126011273 from frame 125 with track_id 22883 at (5437,5550),\n",
       " 126011330 from frame 125 with track_id 21845 at (5433,5643),\n",
       " 126011410 from frame 125 with track_id 22009 at (5458,5457),\n",
       " 126011444 from frame 125 with track_id 38854 at (5476,5575),\n",
       " 126011445 from frame 125 with track_id 38857 at (5495,5592),\n",
       " 126011456 from frame 125 with track_id 23236 at (5478,5493),\n",
       " 126011555 from frame 125 with track_id 23244 at (5514,5475),\n",
       " 126011556 from frame 125 with track_id 23916 at (5514,5508),\n",
       " 126011558 from frame 125 with track_id 23239 at (5511,5545),\n",
       " 126011584 from frame 125 with track_id 23246 at (5526,5606),\n",
       " 126011587 from frame 125 with track_id 23247 at (5553,5599),\n",
       " 126011711 from frame 125 with track_id 23930 at (5570,5494),\n",
       " 126011712 from frame 125 with track_id 23240 at (5570,5554)]"
      ]
     },
     "metadata": {},
     "output_type": "display_data"
    }
   ],
   "source": [
    "query"
   ]
  },
  {
   "cell_type": "code",
   "execution_count": null,
   "metadata": {},
   "outputs": [],
   "source": [
    "ind = 120\n",
    "viewer.camera.zoom = 8\n",
    "query = session.query(CellDB).filter(CellDB.t == ind).filter(CellDB.row > (r-rad)).filter(CellDB.row < (r+rad)).filter(CellDB.col > (c-rad)).filter(CellDB.col < (c+rad)).all()"
   ]
  },
  {
   "cell_type": "code",
   "execution_count": null,
   "metadata": {},
   "outputs": [],
   "source": [
    "def build_frame(session,im_shape,ind):\n",
    "\n",
    "    frame = np.zeros([im_shape[1],im_shape[2]]).astype('uint32')\n",
    "\n",
    "    query = session.query(CellDB).filter(CellDB.t == ind).all()\n",
    "\n",
    "    for cell in query:\n",
    "\n",
    "        box = frame[cell.bbox_0:cell.bbox_2,cell.bbox_1:cell.bbox_3]\n",
    "\n",
    "        frame[cell.bbox_0:cell.bbox_2,cell.bbox_1:cell.bbox_3] = box + (cell.mask.astype('uint32') * cell.track_id)\n",
    "\n",
    "    return frame"
   ]
  }
 ],
 "metadata": {
  "language_info": {
   "name": "python"
  }
 },
 "nbformat": 4,
 "nbformat_minor": 2
}

{
 "cells": [
  {
   "cell_type": "code",
   "execution_count": 1,
   "metadata": {},
   "outputs": [],
   "source": [
    "import os\n",
    "import sys\n",
    "import zarr\n",
    "import tensorstore as ts\n",
    "from numcodecs import Blosc\n",
    "import ome_zarr\n",
    "from ome_zarr.io import parse_url\n",
    "from ome_zarr.writer import write_image\n",
    "import dask.array as da\n",
    "from dask import delayed\n",
    "import napari\n",
    "import numpy as np\n",
    "from tqdm.notebook import tqdm \n",
    "\n",
    "from sqlalchemy import create_engine\n",
    "from sqlalchemy.orm import sessionmaker\n",
    "\n",
    "sys.path.append('..')\n",
    "from tracks_interactions.db.db_model import CellDB, TrackDB"
   ]
  },
  {
   "cell_type": "code",
   "execution_count": 2,
   "metadata": {},
   "outputs": [
    {
     "data": {
      "text/plain": [
       "False"
      ]
     },
     "execution_count": 2,
     "metadata": {},
     "output_type": "execute_result"
    }
   ],
   "source": [
    "os.environ['NAPARI_PERFMON'] = '0'\n",
    "\n",
    "from napari.settings import get_settings\n",
    "settings = get_settings()\n",
    "settings.experimental.async_"
   ]
  },
  {
   "cell_type": "code",
   "execution_count": 3,
   "metadata": {},
   "outputs": [],
   "source": [
    "# get images\n",
    "ch0_path = r'D:\\kasia\\tracking\\E6_exp\\E6_C0.zarr'\n",
    "ch1_path = r'D:\\kasia\\tracking\\E6_exp\\E6_C1.zarr'\n",
    "\n",
    "ch0_list = []\n",
    "for level in range(1,5):\n",
    "    ch0_list.append(da.from_zarr(ch0_path,level))\n",
    "\n",
    "ch1_list = []\n",
    "for level in range(1,5):\n",
    "    ch1_list.append(da.from_zarr(ch1_path,level))"
   ]
  },
  {
   "cell_type": "code",
   "execution_count": 4,
   "metadata": {},
   "outputs": [],
   "source": [
    "# get access to the database\n",
    "new_db_path = r'D:\\kasia\\tracking\\E6_exp\\double_segmentation_ultrack\\Exp6_gardener_v6.db'\n",
    "#r'C:\\Users\\kmk280\\Exp6_gardener_v6.db'\n",
    "engine = create_engine(f'sqlite:///{new_db_path}')\n",
    "session = sessionmaker(bind=engine)()"
   ]
  },
  {
   "cell_type": "code",
   "execution_count": 5,
   "metadata": {},
   "outputs": [],
   "source": [
    "from sqlalchemy import text\n",
    "session.execute(text(\"ANALYZE;\"))\n",
    "session.commit()"
   ]
  },
  {
   "cell_type": "code",
   "execution_count": 6,
   "metadata": {},
   "outputs": [
    {
     "data": {
      "text/plain": [
       "'D:\\\\kasia\\\\tracking\\\\E6_exp\\\\double_segmentation_ultrack\\\\Exp6_gardener_v6.db'"
      ]
     },
     "execution_count": 6,
     "metadata": {},
     "output_type": "execute_result"
    }
   ],
   "source": [
    "new_db_path"
   ]
  },
  {
   "cell_type": "code",
   "execution_count": 7,
   "metadata": {},
   "outputs": [],
   "source": [
    "def build_frame():\n",
    "\n",
    "    global viewer1\n",
    "\n",
    "    if viewer1.layers['Labels'].visible:\n",
    "\n",
    "        query_lim = 500\n",
    "\n",
    "        # get the corner pixels of the viewer - for magnification\n",
    "        corner_pixels = viewer1.layers['Labels'].corner_pixels\n",
    "\n",
    "        r_rad = (corner_pixels[1, 0] - corner_pixels[0, 0])/2\n",
    "        c_rad = (corner_pixels[1, 1] - corner_pixels[0, 1])/2\n",
    "\n",
    "        # get the center position of the viewer\n",
    "        r = viewer1.camera.center[1]\n",
    "        c = viewer1.camera.center[2]\n",
    "\n",
    "        # calculate labels extent\n",
    "        r_start = r - r_rad\n",
    "        r_stop = r + r_rad\n",
    "        c_start = c - c_rad\n",
    "        c_stop = c + c_rad \n",
    "\n",
    "        ind = viewer1.dims.current_step[0]\n",
    "\n",
    "        viewer1.layers['Labels'].data[:] = 0\n",
    "\n",
    "        query = session.query(CellDB).filter(CellDB.t == ind).filter(CellDB.bbox_0 < int(r_stop)).filter(CellDB.bbox_1 < int(c_stop)).filter(CellDB.bbox_2 > int(r_start)).filter(CellDB.bbox_3 > int(c_start)).limit(query_lim).all()\n",
    "    \n",
    "\n",
    "        if len(query) < query_lim:\n",
    "\n",
    "            frame = viewer1.layers['Labels'].data\n",
    "\n",
    "            for cell in query:\n",
    "\n",
    "                frame[cell.bbox_0:cell.bbox_2, cell.bbox_1:cell.bbox_3] += (cell.mask.astype(int) * cell.track_id)\n",
    "\n",
    "            viewer1.layers['Labels'].data = frame\n",
    "            viewer1.status = f'Found {len(query)} cells in the field.'\n",
    "\n",
    "        else:\n",
    "\n",
    "            viewer1.layers['Labels'].refresh()\n",
    "            viewer1.status = f'More than {query_lim} in the field - zoom in to display labels.'"
   ]
  },
  {
   "cell_type": "code",
   "execution_count": 8,
   "metadata": {},
   "outputs": [
    {
     "data": {
      "text/plain": [
       "<function __main__.build_frame()>"
      ]
     },
     "execution_count": 8,
     "metadata": {},
     "output_type": "execute_result"
    }
   ],
   "source": [
    "viewer1 = napari.Viewer()\n",
    "ch1 = viewer1.add_image(ch0_list, name='ch1', colormap = 'green',blending='additive',contrast_limits=[0, 2048])\n",
    "ch2 = viewer1.add_image(ch1_list, name='ch2', colormap = 'red',blending='additive',contrast_limits=[0, 2048])\n",
    "viewer1.add_labels(np.zeros([ch0_list[0].shape[1],ch0_list[0].shape[2]]).astype(int),name='Labels')\n",
    "viewer1.dims.events.current_step.connect(build_frame)\n",
    "viewer1.camera.events.zoom.connect(build_frame)\n",
    "viewer1.camera.events.center.connect(build_frame)\n",
    "viewer1.layers['Labels'].events.visible.connect(build_frame)"
   ]
  },
  {
   "cell_type": "code",
   "execution_count": 71,
   "metadata": {},
   "outputs": [
    {
     "data": {
      "text/plain": [
       "array([[5561, 5185],\n",
       "       [5656, 5292]])"
      ]
     },
     "execution_count": 71,
     "metadata": {},
     "output_type": "execute_result"
    }
   ],
   "source": [
    "viewer1.layers['Labels'].corner_pixels"
   ]
  },
  {
   "cell_type": "code",
   "execution_count": 10,
   "metadata": {},
   "outputs": [
    {
     "name": "stdout",
     "output_type": "stream",
     "text": [
      "CPU times: total: 1.11 s\n",
      "Wall time: 156 ms\n"
     ]
    }
   ],
   "source": [
    "%%time\n",
    "build_frame()"
   ]
  },
  {
   "cell_type": "markdown",
   "metadata": {},
   "source": [
    "## Test saving"
   ]
  },
  {
   "cell_type": "code",
   "execution_count": 11,
   "metadata": {},
   "outputs": [],
   "source": [
    "from skimage.measure import regionprops\n",
    "\n",
    "import sys\n",
    "sys.path.append('..')\n",
    "import tracks_interactions.db.db_functions as fdb"
   ]
  },
  {
   "cell_type": "code",
   "execution_count": 12,
   "metadata": {},
   "outputs": [],
   "source": [
    "def trackDB_after_cellDB(session, cell_id):\n",
    "\n",
    "    \"\"\"\n",
    "    Function to deal with tracks upon cell removal/adding\n",
    "    cell_id - id of the removed cell\n",
    "    current_frame\n",
    "    \"\"\"\n",
    "\n",
    "    track = session.query(TrackDB).filter(TrackDB.track_id == cell_id).first()\n",
    "\n",
    "    if track is not None:\n",
    "\n",
    "        cells_t = session.query(CellDB.t).filter(CellDB.track_id == cell_id).all()\n",
    "        cells_t  = [cell[0] for cell in cells_t]\n",
    "\n",
    "        t_min = min(cells_t)\n",
    "        t_max = max(cells_t)\n",
    "\n",
    "        track.t_begin = t_min\n",
    "        track.t_end = t_max\n",
    "\n",
    "        session.commit()"
   ]
  },
  {
   "cell_type": "code",
   "execution_count": 24,
   "metadata": {},
   "outputs": [],
   "source": [
    "def add_new_core_CellDB(session,current_frame,cell):\n",
    "    \n",
    "    \"\"\"\n",
    "    session\n",
    "    current_frame \n",
    "    cell - regionprops format cell\n",
    "    \"\"\"\n",
    "\n",
    "    # start the object\n",
    "    cell_db = CellDB(id=cell.label, t=current_frame, track_id=cell.label)\n",
    "\n",
    "    cell_db.row = int(cell.centroid[0])\n",
    "    cell_db.col = int(cell.centroid[1])\n",
    "\n",
    "    cell_db.bbox_0 = int(cell.bbox[0])\n",
    "    cell_db.bbox_1 = int(cell.bbox[1])\n",
    "    cell_db.bbox_2 = int(cell.bbox[2])\n",
    "    cell_db.bbox_3 = int(cell.bbox[3])\n",
    "\n",
    "    cell_db.mask = cell.image\n",
    "\n",
    "    session.add(cell_db)\n",
    "    session.commit()\n",
    "\n",
    "    return cell_db"
   ]
  },
  {
   "cell_type": "code",
   "execution_count": 14,
   "metadata": {},
   "outputs": [],
   "source": [
    "# function to add a complete cell\n",
    "def add_new_CellDB(session, current_frame, cell, modified = True, ch_list = None, ch_names = None, ring_width = 5):\n",
    "   \n",
    "    \"\"\"\n",
    "    Function to add a complete cell\n",
    "    \"\"\"\n",
    "\n",
    "    cell_db = add_new_core_CellDB(session,current_frame,cell) \n",
    "\n",
    "    # add signals to the cell\n",
    "    new_signals = fdb.calculate_cell_signals(cell_db,ch_list=ch_list,ch_names=ch_names,ring_width=ring_width)\n",
    "    cell_db.signals = new_signals\n",
    "\n",
    "    # add modified tag to the cell\n",
    "    tags = {}\n",
    "    if modified:\n",
    "        tags[\"modified\"] = True\n",
    "        cell_db.tags = tags\n",
    "\n",
    "    session.commit()\n",
    "\n",
    "    # deal with the tracks\n",
    "    trackDB_after_cellDB(session, cell_db.track_id)\n",
    "\n",
    "    "
   ]
  },
  {
   "cell_type": "code",
   "execution_count": 15,
   "metadata": {},
   "outputs": [],
   "source": [
    "def remove_CellDB(session, cell_id, current_frame):\n",
    "\n",
    "    cell = session.query(CellDB).filter(CellDB.track_id == cell_id).filter(CellDB.t==current_frame).first()\n",
    "    \n",
    "    session.delete(cell)\n",
    "    session.commit()\n",
    "\n",
    "    # deal with the tracks\n",
    "    trackDB_after_cellDB(session, cell_id)     "
   ]
  },
  {
   "cell_type": "code",
   "execution_count": 65,
   "metadata": {},
   "outputs": [
    {
     "data": {
      "text/plain": [
       "[121010111 from frame 120 with track_id 20122 at (5099,4652),\n",
       " 121010109 from frame 120 with track_id 20427 at (5062,4611),\n",
       " 121010088 from frame 120 with track_id 20428 at (5058,4662),\n",
       " 20834 from frame 120 with track_id 20834 at (5168,4666),\n",
       " 121010138 from frame 120 with track_id 20841 at (5131,4702),\n",
       " 121010136 from frame 120 with track_id 20843 at (5116,4736),\n",
       " 121010139 from frame 120 with track_id 20847 at (5084,4746),\n",
       " 121010140 from frame 120 with track_id 20851 at (5085,4699),\n",
       " 121010110 from frame 120 with track_id 20855 at (5083,4629),\n",
       " 121010240 from frame 120 with track_id 20856 at (5147,4580),\n",
       " 121010229 from frame 120 with track_id 21275 at (5101,4517),\n",
       " 121009951 from frame 120 with track_id 21736 at (5062,4566),\n",
       " 121010311 from frame 120 with track_id 21738 at (5150,4536),\n",
       " 121010239 from frame 120 with track_id 21739 at (5120,4595),\n",
       " 121010402 from frame 120 with track_id 21744 at (5191,4576),\n",
       " 121010525 from frame 120 with track_id 22267 at (5232,4517),\n",
       " 121010310 from frame 120 with track_id 22278 at (5180,4541),\n",
       " 121010433 from frame 120 with track_id 22292 at (5213,4611),\n",
       " 121010578 from frame 120 with track_id 22301 at (5248,4682),\n",
       " 121010434 from frame 120 with track_id 22634 at (5245,4633),\n",
       " 121009950 from frame 120 with track_id 40429 at (5107,4557)]"
      ]
     },
     "execution_count": 65,
     "metadata": {},
     "output_type": "execute_result"
    }
   ],
   "source": [
    "corner_pixels = viewer1.layers[\"ch1\"].corner_pixels * 2**viewer1.layers[\"ch1\"].data_level\n",
    "r_start = corner_pixels[0, 1]\n",
    "r_stop = corner_pixels[1, 1]\n",
    "c_start = corner_pixels[0, 2]\n",
    "c_stop = corner_pixels[1, 2]\n",
    "\n",
    "ind = viewer1.dims.current_step[0]\n",
    "query_lim = 500\n",
    "\n",
    "query = session.query(CellDB).filter(CellDB.t == ind).filter(CellDB.bbox_0 < int(r_stop)).filter(CellDB.bbox_1 < int(c_stop)).filter(CellDB.bbox_2 > int(r_start)).filter(CellDB.bbox_3 > int(c_start)).limit(query_lim).all()\n",
    "query"
   ]
  },
  {
   "cell_type": "code",
   "execution_count": 66,
   "metadata": {},
   "outputs": [
    {
     "name": "stdout",
     "output_type": "stream",
     "text": [
      "20834 has been modified\n",
      "0\n",
      "building frame\n",
      "CPU times: total: 1.23 s\n",
      "Wall time: 316 ms\n"
     ]
    }
   ],
   "source": [
    "%%time\n",
    "\n",
    "current_frame = viewer1.dims.current_step[0]\n",
    "ch_list=[ch0_list[0],ch1_list[0]]\n",
    "\n",
    "refresh_status = False\n",
    "\n",
    "# query \n",
    "query_ids = [cell.track_id for cell in query]\n",
    "\n",
    "regionprops_results = regionprops(viewer1.layers['Labels'].data)\n",
    "\n",
    "for cell_label in regionprops_results: \n",
    "\n",
    "    cell_label_id = cell_label.label\n",
    "\n",
    "    if cell_label_id in query_ids:\n",
    "\n",
    "        # remove from the list\n",
    "        query_ids.remove(cell_label_id)\n",
    "\n",
    "        # get the cell\n",
    "        cell_query = [x for x in query if x.track_id == cell_label_id][0]\n",
    "        \n",
    "        # if modified\n",
    "        row_diff = abs(cell_label.centroid[1] - cell_query.col) > 2\n",
    "        col_diff = abs(cell_label.centroid[0] - cell_query.row) > 2\n",
    "        mask_diff = not np.array_equal(cell_label.image, cell_query.mask)\n",
    "        if (row_diff or col_diff or mask_diff): \n",
    "\n",
    "            # update the database\n",
    "            print(f'{cell_label_id} has been modified')\n",
    "            \n",
    "            # remove old from the database\n",
    "            remove_CellDB(session, cell_label_id, current_frame)\n",
    "\n",
    "            # add new to the database\n",
    "            add_new_CellDB(session, current_frame, cell_label, ch_list = ch_list)\n",
    "\n",
    "            refresh_status = True\n",
    "        \n",
    "    else: \n",
    "\n",
    "        # a new cell\n",
    "        print(f'{cell_label_id} has been added')\n",
    "        # add new to the database\n",
    "        add_new_CellDB(session, current_frame, cell_label, ch_list = ch_list)\n",
    "\n",
    "        refresh_status = True\n",
    "\n",
    "# for cells in query that are no longer in the field\n",
    "for cell_id in query_ids:\n",
    "\n",
    "    # cell is missing\n",
    "    print(f'{cell_id} has been removed')\n",
    "    # remove old from the database\n",
    "    remove_CellDB(session, cell_id, current_frame)\n",
    "\n",
    "    refresh_status = True\n",
    "\n",
    "print(len(query_ids))\n",
    "\n",
    "if refresh_status:\n",
    "    \n",
    "    print('building frame')\n",
    "    # refresh labels layer\n",
    "    build_frame()"
   ]
  },
  {
   "cell_type": "code",
   "execution_count": 38,
   "metadata": {},
   "outputs": [
    {
     "data": {
      "text/plain": [
       "3960.1629213483147"
      ]
     },
     "execution_count": 38,
     "metadata": {},
     "output_type": "execute_result"
    }
   ],
   "source": [
    "cell_label.centroid[1]"
   ]
  },
  {
   "cell_type": "code",
   "execution_count": null,
   "metadata": {},
   "outputs": [],
   "source": [
    "!= cell_query.col"
   ]
  }
 ],
 "metadata": {
  "kernelspec": {
   "display_name": "napari-env",
   "language": "python",
   "name": "python3"
  },
  "language_info": {
   "codemirror_mode": {
    "name": "ipython",
    "version": 3
   },
   "file_extension": ".py",
   "mimetype": "text/x-python",
   "name": "python",
   "nbconvert_exporter": "python",
   "pygments_lexer": "ipython3",
   "version": "3.10.14"
  }
 },
 "nbformat": 4,
 "nbformat_minor": 2
}

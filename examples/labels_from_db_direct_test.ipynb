{
 "cells": [
  {
   "cell_type": "code",
   "execution_count": 1,
   "metadata": {},
   "outputs": [],
   "source": [
    "import os\n",
    "import sys\n",
    "import zarr\n",
    "import tensorstore as ts\n",
    "from numcodecs import Blosc\n",
    "import ome_zarr\n",
    "from ome_zarr.io import parse_url\n",
    "from ome_zarr.writer import write_image\n",
    "import dask.array as da\n",
    "from dask import delayed\n",
    "import napari\n",
    "import numpy as np\n",
    "from tqdm.notebook import tqdm \n",
    "\n",
    "from sqlalchemy import create_engine\n",
    "from sqlalchemy.orm import sessionmaker\n",
    "\n",
    "sys.path.append('..')\n",
    "from tracks_interactions.db.db_model import CellDB, TrackDB"
   ]
  },
  {
   "cell_type": "code",
   "execution_count": 2,
   "metadata": {},
   "outputs": [
    {
     "data": {
      "text/plain": [
       "False"
      ]
     },
     "execution_count": 2,
     "metadata": {},
     "output_type": "execute_result"
    }
   ],
   "source": [
    "os.environ['NAPARI_PERFMON'] = '0'\n",
    "\n",
    "from napari.settings import get_settings\n",
    "settings = get_settings()\n",
    "settings.experimental.async_"
   ]
  },
  {
   "cell_type": "code",
   "execution_count": 3,
   "metadata": {},
   "outputs": [],
   "source": [
    "# get images\n",
    "ch0_path = r'D:\\kasia\\tracking\\E6_exp\\E6_C0.zarr'\n",
    "ch1_path = r'D:\\kasia\\tracking\\E6_exp\\E6_C1.zarr'\n",
    "\n",
    "ch0_list = []\n",
    "for level in range(1,5):\n",
    "    ch0_list.append(da.from_zarr(ch0_path,level))\n",
    "\n",
    "ch1_list = []\n",
    "for level in range(1,5):\n",
    "    ch1_list.append(da.from_zarr(ch1_path,level))"
   ]
  },
  {
   "cell_type": "code",
   "execution_count": 22,
   "metadata": {},
   "outputs": [],
   "source": [
    "# get access to the database\n",
    "new_db_path = r'D:\\kasia\\tracking\\E6_exp\\double_segmentation_ultrack\\Exp6_gardener_v6.db'\n",
    "#r'C:\\Users\\kmk280\\Exp6_gardener_v6.db'\n",
    "engine = create_engine(f'sqlite:///{new_db_path}')\n",
    "session = sessionmaker(bind=engine)()"
   ]
  },
  {
   "cell_type": "code",
   "execution_count": 5,
   "metadata": {},
   "outputs": [],
   "source": [
    "from sqlalchemy import text\n",
    "session.execute(text(\"ANALYZE;\"))\n",
    "session.commit()"
   ]
  },
  {
   "cell_type": "code",
   "execution_count": 6,
   "metadata": {},
   "outputs": [
    {
     "data": {
      "text/plain": [
       "'D:\\\\kasia\\\\tracking\\\\E6_exp\\\\double_segmentation_ultrack\\\\Exp6_gardener_v6.db'"
      ]
     },
     "execution_count": 6,
     "metadata": {},
     "output_type": "execute_result"
    }
   ],
   "source": [
    "new_db_path"
   ]
  },
  {
   "cell_type": "code",
   "execution_count": 7,
   "metadata": {},
   "outputs": [],
   "source": [
    "def build_frame():\n",
    "\n",
    "    global viewer1\n",
    "\n",
    "    if viewer1.layers['Labels'].visible:\n",
    "\n",
    "        query_lim = 500\n",
    "\n",
    "        corner_pixels = viewer1.layers[\"ch1\"].corner_pixels * 2**viewer1.layers[\"ch1\"].data_level\n",
    "        r_start = corner_pixels[0, 1]\n",
    "        r_stop = corner_pixels[1, 1]\n",
    "        c_start = corner_pixels[0, 2]\n",
    "        c_stop = corner_pixels[1, 2]\n",
    "\n",
    "        ind = viewer1.dims.current_step[0]\n",
    "\n",
    "        viewer1.layers['Labels'].data[:] = 0\n",
    "\n",
    "        query = session.query(CellDB).filter(CellDB.t == ind).filter(CellDB.bbox_0 < int(r_stop)).filter(CellDB.bbox_1 < int(c_stop)).filter(CellDB.bbox_2 > int(r_start)).filter(CellDB.bbox_3 > int(c_start)).limit(query_lim).all()\n",
    "    \n",
    "\n",
    "        if len(query) < query_lim:\n",
    "\n",
    "            frame = viewer1.layers['Labels'].data\n",
    "\n",
    "            for cell in query:\n",
    "\n",
    "                frame[cell.bbox_0:cell.bbox_2, cell.bbox_1:cell.bbox_3] += (cell.mask.astype(int) * cell.track_id)\n",
    "\n",
    "            viewer1.layers['Labels'].data = frame\n",
    "            viewer1.status = f'Found {len(query)} cells in the field.'\n",
    "\n",
    "        else:\n",
    "\n",
    "            viewer1.layers['Labels'].refresh()\n",
    "            viewer1.status = f'More than {query_lim} in the field - zoom in to display labels.'"
   ]
  },
  {
   "cell_type": "code",
   "execution_count": 8,
   "metadata": {},
   "outputs": [
    {
     "data": {
      "text/plain": [
       "<function __main__.build_frame()>"
      ]
     },
     "execution_count": 8,
     "metadata": {},
     "output_type": "execute_result"
    }
   ],
   "source": [
    "viewer1 = napari.Viewer()\n",
    "ch1 = viewer1.add_image(ch0_list, name='ch1', colormap = 'green',blending='additive',contrast_limits=[0, 2048])\n",
    "ch2 = viewer1.add_image(ch1_list, name='ch2', colormap = 'red',blending='additive',contrast_limits=[0, 2048])\n",
    "viewer1.add_labels(np.zeros([ch0_list[0].shape[1],ch0_list[0].shape[2]]).astype(int),name='Labels')\n",
    "viewer1.dims.events.current_step.connect(build_frame)\n",
    "viewer1.camera.events.zoom.connect(build_frame)\n",
    "viewer1.camera.events.center.connect(build_frame)\n",
    "viewer1.layers['Labels'].events.visible.connect(build_frame)"
   ]
  },
  {
   "cell_type": "code",
   "execution_count": 10,
   "metadata": {},
   "outputs": [
    {
     "name": "stdout",
     "output_type": "stream",
     "text": [
      "CPU times: total: 609 ms\n",
      "Wall time: 171 ms\n"
     ]
    }
   ],
   "source": [
    "%%time\n",
    "build_frame()"
   ]
  },
  {
   "cell_type": "markdown",
   "metadata": {},
   "source": [
    "## Test saving"
   ]
  },
  {
   "cell_type": "code",
   "execution_count": 11,
   "metadata": {},
   "outputs": [],
   "source": [
    "from skimage.measure import regionprops\n",
    "\n",
    "import sys\n",
    "sys.path.append('..')\n",
    "import tracks_interactions.db.db_functions as fdb"
   ]
  },
  {
   "cell_type": "code",
   "execution_count": 12,
   "metadata": {},
   "outputs": [],
   "source": [
    "def trackDB_after_cellDB(session, cell_id):\n",
    "\n",
    "    \"\"\"\n",
    "    Function to deal with tracks upon cell removal/adding\n",
    "    cell_id - id of the removed cell\n",
    "    current_frame\n",
    "    \"\"\"\n",
    "\n",
    "    track = session.query(TrackDB).filter(TrackDB.track_id == cell_id).first()\n",
    "\n",
    "    if track is not None:\n",
    "\n",
    "        cells_t = session.query(CellDB.t).filter(CellDB.track_id == cell_id).all()\n",
    "        cells_t  = [cell[0] for cell in cells_t]\n",
    "\n",
    "        t_min = min(cells_t)\n",
    "        t_max = max(cells_t)\n",
    "\n",
    "        track.t_begin = t_min\n",
    "        track.t_end = t_max\n",
    "\n",
    "        session.commit()"
   ]
  },
  {
   "cell_type": "code",
   "execution_count": 24,
   "metadata": {},
   "outputs": [],
   "source": [
    "def add_new_core_CellDB(session,current_frame,cell):\n",
    "    \n",
    "    \"\"\"\n",
    "    session\n",
    "    current_frame \n",
    "    cell - regionprops format cell\n",
    "    \"\"\"\n",
    "\n",
    "    # start the object\n",
    "    cell_db = CellDB(id=cell.label, t=current_frame, track_id=cell.label)\n",
    "\n",
    "    cell_db.row = int(cell.centroid[0])\n",
    "    cell_db.col = int(cell.centroid[1])\n",
    "\n",
    "    cell_db.bbox_0 = int(cell.bbox[0])\n",
    "    cell_db.bbox_1 = int(cell.bbox[1])\n",
    "    cell_db.bbox_2 = int(cell.bbox[2])\n",
    "    cell_db.bbox_3 = int(cell.bbox[3])\n",
    "\n",
    "    cell_db.mask = cell.image\n",
    "\n",
    "    session.add(cell_db)\n",
    "    session.commit()\n",
    "\n",
    "    return cell_db"
   ]
  },
  {
   "cell_type": "code",
   "execution_count": 14,
   "metadata": {},
   "outputs": [],
   "source": [
    "# function to add a complete cell\n",
    "def add_new_CellDB(session, current_frame, cell, modified = True, ch_list = None, ch_names = None, ring_width = 5):\n",
    "   \n",
    "    \"\"\"\n",
    "    Function to add a complete cell\n",
    "    \"\"\"\n",
    "\n",
    "    cell_db = add_new_core_CellDB(session,current_frame,cell) \n",
    "\n",
    "    # add signals to the cell\n",
    "    new_signals = fdb.calculate_cell_signals(cell_db,ch_list=ch_list,ch_names=ch_names,ring_width=ring_width)\n",
    "    cell_db.signals = new_signals\n",
    "\n",
    "    # add modified tag to the cell\n",
    "    tags = {}\n",
    "    if modified:\n",
    "        tags[\"modified\"] = True\n",
    "        cell_db.tags = tags\n",
    "\n",
    "    session.commit()\n",
    "\n",
    "    # deal with the tracks\n",
    "    trackDB_after_cellDB(session, cell_db.track_id)\n",
    "\n",
    "    "
   ]
  },
  {
   "cell_type": "code",
   "execution_count": 15,
   "metadata": {},
   "outputs": [],
   "source": [
    "def remove_CellDB(session, cell_id, current_frame):\n",
    "\n",
    "    cell = session.query(CellDB).filter(CellDB.track_id == cell_id).filter(CellDB.t==current_frame).first()\n",
    "    \n",
    "    session.delete(cell)\n",
    "    session.commit()\n",
    "\n",
    "    # deal with the tracks\n",
    "    trackDB_after_cellDB(session, cell_id)     "
   ]
  },
  {
   "cell_type": "code",
   "execution_count": 46,
   "metadata": {},
   "outputs": [
    {
     "data": {
      "text/plain": [
       "[121011970 from frame 120 with track_id 23252 at (5686,4183),\n",
       " 121011308 from frame 120 with track_id 23265 at (5497,4113),\n",
       " 121011400 from frame 120 with track_id 23271 at (5531,4198),\n",
       " 121011615 from frame 120 with track_id 23272 at (5589,4132),\n",
       " 121011854 from frame 120 with track_id 23276 at (5653,4152),\n",
       " 121011207 from frame 120 with track_id 23498 at (5494,4071),\n",
       " 121011208 from frame 120 with track_id 23501 at (5516,4067),\n",
       " 121011463 from frame 120 with track_id 23570 at (5558,4101),\n",
       " 121011202 from frame 120 with track_id 23575 at (5544,4061),\n",
       " 121011203 from frame 120 with track_id 23576 at (5568,4038),\n",
       " 121011663 from frame 120 with track_id 23581 at (5604,4057),\n",
       " 121011668 from frame 120 with track_id 23588 at (5682,4073),\n",
       " 121011666 from frame 120 with track_id 24133 at (5638,4114),\n",
       " 121011464 from frame 120 with track_id 24137 at (5584,4082),\n",
       " 121011667 from frame 120 with track_id 24138 at (5629,4066),\n",
       " 37504 from frame 120 with track_id 37504 at (5693,4004),\n",
       " 121011357 from frame 120 with track_id 38229 at (5511,4159),\n",
       " 121011812 from frame 120 with track_id 41072 at (5632,4179)]"
      ]
     },
     "execution_count": 46,
     "metadata": {},
     "output_type": "execute_result"
    }
   ],
   "source": [
    "corner_pixels = viewer1.layers[\"ch1\"].corner_pixels * 2**viewer1.layers[\"ch1\"].data_level\n",
    "r_start = corner_pixels[0, 1]\n",
    "r_stop = corner_pixels[1, 1]\n",
    "c_start = corner_pixels[0, 2]\n",
    "c_stop = corner_pixels[1, 2]\n",
    "\n",
    "ind = viewer1.dims.current_step[0]\n",
    "query_lim = 500\n",
    "\n",
    "query = session.query(CellDB).filter(CellDB.t == ind).filter(CellDB.bbox_0 < int(r_stop)).filter(CellDB.bbox_1 < int(c_stop)).filter(CellDB.bbox_2 > int(r_start)).filter(CellDB.bbox_3 > int(c_start)).limit(query_lim).all()\n",
    "query"
   ]
  },
  {
   "cell_type": "code",
   "execution_count": 47,
   "metadata": {},
   "outputs": [
    {
     "name": "stdout",
     "output_type": "stream",
     "text": [
      "23252 has been modified\n",
      "23265 has been modified\n",
      "23271 has been modified\n",
      "23272 has been modified\n",
      "23276 has been modified\n",
      "23498 has been modified\n",
      "23501 has been modified\n",
      "23570 has been modified\n",
      "23575 has been modified\n",
      "23576 has been modified\n",
      "23581 has been modified\n",
      "23588 has been modified\n",
      "24137 has been modified\n",
      "24138 has been modified\n",
      "38229 has been modified\n",
      "41072 has been modified\n",
      "0\n",
      "CPU times: total: 1.72 s\n",
      "Wall time: 2.5 s\n"
     ]
    }
   ],
   "source": [
    "%%time\n",
    "\n",
    "current_frame = viewer1.dims.current_step[0]\n",
    "ch_list=[ch0_list[0],ch1_list[0]]\n",
    "\n",
    "refresh_status = False\n",
    "\n",
    "# query \n",
    "query_ids = [cell.track_id for cell in query]\n",
    "\n",
    "regionprops_results = regionprops(viewer1.layers['Labels'].data)\n",
    "\n",
    "for cell_label in regionprops_results: \n",
    "\n",
    "    cell_label_id = cell_label.label\n",
    "\n",
    "    if cell_label_id in query_ids:\n",
    "\n",
    "        # remove from the list\n",
    "        query_ids.remove(cell_label_id)\n",
    "\n",
    "        # get the cell\n",
    "        cell_query = [x for x in query if x.track_id == cell_label_id][0]\n",
    "        \n",
    "        # if modified\n",
    "        if ((int(cell_label.centroid[1]) != cell_query.col) or (int(cell_label.centroid[0]) != cell_query.row) or (not np.array_equal(cell_label.image, cell_query.mask))): \n",
    "\n",
    "            print(int(cell_label.centroid[1]))\n",
    "            print(cell_query.col)\n",
    "\n",
    "            # update the database\n",
    "            print(f'{cell_label_id} has been modified')\n",
    "            \n",
    "            # remove old from the database\n",
    "            remove_CellDB(session, cell_label_id, current_frame)\n",
    "\n",
    "            # add new to the database\n",
    "            add_new_CellDB(session, current_frame, cell_label, ch_list = ch_list)\n",
    "\n",
    "            refresh_status = True\n",
    "        \n",
    "    else: \n",
    "\n",
    "        # a new cell\n",
    "        print(f'{cell_label_id} has been added')\n",
    "        # add new to the database\n",
    "        add_new_CellDB(session, current_frame, cell_label, ch_list = ch_list)\n",
    "\n",
    "        refresh_status = True\n",
    "\n",
    "# for cells in query that are no longer in the field\n",
    "for cell_id in query_ids:\n",
    "\n",
    "    # cell is missing\n",
    "    print(f'{cell_id} has been removed')\n",
    "    # remove old from the database\n",
    "    remove_CellDB(session, cell_id, current_frame)\n",
    "\n",
    "    refresh_status = True\n",
    "\n",
    "print(len(query_ids))\n",
    "\n",
    "if refresh_status:\n",
    "    \n",
    "    # refresh labels layer\n",
    "    build_frame()"
   ]
  },
  {
   "cell_type": "code",
   "execution_count": 38,
   "metadata": {},
   "outputs": [
    {
     "data": {
      "text/plain": [
       "3960.1629213483147"
      ]
     },
     "execution_count": 38,
     "metadata": {},
     "output_type": "execute_result"
    }
   ],
   "source": [
    "cell_label.centroid[1]"
   ]
  },
  {
   "cell_type": "code",
   "execution_count": null,
   "metadata": {},
   "outputs": [],
   "source": [
    "!= cell_query.col"
   ]
  }
 ],
 "metadata": {
  "kernelspec": {
   "display_name": "napari-env",
   "language": "python",
   "name": "python3"
  },
  "language_info": {
   "codemirror_mode": {
    "name": "ipython",
    "version": 3
   },
   "file_extension": ".py",
   "mimetype": "text/x-python",
   "name": "python",
   "nbconvert_exporter": "python",
   "pygments_lexer": "ipython3",
   "version": "3.10.14"
  }
 },
 "nbformat": 4,
 "nbformat_minor": 2
}

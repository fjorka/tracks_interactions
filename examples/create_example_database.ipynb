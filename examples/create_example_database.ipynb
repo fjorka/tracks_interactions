{
 "cells": [
  {
   "cell_type": "code",
   "execution_count": 1,
   "metadata": {},
   "outputs": [],
   "source": [
    "from sqlalchemy import create_engine\n",
    "from sqlalchemy.orm import sessionmaker\n",
    "\n",
    "import sys\n",
    "sys.path.append('..')\n",
    "\n",
    "from tracks_interactions.db.db_model import CellDB, TrackDB,Base\n",
    "from tracks_interactions.db.db_functions import get_descendants"
   ]
  },
  {
   "cell_type": "code",
   "execution_count": 8,
   "metadata": {},
   "outputs": [],
   "source": [
    "# define pathways\n",
    "\n",
    "org_db_path = r'D:\\kasia\\tracking\\E6_exp\\code\\gardener_20_dev\\cells_database_2tables.db'\n",
    "\n",
    "new_db_path = r'../tests/fixtures/db_2tables_test.db'"
   ]
  },
  {
   "cell_type": "code",
   "execution_count": 9,
   "metadata": {},
   "outputs": [],
   "source": [
    "engine = create_engine(f'sqlite:///{org_db_path}')\n",
    "session = sessionmaker(bind=engine)()\n",
    "\n",
    "new_engine = create_engine(f'sqlite:///{new_db_path}')\n",
    "Base.metadata.create_all(new_engine)\n",
    "new_session = sessionmaker(bind=new_engine)()"
   ]
  },
  {
   "cell_type": "code",
   "execution_count": 12,
   "metadata": {},
   "outputs": [
    {
     "data": {
      "text/plain": [
       "[15854,\n",
       " 15855,\n",
       " 15856,\n",
       " 17173,\n",
       " 17175,\n",
       " 17174,\n",
       " 17176,\n",
       " 17177,\n",
       " 17178,\n",
       " 17179,\n",
       " 17180,\n",
       " 17181]"
      ]
     },
     "execution_count": 12,
     "metadata": {},
     "output_type": "execute_result"
    }
   ],
   "source": [
    "# get all the descendants of the selected roots\n",
    "# don't ask for not roots as their parameters will be incorrect in the test database\n",
    "selected_roots = [15854,17173]\n",
    "selected_track_id_list = []\n",
    "\n",
    "for root in selected_roots:\n",
    "    selected_track_id_list.extend([x[0] for x in get_descendants(session,root)])\n",
    "\n",
    "selected_track_id_list"
   ]
  },
  {
   "cell_type": "code",
   "execution_count": 13,
   "metadata": {},
   "outputs": [
    {
     "ename": "InvalidRequestError",
     "evalue": "Object '<CellDB at 0x2e1710719f0>' is already attached to session '1' (this is '2')",
     "output_type": "error",
     "traceback": [
      "\u001b[1;31m---------------------------------------------------------------------------\u001b[0m",
      "\u001b[1;31mInvalidRequestError\u001b[0m                       Traceback (most recent call last)",
      "\u001b[1;32md:\\kasia\\tracking\\E6_exp\\code\\tracks_interactions\\examples\\create_test_database.ipynb Cell 5\u001b[0m line \u001b[0;36m9\n\u001b[0;32m      <a href='vscode-notebook-cell:/d%3A/kasia/tracking/E6_exp/code/tracks_interactions/examples/create_test_database.ipynb#W3sZmlsZQ%3D%3D?line=5'>6</a>\u001b[0m tracks \u001b[39m=\u001b[39m session\u001b[39m.\u001b[39mquery(TrackDB)\u001b[39m.\u001b[39mfilter(TrackDB\u001b[39m.\u001b[39mtrack_id \u001b[39m==\u001b[39m selected_track_id)\u001b[39m.\u001b[39mall()\n\u001b[0;32m      <a href='vscode-notebook-cell:/d%3A/kasia/tracking/E6_exp/code/tracks_interactions/examples/create_test_database.ipynb#W3sZmlsZQ%3D%3D?line=7'>8</a>\u001b[0m \u001b[39mfor\u001b[39;00m cell \u001b[39min\u001b[39;00m cells:\n\u001b[1;32m----> <a href='vscode-notebook-cell:/d%3A/kasia/tracking/E6_exp/code/tracks_interactions/examples/create_test_database.ipynb#W3sZmlsZQ%3D%3D?line=8'>9</a>\u001b[0m     new_session\u001b[39m.\u001b[39;49madd(cell)\n\u001b[0;32m     <a href='vscode-notebook-cell:/d%3A/kasia/tracking/E6_exp/code/tracks_interactions/examples/create_test_database.ipynb#W3sZmlsZQ%3D%3D?line=10'>11</a>\u001b[0m \u001b[39mfor\u001b[39;00m track \u001b[39min\u001b[39;00m tracks:\n\u001b[0;32m     <a href='vscode-notebook-cell:/d%3A/kasia/tracking/E6_exp/code/tracks_interactions/examples/create_test_database.ipynb#W3sZmlsZQ%3D%3D?line=11'>12</a>\u001b[0m     new_session\u001b[39m.\u001b[39madd(track)\n",
      "File \u001b[1;32mc:\\Users\\kmk280\\.conda\\envs\\tracking\\lib\\site-packages\\sqlalchemy\\orm\\session.py:2648\u001b[0m, in \u001b[0;36mSession.add\u001b[1;34m(self, instance, _warn)\u001b[0m\n\u001b[0;32m   2642\u001b[0m \u001b[39mexcept\u001b[39;00m exc\u001b[39m.\u001b[39mNO_STATE \u001b[39mas\u001b[39;00m err:\n\u001b[0;32m   2643\u001b[0m     util\u001b[39m.\u001b[39mraise_(\n\u001b[0;32m   2644\u001b[0m         exc\u001b[39m.\u001b[39mUnmappedInstanceError(instance),\n\u001b[0;32m   2645\u001b[0m         replace_context\u001b[39m=\u001b[39merr,\n\u001b[0;32m   2646\u001b[0m     )\n\u001b[1;32m-> 2648\u001b[0m \u001b[39mself\u001b[39;49m\u001b[39m.\u001b[39;49m_save_or_update_state(state)\n",
      "File \u001b[1;32mc:\\Users\\kmk280\\.conda\\envs\\tracking\\lib\\site-packages\\sqlalchemy\\orm\\session.py:2672\u001b[0m, in \u001b[0;36mSession._save_or_update_state\u001b[1;34m(self, state)\u001b[0m\n\u001b[0;32m   2670\u001b[0m \u001b[39mdef\u001b[39;00m \u001b[39m_save_or_update_state\u001b[39m(\u001b[39mself\u001b[39m, state):\n\u001b[0;32m   2671\u001b[0m     state\u001b[39m.\u001b[39m_orphaned_outside_of_session \u001b[39m=\u001b[39m \u001b[39mFalse\u001b[39;00m\n\u001b[1;32m-> 2672\u001b[0m     \u001b[39mself\u001b[39;49m\u001b[39m.\u001b[39;49m_save_or_update_impl(state)\n\u001b[0;32m   2674\u001b[0m     mapper \u001b[39m=\u001b[39m _state_mapper(state)\n\u001b[0;32m   2675\u001b[0m     \u001b[39mfor\u001b[39;00m o, m, st_, dct_ \u001b[39min\u001b[39;00m mapper\u001b[39m.\u001b[39mcascade_iterator(\n\u001b[0;32m   2676\u001b[0m         \u001b[39m\"\u001b[39m\u001b[39msave-update\u001b[39m\u001b[39m\"\u001b[39m, state, halt_on\u001b[39m=\u001b[39m\u001b[39mself\u001b[39m\u001b[39m.\u001b[39m_contains_state\n\u001b[0;32m   2677\u001b[0m     ):\n",
      "File \u001b[1;32mc:\\Users\\kmk280\\.conda\\envs\\tracking\\lib\\site-packages\\sqlalchemy\\orm\\session.py:3289\u001b[0m, in \u001b[0;36mSession._save_or_update_impl\u001b[1;34m(self, state)\u001b[0m\n\u001b[0;32m   3287\u001b[0m     \u001b[39mself\u001b[39m\u001b[39m.\u001b[39m_save_impl(state)\n\u001b[0;32m   3288\u001b[0m \u001b[39melse\u001b[39;00m:\n\u001b[1;32m-> 3289\u001b[0m     \u001b[39mself\u001b[39;49m\u001b[39m.\u001b[39;49m_update_impl(state)\n",
      "File \u001b[1;32mc:\\Users\\kmk280\\.conda\\envs\\tracking\\lib\\site-packages\\sqlalchemy\\orm\\session.py:3272\u001b[0m, in \u001b[0;36mSession._update_impl\u001b[1;34m(self, state, revert_deletion)\u001b[0m\n\u001b[0;32m   3269\u001b[0m \u001b[39mif\u001b[39;00m obj \u001b[39mis\u001b[39;00m \u001b[39mNone\u001b[39;00m:\n\u001b[0;32m   3270\u001b[0m     \u001b[39mreturn\u001b[39;00m\n\u001b[1;32m-> 3272\u001b[0m to_attach \u001b[39m=\u001b[39m \u001b[39mself\u001b[39;49m\u001b[39m.\u001b[39;49m_before_attach(state, obj)\n\u001b[0;32m   3274\u001b[0m \u001b[39mself\u001b[39m\u001b[39m.\u001b[39m_deleted\u001b[39m.\u001b[39mpop(state, \u001b[39mNone\u001b[39;00m)\n\u001b[0;32m   3275\u001b[0m \u001b[39mif\u001b[39;00m revert_deletion:\n",
      "File \u001b[1;32mc:\\Users\\kmk280\\.conda\\envs\\tracking\\lib\\site-packages\\sqlalchemy\\orm\\session.py:3366\u001b[0m, in \u001b[0;36mSession._before_attach\u001b[1;34m(self, state, obj)\u001b[0m\n\u001b[0;32m   3363\u001b[0m     \u001b[39mreturn\u001b[39;00m \u001b[39mFalse\u001b[39;00m\n\u001b[0;32m   3365\u001b[0m \u001b[39mif\u001b[39;00m state\u001b[39m.\u001b[39msession_id \u001b[39mand\u001b[39;00m state\u001b[39m.\u001b[39msession_id \u001b[39min\u001b[39;00m _sessions:\n\u001b[1;32m-> 3366\u001b[0m     \u001b[39mraise\u001b[39;00m sa_exc\u001b[39m.\u001b[39mInvalidRequestError(\n\u001b[0;32m   3367\u001b[0m         \u001b[39m\"\u001b[39m\u001b[39mObject \u001b[39m\u001b[39m'\u001b[39m\u001b[39m%s\u001b[39;00m\u001b[39m'\u001b[39m\u001b[39m is already attached to session \u001b[39m\u001b[39m'\u001b[39m\u001b[39m%s\u001b[39;00m\u001b[39m'\u001b[39m\u001b[39m \u001b[39m\u001b[39m\"\u001b[39m\n\u001b[0;32m   3368\u001b[0m         \u001b[39m\"\u001b[39m\u001b[39m(this is \u001b[39m\u001b[39m'\u001b[39m\u001b[39m%s\u001b[39;00m\u001b[39m'\u001b[39m\u001b[39m)\u001b[39m\u001b[39m\"\u001b[39m\n\u001b[0;32m   3369\u001b[0m         \u001b[39m%\u001b[39m (state_str(state), state\u001b[39m.\u001b[39msession_id, \u001b[39mself\u001b[39m\u001b[39m.\u001b[39mhash_key)\n\u001b[0;32m   3370\u001b[0m     )\n\u001b[0;32m   3372\u001b[0m \u001b[39mself\u001b[39m\u001b[39m.\u001b[39mdispatch\u001b[39m.\u001b[39mbefore_attach(\u001b[39mself\u001b[39m, state)\n\u001b[0;32m   3374\u001b[0m \u001b[39mreturn\u001b[39;00m \u001b[39mTrue\u001b[39;00m\n",
      "\u001b[1;31mInvalidRequestError\u001b[0m: Object '<CellDB at 0x2e1710719f0>' is already attached to session '1' (this is '2')"
     ]
    }
   ],
   "source": [
    "# copy the selected tracks and cells to the new database\n",
    "\n",
    "for selected_track_id in selected_track_id_list:\n",
    "    \n",
    "    cells = session.query(CellDB).filter(CellDB.track_id == selected_track_id).all()\n",
    "    tracks = session.query(TrackDB).filter(TrackDB.track_id == selected_track_id).all()\n",
    "\n",
    "    for cell in cells:\n",
    "        new_session.add(cell)\n",
    "\n",
    "    for track in tracks:\n",
    "        new_session.add(track)\n",
    "\n",
    "    new_session.commit()"
   ]
  },
  {
   "cell_type": "code",
   "execution_count": null,
   "metadata": {},
   "outputs": [],
   "source": [
    "# clean up\n",
    "session.close()\n",
    "new_session.close()"
   ]
  }
 ],
 "metadata": {
  "kernelspec": {
   "display_name": "tracking",
   "language": "python",
   "name": "python3"
  },
  "language_info": {
   "codemirror_mode": {
    "name": "ipython",
    "version": 3
   },
   "file_extension": ".py",
   "mimetype": "text/x-python",
   "name": "python",
   "nbconvert_exporter": "python",
   "pygments_lexer": "ipython3",
   "version": "3.10.13"
  }
 },
 "nbformat": 4,
 "nbformat_minor": 2
}

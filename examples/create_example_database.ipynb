{
 "cells": [
  {
   "cell_type": "code",
   "execution_count": null,
   "metadata": {},
   "outputs": [],
   "source": [
    "from sqlalchemy import create_engine\n",
    "from sqlalchemy.orm import sessionmaker\n",
    "from tracks_interactions.db.db_model import CellDB, TrackDB,Base"
   ]
  },
  {
   "cell_type": "code",
   "execution_count": null,
   "metadata": {},
   "outputs": [],
   "source": [
    "# define pathways\n",
    "\n",
    "old_db_path = r'D:\\kasia\\tracking\\E6_exp\\code\\gardener_20_dev\\cells_database_2tables.db'\n",
    "\n",
    "new_db_path = r'../tests/fixtures/db_2tables_test.db'"
   ]
  },
  {
   "cell_type": "code",
   "execution_count": null,
   "metadata": {},
   "outputs": [],
   "source": [
    "engine = create_engine(old_db_path)\n",
    "Session = sessionmaker(bind=engine)\n",
    "session = Session()\n",
    "\n",
    "new_engine = create_engine(new_db_path)\n",
    "Base.metadata.create_all(new_engine)\n",
    "new_session = sessionmaker(bind=new_engine)()"
   ]
  },
  {
   "cell_type": "code",
   "execution_count": null,
   "metadata": {},
   "outputs": [],
   "source": [
    "selected_track_id_list = []\n",
    "\n",
    "for selected_track_id in selected_track_id_list:\n",
    "    \n",
    "    cells = session.query(CellDB).filter(CellDB.track_id == selected_track_id).all()\n",
    "    tracks = session.query(TrackDB).filter(TrackDB.track_id == selected_track_id).all()\n",
    "\n",
    "    for cell in cells:\n",
    "        new_session.add(cell)\n",
    "\n",
    "    for track in tracks:\n",
    "        new_session.add(track)\n",
    "\n",
    "    new_session.commit()"
   ]
  },
  {
   "cell_type": "code",
   "execution_count": null,
   "metadata": {},
   "outputs": [],
   "source": [
    "# clean up\n",
    "session.close()\n",
    "new_session.close()"
   ]
  }
 ],
 "metadata": {
  "language_info": {
   "name": "python"
  }
 },
 "nbformat": 4,
 "nbformat_minor": 2
}

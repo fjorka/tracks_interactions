{
 "cells": [
  {
   "cell_type": "code",
   "execution_count": 9,
   "metadata": {},
   "outputs": [],
   "source": [
    "from sqlalchemy import create_engine, inspect\n",
    "from sqlalchemy.orm import sessionmaker\n",
    "\n",
    "import sys\n",
    "sys.path.append('..')\n",
    "\n",
    "from tracks_interactions.db.db_model import CellDB, TrackDB,Base\n",
    "from tracks_interactions.db.db_functions import get_descendants"
   ]
  },
  {
   "cell_type": "code",
   "execution_count": 3,
   "metadata": {},
   "outputs": [],
   "source": [
    "# define pathways\n",
    "\n",
    "org_db_path = r'D:\\kasia\\tracking\\E6_exp\\code\\gardener_20_dev\\cells_database_2tables.db'\n",
    "\n",
    "new_db_path = r'../tests/fixtures/db_2tables_test.db'"
   ]
  },
  {
   "cell_type": "code",
   "execution_count": 4,
   "metadata": {},
   "outputs": [],
   "source": [
    "engine = create_engine(f'sqlite:///{org_db_path}')\n",
    "session = sessionmaker(bind=engine)()\n",
    "\n",
    "new_engine = create_engine(f'sqlite:///{new_db_path}')\n",
    "Base.metadata.create_all(new_engine)\n",
    "new_session = sessionmaker(bind=new_engine)()"
   ]
  },
  {
   "cell_type": "code",
   "execution_count": 5,
   "metadata": {},
   "outputs": [
    {
     "data": {
      "text/plain": [
       "[15854,\n",
       " 15855,\n",
       " 15856,\n",
       " 17173,\n",
       " 17175,\n",
       " 17174,\n",
       " 17176,\n",
       " 17177,\n",
       " 17178,\n",
       " 17179,\n",
       " 17180,\n",
       " 17181]"
      ]
     },
     "execution_count": 5,
     "metadata": {},
     "output_type": "execute_result"
    }
   ],
   "source": [
    "# get all the descendants of the selected roots\n",
    "# don't ask for not roots as their parameters will be incorrect in the test database\n",
    "selected_roots = [15854,17173]\n",
    "selected_track_id_list = []\n",
    "\n",
    "for root in selected_roots:\n",
    "    selected_track_id_list.extend([x[0] for x in get_descendants(session,root)])\n",
    "\n",
    "selected_track_id_list"
   ]
  },
  {
   "cell_type": "code",
   "execution_count": 11,
   "metadata": {},
   "outputs": [],
   "source": [
    "# copy the selected tracks and cells to the new database\n",
    "\n",
    "for selected_track_id in selected_track_id_list:\n",
    "    \n",
    "    cells = session.query(CellDB).filter(CellDB.track_id == selected_track_id).all()\n",
    "    tracks = session.query(TrackDB).filter(TrackDB.track_id == selected_track_id).all()\n",
    "\n",
    "    for cell in cells:\n",
    "        \n",
    "        # Create a new instance of CellDB\n",
    "        new_cell = CellDB()\n",
    "        \n",
    "        # Deep copy\n",
    "        for key, value in inspect(cell).attrs.items():\n",
    "            setattr(new_cell, key, value.value)\n",
    "\n",
    "        new_session.add(new_cell)\n",
    "\n",
    "    for track in tracks:\n",
    "\n",
    "        # Create a new instance of TrackDB\n",
    "        new_track = TrackDB()\n",
    "\n",
    "        # Deep copy\n",
    "        for key, value in inspect(track).attrs.items():\n",
    "            setattr(new_track, key, value.value)\n",
    "        \n",
    "        new_session.add(new_track)\n",
    "\n",
    "    new_session.commit()"
   ]
  },
  {
   "cell_type": "code",
   "execution_count": 12,
   "metadata": {},
   "outputs": [],
   "source": [
    "# clean up\n",
    "session.close()\n",
    "new_session.close()"
   ]
  },
  {
   "cell_type": "code",
   "execution_count": null,
   "metadata": {},
   "outputs": [],
   "source": []
  }
 ],
 "metadata": {
  "kernelspec": {
   "display_name": "tracking",
   "language": "python",
   "name": "python3"
  },
  "language_info": {
   "codemirror_mode": {
    "name": "ipython",
    "version": 3
   },
   "file_extension": ".py",
   "mimetype": "text/x-python",
   "name": "python",
   "nbconvert_exporter": "python",
   "pygments_lexer": "ipython3",
   "version": "3.10.13"
  }
 },
 "nbformat": 4,
 "nbformat_minor": 2
}

{
 "cells": [
  {
   "cell_type": "code",
   "execution_count": 1,
   "metadata": {},
   "outputs": [],
   "source": [
    "%load_ext autoreload\n",
    "%autoreload 2\n",
    "\n",
    "import numpy as np\n",
    "from tqdm import tqdm\n",
    "\n",
    "import sqlalchemy as sqla\n",
    "from sqlalchemy import create_engine, Column, and_\n",
    "from sqlalchemy.orm import Session\n",
    "\n",
    "from ultrack.core.database import NodeDB\n",
    "from ultrack.core.export.utils import solution_dataframe_from_sql\n",
    "\n",
    "import sys\n",
    "sys.path.append('..')\n",
    "from tracks_interactions.db.db_model import Base, CellDB, TrackDB\n",
    "from tracks_interactions.db.db_functions import add_track_ids_to_tracks_df, calculate_cell_signals"
   ]
  },
  {
   "cell_type": "code",
   "execution_count": 2,
   "metadata": {},
   "outputs": [],
   "source": [
    "# create a new database\n",
    "\n",
    "new_db_path = r'D:\\kasia\\tracking\\E6_exp\\sample_data\\cells_database_expand.db'\n",
    "\n",
    "engine = create_engine(f'sqlite:///{new_db_path}')\n",
    "\n",
    "# creates a table\n",
    "Base.metadata.create_all(engine) "
   ]
  },
  {
   "cell_type": "code",
   "execution_count": 3,
   "metadata": {},
   "outputs": [],
   "source": [
    "# get engine for the original database\n",
    "\n",
    "org_db_path = r'D:\\kasia\\tracking\\E6_exp\\code\\gardener_20_dev\\data.db'\n",
    "engine_org = create_engine(f'sqlite:///{org_db_path}')"
   ]
  },
  {
   "cell_type": "code",
   "execution_count": 4,
   "metadata": {},
   "outputs": [
    {
     "name": "stderr",
     "output_type": "stream",
     "text": [
      "c:\\Users\\kmk280\\.conda\\envs\\tracking\\lib\\site-packages\\numba\\typed\\typeddict.py:39: NumbaTypeSafetyWarning: \u001b[1m\u001b[1m\u001b[1munsafe cast from int64 to int32. Precision may be lost.\u001b[0m\u001b[0m\u001b[0m\n",
      "  return d[key]\n"
     ]
    },
    {
     "data": {
      "text/html": [
       "<div>\n",
       "<style scoped>\n",
       "    .dataframe tbody tr th:only-of-type {\n",
       "        vertical-align: middle;\n",
       "    }\n",
       "\n",
       "    .dataframe tbody tr th {\n",
       "        vertical-align: top;\n",
       "    }\n",
       "\n",
       "    .dataframe thead th {\n",
       "        text-align: right;\n",
       "    }\n",
       "</style>\n",
       "<table border=\"1\" class=\"dataframe\">\n",
       "  <thead>\n",
       "    <tr style=\"text-align: right;\">\n",
       "      <th></th>\n",
       "      <th>id</th>\n",
       "      <th>parent_id</th>\n",
       "      <th>t</th>\n",
       "      <th>z</th>\n",
       "      <th>y</th>\n",
       "      <th>x</th>\n",
       "      <th>track_id</th>\n",
       "      <th>parent_track_id</th>\n",
       "      <th>root</th>\n",
       "    </tr>\n",
       "  </thead>\n",
       "  <tbody>\n",
       "    <tr>\n",
       "      <th>0</th>\n",
       "      <td>1000017</td>\n",
       "      <td>-1</td>\n",
       "      <td>0</td>\n",
       "      <td>0.0</td>\n",
       "      <td>213.0</td>\n",
       "      <td>4549.0</td>\n",
       "      <td>1</td>\n",
       "      <td>-1</td>\n",
       "      <td>1.0</td>\n",
       "    </tr>\n",
       "    <tr>\n",
       "      <th>1</th>\n",
       "      <td>1000020</td>\n",
       "      <td>-1</td>\n",
       "      <td>0</td>\n",
       "      <td>0.0</td>\n",
       "      <td>225.0</td>\n",
       "      <td>3607.0</td>\n",
       "      <td>4</td>\n",
       "      <td>-1</td>\n",
       "      <td>4.0</td>\n",
       "    </tr>\n",
       "    <tr>\n",
       "      <th>2</th>\n",
       "      <td>1000021</td>\n",
       "      <td>-1</td>\n",
       "      <td>0</td>\n",
       "      <td>0.0</td>\n",
       "      <td>231.0</td>\n",
       "      <td>5027.0</td>\n",
       "      <td>5</td>\n",
       "      <td>-1</td>\n",
       "      <td>5.0</td>\n",
       "    </tr>\n",
       "    <tr>\n",
       "      <th>3</th>\n",
       "      <td>1000028</td>\n",
       "      <td>-1</td>\n",
       "      <td>0</td>\n",
       "      <td>0.0</td>\n",
       "      <td>270.0</td>\n",
       "      <td>3647.0</td>\n",
       "      <td>8</td>\n",
       "      <td>-1</td>\n",
       "      <td>8.0</td>\n",
       "    </tr>\n",
       "    <tr>\n",
       "      <th>4</th>\n",
       "      <td>1000029</td>\n",
       "      <td>-1</td>\n",
       "      <td>0</td>\n",
       "      <td>0.0</td>\n",
       "      <td>289.0</td>\n",
       "      <td>3631.0</td>\n",
       "      <td>9</td>\n",
       "      <td>-1</td>\n",
       "      <td>9.0</td>\n",
       "    </tr>\n",
       "    <tr>\n",
       "      <th>...</th>\n",
       "      <td>...</td>\n",
       "      <td>...</td>\n",
       "      <td>...</td>\n",
       "      <td>...</td>\n",
       "      <td>...</td>\n",
       "      <td>...</td>\n",
       "      <td>...</td>\n",
       "      <td>...</td>\n",
       "      <td>...</td>\n",
       "    </tr>\n",
       "    <tr>\n",
       "      <th>2021053</th>\n",
       "      <td>239010184</td>\n",
       "      <td>238010283</td>\n",
       "      <td>238</td>\n",
       "      <td>0.0</td>\n",
       "      <td>8311.0</td>\n",
       "      <td>4620.0</td>\n",
       "      <td>69589</td>\n",
       "      <td>-1</td>\n",
       "      <td>69589.0</td>\n",
       "    </tr>\n",
       "    <tr>\n",
       "      <th>2021054</th>\n",
       "      <td>239010185</td>\n",
       "      <td>238010284</td>\n",
       "      <td>238</td>\n",
       "      <td>0.0</td>\n",
       "      <td>8312.0</td>\n",
       "      <td>4995.0</td>\n",
       "      <td>64351</td>\n",
       "      <td>-1</td>\n",
       "      <td>64351.0</td>\n",
       "    </tr>\n",
       "    <tr>\n",
       "      <th>2021055</th>\n",
       "      <td>239010186</td>\n",
       "      <td>238010287</td>\n",
       "      <td>238</td>\n",
       "      <td>0.0</td>\n",
       "      <td>8317.0</td>\n",
       "      <td>4130.0</td>\n",
       "      <td>73597</td>\n",
       "      <td>73595</td>\n",
       "      <td>73595.0</td>\n",
       "    </tr>\n",
       "    <tr>\n",
       "      <th>2021056</th>\n",
       "      <td>239010187</td>\n",
       "      <td>238010289</td>\n",
       "      <td>238</td>\n",
       "      <td>0.0</td>\n",
       "      <td>8319.0</td>\n",
       "      <td>4072.0</td>\n",
       "      <td>73596</td>\n",
       "      <td>73595</td>\n",
       "      <td>73595.0</td>\n",
       "    </tr>\n",
       "    <tr>\n",
       "      <th>2021057</th>\n",
       "      <td>239010188</td>\n",
       "      <td>238010288</td>\n",
       "      <td>238</td>\n",
       "      <td>0.0</td>\n",
       "      <td>8316.0</td>\n",
       "      <td>4281.0</td>\n",
       "      <td>67049</td>\n",
       "      <td>-1</td>\n",
       "      <td>67049.0</td>\n",
       "    </tr>\n",
       "  </tbody>\n",
       "</table>\n",
       "<p>2021058 rows × 9 columns</p>\n",
       "</div>"
      ],
      "text/plain": [
       "                id  parent_id    t    z       y       x  track_id  \\\n",
       "0          1000017         -1    0  0.0   213.0  4549.0         1   \n",
       "1          1000020         -1    0  0.0   225.0  3607.0         4   \n",
       "2          1000021         -1    0  0.0   231.0  5027.0         5   \n",
       "3          1000028         -1    0  0.0   270.0  3647.0         8   \n",
       "4          1000029         -1    0  0.0   289.0  3631.0         9   \n",
       "...            ...        ...  ...  ...     ...     ...       ...   \n",
       "2021053  239010184  238010283  238  0.0  8311.0  4620.0     69589   \n",
       "2021054  239010185  238010284  238  0.0  8312.0  4995.0     64351   \n",
       "2021055  239010186  238010287  238  0.0  8317.0  4130.0     73597   \n",
       "2021056  239010187  238010289  238  0.0  8319.0  4072.0     73596   \n",
       "2021057  239010188  238010288  238  0.0  8316.0  4281.0     67049   \n",
       "\n",
       "         parent_track_id     root  \n",
       "0                     -1      1.0  \n",
       "1                     -1      4.0  \n",
       "2                     -1      5.0  \n",
       "3                     -1      8.0  \n",
       "4                     -1      9.0  \n",
       "...                  ...      ...  \n",
       "2021053               -1  69589.0  \n",
       "2021054               -1  64351.0  \n",
       "2021055            73595  73595.0  \n",
       "2021056            73595  73595.0  \n",
       "2021057               -1  67049.0  \n",
       "\n",
       "[2021058 rows x 9 columns]"
      ]
     },
     "execution_count": 4,
     "metadata": {},
     "output_type": "execute_result"
    }
   ],
   "source": [
    "# get a solution in a form of a dataframe\n",
    "\n",
    "df = solution_dataframe_from_sql(f'sqlite:///{org_db_path}')\n",
    "df = add_track_ids_to_tracks_df(df)\n",
    "\n",
    "df.reset_index(inplace=True)\n",
    "df"
   ]
  },
  {
   "cell_type": "code",
   "execution_count": 5,
   "metadata": {},
   "outputs": [
    {
     "data": {
      "text/plain": [
       "Index(['id', 'parent_id', 't', 'z', 'y', 'x', 'track_id', 'parent_track_id',\n",
       "       'root'],\n",
       "      dtype='object')"
      ]
     },
     "execution_count": 5,
     "metadata": {},
     "output_type": "execute_result"
    }
   ],
   "source": [
    "df.columns"
   ]
  },
  {
   "cell_type": "markdown",
   "metadata": {},
   "source": [
    "## Create a cells table"
   ]
  },
  {
   "cell_type": "code",
   "execution_count": 6,
   "metadata": {},
   "outputs": [],
   "source": [
    "# that has to be changed to operate on the original database\n",
    "# because at the moment objects not assigned to a track are not saved in the database\n",
    "# the consideration is what if multiple segmentations were given to ultrack and\n",
    "# there are multiple possible objects for a single cell ???\n",
    "\n",
    "def add_cell(row):\n",
    "\n",
    "        global session\n",
    "        global session_db_org\n",
    "        \n",
    "        cell = CellDB(id = row['id'],\n",
    "                    t =row['t'],\n",
    "                    track_id = row['track_id'],\n",
    "                    row = row['y'],\n",
    "                    col = row['x'])\n",
    "        \n",
    "        # get a mask of this cell\n",
    "        cell_obj = session_db_org.query(NodeDB).filter(NodeDB.id==row['id']).first()\n",
    "\n",
    "        cell.mask = cell_obj.pickle.mask\n",
    "        \n",
    "        cell.bbox_0 = int(cell_obj.pickle.bbox[0])\n",
    "        cell.bbox_1 = int(cell_obj.pickle.bbox[1])\n",
    "        cell.bbox_2 = int(cell_obj.pickle.bbox[2])\n",
    "        cell.bbox_3 = int(cell_obj.pickle.bbox[3])\n",
    "\n",
    "        session.add(cell)"
   ]
  },
  {
   "cell_type": "code",
   "execution_count": 7,
   "metadata": {},
   "outputs": [
    {
     "name": "stderr",
     "output_type": "stream",
     "text": [
      "Progress: 100%|██████████| 2021058/2021058 [13:24<00:00, 2512.98it/s]\n"
     ]
    }
   ],
   "source": [
    "# create a table of cells\n",
    "# exp6 - ~ 15 min\n",
    "\n",
    "tqdm.pandas(desc=\"Progress\")\n",
    "\n",
    "session_db_org = Session(engine_org)\n",
    "session = Session(engine)\n",
    "\n",
    "df.progress_apply(add_cell, axis=1)\n",
    "\n",
    "session.commit()\n",
    "\n",
    "session_db_org.close()\n",
    "session.close()"
   ]
  },
  {
   "cell_type": "markdown",
   "metadata": {},
   "source": [
    "### Add signals to the cells table"
   ]
  },
  {
   "cell_type": "code",
   "execution_count": 8,
   "metadata": {},
   "outputs": [],
   "source": [
    "import dask.array as da"
   ]
  },
  {
   "cell_type": "code",
   "execution_count": 9,
   "metadata": {},
   "outputs": [],
   "source": [
    "ch0_path = r'D:\\kasia\\tracking\\E6_exp\\E6_C0.zarr'\n",
    "ch1_path = r'D:\\kasia\\tracking\\E6_exp\\E6_C1.zarr'\n",
    "\n",
    "ch0_da = da.from_zarr(ch0_path,1)\n",
    "ch1_da = da.from_zarr(ch1_path,1)"
   ]
  },
  {
   "cell_type": "code",
   "execution_count": 25,
   "metadata": {},
   "outputs": [
    {
     "data": {
      "text/plain": [
       "True"
      ]
     },
     "execution_count": 25,
     "metadata": {},
     "output_type": "execute_result"
    }
   ],
   "source": [
    "type(ch0_da)==da.core.Array"
   ]
  },
  {
   "cell_type": "code",
   "execution_count": 10,
   "metadata": {},
   "outputs": [
    {
     "name": "stderr",
     "output_type": "stream",
     "text": [
      "100%|██████████| 241/241 [24:03<00:00,  5.99s/it]\n"
     ]
    }
   ],
   "source": [
    "# for exp6 around 25 min\n",
    "\n",
    "session = Session(engine)\n",
    "\n",
    "for frame in tqdm(range(ch0_da.shape[0])):\n",
    "\n",
    "    cells = session.query(CellDB).filter(CellDB.t==frame).all()\n",
    "    ch0 = ch0_da[frame].compute()\n",
    "    ch1 = ch1_da[frame].compute()\n",
    "\n",
    "    for cell in cells:\n",
    "\n",
    "        # Calculate cell measurements for each cell\n",
    "        new_signals = calculate_cell_signals(cell, [ch0, ch1])\n",
    "        \n",
    "        # Update the signals field with the new JSON data\n",
    "        cell.signals = new_signals\n",
    "        \n",
    "    # Commit changes to the database\n",
    "    session.commit()\n",
    "\n",
    "session.close()"
   ]
  },
  {
   "cell_type": "markdown",
   "metadata": {},
   "source": [
    "## Create a tracks table"
   ]
  },
  {
   "cell_type": "code",
   "execution_count": 11,
   "metadata": {},
   "outputs": [
    {
     "data": {
      "text/html": [
       "<div>\n",
       "<style scoped>\n",
       "    .dataframe tbody tr th:only-of-type {\n",
       "        vertical-align: middle;\n",
       "    }\n",
       "\n",
       "    .dataframe tbody tr th {\n",
       "        vertical-align: top;\n",
       "    }\n",
       "\n",
       "    .dataframe thead th {\n",
       "        text-align: right;\n",
       "    }\n",
       "</style>\n",
       "<table border=\"1\" class=\"dataframe\">\n",
       "  <thead>\n",
       "    <tr style=\"text-align: right;\">\n",
       "      <th></th>\n",
       "      <th>track_id</th>\n",
       "      <th>parent_track_id</th>\n",
       "      <th>root</th>\n",
       "      <th>t_min</th>\n",
       "      <th>t_max</th>\n",
       "    </tr>\n",
       "  </thead>\n",
       "  <tbody>\n",
       "    <tr>\n",
       "      <th>0</th>\n",
       "      <td>1</td>\n",
       "      <td>-1</td>\n",
       "      <td>1.0</td>\n",
       "      <td>0</td>\n",
       "      <td>73</td>\n",
       "    </tr>\n",
       "    <tr>\n",
       "      <th>1</th>\n",
       "      <td>2</td>\n",
       "      <td>1</td>\n",
       "      <td>1.0</td>\n",
       "      <td>74</td>\n",
       "      <td>160</td>\n",
       "    </tr>\n",
       "    <tr>\n",
       "      <th>2</th>\n",
       "      <td>3</td>\n",
       "      <td>1</td>\n",
       "      <td>1.0</td>\n",
       "      <td>74</td>\n",
       "      <td>169</td>\n",
       "    </tr>\n",
       "    <tr>\n",
       "      <th>3</th>\n",
       "      <td>4</td>\n",
       "      <td>-1</td>\n",
       "      <td>4.0</td>\n",
       "      <td>0</td>\n",
       "      <td>154</td>\n",
       "    </tr>\n",
       "    <tr>\n",
       "      <th>4</th>\n",
       "      <td>5</td>\n",
       "      <td>-1</td>\n",
       "      <td>5.0</td>\n",
       "      <td>0</td>\n",
       "      <td>10</td>\n",
       "    </tr>\n",
       "    <tr>\n",
       "      <th>...</th>\n",
       "      <td>...</td>\n",
       "      <td>...</td>\n",
       "      <td>...</td>\n",
       "      <td>...</td>\n",
       "      <td>...</td>\n",
       "    </tr>\n",
       "    <tr>\n",
       "      <th>75013</th>\n",
       "      <td>75014</td>\n",
       "      <td>75012</td>\n",
       "      <td>75012.0</td>\n",
       "      <td>239</td>\n",
       "      <td>240</td>\n",
       "    </tr>\n",
       "    <tr>\n",
       "      <th>75014</th>\n",
       "      <td>75015</td>\n",
       "      <td>-1</td>\n",
       "      <td>75015.0</td>\n",
       "      <td>238</td>\n",
       "      <td>240</td>\n",
       "    </tr>\n",
       "    <tr>\n",
       "      <th>75015</th>\n",
       "      <td>75016</td>\n",
       "      <td>-1</td>\n",
       "      <td>75016.0</td>\n",
       "      <td>238</td>\n",
       "      <td>240</td>\n",
       "    </tr>\n",
       "    <tr>\n",
       "      <th>75016</th>\n",
       "      <td>75017</td>\n",
       "      <td>-1</td>\n",
       "      <td>75017.0</td>\n",
       "      <td>238</td>\n",
       "      <td>240</td>\n",
       "    </tr>\n",
       "    <tr>\n",
       "      <th>75017</th>\n",
       "      <td>75018</td>\n",
       "      <td>-1</td>\n",
       "      <td>75018.0</td>\n",
       "      <td>238</td>\n",
       "      <td>240</td>\n",
       "    </tr>\n",
       "  </tbody>\n",
       "</table>\n",
       "<p>75018 rows × 5 columns</p>\n",
       "</div>"
      ],
      "text/plain": [
       "       track_id  parent_track_id     root  t_min  t_max\n",
       "0             1               -1      1.0      0     73\n",
       "1             2                1      1.0     74    160\n",
       "2             3                1      1.0     74    169\n",
       "3             4               -1      4.0      0    154\n",
       "4             5               -1      5.0      0     10\n",
       "...         ...              ...      ...    ...    ...\n",
       "75013     75014            75012  75012.0    239    240\n",
       "75014     75015               -1  75015.0    238    240\n",
       "75015     75016               -1  75016.0    238    240\n",
       "75016     75017               -1  75017.0    238    240\n",
       "75017     75018               -1  75018.0    238    240\n",
       "\n",
       "[75018 rows x 5 columns]"
      ]
     },
     "execution_count": 11,
     "metadata": {},
     "output_type": "execute_result"
    }
   ],
   "source": [
    "df_tracks = df.groupby(['track_id','parent_track_id' ,'root']).agg({'t':['min','max']})\n",
    "df_tracks.reset_index(inplace=True)\n",
    "df_tracks.columns = ['_'.join(col).strip('_') for col in df_tracks.columns.values]\n",
    "df_tracks"
   ]
  },
  {
   "cell_type": "code",
   "execution_count": 12,
   "metadata": {},
   "outputs": [],
   "source": [
    "def add_track(row):\n",
    "\n",
    "        global session\n",
    "        \n",
    "        track = TrackDB(track_id = row['track_id'],\n",
    "                        parent_track_id = row['parent_track_id'],\n",
    "                        root = row['root'],\n",
    "                        t_begin = row['t_min'],\n",
    "                        t_end = row['t_max'])\n",
    "        \n",
    "\n",
    "        session.add(track)"
   ]
  },
  {
   "cell_type": "code",
   "execution_count": 13,
   "metadata": {},
   "outputs": [],
   "source": [
    "# create a table of tracks\n",
    "\n",
    "session = Session(engine)  \n",
    "\n",
    "df_tracks.apply(add_track, axis=1)\n",
    "\n",
    "session.commit()\n",
    "\n",
    "session.close()"
   ]
  },
  {
   "cell_type": "markdown",
   "metadata": {},
   "source": [
    "## Tests"
   ]
  },
  {
   "cell_type": "code",
   "execution_count": 14,
   "metadata": {},
   "outputs": [
    {
     "data": {
      "text/plain": [
       "[(72, 1124.8367816092),\n",
       " (73, 974.61690647482),\n",
       " (74, 1056.7583497053),\n",
       " (75, 1048.63026819923),\n",
       " (76, 934.575959933222),\n",
       " (77, 870.22629969419),\n",
       " (78, 902.058441558442),\n",
       " (79, 871.124213836478),\n",
       " (80, 799.590395480226),\n",
       " (81, 896.310177705977),\n",
       " (82, 878.967032967033),\n",
       " (83, 898.824193548387),\n",
       " (84, 849.671775223499),\n",
       " (85, 868.837282780411),\n",
       " (86, 842.46015037594),\n",
       " (87, 880.224324324324),\n",
       " (88, 821.526315789474),\n",
       " (89, 791.246110325318),\n",
       " (90, 768.794466403162),\n",
       " (91, 782.233196159122),\n",
       " (92, 813.235807860262),\n",
       " (93, 920.645328719723),\n",
       " (94, 789.628180039139),\n",
       " (95, 767.321828358209),\n",
       " (96, 907.497478991597),\n",
       " (97, 797.595716198126),\n",
       " (98, 915.130136986301),\n",
       " (99, 1009.13223140496)]"
      ]
     },
     "execution_count": 14,
     "metadata": {},
     "output_type": "execute_result"
    }
   ],
   "source": [
    "with Session(engine) as session:\n",
    "\n",
    "    results = session.query(CellDB.t, CellDB.signals['ch1_nuc'])\\\n",
    "        .filter(CellDB.track_id == 40)\\\n",
    "        .order_by(CellDB.t)\\\n",
    "        .all()\n",
    "\n",
    "results"
   ]
  },
  {
   "cell_type": "code",
   "execution_count": null,
   "metadata": {},
   "outputs": [],
   "source": []
  }
 ],
 "metadata": {
  "kernelspec": {
   "display_name": "tracking",
   "language": "python",
   "name": "python3"
  },
  "language_info": {
   "codemirror_mode": {
    "name": "ipython",
    "version": 3
   },
   "file_extension": ".py",
   "mimetype": "text/x-python",
   "name": "python",
   "nbconvert_exporter": "python",
   "pygments_lexer": "ipython3",
   "version": "3.10.13"
  }
 },
 "nbformat": 4,
 "nbformat_minor": 2
}

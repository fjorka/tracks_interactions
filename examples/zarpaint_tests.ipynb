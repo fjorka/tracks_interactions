{
 "cells": [
  {
   "cell_type": "code",
   "execution_count": 4,
   "metadata": {},
   "outputs": [],
   "source": [
    "import ome_zarr\n",
    "from tifffile import imread"
   ]
  },
  {
   "cell_type": "code",
   "execution_count": 16,
   "metadata": {},
   "outputs": [],
   "source": [
    "labels_path = r'D:\\kasia\\tracking\\E6_exp\\sample_data\\track_labels.tif'"
   ]
  },
  {
   "cell_type": "code",
   "execution_count": 17,
   "metadata": {},
   "outputs": [],
   "source": [
    "import dask.array as da"
   ]
  },
  {
   "cell_type": "code",
   "execution_count": 19,
   "metadata": {},
   "outputs": [],
   "source": [
    "my_store = imread(my_path,aszarr=True)\n",
    "my_dask_array = da.from_zarr(my_store)"
   ]
  },
  {
   "cell_type": "code",
   "execution_count": 20,
   "metadata": {},
   "outputs": [
    {
     "data": {
      "text/html": [
       "<table>\n",
       "    <tr>\n",
       "        <td>\n",
       "            <table style=\"border-collapse: collapse;\">\n",
       "                <thead>\n",
       "                    <tr>\n",
       "                        <td> </td>\n",
       "                        <th> Array </th>\n",
       "                        <th> Chunk </th>\n",
       "                    </tr>\n",
       "                </thead>\n",
       "                <tbody>\n",
       "                    \n",
       "                    <tr>\n",
       "                        <th> Bytes </th>\n",
       "                        <td> 76.29 MiB </td>\n",
       "                        <td> 3.81 MiB </td>\n",
       "                    </tr>\n",
       "                    \n",
       "                    <tr>\n",
       "                        <th> Shape </th>\n",
       "                        <td> (20, 1000, 1000) </td>\n",
       "                        <td> (1, 1000, 1000) </td>\n",
       "                    </tr>\n",
       "                    <tr>\n",
       "                        <th> Dask graph </th>\n",
       "                        <td colspan=\"2\"> 20 chunks in 2 graph layers </td>\n",
       "                    </tr>\n",
       "                    <tr>\n",
       "                        <th> Data type </th>\n",
       "                        <td colspan=\"2\"> int32 numpy.ndarray </td>\n",
       "                    </tr>\n",
       "                </tbody>\n",
       "            </table>\n",
       "        </td>\n",
       "        <td>\n",
       "        <svg width=\"197\" height=\"187\" style=\"stroke:rgb(0,0,0);stroke-width:1\" >\n",
       "\n",
       "  <!-- Horizontal lines -->\n",
       "  <line x1=\"10\" y1=\"0\" x2=\"27\" y2=\"17\" style=\"stroke-width:2\" />\n",
       "  <line x1=\"10\" y1=\"120\" x2=\"27\" y2=\"137\" style=\"stroke-width:2\" />\n",
       "\n",
       "  <!-- Vertical lines -->\n",
       "  <line x1=\"10\" y1=\"0\" x2=\"10\" y2=\"120\" style=\"stroke-width:2\" />\n",
       "  <line x1=\"10\" y1=\"0\" x2=\"10\" y2=\"120\" />\n",
       "  <line x1=\"11\" y1=\"1\" x2=\"11\" y2=\"121\" />\n",
       "  <line x1=\"12\" y1=\"2\" x2=\"12\" y2=\"122\" />\n",
       "  <line x1=\"13\" y1=\"3\" x2=\"13\" y2=\"123\" />\n",
       "  <line x1=\"14\" y1=\"4\" x2=\"14\" y2=\"124\" />\n",
       "  <line x1=\"15\" y1=\"5\" x2=\"15\" y2=\"125\" />\n",
       "  <line x1=\"15\" y1=\"5\" x2=\"15\" y2=\"125\" />\n",
       "  <line x1=\"16\" y1=\"6\" x2=\"16\" y2=\"126\" />\n",
       "  <line x1=\"17\" y1=\"7\" x2=\"17\" y2=\"127\" />\n",
       "  <line x1=\"18\" y1=\"8\" x2=\"18\" y2=\"128\" />\n",
       "  <line x1=\"19\" y1=\"9\" x2=\"19\" y2=\"129\" />\n",
       "  <line x1=\"20\" y1=\"10\" x2=\"20\" y2=\"130\" />\n",
       "  <line x1=\"21\" y1=\"11\" x2=\"21\" y2=\"131\" />\n",
       "  <line x1=\"21\" y1=\"11\" x2=\"21\" y2=\"131\" />\n",
       "  <line x1=\"22\" y1=\"12\" x2=\"22\" y2=\"132\" />\n",
       "  <line x1=\"23\" y1=\"13\" x2=\"23\" y2=\"133\" />\n",
       "  <line x1=\"24\" y1=\"14\" x2=\"24\" y2=\"134\" />\n",
       "  <line x1=\"25\" y1=\"15\" x2=\"25\" y2=\"135\" />\n",
       "  <line x1=\"27\" y1=\"17\" x2=\"27\" y2=\"137\" style=\"stroke-width:2\" />\n",
       "\n",
       "  <!-- Colored Rectangle -->\n",
       "  <polygon points=\"10.0,0.0 27.076840594396398,17.076840594396398 27.076840594396398,137.0768405943964 10.0,120.0\" style=\"fill:#8B4903A0;stroke-width:0\"/>\n",
       "\n",
       "  <!-- Horizontal lines -->\n",
       "  <line x1=\"10\" y1=\"0\" x2=\"130\" y2=\"0\" style=\"stroke-width:2\" />\n",
       "  <line x1=\"10\" y1=\"0\" x2=\"130\" y2=\"0\" />\n",
       "  <line x1=\"11\" y1=\"1\" x2=\"131\" y2=\"1\" />\n",
       "  <line x1=\"12\" y1=\"2\" x2=\"132\" y2=\"2\" />\n",
       "  <line x1=\"13\" y1=\"3\" x2=\"133\" y2=\"3\" />\n",
       "  <line x1=\"14\" y1=\"4\" x2=\"134\" y2=\"4\" />\n",
       "  <line x1=\"15\" y1=\"5\" x2=\"135\" y2=\"5\" />\n",
       "  <line x1=\"15\" y1=\"5\" x2=\"135\" y2=\"5\" />\n",
       "  <line x1=\"16\" y1=\"6\" x2=\"136\" y2=\"6\" />\n",
       "  <line x1=\"17\" y1=\"7\" x2=\"137\" y2=\"7\" />\n",
       "  <line x1=\"18\" y1=\"8\" x2=\"138\" y2=\"8\" />\n",
       "  <line x1=\"19\" y1=\"9\" x2=\"139\" y2=\"9\" />\n",
       "  <line x1=\"20\" y1=\"10\" x2=\"140\" y2=\"10\" />\n",
       "  <line x1=\"21\" y1=\"11\" x2=\"141\" y2=\"11\" />\n",
       "  <line x1=\"21\" y1=\"11\" x2=\"141\" y2=\"11\" />\n",
       "  <line x1=\"22\" y1=\"12\" x2=\"142\" y2=\"12\" />\n",
       "  <line x1=\"23\" y1=\"13\" x2=\"143\" y2=\"13\" />\n",
       "  <line x1=\"24\" y1=\"14\" x2=\"144\" y2=\"14\" />\n",
       "  <line x1=\"25\" y1=\"15\" x2=\"145\" y2=\"15\" />\n",
       "  <line x1=\"27\" y1=\"17\" x2=\"147\" y2=\"17\" style=\"stroke-width:2\" />\n",
       "\n",
       "  <!-- Vertical lines -->\n",
       "  <line x1=\"10\" y1=\"0\" x2=\"27\" y2=\"17\" style=\"stroke-width:2\" />\n",
       "  <line x1=\"130\" y1=\"0\" x2=\"147\" y2=\"17\" style=\"stroke-width:2\" />\n",
       "\n",
       "  <!-- Colored Rectangle -->\n",
       "  <polygon points=\"10.0,0.0 130.0,0.0 147.0768405943964,17.076840594396398 27.076840594396398,17.076840594396398\" style=\"fill:#8B4903A0;stroke-width:0\"/>\n",
       "\n",
       "  <!-- Horizontal lines -->\n",
       "  <line x1=\"27\" y1=\"17\" x2=\"147\" y2=\"17\" style=\"stroke-width:2\" />\n",
       "  <line x1=\"27\" y1=\"137\" x2=\"147\" y2=\"137\" style=\"stroke-width:2\" />\n",
       "\n",
       "  <!-- Vertical lines -->\n",
       "  <line x1=\"27\" y1=\"17\" x2=\"27\" y2=\"137\" style=\"stroke-width:2\" />\n",
       "  <line x1=\"147\" y1=\"17\" x2=\"147\" y2=\"137\" style=\"stroke-width:2\" />\n",
       "\n",
       "  <!-- Colored Rectangle -->\n",
       "  <polygon points=\"27.076840594396398,17.076840594396398 147.0768405943964,17.076840594396398 147.0768405943964,137.0768405943964 27.076840594396398,137.0768405943964\" style=\"fill:#ECB172A0;stroke-width:0\"/>\n",
       "\n",
       "  <!-- Text -->\n",
       "  <text x=\"87.076841\" y=\"157.076841\" font-size=\"1.0rem\" font-weight=\"100\" text-anchor=\"middle\" >1000</text>\n",
       "  <text x=\"167.076841\" y=\"77.076841\" font-size=\"1.0rem\" font-weight=\"100\" text-anchor=\"middle\" transform=\"rotate(-90,167.076841,77.076841)\">1000</text>\n",
       "  <text x=\"8.538420\" y=\"148.538420\" font-size=\"1.0rem\" font-weight=\"100\" text-anchor=\"middle\" transform=\"rotate(45,8.538420,148.538420)\">20</text>\n",
       "</svg>\n",
       "        </td>\n",
       "    </tr>\n",
       "</table>"
      ],
      "text/plain": [
       "dask.array<from-zarr, shape=(20, 1000, 1000), dtype=int32, chunksize=(1, 1000, 1000), chunktype=numpy.ndarray>"
      ]
     },
     "execution_count": 20,
     "metadata": {},
     "output_type": "execute_result"
    }
   ],
   "source": [
    "tt"
   ]
  },
  {
   "cell_type": "code",
   "execution_count": 8,
   "metadata": {},
   "outputs": [
    {
     "data": {
      "text/plain": [
       "(20, 1000, 1000)"
      ]
     },
     "execution_count": 8,
     "metadata": {},
     "output_type": "execute_result"
    }
   ],
   "source": [
    "labels = imread(labels_path)\n",
    "labels.shape"
   ]
  },
  {
   "cell_type": "code",
   "execution_count": 2,
   "metadata": {},
   "outputs": [
    {
     "name": "stdout",
     "output_type": "stream",
     "text": [
      "Collecting ome-zarr\n",
      "  Downloading ome_zarr-0.8.3-py3-none-any.whl.metadata (3.4 kB)\n",
      "Collecting aiohttp<4 (from ome-zarr)\n",
      "  Downloading aiohttp-3.9.3-cp310-cp310-win_amd64.whl.metadata (7.6 kB)\n",
      "Requirement already satisfied: dask in c:\\users\\kmk280\\.conda\\envs\\tracking-dev-napari\\lib\\site-packages (from ome-zarr) (2024.2.1)\n",
      "Collecting distributed (from ome-zarr)\n",
      "  Downloading distributed-2024.2.1-py3-none-any.whl.metadata (3.4 kB)\n",
      "Requirement already satisfied: fsspec!=2021.07.0,!=2023.09.0,>=0.8 in c:\\users\\kmk280\\.conda\\envs\\tracking-dev-napari\\lib\\site-packages (from fsspec[s3]!=2021.07.0,!=2023.09.0,>=0.8->ome-zarr) (2024.2.0)\n",
      "Requirement already satisfied: numpy in c:\\users\\kmk280\\.conda\\envs\\tracking-dev-napari\\lib\\site-packages (from ome-zarr) (1.26.4)\n",
      "Requirement already satisfied: requests in c:\\users\\kmk280\\.conda\\envs\\tracking-dev-napari\\lib\\site-packages (from ome-zarr) (2.31.0)\n",
      "Requirement already satisfied: scikit-image in c:\\users\\kmk280\\.conda\\envs\\tracking-dev-napari\\lib\\site-packages (from ome-zarr) (0.22.0)\n",
      "Requirement already satisfied: toolz in c:\\users\\kmk280\\.conda\\envs\\tracking-dev-napari\\lib\\site-packages (from ome-zarr) (0.12.1)\n",
      "Requirement already satisfied: zarr>=2.8.1 in c:\\users\\kmk280\\.conda\\envs\\tracking-dev-napari\\lib\\site-packages (from ome-zarr) (2.17.1)\n",
      "Collecting aiosignal>=1.1.2 (from aiohttp<4->ome-zarr)\n",
      "  Downloading aiosignal-1.3.1-py3-none-any.whl.metadata (4.0 kB)\n",
      "Requirement already satisfied: attrs>=17.3.0 in c:\\users\\kmk280\\.conda\\envs\\tracking-dev-napari\\lib\\site-packages (from aiohttp<4->ome-zarr) (23.2.0)\n",
      "Collecting frozenlist>=1.1.1 (from aiohttp<4->ome-zarr)\n",
      "  Downloading frozenlist-1.4.1-cp310-cp310-win_amd64.whl.metadata (12 kB)\n",
      "Collecting multidict<7.0,>=4.5 (from aiohttp<4->ome-zarr)\n",
      "  Downloading multidict-6.0.5-cp310-cp310-win_amd64.whl.metadata (4.3 kB)\n",
      "Collecting yarl<2.0,>=1.0 (from aiohttp<4->ome-zarr)\n",
      "  Downloading yarl-1.9.4-cp310-cp310-win_amd64.whl.metadata (32 kB)\n",
      "Collecting async-timeout<5.0,>=4.0 (from aiohttp<4->ome-zarr)\n",
      "  Using cached async_timeout-4.0.3-py3-none-any.whl.metadata (4.2 kB)\n",
      "Collecting s3fs (from fsspec[s3]!=2021.07.0,!=2023.09.0,>=0.8->ome-zarr)\n",
      "  Downloading s3fs-2024.2.0-py3-none-any.whl.metadata (1.6 kB)\n",
      "Requirement already satisfied: asciitree in c:\\users\\kmk280\\.conda\\envs\\tracking-dev-napari\\lib\\site-packages (from zarr>=2.8.1->ome-zarr) (0.3.3)\n",
      "Requirement already satisfied: numcodecs>=0.10.0 in c:\\users\\kmk280\\.conda\\envs\\tracking-dev-napari\\lib\\site-packages (from zarr>=2.8.1->ome-zarr) (0.12.1)\n",
      "Requirement already satisfied: fasteners in c:\\users\\kmk280\\.conda\\envs\\tracking-dev-napari\\lib\\site-packages (from zarr>=2.8.1->ome-zarr) (0.19)\n",
      "Requirement already satisfied: click>=8.1 in c:\\users\\kmk280\\.conda\\envs\\tracking-dev-napari\\lib\\site-packages (from dask->ome-zarr) (8.1.7)\n",
      "Requirement already satisfied: cloudpickle>=1.5.0 in c:\\users\\kmk280\\.conda\\envs\\tracking-dev-napari\\lib\\site-packages (from dask->ome-zarr) (3.0.0)\n",
      "Requirement already satisfied: packaging>=20.0 in c:\\users\\kmk280\\.conda\\envs\\tracking-dev-napari\\lib\\site-packages (from dask->ome-zarr) (23.2)\n",
      "Requirement already satisfied: partd>=1.2.0 in c:\\users\\kmk280\\.conda\\envs\\tracking-dev-napari\\lib\\site-packages (from dask->ome-zarr) (1.4.1)\n",
      "Requirement already satisfied: pyyaml>=5.3.1 in c:\\users\\kmk280\\.conda\\envs\\tracking-dev-napari\\lib\\site-packages (from dask->ome-zarr) (6.0.1)\n",
      "Requirement already satisfied: importlib-metadata>=4.13.0 in c:\\users\\kmk280\\.conda\\envs\\tracking-dev-napari\\lib\\site-packages (from dask->ome-zarr) (7.0.2)\n",
      "Requirement already satisfied: jinja2>=2.10.3 in c:\\users\\kmk280\\.conda\\envs\\tracking-dev-napari\\lib\\site-packages (from distributed->ome-zarr) (3.1.3)\n",
      "Requirement already satisfied: locket>=1.0.0 in c:\\users\\kmk280\\.conda\\envs\\tracking-dev-napari\\lib\\site-packages (from distributed->ome-zarr) (1.0.0)\n",
      "Collecting msgpack>=1.0.0 (from distributed->ome-zarr)\n",
      "  Downloading msgpack-1.0.8-cp310-cp310-win_amd64.whl.metadata (9.4 kB)\n",
      "Requirement already satisfied: psutil>=5.7.2 in c:\\users\\kmk280\\.conda\\envs\\tracking-dev-napari\\lib\\site-packages (from distributed->ome-zarr) (5.9.8)\n",
      "Collecting sortedcontainers>=2.0.5 (from distributed->ome-zarr)\n",
      "  Downloading sortedcontainers-2.4.0-py2.py3-none-any.whl.metadata (10 kB)\n",
      "Collecting tblib>=1.6.0 (from distributed->ome-zarr)\n",
      "  Using cached tblib-3.0.0-py3-none-any.whl.metadata (25 kB)\n",
      "Requirement already satisfied: tornado>=6.0.4 in c:\\users\\kmk280\\.conda\\envs\\tracking-dev-napari\\lib\\site-packages (from distributed->ome-zarr) (6.4)\n",
      "Requirement already satisfied: urllib3>=1.24.3 in c:\\users\\kmk280\\.conda\\envs\\tracking-dev-napari\\lib\\site-packages (from distributed->ome-zarr) (2.2.1)\n",
      "Collecting zict>=3.0.0 (from distributed->ome-zarr)\n",
      "  Downloading zict-3.0.0-py2.py3-none-any.whl.metadata (899 bytes)\n",
      "Requirement already satisfied: charset-normalizer<4,>=2 in c:\\users\\kmk280\\.conda\\envs\\tracking-dev-napari\\lib\\site-packages (from requests->ome-zarr) (3.3.2)\n",
      "Requirement already satisfied: idna<4,>=2.5 in c:\\users\\kmk280\\.conda\\envs\\tracking-dev-napari\\lib\\site-packages (from requests->ome-zarr) (3.6)\n",
      "Requirement already satisfied: certifi>=2017.4.17 in c:\\users\\kmk280\\.conda\\envs\\tracking-dev-napari\\lib\\site-packages (from requests->ome-zarr) (2024.2.2)\n",
      "Requirement already satisfied: scipy>=1.8 in c:\\users\\kmk280\\.conda\\envs\\tracking-dev-napari\\lib\\site-packages (from scikit-image->ome-zarr) (1.12.0)\n",
      "Requirement already satisfied: networkx>=2.8 in c:\\users\\kmk280\\.conda\\envs\\tracking-dev-napari\\lib\\site-packages (from scikit-image->ome-zarr) (3.2.1)\n",
      "Requirement already satisfied: pillow>=9.0.1 in c:\\users\\kmk280\\.conda\\envs\\tracking-dev-napari\\lib\\site-packages (from scikit-image->ome-zarr) (10.2.0)\n",
      "Requirement already satisfied: imageio>=2.27 in c:\\users\\kmk280\\.conda\\envs\\tracking-dev-napari\\lib\\site-packages (from scikit-image->ome-zarr) (2.34.0)\n",
      "Requirement already satisfied: tifffile>=2022.8.12 in c:\\users\\kmk280\\.conda\\envs\\tracking-dev-napari\\lib\\site-packages (from scikit-image->ome-zarr) (2024.2.12)\n",
      "Requirement already satisfied: lazy_loader>=0.3 in c:\\users\\kmk280\\.conda\\envs\\tracking-dev-napari\\lib\\site-packages (from scikit-image->ome-zarr) (0.3)\n",
      "Requirement already satisfied: colorama in c:\\users\\kmk280\\.conda\\envs\\tracking-dev-napari\\lib\\site-packages (from click>=8.1->dask->ome-zarr) (0.4.6)\n",
      "Requirement already satisfied: zipp>=0.5 in c:\\users\\kmk280\\.conda\\envs\\tracking-dev-napari\\lib\\site-packages (from importlib-metadata>=4.13.0->dask->ome-zarr) (3.17.0)\n",
      "Requirement already satisfied: MarkupSafe>=2.0 in c:\\users\\kmk280\\.conda\\envs\\tracking-dev-napari\\lib\\site-packages (from jinja2>=2.10.3->distributed->ome-zarr) (2.1.5)\n",
      "Collecting aiobotocore<3.0.0,>=2.5.4 (from s3fs->fsspec[s3]!=2021.07.0,!=2023.09.0,>=0.8->ome-zarr)\n",
      "  Downloading aiobotocore-2.12.1-py3-none-any.whl.metadata (21 kB)\n",
      "Collecting botocore<1.34.52,>=1.34.41 (from aiobotocore<3.0.0,>=2.5.4->s3fs->fsspec[s3]!=2021.07.0,!=2023.09.0,>=0.8->ome-zarr)\n",
      "  Downloading botocore-1.34.51-py3-none-any.whl.metadata (5.7 kB)\n",
      "Requirement already satisfied: wrapt<2.0.0,>=1.10.10 in c:\\users\\kmk280\\.conda\\envs\\tracking-dev-napari\\lib\\site-packages (from aiobotocore<3.0.0,>=2.5.4->s3fs->fsspec[s3]!=2021.07.0,!=2023.09.0,>=0.8->ome-zarr) (1.16.0)\n",
      "Collecting aioitertools<1.0.0,>=0.5.1 (from aiobotocore<3.0.0,>=2.5.4->s3fs->fsspec[s3]!=2021.07.0,!=2023.09.0,>=0.8->ome-zarr)\n",
      "  Downloading aioitertools-0.11.0-py3-none-any.whl.metadata (3.3 kB)\n",
      "Collecting jmespath<2.0.0,>=0.7.1 (from botocore<1.34.52,>=1.34.41->aiobotocore<3.0.0,>=2.5.4->s3fs->fsspec[s3]!=2021.07.0,!=2023.09.0,>=0.8->ome-zarr)\n",
      "  Downloading jmespath-1.0.1-py3-none-any.whl.metadata (7.6 kB)\n",
      "Requirement already satisfied: python-dateutil<3.0.0,>=2.1 in c:\\users\\kmk280\\.conda\\envs\\tracking-dev-napari\\lib\\site-packages (from botocore<1.34.52,>=1.34.41->aiobotocore<3.0.0,>=2.5.4->s3fs->fsspec[s3]!=2021.07.0,!=2023.09.0,>=0.8->ome-zarr) (2.9.0.post0)\n",
      "Collecting urllib3>=1.24.3 (from distributed->ome-zarr)\n",
      "  Using cached urllib3-2.0.7-py3-none-any.whl.metadata (6.6 kB)\n",
      "Requirement already satisfied: six>=1.5 in c:\\users\\kmk280\\.conda\\envs\\tracking-dev-napari\\lib\\site-packages (from python-dateutil<3.0.0,>=2.1->botocore<1.34.52,>=1.34.41->aiobotocore<3.0.0,>=2.5.4->s3fs->fsspec[s3]!=2021.07.0,!=2023.09.0,>=0.8->ome-zarr) (1.16.0)\n",
      "Downloading ome_zarr-0.8.3-py3-none-any.whl (36 kB)\n",
      "Downloading aiohttp-3.9.3-cp310-cp310-win_amd64.whl (365 kB)\n",
      "   ---------------------------------------- 0.0/365.2 kB ? eta -:--:--\n",
      "   ---------------------------------------- 365.2/365.2 kB 7.6 MB/s eta 0:00:00\n",
      "Downloading distributed-2024.2.1-py3-none-any.whl (1.0 MB)\n",
      "   ---------------------------------------- 0.0/1.0 MB ? eta -:--:--\n",
      "   ------------------ --------------------- 0.5/1.0 MB 14.1 MB/s eta 0:00:01\n",
      "   ---------------------------------------- 1.0/1.0 MB 12.8 MB/s eta 0:00:00\n",
      "Using cached aiosignal-1.3.1-py3-none-any.whl (7.6 kB)\n",
      "Using cached async_timeout-4.0.3-py3-none-any.whl (5.7 kB)\n",
      "Downloading frozenlist-1.4.1-cp310-cp310-win_amd64.whl (50 kB)\n",
      "   ---------------------------------------- 0.0/50.4 kB ? eta -:--:--\n",
      "   ---------------------------------------- 50.4/50.4 kB ? eta 0:00:00\n",
      "Downloading msgpack-1.0.8-cp310-cp310-win_amd64.whl (75 kB)\n",
      "   ---------------------------------------- 0.0/75.1 kB ? eta -:--:--\n",
      "   ---------------------------------------- 75.1/75.1 kB ? eta 0:00:00\n",
      "Downloading multidict-6.0.5-cp310-cp310-win_amd64.whl (28 kB)\n",
      "Using cached sortedcontainers-2.4.0-py2.py3-none-any.whl (29 kB)\n",
      "Using cached tblib-3.0.0-py3-none-any.whl (12 kB)\n",
      "Downloading yarl-1.9.4-cp310-cp310-win_amd64.whl (76 kB)\n",
      "   ---------------------------------------- 0.0/76.4 kB ? eta -:--:--\n",
      "   ---------------------------------------- 76.4/76.4 kB ? eta 0:00:00\n",
      "Using cached zict-3.0.0-py2.py3-none-any.whl (43 kB)\n",
      "Downloading s3fs-2024.2.0-py3-none-any.whl (28 kB)\n",
      "Downloading aiobotocore-2.12.1-py3-none-any.whl (76 kB)\n",
      "   ---------------------------------------- 0.0/76.3 kB ? eta -:--:--\n",
      "   ---------------------------------------- 76.3/76.3 kB 4.1 MB/s eta 0:00:00\n",
      "Using cached aioitertools-0.11.0-py3-none-any.whl (23 kB)\n",
      "Downloading botocore-1.34.51-py3-none-any.whl (12.0 MB)\n",
      "   ---------------------------------------- 0.0/12.0 MB ? eta -:--:--\n",
      "   - -------------------------------------- 0.6/12.0 MB 12.2 MB/s eta 0:00:01\n",
      "   --- ------------------------------------ 1.2/12.0 MB 12.5 MB/s eta 0:00:01\n",
      "   ----- ---------------------------------- 1.7/12.0 MB 12.1 MB/s eta 0:00:01\n",
      "   ------- -------------------------------- 2.3/12.0 MB 11.9 MB/s eta 0:00:01\n",
      "   --------- ------------------------------ 2.8/12.0 MB 11.8 MB/s eta 0:00:01\n",
      "   ----------- ---------------------------- 3.3/12.0 MB 11.8 MB/s eta 0:00:01\n",
      "   ------------ --------------------------- 3.9/12.0 MB 11.7 MB/s eta 0:00:01\n",
      "   -------------- ------------------------- 4.3/12.0 MB 11.4 MB/s eta 0:00:01\n",
      "   ---------------- ----------------------- 4.8/12.0 MB 11.4 MB/s eta 0:00:01\n",
      "   ----------------- ---------------------- 5.4/12.0 MB 11.4 MB/s eta 0:00:01\n",
      "   ------------------- -------------------- 5.9/12.0 MB 11.5 MB/s eta 0:00:01\n",
      "   --------------------- ------------------ 6.6/12.0 MB 11.7 MB/s eta 0:00:01\n",
      "   ------------------------ --------------- 7.3/12.0 MB 11.9 MB/s eta 0:00:01\n",
      "   -------------------------- ------------- 7.9/12.0 MB 12.1 MB/s eta 0:00:01\n",
      "   ---------------------------- ----------- 8.7/12.0 MB 12.3 MB/s eta 0:00:01\n",
      "   ------------------------------- -------- 9.5/12.0 MB 12.6 MB/s eta 0:00:01\n",
      "   ---------------------------------- ----- 10.4/12.0 MB 13.1 MB/s eta 0:00:01\n",
      "   ------------------------------------- -- 11.3/12.0 MB 13.6 MB/s eta 0:00:01\n",
      "   ---------------------------------------  12.0/12.0 MB 13.9 MB/s eta 0:00:01\n",
      "   ---------------------------------------- 12.0/12.0 MB 13.1 MB/s eta 0:00:00\n",
      "Using cached urllib3-2.0.7-py3-none-any.whl (124 kB)\n",
      "Using cached jmespath-1.0.1-py3-none-any.whl (20 kB)\n",
      "Installing collected packages: sortedcontainers, zict, urllib3, tblib, multidict, msgpack, jmespath, frozenlist, async-timeout, aioitertools, yarl, botocore, aiosignal, distributed, aiohttp, aiobotocore, s3fs, ome-zarr\n",
      "  Attempting uninstall: urllib3\n",
      "    Found existing installation: urllib3 2.2.1\n",
      "    Uninstalling urllib3-2.2.1:\n",
      "      Successfully uninstalled urllib3-2.2.1\n",
      "Successfully installed aiobotocore-2.12.1 aiohttp-3.9.3 aioitertools-0.11.0 aiosignal-1.3.1 async-timeout-4.0.3 botocore-1.34.51 distributed-2024.2.1 frozenlist-1.4.1 jmespath-1.0.1 msgpack-1.0.8 multidict-6.0.5 ome-zarr-0.8.3 s3fs-2024.2.0 sortedcontainers-2.4.0 tblib-3.0.0 urllib3-2.0.7 yarl-1.9.4 zict-3.0.0\n"
     ]
    }
   ],
   "source": [
    "# Create a new dataset in the store for the labels.\n",
    "labels_dataset = store.create_dataset(\n",
    "    \"labels\",\n",
    "    shape=(20, 1000, 1000),\n",
    "    dtype=\"uint32\",\n",
    "    chunks=(1, 100, 100),\n",
    ")\n",
    "\n",
    "# Write the labels to the dataset.\n",
    "labels_dataset[:] = labels\n",
    "\n",
    "# Close the dataset.\n",
    "labels_dataset.close()\n",
    "\n",
    "# Close the store.\n",
    "store.close()"
   ]
  },
  {
   "cell_type": "code",
   "execution_count": 14,
   "metadata": {},
   "outputs": [],
   "source": [
    "import dask.array as da\n",
    "import napari\n",
    "\n",
    "labels_zarr_path = r'D:\\kasia\\tracking\\E6_exp\\code\\tests\\example_track_labels.zarr'"
   ]
  },
  {
   "cell_type": "code",
   "execution_count": 12,
   "metadata": {},
   "outputs": [],
   "source": [
    "labels = da.from_zarr(labels_zarr_path)"
   ]
  },
  {
   "cell_type": "code",
   "execution_count": 15,
   "metadata": {},
   "outputs": [
    {
     "data": {
      "text/plain": [
       "<Labels layer 'labels' at 0x174ffc63190>"
      ]
     },
     "execution_count": 15,
     "metadata": {},
     "output_type": "execute_result"
    }
   ],
   "source": [
    "viewer = napari.Viewer()\n",
    "viewer.add_labels(labels, name=\"labels\")"
   ]
  },
  {
   "cell_type": "code",
   "execution_count": 7,
   "metadata": {},
   "outputs": [],
   "source": [
    "import tensorstore as ts\n",
    "import napari"
   ]
  },
  {
   "cell_type": "code",
   "execution_count": 22,
   "metadata": {},
   "outputs": [],
   "source": [
    "# Create the specification for opening the Zarr dataset\n",
    "spec = {\n",
    "  'driver': 'zarr',\n",
    "  'kvstore': {\n",
    "    'driver': 'file',  # Use 'file' for local filesystem\n",
    "    'path': labels_zarr_path,\n",
    "  },\n",
    "  # Optionally, specify other parameters like 'dtype', 'shape', etc., if needed\n",
    "}\n",
    "\n",
    "# Open the dataset asynchronously\n",
    "dataset_future = ts.open(spec)\n",
    "\n",
    "# Wait for the dataset to be fully opened (synchronous operation)\n",
    "dataset = dataset_future.result()"
   ]
  },
  {
   "cell_type": "code",
   "execution_count": 23,
   "metadata": {},
   "outputs": [
    {
     "data": {
      "text/plain": [
       "TensorStore({\n",
       "  'context': {\n",
       "    'cache_pool': {},\n",
       "    'data_copy_concurrency': {},\n",
       "    'file_io_concurrency': {},\n",
       "    'file_io_sync': True,\n",
       "  },\n",
       "  'driver': 'zarr',\n",
       "  'dtype': 'int32',\n",
       "  'kvstore': {\n",
       "    'driver': 'file',\n",
       "    'path': 'D:\\\\kasia\\\\tracking\\\\E6_exp\\\\code\\\\tests\\\\example_track_labels.zarr/',\n",
       "  },\n",
       "  'metadata': {\n",
       "    'chunks': [8, 525, 526],\n",
       "    'compressor': {\n",
       "      'blocksize': 0,\n",
       "      'clevel': 5,\n",
       "      'cname': 'lz4',\n",
       "      'id': 'blosc',\n",
       "      'shuffle': 1,\n",
       "    },\n",
       "    'dimension_separator': '.',\n",
       "    'dtype': '<i4',\n",
       "    'fill_value': 0,\n",
       "    'filters': None,\n",
       "    'order': 'C',\n",
       "    'shape': [241, 8396, 8401],\n",
       "    'zarr_format': 2,\n",
       "  },\n",
       "  'transform': {\n",
       "    'input_exclusive_max': [[241], [8396], [8401]],\n",
       "    'input_inclusive_min': [0, 0, 0],\n",
       "  },\n",
       "})"
      ]
     },
     "execution_count": 23,
     "metadata": {},
     "output_type": "execute_result"
    }
   ],
   "source": [
    "dataset"
   ]
  },
  {
   "cell_type": "code",
   "execution_count": 24,
   "metadata": {},
   "outputs": [
    {
     "data": {
      "text/plain": [
       "<Labels layer 'labels_ts' at 0x175aaadee90>"
      ]
     },
     "execution_count": 24,
     "metadata": {},
     "output_type": "execute_result"
    }
   ],
   "source": [
    "viewer.add_labels(dataset, name=\"labels_ts\")"
   ]
  },
  {
   "cell_type": "code",
   "execution_count": 4,
   "metadata": {},
   "outputs": [],
   "source": [
    "zarr_path = r'D:\\kasia\\tracking\\zarr_tests\\labels_c1.zarr\\0'\n",
    "\n",
    "# Create the specification for opening the Zarr dataset\n",
    "spec = {\n",
    "  'driver': 'zarr',\n",
    "  'kvstore': {\n",
    "    'driver': 'file',  # Use 'file' for local filesystem\n",
    "    'path': zarr_path,\n",
    "  },\n",
    "  # Optionally, specify other parameters like 'dtype', 'shape', etc., if needed\n",
    "}\n",
    "\n",
    "# Open the dataset asynchronously\n",
    "dataset_future = ts.open(spec)\n",
    "\n",
    "# Wait for the dataset to be fully opened (synchronous operation)\n",
    "dataset = dataset_future.result()"
   ]
  },
  {
   "cell_type": "code",
   "execution_count": 5,
   "metadata": {},
   "outputs": [],
   "source": [
    "zarr_path = r'D:\\kasia\\tracking\\zarr_tests\\labels_c1.zarr\\2'\n",
    "\n",
    "# Create the specification for opening the Zarr dataset\n",
    "spec = {\n",
    "  'driver': 'zarr',\n",
    "  'kvstore': {\n",
    "    'driver': 'file',  # Use 'file' for local filesystem\n",
    "    'path': zarr_path,\n",
    "  },\n",
    "  # Optionally, specify other parameters like 'dtype', 'shape', etc., if needed\n",
    "}\n",
    "\n",
    "# Open the dataset asynchronously\n",
    "dataset_future = ts.open(spec)\n",
    "\n",
    "# Wait for the dataset to be fully opened (synchronous operation)\n",
    "dataset2 = dataset_future.result()"
   ]
  },
  {
   "cell_type": "code",
   "execution_count": 11,
   "metadata": {},
   "outputs": [
    {
     "name": "stderr",
     "output_type": "stream",
     "text": [
      "c:\\Users\\kmk280\\.conda\\envs\\tracking-dev-napari\\lib\\site-packages\\napari\\_qt\\qt_main_window.py:636: UserWarning: Using NAPARI_PERFMON with an already-running QtApp (--gui qt?) is not supported.\n",
      "  qapp = get_app()\n"
     ]
    },
    {
     "data": {
      "text/plain": [
       "<Labels layer 'labels' at 0x1bc0413f8e0>"
      ]
     },
     "execution_count": 11,
     "metadata": {},
     "output_type": "execute_result"
    }
   ],
   "source": [
    "viewer = napari.Viewer()\n",
    "viewer.add_labels(dataset, name=\"labels\")"
   ]
  },
  {
   "cell_type": "code",
   "execution_count": null,
   "metadata": {},
   "outputs": [],
   "source": []
  }
 ],
 "metadata": {
  "kernelspec": {
   "display_name": "tracking-dev-napari",
   "language": "python",
   "name": "python3"
  },
  "language_info": {
   "codemirror_mode": {
    "name": "ipython",
    "version": 3
   },
   "file_extension": ".py",
   "mimetype": "text/x-python",
   "name": "python",
   "nbconvert_exporter": "python",
   "pygments_lexer": "ipython3",
   "version": "3.10.13"
  }
 },
 "nbformat": 4,
 "nbformat_minor": 2
}

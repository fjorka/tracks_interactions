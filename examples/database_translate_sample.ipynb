{
 "cells": [
  {
   "cell_type": "code",
   "execution_count": 12,
   "metadata": {},
   "outputs": [
    {
     "name": "stdout",
     "output_type": "stream",
     "text": [
      "The autoreload extension is already loaded. To reload it, use:\n",
      "  %reload_ext autoreload\n"
     ]
    }
   ],
   "source": [
    "%load_ext autoreload\n",
    "%autoreload 2\n",
    "\n",
    "import numpy as np\n",
    "from tqdm import tqdm\n",
    "\n",
    "import sqlalchemy as sqla\n",
    "from sqlalchemy import create_engine, Column, and_\n",
    "from sqlalchemy.orm import Session\n",
    "\n",
    "from ultrack.core.database import NodeDB\n",
    "from ultrack.core.export.utils import solution_dataframe_from_sql\n",
    "from tifffile import imread\n",
    "\n",
    "import sys\n",
    "sys.path.append('..')\n",
    "from tracks_interactions.db.db_model import Base, CellDB, TrackDB\n",
    "from tracks_interactions.db.db_functions import add_track_ids_to_tracks_df, calculate_cell_signals"
   ]
  },
  {
   "cell_type": "code",
   "execution_count": 2,
   "metadata": {},
   "outputs": [],
   "source": [
    "# create a new database\n",
    "\n",
    "new_db_path = r'D:\\kasia\\tracking\\E6_exp\\sample_data\\sample_db_2tables.db'\n",
    "\n",
    "engine = create_engine(f'sqlite:///{new_db_path}')\n",
    "\n",
    "# creates a table\n",
    "Base.metadata.create_all(engine) "
   ]
  },
  {
   "cell_type": "code",
   "execution_count": 3,
   "metadata": {},
   "outputs": [],
   "source": [
    "# get engine for the original database\n",
    "\n",
    "org_db_path = r'D:\\kasia\\tracking\\E6_exp\\sample_data\\data.db'\n",
    "engine_org = sqla.create_engine(f'sqlite:///{org_db_path}')"
   ]
  },
  {
   "cell_type": "code",
   "execution_count": 4,
   "metadata": {},
   "outputs": [
    {
     "name": "stderr",
     "output_type": "stream",
     "text": [
      "c:\\Users\\kmk280\\.conda\\envs\\tracking\\lib\\site-packages\\numba\\typed\\typeddict.py:39: NumbaTypeSafetyWarning: \u001b[1m\u001b[1m\u001b[1munsafe cast from int64 to int32. Precision may be lost.\u001b[0m\u001b[0m\u001b[0m\n",
      "  return d[key]\n"
     ]
    },
    {
     "data": {
      "text/html": [
       "<div>\n",
       "<style scoped>\n",
       "    .dataframe tbody tr th:only-of-type {\n",
       "        vertical-align: middle;\n",
       "    }\n",
       "\n",
       "    .dataframe tbody tr th {\n",
       "        vertical-align: top;\n",
       "    }\n",
       "\n",
       "    .dataframe thead th {\n",
       "        text-align: right;\n",
       "    }\n",
       "</style>\n",
       "<table border=\"1\" class=\"dataframe\">\n",
       "  <thead>\n",
       "    <tr style=\"text-align: right;\">\n",
       "      <th></th>\n",
       "      <th>id</th>\n",
       "      <th>parent_id</th>\n",
       "      <th>t</th>\n",
       "      <th>z</th>\n",
       "      <th>y</th>\n",
       "      <th>x</th>\n",
       "      <th>track_id</th>\n",
       "      <th>parent_track_id</th>\n",
       "      <th>root</th>\n",
       "    </tr>\n",
       "  </thead>\n",
       "  <tbody>\n",
       "    <tr>\n",
       "      <th>0</th>\n",
       "      <td>3000001</td>\n",
       "      <td>2000002</td>\n",
       "      <td>2</td>\n",
       "      <td>0.0</td>\n",
       "      <td>30.0</td>\n",
       "      <td>148.0</td>\n",
       "      <td>1</td>\n",
       "      <td>-1</td>\n",
       "      <td>1.0</td>\n",
       "    </tr>\n",
       "    <tr>\n",
       "      <th>1</th>\n",
       "      <td>6000005</td>\n",
       "      <td>5000003</td>\n",
       "      <td>5</td>\n",
       "      <td>0.0</td>\n",
       "      <td>30.0</td>\n",
       "      <td>178.0</td>\n",
       "      <td>1</td>\n",
       "      <td>-1</td>\n",
       "      <td>1.0</td>\n",
       "    </tr>\n",
       "    <tr>\n",
       "      <th>2</th>\n",
       "      <td>6000006</td>\n",
       "      <td>5000006</td>\n",
       "      <td>5</td>\n",
       "      <td>0.0</td>\n",
       "      <td>42.0</td>\n",
       "      <td>417.0</td>\n",
       "      <td>3</td>\n",
       "      <td>-1</td>\n",
       "      <td>3.0</td>\n",
       "    </tr>\n",
       "    <tr>\n",
       "      <th>3</th>\n",
       "      <td>6000007</td>\n",
       "      <td>5000007</td>\n",
       "      <td>5</td>\n",
       "      <td>0.0</td>\n",
       "      <td>15.0</td>\n",
       "      <td>469.0</td>\n",
       "      <td>2</td>\n",
       "      <td>-1</td>\n",
       "      <td>2.0</td>\n",
       "    </tr>\n",
       "    <tr>\n",
       "      <th>4</th>\n",
       "      <td>6000008</td>\n",
       "      <td>5000008</td>\n",
       "      <td>5</td>\n",
       "      <td>0.0</td>\n",
       "      <td>17.0</td>\n",
       "      <td>533.0</td>\n",
       "      <td>5</td>\n",
       "      <td>-1</td>\n",
       "      <td>5.0</td>\n",
       "    </tr>\n",
       "    <tr>\n",
       "      <th>...</th>\n",
       "      <td>...</td>\n",
       "      <td>...</td>\n",
       "      <td>...</td>\n",
       "      <td>...</td>\n",
       "      <td>...</td>\n",
       "      <td>...</td>\n",
       "      <td>...</td>\n",
       "      <td>...</td>\n",
       "      <td>...</td>\n",
       "    </tr>\n",
       "    <tr>\n",
       "      <th>1288</th>\n",
       "      <td>18000082</td>\n",
       "      <td>17000081</td>\n",
       "      <td>17</td>\n",
       "      <td>0.0</td>\n",
       "      <td>962.0</td>\n",
       "      <td>977.0</td>\n",
       "      <td>72</td>\n",
       "      <td>71</td>\n",
       "      <td>71.0</td>\n",
       "    </tr>\n",
       "    <tr>\n",
       "      <th>1289</th>\n",
       "      <td>18000083</td>\n",
       "      <td>17000076</td>\n",
       "      <td>17</td>\n",
       "      <td>0.0</td>\n",
       "      <td>968.0</td>\n",
       "      <td>13.0</td>\n",
       "      <td>88</td>\n",
       "      <td>86</td>\n",
       "      <td>86.0</td>\n",
       "    </tr>\n",
       "    <tr>\n",
       "      <th>1290</th>\n",
       "      <td>18000084</td>\n",
       "      <td>17000080</td>\n",
       "      <td>17</td>\n",
       "      <td>0.0</td>\n",
       "      <td>970.0</td>\n",
       "      <td>501.0</td>\n",
       "      <td>80</td>\n",
       "      <td>-1</td>\n",
       "      <td>80.0</td>\n",
       "    </tr>\n",
       "    <tr>\n",
       "      <th>1291</th>\n",
       "      <td>18000085</td>\n",
       "      <td>17000079</td>\n",
       "      <td>17</td>\n",
       "      <td>0.0</td>\n",
       "      <td>973.0</td>\n",
       "      <td>787.0</td>\n",
       "      <td>66</td>\n",
       "      <td>-1</td>\n",
       "      <td>66.0</td>\n",
       "    </tr>\n",
       "    <tr>\n",
       "      <th>1292</th>\n",
       "      <td>18000087</td>\n",
       "      <td>17000077</td>\n",
       "      <td>17</td>\n",
       "      <td>0.0</td>\n",
       "      <td>990.0</td>\n",
       "      <td>93.0</td>\n",
       "      <td>87</td>\n",
       "      <td>86</td>\n",
       "      <td>86.0</td>\n",
       "    </tr>\n",
       "  </tbody>\n",
       "</table>\n",
       "<p>1293 rows × 9 columns</p>\n",
       "</div>"
      ],
      "text/plain": [
       "            id  parent_id   t    z      y      x  track_id  parent_track_id  \\\n",
       "0      3000001    2000002   2  0.0   30.0  148.0         1               -1   \n",
       "1      6000005    5000003   5  0.0   30.0  178.0         1               -1   \n",
       "2      6000006    5000006   5  0.0   42.0  417.0         3               -1   \n",
       "3      6000007    5000007   5  0.0   15.0  469.0         2               -1   \n",
       "4      6000008    5000008   5  0.0   17.0  533.0         5               -1   \n",
       "...        ...        ...  ..  ...    ...    ...       ...              ...   \n",
       "1288  18000082   17000081  17  0.0  962.0  977.0        72               71   \n",
       "1289  18000083   17000076  17  0.0  968.0   13.0        88               86   \n",
       "1290  18000084   17000080  17  0.0  970.0  501.0        80               -1   \n",
       "1291  18000085   17000079  17  0.0  973.0  787.0        66               -1   \n",
       "1292  18000087   17000077  17  0.0  990.0   93.0        87               86   \n",
       "\n",
       "      root  \n",
       "0      1.0  \n",
       "1      1.0  \n",
       "2      3.0  \n",
       "3      2.0  \n",
       "4      5.0  \n",
       "...    ...  \n",
       "1288  71.0  \n",
       "1289  86.0  \n",
       "1290  80.0  \n",
       "1291  66.0  \n",
       "1292  86.0  \n",
       "\n",
       "[1293 rows x 9 columns]"
      ]
     },
     "execution_count": 4,
     "metadata": {},
     "output_type": "execute_result"
    }
   ],
   "source": [
    "# get a solution in a form of a dataframe\n",
    "\n",
    "df = solution_dataframe_from_sql(f'sqlite:///{org_db_path}')\n",
    "df = add_track_ids_to_tracks_df(df)\n",
    "\n",
    "df.reset_index(inplace=True)\n",
    "df"
   ]
  },
  {
   "cell_type": "markdown",
   "metadata": {},
   "source": [
    "## Create a cells table"
   ]
  },
  {
   "cell_type": "code",
   "execution_count": 5,
   "metadata": {},
   "outputs": [],
   "source": [
    "# that has to be changed to operate on the original database\n",
    "# because at the moment objects not assigned to a track are not saved in the database\n",
    "# the consideration is what if multiple segmentations were given to ultrack and\n",
    "# there are multiple possible objects for a single cell ???\n",
    "\n",
    "def add_cell(row):\n",
    "\n",
    "        global session\n",
    "        global session_db_org\n",
    "        \n",
    "        cell = CellDB(id = row['id'],\n",
    "                    t =row['t'],\n",
    "                    track_id = row['track_id'],\n",
    "                    row = row['y'],\n",
    "                    col = row['x'])\n",
    "        \n",
    "        # get a mask of this cell\n",
    "        cell_obj = session_db_org.query(NodeDB).filter(NodeDB.id==row['id']).first()\n",
    "\n",
    "        cell.mask = cell_obj.pickle.mask\n",
    "        \n",
    "        cell.bbox_0 = int(cell_obj.pickle.bbox[0])\n",
    "        cell.bbox_1 = int(cell_obj.pickle.bbox[1])\n",
    "        cell.bbox_2 = int(cell_obj.pickle.bbox[2])\n",
    "        cell.bbox_3 = int(cell_obj.pickle.bbox[3])\n",
    "\n",
    "        session.add(cell)"
   ]
  },
  {
   "cell_type": "code",
   "execution_count": 6,
   "metadata": {},
   "outputs": [
    {
     "name": "stderr",
     "output_type": "stream",
     "text": [
      "Progress: 100%|██████████| 1293/1293 [00:00<00:00, 2527.90it/s]\n"
     ]
    }
   ],
   "source": [
    "# create a table of cells\n",
    "\n",
    "tqdm.pandas(desc=\"Progress\")\n",
    "\n",
    "session_db_org = Session(engine_org)\n",
    "session = Session(engine)\n",
    "\n",
    "df.progress_apply(add_cell, axis=1)\n",
    "\n",
    "session.commit()\n",
    "\n",
    "session_db_org.close()\n",
    "session.close()"
   ]
  },
  {
   "cell_type": "markdown",
   "metadata": {},
   "source": [
    "## Add signals"
   ]
  },
  {
   "cell_type": "code",
   "execution_count": 10,
   "metadata": {},
   "outputs": [],
   "source": [
    "ch0_path = r'D:\\kasia\\tracking\\E6_exp\\sample_data\\ch1.tif'\n",
    "ch1_path = r'D:\\kasia\\tracking\\E6_exp\\sample_data\\ch2.tif'\n",
    "\n",
    "ch0_org = imread(ch0_path)\n",
    "ch1_org = imread(ch1_path)"
   ]
  },
  {
   "cell_type": "code",
   "execution_count": 11,
   "metadata": {},
   "outputs": [
    {
     "data": {
      "text/plain": [
       "(20, 1000, 1000)"
      ]
     },
     "execution_count": 11,
     "metadata": {},
     "output_type": "execute_result"
    }
   ],
   "source": [
    "ch0_org.shape"
   ]
  },
  {
   "cell_type": "code",
   "execution_count": 15,
   "metadata": {},
   "outputs": [
    {
     "data": {
      "text/plain": [
       "1000004 from frame 0 with track_id 1 at (29,156)"
      ]
     },
     "execution_count": 15,
     "metadata": {},
     "output_type": "execute_result"
    }
   ],
   "source": [
    "cell"
   ]
  },
  {
   "cell_type": "code",
   "execution_count": 17,
   "metadata": {},
   "outputs": [
    {
     "name": "stderr",
     "output_type": "stream",
     "text": [
      "100%|██████████| 20/20 [00:00<00:00, 21.46it/s]\n"
     ]
    }
   ],
   "source": [
    "# for exp6 around 25 min\n",
    "\n",
    "session = Session(engine)\n",
    "\n",
    "for frame in tqdm(range(ch0_org.shape[0])):\n",
    "\n",
    "    cells = session.query(CellDB).filter(CellDB.t==frame).all()\n",
    "    ch0 = ch0_org[frame]\n",
    "    ch1 = ch1_org[frame]\n",
    "\n",
    "    for cell in cells:\n",
    "\n",
    "        # Calculate cell measurements for each cell\n",
    "        new_signals = calculate_cell_signals(cell, [ch0, ch1])\n",
    "        \n",
    "        # Update the signals field with the new JSON data\n",
    "        cell.signals = new_signals\n",
    "        \n",
    "    # Commit changes to the database\n",
    "    session.commit()\n",
    "\n",
    "session.close()"
   ]
  },
  {
   "cell_type": "markdown",
   "metadata": {},
   "source": [
    "## Create a tracks table"
   ]
  },
  {
   "cell_type": "code",
   "execution_count": 18,
   "metadata": {},
   "outputs": [
    {
     "data": {
      "text/html": [
       "<div>\n",
       "<style scoped>\n",
       "    .dataframe tbody tr th:only-of-type {\n",
       "        vertical-align: middle;\n",
       "    }\n",
       "\n",
       "    .dataframe tbody tr th {\n",
       "        vertical-align: top;\n",
       "    }\n",
       "\n",
       "    .dataframe thead th {\n",
       "        text-align: right;\n",
       "    }\n",
       "</style>\n",
       "<table border=\"1\" class=\"dataframe\">\n",
       "  <thead>\n",
       "    <tr style=\"text-align: right;\">\n",
       "      <th></th>\n",
       "      <th>track_id</th>\n",
       "      <th>parent_track_id</th>\n",
       "      <th>root</th>\n",
       "      <th>t_min</th>\n",
       "      <th>t_max</th>\n",
       "    </tr>\n",
       "  </thead>\n",
       "  <tbody>\n",
       "    <tr>\n",
       "      <th>0</th>\n",
       "      <td>1</td>\n",
       "      <td>-1</td>\n",
       "      <td>1.0</td>\n",
       "      <td>0</td>\n",
       "      <td>11</td>\n",
       "    </tr>\n",
       "    <tr>\n",
       "      <th>1</th>\n",
       "      <td>2</td>\n",
       "      <td>-1</td>\n",
       "      <td>2.0</td>\n",
       "      <td>0</td>\n",
       "      <td>7</td>\n",
       "    </tr>\n",
       "    <tr>\n",
       "      <th>2</th>\n",
       "      <td>3</td>\n",
       "      <td>-1</td>\n",
       "      <td>3.0</td>\n",
       "      <td>0</td>\n",
       "      <td>19</td>\n",
       "    </tr>\n",
       "    <tr>\n",
       "      <th>3</th>\n",
       "      <td>4</td>\n",
       "      <td>-1</td>\n",
       "      <td>4.0</td>\n",
       "      <td>0</td>\n",
       "      <td>7</td>\n",
       "    </tr>\n",
       "    <tr>\n",
       "      <th>4</th>\n",
       "      <td>5</td>\n",
       "      <td>-1</td>\n",
       "      <td>5.0</td>\n",
       "      <td>0</td>\n",
       "      <td>9</td>\n",
       "    </tr>\n",
       "    <tr>\n",
       "      <th>...</th>\n",
       "      <td>...</td>\n",
       "      <td>...</td>\n",
       "      <td>...</td>\n",
       "      <td>...</td>\n",
       "      <td>...</td>\n",
       "    </tr>\n",
       "    <tr>\n",
       "      <th>84</th>\n",
       "      <td>85</td>\n",
       "      <td>-1</td>\n",
       "      <td>85.0</td>\n",
       "      <td>12</td>\n",
       "      <td>19</td>\n",
       "    </tr>\n",
       "    <tr>\n",
       "      <th>85</th>\n",
       "      <td>86</td>\n",
       "      <td>-1</td>\n",
       "      <td>86.0</td>\n",
       "      <td>4</td>\n",
       "      <td>14</td>\n",
       "    </tr>\n",
       "    <tr>\n",
       "      <th>86</th>\n",
       "      <td>87</td>\n",
       "      <td>86</td>\n",
       "      <td>86.0</td>\n",
       "      <td>15</td>\n",
       "      <td>19</td>\n",
       "    </tr>\n",
       "    <tr>\n",
       "      <th>87</th>\n",
       "      <td>88</td>\n",
       "      <td>86</td>\n",
       "      <td>86.0</td>\n",
       "      <td>15</td>\n",
       "      <td>19</td>\n",
       "    </tr>\n",
       "    <tr>\n",
       "      <th>88</th>\n",
       "      <td>89</td>\n",
       "      <td>-1</td>\n",
       "      <td>89.0</td>\n",
       "      <td>15</td>\n",
       "      <td>19</td>\n",
       "    </tr>\n",
       "  </tbody>\n",
       "</table>\n",
       "<p>89 rows × 5 columns</p>\n",
       "</div>"
      ],
      "text/plain": [
       "    track_id  parent_track_id  root  t_min  t_max\n",
       "0          1               -1   1.0      0     11\n",
       "1          2               -1   2.0      0      7\n",
       "2          3               -1   3.0      0     19\n",
       "3          4               -1   4.0      0      7\n",
       "4          5               -1   5.0      0      9\n",
       "..       ...              ...   ...    ...    ...\n",
       "84        85               -1  85.0     12     19\n",
       "85        86               -1  86.0      4     14\n",
       "86        87               86  86.0     15     19\n",
       "87        88               86  86.0     15     19\n",
       "88        89               -1  89.0     15     19\n",
       "\n",
       "[89 rows x 5 columns]"
      ]
     },
     "execution_count": 18,
     "metadata": {},
     "output_type": "execute_result"
    }
   ],
   "source": [
    "df_tracks = df.groupby(['track_id','parent_track_id' ,'root']).agg({'t':['min','max']})\n",
    "df_tracks.reset_index(inplace=True)\n",
    "df_tracks.columns = ['_'.join(col).strip('_') for col in df_tracks.columns.values]\n",
    "df_tracks"
   ]
  },
  {
   "cell_type": "code",
   "execution_count": 19,
   "metadata": {},
   "outputs": [],
   "source": [
    "def add_track(row):\n",
    "\n",
    "        global session\n",
    "        \n",
    "        track = TrackDB(track_id = row['track_id'],\n",
    "                        parent_track_id = row['parent_track_id'],\n",
    "                        root = row['root'],\n",
    "                        t_begin = row['t_min'],\n",
    "                        t_end = row['t_max'])\n",
    "        \n",
    "\n",
    "        session.add(track)"
   ]
  },
  {
   "cell_type": "code",
   "execution_count": 20,
   "metadata": {},
   "outputs": [],
   "source": [
    "# create a table of tracks\n",
    "\n",
    "session = Session(engine)  \n",
    "\n",
    "df_tracks.apply(add_track, axis=1)\n",
    "\n",
    "session.commit()\n",
    "\n",
    "session.close()"
   ]
  },
  {
   "cell_type": "markdown",
   "metadata": {},
   "source": [
    "### Get a single track by track_id"
   ]
  },
  {
   "cell_type": "code",
   "execution_count": 12,
   "metadata": {},
   "outputs": [
    {
     "name": "stderr",
     "output_type": "stream",
     "text": [
      "C:\\Users\\kmk280\\AppData\\Local\\Temp\\ipykernel_41848\\4267526768.py:2: LegacyAPIWarning: Deprecated API features detected! These feature(s) are not compatible with SQLAlchemy 2.0. To prevent incompatible upgrades prior to updating applications, ensure requirements files are pinned to \"sqlalchemy<2.0\". Set environment variable SQLALCHEMY_WARN_20=1 to show all deprecation warnings.  Set environment variable SQLALCHEMY_SILENCE_UBER_WARNING=1 to silence this message. (Background on SQLAlchemy 2.0 at: https://sqlalche.me/e/b8d9)\n",
      "  t = session.query(TrackDB).get(1)\n"
     ]
    },
    {
     "data": {
      "text/plain": [
       "Track 1 from 0 to 11"
      ]
     },
     "execution_count": 12,
     "metadata": {},
     "output_type": "execute_result"
    }
   ],
   "source": [
    "with Session(engine) as session:\n",
    "    t = session.query(TrackDB).get(1)\n",
    "\n",
    "t"
   ]
  }
 ],
 "metadata": {
  "kernelspec": {
   "display_name": "tracking",
   "language": "python",
   "name": "python3"
  },
  "language_info": {
   "codemirror_mode": {
    "name": "ipython",
    "version": 3
   },
   "file_extension": ".py",
   "mimetype": "text/x-python",
   "name": "python",
   "nbconvert_exporter": "python",
   "pygments_lexer": "ipython3",
   "version": "3.10.13"
  }
 },
 "nbformat": 4,
 "nbformat_minor": 2
}

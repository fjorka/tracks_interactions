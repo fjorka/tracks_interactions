{
 "cells": [
  {
   "cell_type": "code",
   "execution_count": 1,
   "metadata": {},
   "outputs": [],
   "source": [
    "%load_ext autoreload\n",
    "%autoreload 2\n",
    "\n",
    "import os\n",
    "import zarr\n",
    "import dask.array as da\n",
    "import napari\n",
    "import sys\n",
    "import numpy as np\n",
    "\n",
    "\n",
    "from sqlalchemy import create_engine\n",
    "from sqlalchemy.orm import sessionmaker\n",
    "\n",
    "sys.path.append('..')\n",
    "from tracks_interactions.db.db_model import Base, CellDB, TrackDB\n",
    "import tracks_interactions.graph.family_graph as fg\n",
    "#from tracks_interactions.widget.event_handler import EventHandler"
   ]
  },
  {
   "cell_type": "code",
   "execution_count": 2,
   "metadata": {},
   "outputs": [],
   "source": [
    "os.environ['NAPARI_PERFMON'] = '0'"
   ]
  },
  {
   "cell_type": "code",
   "execution_count": 3,
   "metadata": {},
   "outputs": [],
   "source": [
    "from tifffile import imread\n",
    "labels = imread(r'D:\\kasia\\tracking\\E6_exp\\sample_data\\track_labels.tif')"
   ]
  },
  {
   "cell_type": "code",
   "execution_count": 4,
   "metadata": {},
   "outputs": [],
   "source": [
    "# get images\n",
    "ch1 = imread(r'D:\\kasia\\tracking\\E6_exp\\sample_data\\ch1.tif')\n",
    "ch2 = imread(r'D:\\kasia\\tracking\\E6_exp\\sample_data\\ch2.tif')"
   ]
  },
  {
   "cell_type": "code",
   "execution_count": 5,
   "metadata": {},
   "outputs": [],
   "source": [
    "# checkout labels as editable array\n",
    "labels = np.array(labels).astype('int32')"
   ]
  },
  {
   "cell_type": "code",
   "execution_count": 6,
   "metadata": {},
   "outputs": [],
   "source": [
    "# display channels and labels\n",
    "viewer = napari.Viewer()\n",
    "viewer.add_image(ch1, name='ch1', colormap = 'green',blending='additive')\n",
    "viewer.add_image(ch2, name='ch2', colormap = 'red',blending='additive')\n",
    "labels_layer = viewer.add_labels(labels,name='Labels')"
   ]
  },
  {
   "cell_type": "code",
   "execution_count": 7,
   "metadata": {},
   "outputs": [],
   "source": [
    "# get access to the database\n",
    "new_db_path =r'D:\\kasia\\tracking\\E6_exp\\sample_data\\sample_db_2tables.db'\n",
    "engine = create_engine(f'sqlite:///{new_db_path}')\n",
    "session = sessionmaker(bind=engine)()"
   ]
  },
  {
   "cell_type": "markdown",
   "metadata": {},
   "source": [
    "### Family graph display"
   ]
  },
  {
   "cell_type": "code",
   "execution_count": 8,
   "metadata": {},
   "outputs": [
    {
     "data": {
      "text/plain": [
       "<napari._qt.widgets.qt_viewer_dock_widget.QtViewerDockWidget at 0x18a8563caf0>"
      ]
     },
     "execution_count": 8,
     "metadata": {},
     "output_type": "execute_result"
    }
   ],
   "source": [
    "from tracks_interactions.graph.family_graph import FamilyGraphWidget\n",
    "plot_widget = FamilyGraphWidget(viewer,session)\n",
    "viewer.window.add_dock_widget(plot_widget,area='bottom')"
   ]
  },
  {
   "cell_type": "markdown",
   "metadata": {},
   "source": [
    "### Navigation widget"
   ]
  },
  {
   "cell_type": "code",
   "execution_count": 9,
   "metadata": {},
   "outputs": [
    {
     "data": {
      "text/plain": [
       "<napari._qt.widgets.qt_viewer_dock_widget.QtViewerDockWidget at 0x18a8563ee60>"
      ]
     },
     "execution_count": 9,
     "metadata": {},
     "output_type": "execute_result"
    }
   ],
   "source": [
    "from tracks_interactions.widget.track_navigation_widget import TrackNavigationWidget\n",
    "track_navigation_widget = TrackNavigationWidget(viewer,session)\n",
    "viewer.window.add_dock_widget(track_navigation_widget,area='right',name='Track Navigation')"
   ]
  },
  {
   "cell_type": "markdown",
   "metadata": {},
   "source": [
    "### Modification widget"
   ]
  },
  {
   "cell_type": "code",
   "execution_count": 10,
   "metadata": {},
   "outputs": [
    {
     "data": {
      "text/plain": [
       "<napari._qt.widgets.qt_viewer_dock_widget.QtViewerDockWidget at 0x18a941a4160>"
      ]
     },
     "execution_count": 10,
     "metadata": {},
     "output_type": "execute_result"
    }
   ],
   "source": [
    "from tracks_interactions.widget.track_modification_widget import TrackModificationWidget\n",
    "track_modification_widget = TrackModificationWidget(viewer,session)\n",
    "viewer.window.add_dock_widget(track_modification_widget,area='right',name='Track Modifications')"
   ]
  },
  {
   "cell_type": "markdown",
   "metadata": {},
   "source": [
    "### Signal graph"
   ]
  },
  {
   "cell_type": "code",
   "execution_count": 11,
   "metadata": {},
   "outputs": [
    {
     "data": {
      "text/plain": [
       "<napari._qt.widgets.qt_viewer_dock_widget.QtViewerDockWidget at 0x18a941a7d90>"
      ]
     },
     "execution_count": 11,
     "metadata": {},
     "output_type": "execute_result"
    }
   ],
   "source": [
    "from tracks_interactions.graph.signal_graph import SignalGraphWidget\n",
    "signal_widget = SignalGraphWidget(viewer,session)\n",
    "viewer.window.add_dock_widget(signal_widget,area='right')"
   ]
  },
  {
   "cell_type": "markdown",
   "metadata": {},
   "source": [
    "### Cell modification"
   ]
  },
  {
   "cell_type": "code",
   "execution_count": 22,
   "metadata": {},
   "outputs": [
    {
     "data": {
      "text/plain": [
       "<napari._qt.widgets.qt_viewer_dock_widget.QtViewerDockWidget at 0x1cba53bdd80>"
      ]
     },
     "execution_count": 22,
     "metadata": {},
     "output_type": "execute_result"
    }
   ],
   "source": [
    "from tracks_interactions.widget.cell_modification_widget import CellModificationWidget\n",
    "cell_modification_widget = CellModificationWidget(viewer,session)\n",
    "viewer.window.add_dock_widget(cell_modification_widget,area='right',name='Save Cell')"
   ]
  },
  {
   "cell_type": "markdown",
   "metadata": {},
   "source": [
    "### Tests"
   ]
  },
  {
   "cell_type": "code",
   "execution_count": 31,
   "metadata": {},
   "outputs": [],
   "source": [
    "query = (session.query(CellDB.t, CellDB.signals[\"ch1_nuc\"])\n",
    "    .filter(CellDB.track_id == 52)\n",
    "    .order_by(CellDB.t)\n",
    "    .all())"
   ]
  },
  {
   "cell_type": "code",
   "execution_count": 33,
   "metadata": {},
   "outputs": [],
   "source": [
    "cell = (session.query(CellDB)\n",
    "    .filter(CellDB.track_id == 52)\n",
    "    .first())\n"
   ]
  },
  {
   "cell_type": "code",
   "execution_count": 57,
   "metadata": {},
   "outputs": [],
   "source": [
    "from skimage.transform import resize\n",
    "ring_width = 5\n",
    "ch_names = None\n",
    "ch_list = [ch1, ch2]\n",
    "\n",
    "# caclulate cell area\n",
    "mask = np.array(cell.mask)\n",
    "area = mask.sum()\n",
    "\n",
    "cell_dict = {\"area\": int(area)}\n",
    "\n",
    "# create a ring mask\n",
    "cyto_mask = resize(\n",
    "    mask,\n",
    "    np.array(mask.shape) + 2 * ring_width,\n",
    "    order=0,\n",
    "    anti_aliasing=False,\n",
    ")\n",
    "cell_in_cyto_mask = np.zeros_like(cyto_mask)\n",
    "cell_in_cyto_mask[\n",
    "    ring_width:-ring_width, ring_width:-ring_width\n",
    "] = cell.mask\n",
    "cyto_mask[cell_in_cyto_mask] = 0\n",
    "\n",
    "# check how to cut boxes\n",
    "\n",
    "# calculate positions\n",
    "r_start = cell.bbox_0 - ring_width\n",
    "c_start = cell.bbox_1 - ring_width\n",
    "r_paste_start = c_paste_start = 0\n",
    "\n",
    "# account for edge cases\n",
    "if r_start < 0:\n",
    "    r_paste_start = -r_start\n",
    "    r_start  = 0\n",
    "if c_start < 0:\n",
    "    c_paste_start = -c_start\n",
    "    c_start  = 0\n",
    "\n",
    "ch = ch_list[0]\n",
    "if ch.ndim == 3:\n",
    "    r_end = np.min([ch.shape[1], cell.bbox_2 + ring_width])\n",
    "    c_end = np.min([ch.shape[2], cell.bbox_3 + ring_width])\n",
    "else:\n",
    "    r_end = np.min([ch.shape[0], cell.bbox_2 + ring_width])\n",
    "    c_end = np.min([ch.shape[1], cell.bbox_3 + ring_width])\n",
    "\n",
    "# get signals for all the channels\n",
    "if ch_names is None:\n",
    "    ch_names = [f\"ch{i}\" for i in range(len(ch_list))]\n",
    "\n",
    "for ch, ch_name in zip(ch_list, ch_names):\n",
    "    \n",
    "    # create a box for the channel\n",
    "    ch_box = np.zeros_like(cyto_mask).astype(ch.dtype)\n",
    "\n",
    "    # get channel ring boxes\n",
    "    if ch.ndim == 3:\n",
    "        signal = ch[cell.t, r_start:r_end, c_start:c_end]\n",
    "    else:\n",
    "        signal = ch[r_start:r_end, c_start:c_end]\n",
    "\n",
    "    # paste the signal into the box\n",
    "    ch_box[r_paste_start:(r_paste_start+signal.shape[0]),c_paste_start:(c_paste_start+signal.shape[1])] = signal\n",
    "\n",
    "    # calculate signals\n",
    "    ch_nuc = np.mean(ch_box[cell_in_cyto_mask])\n",
    "    ch_cyto = np.mean(ch_box[cyto_mask])\n",
    "\n",
    "    # compute if necessary\n",
    "    if type(ch_nuc) == da.core.Array:\n",
    "        ch_nuc = ch_nuc.compute()\n",
    "        ch_cyto = ch_cyto.compute()\n",
    "\n",
    "    # add to the dictionary\n",
    "    cell_dict[ch_name + \"_nuc\"] = ch_nuc\n",
    "    cell_dict[ch_name + \"_cyto\"] = ch_cyto\n"
   ]
  },
  {
   "cell_type": "code",
   "execution_count": 58,
   "metadata": {},
   "outputs": [
    {
     "name": "stdout",
     "output_type": "stream",
     "text": [
      "(87, 78)\n",
      "(87, 78)\n",
      "0 87 0 78\n"
     ]
    }
   ],
   "source": [
    "print(signal.shape)\n",
    "print(ch_box.shape)\n",
    "print(r_paste_start, r_paste_start+signal.shape[0], c_paste_start, c_paste_start+signal.shape[1])"
   ]
  },
  {
   "cell_type": "code",
   "execution_count": 59,
   "metadata": {},
   "outputs": [
    {
     "data": {
      "text/plain": [
       "numpy.ndarray"
      ]
     },
     "execution_count": 59,
     "metadata": {},
     "output_type": "execute_result"
    }
   ],
   "source": [
    "type(ch_box)"
   ]
  },
  {
   "cell_type": "code",
   "execution_count": 60,
   "metadata": {},
   "outputs": [
    {
     "data": {
      "text/plain": [
       "<matplotlib.image.AxesImage at 0x1a014643a30>"
      ]
     },
     "execution_count": 60,
     "metadata": {},
     "output_type": "execute_result"
    },
    {
     "data": {
      "image/png": "[encoded data removed]",
      "text/plain": [
       "<Figure size 640x480 with 1 Axes>"
      ]
     },
     "metadata": {},
     "output_type": "display_data"
    }
   ],
   "source": [
    "import matplotlib.pyplot as plt\n",
    "plt.imshow(ch_box)"
   ]
  },
  {
   "cell_type": "code",
   "execution_count": 10,
   "metadata": {},
   "outputs": [],
   "source": [
    "from numba import jit\n",
    "from skimage.measure import regionprops, regionprops_table\n",
    "import pandas as pd"
   ]
  },
  {
   "cell_type": "code",
   "execution_count": 21,
   "metadata": {},
   "outputs": [
    {
     "ename": "SyntaxError",
     "evalue": "invalid syntax (2113402391.py, line 5)",
     "output_type": "error",
     "traceback": [
      "\u001b[1;36m  Cell \u001b[1;32mIn[21], line 5\u001b[1;36m\u001b[0m\n\u001b[1;33m    coords = np.argwhere(labels[frame] == label_of_interest)\u001b[0m\n\u001b[1;37m    ^\u001b[0m\n\u001b[1;31mSyntaxError\u001b[0m\u001b[1;31m:\u001b[0m invalid syntax\n"
     ]
    }
   ],
   "source": [
    "%time\n",
    "frame = 90\n",
    "label_of_interest = 40\n",
    "coords = np.argwhere(labels[frame] == label_of_interest)\n",
    "ymin, xmin = coords.min(axis=0)\n",
    "ymax, xmax = coords.max(axis=0)"
   ]
  },
  {
   "cell_type": "code",
   "execution_count": 19,
   "metadata": {},
   "outputs": [],
   "source": [
    "# get coordinates of visible part\n",
    "coord_view = viewer.layers['Labels'].corner_pixels.T\n",
    "r_start = coord_view[1,0]\n",
    "r_end = coord_view[1,1]\n",
    "c_start = coord_view[2,0]\n",
    "c_end = coord_view[2,1]\n",
    "\n",
    "labels_cropped = labels[frame, r_start:r_end, c_start:c_end]==label_of_interest"
   ]
  },
  {
   "cell_type": "code",
   "execution_count": 20,
   "metadata": {},
   "outputs": [
    {
     "data": {
      "text/plain": [
       "(403, 315)"
      ]
     },
     "execution_count": 20,
     "metadata": {},
     "output_type": "execute_result"
    }
   ],
   "source": [
    "labels_cropped.shape"
   ]
  },
  {
   "cell_type": "code",
   "execution_count": 15,
   "metadata": {},
   "outputs": [
    {
     "ename": "NameError",
     "evalue": "name 'layer' is not defined",
     "output_type": "error",
     "traceback": [
      "\u001b[1;31m---------------------------------------------------------------------------\u001b[0m",
      "\u001b[1;31mNameError\u001b[0m                                 Traceback (most recent call last)",
      "Cell \u001b[1;32mIn[15], line 1\u001b[0m\n\u001b[1;32m----> 1\u001b[0m t \u001b[38;5;241m=\u001b[39m viewer\u001b[38;5;241m.\u001b[39mlayers[\u001b[38;5;124m'\u001b[39m\u001b[38;5;124mLabels\u001b[39m\u001b[38;5;124m'\u001b[39m]\u001b[38;5;241m.\u001b[39mdata[\u001b[38;5;28mtuple\u001b[39m(\u001b[38;5;28mslice\u001b[39m(i[\u001b[38;5;241m0\u001b[39m], i[\u001b[38;5;241m1\u001b[39m]) \u001b[38;5;28;01mfor\u001b[39;00m i \u001b[38;5;129;01min\u001b[39;00m \u001b[43mlayer\u001b[49m\u001b[38;5;241m.\u001b[39mcorner_pixels\u001b[38;5;241m.\u001b[39mT)]\n",
      "\u001b[1;31mNameError\u001b[0m: name 'layer' is not defined"
     ]
    }
   ],
   "source": [
    "t = viewer.layers['Labels'].data\n",
    "sel = t[tuple(slice(i[0], i[1]) for i in layer.corner_pixels.T)]"
   ]
  },
  {
   "cell_type": "code",
   "execution_count": null,
   "metadata": {},
   "outputs": [],
   "source": []
  },
  {
   "cell_type": "code",
   "execution_count": 20,
   "metadata": {},
   "outputs": [
    {
     "name": "stdout",
     "output_type": "stream",
     "text": [
      "CPU times: total: 0 ns\n",
      "Wall time: 0 ns\n"
     ]
    },
    {
     "ename": "AttributeError",
     "evalue": "'list' object has no attribute 'ndim'",
     "output_type": "error",
     "traceback": [
      "\u001b[1;31m---------------------------------------------------------------------------\u001b[0m",
      "\u001b[1;31mAttributeError\u001b[0m                            Traceback (most recent call last)",
      "Cell \u001b[1;32mIn[20], line 2\u001b[0m\n\u001b[0;32m      1\u001b[0m get_ipython()\u001b[38;5;241m.\u001b[39mrun_line_magic(\u001b[38;5;124m'\u001b[39m\u001b[38;5;124mtime\u001b[39m\u001b[38;5;124m'\u001b[39m, \u001b[38;5;124m'\u001b[39m\u001b[38;5;124m'\u001b[39m)\n\u001b[1;32m----> 2\u001b[0m data \u001b[38;5;241m=\u001b[39m \u001b[43mregionprops_table\u001b[49m\u001b[43m(\u001b[49m\u001b[43m[\u001b[49m\u001b[43mlabels\u001b[49m\u001b[43m[\u001b[49m\u001b[38;5;241;43m9\u001b[39;49m\u001b[43m]\u001b[49m\u001b[38;5;241;43m==\u001b[39;49m\u001b[38;5;241;43m40\u001b[39;49m\u001b[43m]\u001b[49m\u001b[43m,\u001b[49m\u001b[43mproperties\u001b[49m\u001b[38;5;241;43m=\u001b[39;49m\u001b[43m[\u001b[49m\u001b[38;5;124;43m'\u001b[39;49m\u001b[38;5;124;43mlabel\u001b[39;49m\u001b[38;5;124;43m'\u001b[39;49m\u001b[43m,\u001b[49m\u001b[38;5;124;43m'\u001b[39;49m\u001b[38;5;124;43mcentroid\u001b[39;49m\u001b[38;5;124;43m'\u001b[39;49m\u001b[43m,\u001b[49m\u001b[38;5;124;43m'\u001b[39;49m\u001b[38;5;124;43marea\u001b[39;49m\u001b[38;5;124;43m'\u001b[39;49m\u001b[43m,\u001b[49m\u001b[38;5;124;43m'\u001b[39;49m\u001b[38;5;124;43mbbox\u001b[39;49m\u001b[38;5;124;43m'\u001b[39;49m\u001b[43m]\u001b[49m\u001b[43m)\u001b[49m\n",
      "File \u001b[1;32mc:\\Users\\kmk280\\.conda\\envs\\tracking\\lib\\site-packages\\skimage\\measure\\_regionprops.py:1019\u001b[0m, in \u001b[0;36mregionprops_table\u001b[1;34m(label_image, intensity_image, properties, cache, separator, extra_properties, spacing)\u001b[0m\n\u001b[0;32m    881\u001b[0m \u001b[38;5;28;01mdef\u001b[39;00m \u001b[38;5;21mregionprops_table\u001b[39m(label_image, intensity_image\u001b[38;5;241m=\u001b[39m\u001b[38;5;28;01mNone\u001b[39;00m,\n\u001b[0;32m    882\u001b[0m                       properties\u001b[38;5;241m=\u001b[39m(\u001b[38;5;124m'\u001b[39m\u001b[38;5;124mlabel\u001b[39m\u001b[38;5;124m'\u001b[39m, \u001b[38;5;124m'\u001b[39m\u001b[38;5;124mbbox\u001b[39m\u001b[38;5;124m'\u001b[39m),\n\u001b[0;32m    883\u001b[0m                       \u001b[38;5;241m*\u001b[39m,\n\u001b[0;32m    884\u001b[0m                       cache\u001b[38;5;241m=\u001b[39m\u001b[38;5;28;01mTrue\u001b[39;00m, separator\u001b[38;5;241m=\u001b[39m\u001b[38;5;124m'\u001b[39m\u001b[38;5;124m-\u001b[39m\u001b[38;5;124m'\u001b[39m, extra_properties\u001b[38;5;241m=\u001b[39m\u001b[38;5;28;01mNone\u001b[39;00m, spacing\u001b[38;5;241m=\u001b[39m\u001b[38;5;28;01mNone\u001b[39;00m):\n\u001b[0;32m    885\u001b[0m \u001b[38;5;250m    \u001b[39m\u001b[38;5;124;03m\"\"\"Compute image properties and return them as a pandas-compatible table.\u001b[39;00m\n\u001b[0;32m    886\u001b[0m \n\u001b[0;32m    887\u001b[0m \u001b[38;5;124;03m    The table is a dictionary mapping column names to value arrays. See Notes\u001b[39;00m\n\u001b[1;32m   (...)\u001b[0m\n\u001b[0;32m   1017\u001b[0m \n\u001b[0;32m   1018\u001b[0m \u001b[38;5;124;03m    \"\"\"\u001b[39;00m\n\u001b[1;32m-> 1019\u001b[0m     regions \u001b[38;5;241m=\u001b[39m \u001b[43mregionprops\u001b[49m\u001b[43m(\u001b[49m\u001b[43mlabel_image\u001b[49m\u001b[43m,\u001b[49m\u001b[43m \u001b[49m\u001b[43mintensity_image\u001b[49m\u001b[38;5;241;43m=\u001b[39;49m\u001b[43mintensity_image\u001b[49m\u001b[43m,\u001b[49m\n\u001b[0;32m   1020\u001b[0m \u001b[43m                          \u001b[49m\u001b[43mcache\u001b[49m\u001b[38;5;241;43m=\u001b[39;49m\u001b[43mcache\u001b[49m\u001b[43m,\u001b[49m\u001b[43m \u001b[49m\u001b[43mextra_properties\u001b[49m\u001b[38;5;241;43m=\u001b[39;49m\u001b[43mextra_properties\u001b[49m\u001b[43m,\u001b[49m\u001b[43m \u001b[49m\u001b[43mspacing\u001b[49m\u001b[38;5;241;43m=\u001b[39;49m\u001b[43mspacing\u001b[49m\u001b[43m)\u001b[49m\n\u001b[0;32m   1021\u001b[0m     \u001b[38;5;28;01mif\u001b[39;00m extra_properties \u001b[38;5;129;01mis\u001b[39;00m \u001b[38;5;129;01mnot\u001b[39;00m \u001b[38;5;28;01mNone\u001b[39;00m:\n\u001b[0;32m   1022\u001b[0m         properties \u001b[38;5;241m=\u001b[39m (\n\u001b[0;32m   1023\u001b[0m             \u001b[38;5;28mlist\u001b[39m(properties) \u001b[38;5;241m+\u001b[39m [prop\u001b[38;5;241m.\u001b[39m\u001b[38;5;18m__name__\u001b[39m \u001b[38;5;28;01mfor\u001b[39;00m prop \u001b[38;5;129;01min\u001b[39;00m extra_properties]\n\u001b[0;32m   1024\u001b[0m         )\n",
      "File \u001b[1;32mc:\\Users\\kmk280\\.conda\\envs\\tracking\\lib\\site-packages\\skimage\\measure\\_regionprops.py:1291\u001b[0m, in \u001b[0;36mregionprops\u001b[1;34m(label_image, intensity_image, cache, extra_properties, spacing, offset)\u001b[0m\n\u001b[0;32m   1046\u001b[0m \u001b[38;5;28;01mdef\u001b[39;00m \u001b[38;5;21mregionprops\u001b[39m(label_image, intensity_image\u001b[38;5;241m=\u001b[39m\u001b[38;5;28;01mNone\u001b[39;00m, cache\u001b[38;5;241m=\u001b[39m\u001b[38;5;28;01mTrue\u001b[39;00m,\n\u001b[0;32m   1047\u001b[0m                 \u001b[38;5;241m*\u001b[39m, extra_properties\u001b[38;5;241m=\u001b[39m\u001b[38;5;28;01mNone\u001b[39;00m, spacing\u001b[38;5;241m=\u001b[39m\u001b[38;5;28;01mNone\u001b[39;00m, offset\u001b[38;5;241m=\u001b[39m\u001b[38;5;28;01mNone\u001b[39;00m):\n\u001b[0;32m   1048\u001b[0m \u001b[38;5;250m    \u001b[39m\u001b[38;5;124mr\u001b[39m\u001b[38;5;124;03m\"\"\"Measure properties of labeled image regions.\u001b[39;00m\n\u001b[0;32m   1049\u001b[0m \n\u001b[0;32m   1050\u001b[0m \u001b[38;5;124;03m    Parameters\u001b[39;00m\n\u001b[1;32m   (...)\u001b[0m\n\u001b[0;32m   1288\u001b[0m \n\u001b[0;32m   1289\u001b[0m \u001b[38;5;124;03m    \"\"\"\u001b[39;00m\n\u001b[1;32m-> 1291\u001b[0m     \u001b[38;5;28;01mif\u001b[39;00m \u001b[43mlabel_image\u001b[49m\u001b[38;5;241;43m.\u001b[39;49m\u001b[43mndim\u001b[49m \u001b[38;5;129;01mnot\u001b[39;00m \u001b[38;5;129;01min\u001b[39;00m (\u001b[38;5;241m2\u001b[39m, \u001b[38;5;241m3\u001b[39m):\n\u001b[0;32m   1292\u001b[0m         \u001b[38;5;28;01mraise\u001b[39;00m \u001b[38;5;167;01mTypeError\u001b[39;00m(\u001b[38;5;124m'\u001b[39m\u001b[38;5;124mOnly 2-D and 3-D images supported.\u001b[39m\u001b[38;5;124m'\u001b[39m)\n\u001b[0;32m   1294\u001b[0m     \u001b[38;5;28;01mif\u001b[39;00m \u001b[38;5;129;01mnot\u001b[39;00m np\u001b[38;5;241m.\u001b[39missubdtype(label_image\u001b[38;5;241m.\u001b[39mdtype, np\u001b[38;5;241m.\u001b[39minteger):\n",
      "\u001b[1;31mAttributeError\u001b[0m: 'list' object has no attribute 'ndim'"
     ]
    }
   ],
   "source": [
    "%time\n",
    "data = regionprops_table([labels[9]==40],properties=['label','centroid','area','bbox'])"
   ]
  },
  {
   "cell_type": "code",
   "execution_count": 10,
   "metadata": {},
   "outputs": [
    {
     "ename": "AttributeError",
     "evalue": "'NoneType' object has no attribute 't_begin'",
     "output_type": "error",
     "traceback": [
      "\u001b[1;31m---------------------------------------------------------------------------\u001b[0m",
      "\u001b[1;31mAttributeError\u001b[0m                            Traceback (most recent call last)",
      "Cell \u001b[1;32mIn[10], line 2\u001b[0m\n\u001b[0;32m      1\u001b[0m tr \u001b[38;5;241m=\u001b[39m session\u001b[38;5;241m.\u001b[39mquery(TrackDB)\u001b[38;5;241m.\u001b[39mfilter_by(track_id\u001b[38;5;241m=\u001b[39m\u001b[38;5;241m12539\u001b[39m)\u001b[38;5;241m.\u001b[39mfirst()\n\u001b[1;32m----> 2\u001b[0m \u001b[38;5;28mprint\u001b[39m(\u001b[43mtr\u001b[49m\u001b[38;5;241;43m.\u001b[39;49m\u001b[43mt_begin\u001b[49m,tr\u001b[38;5;241m.\u001b[39mt_end,tr\u001b[38;5;241m.\u001b[39mparent_track_id,tr\u001b[38;5;241m.\u001b[39mroot)\n",
      "\u001b[1;31mAttributeError\u001b[0m: 'NoneType' object has no attribute 't_begin'"
     ]
    }
   ],
   "source": [
    "tr = session.query(TrackDB).filter_by(track_id=12539).first()\n",
    "print(tr.t_begin,tr.t_end,tr.parent_track_id,tr.root)"
   ]
  },
  {
   "cell_type": "code",
   "execution_count": 16,
   "metadata": {},
   "outputs": [],
   "source": [
    "from sqlalchemy import and_\n",
    "from tracks_interactions.db.db_model import CellDB\n",
    "import matplotlib.pyplot as plt"
   ]
  },
  {
   "cell_type": "code",
   "execution_count": 23,
   "metadata": {},
   "outputs": [],
   "source": [
    "curr_tr = 14711\n",
    "curr_fr = 130\n",
    "c = session.query(CellDB).filter(and_(CellDB.track_id == curr_tr, CellDB.t == curr_fr)).first()\n",
    "    "
   ]
  },
  {
   "cell_type": "code",
   "execution_count": 19,
   "metadata": {},
   "outputs": [
    {
     "name": "stdout",
     "output_type": "stream",
     "text": [
      "CPU times: total: 0 ns\n",
      "Wall time: 0 ns\n"
     ]
    }
   ],
   "source": [
    "%time\n",
    "c = session.query(CellDB).filter(and_(CellDB.track_id == curr_tr, CellDB.t == curr_fr)).first()"
   ]
  },
  {
   "cell_type": "code",
   "execution_count": 24,
   "metadata": {},
   "outputs": [
    {
     "name": "stdout",
     "output_type": "stream",
     "text": [
      "CPU times: total: 0 ns\n",
      "Wall time: 0 ns\n"
     ]
    }
   ],
   "source": [
    "%time\n",
    "all_cells = session.query(CellDB).filter(CellDB.track_id == curr_tr).all()"
   ]
  },
  {
   "cell_type": "code",
   "execution_count": 22,
   "metadata": {},
   "outputs": [
    {
     "data": {
      "text/plain": [
       "<matplotlib.image.AxesImage at 0x21514ec07f0>"
      ]
     },
     "execution_count": 22,
     "metadata": {},
     "output_type": "execute_result"
    },
    {
     "data": {
      "image/png": "[encoded data removed]",
      "text/plain": [
       "<Figure size 640x480 with 1 Axes>"
      ]
     },
     "metadata": {},
     "output_type": "display_data"
    }
   ],
   "source": [
    "plt.imshow(c.mask)"
   ]
  },
  {
   "cell_type": "code",
   "execution_count": null,
   "metadata": {},
   "outputs": [],
   "source": []
  }
 ],
 "metadata": {
  "kernelspec": {
   "display_name": "tracking",
   "language": "python",
   "name": "python3"
  },
  "language_info": {
   "codemirror_mode": {
    "name": "ipython",
    "version": 3
   },
   "file_extension": ".py",
   "mimetype": "text/x-python",
   "name": "python",
   "nbconvert_exporter": "python",
   "pygments_lexer": "ipython3",
   "version": "3.10.13"
  }
 },
 "nbformat": 4,
 "nbformat_minor": 2
}

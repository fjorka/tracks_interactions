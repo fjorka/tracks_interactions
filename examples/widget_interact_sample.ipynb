{
 "cells": [
  {
   "cell_type": "code",
   "execution_count": 1,
   "metadata": {},
   "outputs": [],
   "source": [
    "%load_ext autoreload\n",
    "%autoreload 2\n",
    "\n",
    "import os\n",
    "import zarr\n",
    "import dask.array as da\n",
    "import napari\n",
    "import sys\n",
    "import numpy as np\n",
    "\n",
    "\n",
    "from sqlalchemy import create_engine\n",
    "from sqlalchemy.orm import sessionmaker\n",
    "\n",
    "sys.path.append('..')\n",
    "from tracks_interactions.db.db_model import Base, CellDB, TrackDB\n",
    "import tracks_interactions.graph.family_graph as fg\n"
   ]
  },
  {
   "cell_type": "code",
   "execution_count": 2,
   "metadata": {},
   "outputs": [],
   "source": [
    "os.environ['NAPARI_PERFMON'] = '0'"
   ]
  },
  {
   "cell_type": "code",
   "execution_count": 3,
   "metadata": {},
   "outputs": [],
   "source": [
    "from tifffile import imread\n",
    "labels = imread(r'D:\\kasia\\tracking\\E6_exp\\sample_data\\track_labels.tif')"
   ]
  },
  {
   "cell_type": "code",
   "execution_count": 4,
   "metadata": {},
   "outputs": [],
   "source": [
    "# get images\n",
    "ch1 = imread(r'D:\\kasia\\tracking\\E6_exp\\sample_data\\ch1.tif')\n",
    "ch2 = imread(r'D:\\kasia\\tracking\\E6_exp\\sample_data\\ch2.tif')"
   ]
  },
  {
   "cell_type": "code",
   "execution_count": 5,
   "metadata": {},
   "outputs": [],
   "source": [
    "# checkout labels as editable array\n",
    "labels = np.array(labels).astype('int32')"
   ]
  },
  {
   "cell_type": "code",
   "execution_count": 6,
   "metadata": {},
   "outputs": [],
   "source": [
    "# display channels and labels\n",
    "viewer = napari.Viewer()\n",
    "viewer.add_image(ch1, name='ch1', colormap = 'green',blending='additive')\n",
    "viewer.add_image(ch2, name='ch2', colormap = 'red',blending='additive')\n",
    "labels_layer = viewer.add_labels(labels,name='Labels')"
   ]
  },
  {
   "cell_type": "code",
   "execution_count": 7,
   "metadata": {},
   "outputs": [],
   "source": [
    "# get access to the database\n",
    "new_db_path =r'D:\\kasia\\tracking\\E6_exp\\sample_data\\sample_db_2tables.db'\n",
    "engine = create_engine(f'sqlite:///{new_db_path}')\n",
    "session = sessionmaker(bind=engine)()"
   ]
  },
  {
   "cell_type": "markdown",
   "metadata": {},
   "source": [
    "### Family graph display"
   ]
  },
  {
   "cell_type": "code",
   "execution_count": 8,
   "metadata": {},
   "outputs": [
    {
     "data": {
      "text/plain": [
       "<napari._qt.widgets.qt_viewer_dock_widget.QtViewerDockWidget at 0x21f7127e200>"
      ]
     },
     "execution_count": 8,
     "metadata": {},
     "output_type": "execute_result"
    }
   ],
   "source": [
    "from tracks_interactions.graph.family_graph import FamilyGraphWidget\n",
    "plot_widget = FamilyGraphWidget(viewer,session)\n",
    "viewer.window.add_dock_widget(plot_widget,area='bottom')"
   ]
  },
  {
   "cell_type": "markdown",
   "metadata": {},
   "source": [
    "### Navigation widget"
   ]
  },
  {
   "cell_type": "code",
   "execution_count": 9,
   "metadata": {},
   "outputs": [
    {
     "data": {
      "text/plain": [
       "<napari._qt.widgets.qt_viewer_dock_widget.QtViewerDockWidget at 0x21f85d64820>"
      ]
     },
     "execution_count": 9,
     "metadata": {},
     "output_type": "execute_result"
    }
   ],
   "source": [
    "from tracks_interactions.widget.track_navigation_widget import TrackNavigationWidget\n",
    "track_navigation_widget = TrackNavigationWidget(viewer,session)\n",
    "viewer.window.add_dock_widget(track_navigation_widget,area='right',name='Track Navigation')"
   ]
  },
  {
   "cell_type": "markdown",
   "metadata": {},
   "source": [
    "### Modification widget"
   ]
  },
  {
   "cell_type": "code",
   "execution_count": 10,
   "metadata": {},
   "outputs": [
    {
     "data": {
      "text/plain": [
       "<napari._qt.widgets.qt_viewer_dock_widget.QtViewerDockWidget at 0x21f96960700>"
      ]
     },
     "execution_count": 10,
     "metadata": {},
     "output_type": "execute_result"
    }
   ],
   "source": [
    "from tracks_interactions.widget.track_modification_widget import TrackModificationWidget\n",
    "track_modification_widget = TrackModificationWidget(viewer,session)\n",
    "viewer.window.add_dock_widget(track_modification_widget,area='right',name='Track Modifications')"
   ]
  },
  {
   "cell_type": "code",
   "execution_count": 11,
   "metadata": {},
   "outputs": [],
   "source": [
    "#session.query(CellDB).filter(CellDB.track_id == 9).all()"
   ]
  },
  {
   "cell_type": "code",
   "execution_count": 12,
   "metadata": {},
   "outputs": [],
   "source": [
    "#session.query(TrackDB).filter(TrackDB.track_id == 91).all()"
   ]
  },
  {
   "cell_type": "markdown",
   "metadata": {},
   "source": [
    "### Signal graph"
   ]
  },
  {
   "cell_type": "code",
   "execution_count": 13,
   "metadata": {},
   "outputs": [
    {
     "data": {
      "text/plain": [
       "<napari._qt.widgets.qt_viewer_dock_widget.QtViewerDockWidget at 0x21f96962290>"
      ]
     },
     "execution_count": 13,
     "metadata": {},
     "output_type": "execute_result"
    }
   ],
   "source": [
    "from tracks_interactions.graph.signal_graph import SignalGraph\n",
    "signal_list = ['ch0_nuc','ch0_cyto']\n",
    "color_list = ['yellow','green']\n",
    "graph_widget = SignalGraph(viewer,session,signal_list,color_list)\n",
    "viewer.window.add_dock_widget(graph_widget,area='right',name='Cell Signals')"
   ]
  },
  {
   "cell_type": "code",
   "execution_count": 14,
   "metadata": {},
   "outputs": [],
   "source": [
    "# # add a button controling adding graphs\n",
    "# signal_list = ['area','ch0_nuc','ch0_cyto','ch1_nuc','ch1_cyto']\n",
    "\n",
    "# from tracks_interactions.widget.signal_graph_widget import AddListGraphWidget\n",
    "# add_graph_widget = AddListGraphWidget(viewer,session,signal_list)\n",
    "# viewer.window.add_dock_widget(add_graph_widget,area='right',name='Add Signal Graphs')"
   ]
  },
  {
   "cell_type": "markdown",
   "metadata": {},
   "source": [
    "### Cell modification"
   ]
  },
  {
   "cell_type": "code",
   "execution_count": 15,
   "metadata": {},
   "outputs": [
    {
     "data": {
      "text/plain": [
       "<napari._qt.widgets.qt_viewer_dock_widget.QtViewerDockWidget at 0x21f96963eb0>"
      ]
     },
     "execution_count": 15,
     "metadata": {},
     "output_type": "execute_result"
    }
   ],
   "source": [
    "from tracks_interactions.widget.cell_modification_widget import CellModificationWidget\n",
    "cell_modification_widget = CellModificationWidget(viewer,session,ch_list=[ch1,ch2])\n",
    "viewer.window.add_dock_widget(cell_modification_widget,area='right',name='Save Cell')"
   ]
  },
  {
   "cell_type": "markdown",
   "metadata": {},
   "source": [
    "### Tests"
   ]
  },
  {
   "cell_type": "code",
   "execution_count": 16,
   "metadata": {},
   "outputs": [],
   "source": [
    "# session.close()"
   ]
  },
  {
   "cell_type": "code",
   "execution_count": 17,
   "metadata": {},
   "outputs": [],
   "source": [
    "# cell = session.query(CellDB).filter(CellDB.t==0).filter(CellDB.track_id==34).all()\n",
    "# cell = cell[0]\n",
    "# print(cell.row,cell.col)\n",
    "# print(cell.bbox_0,cell.bbox_1,cell.bbox_2,cell.bbox_3)\n",
    "# print(cell.tags)"
   ]
  }
 ],
 "metadata": {
  "kernelspec": {
   "display_name": "tracking",
   "language": "python",
   "name": "python3"
  },
  "language_info": {
   "codemirror_mode": {
    "name": "ipython",
    "version": 3
   },
   "file_extension": ".py",
   "mimetype": "text/x-python",
   "name": "python",
   "nbconvert_exporter": "python",
   "pygments_lexer": "ipython3",
   "version": "3.10.13"
  }
 },
 "nbformat": 4,
 "nbformat_minor": 2
}

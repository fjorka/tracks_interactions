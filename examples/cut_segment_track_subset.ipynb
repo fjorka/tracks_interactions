{
 "cells": [
  {
   "cell_type": "markdown",
   "metadata": {},
   "source": [
    "This notebook creates a small cube of data for testing interactions with the tracking corrections. Segmentation was performed previously but ultrack is run here on the small cube (not subsetted from the general solution)."
   ]
  },
  {
   "cell_type": "code",
   "execution_count": 49,
   "metadata": {},
   "outputs": [],
   "source": [
    "import napari\n",
    "import numpy as np\n",
    "import pandas as pd\n",
    "from skimage.io import imread\n",
    "from skimage.measure import regionprops_table   \n",
    "from ome_zarr.reader import Reader\n",
    "from ome_zarr.io import parse_url\n",
    "\n",
    "from PIL import Image\n",
    "Image.MAX_IMAGE_PIXELS = None\n",
    "\n",
    "from tifffile import imwrite"
   ]
  },
  {
   "cell_type": "markdown",
   "metadata": {},
   "source": [
    "### Get the data"
   ]
  },
  {
   "cell_type": "code",
   "execution_count": 44,
   "metadata": {},
   "outputs": [],
   "source": [
    "im1_path = r'D:\\kasia\\tracking\\E6_exp\\E6_C0.zarr'\n",
    "im2_path = r'D:\\\\Kasia\\tracking\\E6_exp\\E6_C1.zarr'\n",
    "\n",
    "segmentation_path = r'D:\\kasia\\tracking\\E6_exp\\segmentation'\n",
    "\n",
    "save_path = r'D:\\kasia\\tracking\\E6_exp\\sample_data'\n",
    "\n",
    "t_min = 100\n",
    "t_max = 120\n",
    "r_min = 10000\n",
    "r_max =11000\n",
    "c_min = 10000\n",
    "c_max = 11000"
   ]
  },
  {
   "cell_type": "code",
   "execution_count": 45,
   "metadata": {},
   "outputs": [],
   "source": [
    "# get channel 1 data\n",
    "reader = Reader(parse_url(im1_path))\n",
    "image_node = list(reader())[0]\n",
    "dask_data = image_node.data\n",
    "\n",
    "ch1 = dask_data[0][t_min:t_max, r_min:r_max, c_min:c_max].compute()\n",
    "imwrite(save_path + r'\\ch1.tif', ch1)"
   ]
  },
  {
   "cell_type": "code",
   "execution_count": 46,
   "metadata": {},
   "outputs": [],
   "source": [
    "# get channel 2 data\n",
    "reader = Reader(parse_url(im2_path))\n",
    "image_node = list(reader())[0]\n",
    "dask_data = image_node.data\n",
    "\n",
    "ch2 = dask_data[0][t_min:t_max, r_min:r_max, c_min:c_max].compute()\n",
    "imwrite(save_path + r'\\ch2.tif', ch2)"
   ]
  },
  {
   "cell_type": "code",
   "execution_count": 39,
   "metadata": {},
   "outputs": [
    {
     "name": "stderr",
     "output_type": "stream",
     "text": [
      "c:\\Users\\kmk280\\.conda\\envs\\tracking\\lib\\site-packages\\imageio\\plugins\\pillow.py:312: UserWarning: Loading 16-bit (uint16) PNG as int32 due to limitations in pillow's PNG decoder. This will be fixed in a future version of pillow which will make this warning dissapear.\n",
      "  warnings.warn(\n"
     ]
    }
   ],
   "source": [
    "# get segmentation data\n",
    "seg_list = []\n",
    "for i in range(t_min, t_max):\n",
    "    seg = imread(segmentation_path + f'\\mask_{str(i).zfill(3)}.png')\n",
    "    seg = seg[r_min:r_max, c_min:c_max]\n",
    "    seg_list.append(seg)\n",
    "\n",
    "seg = np.array(seg_list)"
   ]
  },
  {
   "cell_type": "code",
   "execution_count": 47,
   "metadata": {},
   "outputs": [],
   "source": [
    "imwrite(save_path + r'\\seg.tif', seg)"
   ]
  },
  {
   "cell_type": "code",
   "execution_count": 60,
   "metadata": {},
   "outputs": [
    {
     "name": "stderr",
     "output_type": "stream",
     "text": [
      "c:\\Users\\kmk280\\.conda\\envs\\tracking\\lib\\site-packages\\napari\\_qt\\qt_main_window.py:543: UserWarning: Using NAPARI_PERFMON with an already-running QtApp (--gui qt?) is not supported.\n",
      "  qapp = get_app()\n"
     ]
    },
    {
     "data": {
      "text/plain": [
       "<Labels layer 'segmentation' at 0x151784994b0>"
      ]
     },
     "execution_count": 60,
     "metadata": {},
     "output_type": "execute_result"
    }
   ],
   "source": [
    "viewer = napari.Viewer()\n",
    "viewer.add_image(ch1,colormap='green',blending='additive')\n",
    "viewer.add_image(ch2,colormap='red',blending='additive')\n",
    "viewer.add_labels(seg, name='segmentation',blending='additive')"
   ]
  },
  {
   "cell_type": "markdown",
   "metadata": {},
   "source": [
    "### Measure properties"
   ]
  },
  {
   "cell_type": "code",
   "execution_count": 58,
   "metadata": {},
   "outputs": [],
   "source": [
    "properties=('label', 'centroid', 'area','image','mean_intensity')\n",
    "df_list = []\n",
    "for i in range(t_max-t_min):\n",
    "    intensity_image=np.array([ch1[i],ch2[i]])\n",
    "    intensity_image = np.moveaxis(intensity_image, 0, -1)\n",
    "    data = regionprops_table(seg[i], properties=properties, intensity_image=intensity_image)\n",
    "    df = pd.DataFrame(data)\n",
    "    df['frame'] = i\n",
    "    df_list.append(df)\n",
    "\n",
    "df = pd.concat(df_list)\n",
    "df.to_csv(save_path + r'\\segmentation.csv', index=False)"
   ]
  },
  {
   "cell_type": "markdown",
   "metadata": {},
   "source": [
    "### Tracking"
   ]
  },
  {
   "cell_type": "code",
   "execution_count": 69,
   "metadata": {},
   "outputs": [],
   "source": [
    "from ultrack.utils import estimate_parameters_from_labels, labels_to_edges\n",
    "from ultrack.config import MainConfig\n",
    "from ultrack import track, to_tracks_layer, tracks_to_zarr"
   ]
  },
  {
   "cell_type": "code",
   "execution_count": 62,
   "metadata": {},
   "outputs": [
    {
     "name": "stderr",
     "output_type": "stream",
     "text": [
      "Converting labels to edges: 100%|██████████| 20/20 [00:00<00:00, 22.84it/s]\n"
     ]
    }
   ],
   "source": [
    "detection, edges = labels_to_edges(seg, sigma=4.0)"
   ]
  },
  {
   "cell_type": "code",
   "execution_count": 63,
   "metadata": {},
   "outputs": [
    {
     "data": {
      "text/plain": [
       "<Image layer 'edges' at 0x1517a32a4d0>"
      ]
     },
     "execution_count": 63,
     "metadata": {},
     "output_type": "execute_result"
    }
   ],
   "source": [
    "viewer.add_image(edges, blending=\"additive\", colormap=\"magma\")"
   ]
  },
  {
   "cell_type": "code",
   "execution_count": 65,
   "metadata": {},
   "outputs": [],
   "source": [
    "config = MainConfig()"
   ]
  },
  {
   "cell_type": "code",
   "execution_count": 66,
   "metadata": {},
   "outputs": [
    {
     "name": "stderr",
     "output_type": "stream",
     "text": [
      "Estimating params.: 100%|██████████| 20/20 [00:00<00:00, 85.29it/s]\n"
     ]
    },
    {
     "data": {
      "text/plain": [
       "<Axes: title={'center': 'Area histogram'}, ylabel='Frequency'>"
      ]
     },
     "execution_count": 66,
     "metadata": {},
     "output_type": "execute_result"
    },
    {
     "data": {
      "image/png": "[encoded data removed]",
      "text/plain": [
       "<Figure size 640x480 with 1 Axes>"
      ]
     },
     "metadata": {},
     "output_type": "display_data"
    }
   ],
   "source": [
    "params_df = estimate_parameters_from_labels(seg, is_timelapse=True)\n",
    "params_df[\"area\"].plot(kind=\"hist\", bins=100, title=\"Area histogram\")"
   ]
  },
  {
   "cell_type": "code",
   "execution_count": 68,
   "metadata": {},
   "outputs": [],
   "source": [
    "config.segmentation_config.min_area = 1000\n",
    "config.segmentation_config.max_area = 5000\n",
    "config.segmentation_config.n_workers = 8\n",
    "\n",
    "config.linking_config.max_distance = 50\n",
    "config.linking_config.n_workers = 10\n",
    "\n",
    "config.tracking_config.appear_weight = -1\n",
    "config.tracking_config.disappear_weight = -0.5\n",
    "config.tracking_config.division_weight = -0.1\n",
    "config.tracking_config.power = 4\n",
    "config.tracking_config.bias = -0.001\n",
    "config.tracking_config.solution_gap = 0.0"
   ]
  },
  {
   "cell_type": "code",
   "execution_count": 70,
   "metadata": {},
   "outputs": [
    {
     "name": "stderr",
     "output_type": "stream",
     "text": [
      "WARNING:ultrack.core.segmentation.processing:Found zarr with MemoryStore. Using an zarr with MemoryStore can lead to considerable memory usage.\n",
      "WARNING:ultrack.core.segmentation.processing:Found zarr with MemoryStore. Using an zarr with MemoryStore can lead to considerable memory usage.\n",
      "Adding nodes to database: 100%|██████████| 20/20 [00:16<00:00,  1.18it/s]\n",
      "Linking nodes.: 100%|██████████| 19/19 [00:11<00:00,  1.70it/s]\n",
      "WARNING:ultrack.core.solve.sqltracking:Gurobi environment could not be loaded, check your license.\n",
      "WARNING:ultrack.core.solve.solver.mip_solver:Using CBC solver. Consider installing Gurobi for significantly better performance.\n",
      "WARNING:ultrack.core.solve.solver.mip_solver:To install Gurobi, follow the instructions at https://support.gurobi.com/hc/en-us/articles/360044290292-How-do-I-install-Gurobi-for-Python-\n",
      "WARNING:ultrack.core.solve.solver.mip_solver:It is free for academic use. See https://www.gurobi.com/academia/academic-program-and-licenses/\n"
     ]
    },
    {
     "name": "stdout",
     "output_type": "stream",
     "text": [
      "Using CBC solver\n",
      "Solving ILP batch 0\n",
      "Constructing ILP ...\n",
      "Solving ILP ...\n",
      "Saving solution ...\n",
      "Done!\n"
     ]
    }
   ],
   "source": [
    "track(\n",
    "    detection=detection,\n",
    "    edges=edges,\n",
    "    config=config,\n",
    "    overwrite=True,\n",
    ")"
   ]
  },
  {
   "cell_type": "code",
   "execution_count": 71,
   "metadata": {},
   "outputs": [
    {
     "name": "stderr",
     "output_type": "stream",
     "text": [
      "c:\\Users\\kmk280\\.conda\\envs\\tracking\\lib\\site-packages\\numba\\typed\\typeddict.py:39: NumbaTypeSafetyWarning: \u001b[1m\u001b[1m\u001b[1munsafe cast from int64 to int32. Precision may be lost.\u001b[0m\u001b[0m\u001b[0m\n",
      "  return d[key]\n",
      "Exporting segmentation masks: 100%|██████████| 20/20 [00:00<00:00, 93.24it/s]\n"
     ]
    }
   ],
   "source": [
    "tracks_df, graph = to_tracks_layer(config)\n",
    "labels = tracks_to_zarr(config, tracks_df)"
   ]
  },
  {
   "cell_type": "code",
   "execution_count": 72,
   "metadata": {},
   "outputs": [
    {
     "data": {
      "text/plain": [
       "<Labels layer 'labels' at 0x1517c5a1690>"
      ]
     },
     "execution_count": 72,
     "metadata": {},
     "output_type": "execute_result"
    }
   ],
   "source": [
    "viewer.add_labels(labels)"
   ]
  },
  {
   "cell_type": "code",
   "execution_count": 73,
   "metadata": {},
   "outputs": [],
   "source": [
    "imwrite(save_path + r'\\track_labels.tif', labels)"
   ]
  }
 ],
 "metadata": {
  "kernelspec": {
   "display_name": "tracking",
   "language": "python",
   "name": "python3"
  },
  "language_info": {
   "codemirror_mode": {
    "name": "ipython",
    "version": 3
   },
   "file_extension": ".py",
   "mimetype": "text/x-python",
   "name": "python",
   "nbconvert_exporter": "python",
   "pygments_lexer": "ipython3",
   "version": "3.10.13"
  }
 },
 "nbformat": 4,
 "nbformat_minor": 2
}

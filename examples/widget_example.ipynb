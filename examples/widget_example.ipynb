{
 "cells": [
  {
   "cell_type": "code",
   "execution_count": 1,
   "metadata": {},
   "outputs": [],
   "source": [
    "%load_ext autoreload\n",
    "%autoreload 2\n",
    "\n",
    "import os\n",
    "import zarr\n",
    "import dask.array as da\n",
    "import napari\n",
    "import sys\n",
    "import numpy as np\n",
    "\n",
    "from sqlalchemy import create_engine\n",
    "from sqlalchemy.orm import Session\n",
    "\n",
    "from ete3 import Tree\n",
    "\n",
    "sys.path.append('../tracks_interactions/tracks_interactions')\n",
    "from db.db_model import Base, CellDB, TrackDB\n",
    "import graph.family_graph as fg"
   ]
  },
  {
   "cell_type": "code",
   "execution_count": 2,
   "metadata": {},
   "outputs": [],
   "source": [
    "os.environ['NAPARI_PERFMON'] = '0'"
   ]
  },
  {
   "cell_type": "code",
   "execution_count": 3,
   "metadata": {},
   "outputs": [],
   "source": [
    "labels_zarr_path = r'D:\\kasia\\tracking\\E6_exp\\code\\tests\\example_track_labels.zarr'\n",
    "labels = da.from_zarr(labels_zarr_path)"
   ]
  },
  {
   "cell_type": "code",
   "execution_count": 4,
   "metadata": {},
   "outputs": [
    {
     "name": "stderr",
     "output_type": "stream",
     "text": [
      "c:\\Users\\kmk280\\.conda\\envs\\tracking\\lib\\site-packages\\napari\\_qt\\qt_main_window.py:543: UserWarning: Using NAPARI_PERFMON with an already-running QtApp (--gui qt?) is not supported.\n",
      "  qapp = get_app()\n"
     ]
    }
   ],
   "source": [
    "# display the labels\n",
    "viewer = napari.Viewer()\n",
    "labels_layer = viewer.add_labels(labels,name='Labels')\n",
    "fg.viewer = viewer"
   ]
  },
  {
   "cell_type": "code",
   "execution_count": 5,
   "metadata": {},
   "outputs": [],
   "source": [
    "# get access to the database\n",
    "new_db_path = r'D:\\kasia\\tracking\\E6_exp\\code\\gardener_20_dev\\cells_database_2tables.db'\n",
    "engine = create_engine(f'sqlite:///{new_db_path}')\n",
    "\n",
    "# send engine to the library\n",
    "fg.engine = engine"
   ]
  },
  {
   "cell_type": "code",
   "execution_count": 6,
   "metadata": {},
   "outputs": [
    {
     "data": {
      "text/plain": [
       "<napari._qt.widgets.qt_viewer_dock_widget.QtViewerDockWidget at 0x1b88b9cf0a0>"
      ]
     },
     "execution_count": 6,
     "metadata": {},
     "output_type": "execute_result"
    }
   ],
   "source": [
    "# create a plot widget\n",
    "t_max = viewer.dims.range[0][1]\n",
    "plot_widget = fg.build_lineage_widget(t_max)\n",
    "fg.plot_widget = plot_widget\n",
    "\n",
    "\n",
    "# add lineage graph\n",
    "viewer.window.add_dock_widget(plot_widget,area='bottom',name='family')"
   ]
  },
  {
   "cell_type": "code",
   "execution_count": 7,
   "metadata": {},
   "outputs": [
    {
     "data": {
      "text/plain": [
       "<function graph.family_graph.update_lineage_display(event)>"
      ]
     },
     "execution_count": 7,
     "metadata": {},
     "output_type": "execute_result"
    }
   ],
   "source": [
    "# connect lineage graph update\n",
    "labels_layer.events.selected_label.connect(fg.update_lineage_display)"
   ]
  },
  {
   "cell_type": "code",
   "execution_count": 8,
   "metadata": {},
   "outputs": [
    {
     "ename": "ModuleNotFoundError",
     "evalue": "No module named 'tracks_interactions'",
     "output_type": "error",
     "traceback": [
      "\u001b[1;31m---------------------------------------------------------------------------\u001b[0m",
      "\u001b[1;31mModuleNotFoundError\u001b[0m                       Traceback (most recent call last)",
      "\u001b[1;32md:\\kasia\\tracking\\E6_exp\\code\\tracks_interactions\\examples\\widget_example.ipynb Cell 8\u001b[0m line \u001b[0;36m1\n\u001b[1;32m----> <a href='vscode-notebook-cell:/d%3A/kasia/tracking/E6_exp/code/tracks_interactions/examples/widget_example.ipynb#X14sZmlsZQ%3D%3D?line=0'>1</a>\u001b[0m \u001b[39mfrom\u001b[39;00m \u001b[39mdb\u001b[39;00m\u001b[39m.\u001b[39;00m\u001b[39mdb_functions\u001b[39;00m \u001b[39mimport\u001b[39;00m get_descendants\n",
      "File \u001b[1;32md:\\kasia\\tracking\\E6_exp\\code\\tracks_interactions\\examples\\../tracks_interactions\\db\\db_functions.py:11\u001b[0m\n\u001b[0;32m      8\u001b[0m \u001b[39mfrom\u001b[39;00m \u001b[39multrack\u001b[39;00m\u001b[39m.\u001b[39;00m\u001b[39mtracks\u001b[39;00m\u001b[39m.\u001b[39;00m\u001b[39mgraph\u001b[39;00m \u001b[39mimport\u001b[39;00m _fast_path_transverse, create_tracks_forest\n\u001b[0;32m     10\u001b[0m \u001b[39m# that's how it passes the ruff but I cannot use it from the script\u001b[39;00m\n\u001b[1;32m---> 11\u001b[0m \u001b[39mfrom\u001b[39;00m \u001b[39mtracks_interactions\u001b[39;00m\u001b[39m.\u001b[39;00m\u001b[39mdb\u001b[39;00m\u001b[39m.\u001b[39;00m\u001b[39mdb_model\u001b[39;00m \u001b[39mimport\u001b[39;00m NO_PARENT, CellDB, TrackDB\n\u001b[0;32m     13\u001b[0m \u001b[39m# from .db_model import NO_PARENT, CellDB, TrackDB\u001b[39;00m\n\u001b[0;32m     16\u001b[0m \u001b[39mdef\u001b[39;00m \u001b[39mnewTrack_number\u001b[39m(session):\n",
      "\u001b[1;31mModuleNotFoundError\u001b[0m: No module named 'tracks_interactions'"
     ]
    }
   ],
   "source": [
    "from db.db_functions import get_descendants"
   ]
  },
  {
   "cell_type": "markdown",
   "metadata": {},
   "source": [
    "### Test"
   ]
  },
  {
   "cell_type": "code",
   "execution_count": 9,
   "metadata": {},
   "outputs": [],
   "source": [
    "my_root = 1\n",
    "\n",
    "plot_view = plot_widget.getItem(0,0)\n",
    "plot_view.clear()\n",
    "\n",
    "# buid the tree\n",
    "tree = fg.build_Newick_tree(engine, my_root)"
   ]
  },
  {
   "cell_type": "code",
   "execution_count": 10,
   "metadata": {},
   "outputs": [],
   "source": [
    "# update the widget with the tree\n",
    "plot_view = fg.render_tree_view(plot_view,tree,viewer)"
   ]
  },
  {
   "cell_type": "code",
   "execution_count": null,
   "metadata": {},
   "outputs": [],
   "source": []
  }
 ],
 "metadata": {
  "kernelspec": {
   "display_name": "tracking",
   "language": "python",
   "name": "python3"
  },
  "language_info": {
   "codemirror_mode": {
    "name": "ipython",
    "version": 3
   },
   "file_extension": ".py",
   "mimetype": "text/x-python",
   "name": "python",
   "nbconvert_exporter": "python",
   "pygments_lexer": "ipython3",
   "version": "3.10.13"
  }
 },
 "nbformat": 4,
 "nbformat_minor": 2
}

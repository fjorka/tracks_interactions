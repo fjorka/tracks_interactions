{
 "cells": [
  {
   "cell_type": "markdown",
   "metadata": {},
   "source": [
    "Notebook to save labels from the database in a zarr file."
   ]
  },
  {
   "cell_type": "code",
   "execution_count": 1,
   "metadata": {},
   "outputs": [],
   "source": [
    "import os\n",
    "import sys\n",
    "import zarr\n",
    "import tensorstore as ts\n",
    "from numcodecs import Blosc\n",
    "import ome_zarr\n",
    "from ome_zarr.io import parse_url\n",
    "from ome_zarr.writer import write_image\n",
    "import dask.array as da\n",
    "from dask import delayed\n",
    "import napari\n",
    "import numpy as np\n",
    "from tqdm.notebook import tqdm \n",
    "\n",
    "from sqlalchemy import create_engine\n",
    "from sqlalchemy.orm import sessionmaker\n",
    "\n",
    "sys.path.append('..')\n",
    "from tracks_interactions.db.db_model import CellDB, TrackDB"
   ]
  },
  {
   "cell_type": "code",
   "execution_count": 2,
   "metadata": {},
   "outputs": [
    {
     "data": {
      "text/plain": [
       "False"
      ]
     },
     "execution_count": 2,
     "metadata": {},
     "output_type": "execute_result"
    }
   ],
   "source": [
    "os.environ['NAPARI_PERFMON'] = '0'\n",
    "\n",
    "from napari.settings import get_settings\n",
    "settings = get_settings()\n",
    "settings.experimental.async_\n",
    "#settings.experimental.async_=True"
   ]
  },
  {
   "cell_type": "code",
   "execution_count": 3,
   "metadata": {},
   "outputs": [
    {
     "data": {
      "text/plain": [
       "(241, 8396, 8401)"
      ]
     },
     "execution_count": 3,
     "metadata": {},
     "output_type": "execute_result"
    }
   ],
   "source": [
    "# get images\n",
    "ch0_path = r'D:\\kasia\\tracking\\E6_exp\\E6_C0.zarr'\n",
    "\n",
    "im = da.from_zarr(ch0_path,1)\n",
    "im_shape = im.shape\n",
    "im_shape"
   ]
  },
  {
   "cell_type": "code",
   "execution_count": 4,
   "metadata": {},
   "outputs": [],
   "source": [
    "# get access to the database\n",
    "new_db_path = r'D:\\kasia\\tracking\\E6_exp\\double_segmentation_ultrack\\Exp6_gardener.db'\n",
    "engine = create_engine(f'sqlite:///{new_db_path}')\n",
    "session = sessionmaker(bind=engine)()"
   ]
  },
  {
   "cell_type": "code",
   "execution_count": 5,
   "metadata": {},
   "outputs": [],
   "source": [
    "def build_frame(session,im_shape,ind):\n",
    "\n",
    "    frame = np.zeros([im_shape[1],im_shape[2]]).astype('uint32')\n",
    "\n",
    "    query = session.query(CellDB).filter(CellDB.t == ind).all()\n",
    "\n",
    "    for cell in query:\n",
    "\n",
    "        box = frame[cell.bbox_0:cell.bbox_2,cell.bbox_1:cell.bbox_3]\n",
    "\n",
    "        frame[cell.bbox_0:cell.bbox_2,cell.bbox_1:cell.bbox_3] = box + (cell.mask.astype('uint32') * cell.track_id)\n",
    "\n",
    "    return frame\n",
    "\n",
    "chunks = [1,2048,2048]\n",
    "\n",
    "lazy_arrays = [delayed(build_frame)(session,im_shape,i) for i in range(im_shape[0])]\n",
    "dask_arrays = [da.from_delayed(delayed_reader, shape=[im_shape[1],im_shape[2]], dtype='uint32') for delayed_reader in lazy_arrays]\n",
    "stack = da.stack(dask_arrays, axis=0)\n",
    "rechunked_stack = stack.rechunk(chunks)"
   ]
  },
  {
   "cell_type": "code",
   "execution_count": 6,
   "metadata": {},
   "outputs": [
    {
     "data": {
      "text/html": [
       "<table>\n",
       "    <tr>\n",
       "        <td>\n",
       "            <table style=\"border-collapse: collapse;\">\n",
       "                <thead>\n",
       "                    <tr>\n",
       "                        <td> </td>\n",
       "                        <th> Array </th>\n",
       "                        <th> Chunk </th>\n",
       "                    </tr>\n",
       "                </thead>\n",
       "                <tbody>\n",
       "                    \n",
       "                    <tr>\n",
       "                        <th> Bytes </th>\n",
       "                        <td> 63.33 GiB </td>\n",
       "                        <td> 16.00 MiB </td>\n",
       "                    </tr>\n",
       "                    \n",
       "                    <tr>\n",
       "                        <th> Shape </th>\n",
       "                        <td> (241, 8396, 8401) </td>\n",
       "                        <td> (1, 2048, 2048) </td>\n",
       "                    </tr>\n",
       "                    <tr>\n",
       "                        <th> Dask graph </th>\n",
       "                        <td colspan=\"2\"> 6025 chunks in 484 graph layers </td>\n",
       "                    </tr>\n",
       "                    <tr>\n",
       "                        <th> Data type </th>\n",
       "                        <td colspan=\"2\"> uint32 numpy.ndarray </td>\n",
       "                    </tr>\n",
       "                </tbody>\n",
       "            </table>\n",
       "        </td>\n",
       "        <td>\n",
       "        <svg width=\"198\" height=\"188\" style=\"stroke:rgb(0,0,0);stroke-width:1\" >\n",
       "\n",
       "  <!-- Horizontal lines -->\n",
       "  <line x1=\"10\" y1=\"0\" x2=\"28\" y2=\"18\" style=\"stroke-width:2\" />\n",
       "  <line x1=\"10\" y1=\"29\" x2=\"28\" y2=\"47\" />\n",
       "  <line x1=\"10\" y1=\"58\" x2=\"28\" y2=\"76\" />\n",
       "  <line x1=\"10\" y1=\"87\" x2=\"28\" y2=\"106\" />\n",
       "  <line x1=\"10\" y1=\"117\" x2=\"28\" y2=\"135\" />\n",
       "  <line x1=\"10\" y1=\"119\" x2=\"28\" y2=\"138\" style=\"stroke-width:2\" />\n",
       "\n",
       "  <!-- Vertical lines -->\n",
       "  <line x1=\"10\" y1=\"0\" x2=\"10\" y2=\"119\" style=\"stroke-width:2\" />\n",
       "  <line x1=\"10\" y1=\"0\" x2=\"10\" y2=\"120\" />\n",
       "  <line x1=\"11\" y1=\"1\" x2=\"11\" y2=\"121\" />\n",
       "  <line x1=\"12\" y1=\"2\" x2=\"12\" y2=\"122\" />\n",
       "  <line x1=\"13\" y1=\"3\" x2=\"13\" y2=\"123\" />\n",
       "  <line x1=\"14\" y1=\"4\" x2=\"14\" y2=\"124\" />\n",
       "  <line x1=\"15\" y1=\"5\" x2=\"15\" y2=\"125\" />\n",
       "  <line x1=\"16\" y1=\"6\" x2=\"16\" y2=\"126\" />\n",
       "  <line x1=\"17\" y1=\"7\" x2=\"17\" y2=\"127\" />\n",
       "  <line x1=\"18\" y1=\"8\" x2=\"18\" y2=\"128\" />\n",
       "  <line x1=\"19\" y1=\"9\" x2=\"19\" y2=\"129\" />\n",
       "  <line x1=\"20\" y1=\"10\" x2=\"20\" y2=\"130\" />\n",
       "  <line x1=\"21\" y1=\"11\" x2=\"21\" y2=\"131\" />\n",
       "  <line x1=\"22\" y1=\"12\" x2=\"22\" y2=\"132\" />\n",
       "  <line x1=\"23\" y1=\"13\" x2=\"23\" y2=\"133\" />\n",
       "  <line x1=\"24\" y1=\"14\" x2=\"24\" y2=\"134\" />\n",
       "  <line x1=\"25\" y1=\"15\" x2=\"25\" y2=\"135\" />\n",
       "  <line x1=\"26\" y1=\"16\" x2=\"26\" y2=\"136\" />\n",
       "  <line x1=\"27\" y1=\"17\" x2=\"27\" y2=\"137\" />\n",
       "  <line x1=\"28\" y1=\"18\" x2=\"28\" y2=\"138\" style=\"stroke-width:2\" />\n",
       "\n",
       "  <!-- Colored Rectangle -->\n",
       "  <polygon points=\"10.0,0.0 28.307779995485348,18.307779995485348 28.307779995485348,138.23635992644594 10.0,119.9285799309606\" style=\"fill:#8B4903A0;stroke-width:0\"/>\n",
       "\n",
       "  <!-- Horizontal lines -->\n",
       "  <line x1=\"10\" y1=\"0\" x2=\"130\" y2=\"0\" style=\"stroke-width:2\" />\n",
       "  <line x1=\"10\" y1=\"0\" x2=\"130\" y2=\"0\" />\n",
       "  <line x1=\"11\" y1=\"1\" x2=\"131\" y2=\"1\" />\n",
       "  <line x1=\"12\" y1=\"2\" x2=\"132\" y2=\"2\" />\n",
       "  <line x1=\"13\" y1=\"3\" x2=\"133\" y2=\"3\" />\n",
       "  <line x1=\"14\" y1=\"4\" x2=\"134\" y2=\"4\" />\n",
       "  <line x1=\"15\" y1=\"5\" x2=\"135\" y2=\"5\" />\n",
       "  <line x1=\"16\" y1=\"6\" x2=\"136\" y2=\"6\" />\n",
       "  <line x1=\"17\" y1=\"7\" x2=\"137\" y2=\"7\" />\n",
       "  <line x1=\"18\" y1=\"8\" x2=\"138\" y2=\"8\" />\n",
       "  <line x1=\"19\" y1=\"9\" x2=\"139\" y2=\"9\" />\n",
       "  <line x1=\"20\" y1=\"10\" x2=\"140\" y2=\"10\" />\n",
       "  <line x1=\"21\" y1=\"11\" x2=\"141\" y2=\"11\" />\n",
       "  <line x1=\"22\" y1=\"12\" x2=\"142\" y2=\"12\" />\n",
       "  <line x1=\"23\" y1=\"13\" x2=\"143\" y2=\"13\" />\n",
       "  <line x1=\"24\" y1=\"14\" x2=\"144\" y2=\"14\" />\n",
       "  <line x1=\"25\" y1=\"15\" x2=\"145\" y2=\"15\" />\n",
       "  <line x1=\"26\" y1=\"16\" x2=\"146\" y2=\"16\" />\n",
       "  <line x1=\"27\" y1=\"17\" x2=\"147\" y2=\"17\" />\n",
       "  <line x1=\"28\" y1=\"18\" x2=\"148\" y2=\"18\" style=\"stroke-width:2\" />\n",
       "\n",
       "  <!-- Vertical lines -->\n",
       "  <line x1=\"10\" y1=\"0\" x2=\"28\" y2=\"18\" style=\"stroke-width:2\" />\n",
       "  <line x1=\"39\" y1=\"0\" x2=\"57\" y2=\"18\" />\n",
       "  <line x1=\"68\" y1=\"0\" x2=\"86\" y2=\"18\" />\n",
       "  <line x1=\"97\" y1=\"0\" x2=\"116\" y2=\"18\" />\n",
       "  <line x1=\"127\" y1=\"0\" x2=\"145\" y2=\"18\" />\n",
       "  <line x1=\"130\" y1=\"0\" x2=\"148\" y2=\"18\" style=\"stroke-width:2\" />\n",
       "\n",
       "  <!-- Colored Rectangle -->\n",
       "  <polygon points=\"10.0,0.0 130.0,0.0 148.30777999548536,18.307779995485348 28.307779995485348,18.307779995485348\" style=\"fill:#8B4903A0;stroke-width:0\"/>\n",
       "\n",
       "  <!-- Horizontal lines -->\n",
       "  <line x1=\"28\" y1=\"18\" x2=\"148\" y2=\"18\" style=\"stroke-width:2\" />\n",
       "  <line x1=\"28\" y1=\"47\" x2=\"148\" y2=\"47\" />\n",
       "  <line x1=\"28\" y1=\"76\" x2=\"148\" y2=\"76\" />\n",
       "  <line x1=\"28\" y1=\"106\" x2=\"148\" y2=\"106\" />\n",
       "  <line x1=\"28\" y1=\"135\" x2=\"148\" y2=\"135\" />\n",
       "  <line x1=\"28\" y1=\"138\" x2=\"148\" y2=\"138\" style=\"stroke-width:2\" />\n",
       "\n",
       "  <!-- Vertical lines -->\n",
       "  <line x1=\"28\" y1=\"18\" x2=\"28\" y2=\"138\" style=\"stroke-width:2\" />\n",
       "  <line x1=\"57\" y1=\"18\" x2=\"57\" y2=\"138\" />\n",
       "  <line x1=\"86\" y1=\"18\" x2=\"86\" y2=\"138\" />\n",
       "  <line x1=\"116\" y1=\"18\" x2=\"116\" y2=\"138\" />\n",
       "  <line x1=\"145\" y1=\"18\" x2=\"145\" y2=\"138\" />\n",
       "  <line x1=\"148\" y1=\"18\" x2=\"148\" y2=\"138\" style=\"stroke-width:2\" />\n",
       "\n",
       "  <!-- Colored Rectangle -->\n",
       "  <polygon points=\"28.307779995485348,18.307779995485348 148.30777999548536,18.307779995485348 148.30777999548536,138.23635992644594 28.307779995485348,138.23635992644594\" style=\"fill:#ECB172A0;stroke-width:0\"/>\n",
       "\n",
       "  <!-- Text -->\n",
       "  <text x=\"88.307780\" y=\"158.236360\" font-size=\"1.0rem\" font-weight=\"100\" text-anchor=\"middle\" >8401</text>\n",
       "  <text x=\"168.307780\" y=\"78.272070\" font-size=\"1.0rem\" font-weight=\"100\" text-anchor=\"middle\" transform=\"rotate(-90,168.307780,78.272070)\">8396</text>\n",
       "  <text x=\"9.153890\" y=\"149.082470\" font-size=\"1.0rem\" font-weight=\"100\" text-anchor=\"middle\" transform=\"rotate(45,9.153890,149.082470)\">241</text>\n",
       "</svg>\n",
       "        </td>\n",
       "    </tr>\n",
       "</table>"
      ],
      "text/plain": [
       "dask.array<rechunk-merge, shape=(241, 8396, 8401), dtype=uint32, chunksize=(1, 2048, 2048), chunktype=numpy.ndarray>"
      ]
     },
     "execution_count": 6,
     "metadata": {},
     "output_type": "execute_result"
    }
   ],
   "source": [
    "rechunked_stack"
   ]
  },
  {
   "cell_type": "code",
   "execution_count": null,
   "metadata": {},
   "outputs": [],
   "source": [
    "compressor = Blosc(cname='lz4', clevel=9, shuffle=Blosc.BITSHUFFLE)\n",
    "zarr_store = r'D:\\kasia\\tracking\\E6_exp\\double_segmentation_ultrack\\labels_1024_from_db.zarr'\n",
    "\n",
    "rechunked_stack.to_zarr(zarr_store, compressor=compressor)# "
   ]
  },
  {
   "cell_type": "code",
   "execution_count": null,
   "metadata": {},
   "outputs": [],
   "source": [
    "# alternatively\n",
    "# compressor = Blosc(cname='lz4', clevel=9, shuffle=Blosc.BITSHUFFLE)\n",
    "\n",
    "# # save zarr file\n",
    "\n",
    "# size_t = 1\n",
    "# size_xy = 1024\n",
    "\n",
    "# zarr_path = r'D:\\kasia\\tracking\\E6_exp\\double_segmentation_ultrack\\labels_1024_from_db_ome.zarr'\n",
    "\n",
    "# # write the image data\n",
    "# store = parse_url(zarr_path, mode=\"w\").store\n",
    "# root = zarr.group(store=store)\n",
    "\n",
    "# # it will fail if the store already contains arrays\n",
    "# write_image(image=rechunked_stack, group=root, axes=\"tyx\", storage_options=dict(chunks=(size_t,size_xy, size_xy),compressor=compressor))"
   ]
  },
  {
   "cell_type": "markdown",
   "metadata": {},
   "source": [
    "### View saved zarr"
   ]
  },
  {
   "cell_type": "code",
   "execution_count": null,
   "metadata": {},
   "outputs": [],
   "source": [
    "# get images\n",
    "ch0_path = r'D:\\kasia\\tracking\\E6_exp\\E6_C0.zarr'\n",
    "ch1_path = r'D:\\kasia\\tracking\\E6_exp\\E6_C1.zarr'\n",
    "\n",
    "ch0_list = []\n",
    "for level in range(1,5):\n",
    "    ch0_list.append(da.from_zarr(ch0_path,level))\n",
    "\n",
    "ch1_list = []\n",
    "for level in range(1,5):\n",
    "    ch1_list.append(da.from_zarr(ch1_path,level))"
   ]
  },
  {
   "cell_type": "code",
   "execution_count": null,
   "metadata": {},
   "outputs": [],
   "source": [
    "labels_zarr_path = zarr_store\n",
    "\n",
    "# open using a tensorstore\n",
    "\n",
    "# Create the specification for opening the Zarr dataset\n",
    "spec = {\n",
    "  'driver': 'zarr',\n",
    "  'kvstore': {\n",
    "    'driver': 'file', \n",
    "    'path': labels_zarr_path,\n",
    "  },\n",
    "}\n",
    "\n",
    "# Open the dataset asynchronously\n",
    "dataset_future = ts.open(spec)\n",
    "\n",
    "# Wait for the dataset to be fully opened (synchronous operation)\n",
    "dataset = dataset_future.result()"
   ]
  },
  {
   "cell_type": "code",
   "execution_count": 6,
   "metadata": {},
   "outputs": [],
   "source": [
    "# display channels and labels\n",
    "viewer = napari.Viewer()\n",
    "\n",
    "ch1 = viewer.add_image(ch0_list, name='ch1', colormap = 'green',blending='additive',contrast_limits=[0, 2048])\n",
    "ch2 = viewer.add_image(ch1_list, name='ch2', colormap = 'red',blending='additive',contrast_limits=[0, 2048])\n",
    "\n",
    "labels_layer = viewer.add_labels(dataset,name='Labels')"
   ]
  }
 ],
 "metadata": {
  "kernelspec": {
   "display_name": "tracking",
   "language": "python",
   "name": "python3"
  },
  "language_info": {
   "codemirror_mode": {
    "name": "ipython",
    "version": 3
   },
   "file_extension": ".py",
   "mimetype": "text/x-python",
   "name": "python",
   "nbconvert_exporter": "python",
   "pygments_lexer": "ipython3",
   "version": "3.10.14"
  }
 },
 "nbformat": 4,
 "nbformat_minor": 2
}

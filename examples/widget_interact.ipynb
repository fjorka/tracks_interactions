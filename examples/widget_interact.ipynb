{
 "cells": [
  {
   "cell_type": "code",
   "execution_count": 1,
   "metadata": {},
   "outputs": [],
   "source": [
    "%load_ext autoreload\n",
    "%autoreload 2\n",
    "\n",
    "import os\n",
    "import zarr\n",
    "import dask.array as da\n",
    "import napari\n",
    "import sys\n",
    "import numpy as np\n",
    "\n",
    "from sqlalchemy import create_engine\n",
    "from sqlalchemy.orm import sessionmaker\n",
    "\n",
    "sys.path.append('..')\n",
    "from tracks_interactions.db.db_model import Base, CellDB, TrackDB\n",
    "import tracks_interactions.graph.family_graph as fg\n",
    "from tracks_interactions.widget.event_handler import EventHandler"
   ]
  },
  {
   "cell_type": "code",
   "execution_count": 2,
   "metadata": {},
   "outputs": [],
   "source": [
    "os.environ['NAPARI_PERFMON'] = '0'"
   ]
  },
  {
   "cell_type": "code",
   "execution_count": 3,
   "metadata": {},
   "outputs": [
    {
     "data": {
      "text/plain": [
       "(241, 8396, 8401)"
      ]
     },
     "execution_count": 3,
     "metadata": {},
     "output_type": "execute_result"
    }
   ],
   "source": [
    "labels_zarr_path = r'D:\\kasia\\tracking\\E6_exp\\code\\tests\\example_track_labels.zarr'\n",
    "labels = da.from_zarr(labels_zarr_path)\n",
    "labels.shape"
   ]
  },
  {
   "cell_type": "code",
   "execution_count": 5,
   "metadata": {},
   "outputs": [],
   "source": [
    "labels = np.array(labels).astype('int32')"
   ]
  },
  {
   "cell_type": "code",
   "execution_count": 7,
   "metadata": {},
   "outputs": [],
   "source": [
    "# display the labels\n",
    "viewer = napari.Viewer()\n",
    "labels_layer = viewer.add_labels(labels,name='Labels')"
   ]
  },
  {
   "cell_type": "code",
   "execution_count": 8,
   "metadata": {},
   "outputs": [],
   "source": [
    "# get access to the database\n",
    "new_db_path = r'D:\\kasia\\tracking\\E6_exp\\code\\gardener_20_dev\\cells_database_2tables - Copy.db'\n",
    "engine = create_engine(f'sqlite:///{new_db_path}')\n",
    "session = sessionmaker(bind=engine)()"
   ]
  },
  {
   "cell_type": "code",
   "execution_count": 9,
   "metadata": {},
   "outputs": [
    {
     "data": {
      "text/plain": [
       "<napari._qt.widgets.qt_viewer_dock_widget.QtViewerDockWidget at 0x2e9ed3b1ab0>"
      ]
     },
     "execution_count": 9,
     "metadata": {},
     "output_type": "execute_result"
    }
   ],
   "source": [
    "# create a plot widget\n",
    "t_max = viewer.dims.range[0][1]\n",
    "plot_widget = fg.build_lineage_widget(t_max)\n",
    "\n",
    "# add lineage graph\n",
    "viewer.window.add_dock_widget(plot_widget,area='bottom',name='family')"
   ]
  },
  {
   "cell_type": "code",
   "execution_count": 11,
   "metadata": {},
   "outputs": [],
   "source": [
    "from napari import Viewer\n",
    "\n",
    "def test_func(viewer: Viewer):\n",
    "    print('just testing')"
   ]
  },
  {
   "cell_type": "code",
   "execution_count": 10,
   "metadata": {},
   "outputs": [
    {
     "data": {
      "text/plain": [
       "<bound method EventHandler.lineage_update of <tracks_interactions.widget.event_handler.EventHandler object at 0x000002E9E4CE87F0>>"
      ]
     },
     "execution_count": 10,
     "metadata": {},
     "output_type": "execute_result"
    }
   ],
   "source": [
    "# connect lineage graph update\n",
    "event_handler = EventHandler(viewer,plot_widget,session)\n",
    "labels_layer.events.selected_label.connect(event_handler.lineage_update)"
   ]
  },
  {
   "cell_type": "code",
   "execution_count": 12,
   "metadata": {},
   "outputs": [
    {
     "data": {
      "text/plain": [
       "<function __main__.test_func(viewer: napari.viewer.Viewer)>"
      ]
     },
     "execution_count": 12,
     "metadata": {},
     "output_type": "execute_result"
    },
    {
     "name": "stdout",
     "output_type": "stream",
     "text": [
      "just testing\n",
      "just testing\n",
      "just testing\n",
      "just testing\n",
      "just testing\n",
      "just testing\n",
      "just testing\n",
      "just testing\n",
      "just testing\n",
      "just testing\n",
      "just testing\n",
      "just testing\n",
      "just testing\n",
      "just testing\n",
      "just testing\n",
      "just testing\n",
      "just testing\n",
      "just testing\n",
      "just testing\n",
      "just testing\n",
      "just testing\n",
      "just testing\n",
      "just testing\n",
      "just testing\n",
      "just testing\n",
      "just testing\n",
      "just testing\n",
      "just testing\n",
      "just testing\n",
      "just testing\n",
      "just testing\n",
      "just testing\n",
      "just testing\n",
      "just testing\n",
      "just testing\n",
      "just testing\n",
      "just testing\n",
      "just testing\n",
      "just testing\n",
      "just testing\n",
      "just testing\n",
      "just testing\n",
      "just testing\n",
      "just testing\n",
      "just testing\n",
      "just testing\n",
      "just testing\n",
      "just testing\n",
      "just testing\n",
      "just testing\n",
      "just testing\n",
      "just testing\n",
      "just testing\n",
      "just testing\n",
      "just testing\n",
      "just testing\n",
      "just testing\n",
      "just testing\n",
      "just testing\n",
      "just testing\n",
      "just testing\n",
      "just testing\n",
      "just testing\n",
      "just testing\n",
      "just testing\n",
      "just testing\n",
      "just testing\n",
      "just testing\n",
      "just testing\n",
      "just testing\n",
      "just testing\n",
      "just testing\n",
      "just testing\n",
      "just testing\n",
      "just testing\n",
      "just testing\n",
      "just testing\n",
      "just testing\n",
      "just testing\n",
      "just testing\n",
      "just testing\n",
      "just testing\n",
      "just testing\n",
      "just testing\n"
     ]
    }
   ],
   "source": [
    "labels_layer.events.labels_update.connect(test_func)"
   ]
  },
  {
   "cell_type": "code",
   "execution_count": 8,
   "metadata": {},
   "outputs": [],
   "source": [
    "from magicgui import magicgui\n",
    "from qtpy.QtGui import QIcon\n",
    "from napari import Viewer\n",
    "from tracks_interactions.widget.track_operations import cut_track_function, merge_track_function\n",
    "from functools import partial"
   ]
  },
  {
   "cell_type": "code",
   "execution_count": 9,
   "metadata": {},
   "outputs": [],
   "source": [
    "######################################################################\n",
    "# add cut tracks button\n",
    "cut_track_function_partial = partial(cut_track_function, session=session)\n",
    "\n",
    "cut_track_btn = magicgui(cut_track_function_partial)\n",
    "path_to_some_icon = r'../tracks_interactions/icons/icons8-scissors-50.png'\n",
    "\n",
    "icon = QIcon(path_to_some_icon)\n",
    "cut_track_btn.call_button.native.setIcon(icon)\n",
    "cut_track_btn.call_button.native.setText(None)\n",
    "\n",
    "viewer.window.add_dock_widget(cut_track_btn,area='right',name='cut_track')\n",
    "cut_track_btn.call_button.native.resize(40,40)"
   ]
  },
  {
   "cell_type": "code",
   "execution_count": 10,
   "metadata": {},
   "outputs": [
    {
     "data": {
      "text/plain": [
       "<napari._qt.widgets.qt_viewer_dock_widget.QtViewerDockWidget at 0x278f4e82290>"
      ]
     },
     "execution_count": 10,
     "metadata": {},
     "output_type": "execute_result"
    }
   ],
   "source": [
    "@magicgui(\n",
    "        t1={\"widget_type\": \"SpinBox\", \"max\": 1000000},\n",
    "        call_button = 'Merge'\n",
    "        )  \n",
    "\n",
    "def merge_track_function_partial(viewer: Viewer, t1: int):\n",
    "    return merge_track_function( viewer, session=session, t1=t1)\n",
    "\n",
    "viewer.window.add_dock_widget(merge_track_function_partial,area='right',name='t1')"
   ]
  },
  {
   "cell_type": "code",
   "execution_count": 11,
   "metadata": {},
   "outputs": [
    {
     "data": {
      "text/plain": [
       "Track 75034 from 118 to 128"
      ]
     },
     "execution_count": 11,
     "metadata": {},
     "output_type": "execute_result"
    }
   ],
   "source": [
    "session.query(TrackDB).filter_by(track_id=75034).first()"
   ]
  },
  {
   "cell_type": "code",
   "execution_count": null,
   "metadata": {},
   "outputs": [],
   "source": []
  }
 ],
 "metadata": {
  "kernelspec": {
   "display_name": "tracking",
   "language": "python",
   "name": "python3"
  },
  "language_info": {
   "codemirror_mode": {
    "name": "ipython",
    "version": 3
   },
   "file_extension": ".py",
   "mimetype": "text/x-python",
   "name": "python",
   "nbconvert_exporter": "python",
   "pygments_lexer": "ipython3",
   "version": "3.10.13"
  }
 },
 "nbformat": 4,
 "nbformat_minor": 2
}

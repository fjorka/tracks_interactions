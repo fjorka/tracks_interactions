{
 "cells": [
  {
   "cell_type": "code",
   "execution_count": 1,
   "metadata": {},
   "outputs": [],
   "source": [
    "%load_ext autoreload\n",
    "%autoreload 2\n",
    "\n",
    "import os\n",
    "import zarr\n",
    "import dask.array as da\n",
    "import napari\n",
    "import sys\n",
    "import numpy as np\n",
    "\n",
    "from sqlalchemy import create_engine\n",
    "from sqlalchemy.orm import sessionmaker\n",
    "\n",
    "sys.path.append('..')\n",
    "from tracks_interactions.db.db_model import Base, CellDB, TrackDB\n",
    "import tracks_interactions.graph.family_graph as fg\n",
    "#from tracks_interactions.widget.event_handler import EventHandler"
   ]
  },
  {
   "cell_type": "code",
   "execution_count": 2,
   "metadata": {},
   "outputs": [],
   "source": [
    "os.environ['NAPARI_PERFMON'] = '0'"
   ]
  },
  {
   "cell_type": "code",
   "execution_count": 3,
   "metadata": {},
   "outputs": [
    {
     "data": {
      "text/plain": [
       "(241, 8396, 8401)"
      ]
     },
     "execution_count": 3,
     "metadata": {},
     "output_type": "execute_result"
    }
   ],
   "source": [
    "labels_zarr_path = r'D:\\kasia\\tracking\\E6_exp\\code\\tests\\example_track_labels.zarr'\n",
    "labels = da.from_zarr(labels_zarr_path)\n",
    "labels.shape"
   ]
  },
  {
   "cell_type": "code",
   "execution_count": 4,
   "metadata": {},
   "outputs": [],
   "source": [
    "#labels = np.array(labels).astype('int32')"
   ]
  },
  {
   "cell_type": "code",
   "execution_count": 4,
   "metadata": {},
   "outputs": [],
   "source": [
    "# display the labels\n",
    "viewer = napari.Viewer()\n",
    "labels_layer = viewer.add_labels(labels,name='Labels')"
   ]
  },
  {
   "cell_type": "code",
   "execution_count": 5,
   "metadata": {},
   "outputs": [],
   "source": [
    "# get access to the database\n",
    "new_db_path = r'D:\\kasia\\tracking\\E6_exp\\code\\gardener_20_dev\\cells_database_2tables - Copy.db'\n",
    "engine = create_engine(f'sqlite:///{new_db_path}')\n",
    "session = sessionmaker(bind=engine)()"
   ]
  },
  {
   "cell_type": "markdown",
   "metadata": {},
   "source": [
    "### Family graph display"
   ]
  },
  {
   "cell_type": "code",
   "execution_count": 6,
   "metadata": {},
   "outputs": [
    {
     "data": {
      "text/plain": [
       "<napari._qt.widgets.qt_viewer_dock_widget.QtViewerDockWidget at 0x281bc471d80>"
      ]
     },
     "execution_count": 6,
     "metadata": {},
     "output_type": "execute_result"
    }
   ],
   "source": [
    "from tracks_interactions.graph.family_graph import FamilyGraph\n",
    "plot_widget = FamilyGraph(viewer,session)\n",
    "viewer.window.add_dock_widget(plot_widget,area='bottom')"
   ]
  },
  {
   "cell_type": "markdown",
   "metadata": {},
   "source": [
    "### Navigation widget"
   ]
  },
  {
   "cell_type": "code",
   "execution_count": 7,
   "metadata": {},
   "outputs": [
    {
     "data": {
      "text/plain": [
       "<napari._qt.widgets.qt_viewer_dock_widget.QtViewerDockWidget at 0x281bc4737f0>"
      ]
     },
     "execution_count": 7,
     "metadata": {},
     "output_type": "execute_result"
    }
   ],
   "source": [
    "from tracks_interactions.widget.track_navigation_widget import TrackNavigationWidget\n",
    "track_navigation_widget = TrackNavigationWidget(viewer,session)\n",
    "viewer.window.add_dock_widget(track_navigation_widget,area='right',name='Track Navigation')"
   ]
  },
  {
   "cell_type": "markdown",
   "metadata": {},
   "source": [
    "### Modification widget"
   ]
  },
  {
   "cell_type": "code",
   "execution_count": 8,
   "metadata": {},
   "outputs": [
    {
     "data": {
      "text/plain": [
       "<napari._qt.widgets.qt_viewer_dock_widget.QtViewerDockWidget at 0x282f6ee55a0>"
      ]
     },
     "execution_count": 8,
     "metadata": {},
     "output_type": "execute_result"
    }
   ],
   "source": [
    "from tracks_interactions.widget.track_modification_widget import TrackModificationWidget\n",
    "track_modification_widget = TrackModificationWidget(viewer,session)\n",
    "viewer.window.add_dock_widget(track_modification_widget,area='right',name='Track Modifications')"
   ]
  },
  {
   "cell_type": "code",
   "execution_count": null,
   "metadata": {},
   "outputs": [],
   "source": []
  }
 ],
 "metadata": {
  "kernelspec": {
   "display_name": "tracking",
   "language": "python",
   "name": "python3"
  },
  "language_info": {
   "codemirror_mode": {
    "name": "ipython",
    "version": 3
   },
   "file_extension": ".py",
   "mimetype": "text/x-python",
   "name": "python",
   "nbconvert_exporter": "python",
   "pygments_lexer": "ipython3",
   "version": "3.10.13"
  }
 },
 "nbformat": 4,
 "nbformat_minor": 2
}

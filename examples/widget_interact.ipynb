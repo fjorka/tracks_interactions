{
 "cells": [
  {
   "cell_type": "code",
   "execution_count": 1,
   "metadata": {},
   "outputs": [],
   "source": [
    "%load_ext autoreload\n",
    "%autoreload 2\n",
    "\n",
    "import os\n",
    "import sys\n",
    "import zarr\n",
    "import tensorstore as ts\n",
    "import dask.array as da\n",
    "import napari\n",
    "\n",
    "from sqlalchemy import create_engine\n",
    "from sqlalchemy.orm import sessionmaker\n",
    "\n",
    "sys.path.append('..')\n",
    "from tracks_interactions.graph.family_graph import FamilyGraphWidget\n",
    "from tracks_interactions.widget.track_navigation_widget import TrackNavigationWidget\n",
    "from tracks_interactions.widget.track_modification_widget import TrackModificationWidget"
   ]
  },
  {
   "cell_type": "code",
   "execution_count": 2,
   "metadata": {},
   "outputs": [
    {
     "data": {
      "text/plain": [
       "False"
      ]
     },
     "execution_count": 2,
     "metadata": {},
     "output_type": "execute_result"
    }
   ],
   "source": [
    "os.environ['NAPARI_PERFMON'] = '0'\n",
    "\n",
    "from napari.settings import get_settings\n",
    "settings = get_settings()\n",
    "settings.experimental.async_\n",
    "#settings.experimental.async_=True"
   ]
  },
  {
   "cell_type": "code",
   "execution_count": 3,
   "metadata": {},
   "outputs": [],
   "source": [
    "# pathway to labels\n",
    "#labels_zarr_path = r'D:\\kasia\\tracking\\zarr_tests\\labels_double_1024.zarr'\n",
    "labels_zarr_path = r'D:\\kasia\\tracking\\E6_exp\\double_segmentation_ultrack\\labels_double_flat.zarr'\n",
    "\n",
    "# open using a tensorstore\n",
    "\n",
    "# Create the specification for opening the Zarr dataset\n",
    "spec = {\n",
    "  'driver': 'zarr',\n",
    "  'kvstore': {\n",
    "    'driver': 'file',  # Use 'file' for local filesystem\n",
    "    'path': labels_zarr_path,\n",
    "  },\n",
    "  # Optionally, specify other parameters like 'dtype', 'shape', etc., if needed\n",
    "}\n",
    "\n",
    "# Open the dataset asynchronously\n",
    "dataset_future = ts.open(spec)\n",
    "\n",
    "# Wait for the dataset to be fully opened (synchronous operation)\n",
    "dataset = dataset_future.result()"
   ]
  },
  {
   "cell_type": "code",
   "execution_count": 4,
   "metadata": {},
   "outputs": [],
   "source": [
    "# get images\n",
    "ch0_path = r'D:\\kasia\\tracking\\E6_exp\\E6_C0.zarr'\n",
    "ch1_path = r'D:\\kasia\\tracking\\E6_exp\\E6_C1.zarr'\n",
    "\n",
    "ch0_list = []\n",
    "for level in range(1,5):\n",
    "    ch0_list.append(da.from_zarr(ch0_path,level))\n",
    "\n",
    "ch1_list = []\n",
    "for level in range(1,5):\n",
    "    ch1_list.append(da.from_zarr(ch1_path,level))"
   ]
  },
  {
   "cell_type": "code",
   "execution_count": 5,
   "metadata": {},
   "outputs": [],
   "source": [
    "# display channels and labels\n",
    "viewer = napari.Viewer()\n",
    "\n",
    "ch1 = viewer.add_image(ch0_list, name='ch1', colormap = 'green',blending='additive',contrast_limits=[0, 2048])\n",
    "ch2 = viewer.add_image(ch1_list, name='ch2', colormap = 'red',blending='additive',contrast_limits=[0, 2048])\n",
    "\n",
    "labels_layer = viewer.add_labels(dataset,name='Labels')"
   ]
  },
  {
   "cell_type": "code",
   "execution_count": 6,
   "metadata": {},
   "outputs": [],
   "source": [
    "# get access to the database\n",
    "new_db_path = r'D:\\kasia\\tracking\\E6_exp\\double_segmentation_ultrack\\Exp6_gardener.db'\n",
    "#r'D:\\kasia\\tracking\\E6_exp\\sample_data\\cells_database_expand.db'\n",
    "engine = create_engine(f'sqlite:///{new_db_path}')\n",
    "session = sessionmaker(bind=engine)()"
   ]
  },
  {
   "cell_type": "markdown",
   "metadata": {},
   "source": [
    "### Family graph display"
   ]
  },
  {
   "cell_type": "code",
   "execution_count": 7,
   "metadata": {},
   "outputs": [
    {
     "data": {
      "text/plain": [
       "<napari._qt.widgets.qt_viewer_dock_widget.QtViewerDockWidget at 0x1e11029e560>"
      ]
     },
     "execution_count": 7,
     "metadata": {},
     "output_type": "execute_result"
    }
   ],
   "source": [
    "plot_widget = FamilyGraphWidget(viewer,session)\n",
    "viewer.window.add_dock_widget(plot_widget,area='bottom')"
   ]
  },
  {
   "cell_type": "markdown",
   "metadata": {},
   "source": [
    "### Navigation widget"
   ]
  },
  {
   "cell_type": "code",
   "execution_count": 8,
   "metadata": {},
   "outputs": [
    {
     "data": {
      "text/plain": [
       "<napari._qt.widgets.qt_viewer_dock_widget.QtViewerDockWidget at 0x1e11029dcf0>"
      ]
     },
     "execution_count": 8,
     "metadata": {},
     "output_type": "execute_result"
    }
   ],
   "source": [
    "track_navigation_widget = TrackNavigationWidget(viewer,session)\n",
    "viewer.window.add_dock_widget(track_navigation_widget,area='right',name='Track Navigation')"
   ]
  },
  {
   "cell_type": "markdown",
   "metadata": {},
   "source": [
    "### Modification widget"
   ]
  },
  {
   "cell_type": "code",
   "execution_count": 9,
   "metadata": {},
   "outputs": [
    {
     "data": {
      "text/plain": [
       "<napari._qt.widgets.qt_viewer_dock_widget.QtViewerDockWidget at 0x1e110255510>"
      ]
     },
     "execution_count": 9,
     "metadata": {},
     "output_type": "execute_result"
    }
   ],
   "source": [
    "track_modification_widget = TrackModificationWidget(viewer,session)\n",
    "viewer.window.add_dock_widget(track_modification_widget,area='right',name='Track Modifications')"
   ]
  },
  {
   "cell_type": "markdown",
   "metadata": {},
   "source": [
    "### Signal graph"
   ]
  },
  {
   "cell_type": "code",
   "execution_count": 10,
   "metadata": {},
   "outputs": [
    {
     "data": {
      "text/plain": [
       "<napari._qt.widgets.qt_viewer_dock_widget.QtViewerDockWidget at 0x1e110257010>"
      ]
     },
     "execution_count": 10,
     "metadata": {},
     "output_type": "execute_result"
    }
   ],
   "source": [
    "from tracks_interactions.graph.signal_graph import SignalGraph\n",
    "signal_list = ['ch0_nuc','ch0_cyto']\n",
    "color_list = ['yellow','green']\n",
    "graph_widget = SignalGraph(viewer,session,signal_list,color_list)\n",
    "viewer.window.add_dock_widget(graph_widget,area='right',name='Cell Signals')"
   ]
  },
  {
   "cell_type": "markdown",
   "metadata": {},
   "source": [
    "### Modify cell"
   ]
  },
  {
   "cell_type": "code",
   "execution_count": 12,
   "metadata": {},
   "outputs": [
    {
     "data": {
      "text/plain": [
       "<napari._qt.widgets.qt_viewer_dock_widget.QtViewerDockWidget at 0x1e120baf400>"
      ]
     },
     "execution_count": 12,
     "metadata": {},
     "output_type": "execute_result"
    }
   ],
   "source": [
    "from tracks_interactions.widget.cell_modification_widget import CellModificationWidget\n",
    "cell_modification_widget = CellModificationWidget(viewer,session,ch_list=[ch0_list[0],ch1_list[0]])\n",
    "viewer.window.add_dock_widget(cell_modification_widget,area='right',name='Save Cell')"
   ]
  }
 ],
 "metadata": {
  "kernelspec": {
   "display_name": "tracking",
   "language": "python",
   "name": "python3"
  },
  "language_info": {
   "codemirror_mode": {
    "name": "ipython",
    "version": 3
   },
   "file_extension": ".py",
   "mimetype": "text/x-python",
   "name": "python",
   "nbconvert_exporter": "python",
   "pygments_lexer": "ipython3",
   "version": "3.10.13"
  }
 },
 "nbformat": 4,
 "nbformat_minor": 2
}

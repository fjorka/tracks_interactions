{
 "cells": [
  {
   "cell_type": "code",
   "execution_count": 2,
   "metadata": {},
   "outputs": [
    {
     "name": "stdout",
     "output_type": "stream",
     "text": [
      "The autoreload extension is already loaded. To reload it, use:\n",
      "  %reload_ext autoreload\n"
     ]
    }
   ],
   "source": [
    "%load_ext autoreload\n",
    "%autoreload 2\n",
    "\n",
    "import os\n",
    "import zarr\n",
    "import dask.array as da\n",
    "import napari\n",
    "import sys\n",
    "import numpy as np\n",
    "\n",
    "from sqlalchemy import create_engine\n",
    "from sqlalchemy.orm import sessionmaker\n",
    "\n",
    "sys.path.append('..')\n",
    "from tracks_interactions.db.db_model import Base, CellDB, TrackDB\n",
    "import tracks_interactions.graph.family_graph as fg\n",
    "#from tracks_interactions.widget.event_handler import EventHandler"
   ]
  },
  {
   "cell_type": "code",
   "execution_count": 3,
   "metadata": {},
   "outputs": [],
   "source": [
    "os.environ['NAPARI_PERFMON'] = '0'"
   ]
  },
  {
   "cell_type": "code",
   "execution_count": 4,
   "metadata": {},
   "outputs": [
    {
     "data": {
      "text/plain": [
       "(241, 8396, 8401)"
      ]
     },
     "execution_count": 4,
     "metadata": {},
     "output_type": "execute_result"
    }
   ],
   "source": [
    "labels_zarr_path = r'D:\\kasia\\tracking\\E6_exp\\code\\tests\\example_track_labels.zarr'\n",
    "labels = da.from_zarr(labels_zarr_path)\n",
    "labels.shape"
   ]
  },
  {
   "cell_type": "code",
   "execution_count": 4,
   "metadata": {},
   "outputs": [],
   "source": [
    "#labels = np.array(labels).astype('int32')"
   ]
  },
  {
   "cell_type": "code",
   "execution_count": 10,
   "metadata": {},
   "outputs": [],
   "source": [
    "# display the labels\n",
    "viewer = napari.Viewer()\n",
    "labels_layer = viewer.add_labels(labels,name='Labels')"
   ]
  },
  {
   "cell_type": "code",
   "execution_count": 6,
   "metadata": {},
   "outputs": [],
   "source": [
    "# get access to the database\n",
    "new_db_path = r'D:\\kasia\\tracking\\E6_exp\\code\\gardener_20_dev\\cells_database_2tables - Copy.db'\n",
    "engine = create_engine(f'sqlite:///{new_db_path}')\n",
    "session = sessionmaker(bind=engine)()"
   ]
  },
  {
   "cell_type": "code",
   "execution_count": 11,
   "metadata": {},
   "outputs": [],
   "source": [
    "# from napari import Viewer\n",
    "\n",
    "# def test_func(viewer: Viewer):\n",
    "#     print('just testing')\n",
    "\n",
    "# labels_layer.events.labels_update.connect(test_func)"
   ]
  },
  {
   "cell_type": "code",
   "execution_count": 11,
   "metadata": {},
   "outputs": [
    {
     "data": {
      "text/plain": [
       "<napari._qt.widgets.qt_viewer_dock_widget.QtViewerDockWidget at 0x2171656d3f0>"
      ]
     },
     "execution_count": 11,
     "metadata": {},
     "output_type": "execute_result"
    }
   ],
   "source": [
    "from tracks_interactions.graph.family_graph import FamilyGraph\n",
    "plot_widget = FamilyGraph(viewer,session)\n",
    "viewer.window.add_dock_widget(plot_widget,area='bottom')"
   ]
  },
  {
   "cell_type": "code",
   "execution_count": 32,
   "metadata": {},
   "outputs": [
    {
     "data": {
      "text/plain": [
       "<napari._qt.widgets.qt_viewer_dock_widget.QtViewerDockWidget at 0x218079c2d40>"
      ]
     },
     "execution_count": 32,
     "metadata": {},
     "output_type": "execute_result"
    }
   ],
   "source": [
    "from tracks_interactions.widget.tracks_widget import TracksWidget\n",
    "tracks_widget = TracksWidget(viewer,session)\n",
    "viewer.window.add_dock_widget(tracks_widget,area='right')"
   ]
  },
  {
   "cell_type": "code",
   "execution_count": 33,
   "metadata": {},
   "outputs": [
    {
     "ename": "RuntimeError",
     "evalue": "Binning function cannot have more than one positional argument",
     "output_type": "error",
     "traceback": [
      "\u001b[1;31m---------------------------------------------------------------------------\u001b[0m",
      "\u001b[1;31mRuntimeError\u001b[0m                              Traceback (most recent call last)",
      "Cell \u001b[1;32mIn[33], line 5\u001b[0m\n\u001b[0;32m      2\u001b[0m     \u001b[38;5;28;01mglobal\u001b[39;00m viewer\n\u001b[0;32m      3\u001b[0m     viewer\u001b[38;5;241m.\u001b[39mstatus \u001b[38;5;241m=\u001b[39m \u001b[38;5;124m'\u001b[39m\u001b[38;5;124mEven of \u001b[39m\u001b[38;5;132;01m{event.value}\u001b[39;00m\u001b[38;5;124m'\u001b[39m\n\u001b[1;32m----> 5\u001b[0m \u001b[43mlabels_layer\u001b[49m\u001b[38;5;241;43m.\u001b[39;49m\u001b[43mevents\u001b[49m\u001b[38;5;241;43m.\u001b[39;49m\u001b[43mselected_label\u001b[49m\u001b[38;5;241;43m.\u001b[39;49m\u001b[43mconnect\u001b[49m\u001b[43m(\u001b[49m\u001b[43mchange_status\u001b[49m\u001b[43m)\u001b[49m\n",
      "File \u001b[1;32mc:\\Users\\kmk280\\.conda\\envs\\tracking\\lib\\site-packages\\napari\\utils\\events\\event.py:477\u001b[0m, in \u001b[0;36mEventEmitter.connect\u001b[1;34m(self, callback, ref, position, before, after, until)\u001b[0m\n\u001b[0;32m    473\u001b[0m callback_refs \u001b[38;5;241m=\u001b[39m \u001b[38;5;28mself\u001b[39m\u001b[38;5;241m.\u001b[39mcallback_refs\n\u001b[0;32m    475\u001b[0m old_callback \u001b[38;5;241m=\u001b[39m callback\n\u001b[1;32m--> 477\u001b[0m callback, pass_event \u001b[38;5;241m=\u001b[39m \u001b[38;5;28;43mself\u001b[39;49m\u001b[38;5;241;43m.\u001b[39;49m\u001b[43m_normalize_cb\u001b[49m\u001b[43m(\u001b[49m\u001b[43mcallback\u001b[49m\u001b[43m)\u001b[49m\n\u001b[0;32m    479\u001b[0m \u001b[38;5;28;01mif\u001b[39;00m callback \u001b[38;5;129;01min\u001b[39;00m callbacks:\n\u001b[0;32m    480\u001b[0m     \u001b[38;5;28;01mreturn\u001b[39;00m \u001b[38;5;28;01mNone\u001b[39;00m\n",
      "File \u001b[1;32mc:\\Users\\kmk280\\.conda\\envs\\tracking\\lib\\site-packages\\napari\\utils\\events\\event.py:690\u001b[0m, in \u001b[0;36mEventEmitter._normalize_cb\u001b[1;34m(self, callback)\u001b[0m\n\u001b[0;32m    687\u001b[0m     callback \u001b[38;5;241m=\u001b[39m (weakref\u001b[38;5;241m.\u001b[39mref(callback[\u001b[38;5;241m0\u001b[39m]), \u001b[38;5;241m*\u001b[39mcallback[\u001b[38;5;241m1\u001b[39m:])\n\u001b[0;32m    689\u001b[0m \u001b[38;5;28;01mif\u001b[39;00m \u001b[38;5;28misinstance\u001b[39m(start_callback, Callable):\n\u001b[1;32m--> 690\u001b[0m     callback \u001b[38;5;241m=\u001b[39m callback, \u001b[38;5;28;43mself\u001b[39;49m\u001b[38;5;241;43m.\u001b[39;49m\u001b[43m_check_signature\u001b[49m\u001b[43m(\u001b[49m\u001b[43mstart_callback\u001b[49m\u001b[43m)\u001b[49m\n\u001b[0;32m    691\u001b[0m \u001b[38;5;28;01melse\u001b[39;00m:\n\u001b[0;32m    692\u001b[0m     obj \u001b[38;5;241m=\u001b[39m callback[\u001b[38;5;241m0\u001b[39m]()\n",
      "File \u001b[1;32mc:\\Users\\kmk280\\.conda\\envs\\tracking\\lib\\site-packages\\napari\\utils\\events\\event.py:657\u001b[0m, in \u001b[0;36mEventEmitter._check_signature\u001b[1;34m(fun)\u001b[0m\n\u001b[0;32m    654\u001b[0m parameters_list \u001b[38;5;241m=\u001b[39m \u001b[38;5;28mlist\u001b[39m(signature\u001b[38;5;241m.\u001b[39mparameters\u001b[38;5;241m.\u001b[39mvalues())\n\u001b[0;32m    656\u001b[0m \u001b[38;5;28;01mif\u001b[39;00m \u001b[38;5;28msum\u001b[39m(\u001b[38;5;28mmap\u001b[39m(_is_pos_arg, parameters_list)) \u001b[38;5;241m>\u001b[39m \u001b[38;5;241m1\u001b[39m:\n\u001b[1;32m--> 657\u001b[0m     \u001b[38;5;28;01mraise\u001b[39;00m \u001b[38;5;167;01mRuntimeError\u001b[39;00m(\n\u001b[0;32m    658\u001b[0m         trans\u001b[38;5;241m.\u001b[39m_(\n\u001b[0;32m    659\u001b[0m             \u001b[38;5;124m\"\u001b[39m\u001b[38;5;124mBinning function cannot have more than one positional argument\u001b[39m\u001b[38;5;124m\"\u001b[39m,\n\u001b[0;32m    660\u001b[0m             deferred\u001b[38;5;241m=\u001b[39m\u001b[38;5;28;01mTrue\u001b[39;00m,\n\u001b[0;32m    661\u001b[0m         )\n\u001b[0;32m    662\u001b[0m     )\n\u001b[0;32m    664\u001b[0m \u001b[38;5;28;01mreturn\u001b[39;00m \u001b[38;5;28many\u001b[39m(\n\u001b[0;32m    665\u001b[0m     x\u001b[38;5;241m.\u001b[39mkind\n\u001b[0;32m    666\u001b[0m     \u001b[38;5;129;01min\u001b[39;00m [\n\u001b[1;32m   (...)\u001b[0m\n\u001b[0;32m    671\u001b[0m     \u001b[38;5;28;01mfor\u001b[39;00m x \u001b[38;5;129;01min\u001b[39;00m signature\u001b[38;5;241m.\u001b[39mparameters\u001b[38;5;241m.\u001b[39mvalues()\n\u001b[0;32m    672\u001b[0m )\n",
      "\u001b[1;31mRuntimeError\u001b[0m: Binning function cannot have more than one positional argument"
     ]
    }
   ],
   "source": [
    "def change_status(layer,event):\n",
    "    print(event)\n",
    "\n",
    "labels_layer.events.selected_label.connect(change_status)"
   ]
  },
  {
   "cell_type": "code",
   "execution_count": 9,
   "metadata": {},
   "outputs": [],
   "source": [
    "from magicgui import magicgui\n",
    "from qtpy.QtGui import QIcon\n",
    "from napari import Viewer\n",
    "from tracks_interactions.widget.track_operations import cut_track_function, merge_track_function, connect_track_function\n",
    "from functools import partial"
   ]
  },
  {
   "cell_type": "code",
   "execution_count": 29,
   "metadata": {},
   "outputs": [],
   "source": [
    "######################################################################\n",
    "# add cut tracks button\n",
    "cut_track_function_partial = partial(cut_track_function, session=session)\n",
    "\n",
    "cut_track_btn = magicgui(cut_track_function_partial)\n",
    "path_to_some_icon = r'../tracks_interactions/icons/icons8-scissors-50.png'\n",
    "\n",
    "icon = QIcon(path_to_some_icon)\n",
    "cut_track_btn.call_button.native.setIcon(icon)\n",
    "cut_track_btn.call_button.native.setText(None)\n",
    "\n",
    "viewer.window.add_dock_widget(cut_track_btn,area='right',name='cut_track')\n",
    "cut_track_btn.call_button.native.resize(40,40)"
   ]
  },
  {
   "cell_type": "code",
   "execution_count": 33,
   "metadata": {},
   "outputs": [
    {
     "data": {
      "text/plain": [
       "<napari._qt.widgets.qt_viewer_dock_widget.QtViewerDockWidget at 0x1e940daf520>"
      ]
     },
     "execution_count": 33,
     "metadata": {},
     "output_type": "execute_result"
    }
   ],
   "source": [
    "# add merging\n",
    "@magicgui(\n",
    "        t1={\"widget_type\": \"SpinBox\", \"max\": 1000000},\n",
    "        call_button = 'Merge'\n",
    "        )  \n",
    "\n",
    "def merge_track_function_partial(viewer: Viewer, t1: int):\n",
    "    return merge_track_function( viewer, session=session, t1=t1)\n",
    "\n",
    "viewer.window.add_dock_widget(merge_track_function_partial,area='right',name='t1')"
   ]
  },
  {
   "cell_type": "code",
   "execution_count": 34,
   "metadata": {},
   "outputs": [
    {
     "data": {
      "text/plain": [
       "<napari._qt.widgets.qt_viewer_dock_widget.QtViewerDockWidget at 0x1e9f4f640d0>"
      ]
     },
     "execution_count": 34,
     "metadata": {},
     "output_type": "execute_result"
    }
   ],
   "source": [
    "# add connecting\n",
    "@magicgui(\n",
    "        t1={\"widget_type\": \"SpinBox\", \"max\": 1000000},\n",
    "        call_button = 'Connect'\n",
    "        )  \n",
    "\n",
    "def connect_track_function_partial(viewer: Viewer, t1: int):\n",
    "    return connect_track_function( viewer, session=session, t1=t1)\n",
    "\n",
    "viewer.window.add_dock_widget(connect_track_function_partial,area='right',name='t1')"
   ]
  },
  {
   "cell_type": "code",
   "execution_count": 27,
   "metadata": {},
   "outputs": [
    {
     "name": "stdout",
     "output_type": "stream",
     "text": [
      "41322\n",
      "918\n"
     ]
    }
   ],
   "source": [
    "from tracks_interactions.graph.family_graph import update_lineage_display\n",
    "from tracks_interactions.db.db_functions import (\n",
    "    cut_trackDB,\n",
    "    get_descendants,\n",
    "    integrate_trackDB,\n",
    "    modify_track_cellsDB,\n",
    "    newTrack_number,\n",
    ")"
   ]
  },
  {
   "cell_type": "code",
   "execution_count": 97,
   "metadata": {},
   "outputs": [
    {
     "data": {
      "text/plain": [
       "Track 75087 from 170 to 179"
      ]
     },
     "execution_count": 97,
     "metadata": {},
     "output_type": "execute_result"
    }
   ],
   "source": [
    "ch = 75087\n",
    "t1 = session.query(TrackDB).filter_by(track_id=ch).first()\n",
    "t1\n",
    "    "
   ]
  },
  {
   "cell_type": "code",
   "execution_count": 22,
   "metadata": {},
   "outputs": [
    {
     "data": {
      "text/plain": [
       "75065"
      ]
     },
     "execution_count": 22,
     "metadata": {},
     "output_type": "execute_result"
    }
   ],
   "source": [
    "newTrack_number(session)"
   ]
  },
  {
   "cell_type": "code",
   "execution_count": 20,
   "metadata": {},
   "outputs": [
    {
     "ename": "IndexError",
     "evalue": "index 0 is out of bounds for axis 0 with size 0",
     "output_type": "error",
     "traceback": [
      "\u001b[1;31m---------------------------------------------------------------------------\u001b[0m",
      "\u001b[1;31mIndexError\u001b[0m                                Traceback (most recent call last)",
      "Cell \u001b[1;32mIn[20], line 1\u001b[0m\n\u001b[1;32m----> 1\u001b[0m \u001b[43mupdate_lineage_display\u001b[49m\u001b[43m(\u001b[49m\u001b[43mviewer\u001b[49m\u001b[43m,\u001b[49m\u001b[43m \u001b[49m\u001b[43mplot_widget\u001b[49m\u001b[43m,\u001b[49m\u001b[43m \u001b[49m\u001b[43msession\u001b[49m\u001b[43m)\u001b[49m\n",
      "File \u001b[1;32md:\\kasia\\tracking\\E6_exp\\code\\tracks_interactions\\examples\\..\\tracks_interactions\\graph\\family_graph.py:210\u001b[0m, in \u001b[0;36mupdate_lineage_display\u001b[1;34m(viewer, plot_widget, session)\u001b[0m\n\u001b[0;32m    207\u001b[0m viewer\u001b[38;5;241m.\u001b[39mstatus \u001b[38;5;241m=\u001b[39m \u001b[38;5;124mf\u001b[39m\u001b[38;5;124m\"\u001b[39m\u001b[38;5;124mFamily of track number \u001b[39m\u001b[38;5;132;01m{\u001b[39;00mroot\u001b[38;5;132;01m}\u001b[39;00m\u001b[38;5;124m.\u001b[39m\u001b[38;5;124m\"\u001b[39m\n\u001b[0;32m    209\u001b[0m \u001b[38;5;66;03m# buid the tree\u001b[39;00m\n\u001b[1;32m--> 210\u001b[0m tree \u001b[38;5;241m=\u001b[39m \u001b[43mbuild_Newick_tree\u001b[49m\u001b[43m(\u001b[49m\u001b[43msession\u001b[49m\u001b[43m,\u001b[49m\u001b[43m \u001b[49m\u001b[43mroot\u001b[49m\u001b[43m)\u001b[49m\n\u001b[0;32m    212\u001b[0m \u001b[38;5;66;03m# update the widget with the tree\u001b[39;00m\n\u001b[0;32m    213\u001b[0m plot_view \u001b[38;5;241m=\u001b[39m render_tree_view(plot_view, tree, viewer)\n",
      "File \u001b[1;32md:\\kasia\\tracking\\E6_exp\\code\\tracks_interactions\\examples\\..\\tracks_interactions\\graph\\family_graph.py:87\u001b[0m, in \u001b[0;36mbuild_Newick_tree\u001b[1;34m(session, root_id)\u001b[0m\n\u001b[0;32m     82\u001b[0m trunk_row \u001b[38;5;241m=\u001b[39m df\u001b[38;5;241m.\u001b[39mloc[df\u001b[38;5;241m.\u001b[39mtrack_id \u001b[38;5;241m==\u001b[39m root_id, :]\n\u001b[0;32m     84\u001b[0m trunk \u001b[38;5;241m=\u001b[39m tree\u001b[38;5;241m.\u001b[39madd_child(name\u001b[38;5;241m=\u001b[39mroot_id)\n\u001b[0;32m     85\u001b[0m trunk\u001b[38;5;241m.\u001b[39madd_features(\n\u001b[0;32m     86\u001b[0m     num\u001b[38;5;241m=\u001b[39m\u001b[38;5;241m1\u001b[39m,\n\u001b[1;32m---> 87\u001b[0m     start\u001b[38;5;241m=\u001b[39m\u001b[43mtrunk_row\u001b[49m\u001b[43m[\u001b[49m\u001b[38;5;124;43m\"\u001b[39;49m\u001b[38;5;124;43mt_begin\u001b[39;49m\u001b[38;5;124;43m\"\u001b[39;49m\u001b[43m]\u001b[49m\u001b[38;5;241;43m.\u001b[39;49m\u001b[43mvalues\u001b[49m\u001b[43m[\u001b[49m\u001b[38;5;241;43m0\u001b[39;49m\u001b[43m]\u001b[49m,\n\u001b[0;32m     88\u001b[0m     stop\u001b[38;5;241m=\u001b[39mtrunk_row[\u001b[38;5;124m\"\u001b[39m\u001b[38;5;124mt_end\u001b[39m\u001b[38;5;124m\"\u001b[39m]\u001b[38;5;241m.\u001b[39mvalues[\u001b[38;5;241m0\u001b[39m],\n\u001b[0;32m     89\u001b[0m )\n\u001b[0;32m     91\u001b[0m \u001b[38;5;66;03m# add children\u001b[39;00m\n\u001b[0;32m     92\u001b[0m _add_children(trunk, df)\n",
      "\u001b[1;31mIndexError\u001b[0m: index 0 is out of bounds for axis 0 with size 0"
     ]
    }
   ],
   "source": [
    "update_lineage_display(viewer, plot_widget, session)"
   ]
  }
 ],
 "metadata": {
  "kernelspec": {
   "display_name": "tracking",
   "language": "python",
   "name": "python3"
  },
  "language_info": {
   "codemirror_mode": {
    "name": "ipython",
    "version": 3
   },
   "file_extension": ".py",
   "mimetype": "text/x-python",
   "name": "python",
   "nbconvert_exporter": "python",
   "pygments_lexer": "ipython3",
   "version": "3.10.13"
  }
 },
 "nbformat": 4,
 "nbformat_minor": 2
}

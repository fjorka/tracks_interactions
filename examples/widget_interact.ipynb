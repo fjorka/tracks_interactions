{
 "cells": [
  {
   "cell_type": "code",
   "execution_count": 1,
   "metadata": {},
   "outputs": [],
   "source": [
    "%load_ext autoreload\n",
    "%autoreload 2\n",
    "\n",
    "import os\n",
    "import sys\n",
    "import zarr\n",
    "#import tensorstore as ts\n",
    "import dask.array as da\n",
    "import napari\n",
    "import numpy as np\n",
    "\n",
    "from sqlalchemy import create_engine\n",
    "from sqlalchemy.orm import sessionmaker\n",
    "\n",
    "sys.path.append('..')\n",
    "from tracks_interactions.graph.family_graph import FamilyGraphWidget\n",
    "from tracks_interactions.widget.widget_navigation import TrackNavigationWidget\n",
    "from tracks_interactions.widget.widget_modifications import ModificationWidget"
   ]
  },
  {
   "cell_type": "code",
   "execution_count": 2,
   "metadata": {},
   "outputs": [
    {
     "data": {
      "text/plain": [
       "False"
      ]
     },
     "execution_count": 2,
     "metadata": {},
     "output_type": "execute_result"
    }
   ],
   "source": [
    "os.environ['NAPARI_PERFMON'] = '0'\n",
    "\n",
    "from napari.settings import get_settings\n",
    "settings = get_settings()\n",
    "settings.experimental.async_\n",
    "#settings.experimental.async_=True"
   ]
  },
  {
   "cell_type": "code",
   "execution_count": 3,
   "metadata": {},
   "outputs": [],
   "source": [
    "# get images\n",
    "ch0_path = r'R:\\Kasia\\tracking\\TrackGardener\\E6_C0.zarr'#r'D:\\kasia\\tracking\\E6_exp\\E6_C0.zarr'\n",
    "ch1_path = r'R:\\Kasia\\tracking\\TrackGardener\\E6_C1.zarr'#r'D:\\kasia\\tracking\\E6_exp\\E6_C1.zarr'\n",
    "\n",
    "ch0_list = []\n",
    "for level in range(1,5):\n",
    "    ch0_list.append(da.from_zarr(ch0_path,level))\n",
    "\n",
    "ch1_list = []\n",
    "for level in range(1,5):\n",
    "    ch1_list.append(da.from_zarr(ch1_path,level))\n",
    "\n",
    "# create empty labels canvas\n",
    "empty_labels = np.zeros([ch0_list[0].shape[1],ch0_list[0].shape[2]]).astype(int)"
   ]
  },
  {
   "cell_type": "code",
   "execution_count": 4,
   "metadata": {},
   "outputs": [],
   "source": [
    "# get access to the database\n",
    "new_db_path = r'R:\\Kasia\\tracking\\TrackGardener\\Exp6_gardener_v6.db'#r'D:\\kasia\\tracking\\E6_exp\\double_segmentation_ultrack\\Exp6_gardener_v6.db'\n",
    "engine = create_engine(f'sqlite:///{new_db_path}')\n",
    "session = sessionmaker(bind=engine)()\n",
    "\n",
    "from sqlalchemy import text\n",
    "session.execute(text(\"ANALYZE;\"))\n",
    "session.commit()"
   ]
  },
  {
   "cell_type": "code",
   "execution_count": 5,
   "metadata": {},
   "outputs": [],
   "source": [
    "# display channels and labels\n",
    "viewer = napari.Viewer()\n",
    "ch1 = viewer.add_image(ch0_list, name='ch1', colormap = 'green',blending='additive',contrast_limits=[0, 2048])\n",
    "ch2 = viewer.add_image(ch1_list, name='ch2', colormap = 'red',blending='additive',contrast_limits=[0, 2048])\n",
    "labels = viewer.add_labels(empty_labels,name='Labels',metadata={'persistent_label':-1})\n",
    "labels.selected_label = 0"
   ]
  },
  {
   "cell_type": "code",
   "execution_count": 5,
   "metadata": {},
   "outputs": [
    {
     "data": {
      "text/plain": [
       "<napari._qt.widgets.qt_viewer_dock_widget.QtViewerDockWidget at 0x28f0a10b250>"
      ]
     },
     "execution_count": 5,
     "metadata": {},
     "output_type": "execute_result"
    }
   ],
   "source": [
    "from tracks_interactions.widget.widget_main import TrackGardener\n",
    "\n",
    "viewer = napari.Viewer()\n",
    "\n",
    "track_gardener = TrackGardener(viewer)\n",
    "viewer.window.add_dock_widget(track_gardener,area='right',name='Track Gardener')"
   ]
  },
  {
   "cell_type": "code",
   "execution_count": 7,
   "metadata": {},
   "outputs": [
    {
     "ename": "NameError",
     "evalue": "name 'track_gardener' is not defined",
     "output_type": "error",
     "traceback": [
      "\u001b[1;31m---------------------------------------------------------------------------\u001b[0m",
      "\u001b[1;31mNameError\u001b[0m                                 Traceback (most recent call last)",
      "Cell \u001b[1;32mIn[7], line 1\u001b[0m\n\u001b[1;32m----> 1\u001b[0m ch_names \u001b[38;5;241m=\u001b[39m [ch\u001b[38;5;241m.\u001b[39mget(\u001b[38;5;124m'\u001b[39m\u001b[38;5;124mname\u001b[39m\u001b[38;5;124m'\u001b[39m, \u001b[38;5;124m'\u001b[39m\u001b[38;5;124mUnnamed\u001b[39m\u001b[38;5;124m'\u001b[39m) \u001b[38;5;28;01mfor\u001b[39;00m ch \u001b[38;5;129;01min\u001b[39;00m \u001b[43mtrack_gardener\u001b[49m\u001b[38;5;241m.\u001b[39msettings_window\u001b[38;5;241m.\u001b[39mchannels_list]\n\u001b[0;32m      2\u001b[0m ch_data \u001b[38;5;241m=\u001b[39m track_gardener\u001b[38;5;241m.\u001b[39msettings_window\u001b[38;5;241m.\u001b[39mchannels_data_list\n",
      "\u001b[1;31mNameError\u001b[0m: name 'track_gardener' is not defined"
     ]
    }
   ],
   "source": [
    "ch_names = [ch.get('name', 'Unnamed') for ch in track_gardener.settings_window.channels_list]\n",
    "ch_data = track_gardener.settings_window.channels_data_list"
   ]
  },
  {
   "cell_type": "code",
   "execution_count": 8,
   "metadata": {},
   "outputs": [
    {
     "data": {
      "text/plain": [
       "['ch0', 'ch1']"
      ]
     },
     "execution_count": 8,
     "metadata": {},
     "output_type": "execute_result"
    }
   ],
   "source": [
    "ch_names"
   ]
  },
  {
   "cell_type": "code",
   "execution_count": 12,
   "metadata": {},
   "outputs": [
    {
     "ename": "AttributeError",
     "evalue": "'TrackGardener' object has no attribute 'session'",
     "output_type": "error",
     "traceback": [
      "\u001b[1;31m---------------------------------------------------------------------------\u001b[0m",
      "\u001b[1;31mAttributeError\u001b[0m                            Traceback (most recent call last)",
      "Cell \u001b[1;32mIn[12], line 1\u001b[0m\n\u001b[1;32m----> 1\u001b[0m \u001b[43mtrack_gardener\u001b[49m\u001b[38;5;241;43m.\u001b[39;49m\u001b[43mcreate_widgets\u001b[49m\u001b[43m(\u001b[49m\u001b[43mviewer\u001b[49m\u001b[43m,\u001b[49m\u001b[43m \u001b[49m\u001b[43msession\u001b[49m\u001b[43m,\u001b[49m\u001b[43mch_data\u001b[49m\u001b[43m,\u001b[49m\u001b[43mch_names\u001b[49m\u001b[43m,\u001b[49m\u001b[38;5;241;43m5\u001b[39;49m\u001b[43m)\u001b[49m\n",
      "File \u001b[1;32md:\\kasia\\tracking\\E6_exp\\code\\tracks_interactions\\examples\\..\\tracks_interactions\\widget\\widget_main.py:63\u001b[0m, in \u001b[0;36mTrackGardener.create_widgets\u001b[1;34m(self, viewer, session, ch_list, ch_names, ring_width)\u001b[0m\n\u001b[0;32m     57\u001b[0m \u001b[38;5;28;01mdef\u001b[39;00m \u001b[38;5;21mcreate_widgets\u001b[39m(\u001b[38;5;28mself\u001b[39m,viewer,session,ch_list,ch_names,ring_width):\n\u001b[0;32m     59\u001b[0m \u001b[38;5;250m    \u001b[39m\u001b[38;5;124;03m\"\"\"\u001b[39;00m\n\u001b[0;32m     60\u001b[0m \u001b[38;5;124;03m    Callback to create widgets in the second tab.\u001b[39;00m\n\u001b[0;32m     61\u001b[0m \u001b[38;5;124;03m    \"\"\"\u001b[39;00m\n\u001b[1;32m---> 63\u001b[0m     fam_plot_widget \u001b[38;5;241m=\u001b[39m FamilyGraphWidget(\u001b[38;5;28mself\u001b[39m\u001b[38;5;241m.\u001b[39mviewer,\u001b[38;5;28;43mself\u001b[39;49m\u001b[38;5;241;43m.\u001b[39;49m\u001b[43msession\u001b[49m)\n\u001b[0;32m     64\u001b[0m     \u001b[38;5;28mself\u001b[39m\u001b[38;5;241m.\u001b[39mviewer\u001b[38;5;241m.\u001b[39mwindow\u001b[38;5;241m.\u001b[39madd_dock_widget(fam_plot_widget,area\u001b[38;5;241m=\u001b[39m\u001b[38;5;124m'\u001b[39m\u001b[38;5;124mbottom\u001b[39m\u001b[38;5;124m'\u001b[39m)\n",
      "\u001b[1;31mAttributeError\u001b[0m: 'TrackGardener' object has no attribute 'session'"
     ]
    }
   ],
   "source": [
    "track_gardener.create_widgets(viewer, session,ch_data,ch_names,5)"
   ]
  },
  {
   "cell_type": "code",
   "execution_count": 8,
   "metadata": {},
   "outputs": [],
   "source": [
    "d= {'modified':'x','apoptosis':'B','mitosis':'M','disappear':'D'}"
   ]
  },
  {
   "cell_type": "code",
   "execution_count": 9,
   "metadata": {},
   "outputs": [
    {
     "ename": "TypeError",
     "evalue": "invalid key Shift+B",
     "output_type": "error",
     "traceback": [
      "\u001b[1;31m---------------------------------------------------------------------------\u001b[0m",
      "\u001b[1;31mTypeError\u001b[0m                                 Traceback (most recent call last)",
      "Cell \u001b[1;32mIn[9], line 7\u001b[0m\n\u001b[0;32m      4\u001b[0m plot_widget \u001b[38;5;241m=\u001b[39m FamilyGraphWidget(viewer,session)\n\u001b[0;32m      5\u001b[0m viewer\u001b[38;5;241m.\u001b[39mwindow\u001b[38;5;241m.\u001b[39madd_dock_widget(plot_widget,area\u001b[38;5;241m=\u001b[39m\u001b[38;5;124m'\u001b[39m\u001b[38;5;124mbottom\u001b[39m\u001b[38;5;124m'\u001b[39m)\n\u001b[1;32m----> 7\u001b[0m modification_widget \u001b[38;5;241m=\u001b[39m \u001b[43mModificationWidget\u001b[49m\u001b[43m(\u001b[49m\u001b[43mviewer\u001b[49m\u001b[43m,\u001b[49m\u001b[43msession\u001b[49m\u001b[43m,\u001b[49m\u001b[43mch_list\u001b[49m\u001b[38;5;241;43m=\u001b[39;49m\u001b[43m[\u001b[49m\u001b[43mch0_list\u001b[49m\u001b[43m[\u001b[49m\u001b[38;5;241;43m0\u001b[39;49m\u001b[43m]\u001b[49m\u001b[43m,\u001b[49m\u001b[43mch1_list\u001b[49m\u001b[43m[\u001b[49m\u001b[38;5;241;43m0\u001b[39;49m\u001b[43m]\u001b[49m\u001b[43m]\u001b[49m\u001b[43m,\u001b[49m\u001b[43mtag_dictionary\u001b[49m\u001b[43m \u001b[49m\u001b[38;5;241;43m=\u001b[39;49m\u001b[43m \u001b[49m\u001b[43md\u001b[49m\u001b[43m)\u001b[49m\n\u001b[0;32m      8\u001b[0m viewer\u001b[38;5;241m.\u001b[39mwindow\u001b[38;5;241m.\u001b[39madd_dock_widget(modification_widget,area\u001b[38;5;241m=\u001b[39m\u001b[38;5;124m'\u001b[39m\u001b[38;5;124mright\u001b[39m\u001b[38;5;124m'\u001b[39m,name\u001b[38;5;241m=\u001b[39m\u001b[38;5;124m'\u001b[39m\u001b[38;5;124mTrack Modifications\u001b[39m\u001b[38;5;124m'\u001b[39m)\n",
      "File \u001b[1;32md:\\data_analysis\\tracks_interactions\\examples\\..\\tracks_interactions\\widget\\widget_modifications.py:72\u001b[0m, in \u001b[0;36mModificationWidget.__init__\u001b[1;34m(self, napari_viewer, sql_session, ch_list, ch_names, ring_width, tag_dictionary)\u001b[0m\n\u001b[0;32m     69\u001b[0m     tag_group\u001b[38;5;241m.\u001b[39mlayout()\u001b[38;5;241m.\u001b[39maddWidget(tag_widget)\n\u001b[0;32m     70\u001b[0m     \u001b[38;5;28mself\u001b[39m\u001b[38;5;241m.\u001b[39mlayout()\u001b[38;5;241m.\u001b[39maddWidget(tag_group)\n\u001b[1;32m---> 72\u001b[0m     \u001b[38;5;28;43mself\u001b[39;49m\u001b[38;5;241;43m.\u001b[39;49m\u001b[43madd_tag_shortcuts\u001b[49m\u001b[43m(\u001b[49m\u001b[43m)\u001b[49m\n\u001b[0;32m     74\u001b[0m spacer_01 \u001b[38;5;241m=\u001b[39m QWidget()\n\u001b[0;32m     75\u001b[0m spacer_01\u001b[38;5;241m.\u001b[39msetFixedHeight(\u001b[38;5;241m4\u001b[39m)\n",
      "File \u001b[1;32md:\\data_analysis\\tracks_interactions\\examples\\..\\tracks_interactions\\widget\\widget_modifications.py:521\u001b[0m, in \u001b[0;36mModificationWidget.add_tag_shortcuts\u001b[1;34m(self)\u001b[0m\n\u001b[0;32m    519\u001b[0m \u001b[38;5;28;01mfor\u001b[39;00m tag, sh_cut \u001b[38;5;129;01min\u001b[39;00m \u001b[38;5;28mself\u001b[39m\u001b[38;5;241m.\u001b[39mtag_dictionary\u001b[38;5;241m.\u001b[39mitems():\n\u001b[0;32m    520\u001b[0m     \u001b[38;5;28;01mif\u001b[39;00m tag \u001b[38;5;241m!=\u001b[39m \u001b[38;5;124m'\u001b[39m\u001b[38;5;124mmodified\u001b[39m\u001b[38;5;124m'\u001b[39m:\n\u001b[1;32m--> 521\u001b[0m         \u001b[38;5;28;43mself\u001b[39;49m\u001b[38;5;241;43m.\u001b[39;49m\u001b[43mviewer\u001b[49m\u001b[38;5;241;43m.\u001b[39;49m\u001b[43mbind_key\u001b[49m\u001b[43m(\u001b[49m\n\u001b[0;32m    522\u001b[0m \u001b[43m            \u001b[49m\u001b[38;5;124;43mf\u001b[39;49m\u001b[38;5;124;43m'\u001b[39;49m\u001b[38;5;124;43mShift+\u001b[39;49m\u001b[38;5;132;43;01m{\u001b[39;49;00m\u001b[43msh_cut\u001b[49m\u001b[38;5;132;43;01m}\u001b[39;49;00m\u001b[38;5;124;43m'\u001b[39;49m\u001b[43m,\u001b[49m\n\u001b[0;32m    523\u001b[0m \u001b[43m            \u001b[49m\u001b[38;5;28;43;01mlambda\u001b[39;49;00m\u001b[43m \u001b[49m\u001b[43mviewer\u001b[49m\u001b[43m,\u001b[49m\u001b[43m \u001b[49m\u001b[43mannotation\u001b[49m\u001b[38;5;241;43m=\u001b[39;49m\u001b[43mtag\u001b[49m\u001b[43m:\u001b[49m\u001b[43m \u001b[49m\u001b[38;5;28;43mself\u001b[39;49m\u001b[38;5;241;43m.\u001b[39;49m\u001b[43mhandleTagButtonClick\u001b[49m\u001b[43m(\u001b[49m\n\u001b[0;32m    524\u001b[0m \u001b[43m                \u001b[49m\u001b[43mviewer\u001b[49m\u001b[43m,\u001b[49m\u001b[43m \u001b[49m\u001b[43mannotation\u001b[49m\u001b[38;5;241;43m=\u001b[39;49m\u001b[43mannotation\u001b[49m\n\u001b[0;32m    525\u001b[0m \u001b[43m            \u001b[49m\u001b[43m)\u001b[49m\u001b[43m,\u001b[49m\n\u001b[0;32m    526\u001b[0m \u001b[43m            \u001b[49m\u001b[43moverwrite\u001b[49m\u001b[38;5;241;43m=\u001b[39;49m\u001b[38;5;28;43;01mTrue\u001b[39;49;00m\u001b[43m,\u001b[49m\n\u001b[0;32m    527\u001b[0m \u001b[43m        \u001b[49m\u001b[43m)\u001b[49m\n",
      "File \u001b[1;32mc:\\Users\\KMK280\\AppData\\Local\\anaconda3\\envs\\napari-env\\lib\\site-packages\\napari\\utils\\key_bindings.py:283\u001b[0m, in \u001b[0;36mbind_key\u001b[1;34m(keymap, key, func, overwrite)\u001b[0m\n\u001b[0;32m    280\u001b[0m     \u001b[38;5;28;01mreturn\u001b[39;00m inner\n\u001b[0;32m    282\u001b[0m \u001b[38;5;28;01mif\u001b[39;00m key \u001b[38;5;129;01mis\u001b[39;00m \u001b[38;5;129;01mnot\u001b[39;00m \u001b[38;5;28mEllipsis\u001b[39m:\n\u001b[1;32m--> 283\u001b[0m     key \u001b[38;5;241m=\u001b[39m \u001b[43mnormalize_key_combo\u001b[49m\u001b[43m(\u001b[49m\u001b[43mkey\u001b[49m\u001b[43m)\u001b[49m\n\u001b[0;32m    285\u001b[0m \u001b[38;5;28;01mif\u001b[39;00m func \u001b[38;5;129;01mis\u001b[39;00m \u001b[38;5;129;01mnot\u001b[39;00m \u001b[38;5;28;01mNone\u001b[39;00m \u001b[38;5;129;01mand\u001b[39;00m key \u001b[38;5;129;01min\u001b[39;00m keymap \u001b[38;5;129;01mand\u001b[39;00m \u001b[38;5;129;01mnot\u001b[39;00m overwrite:\n\u001b[0;32m    286\u001b[0m     \u001b[38;5;28;01mraise\u001b[39;00m \u001b[38;5;167;01mValueError\u001b[39;00m(\n\u001b[0;32m    287\u001b[0m         trans\u001b[38;5;241m.\u001b[39m_(\n\u001b[0;32m    288\u001b[0m             \u001b[38;5;124m'\u001b[39m\u001b[38;5;124mkey combination \u001b[39m\u001b[38;5;132;01m{key}\u001b[39;00m\u001b[38;5;124m already used! specify \u001b[39m\u001b[38;5;130;01m\\'\u001b[39;00m\u001b[38;5;124moverwrite=True\u001b[39m\u001b[38;5;130;01m\\'\u001b[39;00m\u001b[38;5;124m to bypass this check\u001b[39m\u001b[38;5;124m'\u001b[39m,\n\u001b[1;32m   (...)\u001b[0m\n\u001b[0;32m    291\u001b[0m         )\n\u001b[0;32m    292\u001b[0m     )\n",
      "File \u001b[1;32mc:\\Users\\KMK280\\AppData\\Local\\anaconda3\\envs\\napari-env\\lib\\site-packages\\napari\\utils\\key_bindings.py:185\u001b[0m, in \u001b[0;36mnormalize_key_combo\u001b[1;34m(key_combo)\u001b[0m\n\u001b[0;32m    182\u001b[0m key, modifiers \u001b[38;5;241m=\u001b[39m parse_key_combo(key_combo)\n\u001b[0;32m    184\u001b[0m \u001b[38;5;28;01mif\u001b[39;00m \u001b[38;5;28mlen\u001b[39m(key) \u001b[38;5;241m!=\u001b[39m \u001b[38;5;241m1\u001b[39m \u001b[38;5;129;01mand\u001b[39;00m key \u001b[38;5;129;01mnot\u001b[39;00m \u001b[38;5;129;01min\u001b[39;00m SPECIAL_KEYS:\n\u001b[1;32m--> 185\u001b[0m     \u001b[38;5;28;01mraise\u001b[39;00m \u001b[38;5;167;01mTypeError\u001b[39;00m(\n\u001b[0;32m    186\u001b[0m         trans\u001b[38;5;241m.\u001b[39m_(\n\u001b[0;32m    187\u001b[0m             \u001b[38;5;124m'\u001b[39m\u001b[38;5;124minvalid key \u001b[39m\u001b[38;5;132;01m{key}\u001b[39;00m\u001b[38;5;124m'\u001b[39m,\n\u001b[0;32m    188\u001b[0m             deferred\u001b[38;5;241m=\u001b[39m\u001b[38;5;28;01mTrue\u001b[39;00m,\n\u001b[0;32m    189\u001b[0m             key\u001b[38;5;241m=\u001b[39mkey,\n\u001b[0;32m    190\u001b[0m         )\n\u001b[0;32m    191\u001b[0m     )\n\u001b[0;32m    193\u001b[0m \u001b[38;5;28;01mfor\u001b[39;00m modifier \u001b[38;5;129;01min\u001b[39;00m modifiers:\n\u001b[0;32m    194\u001b[0m     \u001b[38;5;28;01mif\u001b[39;00m modifier \u001b[38;5;129;01min\u001b[39;00m KEY_SUBS:\n",
      "\u001b[1;31mTypeError\u001b[0m: invalid key Shift+B"
     ]
    }
   ],
   "source": [
    "track_navigation_widget = TrackNavigationWidget(viewer,session)\n",
    "viewer.window.add_dock_widget(track_navigation_widget,area='right',name='Track Navigation')\n",
    "\n",
    "plot_widget = FamilyGraphWidget(viewer,session)\n",
    "viewer.window.add_dock_widget(plot_widget,area='bottom')\n",
    "\n",
    "modification_widget = ModificationWidget(viewer,session,ch_list=[ch0_list[0],ch1_list[0]],tag_dictionary = d)\n",
    "viewer.window.add_dock_widget(modification_widget,area='right',name='Track Modifications')\n"
   ]
  },
  {
   "cell_type": "code",
   "execution_count": 8,
   "metadata": {},
   "outputs": [],
   "source": [
    "signal_list = ['area','ch0_nuc','ch0_cyto','ch1_nuc','ch1_cyto']\n",
    "signal_sel_list = ['ch0_nuc','ch0_cyto']\n",
    "color_sel_list = ['green','yellow']"
   ]
  },
  {
   "cell_type": "code",
   "execution_count": 10,
   "metadata": {},
   "outputs": [
    {
     "data": {
      "text/plain": [
       "<napari._qt.widgets.qt_viewer_dock_widget.QtViewerDockWidget at 0x296216a0280>"
      ]
     },
     "execution_count": 10,
     "metadata": {},
     "output_type": "execute_result"
    }
   ],
   "source": [
    "from tracks_interactions.widget.signal_graph_widget import CellGraphWidget\n",
    "test = CellGraphWidget(viewer,session,signal_list,signal_sel_list=signal_sel_list,color_sel_list=color_sel_list,tag_dictionary=d)\n",
    "viewer.window.add_dock_widget(test,area='right',name='Test')"
   ]
  },
  {
   "cell_type": "code",
   "execution_count": 13,
   "metadata": {},
   "outputs": [
    {
     "data": {
      "text/plain": [
       "{'modified': 'x', 'apoptosis': 'A', 'mitosis': 'M', 'disappear': 'D'}"
      ]
     },
     "execution_count": 13,
     "metadata": {},
     "output_type": "execute_result"
    }
   ],
   "source": [
    "import yaml\n",
    "filePath = r'D:/kasia/tracking/E6_exp/sample_data/config.yaml'\n",
    "\n",
    "with open(filePath, 'r') as file:\n",
    "    config = yaml.safe_load(file)\n",
    "\n",
    "    cell_tags = config.get('cell_tags', [])\n",
    "\n",
    "cell_tags\n"
   ]
  },
  {
   "cell_type": "markdown",
   "metadata": {},
   "source": [
    "## Tests and doodles"
   ]
  },
  {
   "cell_type": "code",
   "execution_count": 10,
   "metadata": {},
   "outputs": [],
   "source": [
    "from tracks_interactions.db.db_model import NO_PARENT, CellDB, TrackDB\n",
    "import matplotlib.pyplot as plt\n",
    "import numpy as np\n",
    "import pandas as pd\n",
    "import pyqtgraph as pg\n",
    "from sqlalchemy.orm.attributes import flag_modified\n",
    "import tracks_interactions.db.db_functions as fdb"
   ]
  },
  {
   "cell_type": "code",
   "execution_count": 12,
   "metadata": {},
   "outputs": [
    {
     "data": {
      "text/plain": [
       "{'area': 1102,\n",
       " 'ch0_nuc': 629.3003629764065,\n",
       " 'ch0_cyto': 303.49378330373,\n",
       " 'ch1_nuc': 1022.0290381125227,\n",
       " 'ch1_cyto': 342.5133214920071}"
      ]
     },
     "execution_count": 12,
     "metadata": {},
     "output_type": "execute_result"
    }
   ],
   "source": [
    "t=session.query(CellDB).first()\n",
    "t.signals"
   ]
  },
  {
   "cell_type": "code",
   "execution_count": 22,
   "metadata": {},
   "outputs": [],
   "source": [
    "session.commit()"
   ]
  },
  {
   "cell_type": "code",
   "execution_count": 16,
   "metadata": {},
   "outputs": [
    {
     "data": {
      "text/plain": [
       "56297"
      ]
     },
     "execution_count": 16,
     "metadata": {},
     "output_type": "execute_result"
    }
   ],
   "source": [
    "len(session.query(TrackDB).all())"
   ]
  },
  {
   "cell_type": "code",
   "execution_count": 13,
   "metadata": {},
   "outputs": [
    {
     "data": {
      "text/plain": [
       "[1004610 from frame 0 with track_id 22304 at (5359,4450),\n",
       " 2004804 from frame 1 with track_id 22304 at (5367,4445),\n",
       " 3004985 from frame 2 with track_id 22304 at (5364,4442),\n",
       " 4005078 from frame 3 with track_id 22304 at (5362,4441),\n",
       " 5005159 from frame 4 with track_id 22304 at (5362,4426),\n",
       " 6005134 from frame 5 with track_id 22304 at (5364,4424),\n",
       " 7005230 from frame 6 with track_id 22304 at (5363,4424),\n",
       " 8005242 from frame 7 with track_id 22304 at (5360,4426),\n",
       " 9005394 from frame 8 with track_id 22304 at (5356,4424),\n",
       " 10005485 from frame 9 with track_id 22304 at (5355,4428),\n",
       " 11005663 from frame 10 with track_id 22304 at (5362,4429),\n",
       " 12005791 from frame 11 with track_id 22304 at (5355,4429),\n",
       " 13005941 from frame 12 with track_id 22304 at (5358,4428),\n",
       " 14006096 from frame 13 with track_id 22304 at (5352,4426),\n",
       " 15006169 from frame 14 with track_id 22304 at (5353,4426),\n",
       " 16006336 from frame 15 with track_id 22304 at (5353,4427),\n",
       " 17006445 from frame 16 with track_id 22304 at (5352,4425),\n",
       " 18006577 from frame 17 with track_id 22304 at (5354,4427),\n",
       " 19006803 from frame 18 with track_id 22304 at (5351,4424),\n",
       " 20006791 from frame 19 with track_id 22304 at (5352,4431),\n",
       " 21006996 from frame 20 with track_id 22304 at (5355,4428),\n",
       " 22007048 from frame 21 with track_id 22304 at (5353,4431),\n",
       " 23007101 from frame 22 with track_id 22304 at (5347,4429),\n",
       " 24007270 from frame 23 with track_id 22304 at (5342,4428),\n",
       " 25007422 from frame 24 with track_id 22304 at (5337,4427),\n",
       " 26007514 from frame 25 with track_id 22304 at (5330,4423),\n",
       " 27007698 from frame 26 with track_id 22304 at (5326,4423),\n",
       " 28007825 from frame 27 with track_id 22304 at (5327,4420),\n",
       " 29007916 from frame 28 with track_id 22304 at (5324,4416),\n",
       " 30008065 from frame 29 with track_id 22304 at (5324,4415),\n",
       " 31008107 from frame 30 with track_id 22304 at (5324,4413),\n",
       " 32008224 from frame 31 with track_id 22304 at (5318,4410),\n",
       " 33008278 from frame 32 with track_id 22304 at (5316,4407),\n",
       " 34008500 from frame 33 with track_id 22304 at (5318,4402),\n",
       " 35008482 from frame 34 with track_id 22304 at (5317,4399),\n",
       " 36008522 from frame 35 with track_id 22304 at (5316,4397),\n",
       " 37008646 from frame 36 with track_id 22304 at (5306,4397),\n",
       " 38008809 from frame 37 with track_id 22304 at (5306,4393),\n",
       " 39008770 from frame 38 with track_id 22304 at (5301,4394),\n",
       " 40008915 from frame 39 with track_id 22304 at (5296,4392),\n",
       " 41008957 from frame 40 with track_id 22304 at (5295,4396),\n",
       " 42008992 from frame 41 with track_id 22304 at (5290,4403),\n",
       " 43009103 from frame 42 with track_id 22304 at (5293,4404),\n",
       " 44009022 from frame 43 with track_id 22304 at (5293,4403),\n",
       " 45009097 from frame 44 with track_id 22304 at (5292,4402),\n",
       " 46009173 from frame 45 with track_id 22304 at (5297,4397),\n",
       " 47009289 from frame 46 with track_id 22304 at (5297,4398),\n",
       " 48009345 from frame 47 with track_id 22304 at (5300,4398),\n",
       " 49009410 from frame 48 with track_id 22304 at (5300,4400),\n",
       " 50009480 from frame 49 with track_id 22304 at (5304,4400),\n",
       " 51009539 from frame 50 with track_id 22304 at (5304,4401),\n",
       " 52009581 from frame 51 with track_id 22304 at (5299,4402),\n",
       " 53009637 from frame 52 with track_id 22304 at (5295,4402),\n",
       " 54009663 from frame 53 with track_id 22304 at (5288,4403),\n",
       " 55009668 from frame 54 with track_id 22304 at (5282,4405),\n",
       " 56009652 from frame 55 with track_id 22304 at (5282,4406),\n",
       " 57009749 from frame 56 with track_id 22304 at (5284,4408),\n",
       " 58009710 from frame 57 with track_id 22304 at (5286,4408),\n",
       " 59009683 from frame 58 with track_id 22304 at (5289,4404),\n",
       " 60009817 from frame 59 with track_id 22304 at (5292,4399),\n",
       " 61009915 from frame 60 with track_id 22304 at (5293,4402),\n",
       " 62009878 from frame 61 with track_id 22304 at (5288,4401),\n",
       " 63009953 from frame 62 with track_id 22304 at (5283,4400),\n",
       " 64010021 from frame 63 with track_id 22304 at (5287,4399),\n",
       " 65010061 from frame 64 with track_id 22304 at (5282,4408),\n",
       " 66009980 from frame 65 with track_id 22304 at (5276,4405),\n",
       " 67010108 from frame 66 with track_id 22304 at (5274,4403),\n",
       " 68010106 from frame 67 with track_id 22304 at (5271,4404),\n",
       " 69010034 from frame 68 with track_id 22304 at (5267,4408),\n",
       " 70010102 from frame 69 with track_id 22304 at (5264,4402),\n",
       " 71010127 from frame 70 with track_id 22304 at (5265,4398),\n",
       " 72010230 from frame 71 with track_id 22304 at (5269,4399),\n",
       " 73010145 from frame 72 with track_id 22304 at (5266,4397),\n",
       " 74010184 from frame 73 with track_id 22304 at (5266,4396),\n",
       " 75010317 from frame 74 with track_id 22304 at (5264,4396),\n",
       " 76010316 from frame 75 with track_id 22304 at (5266,4389),\n",
       " 77010145 from frame 76 with track_id 22304 at (5263,4387),\n",
       " 78010115 from frame 77 with track_id 22304 at (5260,4389),\n",
       " 79010317 from frame 78 with track_id 22304 at (5257,4389),\n",
       " 80010259 from frame 79 with track_id 22304 at (5254,4388),\n",
       " 81010313 from frame 80 with track_id 22304 at (5248,4380),\n",
       " 82010245 from frame 81 with track_id 22304 at (5247,4377),\n",
       " 83010443 from frame 82 with track_id 22304 at (5251,4372),\n",
       " 84010421 from frame 83 with track_id 22304 at (5247,4370),\n",
       " 85010409 from frame 84 with track_id 22304 at (5246,4362),\n",
       " 86010331 from frame 85 with track_id 22304 at (5241,4351),\n",
       " 87010510 from frame 86 with track_id 22304 at (5236,4346),\n",
       " 88010263 from frame 87 with track_id 22304 at (5222,4351),\n",
       " 89010225 from frame 88 with track_id 22304 at (5208,4345),\n",
       " 90010239 from frame 89 with track_id 22304 at (5193,4341),\n",
       " 91010336 from frame 90 with track_id 22304 at (5189,4343),\n",
       " 92010406 from frame 91 with track_id 22304 at (5197,4347),\n",
       " 93010465 from frame 92 with track_id 22304 at (5208,4349),\n",
       " 94010444 from frame 93 with track_id 22304 at (5214,4357),\n",
       " 95010379 from frame 94 with track_id 22304 at (5219,4362),\n",
       " 96010454 from frame 95 with track_id 22304 at (5223,4365),\n",
       " 97010446 from frame 96 with track_id 22304 at (5225,4369),\n",
       " 98010527 from frame 97 with track_id 22304 at (5221,4369),\n",
       " 99010595 from frame 98 with track_id 22304 at (5223,4369),\n",
       " 100010309 from frame 99 with track_id 22304 at (5223,4375),\n",
       " 101010187 from frame 100 with track_id 22304 at (5226,4378),\n",
       " 102010367 from frame 101 with track_id 22304 at (5233,4377),\n",
       " 103010423 from frame 102 with track_id 22304 at (5233,4374),\n",
       " 104010338 from frame 103 with track_id 22304 at (5230,4378),\n",
       " 105010326 from frame 104 with track_id 22304 at (5230,4379),\n",
       " 106010519 from frame 105 with track_id 22304 at (5232,4385),\n",
       " 107010493 from frame 106 with track_id 22304 at (5231,4401),\n",
       " 108010541 from frame 107 with track_id 22304 at (5234,4406),\n",
       " 109010502 from frame 108 with track_id 22304 at (5236,4414),\n",
       " 110010303 from frame 109 with track_id 22304 at (5231,4417),\n",
       " 111010490 from frame 110 with track_id 22304 at (5231,4425),\n",
       " 112010492 from frame 111 with track_id 22304 at (5234,4428),\n",
       " 113010563 from frame 112 with track_id 22304 at (5234,4433),\n",
       " 114010446 from frame 113 with track_id 22304 at (5231,4438),\n",
       " 115010625 from frame 114 with track_id 22304 at (5230,4442),\n",
       " 116010629 from frame 115 with track_id 22304 at (5223,4445),\n",
       " 117010480 from frame 116 with track_id 22304 at (5217,4438),\n",
       " 118010664 from frame 117 with track_id 22304 at (5209,4427),\n",
       " 119010454 from frame 118 with track_id 22304 at (5203,4421),\n",
       " 120010440 from frame 119 with track_id 22304 at (5203,4417),\n",
       " 121010417 from frame 120 with track_id 22304 at (5201,4413),\n",
       " 122010505 from frame 121 with track_id 22304 at (5205,4409),\n",
       " 123010571 from frame 122 with track_id 22304 at (5210,4412),\n",
       " 124010464 from frame 123 with track_id 22304 at (5212,4405),\n",
       " 125010502 from frame 124 with track_id 22304 at (5209,4410),\n",
       " 126010640 from frame 125 with track_id 22304 at (5203,4407),\n",
       " 127010650 from frame 126 with track_id 22304 at (5205,4406),\n",
       " 128010324 from frame 127 with track_id 22304 at (5204,4406),\n",
       " 129010803 from frame 128 with track_id 22304 at (5212,4404),\n",
       " 130010570 from frame 129 with track_id 22304 at (5212,4407),\n",
       " 131010383 from frame 130 with track_id 22304 at (5214,4412),\n",
       " 132010758 from frame 131 with track_id 22304 at (5219,4411),\n",
       " 133010683 from frame 132 with track_id 22304 at (5229,4409),\n",
       " 134010716 from frame 133 with track_id 22304 at (5236,4410),\n",
       " 135010585 from frame 134 with track_id 22304 at (5239,4415),\n",
       " 136010476 from frame 135 with track_id 22304 at (5246,4422),\n",
       " 137010771 from frame 136 with track_id 22304 at (5252,4429),\n",
       " 138010480 from frame 137 with track_id 22304 at (5248,4421),\n",
       " 139010437 from frame 138 with track_id 22304 at (5247,4415),\n",
       " 140010492 from frame 139 with track_id 22304 at (5241,4414),\n",
       " 141010442 from frame 140 with track_id 22304 at (5237,4416),\n",
       " 142010385 from frame 141 with track_id 22304 at (5234,4415),\n",
       " 143010482 from frame 142 with track_id 22304 at (5229,4418),\n",
       " 144010337 from frame 143 with track_id 22304 at (5229,4424),\n",
       " 145010343 from frame 144 with track_id 22304 at (5225,4427),\n",
       " 146010484 from frame 145 with track_id 22304 at (5225,4421),\n",
       " 147010304 from frame 146 with track_id 22304 at (5226,4412),\n",
       " 148010407 from frame 147 with track_id 22304 at (5228,4410),\n",
       " 149010324 from frame 148 with track_id 22304 at (5232,4411),\n",
       " 150010428 from frame 149 with track_id 22304 at (5235,4412),\n",
       " 151010221 from frame 150 with track_id 22304 at (5234,4410),\n",
       " 152010291 from frame 151 with track_id 22304 at (5233,4413),\n",
       " 153010390 from frame 152 with track_id 22304 at (5231,4410),\n",
       " 154010351 from frame 153 with track_id 22304 at (5223,4408),\n",
       " 155010320 from frame 154 with track_id 22304 at (5219,4408),\n",
       " 156010245 from frame 155 with track_id 22304 at (5220,4403),\n",
       " 157010224 from frame 156 with track_id 22304 at (5218,4398),\n",
       " 158010217 from frame 157 with track_id 22304 at (5217,4396),\n",
       " 159010046 from frame 158 with track_id 22304 at (5222,4395),\n",
       " 160010196 from frame 159 with track_id 22304 at (5228,4392),\n",
       " 161010232 from frame 160 with track_id 22304 at (5243,4395),\n",
       " 162010238 from frame 161 with track_id 22304 at (5247,4403),\n",
       " 163010251 from frame 162 with track_id 22304 at (5251,4407),\n",
       " 164010136 from frame 163 with track_id 22304 at (5250,4411),\n",
       " 165010321 from frame 164 with track_id 22304 at (5255,4408),\n",
       " 166010332 from frame 165 with track_id 22304 at (5258,4409),\n",
       " 167010243 from frame 166 with track_id 22304 at (5263,4406),\n",
       " 168010245 from frame 167 with track_id 22304 at (5264,4404),\n",
       " 169010386 from frame 168 with track_id 22304 at (5264,4403),\n",
       " 170010228 from frame 169 with track_id 22304 at (5260,4403),\n",
       " 171010396 from frame 170 with track_id 22304 at (5258,4402),\n",
       " 172010155 from frame 171 with track_id 22304 at (5250,4405),\n",
       " 173010190 from frame 172 with track_id 22304 at (5243,4403),\n",
       " 174010124 from frame 173 with track_id 22304 at (5242,4404),\n",
       " 175010021 from frame 174 with track_id 22304 at (5242,4405),\n",
       " 176010212 from frame 175 with track_id 22304 at (5239,4406),\n",
       " 177010031 from frame 176 with track_id 22304 at (5235,4403),\n",
       " 178010234 from frame 177 with track_id 22304 at (5235,4397),\n",
       " 179010017 from frame 178 with track_id 22304 at (5236,4400),\n",
       " 180010019 from frame 179 with track_id 22304 at (5234,4403),\n",
       " 181009969 from frame 180 with track_id 22304 at (5234,4405),\n",
       " 182009876 from frame 181 with track_id 22304 at (5234,4405),\n",
       " 183009800 from frame 182 with track_id 22304 at (5235,4405),\n",
       " 184009834 from frame 183 with track_id 22304 at (5234,4408),\n",
       " 185009719 from frame 184 with track_id 22304 at (5231,4409),\n",
       " 186009908 from frame 185 with track_id 22304 at (5233,4405),\n",
       " 187009659 from frame 186 with track_id 22304 at (5236,4396),\n",
       " 188009638 from frame 187 with track_id 22304 at (5237,4392),\n",
       " 189009723 from frame 188 with track_id 22304 at (5236,4392),\n",
       " 190009702 from frame 189 with track_id 22304 at (5237,4389),\n",
       " 191009668 from frame 190 with track_id 22304 at (5236,4388),\n",
       " 192009795 from frame 191 with track_id 22304 at (5236,4391)]"
      ]
     },
     "execution_count": 13,
     "metadata": {},
     "output_type": "execute_result"
    }
   ],
   "source": [
    "t=session.query(CellDB).filter(CellDB.track_id == 22304).order_by(CellDB.t).all()\n",
    "t"
   ]
  },
  {
   "cell_type": "code",
   "execution_count": 26,
   "metadata": {},
   "outputs": [
    {
     "data": {
      "text/plain": [
       "[(0, {'mitosis': True, 'apoptosis': False}),\n",
       " (1, {'apoptosis': False, 'mitosis': False}),\n",
       " (2, {'mitosis': False}),\n",
       " (3, {'mitosis': False}),\n",
       " (4, {'modified': 'True'}),\n",
       " (5, {}),\n",
       " (6, {}),\n",
       " (7, {'mitosis': False}),\n",
       " (8, {'mitosis': False}),\n",
       " (9, {'mitosis': False, 'apoptosis': False}),\n",
       " (10, {'mitosis': False}),\n",
       " (11, {'mitosis': False}),\n",
       " (12, {}),\n",
       " (13, {'modified': 'True'}),\n",
       " (14, {}),\n",
       " (15, {'modified': 'True'}),\n",
       " (16, {'modified': 'True'}),\n",
       " (17, {'modified': 'True'}),\n",
       " (18, {'modified': 'True'}),\n",
       " (19, {}),\n",
       " (20, {}),\n",
       " (21, {}),\n",
       " (22, {}),\n",
       " (23, {'modified': 'True'}),\n",
       " (24, {'modified': 'True'}),\n",
       " (25, {}),\n",
       " (26, {'disappear': False, 'mitosis': False, 'apoptosis': False}),\n",
       " (27, {}),\n",
       " (28, {}),\n",
       " (29, {}),\n",
       " (30, {'modified': 'True'}),\n",
       " (31, {'mitosis': False}),\n",
       " (32, {}),\n",
       " (33, {'mitosis': False}),\n",
       " (34, {'mitosis': False, 'modified': True}),\n",
       " (35, {}),\n",
       " (36, {}),\n",
       " (37, {}),\n",
       " (38, {}),\n",
       " (39, {'modified': 'True'}),\n",
       " (40, {}),\n",
       " (41, {}),\n",
       " (42, {'modified': 'True'}),\n",
       " (43, {}),\n",
       " (44, {}),\n",
       " (45, {'modified': 'True'}),\n",
       " (46, {}),\n",
       " (47, {}),\n",
       " (48, {}),\n",
       " (49, {'modified': 'True'}),\n",
       " (50, {}),\n",
       " (51, {}),\n",
       " (52, {}),\n",
       " (53, {'mitosis': False, 'apoptosis': False, 'disappear': False}),\n",
       " (54, {}),\n",
       " (55, {'mitosis': False}),\n",
       " (56, {}),\n",
       " (57, {}),\n",
       " (58, {'modified': 'True'}),\n",
       " (59, {}),\n",
       " (60, {}),\n",
       " (61, {}),\n",
       " (62, {'modified': 'True'}),\n",
       " (63, {}),\n",
       " (64, {}),\n",
       " (65, {}),\n",
       " (66, {}),\n",
       " (67, {'mitosis': False}),\n",
       " (68, {}),\n",
       " (69, {}),\n",
       " (70, {}),\n",
       " (71, {}),\n",
       " (72, {}),\n",
       " (73, {}),\n",
       " (74, {'modified': 'True'}),\n",
       " (75, {}),\n",
       " (76, {}),\n",
       " (77, {'mitosis': False}),\n",
       " (78, {'mitosis': True})]"
      ]
     },
     "execution_count": 26,
     "metadata": {},
     "output_type": "execute_result"
    }
   ],
   "source": [
    "query = (\n",
    "    session.query(CellDB.t,CellDB.tags)\n",
    "    .filter(CellDB.track_id == 56308)\n",
    "    .order_by(CellDB.t)\n",
    "    .all()\n",
    "\n",
    ")\n",
    "query"
   ]
  },
  {
   "cell_type": "code",
   "execution_count": 33,
   "metadata": {},
   "outputs": [
    {
     "name": "stdout",
     "output_type": "stream",
     "text": [
      "88010055 from frame 87 with track_id 20913 at (5189,4197)\n",
      "{}\n",
      "{'mitosis': True}\n"
     ]
    }
   ],
   "source": [
    "cell = query[8]\n",
    "print(cell)\n",
    "tags = cell.tags\n",
    "print(tags)\n",
    "tags['mitosis'] = True\n",
    "print(tags)\n",
    "cell.tags = tags\n",
    "flag_modified(cell, 'tags')\n",
    "session.commit()"
   ]
  },
  {
   "cell_type": "code",
   "execution_count": 34,
   "metadata": {},
   "outputs": [],
   "source": [
    "cell = query[3]\n",
    "cell.tags['mitosis'] = False\n",
    "flag_modified(cell, 'tags')\n",
    "session.commit()"
   ]
  },
  {
   "cell_type": "code",
   "execution_count": 61,
   "metadata": {},
   "outputs": [
    {
     "data": {
      "text/plain": [
       "{}"
      ]
     },
     "execution_count": 61,
     "metadata": {},
     "output_type": "execute_result"
    }
   ],
   "source": [
    "cell_list = (\n",
    "    session.query(CellDB)\n",
    "    .filter(CellDB.t == 54)\n",
    "    .filter(CellDB.track_id == 56308)\n",
    "    .all()\n",
    ")\n",
    "cell_list[0].tags"
   ]
  },
  {
   "cell_type": "code",
   "execution_count": 63,
   "metadata": {},
   "outputs": [
    {
     "ename": "KeyError",
     "evalue": "'mitosis'",
     "output_type": "error",
     "traceback": [
      "\u001b[1;31m---------------------------------------------------------------------------\u001b[0m",
      "\u001b[1;31mKeyError\u001b[0m                                  Traceback (most recent call last)",
      "Cell \u001b[1;32mIn[63], line 1\u001b[0m\n\u001b[1;32m----> 1\u001b[0m \u001b[43mcell_list\u001b[49m\u001b[43m[\u001b[49m\u001b[38;5;241;43m0\u001b[39;49m\u001b[43m]\u001b[49m\u001b[38;5;241;43m.\u001b[39;49m\u001b[43mtags\u001b[49m\u001b[43m[\u001b[49m\u001b[38;5;124;43m'\u001b[39;49m\u001b[38;5;124;43mmitosis\u001b[39;49m\u001b[38;5;124;43m'\u001b[39;49m\u001b[43m]\u001b[49m\n",
      "\u001b[1;31mKeyError\u001b[0m: 'mitosis'"
     ]
    },
    {
     "name": "stdout",
     "output_type": "stream",
     "text": [
      "Click at 1322.0,1322.0 translated to 244.4931018267203, 15.440209031430577\n"
     ]
    }
   ],
   "source": [
    "cell_list[0].tags['mitosis']"
   ]
  },
  {
   "cell_type": "code",
   "execution_count": 59,
   "metadata": {},
   "outputs": [],
   "source": [
    "from sqlalchemy.orm.attributes import flag_modified\n",
    "cell = cell_list[0]\n",
    "\n",
    "cell.tags['mitosis'] = False\n",
    "\n",
    "# Manually signal that the 'tags' attribute has been modified\n",
    "flag_modified(cell, 'tags')"
   ]
  },
  {
   "cell_type": "code",
   "execution_count": 40,
   "metadata": {},
   "outputs": [
    {
     "name": "stdout",
     "output_type": "stream",
     "text": [
      "{'mitosis': 'True'}\n",
      "{'mitosis': 'True', 'mit': True}\n"
     ]
    }
   ],
   "source": [
    "cell = cell_list[0]\n",
    "\n",
    "# prepare tags\n",
    "tags = cell.tags\n",
    "if tags is not None:\n",
    "    tags['mit'] = True\n",
    "else:\n",
    "    tags = {'mit': True}\n",
    "\n",
    "cell.tags = tags\n",
    "\n",
    "session.commit()\n",
    "\n",
    "print(cell.tags)\n",
    "print(tags)"
   ]
  },
  {
   "cell_type": "code",
   "execution_count": 39,
   "metadata": {},
   "outputs": [
    {
     "data": {
      "text/plain": [
       "{'mitosis': 'True'}"
      ]
     },
     "execution_count": 39,
     "metadata": {},
     "output_type": "execute_result"
    }
   ],
   "source": [
    "cell.tags"
   ]
  },
  {
   "cell_type": "code",
   "execution_count": 28,
   "metadata": {},
   "outputs": [],
   "source": [
    "session.commit()"
   ]
  },
  {
   "cell_type": "code",
   "execution_count": 20,
   "metadata": {},
   "outputs": [],
   "source": [
    "text = pg.TextItem(text='T', anchor=(0.5, 0))\n",
    "test.graph.plot_view.addItem(text)\n",
    "text.setPos(0,1000)"
   ]
  },
  {
   "cell_type": "code",
   "execution_count": 27,
   "metadata": {},
   "outputs": [],
   "source": [
    "x_list = [item[0] for item in query if item[1].get('modified') == 'True']\n",
    "y = test.graph.plot_view.viewRange()[1][1]\n",
    "for x in x_list:\n",
    "    text = pg.TextItem(text='x', anchor=(0.5, 0))\n",
    "    test.graph.plot_view.addItem(text)\n",
    "    text.setPos(x,y)"
   ]
  },
  {
   "cell_type": "code",
   "execution_count": 16,
   "metadata": {},
   "outputs": [
    {
     "ename": "AttributeError",
     "evalue": "'PlotItem' object has no attribute 'scatter_plot'",
     "output_type": "error",
     "traceback": [
      "\u001b[1;31m---------------------------------------------------------------------------\u001b[0m",
      "\u001b[1;31mAttributeError\u001b[0m                            Traceback (most recent call last)",
      "Cell \u001b[1;32mIn[16], line 1\u001b[0m\n\u001b[1;32m----> 1\u001b[0m \u001b[43mtest\u001b[49m\u001b[38;5;241;43m.\u001b[39;49m\u001b[43mgraph\u001b[49m\u001b[38;5;241;43m.\u001b[39;49m\u001b[43mplot_view\u001b[49m\u001b[38;5;241;43m.\u001b[39;49m\u001b[43mscatter_plot\u001b[49m\u001b[38;5;241m.\u001b[39msetData(\u001b[38;5;241m0\u001b[39m,\u001b[38;5;241m0\u001b[39m)\n",
      "\u001b[1;31mAttributeError\u001b[0m: 'PlotItem' object has no attribute 'scatter_plot'"
     ]
    }
   ],
   "source": [
    "test.graph.plot_view.scatter_plot.setData(0,0)"
   ]
  },
  {
   "cell_type": "code",
   "execution_count": 14,
   "metadata": {},
   "outputs": [
    {
     "data": {
      "text/plain": [
       "[(0, {}),\n",
       " (1, {}),\n",
       " (2, {}),\n",
       " (3, {}),\n",
       " (4, {}),\n",
       " (5, {}),\n",
       " (6, {}),\n",
       " (7, {}),\n",
       " (8, {}),\n",
       " (9, {}),\n",
       " (10, {}),\n",
       " (11, {}),\n",
       " (12, {}),\n",
       " (13, {'modified': 'True'}),\n",
       " (14, {}),\n",
       " (15, {'modified': 'True'}),\n",
       " (16, {'modified': 'True'}),\n",
       " (17, {'modified': 'True'}),\n",
       " (18, {'modified': 'True'}),\n",
       " (19, {}),\n",
       " (20, {}),\n",
       " (21, {}),\n",
       " (22, {}),\n",
       " (23, {'modified': 'True'}),\n",
       " (24, {'modified': 'True'}),\n",
       " (25, {}),\n",
       " (26, {}),\n",
       " (27, {}),\n",
       " (28, {}),\n",
       " (29, {}),\n",
       " (30, {'modified': 'True'}),\n",
       " (31, {}),\n",
       " (32, {}),\n",
       " (33, {}),\n",
       " (34, {}),\n",
       " (35, {}),\n",
       " (36, {}),\n",
       " (37, {}),\n",
       " (38, {}),\n",
       " (39, {}),\n",
       " (40, {}),\n",
       " (41, {}),\n",
       " (42, {}),\n",
       " (43, {}),\n",
       " (44, {}),\n",
       " (45, {}),\n",
       " (46, {}),\n",
       " (47, {}),\n",
       " (48, {}),\n",
       " (49, {}),\n",
       " (50, {}),\n",
       " (51, {}),\n",
       " (52, {}),\n",
       " (53, {}),\n",
       " (54, {}),\n",
       " (55, {}),\n",
       " (56, {}),\n",
       " (57, {}),\n",
       " (58, {}),\n",
       " (59, {}),\n",
       " (60, {}),\n",
       " (61, {}),\n",
       " (62, {}),\n",
       " (63, {}),\n",
       " (64, {}),\n",
       " (65, {}),\n",
       " (66, {}),\n",
       " (67, {}),\n",
       " (68, {}),\n",
       " (69, {}),\n",
       " (70, {}),\n",
       " (71, {}),\n",
       " (72, {}),\n",
       " (73, {}),\n",
       " (74, {'modified': 'True'}),\n",
       " (75, {}),\n",
       " (76, {}),\n",
       " (77, {}),\n",
       " (78, {})]"
      ]
     },
     "execution_count": 14,
     "metadata": {},
     "output_type": "execute_result"
    }
   ],
   "source": [
    "query = (\n",
    "    session.query(CellDB.t, CellDB.tags)\n",
    "    .filter(CellDB.track_id == 56308)\n",
    "    .order_by(CellDB.t)\n",
    "    .all()\n",
    ")\n",
    "query"
   ]
  },
  {
   "cell_type": "code",
   "execution_count": 10,
   "metadata": {},
   "outputs": [],
   "source": [
    "root_id = 16115\n",
    "query = session.query(TrackDB).filter(TrackDB.root == root_id)\n",
    "df = pd.read_sql(query.statement, session.bind)\n",
    "\n",
    "# make sure that the root of this id exists\n",
    "assert len(df) > 0, \"No data for this root_id\"\n",
    "\n",
    "# add trunk\n",
    "trunk_row = df.loc[df.track_id == root_id, :]\n",
    "\n",
    "\n",
    "num=1,\n",
    "start=trunk_row[\"t_begin\"].values[0],\n",
    "stop=trunk_row[\"t_end\"].values[0],\n",
    "accepted=trunk_row[\"accepted_tag\"].values[0]\n"
   ]
  },
  {
   "cell_type": "code",
   "execution_count": 19,
   "metadata": {},
   "outputs": [],
   "source": [
    "accepted = bool(accepted)"
   ]
  },
  {
   "cell_type": "code",
   "execution_count": 20,
   "metadata": {},
   "outputs": [
    {
     "data": {
      "text/plain": [
       "bool"
      ]
     },
     "execution_count": 20,
     "metadata": {},
     "output_type": "execute_result"
    }
   ],
   "source": [
    "type(accepted)"
   ]
  },
  {
   "cell_type": "code",
   "execution_count": 11,
   "metadata": {},
   "outputs": [
    {
     "data": {
      "text/plain": [
       "[Track 6604 from 2 to 79]"
      ]
     },
     "execution_count": 11,
     "metadata": {},
     "output_type": "execute_result"
    }
   ],
   "source": [
    "tr = session.query(TrackDB).filter(TrackDB.track_id == 6604).all()\n",
    "tr"
   ]
  },
  {
   "cell_type": "code",
   "execution_count": 24,
   "metadata": {},
   "outputs": [
    {
     "data": {
      "text/plain": [
       "37101"
      ]
     },
     "execution_count": 24,
     "metadata": {},
     "output_type": "execute_result"
    }
   ],
   "source": [
    "tr[0].parent_track_id"
   ]
  },
  {
   "cell_type": "code",
   "execution_count": 15,
   "metadata": {},
   "outputs": [
    {
     "data": {
      "text/plain": [
       "[]"
      ]
     },
     "execution_count": 15,
     "metadata": {},
     "output_type": "execute_result"
    }
   ],
   "source": [
    "session.query(TrackDB).filter(TrackDB.parent_track_id == 6605).all()"
   ]
  },
  {
   "cell_type": "code",
   "execution_count": 14,
   "metadata": {},
   "outputs": [
    {
     "data": {
      "text/plain": [
       "[Track 6606 from 80 to 205]"
      ]
     },
     "execution_count": 14,
     "metadata": {},
     "output_type": "execute_result"
    }
   ],
   "source": [
    "session.query(TrackDB).filter(TrackDB.track_id == 5408).all()"
   ]
  },
  {
   "cell_type": "code",
   "execution_count": 51,
   "metadata": {},
   "outputs": [
    {
     "data": {
      "text/plain": [
       "[1001100 from frame 0 with track_id 5408 at (2200,1983),\n",
       " 2001162 from frame 1 with track_id 5408 at (2202,1987),\n",
       " 3001219 from frame 2 with track_id 5408 at (2201,1989),\n",
       " 4001189 from frame 3 with track_id 5408 at (2203,1991),\n",
       " 5001220 from frame 4 with track_id 5408 at (2200,1990),\n",
       " 6001206 from frame 5 with track_id 5408 at (2204,1993),\n",
       " 7001265 from frame 6 with track_id 5408 at (2204,1991),\n",
       " 8001286 from frame 7 with track_id 5408 at (2207,1993),\n",
       " 9001298 from frame 8 with track_id 5408 at (2206,1993),\n",
       " 10001355 from frame 9 with track_id 5408 at (2203,1992),\n",
       " 11001359 from frame 10 with track_id 5408 at (2207,1991),\n",
       " 12001384 from frame 11 with track_id 5408 at (2209,1991),\n",
       " 13001475 from frame 12 with track_id 5408 at (2208,1994),\n",
       " 14001459 from frame 13 with track_id 5408 at (2211,1989),\n",
       " 15001464 from frame 14 with track_id 5408 at (2209,1991),\n",
       " 16001459 from frame 15 with track_id 5408 at (2210,1995),\n",
       " 17001509 from frame 16 with track_id 5408 at (2208,1995),\n",
       " 18001468 from frame 17 with track_id 5408 at (2203,1994),\n",
       " 19001550 from frame 18 with track_id 5408 at (2209,1991),\n",
       " 20001555 from frame 19 with track_id 5408 at (2204,1993),\n",
       " 21001547 from frame 20 with track_id 5408 at (2205,1991),\n",
       " 22001636 from frame 21 with track_id 5408 at (2204,1990),\n",
       " 23001694 from frame 22 with track_id 5408 at (2205,1986),\n",
       " 24001720 from frame 23 with track_id 5408 at (2205,1986),\n",
       " 25001745 from frame 24 with track_id 5408 at (2203,1991),\n",
       " 26001799 from frame 25 with track_id 5408 at (2198,1991),\n",
       " 27001862 from frame 26 with track_id 5408 at (2204,1991),\n",
       " 28001881 from frame 27 with track_id 5408 at (2207,1991),\n",
       " 29001847 from frame 28 with track_id 5408 at (2208,1990),\n",
       " 30001954 from frame 29 with track_id 5408 at (2209,1991),\n",
       " 31001965 from frame 30 with track_id 5408 at (2209,1993),\n",
       " 32001995 from frame 31 with track_id 5408 at (2212,1991),\n",
       " 33002001 from frame 32 with track_id 5408 at (2212,1988),\n",
       " 34002108 from frame 33 with track_id 5408 at (2210,1990),\n",
       " 35002058 from frame 34 with track_id 5408 at (2210,1994),\n",
       " 36002076 from frame 35 with track_id 5408 at (2207,1994),\n",
       " 37002114 from frame 36 with track_id 5408 at (2207,1998),\n",
       " 38002158 from frame 37 with track_id 5408 at (2205,1996),\n",
       " 39002145 from frame 38 with track_id 5408 at (2207,1998),\n",
       " 40002188 from frame 39 with track_id 5408 at (2209,2003),\n",
       " 41002156 from frame 40 with track_id 5408 at (2210,2007),\n",
       " 42002165 from frame 41 with track_id 5408 at (2206,2009),\n",
       " 43002238 from frame 42 with track_id 5408 at (2203,2011),\n",
       " 44002257 from frame 43 with track_id 5408 at (2204,2011),\n",
       " 45002225 from frame 44 with track_id 5408 at (2203,2013),\n",
       " 46002231 from frame 45 with track_id 5408 at (2203,2012),\n",
       " 47002282 from frame 46 with track_id 5408 at (2201,2012),\n",
       " 48002294 from frame 47 with track_id 5408 at (2203,2015),\n",
       " 49002348 from frame 48 with track_id 5408 at (2210,2016),\n",
       " 50002376 from frame 49 with track_id 5408 at (2209,2015),\n",
       " 51002384 from frame 50 with track_id 5408 at (2206,2022),\n",
       " 52002403 from frame 51 with track_id 5408 at (2207,2019),\n",
       " 53002443 from frame 52 with track_id 5408 at (2214,2014),\n",
       " 54002458 from frame 53 with track_id 5408 at (2227,2011),\n",
       " 55002494 from frame 54 with track_id 5408 at (2235,2007),\n",
       " 56002506 from frame 55 with track_id 5408 at (2233,2001),\n",
       " 57002464 from frame 56 with track_id 5408 at (2214,1999)]"
      ]
     },
     "execution_count": 51,
     "metadata": {},
     "output_type": "execute_result"
    }
   ],
   "source": [
    "query = (session.query(CellDB)\n",
    "            .filter(CellDB.track_id == 5408)\n",
    "            .all()\n",
    "        )\n",
    "query"
   ]
  },
  {
   "cell_type": "code",
   "execution_count": 52,
   "metadata": {},
   "outputs": [],
   "source": [
    "row_start = min(cell.bbox_0 for cell in query)\n",
    "row_stop = max(cell.bbox_2 for cell in query)\n",
    "column_start = min(cell.bbox_1 for cell in query)\n",
    "column_stop = max(cell.bbox_3 for cell in query)\n",
    "t_start = min(cell.t for cell in query)\n",
    "t_stop = max(cell.t for cell in query)\n",
    "\n",
    "track_bbox = (t_start, t_stop, row_start, row_stop, column_start, column_stop)"
   ]
  },
  {
   "cell_type": "code",
   "execution_count": 75,
   "metadata": {},
   "outputs": [
    {
     "data": {
      "text/plain": [
       "(0, 56, 2184, 2249, 1971, 2038)"
      ]
     },
     "execution_count": 75,
     "metadata": {},
     "output_type": "execute_result"
    }
   ],
   "source": [
    "track_bbox"
   ]
  },
  {
   "cell_type": "code",
   "execution_count": 95,
   "metadata": {},
   "outputs": [],
   "source": [
    "active_label = 6\n",
    "new_track = 5408\n",
    "\n",
    "labels = viewer.layers[\"Labels\"].data\n",
    "\n",
    "sel = labels[\n",
    "    track_bbox[0] : track_bbox[1] + 1,\n",
    "    track_bbox[2] : track_bbox[3],\n",
    "    track_bbox[4] : track_bbox[5],\n",
    "]\n",
    "\n",
    "sel = sel.read().result()\n",
    "sel[sel == active_label] = new_track\n",
    "\n",
    "labels[\n",
    "    track_bbox[0] : track_bbox[1] + 1,\n",
    "    track_bbox[2] : track_bbox[3],\n",
    "    track_bbox[4] : track_bbox[5],\n",
    "] = sel\n",
    "\n",
    "viewer.layers['Labels'].refresh()"
   ]
  },
  {
   "cell_type": "code",
   "execution_count": 78,
   "metadata": {},
   "outputs": [
    {
     "data": {
      "text/plain": [
       "(57, 65, 67)"
      ]
     },
     "execution_count": 78,
     "metadata": {},
     "output_type": "execute_result"
    }
   ],
   "source": [
    "labels = viewer.layers[\"Labels\"].data\n",
    "\n",
    "sel = labels[\n",
    "    track_bbox[0] : track_bbox[1] + 1,\n",
    "    track_bbox[2] : track_bbox[3],\n",
    "    track_bbox[4] : track_bbox[5],\n",
    "]\n",
    "\n",
    "sel.shape"
   ]
  },
  {
   "cell_type": "code",
   "execution_count": 79,
   "metadata": {},
   "outputs": [
    {
     "data": {
      "text/plain": [
       "5408"
      ]
     },
     "execution_count": 79,
     "metadata": {},
     "output_type": "execute_result"
    }
   ],
   "source": [
    "sel.read().result()[0,10,10]"
   ]
  },
  {
   "cell_type": "code",
   "execution_count": 73,
   "metadata": {},
   "outputs": [
    {
     "data": {
      "text/plain": [
       "<matplotlib.image.AxesImage at 0x1ac44915ab0>"
      ]
     },
     "execution_count": 73,
     "metadata": {},
     "output_type": "execute_result"
    },
    {
     "data": {
      "image/png": "[encoded data removed]",
      "text/plain": [
       "<Figure size 640x480 with 1 Axes>"
      ]
     },
     "metadata": {},
     "output_type": "display_data"
    }
   ],
   "source": [
    "plt.imshow(sel.read().result()[0,:,:])"
   ]
  },
  {
   "cell_type": "code",
   "execution_count": 45,
   "metadata": {},
   "outputs": [],
   "source": [
    "viewer.layers[\"Labels\"].data[0,0,0] = 4000"
   ]
  },
  {
   "cell_type": "code",
   "execution_count": 43,
   "metadata": {},
   "outputs": [
    {
     "data": {
      "text/plain": [
       "array(3000)"
      ]
     },
     "execution_count": 43,
     "metadata": {},
     "output_type": "execute_result"
    }
   ],
   "source": [
    "viewer.layers[\"Labels\"].data[0,0,0].read().result()"
   ]
  },
  {
   "cell_type": "code",
   "execution_count": 26,
   "metadata": {},
   "outputs": [
    {
     "ename": "AttributeError",
     "evalue": "'tensorstore.TensorStore' object has no attribute 'commit'",
     "output_type": "error",
     "traceback": [
      "\u001b[1;31m---------------------------------------------------------------------------\u001b[0m",
      "\u001b[1;31mAttributeError\u001b[0m                            Traceback (most recent call last)",
      "Cell \u001b[1;32mIn[26], line 1\u001b[0m\n\u001b[1;32m----> 1\u001b[0m \u001b[38;5;28;01mawait\u001b[39;00m viewer\u001b[38;5;241m.\u001b[39mlayers[\u001b[38;5;124m\"\u001b[39m\u001b[38;5;124mLabels\u001b[39m\u001b[38;5;124m\"\u001b[39m]\u001b[38;5;241m.\u001b[39mdata\u001b[38;5;241m.\u001b[39mcommit()\n",
      "\u001b[1;31mAttributeError\u001b[0m: 'tensorstore.TensorStore' object has no attribute 'commit'"
     ]
    }
   ],
   "source": [
    "await viewer.layers[\"Labels\"].data.commit()"
   ]
  },
  {
   "cell_type": "code",
   "execution_count": 25,
   "metadata": {},
   "outputs": [
    {
     "data": {
      "text/plain": [
       "TensorStore({\n",
       "  'context': {\n",
       "    'cache_pool': {},\n",
       "    'data_copy_concurrency': {},\n",
       "    'file_io_concurrency': {},\n",
       "    'file_io_sync': True,\n",
       "  },\n",
       "  'driver': 'zarr',\n",
       "  'dtype': 'int32',\n",
       "  'kvstore': {\n",
       "    'driver': 'file',\n",
       "    'path': 'D:\\\\kasia\\\\tracking\\\\E6_exp\\\\double_segmentation_ultrack\\\\labels_double_1024.zarr/',\n",
       "  },\n",
       "  'metadata': {\n",
       "    'chunks': [1, 1024, 1024],\n",
       "    'compressor': {\n",
       "      'blocksize': 0,\n",
       "      'clevel': 5,\n",
       "      'cname': 'lz4',\n",
       "      'id': 'blosc',\n",
       "      'shuffle': 1,\n",
       "    },\n",
       "    'dimension_separator': '/',\n",
       "    'dtype': '<i4',\n",
       "    'fill_value': None,\n",
       "    'filters': None,\n",
       "    'order': 'C',\n",
       "    'shape': [240, 8395, 8400],\n",
       "    'zarr_format': 2,\n",
       "  },\n",
       "  'transform': {\n",
       "    'input_exclusive_max': [1, 5854, 4832],\n",
       "    'input_inclusive_min': [0, 5809, 4807],\n",
       "  },\n",
       "})"
      ]
     },
     "execution_count": 25,
     "metadata": {},
     "output_type": "execute_result"
    }
   ],
   "source": [
    "labels[\n",
    "    track_bbox[0] : track_bbox[1] + 1,\n",
    "    track_bbox[2] : track_bbox[3],\n",
    "    track_bbox[4] : track_bbox[5],\n",
    "]"
   ]
  },
  {
   "cell_type": "code",
   "execution_count": 23,
   "metadata": {},
   "outputs": [
    {
     "data": {
      "text/plain": [
       "array([[[    0,     0,     0, ...,     0,     0,     0],\n",
       "        [    0,     0,     0, ...,     0,     0,     0],\n",
       "        [    0,     0,     0, ...,     0,     0,     0],\n",
       "        ...,\n",
       "        [    0, 56303, 56303, ...,     0,     0,     0],\n",
       "        [    0,     0,     0, ...,     0,     0,     0],\n",
       "        [    0,     0,     0, ...,     0,     0,     0]]])"
      ]
     },
     "execution_count": 23,
     "metadata": {},
     "output_type": "execute_result"
    }
   ],
   "source": [
    "sel"
   ]
  },
  {
   "cell_type": "code",
   "execution_count": null,
   "metadata": {},
   "outputs": [],
   "source": [
    "    if type(viewer.layers[\"Labels\"].data) == ts.TensorStore:\n",
    "        sel = sel.read().result()"
   ]
  },
  {
   "cell_type": "code",
   "execution_count": 11,
   "metadata": {},
   "outputs": [
    {
     "data": {
      "text/plain": [
       "<matplotlib.image.AxesImage at 0x29b85b17e80>"
      ]
     },
     "execution_count": 11,
     "metadata": {},
     "output_type": "execute_result"
    },
    {
     "data": {
      "image/png": "[encoded data removed]",
      "text/plain": [
       "<Figure size 640x480 with 1 Axes>"
      ]
     },
     "metadata": {},
     "output_type": "display_data"
    }
   ],
   "source": [
    "cell = cell_list[0]\n",
    "\n",
    "plt.imshow(cell.mask)\n"
   ]
  },
  {
   "cell_type": "code",
   "execution_count": 12,
   "metadata": {},
   "outputs": [
    {
     "data": {
      "text/plain": [
       "{'area': 1245,\n",
       " 'ch0_nuc': 1687.6963855421686,\n",
       " 'ch0_cyto': 196.18211382113822,\n",
       " 'ch1_nuc': 540.2040160642571,\n",
       " 'ch1_cyto': 172.7479674796748}"
      ]
     },
     "execution_count": 12,
     "metadata": {},
     "output_type": "execute_result"
    }
   ],
   "source": [
    "cell.signals"
   ]
  },
  {
   "cell_type": "code",
   "execution_count": 14,
   "metadata": {},
   "outputs": [],
   "source": [
    "viewer.layers[\"Labels\"].selected_label = -1\n",
    "#viewer.layers[\"Labels\"].selected_label = 41577"
   ]
  },
  {
   "cell_type": "code",
   "execution_count": 18,
   "metadata": {},
   "outputs": [],
   "source": [
    "from tracks_interactions.db.db_functions import add_CellDB_to_DB, calculate_cell_signals\n",
    "from sqlalchemy import inspect"
   ]
  },
  {
   "cell_type": "code",
   "execution_count": 20,
   "metadata": {},
   "outputs": [],
   "source": [
    "# prepare tags \n",
    "tags = cell.tags\n",
    "if tags is not None:\n",
    "    tags['modified'] = 'True'\n",
    "else:\n",
    "    tags = {'modified':'True'}\n",
    "\n",
    "#  create CellDB\n",
    "new_cell = add_CellDB_to_DB(viewer)\n",
    "new_cell.tags = tags\n",
    "\n",
    "session.delete(cell)\n",
    "session.add(new_cell)\n",
    "session.commit()"
   ]
  },
  {
   "cell_type": "code",
   "execution_count": 27,
   "metadata": {},
   "outputs": [
    {
     "ename": "ValueError",
     "evalue": "operands could not be broadcast together with shapes (86,190) (33,51) ",
     "output_type": "error",
     "traceback": [
      "\u001b[1;31m---------------------------------------------------------------------------\u001b[0m",
      "\u001b[1;31mValueError\u001b[0m                                Traceback (most recent call last)",
      "Cell \u001b[1;32mIn[27], line 1\u001b[0m\n\u001b[1;32m----> 1\u001b[0m \u001b[43msession\u001b[49m\u001b[38;5;241;43m.\u001b[39;49m\u001b[43mcommit\u001b[49m\u001b[43m(\u001b[49m\u001b[43m)\u001b[49m\n",
      "File \u001b[1;32mc:\\Users\\kmk280\\.conda\\envs\\track-base-env\\lib\\site-packages\\sqlalchemy\\orm\\session.py:1972\u001b[0m, in \u001b[0;36mSession.commit\u001b[1;34m(self)\u001b[0m\n\u001b[0;32m   1969\u001b[0m \u001b[38;5;28;01mif\u001b[39;00m trans \u001b[38;5;129;01mis\u001b[39;00m \u001b[38;5;28;01mNone\u001b[39;00m:\n\u001b[0;32m   1970\u001b[0m     trans \u001b[38;5;241m=\u001b[39m \u001b[38;5;28mself\u001b[39m\u001b[38;5;241m.\u001b[39m_autobegin_t()\n\u001b[1;32m-> 1972\u001b[0m \u001b[43mtrans\u001b[49m\u001b[38;5;241;43m.\u001b[39;49m\u001b[43mcommit\u001b[49m\u001b[43m(\u001b[49m\u001b[43m_to_root\u001b[49m\u001b[38;5;241;43m=\u001b[39;49m\u001b[38;5;28;43;01mTrue\u001b[39;49;00m\u001b[43m)\u001b[49m\n",
      "File \u001b[1;32m<string>:2\u001b[0m, in \u001b[0;36mcommit\u001b[1;34m(self, _to_root)\u001b[0m\n",
      "File \u001b[1;32mc:\\Users\\kmk280\\.conda\\envs\\track-base-env\\lib\\site-packages\\sqlalchemy\\orm\\state_changes.py:139\u001b[0m, in \u001b[0;36m_StateChange.declare_states.<locals>._go\u001b[1;34m(fn, self, *arg, **kw)\u001b[0m\n\u001b[0;32m    137\u001b[0m \u001b[38;5;28mself\u001b[39m\u001b[38;5;241m.\u001b[39m_next_state \u001b[38;5;241m=\u001b[39m _StateChangeStates\u001b[38;5;241m.\u001b[39mCHANGE_IN_PROGRESS\n\u001b[0;32m    138\u001b[0m \u001b[38;5;28;01mtry\u001b[39;00m:\n\u001b[1;32m--> 139\u001b[0m     ret_value \u001b[38;5;241m=\u001b[39m fn(\u001b[38;5;28mself\u001b[39m, \u001b[38;5;241m*\u001b[39marg, \u001b[38;5;241m*\u001b[39m\u001b[38;5;241m*\u001b[39mkw)\n\u001b[0;32m    140\u001b[0m \u001b[38;5;28;01mexcept\u001b[39;00m:\n\u001b[0;32m    141\u001b[0m     \u001b[38;5;28;01mraise\u001b[39;00m\n",
      "File \u001b[1;32mc:\\Users\\kmk280\\.conda\\envs\\track-base-env\\lib\\site-packages\\sqlalchemy\\orm\\session.py:1257\u001b[0m, in \u001b[0;36mSessionTransaction.commit\u001b[1;34m(self, _to_root)\u001b[0m\n\u001b[0;32m   1255\u001b[0m \u001b[38;5;28;01mif\u001b[39;00m \u001b[38;5;28mself\u001b[39m\u001b[38;5;241m.\u001b[39m_state \u001b[38;5;129;01mis\u001b[39;00m \u001b[38;5;129;01mnot\u001b[39;00m SessionTransactionState\u001b[38;5;241m.\u001b[39mPREPARED:\n\u001b[0;32m   1256\u001b[0m     \u001b[38;5;28;01mwith\u001b[39;00m \u001b[38;5;28mself\u001b[39m\u001b[38;5;241m.\u001b[39m_expect_state(SessionTransactionState\u001b[38;5;241m.\u001b[39mPREPARED):\n\u001b[1;32m-> 1257\u001b[0m         \u001b[38;5;28;43mself\u001b[39;49m\u001b[38;5;241;43m.\u001b[39;49m\u001b[43m_prepare_impl\u001b[49m\u001b[43m(\u001b[49m\u001b[43m)\u001b[49m\n\u001b[0;32m   1259\u001b[0m \u001b[38;5;28;01mif\u001b[39;00m \u001b[38;5;28mself\u001b[39m\u001b[38;5;241m.\u001b[39m_parent \u001b[38;5;129;01mis\u001b[39;00m \u001b[38;5;28;01mNone\u001b[39;00m \u001b[38;5;129;01mor\u001b[39;00m \u001b[38;5;28mself\u001b[39m\u001b[38;5;241m.\u001b[39mnested:\n\u001b[0;32m   1260\u001b[0m     \u001b[38;5;28;01mfor\u001b[39;00m conn, trans, should_commit, autoclose \u001b[38;5;129;01min\u001b[39;00m \u001b[38;5;28mset\u001b[39m(\n\u001b[0;32m   1261\u001b[0m         \u001b[38;5;28mself\u001b[39m\u001b[38;5;241m.\u001b[39m_connections\u001b[38;5;241m.\u001b[39mvalues()\n\u001b[0;32m   1262\u001b[0m     ):\n",
      "File \u001b[1;32m<string>:2\u001b[0m, in \u001b[0;36m_prepare_impl\u001b[1;34m(self)\u001b[0m\n",
      "File \u001b[1;32mc:\\Users\\kmk280\\.conda\\envs\\track-base-env\\lib\\site-packages\\sqlalchemy\\orm\\state_changes.py:139\u001b[0m, in \u001b[0;36m_StateChange.declare_states.<locals>._go\u001b[1;34m(fn, self, *arg, **kw)\u001b[0m\n\u001b[0;32m    137\u001b[0m \u001b[38;5;28mself\u001b[39m\u001b[38;5;241m.\u001b[39m_next_state \u001b[38;5;241m=\u001b[39m _StateChangeStates\u001b[38;5;241m.\u001b[39mCHANGE_IN_PROGRESS\n\u001b[0;32m    138\u001b[0m \u001b[38;5;28;01mtry\u001b[39;00m:\n\u001b[1;32m--> 139\u001b[0m     ret_value \u001b[38;5;241m=\u001b[39m fn(\u001b[38;5;28mself\u001b[39m, \u001b[38;5;241m*\u001b[39marg, \u001b[38;5;241m*\u001b[39m\u001b[38;5;241m*\u001b[39mkw)\n\u001b[0;32m    140\u001b[0m \u001b[38;5;28;01mexcept\u001b[39;00m:\n\u001b[0;32m    141\u001b[0m     \u001b[38;5;28;01mraise\u001b[39;00m\n",
      "File \u001b[1;32mc:\\Users\\kmk280\\.conda\\envs\\track-base-env\\lib\\site-packages\\sqlalchemy\\orm\\session.py:1232\u001b[0m, in \u001b[0;36mSessionTransaction._prepare_impl\u001b[1;34m(self)\u001b[0m\n\u001b[0;32m   1230\u001b[0m     \u001b[38;5;28;01mif\u001b[39;00m \u001b[38;5;28mself\u001b[39m\u001b[38;5;241m.\u001b[39msession\u001b[38;5;241m.\u001b[39m_is_clean():\n\u001b[0;32m   1231\u001b[0m         \u001b[38;5;28;01mbreak\u001b[39;00m\n\u001b[1;32m-> 1232\u001b[0m     \u001b[38;5;28;43mself\u001b[39;49m\u001b[38;5;241;43m.\u001b[39;49m\u001b[43msession\u001b[49m\u001b[38;5;241;43m.\u001b[39;49m\u001b[43mflush\u001b[49m\u001b[43m(\u001b[49m\u001b[43m)\u001b[49m\n\u001b[0;32m   1233\u001b[0m \u001b[38;5;28;01melse\u001b[39;00m:\n\u001b[0;32m   1234\u001b[0m     \u001b[38;5;28;01mraise\u001b[39;00m exc\u001b[38;5;241m.\u001b[39mFlushError(\n\u001b[0;32m   1235\u001b[0m         \u001b[38;5;124m\"\u001b[39m\u001b[38;5;124mOver 100 subsequent flushes have occurred within \u001b[39m\u001b[38;5;124m\"\u001b[39m\n\u001b[0;32m   1236\u001b[0m         \u001b[38;5;124m\"\u001b[39m\u001b[38;5;124msession.commit() - is an after_flush() hook \u001b[39m\u001b[38;5;124m\"\u001b[39m\n\u001b[0;32m   1237\u001b[0m         \u001b[38;5;124m\"\u001b[39m\u001b[38;5;124mcreating new objects?\u001b[39m\u001b[38;5;124m\"\u001b[39m\n\u001b[0;32m   1238\u001b[0m     )\n",
      "File \u001b[1;32mc:\\Users\\kmk280\\.conda\\envs\\track-base-env\\lib\\site-packages\\sqlalchemy\\orm\\session.py:4296\u001b[0m, in \u001b[0;36mSession.flush\u001b[1;34m(self, objects)\u001b[0m\n\u001b[0;32m   4294\u001b[0m \u001b[38;5;28;01mtry\u001b[39;00m:\n\u001b[0;32m   4295\u001b[0m     \u001b[38;5;28mself\u001b[39m\u001b[38;5;241m.\u001b[39m_flushing \u001b[38;5;241m=\u001b[39m \u001b[38;5;28;01mTrue\u001b[39;00m\n\u001b[1;32m-> 4296\u001b[0m     \u001b[38;5;28;43mself\u001b[39;49m\u001b[38;5;241;43m.\u001b[39;49m\u001b[43m_flush\u001b[49m\u001b[43m(\u001b[49m\u001b[43mobjects\u001b[49m\u001b[43m)\u001b[49m\n\u001b[0;32m   4297\u001b[0m \u001b[38;5;28;01mfinally\u001b[39;00m:\n\u001b[0;32m   4298\u001b[0m     \u001b[38;5;28mself\u001b[39m\u001b[38;5;241m.\u001b[39m_flushing \u001b[38;5;241m=\u001b[39m \u001b[38;5;28;01mFalse\u001b[39;00m\n",
      "File \u001b[1;32mc:\\Users\\kmk280\\.conda\\envs\\track-base-env\\lib\\site-packages\\sqlalchemy\\orm\\session.py:4431\u001b[0m, in \u001b[0;36mSession._flush\u001b[1;34m(self, objects)\u001b[0m\n\u001b[0;32m   4428\u001b[0m     transaction\u001b[38;5;241m.\u001b[39mcommit()\n\u001b[0;32m   4430\u001b[0m \u001b[38;5;28;01mexcept\u001b[39;00m:\n\u001b[1;32m-> 4431\u001b[0m     \u001b[38;5;28;01mwith\u001b[39;00m util\u001b[38;5;241m.\u001b[39msafe_reraise():\n\u001b[0;32m   4432\u001b[0m         transaction\u001b[38;5;241m.\u001b[39mrollback(_capture_exception\u001b[38;5;241m=\u001b[39m\u001b[38;5;28;01mTrue\u001b[39;00m)\n",
      "File \u001b[1;32mc:\\Users\\kmk280\\.conda\\envs\\track-base-env\\lib\\site-packages\\sqlalchemy\\util\\langhelpers.py:146\u001b[0m, in \u001b[0;36msafe_reraise.__exit__\u001b[1;34m(self, type_, value, traceback)\u001b[0m\n\u001b[0;32m    144\u001b[0m     \u001b[38;5;28;01massert\u001b[39;00m exc_value \u001b[38;5;129;01mis\u001b[39;00m \u001b[38;5;129;01mnot\u001b[39;00m \u001b[38;5;28;01mNone\u001b[39;00m\n\u001b[0;32m    145\u001b[0m     \u001b[38;5;28mself\u001b[39m\u001b[38;5;241m.\u001b[39m_exc_info \u001b[38;5;241m=\u001b[39m \u001b[38;5;28;01mNone\u001b[39;00m  \u001b[38;5;66;03m# remove potential circular references\u001b[39;00m\n\u001b[1;32m--> 146\u001b[0m     \u001b[38;5;28;01mraise\u001b[39;00m exc_value\u001b[38;5;241m.\u001b[39mwith_traceback(exc_tb)\n\u001b[0;32m    147\u001b[0m \u001b[38;5;28;01melse\u001b[39;00m:\n\u001b[0;32m    148\u001b[0m     \u001b[38;5;28mself\u001b[39m\u001b[38;5;241m.\u001b[39m_exc_info \u001b[38;5;241m=\u001b[39m \u001b[38;5;28;01mNone\u001b[39;00m  \u001b[38;5;66;03m# remove potential circular references\u001b[39;00m\n",
      "File \u001b[1;32mc:\\Users\\kmk280\\.conda\\envs\\track-base-env\\lib\\site-packages\\sqlalchemy\\orm\\session.py:4392\u001b[0m, in \u001b[0;36mSession._flush\u001b[1;34m(self, objects)\u001b[0m\n\u001b[0;32m   4390\u001b[0m \u001b[38;5;28mself\u001b[39m\u001b[38;5;241m.\u001b[39m_warn_on_events \u001b[38;5;241m=\u001b[39m \u001b[38;5;28;01mTrue\u001b[39;00m\n\u001b[0;32m   4391\u001b[0m \u001b[38;5;28;01mtry\u001b[39;00m:\n\u001b[1;32m-> 4392\u001b[0m     \u001b[43mflush_context\u001b[49m\u001b[38;5;241;43m.\u001b[39;49m\u001b[43mexecute\u001b[49m\u001b[43m(\u001b[49m\u001b[43m)\u001b[49m\n\u001b[0;32m   4393\u001b[0m \u001b[38;5;28;01mfinally\u001b[39;00m:\n\u001b[0;32m   4394\u001b[0m     \u001b[38;5;28mself\u001b[39m\u001b[38;5;241m.\u001b[39m_warn_on_events \u001b[38;5;241m=\u001b[39m \u001b[38;5;28;01mFalse\u001b[39;00m\n",
      "File \u001b[1;32mc:\\Users\\kmk280\\.conda\\envs\\track-base-env\\lib\\site-packages\\sqlalchemy\\orm\\unitofwork.py:466\u001b[0m, in \u001b[0;36mUOWTransaction.execute\u001b[1;34m(self)\u001b[0m\n\u001b[0;32m    464\u001b[0m \u001b[38;5;28;01melse\u001b[39;00m:\n\u001b[0;32m    465\u001b[0m     \u001b[38;5;28;01mfor\u001b[39;00m rec \u001b[38;5;129;01min\u001b[39;00m topological\u001b[38;5;241m.\u001b[39msort(\u001b[38;5;28mself\u001b[39m\u001b[38;5;241m.\u001b[39mdependencies, postsort_actions):\n\u001b[1;32m--> 466\u001b[0m         \u001b[43mrec\u001b[49m\u001b[38;5;241;43m.\u001b[39;49m\u001b[43mexecute\u001b[49m\u001b[43m(\u001b[49m\u001b[38;5;28;43mself\u001b[39;49m\u001b[43m)\u001b[49m\n",
      "File \u001b[1;32mc:\\Users\\kmk280\\.conda\\envs\\track-base-env\\lib\\site-packages\\sqlalchemy\\orm\\unitofwork.py:642\u001b[0m, in \u001b[0;36mSaveUpdateAll.execute\u001b[1;34m(self, uow)\u001b[0m\n\u001b[0;32m    640\u001b[0m \u001b[38;5;129m@util\u001b[39m\u001b[38;5;241m.\u001b[39mpreload_module(\u001b[38;5;124m\"\u001b[39m\u001b[38;5;124msqlalchemy.orm.persistence\u001b[39m\u001b[38;5;124m\"\u001b[39m)\n\u001b[0;32m    641\u001b[0m \u001b[38;5;28;01mdef\u001b[39;00m \u001b[38;5;21mexecute\u001b[39m(\u001b[38;5;28mself\u001b[39m, uow):\n\u001b[1;32m--> 642\u001b[0m     \u001b[43mutil\u001b[49m\u001b[38;5;241;43m.\u001b[39;49m\u001b[43mpreloaded\u001b[49m\u001b[38;5;241;43m.\u001b[39;49m\u001b[43morm_persistence\u001b[49m\u001b[38;5;241;43m.\u001b[39;49m\u001b[43msave_obj\u001b[49m\u001b[43m(\u001b[49m\n\u001b[0;32m    643\u001b[0m \u001b[43m        \u001b[49m\u001b[38;5;28;43mself\u001b[39;49m\u001b[38;5;241;43m.\u001b[39;49m\u001b[43mmapper\u001b[49m\u001b[43m,\u001b[49m\n\u001b[0;32m    644\u001b[0m \u001b[43m        \u001b[49m\u001b[43muow\u001b[49m\u001b[38;5;241;43m.\u001b[39;49m\u001b[43mstates_for_mapper_hierarchy\u001b[49m\u001b[43m(\u001b[49m\u001b[38;5;28;43mself\u001b[39;49m\u001b[38;5;241;43m.\u001b[39;49m\u001b[43mmapper\u001b[49m\u001b[43m,\u001b[49m\u001b[43m \u001b[49m\u001b[38;5;28;43;01mFalse\u001b[39;49;00m\u001b[43m,\u001b[49m\u001b[43m \u001b[49m\u001b[38;5;28;43;01mFalse\u001b[39;49;00m\u001b[43m)\u001b[49m\u001b[43m,\u001b[49m\n\u001b[0;32m    645\u001b[0m \u001b[43m        \u001b[49m\u001b[43muow\u001b[49m\u001b[43m,\u001b[49m\n\u001b[0;32m    646\u001b[0m \u001b[43m    \u001b[49m\u001b[43m)\u001b[49m\n",
      "File \u001b[1;32mc:\\Users\\kmk280\\.conda\\envs\\track-base-env\\lib\\site-packages\\sqlalchemy\\orm\\persistence.py:85\u001b[0m, in \u001b[0;36msave_obj\u001b[1;34m(base_mapper, states, uowtransaction, single)\u001b[0m\n\u001b[0;32m     79\u001b[0m     insert \u001b[38;5;241m=\u001b[39m _collect_insert_commands(table, states_to_insert)\n\u001b[0;32m     81\u001b[0m     update \u001b[38;5;241m=\u001b[39m _collect_update_commands(\n\u001b[0;32m     82\u001b[0m         uowtransaction, table, states_to_update\n\u001b[0;32m     83\u001b[0m     )\n\u001b[1;32m---> 85\u001b[0m     \u001b[43m_emit_update_statements\u001b[49m\u001b[43m(\u001b[49m\n\u001b[0;32m     86\u001b[0m \u001b[43m        \u001b[49m\u001b[43mbase_mapper\u001b[49m\u001b[43m,\u001b[49m\n\u001b[0;32m     87\u001b[0m \u001b[43m        \u001b[49m\u001b[43muowtransaction\u001b[49m\u001b[43m,\u001b[49m\n\u001b[0;32m     88\u001b[0m \u001b[43m        \u001b[49m\u001b[43mmapper\u001b[49m\u001b[43m,\u001b[49m\n\u001b[0;32m     89\u001b[0m \u001b[43m        \u001b[49m\u001b[43mtable\u001b[49m\u001b[43m,\u001b[49m\n\u001b[0;32m     90\u001b[0m \u001b[43m        \u001b[49m\u001b[43mupdate\u001b[49m\u001b[43m,\u001b[49m\n\u001b[0;32m     91\u001b[0m \u001b[43m    \u001b[49m\u001b[43m)\u001b[49m\n\u001b[0;32m     93\u001b[0m     _emit_insert_statements(\n\u001b[0;32m     94\u001b[0m         base_mapper,\n\u001b[0;32m     95\u001b[0m         uowtransaction,\n\u001b[1;32m   (...)\u001b[0m\n\u001b[0;32m     98\u001b[0m         insert,\n\u001b[0;32m     99\u001b[0m     )\n\u001b[0;32m    101\u001b[0m _finalize_insert_update_commands(\n\u001b[0;32m    102\u001b[0m     base_mapper,\n\u001b[0;32m    103\u001b[0m     uowtransaction,\n\u001b[1;32m   (...)\u001b[0m\n\u001b[0;32m    119\u001b[0m     ),\n\u001b[0;32m    120\u001b[0m )\n",
      "File \u001b[1;32mc:\\Users\\kmk280\\.conda\\envs\\track-base-env\\lib\\site-packages\\sqlalchemy\\orm\\persistence.py:778\u001b[0m, in \u001b[0;36m_emit_update_statements\u001b[1;34m(base_mapper, uowtransaction, mapper, table, update, bookkeeping, use_orm_update_stmt, enable_check_rowcount)\u001b[0m\n\u001b[0;32m    775\u001b[0m \u001b[38;5;28;01melse\u001b[39;00m:\n\u001b[0;32m    776\u001b[0m     cached_stmt \u001b[38;5;241m=\u001b[39m base_mapper\u001b[38;5;241m.\u001b[39m_memo((\u001b[38;5;124m\"\u001b[39m\u001b[38;5;124mupdate\u001b[39m\u001b[38;5;124m\"\u001b[39m, table), update_stmt)\n\u001b[1;32m--> 778\u001b[0m \u001b[38;5;28;01mfor\u001b[39;00m (\n\u001b[0;32m    779\u001b[0m     (connection, paramkeys, hasvalue, has_all_defaults, has_all_pks),\n\u001b[0;32m    780\u001b[0m     records,\n\u001b[0;32m    781\u001b[0m ) \u001b[38;5;129;01min\u001b[39;00m groupby(\n\u001b[0;32m    782\u001b[0m     update,\n\u001b[0;32m    783\u001b[0m     \u001b[38;5;28;01mlambda\u001b[39;00m rec: (\n\u001b[0;32m    784\u001b[0m         rec[\u001b[38;5;241m4\u001b[39m],  \u001b[38;5;66;03m# connection\u001b[39;00m\n\u001b[0;32m    785\u001b[0m         \u001b[38;5;28mset\u001b[39m(rec[\u001b[38;5;241m2\u001b[39m]),  \u001b[38;5;66;03m# set of parameter keys\u001b[39;00m\n\u001b[0;32m    786\u001b[0m         \u001b[38;5;28mbool\u001b[39m(rec[\u001b[38;5;241m5\u001b[39m]),  \u001b[38;5;66;03m# whether or not we have \"value\" parameters\u001b[39;00m\n\u001b[0;32m    787\u001b[0m         rec[\u001b[38;5;241m6\u001b[39m],  \u001b[38;5;66;03m# has_all_defaults\u001b[39;00m\n\u001b[0;32m    788\u001b[0m         rec[\u001b[38;5;241m7\u001b[39m],  \u001b[38;5;66;03m# has all pks\u001b[39;00m\n\u001b[0;32m    789\u001b[0m     ),\n\u001b[0;32m    790\u001b[0m ):\n\u001b[0;32m    791\u001b[0m     rows \u001b[38;5;241m=\u001b[39m \u001b[38;5;241m0\u001b[39m\n\u001b[0;32m    792\u001b[0m     records \u001b[38;5;241m=\u001b[39m \u001b[38;5;28mlist\u001b[39m(records)\n",
      "File \u001b[1;32mc:\\Users\\kmk280\\.conda\\envs\\track-base-env\\lib\\site-packages\\sqlalchemy\\orm\\persistence.py:496\u001b[0m, in \u001b[0;36m_collect_update_commands\u001b[1;34m(uowtransaction, table, states_to_update, bulk, use_orm_update_stmt, include_bulk_keys)\u001b[0m\n\u001b[0;32m    488\u001b[0m         value_params[col] \u001b[38;5;241m=\u001b[39m (\n\u001b[0;32m    489\u001b[0m             value\u001b[38;5;241m.\u001b[39m__clause_element__()\n\u001b[0;32m    490\u001b[0m             \u001b[38;5;28;01mif\u001b[39;00m \u001b[38;5;28mhasattr\u001b[39m(value, \u001b[38;5;124m\"\u001b[39m\u001b[38;5;124m__clause_element__\u001b[39m\u001b[38;5;124m\"\u001b[39m)\n\u001b[0;32m    491\u001b[0m             \u001b[38;5;28;01melse\u001b[39;00m value\n\u001b[0;32m    492\u001b[0m         )\n\u001b[0;32m    493\u001b[0m     \u001b[38;5;66;03m# guard against values that generate non-__nonzero__\u001b[39;00m\n\u001b[0;32m    494\u001b[0m     \u001b[38;5;66;03m# objects for __eq__()\u001b[39;00m\n\u001b[0;32m    495\u001b[0m     \u001b[38;5;28;01melif\u001b[39;00m (\n\u001b[1;32m--> 496\u001b[0m         \u001b[43mstate\u001b[49m\u001b[38;5;241;43m.\u001b[39;49m\u001b[43mmanager\u001b[49m\u001b[43m[\u001b[49m\u001b[43mpropkey\u001b[49m\u001b[43m]\u001b[49m\u001b[38;5;241;43m.\u001b[39;49m\u001b[43mimpl\u001b[49m\u001b[38;5;241;43m.\u001b[39;49m\u001b[43mis_equal\u001b[49m\u001b[43m(\u001b[49m\n\u001b[0;32m    497\u001b[0m \u001b[43m            \u001b[49m\u001b[43mvalue\u001b[49m\u001b[43m,\u001b[49m\u001b[43m \u001b[49m\u001b[43mstate\u001b[49m\u001b[38;5;241;43m.\u001b[39;49m\u001b[43mcommitted_state\u001b[49m\u001b[43m[\u001b[49m\u001b[43mpropkey\u001b[49m\u001b[43m]\u001b[49m\n\u001b[0;32m    498\u001b[0m \u001b[43m        \u001b[49m\u001b[43m)\u001b[49m\n\u001b[0;32m    499\u001b[0m         \u001b[38;5;129;01mis\u001b[39;00m \u001b[38;5;129;01mnot\u001b[39;00m \u001b[38;5;28;01mTrue\u001b[39;00m\n\u001b[0;32m    500\u001b[0m     ):\n\u001b[0;32m    501\u001b[0m         params[col\u001b[38;5;241m.\u001b[39mkey] \u001b[38;5;241m=\u001b[39m value\n\u001b[0;32m    503\u001b[0m \u001b[38;5;28;01mif\u001b[39;00m mapper\u001b[38;5;241m.\u001b[39mbase_mapper\u001b[38;5;241m.\u001b[39meager_defaults \u001b[38;5;129;01mis\u001b[39;00m \u001b[38;5;28;01mTrue\u001b[39;00m:\n",
      "File \u001b[1;32mc:\\Users\\kmk280\\.conda\\envs\\track-base-env\\lib\\site-packages\\sqlalchemy\\sql\\sqltypes.py:1847\u001b[0m, in \u001b[0;36mPickleType.compare_values\u001b[1;34m(self, x, y)\u001b[0m\n\u001b[0;32m   1845\u001b[0m     \u001b[38;5;28;01mreturn\u001b[39;00m \u001b[38;5;28mself\u001b[39m\u001b[38;5;241m.\u001b[39mcomparator(x, y)\n\u001b[0;32m   1846\u001b[0m \u001b[38;5;28;01melse\u001b[39;00m:\n\u001b[1;32m-> 1847\u001b[0m     \u001b[38;5;28;01mreturn\u001b[39;00m \u001b[43mx\u001b[49m\u001b[43m \u001b[49m\u001b[38;5;241;43m==\u001b[39;49m\u001b[43m \u001b[49m\u001b[43my\u001b[49m\n",
      "\u001b[1;31mValueError\u001b[0m: operands could not be broadcast together with shapes (86,190) (33,51) "
     ]
    }
   ],
   "source": [
    "session.commit()"
   ]
  },
  {
   "cell_type": "code",
   "execution_count": 17,
   "metadata": {},
   "outputs": [
    {
     "data": {
      "text/plain": [
       "array([[False, False, False, ..., False, False, False],\n",
       "       [False, False, False, ..., False, False, False],\n",
       "       [False, False, False, ..., False, False, False],\n",
       "       ...,\n",
       "       [False, False, False, ..., False, False, False],\n",
       "       [False, False, False, ..., False, False, False],\n",
       "       [False, False, False, ..., False, False, False]])"
      ]
     },
     "execution_count": 17,
     "metadata": {},
     "output_type": "execute_result"
    }
   ],
   "source": [
    "cell.mask"
   ]
  },
  {
   "cell_type": "code",
   "execution_count": null,
   "metadata": {},
   "outputs": [],
   "source": []
  }
 ],
 "metadata": {
  "kernelspec": {
   "display_name": "tracking",
   "language": "python",
   "name": "python3"
  },
  "language_info": {
   "codemirror_mode": {
    "name": "ipython",
    "version": 3
   },
   "file_extension": ".py",
   "mimetype": "text/x-python",
   "name": "python",
   "nbconvert_exporter": "python",
   "pygments_lexer": "ipython3",
   "version": "3.10.14"
  }
 },
 "nbformat": 4,
 "nbformat_minor": 2
}

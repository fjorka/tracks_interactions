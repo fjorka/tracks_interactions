{
 "cells": [
  {
   "cell_type": "code",
   "execution_count": 12,
   "metadata": {},
   "outputs": [
    {
     "name": "stdout",
     "output_type": "stream",
     "text": [
      "The autoreload extension is already loaded. To reload it, use:\n",
      "  %reload_ext autoreload\n"
     ]
    }
   ],
   "source": [
    "%load_ext autoreload\n",
    "%autoreload 2\n",
    "\n",
    "import os\n",
    "import zarr\n",
    "import dask.array as da\n",
    "import napari\n",
    "import sys\n",
    "import numpy as np\n",
    "\n",
    "from sqlalchemy import create_engine\n",
    "from sqlalchemy.orm import sessionmaker\n",
    "\n",
    "sys.path.append('..')\n",
    "from tracks_interactions.db.db_model import Base, CellDB, TrackDB\n",
    "import tracks_interactions.graph.family_graph as fg\n",
    "from tracks_interactions.widget.event_handler import EventHandler"
   ]
  },
  {
   "cell_type": "code",
   "execution_count": 2,
   "metadata": {},
   "outputs": [],
   "source": [
    "os.environ['NAPARI_PERFMON'] = '0'"
   ]
  },
  {
   "cell_type": "code",
   "execution_count": 3,
   "metadata": {},
   "outputs": [
    {
     "data": {
      "text/plain": [
       "(241, 8396, 8401)"
      ]
     },
     "execution_count": 3,
     "metadata": {},
     "output_type": "execute_result"
    }
   ],
   "source": [
    "labels_zarr_path = r'D:\\kasia\\tracking\\E6_exp\\code\\tests\\example_track_labels.zarr'\n",
    "labels = da.from_zarr(labels_zarr_path)\n",
    "labels.shape"
   ]
  },
  {
   "cell_type": "code",
   "execution_count": 4,
   "metadata": {},
   "outputs": [],
   "source": [
    "#labels = np.array(labels).astype('int32')"
   ]
  },
  {
   "cell_type": "code",
   "execution_count": 4,
   "metadata": {},
   "outputs": [],
   "source": [
    "# display the labels\n",
    "viewer = napari.Viewer()\n",
    "labels_layer = viewer.add_labels(labels,name='Labels')"
   ]
  },
  {
   "cell_type": "code",
   "execution_count": 5,
   "metadata": {},
   "outputs": [],
   "source": [
    "# get access to the database\n",
    "new_db_path = r'D:\\kasia\\tracking\\E6_exp\\code\\gardener_20_dev\\cells_database_2tables - Copy.db'\n",
    "engine = create_engine(f'sqlite:///{new_db_path}')\n",
    "session = sessionmaker(bind=engine)()"
   ]
  },
  {
   "cell_type": "code",
   "execution_count": 11,
   "metadata": {},
   "outputs": [],
   "source": [
    "# from napari import Viewer\n",
    "\n",
    "# def test_func(viewer: Viewer):\n",
    "#     print('just testing')\n",
    "\n",
    "# labels_layer.events.labels_update.connect(test_func)"
   ]
  },
  {
   "cell_type": "code",
   "execution_count": 35,
   "metadata": {},
   "outputs": [
    {
     "data": {
      "text/plain": [
       "<napari._qt.widgets.qt_viewer_dock_widget.QtViewerDockWidget at 0x1633cf46dd0>"
      ]
     },
     "execution_count": 35,
     "metadata": {},
     "output_type": "execute_result"
    }
   ],
   "source": [
    "# create a plot widget\n",
    "t_max = viewer.dims.range[0][1]\n",
    "plot_widget = fg.build_lineage_widget(t_max)\n",
    "\n",
    "# add lineage graph\n",
    "viewer.window.add_dock_widget(plot_widget,area='bottom',name='family')"
   ]
  },
  {
   "cell_type": "code",
   "execution_count": 36,
   "metadata": {},
   "outputs": [],
   "source": [
    "# initialize time line\n",
    "import pyqtgraph as pg\n",
    "plot_view = plot_widget.getItem(0,0)\n",
    "pen = pg.mkPen(color = (255,255,255),xwidth=1)\n",
    "time_line = plot_view.addLine(x=viewer.dims.current_step[0],pen=pen)"
   ]
  },
  {
   "cell_type": "code",
   "execution_count": 37,
   "metadata": {},
   "outputs": [
    {
     "data": {
      "text/plain": [
       "<bound method EventHandler.time_line_update of <tracks_interactions.widget.event_handler.EventHandler object at 0x000001633BCBF7F0>>"
      ]
     },
     "execution_count": 37,
     "metadata": {},
     "output_type": "execute_result"
    }
   ],
   "source": [
    "# connect lineage graph update\n",
    "event_handler = EventHandler(viewer,plot_widget,session)\n",
    "labels_layer.events.selected_label.connect(event_handler.lineage_update)\n",
    "viewer.dims.events.current_step.connect(event_handler.time_line_update)"
   ]
  },
  {
   "cell_type": "code",
   "execution_count": 10,
   "metadata": {},
   "outputs": [
    {
     "data": {
      "text/plain": [
       "(120, 4197, 4200)"
      ]
     },
     "execution_count": 10,
     "metadata": {},
     "output_type": "execute_result"
    }
   ],
   "source": []
  },
  {
   "cell_type": "code",
   "execution_count": 9,
   "metadata": {},
   "outputs": [],
   "source": [
    "from magicgui import magicgui\n",
    "from qtpy.QtGui import QIcon\n",
    "from napari import Viewer\n",
    "from tracks_interactions.widget.track_operations import cut_track_function, merge_track_function, connect_track_function\n",
    "from functools import partial"
   ]
  },
  {
   "cell_type": "code",
   "execution_count": 29,
   "metadata": {},
   "outputs": [],
   "source": [
    "######################################################################\n",
    "# add cut tracks button\n",
    "cut_track_function_partial = partial(cut_track_function, session=session)\n",
    "\n",
    "cut_track_btn = magicgui(cut_track_function_partial)\n",
    "path_to_some_icon = r'../tracks_interactions/icons/icons8-scissors-50.png'\n",
    "\n",
    "icon = QIcon(path_to_some_icon)\n",
    "cut_track_btn.call_button.native.setIcon(icon)\n",
    "cut_track_btn.call_button.native.setText(None)\n",
    "\n",
    "viewer.window.add_dock_widget(cut_track_btn,area='right',name='cut_track')\n",
    "cut_track_btn.call_button.native.resize(40,40)"
   ]
  },
  {
   "cell_type": "code",
   "execution_count": 33,
   "metadata": {},
   "outputs": [
    {
     "data": {
      "text/plain": [
       "<napari._qt.widgets.qt_viewer_dock_widget.QtViewerDockWidget at 0x1e940daf520>"
      ]
     },
     "execution_count": 33,
     "metadata": {},
     "output_type": "execute_result"
    }
   ],
   "source": [
    "# add merging\n",
    "@magicgui(\n",
    "        t1={\"widget_type\": \"SpinBox\", \"max\": 1000000},\n",
    "        call_button = 'Merge'\n",
    "        )  \n",
    "\n",
    "def merge_track_function_partial(viewer: Viewer, t1: int):\n",
    "    return merge_track_function( viewer, session=session, t1=t1)\n",
    "\n",
    "viewer.window.add_dock_widget(merge_track_function_partial,area='right',name='t1')"
   ]
  },
  {
   "cell_type": "code",
   "execution_count": 34,
   "metadata": {},
   "outputs": [
    {
     "data": {
      "text/plain": [
       "<napari._qt.widgets.qt_viewer_dock_widget.QtViewerDockWidget at 0x1e9f4f640d0>"
      ]
     },
     "execution_count": 34,
     "metadata": {},
     "output_type": "execute_result"
    }
   ],
   "source": [
    "# add connecting\n",
    "@magicgui(\n",
    "        t1={\"widget_type\": \"SpinBox\", \"max\": 1000000},\n",
    "        call_button = 'Connect'\n",
    "        )  \n",
    "\n",
    "def connect_track_function_partial(viewer: Viewer, t1: int):\n",
    "    return connect_track_function( viewer, session=session, t1=t1)\n",
    "\n",
    "viewer.window.add_dock_widget(connect_track_function_partial,area='right',name='t1')"
   ]
  },
  {
   "cell_type": "code",
   "execution_count": 27,
   "metadata": {},
   "outputs": [
    {
     "name": "stdout",
     "output_type": "stream",
     "text": [
      "41322\n",
      "918\n"
     ]
    }
   ],
   "source": [
    "from tracks_interactions.graph.family_graph import update_lineage_display\n",
    "from tracks_interactions.db.db_functions import (\n",
    "    cut_trackDB,\n",
    "    get_descendants,\n",
    "    integrate_trackDB,\n",
    "    modify_track_cellsDB,\n",
    "    newTrack_number,\n",
    ")"
   ]
  },
  {
   "cell_type": "code",
   "execution_count": 22,
   "metadata": {},
   "outputs": [
    {
     "data": {
      "text/plain": [
       "75065"
      ]
     },
     "execution_count": 22,
     "metadata": {},
     "output_type": "execute_result"
    }
   ],
   "source": [
    "newTrack_number(session)"
   ]
  },
  {
   "cell_type": "code",
   "execution_count": 20,
   "metadata": {},
   "outputs": [
    {
     "ename": "IndexError",
     "evalue": "index 0 is out of bounds for axis 0 with size 0",
     "output_type": "error",
     "traceback": [
      "\u001b[1;31m---------------------------------------------------------------------------\u001b[0m",
      "\u001b[1;31mIndexError\u001b[0m                                Traceback (most recent call last)",
      "Cell \u001b[1;32mIn[20], line 1\u001b[0m\n\u001b[1;32m----> 1\u001b[0m \u001b[43mupdate_lineage_display\u001b[49m\u001b[43m(\u001b[49m\u001b[43mviewer\u001b[49m\u001b[43m,\u001b[49m\u001b[43m \u001b[49m\u001b[43mplot_widget\u001b[49m\u001b[43m,\u001b[49m\u001b[43m \u001b[49m\u001b[43msession\u001b[49m\u001b[43m)\u001b[49m\n",
      "File \u001b[1;32md:\\kasia\\tracking\\E6_exp\\code\\tracks_interactions\\examples\\..\\tracks_interactions\\graph\\family_graph.py:210\u001b[0m, in \u001b[0;36mupdate_lineage_display\u001b[1;34m(viewer, plot_widget, session)\u001b[0m\n\u001b[0;32m    207\u001b[0m viewer\u001b[38;5;241m.\u001b[39mstatus \u001b[38;5;241m=\u001b[39m \u001b[38;5;124mf\u001b[39m\u001b[38;5;124m\"\u001b[39m\u001b[38;5;124mFamily of track number \u001b[39m\u001b[38;5;132;01m{\u001b[39;00mroot\u001b[38;5;132;01m}\u001b[39;00m\u001b[38;5;124m.\u001b[39m\u001b[38;5;124m\"\u001b[39m\n\u001b[0;32m    209\u001b[0m \u001b[38;5;66;03m# buid the tree\u001b[39;00m\n\u001b[1;32m--> 210\u001b[0m tree \u001b[38;5;241m=\u001b[39m \u001b[43mbuild_Newick_tree\u001b[49m\u001b[43m(\u001b[49m\u001b[43msession\u001b[49m\u001b[43m,\u001b[49m\u001b[43m \u001b[49m\u001b[43mroot\u001b[49m\u001b[43m)\u001b[49m\n\u001b[0;32m    212\u001b[0m \u001b[38;5;66;03m# update the widget with the tree\u001b[39;00m\n\u001b[0;32m    213\u001b[0m plot_view \u001b[38;5;241m=\u001b[39m render_tree_view(plot_view, tree, viewer)\n",
      "File \u001b[1;32md:\\kasia\\tracking\\E6_exp\\code\\tracks_interactions\\examples\\..\\tracks_interactions\\graph\\family_graph.py:87\u001b[0m, in \u001b[0;36mbuild_Newick_tree\u001b[1;34m(session, root_id)\u001b[0m\n\u001b[0;32m     82\u001b[0m trunk_row \u001b[38;5;241m=\u001b[39m df\u001b[38;5;241m.\u001b[39mloc[df\u001b[38;5;241m.\u001b[39mtrack_id \u001b[38;5;241m==\u001b[39m root_id, :]\n\u001b[0;32m     84\u001b[0m trunk \u001b[38;5;241m=\u001b[39m tree\u001b[38;5;241m.\u001b[39madd_child(name\u001b[38;5;241m=\u001b[39mroot_id)\n\u001b[0;32m     85\u001b[0m trunk\u001b[38;5;241m.\u001b[39madd_features(\n\u001b[0;32m     86\u001b[0m     num\u001b[38;5;241m=\u001b[39m\u001b[38;5;241m1\u001b[39m,\n\u001b[1;32m---> 87\u001b[0m     start\u001b[38;5;241m=\u001b[39m\u001b[43mtrunk_row\u001b[49m\u001b[43m[\u001b[49m\u001b[38;5;124;43m\"\u001b[39;49m\u001b[38;5;124;43mt_begin\u001b[39;49m\u001b[38;5;124;43m\"\u001b[39;49m\u001b[43m]\u001b[49m\u001b[38;5;241;43m.\u001b[39;49m\u001b[43mvalues\u001b[49m\u001b[43m[\u001b[49m\u001b[38;5;241;43m0\u001b[39;49m\u001b[43m]\u001b[49m,\n\u001b[0;32m     88\u001b[0m     stop\u001b[38;5;241m=\u001b[39mtrunk_row[\u001b[38;5;124m\"\u001b[39m\u001b[38;5;124mt_end\u001b[39m\u001b[38;5;124m\"\u001b[39m]\u001b[38;5;241m.\u001b[39mvalues[\u001b[38;5;241m0\u001b[39m],\n\u001b[0;32m     89\u001b[0m )\n\u001b[0;32m     91\u001b[0m \u001b[38;5;66;03m# add children\u001b[39;00m\n\u001b[0;32m     92\u001b[0m _add_children(trunk, df)\n",
      "\u001b[1;31mIndexError\u001b[0m: index 0 is out of bounds for axis 0 with size 0"
     ]
    }
   ],
   "source": [
    "update_lineage_display(viewer, plot_widget, session)"
   ]
  }
 ],
 "metadata": {
  "kernelspec": {
   "display_name": "tracking",
   "language": "python",
   "name": "python3"
  },
  "language_info": {
   "codemirror_mode": {
    "name": "ipython",
    "version": 3
   },
   "file_extension": ".py",
   "mimetype": "text/x-python",
   "name": "python",
   "nbconvert_exporter": "python",
   "pygments_lexer": "ipython3",
   "version": "3.10.13"
  }
 },
 "nbformat": 4,
 "nbformat_minor": 2
}

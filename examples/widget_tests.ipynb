{
 "cells": [
  {
   "cell_type": "code",
   "execution_count": 21,
   "metadata": {},
   "outputs": [
    {
     "name": "stdout",
     "output_type": "stream",
     "text": [
      "The autoreload extension is already loaded. To reload it, use:\n",
      "  %reload_ext autoreload\n"
     ]
    }
   ],
   "source": [
    "%load_ext autoreload\n",
    "%autoreload 2\n",
    "\n",
    "import os\n",
    "import zarr\n",
    "import dask.array as da\n",
    "import napari\n",
    "import sys\n",
    "import numpy as np\n",
    "\n",
    "from sqlalchemy import create_engine\n",
    "from sqlalchemy.orm import Session\n",
    "\n",
    "from ete3 import Tree\n",
    "\n",
    "sys.path.append('../libraries')\n",
    "from family_graph import build_Newick_tree, render_tree_view\n",
    "from cells_database import Base, CellDB, TrackDB"
   ]
  },
  {
   "cell_type": "code",
   "execution_count": 2,
   "metadata": {},
   "outputs": [],
   "source": [
    "os.environ['NAPARI_PERFMON'] = '0'"
   ]
  },
  {
   "cell_type": "code",
   "execution_count": 3,
   "metadata": {},
   "outputs": [],
   "source": [
    "labels_zarr_path = r'D:\\kasia\\tracking\\E6_exp\\code\\tests\\example_track_labels.zarr'\n",
    "labels = da.from_zarr(labels_zarr_path)"
   ]
  },
  {
   "cell_type": "code",
   "execution_count": 4,
   "metadata": {},
   "outputs": [],
   "source": [
    "# display the labels\n",
    "viewer = napari.Viewer()\n",
    "labels_layer = viewer.add_labels(labels,name='Labels')"
   ]
  },
  {
   "cell_type": "code",
   "execution_count": 5,
   "metadata": {},
   "outputs": [],
   "source": [
    "# get access to the database\n",
    "new_db_path = r'D:\\kasia\\tracking\\E6_exp\\code\\gardener_20_dev\\cells_database_2tables.db'\n",
    "engine = create_engine(f'sqlite:///{new_db_path}')"
   ]
  },
  {
   "cell_type": "code",
   "execution_count": 6,
   "metadata": {},
   "outputs": [],
   "source": [
    "import pyqtgraph as pg\n",
    "\n",
    "def build_lineage_widget(t_max):\n",
    "\n",
    "    '''\n",
    "    Builds pyqt widget to display lineage tree.\n",
    "    '''\n",
    "    \n",
    "    global plot_widget\n",
    "\n",
    "    plot_widget = pg.GraphicsLayoutWidget()\n",
    "    plot_view = plot_widget.addPlot(title=\"Lineage tree\", labels={\"bottom\": \"Time\"})\n",
    "    plot_view.hideAxis(\"left\")\n",
    "    plot_view.setXRange(0, t_max)\n",
    "\n",
    "    return plot_widget"
   ]
  },
  {
   "cell_type": "code",
   "execution_count": 7,
   "metadata": {},
   "outputs": [
    {
     "data": {
      "text/plain": [
       "<napari._qt.widgets.qt_viewer_dock_widget.QtViewerDockWidget at 0x16283bb1ab0>"
      ]
     },
     "execution_count": 7,
     "metadata": {},
     "output_type": "execute_result"
    }
   ],
   "source": [
    "# create a plot widget\n",
    "t_max = viewer.dims.range[0][1]\n",
    "plot_widget = build_lineage_widget(t_max)\n",
    "\n",
    "# add lineage graph\n",
    "viewer.window.add_dock_widget(plot_widget,area='bottom',name='family')"
   ]
  },
  {
   "cell_type": "code",
   "execution_count": 22,
   "metadata": {},
   "outputs": [],
   "source": [
    "def update_lineage_display(event):\n",
    "\n",
    "    global plot_widget # it may be possible to extract from napari, at the moment a global thing\n",
    "    global viewer\n",
    "    global time_line\n",
    "    \n",
    "    # clear the widget\n",
    "    plot_view = plot_widget.getItem(0,0)\n",
    "    plot_view.clear()\n",
    "\n",
    "    # get fan active label\n",
    "    active_label = int(viewer.layers['Labels'].selected_label)\n",
    "\n",
    "    # check if the label is in the database\n",
    "    with Session(engine) as session:\n",
    "        \n",
    "        query = session.query(TrackDB).filter(TrackDB.track_id == active_label).first()\n",
    "\n",
    "    # actions based on finding the label in the database\n",
    "    if query is not None:\n",
    "\n",
    "        # get the root value\n",
    "        root = query.root\n",
    "\n",
    "        # update viewer status\n",
    "        viewer.status = f'Family of track number {root}.'\n",
    "\n",
    "        # buid the tree\n",
    "        tree = build_Newick_tree(engine, root)\n",
    "\n",
    "        # update the widget with the tree\n",
    "        plot_view = render_tree_view(plot_view,tree,viewer)\n",
    "\n",
    "        \n",
    "    else:\n",
    "        viewer.status = 'Error - no such label in the database.'\n",
    "    "
   ]
  },
  {
   "cell_type": "code",
   "execution_count": 23,
   "metadata": {},
   "outputs": [
    {
     "data": {
      "text/plain": [
       "<function __main__.update_lineage_display(event)>"
      ]
     },
     "execution_count": 23,
     "metadata": {},
     "output_type": "execute_result"
    }
   ],
   "source": [
    "# connect lineage graph update\n",
    "labels_layer.events.selected_label.connect(update_lineage_display)"
   ]
  },
  {
   "cell_type": "markdown",
   "metadata": {},
   "source": [
    "### Test"
   ]
  },
  {
   "cell_type": "code",
   "execution_count": 11,
   "metadata": {},
   "outputs": [],
   "source": [
    "my_root = 1\n",
    "\n",
    "plot_view = plot_widget.getItem(0,0)\n",
    "plot_view.clear()\n",
    "\n",
    "# buid the tree\n",
    "tree = build_Newick_tree(engine, my_root)"
   ]
  },
  {
   "cell_type": "code",
   "execution_count": 24,
   "metadata": {},
   "outputs": [],
   "source": [
    "# update the widget with the tree\n",
    "plot_view = render_tree_view(plot_view,tree,viewer)"
   ]
  }
 ],
 "metadata": {
  "kernelspec": {
   "display_name": "tracking",
   "language": "python",
   "name": "python3"
  },
  "language_info": {
   "codemirror_mode": {
    "name": "ipython",
    "version": 3
   },
   "file_extension": ".py",
   "mimetype": "text/x-python",
   "name": "python",
   "nbconvert_exporter": "python",
   "pygments_lexer": "ipython3",
   "version": "3.10.13"
  }
 },
 "nbformat": 4,
 "nbformat_minor": 2
}

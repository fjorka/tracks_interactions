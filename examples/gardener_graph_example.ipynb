{
 "cells": [
  {
   "cell_type": "markdown",
   "metadata": {},
   "source": [
    "## Tests for graph from DB"
   ]
  },
  {
   "cell_type": "code",
   "execution_count": 1,
   "metadata": {},
   "outputs": [],
   "source": [
    "import sys\n",
    "import numpy as np\n",
    "import pandas as pd\n",
    "import matplotlib.pyplot as plt\n",
    "\n",
    "from sqlalchemy import create_engine\n",
    "from sqlalchemy.orm import Session\n",
    "\n",
    "sys.path.append('../libraries')\n",
    "from family_graph import build_Newick_tree, render_tree_view\n",
    "from cells_database import Base, CellDB, TrackDB"
   ]
  },
  {
   "cell_type": "code",
   "execution_count": 2,
   "metadata": {},
   "outputs": [],
   "source": [
    "new_db_path = r'D:\\kasia\\tracking\\E6_exp\\code\\gardener_20_dev\\cells_database_2tables.db'\n",
    "engine = create_engine(f'sqlite:///{new_db_path}')"
   ]
  },
  {
   "cell_type": "code",
   "execution_count": 12,
   "metadata": {},
   "outputs": [],
   "source": [
    "my_root = 1\n",
    "#29763\n",
    "# 75012\t\n",
    "\n",
    "tree = build_Newick_tree(engine, my_root)"
   ]
  },
  {
   "cell_type": "code",
   "execution_count": 13,
   "metadata": {},
   "outputs": [],
   "source": [
    "tree.show()"
   ]
  },
  {
   "cell_type": "code",
   "execution_count": 14,
   "metadata": {},
   "outputs": [],
   "source": [
    "t_rendering = tree.render('')"
   ]
  },
  {
   "cell_type": "code",
   "execution_count": 18,
   "metadata": {},
   "outputs": [],
   "source": [
    "from family_graph import add_y_rendering\n",
    "t= add_y_rendering(tree,t_rendering)"
   ]
  },
  {
   "cell_type": "code",
   "execution_count": 20,
   "metadata": {},
   "outputs": [
    {
     "name": "stdout",
     "output_type": "stream",
     "text": [
      "1 1 0 73\n",
      "2 2 74 160\n",
      "3 3 74 169\n"
     ]
    }
   ],
   "source": [
    "for n in t.traverse():\n",
    "    if n.is_root():\n",
    "        pass\n",
    "    else:\n",
    "        print(n.name,n.num,n.start,n.stop)"
   ]
  },
  {
   "cell_type": "code",
   "execution_count": 9,
   "metadata": {},
   "outputs": [
    {
     "data": {
      "image/png": "[encoded data removed]",
      "text/plain": [
       "<Figure size 640x480 with 1 Axes>"
      ]
     },
     "metadata": {},
     "output_type": "display_data"
    }
   ],
   "source": [
    "for n in tree2.traverse():\n",
    "\n",
    "    if not n.is_root():\n",
    "        \n",
    "        # get position in time\n",
    "        x1 = n.start\n",
    "        x2 = n.stop\n",
    "        x_signal = [x1,x2]\n",
    "\n",
    "        y_signal = np.mean([t_rendering['node_areas'][n.num][1],\n",
    "                            t_rendering['node_areas'][n.num][3]]).repeat(2)\n",
    "\n",
    "        plt.plot(x_signal,y_signal,'k')"
   ]
  },
  {
   "cell_type": "markdown",
   "metadata": {},
   "source": [
    "## Addtional tests"
   ]
  },
  {
   "cell_type": "code",
   "execution_count": 43,
   "metadata": {},
   "outputs": [
    {
     "data": {
      "text/html": [
       "<div>\n",
       "<style scoped>\n",
       "    .dataframe tbody tr th:only-of-type {\n",
       "        vertical-align: middle;\n",
       "    }\n",
       "\n",
       "    .dataframe tbody tr th {\n",
       "        vertical-align: top;\n",
       "    }\n",
       "\n",
       "    .dataframe thead th {\n",
       "        text-align: right;\n",
       "    }\n",
       "</style>\n",
       "<table border=\"1\" class=\"dataframe\">\n",
       "  <thead>\n",
       "    <tr style=\"text-align: right;\">\n",
       "      <th></th>\n",
       "      <th>track_id</th>\n",
       "      <th>parent_track_id</th>\n",
       "      <th>root</th>\n",
       "      <th>t_begin</th>\n",
       "      <th>t_end</th>\n",
       "    </tr>\n",
       "  </thead>\n",
       "  <tbody>\n",
       "    <tr>\n",
       "      <th>0</th>\n",
       "      <td>75012</td>\n",
       "      <td>-1</td>\n",
       "      <td>75012</td>\n",
       "      <td>238</td>\n",
       "      <td>238</td>\n",
       "    </tr>\n",
       "    <tr>\n",
       "      <th>1</th>\n",
       "      <td>75013</td>\n",
       "      <td>75012</td>\n",
       "      <td>75012</td>\n",
       "      <td>239</td>\n",
       "      <td>240</td>\n",
       "    </tr>\n",
       "    <tr>\n",
       "      <th>2</th>\n",
       "      <td>75014</td>\n",
       "      <td>75012</td>\n",
       "      <td>75012</td>\n",
       "      <td>239</td>\n",
       "      <td>240</td>\n",
       "    </tr>\n",
       "  </tbody>\n",
       "</table>\n",
       "</div>"
      ],
      "text/plain": [
       "   track_id  parent_track_id   root  t_begin  t_end\n",
       "0     75012               -1  75012      238    238\n",
       "1     75013            75012  75012      239    240\n",
       "2     75014            75012  75012      239    240"
      ]
     },
     "execution_count": 43,
     "metadata": {},
     "output_type": "execute_result"
    }
   ],
   "source": [
    "# get df for this root\n",
    "\n",
    "my_root = 75012\t\n",
    "\n",
    "with Session(engine) as session:\n",
    "    \n",
    "    query = session.query(TrackDB).filter(TrackDB.root == my_root)\n",
    "    df = pd.read_sql(query.statement, engine)\n",
    "\n",
    "df"
   ]
  },
  {
   "cell_type": "code",
   "execution_count": 9,
   "metadata": {},
   "outputs": [],
   "source": [
    "# to get an entire df\n",
    "df = pd.read_sql_table('tracks', engine)"
   ]
  },
  {
   "cell_type": "code",
   "execution_count": 12,
   "metadata": {},
   "outputs": [
    {
     "data": {
      "text/html": [
       "<div>\n",
       "<style scoped>\n",
       "    .dataframe tbody tr th:only-of-type {\n",
       "        vertical-align: middle;\n",
       "    }\n",
       "\n",
       "    .dataframe tbody tr th {\n",
       "        vertical-align: top;\n",
       "    }\n",
       "\n",
       "    .dataframe thead th {\n",
       "        text-align: right;\n",
       "    }\n",
       "</style>\n",
       "<table border=\"1\" class=\"dataframe\">\n",
       "  <thead>\n",
       "    <tr style=\"text-align: right;\">\n",
       "      <th></th>\n",
       "      <th>track_id</th>\n",
       "      <th>parent_track_id</th>\n",
       "      <th>root</th>\n",
       "      <th>t_begin</th>\n",
       "      <th>t_end</th>\n",
       "    </tr>\n",
       "  </thead>\n",
       "  <tbody>\n",
       "    <tr>\n",
       "      <th>0</th>\n",
       "      <td>1</td>\n",
       "      <td>-1</td>\n",
       "      <td>1</td>\n",
       "      <td>0</td>\n",
       "      <td>73</td>\n",
       "    </tr>\n",
       "    <tr>\n",
       "      <th>1</th>\n",
       "      <td>2</td>\n",
       "      <td>1</td>\n",
       "      <td>1</td>\n",
       "      <td>74</td>\n",
       "      <td>160</td>\n",
       "    </tr>\n",
       "    <tr>\n",
       "      <th>2</th>\n",
       "      <td>3</td>\n",
       "      <td>1</td>\n",
       "      <td>1</td>\n",
       "      <td>74</td>\n",
       "      <td>169</td>\n",
       "    </tr>\n",
       "    <tr>\n",
       "      <th>3</th>\n",
       "      <td>4</td>\n",
       "      <td>-1</td>\n",
       "      <td>4</td>\n",
       "      <td>0</td>\n",
       "      <td>154</td>\n",
       "    </tr>\n",
       "    <tr>\n",
       "      <th>4</th>\n",
       "      <td>5</td>\n",
       "      <td>-1</td>\n",
       "      <td>5</td>\n",
       "      <td>0</td>\n",
       "      <td>10</td>\n",
       "    </tr>\n",
       "    <tr>\n",
       "      <th>...</th>\n",
       "      <td>...</td>\n",
       "      <td>...</td>\n",
       "      <td>...</td>\n",
       "      <td>...</td>\n",
       "      <td>...</td>\n",
       "    </tr>\n",
       "    <tr>\n",
       "      <th>75013</th>\n",
       "      <td>75014</td>\n",
       "      <td>75012</td>\n",
       "      <td>75012</td>\n",
       "      <td>239</td>\n",
       "      <td>240</td>\n",
       "    </tr>\n",
       "    <tr>\n",
       "      <th>75014</th>\n",
       "      <td>75015</td>\n",
       "      <td>-1</td>\n",
       "      <td>75015</td>\n",
       "      <td>238</td>\n",
       "      <td>240</td>\n",
       "    </tr>\n",
       "    <tr>\n",
       "      <th>75015</th>\n",
       "      <td>75016</td>\n",
       "      <td>-1</td>\n",
       "      <td>75016</td>\n",
       "      <td>238</td>\n",
       "      <td>240</td>\n",
       "    </tr>\n",
       "    <tr>\n",
       "      <th>75016</th>\n",
       "      <td>75017</td>\n",
       "      <td>-1</td>\n",
       "      <td>75017</td>\n",
       "      <td>238</td>\n",
       "      <td>240</td>\n",
       "    </tr>\n",
       "    <tr>\n",
       "      <th>75017</th>\n",
       "      <td>75018</td>\n",
       "      <td>-1</td>\n",
       "      <td>75018</td>\n",
       "      <td>238</td>\n",
       "      <td>240</td>\n",
       "    </tr>\n",
       "  </tbody>\n",
       "</table>\n",
       "<p>75018 rows × 5 columns</p>\n",
       "</div>"
      ],
      "text/plain": [
       "       track_id  parent_track_id   root  t_begin  t_end\n",
       "0             1               -1      1        0     73\n",
       "1             2                1      1       74    160\n",
       "2             3                1      1       74    169\n",
       "3             4               -1      4        0    154\n",
       "4             5               -1      5        0     10\n",
       "...         ...              ...    ...      ...    ...\n",
       "75013     75014            75012  75012      239    240\n",
       "75014     75015               -1  75015      238    240\n",
       "75015     75016               -1  75016      238    240\n",
       "75016     75017               -1  75017      238    240\n",
       "75017     75018               -1  75018      238    240\n",
       "\n",
       "[75018 rows x 5 columns]"
      ]
     },
     "execution_count": 12,
     "metadata": {},
     "output_type": "execute_result"
    }
   ],
   "source": [
    "df"
   ]
  },
  {
   "cell_type": "code",
   "execution_count": 15,
   "metadata": {},
   "outputs": [
    {
     "data": {
      "text/html": [
       "<div>\n",
       "<style scoped>\n",
       "    .dataframe tbody tr th:only-of-type {\n",
       "        vertical-align: middle;\n",
       "    }\n",
       "\n",
       "    .dataframe tbody tr th {\n",
       "        vertical-align: top;\n",
       "    }\n",
       "\n",
       "    .dataframe thead th {\n",
       "        text-align: right;\n",
       "    }\n",
       "</style>\n",
       "<table border=\"1\" class=\"dataframe\">\n",
       "  <thead>\n",
       "    <tr style=\"text-align: right;\">\n",
       "      <th></th>\n",
       "      <th>track_id</th>\n",
       "      <th>parent_track_id</th>\n",
       "      <th>root</th>\n",
       "      <th>t_begin</th>\n",
       "      <th>t_end</th>\n",
       "    </tr>\n",
       "  </thead>\n",
       "  <tbody>\n",
       "    <tr>\n",
       "      <th>0</th>\n",
       "      <td>29763</td>\n",
       "      <td>-1</td>\n",
       "      <td>29763</td>\n",
       "      <td>25</td>\n",
       "      <td>25</td>\n",
       "    </tr>\n",
       "    <tr>\n",
       "      <th>1</th>\n",
       "      <td>29764</td>\n",
       "      <td>29763</td>\n",
       "      <td>29763</td>\n",
       "      <td>26</td>\n",
       "      <td>26</td>\n",
       "    </tr>\n",
       "    <tr>\n",
       "      <th>2</th>\n",
       "      <td>29765</td>\n",
       "      <td>29764</td>\n",
       "      <td>29763</td>\n",
       "      <td>27</td>\n",
       "      <td>112</td>\n",
       "    </tr>\n",
       "    <tr>\n",
       "      <th>3</th>\n",
       "      <td>29766</td>\n",
       "      <td>29764</td>\n",
       "      <td>29763</td>\n",
       "      <td>27</td>\n",
       "      <td>136</td>\n",
       "    </tr>\n",
       "    <tr>\n",
       "      <th>4</th>\n",
       "      <td>29767</td>\n",
       "      <td>29763</td>\n",
       "      <td>29763</td>\n",
       "      <td>26</td>\n",
       "      <td>159</td>\n",
       "    </tr>\n",
       "    <tr>\n",
       "      <th>5</th>\n",
       "      <td>29768</td>\n",
       "      <td>29767</td>\n",
       "      <td>29763</td>\n",
       "      <td>160</td>\n",
       "      <td>190</td>\n",
       "    </tr>\n",
       "    <tr>\n",
       "      <th>6</th>\n",
       "      <td>29769</td>\n",
       "      <td>29767</td>\n",
       "      <td>29763</td>\n",
       "      <td>160</td>\n",
       "      <td>188</td>\n",
       "    </tr>\n",
       "  </tbody>\n",
       "</table>\n",
       "</div>"
      ],
      "text/plain": [
       "   track_id  parent_track_id   root  t_begin  t_end\n",
       "0     29763               -1  29763       25     25\n",
       "1     29764            29763  29763       26     26\n",
       "2     29765            29764  29763       27    112\n",
       "3     29766            29764  29763       27    136\n",
       "4     29767            29763  29763       26    159\n",
       "5     29768            29767  29763      160    190\n",
       "6     29769            29767  29763      160    188"
      ]
     },
     "execution_count": 15,
     "metadata": {},
     "output_type": "execute_result"
    }
   ],
   "source": [
    "my_root = 29763\n",
    "\n",
    "with Session(engine) as session:\n",
    "    \n",
    "    query = session.query(TrackDB).filter(TrackDB.root == my_root)\n",
    "    df = pd.read_sql(query.statement, engine)\n",
    "\n",
    "df"
   ]
  },
  {
   "cell_type": "code",
   "execution_count": null,
   "metadata": {},
   "outputs": [],
   "source": []
  }
 ],
 "metadata": {
  "kernelspec": {
   "display_name": "tracking",
   "language": "python",
   "name": "python3"
  },
  "language_info": {
   "codemirror_mode": {
    "name": "ipython",
    "version": 3
   },
   "file_extension": ".py",
   "mimetype": "text/x-python",
   "name": "python",
   "nbconvert_exporter": "python",
   "pygments_lexer": "ipython3",
   "version": "3.10.13"
  }
 },
 "nbformat": 4,
 "nbformat_minor": 2
}

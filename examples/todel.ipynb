{
 "cells": [
  {
   "cell_type": "code",
   "execution_count": 1,
   "metadata": {},
   "outputs": [],
   "source": [
    "import napari\n",
    "import numpy as np\n",
    "import sys\n",
    "sys.path.append('..')\n",
    "import tracks_interactions.graph.family_graph as fg\n",
    "import os\n",
    "os.environ['NAPARI_PERFMON'] = '0'"
   ]
  },
  {
   "cell_type": "code",
   "execution_count": 2,
   "metadata": {},
   "outputs": [],
   "source": [
    "viewer = napari.Viewer()\n",
    "labels_layer = viewer.add_labels(np.random.randint(1,10,size=(3,3)))"
   ]
  },
  {
   "cell_type": "code",
   "execution_count": 3,
   "metadata": {},
   "outputs": [
    {
     "data": {
      "text/plain": [
       "<bound method EventHandler.update_status of <__main__.EventHandler object at 0x0000028F1DB73DF0>>"
      ]
     },
     "execution_count": 3,
     "metadata": {},
     "output_type": "execute_result"
    }
   ],
   "source": [
    "class EventHandler:\n",
    "    def __init__(self, viewer):\n",
    "        self.viewer = viewer\n",
    "\n",
    "    def update_status(self, event):\n",
    "        self.viewer.status = f'it is {self.viewer.layers[\"Labels\"].selected_label}'\n",
    "\n",
    "event_handler = EventHandler(viewer)\n",
    "labels_layer.events.selected_label.connect(event_handler.update_status)"
   ]
  },
  {
   "cell_type": "code",
   "execution_count": 11,
   "metadata": {},
   "outputs": [
    {
     "name": "stderr",
     "output_type": "stream",
     "text": [
      "c:\\Users\\kmk280\\.conda\\envs\\tracking\\lib\\site-packages\\napari\\_qt\\qt_main_window.py:543: UserWarning: Using NAPARI_PERFMON with an already-running QtApp (--gui qt?) is not supported.\n",
      "  qapp = get_app()\n"
     ]
    },
    {
     "data": {
      "text/plain": [
       "<Labels layer 'Labels' at 0x193087020e0>"
      ]
     },
     "execution_count": 11,
     "metadata": {},
     "output_type": "execute_result"
    }
   ],
   "source": [
    "\n",
    "\n",
    "# connect lineage graph update\n",
    "labels_layer.events.selected_label.connect(fg.test_ff)"
   ]
  },
  {
   "cell_type": "code",
   "execution_count": null,
   "metadata": {},
   "outputs": [],
   "source": []
  },
  {
   "cell_type": "code",
   "execution_count": null,
   "metadata": {},
   "outputs": [],
   "source": []
  }
 ],
 "metadata": {
  "kernelspec": {
   "display_name": "tracking",
   "language": "python",
   "name": "python3"
  },
  "language_info": {
   "codemirror_mode": {
    "name": "ipython",
    "version": 3
   },
   "file_extension": ".py",
   "mimetype": "text/x-python",
   "name": "python",
   "nbconvert_exporter": "python",
   "pygments_lexer": "ipython3",
   "version": "3.10.13"
  }
 },
 "nbformat": 4,
 "nbformat_minor": 2
}

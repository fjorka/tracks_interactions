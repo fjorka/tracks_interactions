{
 "cells": [
  {
   "cell_type": "code",
   "execution_count": 1,
   "metadata": {},
   "outputs": [],
   "source": [
    "from readlif.reader import LifFile\n",
    "import numpy as np\n",
    "from dask import delayed\n",
    "import dask.array as da\n",
    "\n",
    "import zarr\n",
    "from ome_zarr.io import parse_url\n",
    "from ome_zarr.writer import write_image"
   ]
  },
  {
   "cell_type": "code",
   "execution_count": 3,
   "metadata": {},
   "outputs": [],
   "source": [
    "exp_path = r'R:\\Dante\\hillman_academy_2023\\Jinny_test.lif'"
   ]
  },
  {
   "cell_type": "code",
   "execution_count": 4,
   "metadata": {},
   "outputs": [],
   "source": [
    "# load experiment\n",
    "exp = LifFile(exp_path)"
   ]
  },
  {
   "cell_type": "code",
   "execution_count": 5,
   "metadata": {},
   "outputs": [
    {
     "data": {
      "text/plain": [
       "[['G6 Region1', Dims(x=2048, y=2048, z=1, t=1, m=76)],\n",
       " ['G6 Region1_Merged', Dims(x=35181, y=7548, z=1, t=1, m=1)],\n",
       " ['TileScan 4/B4 Region1', Dims(x=2048, y=2048, z=1, t=1, m=77)],\n",
       " ['TileScan 4/C4', Dims(x=2048, y=2048, z=1, t=1, m=77)],\n",
       " ['TileScan 4/D6', Dims(x=2048, y=2048, z=1, t=1, m=77)],\n",
       " ['TileScan 4/E6', Dims(x=2048, y=2048, z=1, t=1, m=77)],\n",
       " ['TileScan 4/F6', Dims(x=2048, y=2048, z=1, t=1, m=77)],\n",
       " ['TileScan 4/G6', Dims(x=2048, y=2048, z=1, t=1, m=77)],\n",
       " ['TileScan 4/B4 Region1_Merged', Dims(x=16801, y=16798, z=1, t=1, m=1)],\n",
       " ['TileScan 4/C4_Merged', Dims(x=16791, y=16793, z=1, t=1, m=1)],\n",
       " ['TileScan 4/D6_Merged', Dims(x=16799, y=16800, z=1, t=1, m=1)],\n",
       " ['TileScan 4/E6_Merged', Dims(x=16809, y=16796, z=1, t=1, m=1)],\n",
       " ['TileScan 4/F6_Merged', Dims(x=16800, y=16794, z=1, t=1, m=1)],\n",
       " ['TileScan 4/G6_Merged', Dims(x=16792, y=16783, z=1, t=1, m=1)],\n",
       " ['TileScan 1/B4 Region1', Dims(x=2048, y=2048, z=1, t=1, m=77)],\n",
       " ['TileScan 1/C4', Dims(x=2048, y=2048, z=1, t=1, m=77)],\n",
       " ['TileScan 1/D6', Dims(x=2048, y=2048, z=1, t=1, m=77)],\n",
       " ['TileScan 1/E6', Dims(x=2048, y=2048, z=1, t=1, m=77)],\n",
       " ['TileScan 1/F6', Dims(x=2048, y=2048, z=1, t=1, m=77)],\n",
       " ['TileScan 1/G6', Dims(x=2048, y=2048, z=1, t=1, m=34)],\n",
       " ['TileScan 1/B4 Region1_Merged', Dims(x=16800, y=16794, z=1, t=1, m=1)],\n",
       " ['TileScan 1/C4_Merged', Dims(x=16792, y=16789, z=1, t=1, m=1)],\n",
       " ['TileScan 1/D6_Merged', Dims(x=16802, y=16802, z=1, t=1, m=1)],\n",
       " ['TileScan 1/E6_Merged', Dims(x=16809, y=16796, z=1, t=1, m=1)],\n",
       " ['TileScan 1/F6_Merged', Dims(x=16798, y=16797, z=1, t=1, m=1)],\n",
       " ['TileScan 1/G6_Merged', Dims(x=16793, y=7577, z=1, t=1, m=1)],\n",
       " ['TileScan 2/B4 Region1', Dims(x=2048, y=2048, z=1, t=1, m=77)],\n",
       " ['TileScan 2/C4', Dims(x=2048, y=2048, z=1, t=1, m=77)],\n",
       " ['TileScan 2/D6', Dims(x=2048, y=2048, z=1, t=1, m=77)],\n",
       " ['TileScan 2/E6', Dims(x=2048, y=2048, z=1, t=1, m=77)],\n",
       " ['TileScan 2/F6', Dims(x=2048, y=2048, z=1, t=1, m=77)],\n",
       " ['TileScan 2/G6', Dims(x=2048, y=2048, z=1, t=1, m=77)],\n",
       " ['TileScan 2/B4 Region1_Merged', Dims(x=16801, y=16804, z=1, t=1, m=1)],\n",
       " ['TileScan 2/C4_Merged', Dims(x=16786, y=16792, z=1, t=1, m=1)],\n",
       " ['TileScan 2/D6_Merged', Dims(x=16801, y=16796, z=1, t=1, m=1)],\n",
       " ['TileScan 2/E6_Merged', Dims(x=16806, y=16802, z=1, t=1, m=1)],\n",
       " ['TileScan 2/F6_Merged', Dims(x=16800, y=16803, z=1, t=1, m=1)],\n",
       " ['TileScan 2/G6_Merged', Dims(x=16786, y=16782, z=1, t=1, m=1)],\n",
       " ['TileScan 3/B4 Region1', Dims(x=2048, y=2048, z=1, t=1, m=48)],\n",
       " ['TileScan 3/B4 Region1_Merged', Dims(x=16798, y=11270, z=1, t=1, m=1)],\n",
       " ['TileScan 5/B4 Region1', Dims(x=2048, y=2048, z=1, t=241, m=77)],\n",
       " ['TileScan 5/C4', Dims(x=2048, y=2048, z=1, t=241, m=77)],\n",
       " ['TileScan 5/D6', Dims(x=2048, y=2048, z=1, t=241, m=77)],\n",
       " ['TileScan 5/E6', Dims(x=2048, y=2048, z=1, t=241, m=77)],\n",
       " ['TileScan 5/F6', Dims(x=2048, y=2048, z=1, t=241, m=77)],\n",
       " ['TileScan 5/G6', Dims(x=2048, y=2048, z=1, t=241, m=77)],\n",
       " ['TileScan 5/B4 Region1_Merged', Dims(x=16792, y=16800, z=1, t=241, m=1)],\n",
       " ['TileScan 5/C4_Merged', Dims(x=16796, y=16798, z=1, t=241, m=1)],\n",
       " ['TileScan 5/D6_Merged', Dims(x=16794, y=16797, z=1, t=241, m=1)],\n",
       " ['TileScan 5/E6_Merged', Dims(x=16802, y=16793, z=1, t=241, m=1)],\n",
       " ['TileScan 5/F6_Merged', Dims(x=16808, y=16802, z=1, t=241, m=1)],\n",
       " ['TileScan 5/G6_Merged', Dims(x=16796, y=16790, z=1, t=241, m=1)]]"
      ]
     },
     "execution_count": 5,
     "metadata": {},
     "output_type": "execute_result"
    }
   ],
   "source": [
    "# get names and dimensions of all elements in the lif file\n",
    "[[image.name, image.dims] for image in exp.get_iter_image()]"
   ]
  },
  {
   "cell_type": "code",
   "execution_count": 6,
   "metadata": {},
   "outputs": [
    {
     "data": {
      "text/plain": [
       "[Dims(x=16792, y=16800, z=1, t=241, m=1),\n",
       " Dims(x=16796, y=16798, z=1, t=241, m=1),\n",
       " Dims(x=16794, y=16797, z=1, t=241, m=1),\n",
       " Dims(x=16802, y=16793, z=1, t=241, m=1),\n",
       " Dims(x=16808, y=16802, z=1, t=241, m=1),\n",
       " Dims(x=16796, y=16790, z=1, t=241, m=1)]"
      ]
     },
     "execution_count": 6,
     "metadata": {},
     "output_type": "execute_result"
    }
   ],
   "source": [
    "# get a list based on criteria regarding dimensions\n",
    "[image.dims for image in exp.get_iter_image() if ((image.dims.t>100) and (image.dims.x > 2048))]"
   ]
  },
  {
   "cell_type": "code",
   "execution_count": 7,
   "metadata": {},
   "outputs": [
    {
     "data": {
      "text/plain": [
       "'LifImage object with dimensions: Dims(x=16802, y=16793, z=1, t=241, m=1)'"
      ]
     },
     "execution_count": 7,
     "metadata": {},
     "output_type": "execute_result"
    }
   ],
   "source": [
    "# get a a selected series\n",
    "sel_name = 'TileScan 5/E6_Merged'\n",
    "t = [image for image in exp.get_iter_image() if sel_name in image.name][0]\n",
    "t"
   ]
  },
  {
   "cell_type": "code",
   "execution_count": 29,
   "metadata": {},
   "outputs": [],
   "source": [
    "from numcodecs import Blosc\n",
    "compressor = Blosc(cname='lz4', clevel=1, shuffle=Blosc.NOSHUFFLE)"
   ]
  },
  {
   "cell_type": "code",
   "execution_count": 30,
   "metadata": {},
   "outputs": [
    {
     "data": {
      "text/plain": [
       "[]"
      ]
     },
     "execution_count": 30,
     "metadata": {},
     "output_type": "execute_result"
    }
   ],
   "source": [
    "def frame_getter(lif,ind):\n",
    "\n",
    "    return np.array(lif.get_frame(z=0, t=ind, c=1))\n",
    "\n",
    "lazy_arrays = [delayed(frame_getter)(t,i) for i in range(t.dims.t)]\n",
    "dask_arrays = [da.from_delayed(delayed_reader, shape=[16793,16802], dtype='uint16') for delayed_reader in lazy_arrays]\n",
    "stack = da.stack(dask_arrays, axis=0)\n",
    "\n",
    "# save zarr file\n",
    "\n",
    "size_t = 50\n",
    "size_xy = 128\n",
    "\n",
    "zarr_path = r'D:\\kasia\\tracking\\zarr_tests\\E6_C1_c1.zarr'\n",
    "\n",
    "# write the image data\n",
    "store = parse_url(zarr_path, mode=\"w\").store\n",
    "root = zarr.group(store=store)\n",
    "\n",
    "# it will fail if the store already contains arrays\n",
    "write_image(image=stack, group=root, axes=\"tyx\", storage_options=dict(chunks=(size_t,size_xy, size_xy),compressor=compressor))"
   ]
  },
  {
   "cell_type": "code",
   "execution_count": 28,
   "metadata": {},
   "outputs": [
    {
     "name": "stdout",
     "output_type": "stream",
     "text": [
      "CPU times: total: 0 ns\n",
      "Wall time: 0 ns\n"
     ]
    },
    {
     "data": {
      "text/html": [
       "<table class=\"zarr-info\"><tbody><tr><th style=\"text-align: left\">Name</th><td style=\"text-align: left\">/0</td></tr><tr><th style=\"text-align: left\">Type</th><td style=\"text-align: left\">zarr.core.Array</td></tr><tr><th style=\"text-align: left\">Data type</th><td style=\"text-align: left\">int32</td></tr><tr><th style=\"text-align: left\">Shape</th><td style=\"text-align: left\">(1, 1000, 1000)</td></tr><tr><th style=\"text-align: left\">Chunk shape</th><td style=\"text-align: left\">(1, 100, 100)</td></tr><tr><th style=\"text-align: left\">Order</th><td style=\"text-align: left\">C</td></tr><tr><th style=\"text-align: left\">Read-only</th><td style=\"text-align: left\">False</td></tr><tr><th style=\"text-align: left\">Compressor</th><td style=\"text-align: left\">Blosc(cname='lz4', clevel=5, shuffle=NOSHUFFLE, blocksize=0)</td></tr><tr><th style=\"text-align: left\">Store type</th><td style=\"text-align: left\">zarr.storage.DirectoryStore</td></tr><tr><th style=\"text-align: left\">No. bytes</th><td style=\"text-align: left\">4000000 (3.8M)</td></tr><tr><th style=\"text-align: left\">No. bytes stored</th><td style=\"text-align: left\">395</td></tr><tr><th style=\"text-align: left\">Storage ratio</th><td style=\"text-align: left\">10126.6</td></tr><tr><th style=\"text-align: left\">Chunks initialized</th><td style=\"text-align: left\">1/100</td></tr></tbody></table>"
      ],
      "text/plain": [
       "Name               : /0\n",
       "Type               : zarr.core.Array\n",
       "Data type          : int32\n",
       "Shape              : (1, 1000, 1000)\n",
       "Chunk shape        : (1, 100, 100)\n",
       "Order              : C\n",
       "Read-only          : False\n",
       "Compressor         : Blosc(cname='lz4', clevel=5, shuffle=NOSHUFFLE,\n",
       "                   : blocksize=0)\n",
       "Store type         : zarr.storage.DirectoryStore\n",
       "No. bytes          : 4000000 (3.8M)\n",
       "No. bytes stored   : 395\n",
       "Storage ratio      : 10126.6\n",
       "Chunks initialized : 1/100"
      ]
     },
     "execution_count": 28,
     "metadata": {},
     "output_type": "execute_result"
    }
   ],
   "source": [
    "%time\n",
    "zarr_array = zarr.open(zarr_path)\n",
    "zarr_array[0].info"
   ]
  },
  {
   "cell_type": "code",
   "execution_count": 23,
   "metadata": {},
   "outputs": [
    {
     "data": {
      "text/html": [
       "<table class=\"zarr-info\"><tbody><tr><th style=\"text-align: left\">Name</th><td style=\"text-align: left\">/0</td></tr><tr><th style=\"text-align: left\">Type</th><td style=\"text-align: left\">zarr.core.Array</td></tr><tr><th style=\"text-align: left\">Data type</th><td style=\"text-align: left\">int32</td></tr><tr><th style=\"text-align: left\">Shape</th><td style=\"text-align: left\">(1, 100, 100)</td></tr><tr><th style=\"text-align: left\">Chunk shape</th><td style=\"text-align: left\">(1, 10, 10)</td></tr><tr><th style=\"text-align: left\">Order</th><td style=\"text-align: left\">C</td></tr><tr><th style=\"text-align: left\">Read-only</th><td style=\"text-align: left\">False</td></tr><tr><th style=\"text-align: left\">Compressor</th><td style=\"text-align: left\">Blosc(cname='lz4', clevel=5, shuffle=NOSHUFFLE, blocksize=0)</td></tr><tr><th style=\"text-align: left\">Store type</th><td style=\"text-align: left\">zarr.storage.DirectoryStore</td></tr><tr><th style=\"text-align: left\">No. bytes</th><td style=\"text-align: left\">40000 (39.1K)</td></tr><tr><th style=\"text-align: left\">No. bytes stored</th><td style=\"text-align: left\">391</td></tr><tr><th style=\"text-align: left\">Storage ratio</th><td style=\"text-align: left\">102.3</td></tr><tr><th style=\"text-align: left\">Chunks initialized</th><td style=\"text-align: left\">1/100</td></tr></tbody></table>"
      ],
      "text/plain": [
       "Name               : /0\n",
       "Type               : zarr.core.Array\n",
       "Data type          : int32\n",
       "Shape              : (1, 100, 100)\n",
       "Chunk shape        : (1, 10, 10)\n",
       "Order              : C\n",
       "Read-only          : False\n",
       "Compressor         : Blosc(cname='lz4', clevel=5, shuffle=NOSHUFFLE,\n",
       "                   : blocksize=0)\n",
       "Store type         : zarr.storage.DirectoryStore\n",
       "No. bytes          : 40000 (39.1K)\n",
       "No. bytes stored   : 391\n",
       "Storage ratio      : 102.3\n",
       "Chunks initialized : 1/100"
      ]
     },
     "execution_count": 23,
     "metadata": {},
     "output_type": "execute_result"
    }
   ],
   "source": [
    "zarr_array = zarr.open(zarr_path)\n",
    "zarr_array[0].info"
   ]
  },
  {
   "cell_type": "code",
   "execution_count": 5,
   "metadata": {},
   "outputs": [],
   "source": [
    "from tifffile import imread\n",
    "import dask.array as da"
   ]
  },
  {
   "cell_type": "code",
   "execution_count": 2,
   "metadata": {},
   "outputs": [],
   "source": [
    "labels_example_path = r'D:\\kasia\\tracking\\E6_exp\\sample_data\\track_labels.tif'"
   ]
  },
  {
   "cell_type": "code",
   "execution_count": 3,
   "metadata": {},
   "outputs": [],
   "source": [
    "labels = imread(labels_example_path)"
   ]
  },
  {
   "cell_type": "code",
   "execution_count": 8,
   "metadata": {},
   "outputs": [],
   "source": [
    "labels_da = da.from_array(labels, chunks=(10, 128, 128))"
   ]
  },
  {
   "cell_type": "code",
   "execution_count": 7,
   "metadata": {},
   "outputs": [
    {
     "data": {
      "text/html": [
       "<table>\n",
       "    <tr>\n",
       "        <td>\n",
       "            <table style=\"border-collapse: collapse;\">\n",
       "                <thead>\n",
       "                    <tr>\n",
       "                        <td> </td>\n",
       "                        <th> Array </th>\n",
       "                        <th> Chunk </th>\n",
       "                    </tr>\n",
       "                </thead>\n",
       "                <tbody>\n",
       "                    \n",
       "                    <tr>\n",
       "                        <th> Bytes </th>\n",
       "                        <td> 76.29 MiB </td>\n",
       "                        <td> 1.25 MiB </td>\n",
       "                    </tr>\n",
       "                    \n",
       "                    <tr>\n",
       "                        <th> Shape </th>\n",
       "                        <td> (20, 1000, 1000) </td>\n",
       "                        <td> (20, 128, 128) </td>\n",
       "                    </tr>\n",
       "                    <tr>\n",
       "                        <th> Dask graph </th>\n",
       "                        <td colspan=\"2\"> 64 chunks in 1 graph layer </td>\n",
       "                    </tr>\n",
       "                    <tr>\n",
       "                        <th> Data type </th>\n",
       "                        <td colspan=\"2\"> int32 numpy.ndarray </td>\n",
       "                    </tr>\n",
       "                </tbody>\n",
       "            </table>\n",
       "        </td>\n",
       "        <td>\n",
       "        <svg width=\"197\" height=\"187\" style=\"stroke:rgb(0,0,0);stroke-width:1\" >\n",
       "\n",
       "  <!-- Horizontal lines -->\n",
       "  <line x1=\"10\" y1=\"0\" x2=\"27\" y2=\"17\" style=\"stroke-width:2\" />\n",
       "  <line x1=\"10\" y1=\"15\" x2=\"27\" y2=\"32\" />\n",
       "  <line x1=\"10\" y1=\"30\" x2=\"27\" y2=\"47\" />\n",
       "  <line x1=\"10\" y1=\"46\" x2=\"27\" y2=\"63\" />\n",
       "  <line x1=\"10\" y1=\"61\" x2=\"27\" y2=\"78\" />\n",
       "  <line x1=\"10\" y1=\"76\" x2=\"27\" y2=\"93\" />\n",
       "  <line x1=\"10\" y1=\"92\" x2=\"27\" y2=\"109\" />\n",
       "  <line x1=\"10\" y1=\"107\" x2=\"27\" y2=\"124\" />\n",
       "  <line x1=\"10\" y1=\"120\" x2=\"27\" y2=\"137\" style=\"stroke-width:2\" />\n",
       "\n",
       "  <!-- Vertical lines -->\n",
       "  <line x1=\"10\" y1=\"0\" x2=\"10\" y2=\"120\" style=\"stroke-width:2\" />\n",
       "  <line x1=\"27\" y1=\"17\" x2=\"27\" y2=\"137\" style=\"stroke-width:2\" />\n",
       "\n",
       "  <!-- Colored Rectangle -->\n",
       "  <polygon points=\"10.0,0.0 27.076840594396398,17.076840594396398 27.076840594396398,137.0768405943964 10.0,120.0\" style=\"fill:#ECB172A0;stroke-width:0\"/>\n",
       "\n",
       "  <!-- Horizontal lines -->\n",
       "  <line x1=\"10\" y1=\"0\" x2=\"130\" y2=\"0\" style=\"stroke-width:2\" />\n",
       "  <line x1=\"27\" y1=\"17\" x2=\"147\" y2=\"17\" style=\"stroke-width:2\" />\n",
       "\n",
       "  <!-- Vertical lines -->\n",
       "  <line x1=\"10\" y1=\"0\" x2=\"27\" y2=\"17\" style=\"stroke-width:2\" />\n",
       "  <line x1=\"25\" y1=\"0\" x2=\"42\" y2=\"17\" />\n",
       "  <line x1=\"40\" y1=\"0\" x2=\"57\" y2=\"17\" />\n",
       "  <line x1=\"56\" y1=\"0\" x2=\"73\" y2=\"17\" />\n",
       "  <line x1=\"71\" y1=\"0\" x2=\"88\" y2=\"17\" />\n",
       "  <line x1=\"86\" y1=\"0\" x2=\"103\" y2=\"17\" />\n",
       "  <line x1=\"102\" y1=\"0\" x2=\"119\" y2=\"17\" />\n",
       "  <line x1=\"117\" y1=\"0\" x2=\"134\" y2=\"17\" />\n",
       "  <line x1=\"130\" y1=\"0\" x2=\"147\" y2=\"17\" style=\"stroke-width:2\" />\n",
       "\n",
       "  <!-- Colored Rectangle -->\n",
       "  <polygon points=\"10.0,0.0 130.0,0.0 147.0768405943964,17.076840594396398 27.076840594396398,17.076840594396398\" style=\"fill:#ECB172A0;stroke-width:0\"/>\n",
       "\n",
       "  <!-- Horizontal lines -->\n",
       "  <line x1=\"27\" y1=\"17\" x2=\"147\" y2=\"17\" style=\"stroke-width:2\" />\n",
       "  <line x1=\"27\" y1=\"32\" x2=\"147\" y2=\"32\" />\n",
       "  <line x1=\"27\" y1=\"47\" x2=\"147\" y2=\"47\" />\n",
       "  <line x1=\"27\" y1=\"63\" x2=\"147\" y2=\"63\" />\n",
       "  <line x1=\"27\" y1=\"78\" x2=\"147\" y2=\"78\" />\n",
       "  <line x1=\"27\" y1=\"93\" x2=\"147\" y2=\"93\" />\n",
       "  <line x1=\"27\" y1=\"109\" x2=\"147\" y2=\"109\" />\n",
       "  <line x1=\"27\" y1=\"124\" x2=\"147\" y2=\"124\" />\n",
       "  <line x1=\"27\" y1=\"137\" x2=\"147\" y2=\"137\" style=\"stroke-width:2\" />\n",
       "\n",
       "  <!-- Vertical lines -->\n",
       "  <line x1=\"27\" y1=\"17\" x2=\"27\" y2=\"137\" style=\"stroke-width:2\" />\n",
       "  <line x1=\"42\" y1=\"17\" x2=\"42\" y2=\"137\" />\n",
       "  <line x1=\"57\" y1=\"17\" x2=\"57\" y2=\"137\" />\n",
       "  <line x1=\"73\" y1=\"17\" x2=\"73\" y2=\"137\" />\n",
       "  <line x1=\"88\" y1=\"17\" x2=\"88\" y2=\"137\" />\n",
       "  <line x1=\"103\" y1=\"17\" x2=\"103\" y2=\"137\" />\n",
       "  <line x1=\"119\" y1=\"17\" x2=\"119\" y2=\"137\" />\n",
       "  <line x1=\"134\" y1=\"17\" x2=\"134\" y2=\"137\" />\n",
       "  <line x1=\"147\" y1=\"17\" x2=\"147\" y2=\"137\" style=\"stroke-width:2\" />\n",
       "\n",
       "  <!-- Colored Rectangle -->\n",
       "  <polygon points=\"27.076840594396398,17.076840594396398 147.0768405943964,17.076840594396398 147.0768405943964,137.0768405943964 27.076840594396398,137.0768405943964\" style=\"fill:#ECB172A0;stroke-width:0\"/>\n",
       "\n",
       "  <!-- Text -->\n",
       "  <text x=\"87.076841\" y=\"157.076841\" font-size=\"1.0rem\" font-weight=\"100\" text-anchor=\"middle\" >1000</text>\n",
       "  <text x=\"167.076841\" y=\"77.076841\" font-size=\"1.0rem\" font-weight=\"100\" text-anchor=\"middle\" transform=\"rotate(-90,167.076841,77.076841)\">1000</text>\n",
       "  <text x=\"8.538420\" y=\"148.538420\" font-size=\"1.0rem\" font-weight=\"100\" text-anchor=\"middle\" transform=\"rotate(45,8.538420,148.538420)\">20</text>\n",
       "</svg>\n",
       "        </td>\n",
       "    </tr>\n",
       "</table>"
      ],
      "text/plain": [
       "dask.array<array, shape=(20, 1000, 1000), dtype=int32, chunksize=(20, 128, 128), chunktype=numpy.ndarray>"
      ]
     },
     "execution_count": 7,
     "metadata": {},
     "output_type": "execute_result"
    }
   ],
   "source": [
    "labels_da"
   ]
  },
  {
   "cell_type": "code",
   "execution_count": 11,
   "metadata": {},
   "outputs": [
    {
     "data": {
      "text/plain": [
       "[]"
      ]
     },
     "execution_count": 11,
     "metadata": {},
     "output_type": "execute_result"
    }
   ],
   "source": [
    "from numcodecs import Blosc\n",
    "compressor = Blosc(cname='lz4', clevel=1, shuffle=Blosc.BITSHUFFLE)\n",
    "\n",
    "# save zarr file\n",
    "\n",
    "size_t = 10\n",
    "size_xy = 128\n",
    "\n",
    "zarr_path = r'D:\\kasia\\tracking\\zarr_tests\\labels_c1.zarr'\n",
    "\n",
    "# write the image data\n",
    "store = parse_url(zarr_path, mode=\"w\").store\n",
    "root = zarr.group(store=store)\n",
    "\n",
    "# it will fail if the store already contains arrays\n",
    "write_image(image=labels_da, group=root, axes=\"tyx\", storage_options=dict(chunks=(size_t,size_xy, size_xy),compressor=compressor))"
   ]
  },
  {
   "cell_type": "code",
   "execution_count": 12,
   "metadata": {},
   "outputs": [
    {
     "data": {
      "text/html": [
       "<table class=\"zarr-info\"><tbody><tr><th style=\"text-align: left\">Name</th><td style=\"text-align: left\">/0</td></tr><tr><th style=\"text-align: left\">Type</th><td style=\"text-align: left\">zarr.core.Array</td></tr><tr><th style=\"text-align: left\">Data type</th><td style=\"text-align: left\">int32</td></tr><tr><th style=\"text-align: left\">Shape</th><td style=\"text-align: left\">(20, 1000, 1000)</td></tr><tr><th style=\"text-align: left\">Chunk shape</th><td style=\"text-align: left\">(10, 128, 128)</td></tr><tr><th style=\"text-align: left\">Order</th><td style=\"text-align: left\">C</td></tr><tr><th style=\"text-align: left\">Read-only</th><td style=\"text-align: left\">False</td></tr><tr><th style=\"text-align: left\">Compressor</th><td style=\"text-align: left\">Blosc(cname='lz4', clevel=1, shuffle=BITSHUFFLE, blocksize=0)</td></tr><tr><th style=\"text-align: left\">Store type</th><td style=\"text-align: left\">zarr.storage.DirectoryStore</td></tr><tr><th style=\"text-align: left\">No. bytes</th><td style=\"text-align: left\">80000000 (76.3M)</td></tr><tr><th style=\"text-align: left\">No. bytes stored</th><td style=\"text-align: left\">397</td></tr><tr><th style=\"text-align: left\">Storage ratio</th><td style=\"text-align: left\">201511.3</td></tr><tr><th style=\"text-align: left\">Chunks initialized</th><td style=\"text-align: left\">2/128</td></tr></tbody></table>"
      ],
      "text/plain": [
       "Name               : /0\n",
       "Type               : zarr.core.Array\n",
       "Data type          : int32\n",
       "Shape              : (20, 1000, 1000)\n",
       "Chunk shape        : (10, 128, 128)\n",
       "Order              : C\n",
       "Read-only          : False\n",
       "Compressor         : Blosc(cname='lz4', clevel=1, shuffle=BITSHUFFLE,\n",
       "                   : blocksize=0)\n",
       "Store type         : zarr.storage.DirectoryStore\n",
       "No. bytes          : 80000000 (76.3M)\n",
       "No. bytes stored   : 397\n",
       "Storage ratio      : 201511.3\n",
       "Chunks initialized : 2/128"
      ]
     },
     "execution_count": 12,
     "metadata": {},
     "output_type": "execute_result"
    }
   ],
   "source": [
    "zarr_array = zarr.open(zarr_path)\n",
    "zarr_array[0].info"
   ]
  },
  {
   "cell_type": "code",
   "execution_count": 15,
   "metadata": {},
   "outputs": [
    {
     "data": {
      "text/plain": [
       "'D:\\\\kasia\\\\tracking\\\\zarr_tests\\\\labels_c1.zarr'"
      ]
     },
     "execution_count": 15,
     "metadata": {},
     "output_type": "execute_result"
    }
   ],
   "source": [
    "zarr_path"
   ]
  },
  {
   "cell_type": "code",
   "execution_count": null,
   "metadata": {},
   "outputs": [],
   "source": []
  }
 ],
 "metadata": {
  "kernelspec": {
   "display_name": "tracking",
   "language": "python",
   "name": "python3"
  },
  "language_info": {
   "codemirror_mode": {
    "name": "ipython",
    "version": 3
   },
   "file_extension": ".py",
   "mimetype": "text/x-python",
   "name": "python",
   "nbconvert_exporter": "python",
   "pygments_lexer": "ipython3",
   "version": "3.10.13"
  }
 },
 "nbformat": 4,
 "nbformat_minor": 2
}

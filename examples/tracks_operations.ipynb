{
 "cells": [
  {
   "cell_type": "code",
   "execution_count": 2,
   "metadata": {},
   "outputs": [],
   "source": [
    "%load_ext autoreload\n",
    "%autoreload 2\n",
    "\n",
    "import os\n",
    "import zarr\n",
    "import dask.array as da\n",
    "import napari\n",
    "import sys\n",
    "import numpy as np\n",
    "\n",
    "from sqlalchemy import create_engine\n",
    "from sqlalchemy.orm import Session\n",
    "\n",
    "from ete3 import Tree\n",
    "\n",
    "sys.path.append('../libraries')\n",
    "import family_graph as fg\n",
    "from cells_database import Base, CellDB, TrackDB"
   ]
  },
  {
   "cell_type": "code",
   "execution_count": 3,
   "metadata": {},
   "outputs": [],
   "source": [
    "os.environ['NAPARI_PERFMON'] = '0'"
   ]
  },
  {
   "cell_type": "code",
   "execution_count": 4,
   "metadata": {},
   "outputs": [
    {
     "data": {
      "text/plain": [
       "(241, 8396, 8401)"
      ]
     },
     "execution_count": 4,
     "metadata": {},
     "output_type": "execute_result"
    }
   ],
   "source": [
    "labels_zarr_path = r'D:\\kasia\\tracking\\E6_exp\\code\\tests\\example_track_labels.zarr'\n",
    "labels = da.from_zarr(labels_zarr_path)\n",
    "labels.shape"
   ]
  },
  {
   "cell_type": "code",
   "execution_count": 5,
   "metadata": {},
   "outputs": [
    {
     "data": {
      "text/plain": [
       "(10, 500, 500)"
      ]
     },
     "execution_count": 5,
     "metadata": {},
     "output_type": "execute_result"
    }
   ],
   "source": [
    "# get an example small set of labels\n",
    "labels_small = labels[:10, 4000:4500, 4000:4500].compute()\n",
    "labels_small.shape"
   ]
  },
  {
   "cell_type": "code",
   "execution_count": 6,
   "metadata": {},
   "outputs": [],
   "source": [
    "# display the labels\n",
    "viewer = napari.Viewer()\n",
    "labels_layer = viewer.add_labels(labels,name='Labels')\n",
    "fg.viewer = viewer"
   ]
  },
  {
   "cell_type": "code",
   "execution_count": 47,
   "metadata": {},
   "outputs": [],
   "source": [
    "# get access to the database\n",
    "new_db_path = r'D:\\kasia\\tracking\\E6_exp\\code\\gardener_20_dev\\cells_database_2tables - Copy.db'\n",
    "engine = create_engine(f'sqlite:///{new_db_path}')\n",
    "\n",
    "# send engine to the library\n",
    "fg.engine = engine"
   ]
  },
  {
   "cell_type": "code",
   "execution_count": 8,
   "metadata": {},
   "outputs": [
    {
     "data": {
      "text/plain": [
       "<napari._qt.widgets.qt_viewer_dock_widget.QtViewerDockWidget at 0x1fc82832f80>"
      ]
     },
     "execution_count": 8,
     "metadata": {},
     "output_type": "execute_result"
    }
   ],
   "source": [
    "# create a plot widget\n",
    "t_max = viewer.dims.range[0][1]\n",
    "plot_widget = fg.build_lineage_widget(t_max)\n",
    "fg.plot_widget = plot_widget\n",
    "\n",
    "\n",
    "# add lineage graph\n",
    "viewer.window.add_dock_widget(plot_widget,area='bottom',name='family')"
   ]
  },
  {
   "cell_type": "code",
   "execution_count": 9,
   "metadata": {},
   "outputs": [
    {
     "data": {
      "text/plain": [
       "<function family_graph.update_lineage_display(event)>"
      ]
     },
     "execution_count": 9,
     "metadata": {},
     "output_type": "execute_result"
    }
   ],
   "source": [
    "# connect lineage graph update\n",
    "labels_layer.events.selected_label.connect(fg.update_lineage_display)"
   ]
  },
  {
   "cell_type": "code",
   "execution_count": 10,
   "metadata": {},
   "outputs": [],
   "source": [
    "import track_module as tm \n",
    "from sqlalchemy import and_\n",
    "import pandas as pd\n",
    "from sqlalchemy.orm import aliased"
   ]
  },
  {
   "cell_type": "code",
   "execution_count": 26,
   "metadata": {},
   "outputs": [],
   "source": [
    "def get_descendants(engine,active_label):\n",
    "    \n",
    "    \"\"\"\n",
    "    Function to recursively get all descendants of a given label.\n",
    "    input:\n",
    "        engine - sqlalchemy engine\n",
    "        active_label - label for which we want to get descendants\n",
    "    output:\n",
    "        descendants - list of descendants as row objects \n",
    "    \"\"\"\n",
    "\n",
    "    with Session(engine) as session:\n",
    "\n",
    "        cte = session.query(TrackDB).filter\\\n",
    "        (TrackDB.track_id == active_label).cte(recursive=True)\n",
    "        \n",
    "        cte_alias = aliased(cte, name='cte_alias')\n",
    "\n",
    "        cte = cte.union_all(\\\n",
    "            session.query(TrackDB).filter\\\n",
    "            (TrackDB.parent_track_id == cte_alias.c.track_id)\n",
    "        )\n",
    "\n",
    "        descendants = session.query(cte).all()\n",
    "\n",
    "        return descendants"
   ]
  },
  {
   "cell_type": "code",
   "execution_count": 27,
   "metadata": {},
   "outputs": [],
   "source": [
    "def get_track_bbox(query):\n",
    "\n",
    "    \"\"\"\n",
    "    Helper function that returns bounding box of a track.\n",
    "    input:\n",
    "        query - list of row objects\n",
    "    output:\n",
    "        row_start, row_stop, column_start, column_stop- bounding box\n",
    "        t_stop - last time point of the track\n",
    "    \"\"\"\n",
    "\n",
    "    # find bounding boxes of the track\n",
    "    row_start = min(cell.bbox_0 for cell in query)\n",
    "    row_stop = max(cell.bbox_2 for cell in query)\n",
    "    column_start = min(cell.bbox_1 for cell in query)\n",
    "    column_stop = max(cell.bbox_3 for cell in query)\n",
    "    t_stop = max(cell.t for cell in query)\n",
    "\n",
    "    return (t_stop, row_start, row_stop, column_start, column_stop)"
   ]
  },
  {
   "cell_type": "code",
   "execution_count": 56,
   "metadata": {},
   "outputs": [],
   "source": [
    "def modify_trackDB(engine,descendants,active_label,new_track,current_frame):\n",
    "    \n",
    "    \"\"\"\n",
    "    Function to modify track_id for a given label and all its descendants.\n",
    "    input:\n",
    "        engine - sqlalchemy engine\n",
    "        descendants - descendants always starting with the active_label itself\n",
    "        active_label - label for which we want to get descendants\n",
    "        new_track - new track_id\n",
    "        current_frame - time point of a cut\n",
    "    output:\n",
    "        None\n",
    "    \"\"\"\n",
    "\n",
    "    with Session(engine) as session:\n",
    "\n",
    "        # get the acual track and check what will be done\n",
    "        record = session.query(TrackDB).filter_by(track_id=descendants[0].track_id).first()\n",
    "\n",
    "        # when a track is truly cut\n",
    "        if record.t_begin < current_frame:\n",
    "\n",
    "            # add completely new track to start the new family\n",
    "            track = TrackDB(track_id = new_track,\\\n",
    "            parent_track_id = -1,\\\n",
    "            root = new_track,\\\n",
    "            t_begin = current_frame,\\\n",
    "            t_end = record.t_end)\n",
    "\n",
    "            session.add(track)\n",
    "\n",
    "            # modify the end of the track \n",
    "            record.t_end = current_frame - 1\n",
    "            \n",
    "        # if just deataching from mitosis or by accident clicked on the first label that is unconnected\n",
    "        else:\n",
    "\n",
    "            # indicate that the track is now first in the family\n",
    "            record.parent_track_id = -1\n",
    "\n",
    "            # there will be no new_track entry added\n",
    "            new_track = active_label\n",
    "\n",
    "        # changes for true descendants \n",
    "        for tr in descendants[1:]:\n",
    "\n",
    "            # Fetch the actual record from the database\n",
    "            record = session.query(TrackDB).filter_by(track_id=tr.track_id).first()\n",
    "\n",
    "            # change the value of the root track\n",
    "            record.root = new_track\n",
    "\n",
    "            if record.parent_track_id == active_label:\n",
    "\n",
    "                 # indicate that the track is now first in the family\n",
    "                record.parent_track_id = new_track\n",
    "\n",
    "        session.commit()"
   ]
  },
  {
   "cell_type": "code",
   "execution_count": 29,
   "metadata": {},
   "outputs": [],
   "source": [
    "def cut_cellsDB(engine,descendants,active_label,current_frame):\n",
    "\n",
    "    \"\"\"\n",
    "    Function to change track_id in cellsDB.\n",
    "    To minimize the number of queries returns the bounding box of the track\n",
    "    and the value for a new track_id.\n",
    "    input:\n",
    "        engine - sqlalchemy engine\n",
    "        descendants - list of descendants as row objects\n",
    "        active_label - label for which the track is cut\n",
    "        current_frame - current time point  \n",
    "    output:\n",
    "        new_track - new track_id\n",
    "        track_bbox - bounding box of the track\n",
    "    \"\"\"\n",
    "\n",
    "    with Session(engine) as session:\n",
    "        \n",
    "        # query CellDB \n",
    "        # order by time\n",
    "        query = session.query(CellDB).filter\\\n",
    "        (and_(CellDB.track_id == active_label, CellDB.t >= current_frame))\\\n",
    "        .order_by(CellDB.t).all()\n",
    "\n",
    "        assert len(query) > 0, 'No cells found for the given track'\n",
    "\n",
    "        # change the parent id of the first cell\n",
    "        query[0].parent_id = -1\n",
    "\n",
    "        # the cell is actually the beginning of the track\n",
    "        # only changes to the connections\n",
    "        if (query[0].t == descendants[0].t_begin):\n",
    "\n",
    "            # no need for changing the active track_id\n",
    "            new_track = active_label\n",
    "\n",
    "            # there will be no changes in the labels layer\n",
    "            track_bbox = None\n",
    "\n",
    "        else:\n",
    "\n",
    "            # find new track number\n",
    "            new_track = tm.newTrack_number(engine)\n",
    "\n",
    "            # change track_ids for the cells\n",
    "            for cell in query:\n",
    "                cell.track_id = new_track\n",
    "\n",
    "            # get the track_bbox\n",
    "            track_bbox = get_track_bbox(query)\n",
    "\n",
    "            session.commit()\n",
    "\n",
    "    return new_track, track_bbox"
   ]
  },
  {
   "cell_type": "code",
   "execution_count": 42,
   "metadata": {},
   "outputs": [],
   "source": [
    "# get the position in time\n",
    "current_frame = viewer.dims.current_step[0]\n",
    "\n",
    "# get my label\n",
    "active_label = int(viewer.layers['Labels'].selected_label)\n",
    "\n",
    "# find new track number\n",
    "newTrack = tm.newTrack_number(engine)"
   ]
  },
  {
   "cell_type": "code",
   "execution_count": 52,
   "metadata": {},
   "outputs": [
    {
     "name": "stdout",
     "output_type": "stream",
     "text": [
      "11430\n",
      "75019\n",
      "16\n",
      "[(11430, 11429, 11429, 13, 47), (11432, 11430, 11429, 48, 54), (11431, 11430, 11429, 48, 182), (11433, 11432, 11429, 55, 55), (11436, 11432, 11429, 55, 80), (11435, 11433, 11429, 56, 111), (11434, 11433, 11429, 56, 180)]\n"
     ]
    }
   ],
   "source": [
    "print(active_label)\n",
    "print(newTrack)\n",
    "print(current_frame)\n",
    "print(descendants)  "
   ]
  },
  {
   "cell_type": "code",
   "execution_count": 57,
   "metadata": {},
   "outputs": [],
   "source": [
    "# get descendants\n",
    "descendants = get_descendants(engine,active_label)\n",
    "\n",
    "# cut cellsDB\n",
    "new_track, track_bbox = cut_cellsDB(engine,descendants,active_label,current_frame)\n",
    "\n",
    "# cut trackDB\n",
    "modify_trackDB(engine,descendants,active_label,new_track,current_frame)"
   ]
  },
  {
   "cell_type": "code",
   "execution_count": 45,
   "metadata": {},
   "outputs": [
    {
     "name": "stdout",
     "output_type": "stream",
     "text": [
      "75019\n",
      "(47, 3941, 4010, 4153, 4209)\n"
     ]
    }
   ],
   "source": [
    "print(new_track)\n",
    "print(track_bbox)"
   ]
  },
  {
   "cell_type": "code",
   "execution_count": null,
   "metadata": {},
   "outputs": [],
   "source": [
    "# modify labels if needed\n",
    "if track_bbox is not None:\n",
    "\n",
    "    sel = labels[current_frame:track_bbox[0],track_bbox[1]:track_bbox[2],track_bbox[3]:track_bbox[4]\n",
    "    sel[sel == active_label] = newTrack\n",
    "    labels[current_frame:track_bbox[0],track_bbox[1]:track_bbox[2],track_bbox[3]:track_bbox[4]] = sel\n",
    "\n",
    "    viewer.layers['Labels'].data = labels"
   ]
  },
  {
   "cell_type": "code",
   "execution_count": 58,
   "metadata": {},
   "outputs": [
    {
     "data": {
      "text/plain": [
       "[Track 11431 from 48 to 182,\n",
       " Track 11432 from 48 to 54,\n",
       " Track 11433 from 55 to 55,\n",
       " Track 11434 from 56 to 180,\n",
       " Track 11435 from 56 to 111,\n",
       " Track 11436 from 55 to 80,\n",
       " Track 75019 from 16 to 15]"
      ]
     },
     "execution_count": 58,
     "metadata": {},
     "output_type": "execute_result"
    }
   ],
   "source": [
    "with Session(engine) as session:\n",
    "\n",
    "    query = session.query(TrackDB).filter(TrackDB.root == new_track).all()\n",
    "\n",
    "query\n"
   ]
  },
  {
   "cell_type": "code",
   "execution_count": 53,
   "metadata": {},
   "outputs": [],
   "source": [
    "with Session(engine) as session:\n",
    "\n",
    "    query = session.query(CellDB).filter\\\n",
    "        (and_(CellDB.track_id == active_label, CellDB.t >= current_frame))\\\n",
    "    .order_by(CellDB.t).all()"
   ]
  },
  {
   "cell_type": "code",
   "execution_count": 54,
   "metadata": {},
   "outputs": [
    {
     "data": {
      "text/plain": [
       "[17004006 from frame 16 with track_id 11430 at (3959,4190),\n",
       " 18004011 from frame 17 with track_id 11430 at (3958,4188),\n",
       " 19004042 from frame 18 with track_id 11430 at (3960,4186),\n",
       " 20004162 from frame 19 with track_id 11430 at (3961,4186),\n",
       " 21004244 from frame 20 with track_id 11430 at (3960,4184),\n",
       " 22004265 from frame 21 with track_id 11430 at (3959,4183),\n",
       " 23004320 from frame 22 with track_id 11430 at (3958,4182),\n",
       " 24004298 from frame 23 with track_id 11430 at (3957,4180),\n",
       " 25004413 from frame 24 with track_id 11430 at (3959,4186),\n",
       " 26004425 from frame 25 with track_id 11430 at (3954,4175),\n",
       " 27004476 from frame 26 with track_id 11430 at (3955,4174),\n",
       " 28004499 from frame 27 with track_id 11430 at (3959,4180),\n",
       " 29004646 from frame 28 with track_id 11430 at (3960,4178),\n",
       " 30004605 from frame 29 with track_id 11430 at (3962,4174),\n",
       " 31004688 from frame 30 with track_id 11430 at (3963,4174),\n",
       " 32004702 from frame 31 with track_id 11430 at (3965,4172),\n",
       " 33004717 from frame 32 with track_id 11430 at (3966,4172),\n",
       " 34004733 from frame 33 with track_id 11430 at (3968,4172),\n",
       " 35004757 from frame 34 with track_id 11430 at (3966,4171),\n",
       " 36004859 from frame 35 with track_id 11430 at (3968,4171),\n",
       " 37004826 from frame 36 with track_id 11430 at (3967,4170),\n",
       " 38004881 from frame 37 with track_id 11430 at (3970,4171),\n",
       " 39004844 from frame 38 with track_id 11430 at (3971,4172),\n",
       " 40004993 from frame 39 with track_id 11430 at (3974,4172),\n",
       " 41005042 from frame 40 with track_id 11430 at (3974,4172),\n",
       " 42004988 from frame 41 with track_id 11430 at (3976,4170),\n",
       " 43005057 from frame 42 with track_id 11430 at (3976,4170),\n",
       " 44005051 from frame 43 with track_id 11430 at (3977,4173),\n",
       " 45005073 from frame 44 with track_id 11430 at (3984,4175),\n",
       " 46005091 from frame 45 with track_id 11430 at (3983,4174),\n",
       " 47005096 from frame 46 with track_id 11430 at (3987,4176),\n",
       " 48005107 from frame 47 with track_id 11430 at (3997,4175)]"
      ]
     },
     "execution_count": 54,
     "metadata": {},
     "output_type": "execute_result"
    }
   ],
   "source": [
    "query"
   ]
  },
  {
   "cell_type": "code",
   "execution_count": 151,
   "metadata": {},
   "outputs": [
    {
     "name": "stdout",
     "output_type": "stream",
     "text": [
      "0\n",
      "0\n",
      "0\n",
      "0\n",
      "19\n",
      "0\n"
     ]
    }
   ],
   "source": [
    "print(row_start)\n",
    "print(row_stop)\n",
    "print(column_start)\n",
    "print(column_stop)\n",
    "print(current_frame)\n",
    "print(t_stop)"
   ]
  },
  {
   "cell_type": "code",
   "execution_count": 141,
   "metadata": {},
   "outputs": [],
   "source": []
  },
  {
   "cell_type": "code",
   "execution_count": 142,
   "metadata": {},
   "outputs": [],
   "source": [
    "viewer.layers['Labels'].data = labels"
   ]
  },
  {
   "cell_type": "code",
   "execution_count": 110,
   "metadata": {},
   "outputs": [],
   "source": [
    "with Session(engine) as session:\n",
    "    \n",
    "    query = session.query(CellDB).filter((CellDB.track_id == newTrack))\n",
    "    df = pd.read_sql(query.statement, engine)"
   ]
  },
  {
   "cell_type": "code",
   "execution_count": 111,
   "metadata": {},
   "outputs": [
    {
     "data": {
      "text/html": [
       "<div>\n",
       "<style scoped>\n",
       "    .dataframe tbody tr th:only-of-type {\n",
       "        vertical-align: middle;\n",
       "    }\n",
       "\n",
       "    .dataframe tbody tr th {\n",
       "        vertical-align: top;\n",
       "    }\n",
       "\n",
       "    .dataframe thead th {\n",
       "        text-align: right;\n",
       "    }\n",
       "</style>\n",
       "<table border=\"1\" class=\"dataframe\">\n",
       "  <thead>\n",
       "    <tr style=\"text-align: right;\">\n",
       "      <th></th>\n",
       "      <th>track_id</th>\n",
       "      <th>t</th>\n",
       "      <th>id</th>\n",
       "      <th>parent_id</th>\n",
       "      <th>row</th>\n",
       "      <th>col</th>\n",
       "      <th>bbox_0</th>\n",
       "      <th>bbox_1</th>\n",
       "      <th>bbox_2</th>\n",
       "      <th>bbox_3</th>\n",
       "      <th>mask</th>\n",
       "    </tr>\n",
       "  </thead>\n",
       "  <tbody>\n",
       "    <tr>\n",
       "      <th>0</th>\n",
       "      <td>75019</td>\n",
       "      <td>71</td>\n",
       "      <td>72009349</td>\n",
       "      <td>-1</td>\n",
       "      <td>5578</td>\n",
       "      <td>4428</td>\n",
       "      <td>5561</td>\n",
       "      <td>4413</td>\n",
       "      <td>5597</td>\n",
       "      <td>4445</td>\n",
       "      <td>[[False, False, False, False, False, False, Fa...</td>\n",
       "    </tr>\n",
       "    <tr>\n",
       "      <th>1</th>\n",
       "      <td>75019</td>\n",
       "      <td>72</td>\n",
       "      <td>73009365</td>\n",
       "      <td>72009349</td>\n",
       "      <td>5570</td>\n",
       "      <td>4425</td>\n",
       "      <td>5553</td>\n",
       "      <td>4410</td>\n",
       "      <td>5588</td>\n",
       "      <td>4441</td>\n",
       "      <td>[[False, False, False, False, False, False, Fa...</td>\n",
       "    </tr>\n",
       "    <tr>\n",
       "      <th>2</th>\n",
       "      <td>75019</td>\n",
       "      <td>73</td>\n",
       "      <td>74009387</td>\n",
       "      <td>73009365</td>\n",
       "      <td>5569</td>\n",
       "      <td>4423</td>\n",
       "      <td>5551</td>\n",
       "      <td>4409</td>\n",
       "      <td>5589</td>\n",
       "      <td>4439</td>\n",
       "      <td>[[False, False, False, False, False, False, Fa...</td>\n",
       "    </tr>\n",
       "    <tr>\n",
       "      <th>3</th>\n",
       "      <td>75019</td>\n",
       "      <td>74</td>\n",
       "      <td>75009333</td>\n",
       "      <td>74009387</td>\n",
       "      <td>5563</td>\n",
       "      <td>4421</td>\n",
       "      <td>5545</td>\n",
       "      <td>4408</td>\n",
       "      <td>5583</td>\n",
       "      <td>4437</td>\n",
       "      <td>[[False, False, False, False, False, False, Fa...</td>\n",
       "    </tr>\n",
       "    <tr>\n",
       "      <th>4</th>\n",
       "      <td>75019</td>\n",
       "      <td>75</td>\n",
       "      <td>76009314</td>\n",
       "      <td>75009333</td>\n",
       "      <td>5558</td>\n",
       "      <td>4417</td>\n",
       "      <td>5540</td>\n",
       "      <td>4401</td>\n",
       "      <td>5576</td>\n",
       "      <td>4434</td>\n",
       "      <td>[[False, False, False, False, False, False, Fa...</td>\n",
       "    </tr>\n",
       "  </tbody>\n",
       "</table>\n",
       "</div>"
      ],
      "text/plain": [
       "   track_id   t        id  parent_id   row   col  bbox_0  bbox_1  bbox_2  \\\n",
       "0     75019  71  72009349         -1  5578  4428    5561    4413    5597   \n",
       "1     75019  72  73009365   72009349  5570  4425    5553    4410    5588   \n",
       "2     75019  73  74009387   73009365  5569  4423    5551    4409    5589   \n",
       "3     75019  74  75009333   74009387  5563  4421    5545    4408    5583   \n",
       "4     75019  75  76009314   75009333  5558  4417    5540    4401    5576   \n",
       "\n",
       "   bbox_3                                               mask  \n",
       "0    4445  [[False, False, False, False, False, False, Fa...  \n",
       "1    4441  [[False, False, False, False, False, False, Fa...  \n",
       "2    4439  [[False, False, False, False, False, False, Fa...  \n",
       "3    4437  [[False, False, False, False, False, False, Fa...  \n",
       "4    4434  [[False, False, False, False, False, False, Fa...  "
      ]
     },
     "execution_count": 111,
     "metadata": {},
     "output_type": "execute_result"
    }
   ],
   "source": [
    "df.head()"
   ]
  },
  {
   "cell_type": "markdown",
   "metadata": {},
   "source": [
    "### Test"
   ]
  },
  {
   "cell_type": "code",
   "execution_count": 9,
   "metadata": {},
   "outputs": [],
   "source": [
    "my_root = 1\n",
    "\n",
    "plot_view = plot_widget.getItem(0,0)\n",
    "plot_view.clear()\n",
    "\n",
    "# buid the tree\n",
    "tree = fg.build_Newick_tree(engine, my_root)"
   ]
  },
  {
   "cell_type": "code",
   "execution_count": 10,
   "metadata": {},
   "outputs": [],
   "source": [
    "# update the widget with the tree\n",
    "plot_view = fg.render_tree_view(plot_view,tree,viewer)"
   ]
  },
  {
   "cell_type": "code",
   "execution_count": null,
   "metadata": {},
   "outputs": [],
   "source": []
  }
 ],
 "metadata": {
  "kernelspec": {
   "display_name": "tracking",
   "language": "python",
   "name": "python3"
  },
  "language_info": {
   "codemirror_mode": {
    "name": "ipython",
    "version": 3
   },
   "file_extension": ".py",
   "mimetype": "text/x-python",
   "name": "python",
   "nbconvert_exporter": "python",
   "pygments_lexer": "ipython3",
   "version": "3.10.13"
  }
 },
 "nbformat": 4,
 "nbformat_minor": 2
}

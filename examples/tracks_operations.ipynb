{
 "cells": [
  {
   "cell_type": "code",
   "execution_count": 1,
   "metadata": {},
   "outputs": [],
   "source": [
    "%load_ext autoreload\n",
    "%autoreload 2\n",
    "\n",
    "import os\n",
    "import zarr\n",
    "import dask.array as da\n",
    "import napari\n",
    "import sys\n",
    "import numpy as np\n",
    "\n",
    "from sqlalchemy import create_engine\n",
    "from sqlalchemy.orm import Session\n",
    "\n",
    "from ete3 import Tree\n",
    "\n",
    "sys.path.append('../libraries')\n",
    "import family_graph as fg\n",
    "from cells_database import Base, CellDB, TrackDB"
   ]
  },
  {
   "cell_type": "code",
   "execution_count": 2,
   "metadata": {},
   "outputs": [],
   "source": [
    "os.environ['NAPARI_PERFMON'] = '0'"
   ]
  },
  {
   "cell_type": "code",
   "execution_count": 3,
   "metadata": {},
   "outputs": [
    {
     "data": {
      "text/plain": [
       "(241, 8396, 8401)"
      ]
     },
     "execution_count": 3,
     "metadata": {},
     "output_type": "execute_result"
    }
   ],
   "source": [
    "labels_zarr_path = r'D:\\kasia\\tracking\\E6_exp\\code\\tests\\example_track_labels.zarr'\n",
    "labels = da.from_zarr(labels_zarr_path)\n",
    "labels.shape"
   ]
  },
  {
   "cell_type": "code",
   "execution_count": 4,
   "metadata": {},
   "outputs": [],
   "source": [
    "# get an example small set of labels\n",
    "# labels_small = labels[:10, 4000:4500, 4000:4500].compute()\n",
    "# labels_small.shape"
   ]
  },
  {
   "cell_type": "code",
   "execution_count": 5,
   "metadata": {},
   "outputs": [],
   "source": [
    "# display the labels\n",
    "viewer = napari.Viewer()\n",
    "labels_layer = viewer.add_labels(labels,name='Labels')\n",
    "fg.viewer = viewer"
   ]
  },
  {
   "cell_type": "code",
   "execution_count": 6,
   "metadata": {},
   "outputs": [],
   "source": [
    "# get access to the database\n",
    "new_db_path = r'D:\\kasia\\tracking\\E6_exp\\code\\gardener_20_dev\\cells_database_2tables - Copy.db'\n",
    "engine = create_engine(f'sqlite:///{new_db_path}')\n",
    "\n",
    "# send engine to the library\n",
    "fg.engine = engine"
   ]
  },
  {
   "cell_type": "code",
   "execution_count": 7,
   "metadata": {},
   "outputs": [
    {
     "data": {
      "text/plain": [
       "<napari._qt.widgets.qt_viewer_dock_widget.QtViewerDockWidget at 0x1870338dfc0>"
      ]
     },
     "execution_count": 7,
     "metadata": {},
     "output_type": "execute_result"
    }
   ],
   "source": [
    "# create a plot widget\n",
    "t_max = viewer.dims.range[0][1]\n",
    "plot_widget = fg.build_lineage_widget(t_max)\n",
    "fg.plot_widget = plot_widget\n",
    "\n",
    "\n",
    "# add lineage graph\n",
    "viewer.window.add_dock_widget(plot_widget,area='bottom',name='family')"
   ]
  },
  {
   "cell_type": "code",
   "execution_count": 8,
   "metadata": {},
   "outputs": [
    {
     "data": {
      "text/plain": [
       "<function family_graph.update_lineage_display(event)>"
      ]
     },
     "execution_count": 8,
     "metadata": {},
     "output_type": "execute_result"
    }
   ],
   "source": [
    "# connect lineage graph update\n",
    "labels_layer.events.selected_label.connect(fg.update_lineage_display)"
   ]
  },
  {
   "cell_type": "code",
   "execution_count": 10,
   "metadata": {},
   "outputs": [],
   "source": [
    "@magicgui()\n",
    "def cut_track(viewer: Viewer):\n",
    "\n",
    "    ####################################################################################################\n",
    "    # orient yourself - figure what is asked for \n",
    "\n",
    "    # get the position in time\n",
    "    current_frame = viewer.dims.current_step[0]\n",
    "\n",
    "    # get my label\n",
    "    active_label = int(viewer.layers['Labels'].selected_label)\n",
    "\n",
    "    # find new track number\n",
    "    new_track = tm.newTrack_number(engine)\n",
    "\n",
    "    ####################################################################################################\n",
    "    # perform database operations\n",
    "\n",
    "    # get descendants\n",
    "    descendants =tm.get_descendants(engine,active_label)\n",
    "\n",
    "    # Database operations\n",
    "    # cut cellsDB\n",
    "    track_bbox = tm.cut_cellsDB(engine,descendants,active_label,current_frame,new_track)\n",
    "\n",
    "    # cut trackDB\n",
    "    tm.modify_trackDB(engine,descendants,active_label,current_frame,new_track)\n",
    "\n",
    "    ####################################################################################################\n",
    "    # modify labels\n",
    "    if track_bbox is not None:\n",
    "\n",
    "        sel = labels[current_frame:track_bbox[0],track_bbox[1]:track_bbox[2],track_bbox[3]:track_bbox[4]]\n",
    "        sel[sel == active_label] = new_track\n",
    "        labels[current_frame:track_bbox[0],track_bbox[1]:track_bbox[2],track_bbox[3]:track_bbox[4]] = sel\n",
    "\n",
    "        viewer.layers['Labels'].data = labels\n",
    "\n",
    "    ####################################################################################################\n",
    "    # update lineage graph\n",
    "    viewer.layers['Labels'].selected_label = new_track\n",
    "\n",
    "    ####################################################################################################\n",
    "    # change viewer status\n",
    "    viewer.status = f'Track {active_label} has been cut.'"
   ]
  },
  {
   "cell_type": "code",
   "execution_count": 9,
   "metadata": {},
   "outputs": [],
   "source": [
    "import track_module as tm \n",
    "from napari import Viewer\n",
    "from magicgui import magicgui\n",
    "from qtpy.QtGui import QIcon"
   ]
  },
  {
   "cell_type": "code",
   "execution_count": 11,
   "metadata": {},
   "outputs": [],
   "source": [
    "path_to_some_icon = r'D:\\kasia\\tracking\\E6_exp\\code\\tracks_interactions\\icons\\icons8-scissors-50.png'\n",
    "\n",
    "icon = QIcon(path_to_some_icon)\n",
    "cut_track.call_button.native.setIcon(icon)\n",
    "cut_track.call_button.native.setText(None)\n",
    "\n",
    "viewer.window.add_dock_widget(cut_track,area='right',name='cut_track')\n",
    "cut_track.call_button.native.resize(40,40)"
   ]
  },
  {
   "cell_type": "code",
   "execution_count": 16,
   "metadata": {},
   "outputs": [
    {
     "name": "stdout",
     "output_type": "stream",
     "text": [
      "44965\n",
      "75023\n",
      "120\n"
     ]
    }
   ],
   "source": [
    "print(active_label)\n",
    "print(new_track)\n",
    "print(current_frame) "
   ]
  },
  {
   "cell_type": "code",
   "execution_count": 17,
   "metadata": {},
   "outputs": [],
   "source": [
    "# get descendants\n",
    "descendants = get_descendants(engine,active_label)\n",
    "\n",
    "# Database operations\n",
    "# cut cellsDB\n",
    "track_bbox = cut_cellsDB(engine,descendants,active_label,current_frame,new_track)\n",
    "\n",
    "# cut trackDB\n",
    "modify_trackDB(engine,descendants,active_label,current_frame,new_track)\n",
    "\n",
    "# modify labels if needed\n",
    "if track_bbox is not None:\n",
    "\n",
    "    sel = labels[current_frame:track_bbox[0],track_bbox[1]:track_bbox[2],track_bbox[3]:track_bbox[4]]\n",
    "    sel[sel == active_label] = new_track\n",
    "    labels[current_frame:track_bbox[0],track_bbox[1]:track_bbox[2],track_bbox[3]:track_bbox[4]] = sel\n",
    "\n",
    "    viewer.layers['Labels'].data = labels\n",
    "\n",
    "# update lineage graph\n",
    "viewer.layers['Labels'].selected_label = new_track"
   ]
  },
  {
   "cell_type": "code",
   "execution_count": 45,
   "metadata": {},
   "outputs": [
    {
     "name": "stdout",
     "output_type": "stream",
     "text": [
      "75019\n",
      "(47, 3941, 4010, 4153, 4209)\n"
     ]
    }
   ],
   "source": [
    "print(new_track)\n",
    "print(track_bbox)"
   ]
  },
  {
   "cell_type": "code",
   "execution_count": 18,
   "metadata": {},
   "outputs": [
    {
     "data": {
      "text/plain": [
       "[Track 44966 from 139 to 178,\n",
       " Track 44967 from 179 to 240,\n",
       " Track 44968 from 179 to 196,\n",
       " Track 44969 from 139 to 240,\n",
       " Track 75023 from 120 to 138]"
      ]
     },
     "execution_count": 18,
     "metadata": {},
     "output_type": "execute_result"
    }
   ],
   "source": [
    "with Session(engine) as session:\n",
    "\n",
    "    query = session.query(TrackDB).filter(TrackDB.root == new_track).all()\n",
    "\n",
    "query\n"
   ]
  },
  {
   "cell_type": "code",
   "execution_count": 53,
   "metadata": {},
   "outputs": [],
   "source": [
    "with Session(engine) as session:\n",
    "\n",
    "    query = session.query(CellDB).filter\\\n",
    "        (and_(CellDB.track_id == active_label, CellDB.t >= current_frame))\\\n",
    "    .order_by(CellDB.t).all()"
   ]
  },
  {
   "cell_type": "code",
   "execution_count": 54,
   "metadata": {},
   "outputs": [
    {
     "data": {
      "text/plain": [
       "[17004006 from frame 16 with track_id 11430 at (3959,4190),\n",
       " 18004011 from frame 17 with track_id 11430 at (3958,4188),\n",
       " 19004042 from frame 18 with track_id 11430 at (3960,4186),\n",
       " 20004162 from frame 19 with track_id 11430 at (3961,4186),\n",
       " 21004244 from frame 20 with track_id 11430 at (3960,4184),\n",
       " 22004265 from frame 21 with track_id 11430 at (3959,4183),\n",
       " 23004320 from frame 22 with track_id 11430 at (3958,4182),\n",
       " 24004298 from frame 23 with track_id 11430 at (3957,4180),\n",
       " 25004413 from frame 24 with track_id 11430 at (3959,4186),\n",
       " 26004425 from frame 25 with track_id 11430 at (3954,4175),\n",
       " 27004476 from frame 26 with track_id 11430 at (3955,4174),\n",
       " 28004499 from frame 27 with track_id 11430 at (3959,4180),\n",
       " 29004646 from frame 28 with track_id 11430 at (3960,4178),\n",
       " 30004605 from frame 29 with track_id 11430 at (3962,4174),\n",
       " 31004688 from frame 30 with track_id 11430 at (3963,4174),\n",
       " 32004702 from frame 31 with track_id 11430 at (3965,4172),\n",
       " 33004717 from frame 32 with track_id 11430 at (3966,4172),\n",
       " 34004733 from frame 33 with track_id 11430 at (3968,4172),\n",
       " 35004757 from frame 34 with track_id 11430 at (3966,4171),\n",
       " 36004859 from frame 35 with track_id 11430 at (3968,4171),\n",
       " 37004826 from frame 36 with track_id 11430 at (3967,4170),\n",
       " 38004881 from frame 37 with track_id 11430 at (3970,4171),\n",
       " 39004844 from frame 38 with track_id 11430 at (3971,4172),\n",
       " 40004993 from frame 39 with track_id 11430 at (3974,4172),\n",
       " 41005042 from frame 40 with track_id 11430 at (3974,4172),\n",
       " 42004988 from frame 41 with track_id 11430 at (3976,4170),\n",
       " 43005057 from frame 42 with track_id 11430 at (3976,4170),\n",
       " 44005051 from frame 43 with track_id 11430 at (3977,4173),\n",
       " 45005073 from frame 44 with track_id 11430 at (3984,4175),\n",
       " 46005091 from frame 45 with track_id 11430 at (3983,4174),\n",
       " 47005096 from frame 46 with track_id 11430 at (3987,4176),\n",
       " 48005107 from frame 47 with track_id 11430 at (3997,4175)]"
      ]
     },
     "execution_count": 54,
     "metadata": {},
     "output_type": "execute_result"
    }
   ],
   "source": [
    "query"
   ]
  },
  {
   "cell_type": "code",
   "execution_count": 151,
   "metadata": {},
   "outputs": [
    {
     "name": "stdout",
     "output_type": "stream",
     "text": [
      "0\n",
      "0\n",
      "0\n",
      "0\n",
      "19\n",
      "0\n"
     ]
    }
   ],
   "source": [
    "print(row_start)\n",
    "print(row_stop)\n",
    "print(column_start)\n",
    "print(column_stop)\n",
    "print(current_frame)\n",
    "print(t_stop)"
   ]
  },
  {
   "cell_type": "code",
   "execution_count": 141,
   "metadata": {},
   "outputs": [],
   "source": []
  },
  {
   "cell_type": "code",
   "execution_count": 142,
   "metadata": {},
   "outputs": [],
   "source": [
    "viewer.layers['Labels'].data = labels"
   ]
  },
  {
   "cell_type": "code",
   "execution_count": 110,
   "metadata": {},
   "outputs": [],
   "source": [
    "with Session(engine) as session:\n",
    "    \n",
    "    query = session.query(CellDB).filter((CellDB.track_id == newTrack))\n",
    "    df = pd.read_sql(query.statement, engine)"
   ]
  },
  {
   "cell_type": "code",
   "execution_count": 111,
   "metadata": {},
   "outputs": [
    {
     "data": {
      "text/html": [
       "<div>\n",
       "<style scoped>\n",
       "    .dataframe tbody tr th:only-of-type {\n",
       "        vertical-align: middle;\n",
       "    }\n",
       "\n",
       "    .dataframe tbody tr th {\n",
       "        vertical-align: top;\n",
       "    }\n",
       "\n",
       "    .dataframe thead th {\n",
       "        text-align: right;\n",
       "    }\n",
       "</style>\n",
       "<table border=\"1\" class=\"dataframe\">\n",
       "  <thead>\n",
       "    <tr style=\"text-align: right;\">\n",
       "      <th></th>\n",
       "      <th>track_id</th>\n",
       "      <th>t</th>\n",
       "      <th>id</th>\n",
       "      <th>parent_id</th>\n",
       "      <th>row</th>\n",
       "      <th>col</th>\n",
       "      <th>bbox_0</th>\n",
       "      <th>bbox_1</th>\n",
       "      <th>bbox_2</th>\n",
       "      <th>bbox_3</th>\n",
       "      <th>mask</th>\n",
       "    </tr>\n",
       "  </thead>\n",
       "  <tbody>\n",
       "    <tr>\n",
       "      <th>0</th>\n",
       "      <td>75019</td>\n",
       "      <td>71</td>\n",
       "      <td>72009349</td>\n",
       "      <td>-1</td>\n",
       "      <td>5578</td>\n",
       "      <td>4428</td>\n",
       "      <td>5561</td>\n",
       "      <td>4413</td>\n",
       "      <td>5597</td>\n",
       "      <td>4445</td>\n",
       "      <td>[[False, False, False, False, False, False, Fa...</td>\n",
       "    </tr>\n",
       "    <tr>\n",
       "      <th>1</th>\n",
       "      <td>75019</td>\n",
       "      <td>72</td>\n",
       "      <td>73009365</td>\n",
       "      <td>72009349</td>\n",
       "      <td>5570</td>\n",
       "      <td>4425</td>\n",
       "      <td>5553</td>\n",
       "      <td>4410</td>\n",
       "      <td>5588</td>\n",
       "      <td>4441</td>\n",
       "      <td>[[False, False, False, False, False, False, Fa...</td>\n",
       "    </tr>\n",
       "    <tr>\n",
       "      <th>2</th>\n",
       "      <td>75019</td>\n",
       "      <td>73</td>\n",
       "      <td>74009387</td>\n",
       "      <td>73009365</td>\n",
       "      <td>5569</td>\n",
       "      <td>4423</td>\n",
       "      <td>5551</td>\n",
       "      <td>4409</td>\n",
       "      <td>5589</td>\n",
       "      <td>4439</td>\n",
       "      <td>[[False, False, False, False, False, False, Fa...</td>\n",
       "    </tr>\n",
       "    <tr>\n",
       "      <th>3</th>\n",
       "      <td>75019</td>\n",
       "      <td>74</td>\n",
       "      <td>75009333</td>\n",
       "      <td>74009387</td>\n",
       "      <td>5563</td>\n",
       "      <td>4421</td>\n",
       "      <td>5545</td>\n",
       "      <td>4408</td>\n",
       "      <td>5583</td>\n",
       "      <td>4437</td>\n",
       "      <td>[[False, False, False, False, False, False, Fa...</td>\n",
       "    </tr>\n",
       "    <tr>\n",
       "      <th>4</th>\n",
       "      <td>75019</td>\n",
       "      <td>75</td>\n",
       "      <td>76009314</td>\n",
       "      <td>75009333</td>\n",
       "      <td>5558</td>\n",
       "      <td>4417</td>\n",
       "      <td>5540</td>\n",
       "      <td>4401</td>\n",
       "      <td>5576</td>\n",
       "      <td>4434</td>\n",
       "      <td>[[False, False, False, False, False, False, Fa...</td>\n",
       "    </tr>\n",
       "  </tbody>\n",
       "</table>\n",
       "</div>"
      ],
      "text/plain": [
       "   track_id   t        id  parent_id   row   col  bbox_0  bbox_1  bbox_2  \\\n",
       "0     75019  71  72009349         -1  5578  4428    5561    4413    5597   \n",
       "1     75019  72  73009365   72009349  5570  4425    5553    4410    5588   \n",
       "2     75019  73  74009387   73009365  5569  4423    5551    4409    5589   \n",
       "3     75019  74  75009333   74009387  5563  4421    5545    4408    5583   \n",
       "4     75019  75  76009314   75009333  5558  4417    5540    4401    5576   \n",
       "\n",
       "   bbox_3                                               mask  \n",
       "0    4445  [[False, False, False, False, False, False, Fa...  \n",
       "1    4441  [[False, False, False, False, False, False, Fa...  \n",
       "2    4439  [[False, False, False, False, False, False, Fa...  \n",
       "3    4437  [[False, False, False, False, False, False, Fa...  \n",
       "4    4434  [[False, False, False, False, False, False, Fa...  "
      ]
     },
     "execution_count": 111,
     "metadata": {},
     "output_type": "execute_result"
    }
   ],
   "source": [
    "df.head()"
   ]
  },
  {
   "cell_type": "markdown",
   "metadata": {},
   "source": [
    "### Test"
   ]
  },
  {
   "cell_type": "code",
   "execution_count": 9,
   "metadata": {},
   "outputs": [],
   "source": [
    "my_root = 1\n",
    "\n",
    "plot_view = plot_widget.getItem(0,0)\n",
    "plot_view.clear()\n",
    "\n",
    "# buid the tree\n",
    "tree = fg.build_Newick_tree(engine, my_root)"
   ]
  },
  {
   "cell_type": "code",
   "execution_count": 10,
   "metadata": {},
   "outputs": [],
   "source": [
    "# update the widget with the tree\n",
    "plot_view = fg.render_tree_view(plot_view,tree,viewer)"
   ]
  },
  {
   "cell_type": "code",
   "execution_count": null,
   "metadata": {},
   "outputs": [],
   "source": []
  }
 ],
 "metadata": {
  "kernelspec": {
   "display_name": "tracking",
   "language": "python",
   "name": "python3"
  },
  "language_info": {
   "codemirror_mode": {
    "name": "ipython",
    "version": 3
   },
   "file_extension": ".py",
   "mimetype": "text/x-python",
   "name": "python",
   "nbconvert_exporter": "python",
   "pygments_lexer": "ipython3",
   "version": "3.10.13"
  }
 },
 "nbformat": 4,
 "nbformat_minor": 2
}

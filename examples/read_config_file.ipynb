{
 "cells": [
  {
   "cell_type": "code",
   "execution_count": 1,
   "metadata": {},
   "outputs": [],
   "source": [
    "import yaml\n",
    "import importlib"
   ]
  },
  {
   "cell_type": "code",
   "execution_count": 2,
   "metadata": {},
   "outputs": [],
   "source": [
    "# Path to your YAML configuration file\n",
    "config_file_path = r'D:\\tracks_interactions\\config.yaml'"
   ]
  },
  {
   "cell_type": "code",
   "execution_count": 140,
   "metadata": {},
   "outputs": [],
   "source": [
    "# Reading the YAML file\n",
    "with open(config_file_path, 'r') as file:\n",
    "    config = yaml.safe_load(file)\n",
    "\n"
   ]
  },
  {
   "cell_type": "code",
   "execution_count": 29,
   "metadata": {},
   "outputs": [
    {
     "data": {
      "text/plain": [
       "['ch0_nuc', 'ch0_cyto', 'area']"
      ]
     },
     "execution_count": 29,
     "metadata": {},
     "output_type": "execute_result"
    }
   ],
   "source": [
    "req_graphs = [signal for x in config['graphs'] for signal in x['signals']]\n",
    "req_graphs"
   ]
  },
  {
   "cell_type": "code",
   "execution_count": 7,
   "metadata": {},
   "outputs": [
    {
     "name": "stdout",
     "output_type": "stream",
     "text": [
      "Custom module \"D:\\test_data\\custom_measurements.py\" could not be imported.\n"
     ]
    }
   ],
   "source": [
    "req_custom_functions = [x for x in config['cell_measurements'] if not x['source']=='regionprops' and not x['source']=='track_gardener']\n",
    "for f in req_custom_functions:\n",
    "    try:\n",
    "        module = importlib.import_module(f['source'])\n",
    "        func = getattr(module, f['function'])\n",
    "    except ImportError:\n",
    "        print(f'Custom module \"{f[\"source\"]}\" could not be imported.')\n",
    "    except AttributeError:\n",
    "        print(f'Custom function \"{f[\"function\"]}\" could not be found in {f[\"source\"]}.')\n",
    "    except:\n",
    "        print('shit')"
   ]
  },
  {
   "cell_type": "code",
   "execution_count": 11,
   "metadata": {},
   "outputs": [
    {
     "data": {
      "text/plain": [
       "'median_intensity'"
      ]
     },
     "execution_count": 11,
     "metadata": {},
     "output_type": "execute_result"
    }
   ],
   "source": [
    "f['function']"
   ]
  },
  {
   "cell_type": "code",
   "execution_count": 16,
   "metadata": {},
   "outputs": [],
   "source": [
    "import os\n",
    "\n",
    "file_path = f['source']\n",
    "function_name = f['function']\n",
    "\n",
    "if not os.path.exists(file_path):\n",
    "    print(f\"File '{file_path}' does not exist.\")\n",
    "\n",
    "# Load the module from the specified file path\n",
    "module_name = os.path.splitext(os.path.basename(file_path))[0]  # Extract module name from file\n",
    "spec = importlib.util.spec_from_file_location(module_name, file_path)\n",
    "module = importlib.util.module_from_spec(spec)\n",
    "try:\n",
    "    # Execute the module to load it\n",
    "    spec.loader.exec_module(module)\n",
    "    # Get the function\n",
    "    func = getattr(module, function_name)\n",
    "except (FileNotFoundError, AttributeError) as e:\n",
    "    print(f\"Function '{function_name}' could not be loaded from '{file_path}': {e}\")"
   ]
  },
  {
   "cell_type": "code",
   "execution_count": 110,
   "metadata": {},
   "outputs": [
    {
     "name": "stdout",
     "output_type": "stream",
     "text": [
      "The autoreload extension is already loaded. To reload it, use:\n",
      "  %reload_ext autoreload\n"
     ]
    }
   ],
   "source": [
    "%load_ext autoreload\n",
    "%autoreload 2\n",
    "\n",
    "from tracks_interactions.db.config_functions import load_function_from_path, testConfigFile, check_unique_names\n",
    "import tracks_interactions"
   ]
  },
  {
   "cell_type": "code",
   "execution_count": 4,
   "metadata": {},
   "outputs": [],
   "source": [
    "import sys\n",
    "sys.path.append('..')"
   ]
  },
  {
   "cell_type": "code",
   "execution_count": 33,
   "metadata": {},
   "outputs": [
    {
     "data": {
      "text/plain": [
       "[{'function': 'area', 'source': 'regionprops'},\n",
       " {'function': 'intensity_mean',\n",
       "  'name': 'nuc',\n",
       "  'source': 'regionprops',\n",
       "  'channels': ['ch0', 'ch1']},\n",
       " {'function': 'ring_intensity',\n",
       "  'name': 'cyto',\n",
       "  'source': 'track_gardener',\n",
       "  'channels': ['ch0', 'ch1'],\n",
       "  'thickness': 5},\n",
       " {'function': 'median_intensity',\n",
       "  'source': 'D:\\\\test_data\\\\custom_measurements.py',\n",
       "  'channels': ['ch0', 'ch1']}]"
      ]
     },
     "execution_count": 33,
     "metadata": {},
     "output_type": "execute_result"
    }
   ],
   "source": [
    "config['cell_measurements']"
   ]
  },
  {
   "cell_type": "code",
   "execution_count": 265,
   "metadata": {},
   "outputs": [],
   "source": [
    "import numpy as np\n",
    "import importlib\n",
    "from skimage.measure import regionprops\n",
    "from tracks_interactions.db.config_functions import load_function_from_path, load_function_from_module\n",
    "\n",
    "# Reading the YAML file\n",
    "with open(config_file_path, 'r') as file:\n",
    "    config = yaml.safe_load(file)\n",
    "\n",
    "\n",
    "def create_calculate_signals_function(config):\n",
    "    \"\"\"\n",
    "    Function to generate for signal calculation based on the requirements in the configuration file.\n",
    "    input:\n",
    "        config: dictionary containing all configuration information\n",
    "    output:\n",
    "        calculate_cell_signals: function that calculates all signals for a given cell\n",
    "    \"\"\"\n",
    "\n",
    "    ch_list = [x.get('name') for x in config['signal_channels']]\n",
    "\n",
    "    # regionprops with no signal\n",
    "    reg_no_signal = [x['function'] for x in config['cell_measurements'] if x['source']=='regionprops' and not 'channels' in x]\n",
    "\n",
    "    # regionprops with signal\n",
    "    reg_signal = [x for x in config['cell_measurements'] if x['source']=='regionprops' and 'channels' in x]\n",
    "\n",
    "    # track gardener implemented functions\n",
    "    gardener_signal = [x for x in config['cell_measurements'] if x['source']=='track_gardener']\n",
    "\n",
    "    # custom functions\n",
    "    custom_signal = [x for x in config['cell_measurements'] if not x['source']=='track_gardener' and not x['source']=='regionprops']\n",
    "\n",
    "    #######################################################################################################################\n",
    "    def calculate_cell_signals(cell,t,ch_data_list):\n",
    "        \"\"\"\n",
    "        Function to calculate signals for every given cell.\n",
    "        input:\n",
    "            cell: cell object from regionprops\n",
    "            ch_data_list: list of all channel data\n",
    "        output:\n",
    "            cell_dict: dictionary containing all measurements for the cell\n",
    "        \"\"\"\n",
    "\n",
    "        # create an empty dictionary\n",
    "        cell_dict = dict()\n",
    "\n",
    "        #######################################################################################################################\n",
    "        # add all measurements directly from regionprops\n",
    "        for m in reg_no_signal:\n",
    "            cell_dict[m] = cell[m]\n",
    "\n",
    "        #######################################################################################################################\n",
    "        # add all measurements from regionprops with channels\n",
    "        if len(reg_signal) > 0:\n",
    "\n",
    "            signal_cube = np.zeros((cell.bbox[2]-cell.bbox[0],cell.bbox[3]-cell.bbox[1],len(ch_list)),dtype=ch_data_list[0].dtype)\n",
    "            for ind,ch in enumerate(ch_data_list):\n",
    "                if ch.ndim == 3:\n",
    "                    cell_signal = ch[t,cell.bbox[0]:cell.bbox[2],cell.bbox[1]:cell.bbox[3]]\n",
    "                if ch.ndim == 2:\n",
    "                    cell_signal = ch[cell.bbox[0]:cell.bbox[2],cell.bbox[1]:cell.bbox[3]]\n",
    "\n",
    "                signal_cube[:,:,ind] = cell_signal\n",
    "\n",
    "            result = regionprops(cell.image.astype(int),intensity_image=signal_cube)\n",
    "\n",
    "            for m in reg_signal:\n",
    "                for ch in m['channels']:\n",
    "                    cell_dict[ch + '_' + m['name']] = result[0][m['function']][ch_list.index(ch)]\n",
    "      \n",
    "\n",
    "        #######################################################################################################################\n",
    "        # add measurements from the track gardener\n",
    "        # for simplicity we calculate for all the channels - may be revisited later\n",
    "        if len(gardener_signal) > 0:\n",
    "            for m in gardener_signal:\n",
    "                f = load_function_from_module('tracks_interactions.db.db_functions', m['function'])\n",
    "                result = f(cell,t,ch_data_list,kwargs = m)\n",
    "                for ch in m['channels']:\n",
    "                    cell_dict[ch + '_' + m['name']] = result[ch_list.index(ch)]\n",
    "\n",
    "\n",
    "        #######################################################################################################################\n",
    "        # add measurements from the custom functions\n",
    "        if len(custom_signal) > 0:\n",
    "            for m in custom_signal:\n",
    "                f = load_function_from_path(m['source'], m['function'])\n",
    "                result = f(cell,t,ch_data_list,kwargs = m)\n",
    "                for ch in m['channels']:\n",
    "                    cell_dict[ch + '_' + m['name']] = result[ch_list.index(ch)]\n",
    "\n",
    "        return cell_dict\n",
    "\n",
    "    return calculate_cell_signals\n"
   ]
  },
  {
   "cell_type": "code",
   "execution_count": 266,
   "metadata": {},
   "outputs": [],
   "source": [
    "calculate_cell_signals = create_calculate_signals_function(config)"
   ]
  },
  {
   "cell_type": "code",
   "execution_count": 267,
   "metadata": {},
   "outputs": [
    {
     "data": {
      "text/plain": [
       "[<skimage.measure._regionprops.RegionProperties at 0x188f431f7f0>]"
      ]
     },
     "execution_count": 267,
     "metadata": {},
     "output_type": "execute_result"
    }
   ],
   "source": [
    "import numpy as np\n",
    "from skimage.measure import regionprops\n",
    "\n",
    "n=100\n",
    "\n",
    "t = np.zeros([n,n]).astype(int)\n",
    "t[50:60,50:60]=1\n",
    "res = regionprops(t)\n",
    "res"
   ]
  },
  {
   "cell_type": "code",
   "execution_count": 268,
   "metadata": {},
   "outputs": [
    {
     "name": "stdout",
     "output_type": "stream",
     "text": [
      "CPU times: total: 0 ns\n",
      "Wall time: 0 ns\n"
     ]
    },
    {
     "data": {
      "text/plain": [
       "{'area': 100.0,\n",
       " 'ch0_nuc': 1.0,\n",
       " 'ch1_nuc': 2.0,\n",
       " 'ch0_cyto': array([[False,  True,  True,  True,  True,  True,  True,  True,  True,\n",
       "          True,  True, False],\n",
       "        [ True, False, False, False, False, False, False, False, False,\n",
       "         False, False,  True],\n",
       "        [ True, False, False, False, False, False, False, False, False,\n",
       "         False, False,  True],\n",
       "        [ True, False, False, False, False, False, False, False, False,\n",
       "         False, False,  True],\n",
       "        [ True, False, False, False, False, False, False, False, False,\n",
       "         False, False,  True],\n",
       "        [ True, False, False, False, False, False, False, False, False,\n",
       "         False, False,  True],\n",
       "        [ True, False, False, False, False, False, False, False, False,\n",
       "         False, False,  True],\n",
       "        [ True, False, False, False, False, False, False, False, False,\n",
       "         False, False,  True],\n",
       "        [ True, False, False, False, False, False, False, False, False,\n",
       "         False, False,  True],\n",
       "        [ True, False, False, False, False, False, False, False, False,\n",
       "         False, False,  True],\n",
       "        [ True, False, False, False, False, False, False, False, False,\n",
       "         False, False,  True],\n",
       "        [False,  True,  True,  True,  True,  True,  True,  True,  True,\n",
       "          True,  True, False]]),\n",
       " 'ch1_cyto': [1.0, 2.0]}"
      ]
     },
     "execution_count": 268,
     "metadata": {},
     "output_type": "execute_result"
    }
   ],
   "source": [
    "%time\n",
    "rs = calculate_cell_signals(res[0],1,[np.ones([2,n,n]),np.ones([2,n,n])*2])\n",
    "rs"
   ]
  },
  {
   "cell_type": "code",
   "execution_count": 269,
   "metadata": {},
   "outputs": [
    {
     "data": {
      "text/plain": [
       "<Image layer 'Image' at 0x1892b3c7cd0>"
      ]
     },
     "execution_count": 269,
     "metadata": {},
     "output_type": "execute_result"
    }
   ],
   "source": [
    "import napari\n",
    "viewer = napari.Viewer()\n",
    "viewer.add_image(rs['ch0_cyto'])"
   ]
  },
  {
   "cell_type": "code",
   "execution_count": 263,
   "metadata": {},
   "outputs": [
    {
     "data": {
      "text/plain": [
       "{'experiment_settings': {'experiment_name': '2023_E6_exp',\n",
       "  'description': 'Cisplatin treated ovarian cancer cells. ch0 - DHB, ch1 - 53BP1'},\n",
       " 'signal_channels': [{'name': 'ch0',\n",
       "   'path': 'D:\\\\test_data\\\\E6_C0_level_1.zarr',\n",
       "   'lut': 'green'},\n",
       "  {'name': 'ch1', 'path': 'D:\\\\test_data\\\\E6_C1_level_1.zarr', 'lut': 'red'}],\n",
       " 'cell_measurements': [{'function': 'area', 'source': 'regionprops'},\n",
       "  {'function': 'intensity_mean',\n",
       "   'name': 'nuc',\n",
       "   'source': 'regionprops',\n",
       "   'channels': ['ch0', 'ch1']},\n",
       "  {'function': 'ring_intensity',\n",
       "   'name': 'cyto',\n",
       "   'source': 'track_gardener',\n",
       "   'channels': ['ch0', 'ch1'],\n",
       "   'thickness': 1}],\n",
       " 'database': {'path': 'D:\\\\test_data\\\\Exp6_gardener_v6.db'},\n",
       " 'graphs': [{'name': 'DHB',\n",
       "   'signals': ['ch0_nuc', 'ch0_cyto'],\n",
       "   'colors': ['yellow', 'green']},\n",
       "  {'name': 'ar', 'signals': ['area'], 'colors': ['yellow']}],\n",
       " 'cell_tags': {'modified': 'x',\n",
       "  'apoptosis': 'A',\n",
       "  'mitosis': 'M',\n",
       "  'disappear': 'D',\n",
       "  'test': 'T'}}"
      ]
     },
     "execution_count": 263,
     "metadata": {},
     "output_type": "execute_result"
    }
   ],
   "source": [
    "config"
   ]
  },
  {
   "cell_type": "markdown",
   "metadata": {},
   "source": []
  }
 ],
 "metadata": {
  "kernelspec": {
   "display_name": "gardener-env",
   "language": "python",
   "name": "python3"
  },
  "language_info": {
   "codemirror_mode": {
    "name": "ipython",
    "version": 3
   },
   "file_extension": ".py",
   "mimetype": "text/x-python",
   "name": "python",
   "nbconvert_exporter": "python",
   "pygments_lexer": "ipython3",
   "version": "3.10.15"
  }
 },
 "nbformat": 4,
 "nbformat_minor": 2
}

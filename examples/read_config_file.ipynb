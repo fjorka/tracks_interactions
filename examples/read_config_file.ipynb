{
 "cells": [
  {
   "cell_type": "code",
   "execution_count": 2,
   "metadata": {},
   "outputs": [],
   "source": [
    "import yaml"
   ]
  },
  {
   "cell_type": "code",
   "execution_count": 12,
   "metadata": {},
   "outputs": [],
   "source": [
    "# Path to your YAML configuration file\n",
    "config_file_path = r'D:\\kasia\\tracking\\E6_exp\\sample_data\\config.yaml'"
   ]
  },
  {
   "cell_type": "code",
   "execution_count": 20,
   "metadata": {},
   "outputs": [],
   "source": [
    "# Reading the YAML file\n",
    "with open(config_file_path, 'r') as file:\n",
    "    config_data = yaml.safe_load(file)\n",
    "\n",
    "# Accessing data from the configuration\n",
    "experiment_name = config_data['experiment_settings']['experiment_name']\n",
    "signal_channels = config_data['signal_channels']\n",
    "graphs = config_data['graphs']"
   ]
  },
  {
   "cell_type": "code",
   "execution_count": 21,
   "metadata": {},
   "outputs": [
    {
     "data": {
      "text/plain": [
       "[{'name': 'Area', 'db_features': \"-'Area'\"},\n",
       " {'name': 'DHB', 'db_features': ['signal1_nuc', 'signal1_cyto']}]"
      ]
     },
     "execution_count": 21,
     "metadata": {},
     "output_type": "execute_result"
    }
   ],
   "source": [
    "graphs"
   ]
  },
  {
   "cell_type": "code",
   "execution_count": null,
   "metadata": {},
   "outputs": [],
   "source": []
  }
 ],
 "metadata": {
  "kernelspec": {
   "display_name": "tracking",
   "language": "python",
   "name": "python3"
  },
  "language_info": {
   "codemirror_mode": {
    "name": "ipython",
    "version": 3
   },
   "file_extension": ".py",
   "mimetype": "text/x-python",
   "name": "python",
   "nbconvert_exporter": "python",
   "pygments_lexer": "ipython3",
   "version": "3.10.13"
  }
 },
 "nbformat": 4,
 "nbformat_minor": 2
}

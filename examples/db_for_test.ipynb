{
 "cells": [
  {
   "cell_type": "markdown",
   "metadata": {},
   "source": [
    "Notebook to extract fragment of a database for tests."
   ]
  },
  {
   "cell_type": "code",
   "execution_count": 8,
   "metadata": {},
   "outputs": [],
   "source": [
    "from sqlalchemy import create_engine, inspect\n",
    "from sqlalchemy.orm import sessionmaker\n",
    "\n",
    "import sys\n",
    "sys.path.append('..')\n",
    "\n",
    "from tracks_interactions.db.db_model import CellDB, TrackDB,Base\n",
    "from tracks_interactions.db.db_functions import get_descendants"
   ]
  },
  {
   "cell_type": "code",
   "execution_count": 9,
   "metadata": {},
   "outputs": [],
   "source": [
    "# define pathways\n",
    "\n",
    "org_db_path = r'D:\\kasia\\tracking\\E6_exp\\double_segmentation_ultrack\\Exp6_gardener.db'\n",
    "\n",
    "new_db_path = r'../tests/fixtures/db_2tables_test.db'"
   ]
  },
  {
   "cell_type": "code",
   "execution_count": 10,
   "metadata": {},
   "outputs": [],
   "source": [
    "engine = create_engine(f'sqlite:///{org_db_path}')\n",
    "session = sessionmaker(bind=engine)()\n",
    "\n",
    "new_engine = create_engine(f'sqlite:///{new_db_path}')\n",
    "Base.metadata.create_all(new_engine)\n",
    "new_session = sessionmaker(bind=new_engine)()"
   ]
  },
  {
   "cell_type": "code",
   "execution_count": 11,
   "metadata": {},
   "outputs": [
    {
     "data": {
      "text/plain": [
       "[37401, 37402, 37403, 20422, 20423, 20424, 20425, 20426, 20427, 20428]"
      ]
     },
     "execution_count": 11,
     "metadata": {},
     "output_type": "execute_result"
    }
   ],
   "source": [
    "# get all the descendants of the selected roots\n",
    "# don't ask for not roots as their parameters will be incorrect in the test database\n",
    "selected_roots = [37401,20422]\n",
    "selected_track_id_list = []\n",
    "\n",
    "for root in selected_roots:\n",
    "    selected_track_id_list.extend([x.track_id for x in get_descendants(session,root)])\n",
    "\n",
    "selected_track_id_list"
   ]
  },
  {
   "cell_type": "code",
   "execution_count": null,
   "metadata": {},
   "outputs": [],
   "source": [
    "# copy the selected tracks and cells to the new database\n",
    "\n",
    "for selected_track_id in selected_track_id_list:\n",
    "    \n",
    "    cells = session.query(CellDB).filter(CellDB.track_id == selected_track_id).all()\n",
    "    tracks = session.query(TrackDB).filter(TrackDB.track_id == selected_track_id).all()\n",
    "\n",
    "    for cell in cells:\n",
    "        \n",
    "        # Create a new instance of CellDB\n",
    "        new_cell = CellDB()\n",
    "        \n",
    "        # Deep copy\n",
    "        for key, value in inspect(cell).attrs.items():\n",
    "            setattr(new_cell, key, value.value)\n",
    "\n",
    "        new_session.add(new_cell)\n",
    "\n",
    "    for track in tracks:\n",
    "\n",
    "        # Create a new instance of TrackDB\n",
    "        new_track = TrackDB()\n",
    "\n",
    "        # Deep copy\n",
    "        for key, value in inspect(track).attrs.items():\n",
    "            setattr(new_track, key, value.value)\n",
    "        \n",
    "        new_session.add(new_track)\n",
    "\n",
    "    new_session.commit()"
   ]
  },
  {
   "cell_type": "code",
   "execution_count": 7,
   "metadata": {},
   "outputs": [],
   "source": [
    "# clean up\n",
    "session.close()\n",
    "new_session.close()"
   ]
  }
 ],
 "metadata": {
  "kernelspec": {
   "display_name": "tracking",
   "language": "python",
   "name": "python3"
  },
  "language_info": {
   "codemirror_mode": {
    "name": "ipython",
    "version": 3
   },
   "file_extension": ".py",
   "mimetype": "text/x-python",
   "name": "python",
   "nbconvert_exporter": "python",
   "pygments_lexer": "ipython3",
   "version": "3.10.13"
  }
 },
 "nbformat": 4,
 "nbformat_minor": 2
}

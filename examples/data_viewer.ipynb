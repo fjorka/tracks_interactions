{
 "cells": [
  {
   "cell_type": "code",
   "execution_count": 1,
   "metadata": {},
   "outputs": [],
   "source": [
    "import os\n",
    "import zarr\n",
    "import tensorstore as ts\n",
    "import dask.array as da\n",
    "import napari"
   ]
  },
  {
   "cell_type": "code",
   "execution_count": 2,
   "metadata": {},
   "outputs": [
    {
     "data": {
      "text/plain": [
       "False"
      ]
     },
     "execution_count": 2,
     "metadata": {},
     "output_type": "execute_result"
    }
   ],
   "source": [
    "os.environ['NAPARI_PERFMON'] = '0'\n",
    "\n",
    "from napari.settings import get_settings\n",
    "settings = get_settings()\n",
    "print(settings.experimental.async_)\n",
    "#settings.experimental.async_=True"
   ]
  },
  {
   "cell_type": "code",
   "execution_count": 23,
   "metadata": {},
   "outputs": [],
   "source": [
    "# pathway to labels\n",
    "labels_zarr_path = r'./labels_double_1024.zarr'\n",
    "\n",
    "# open using a tensorstore\n",
    "\n",
    "# Create the specification for opening the Zarr dataset\n",
    "spec = {\n",
    "  'driver': 'zarr',\n",
    "  'kvstore': {\n",
    "    'driver': 'file', \n",
    "    'path': labels_zarr_path,\n",
    "  },\n",
    "}\n",
    "\n",
    "# Open the dataset asynchronously\n",
    "dataset_future = ts.open(spec)\n",
    "\n",
    "# Wait for the dataset to be fully opened (synchronous operation)\n",
    "dataset = dataset_future.result()"
   ]
  },
  {
   "cell_type": "code",
   "execution_count": 4,
   "metadata": {},
   "outputs": [],
   "source": [
    "# get images\n",
    "ch1_path = r'./E6_C1.zarr'\n",
    "\n",
    "ch1_list = []\n",
    "for level in range(5):\n",
    "    ch1_list.append(da.from_zarr(ch1_path,level))"
   ]
  },
  {
   "cell_type": "code",
   "execution_count": 28,
   "metadata": {},
   "outputs": [],
   "source": [
    "# display channels and labels\n",
    "viewer = napari.Viewer()\n",
    "\n",
    "ch2 = viewer.add_image(ch1_list, name='ch2', colormap = 'red',blending='additive',contrast_limits=[0, 2048])\n",
    "\n",
    "labels_layer = viewer.add_labels(dataset,name='Labels')"
   ]
  }
 ],
 "metadata": {
  "kernelspec": {
   "display_name": "tracking",
   "language": "python",
   "name": "python3"
  },
  "language_info": {
   "codemirror_mode": {
    "name": "ipython",
    "version": 3
   },
   "file_extension": ".py",
   "mimetype": "text/x-python",
   "name": "python",
   "nbconvert_exporter": "python",
   "pygments_lexer": "ipython3",
   "version": "3.10.13"
  }
 },
 "nbformat": 4,
 "nbformat_minor": 2
}

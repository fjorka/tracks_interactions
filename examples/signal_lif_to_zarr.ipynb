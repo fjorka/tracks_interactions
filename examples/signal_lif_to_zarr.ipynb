{
 "cells": [
  {
   "cell_type": "markdown",
   "metadata": {},
   "source": [
    "Notebook to save original experiment data in a form of lif files."
   ]
  },
  {
   "cell_type": "code",
   "execution_count": 1,
   "metadata": {},
   "outputs": [],
   "source": [
    "from readlif.reader import LifFile\n",
    "import numpy as np\n",
    "from dask import delayed\n",
    "import dask.array as da\n",
    "\n",
    "import zarr\n",
    "from ome_zarr.io import parse_url\n",
    "from ome_zarr.writer import write_image"
   ]
  },
  {
   "cell_type": "code",
   "execution_count": 3,
   "metadata": {},
   "outputs": [],
   "source": [
    "exp_path = r'R:\\Dante\\hillman_academy_2023\\Jinny_test.lif'"
   ]
  },
  {
   "cell_type": "code",
   "execution_count": 4,
   "metadata": {},
   "outputs": [],
   "source": [
    "# load experiment\n",
    "exp = LifFile(exp_path)"
   ]
  },
  {
   "cell_type": "code",
   "execution_count": 5,
   "metadata": {},
   "outputs": [
    {
     "data": {
      "text/plain": [
       "[['G6 Region1', Dims(x=2048, y=2048, z=1, t=1, m=76)],\n",
       " ['G6 Region1_Merged', Dims(x=35181, y=7548, z=1, t=1, m=1)],\n",
       " ['TileScan 4/B4 Region1', Dims(x=2048, y=2048, z=1, t=1, m=77)],\n",
       " ['TileScan 4/C4', Dims(x=2048, y=2048, z=1, t=1, m=77)],\n",
       " ['TileScan 4/D6', Dims(x=2048, y=2048, z=1, t=1, m=77)],\n",
       " ['TileScan 4/E6', Dims(x=2048, y=2048, z=1, t=1, m=77)],\n",
       " ['TileScan 4/F6', Dims(x=2048, y=2048, z=1, t=1, m=77)],\n",
       " ['TileScan 4/G6', Dims(x=2048, y=2048, z=1, t=1, m=77)],\n",
       " ['TileScan 4/B4 Region1_Merged', Dims(x=16801, y=16798, z=1, t=1, m=1)],\n",
       " ['TileScan 4/C4_Merged', Dims(x=16791, y=16793, z=1, t=1, m=1)],\n",
       " ['TileScan 4/D6_Merged', Dims(x=16799, y=16800, z=1, t=1, m=1)],\n",
       " ['TileScan 4/E6_Merged', Dims(x=16809, y=16796, z=1, t=1, m=1)],\n",
       " ['TileScan 4/F6_Merged', Dims(x=16800, y=16794, z=1, t=1, m=1)],\n",
       " ['TileScan 4/G6_Merged', Dims(x=16792, y=16783, z=1, t=1, m=1)],\n",
       " ['TileScan 1/B4 Region1', Dims(x=2048, y=2048, z=1, t=1, m=77)],\n",
       " ['TileScan 1/C4', Dims(x=2048, y=2048, z=1, t=1, m=77)],\n",
       " ['TileScan 1/D6', Dims(x=2048, y=2048, z=1, t=1, m=77)],\n",
       " ['TileScan 1/E6', Dims(x=2048, y=2048, z=1, t=1, m=77)],\n",
       " ['TileScan 1/F6', Dims(x=2048, y=2048, z=1, t=1, m=77)],\n",
       " ['TileScan 1/G6', Dims(x=2048, y=2048, z=1, t=1, m=34)],\n",
       " ['TileScan 1/B4 Region1_Merged', Dims(x=16800, y=16794, z=1, t=1, m=1)],\n",
       " ['TileScan 1/C4_Merged', Dims(x=16792, y=16789, z=1, t=1, m=1)],\n",
       " ['TileScan 1/D6_Merged', Dims(x=16802, y=16802, z=1, t=1, m=1)],\n",
       " ['TileScan 1/E6_Merged', Dims(x=16809, y=16796, z=1, t=1, m=1)],\n",
       " ['TileScan 1/F6_Merged', Dims(x=16798, y=16797, z=1, t=1, m=1)],\n",
       " ['TileScan 1/G6_Merged', Dims(x=16793, y=7577, z=1, t=1, m=1)],\n",
       " ['TileScan 2/B4 Region1', Dims(x=2048, y=2048, z=1, t=1, m=77)],\n",
       " ['TileScan 2/C4', Dims(x=2048, y=2048, z=1, t=1, m=77)],\n",
       " ['TileScan 2/D6', Dims(x=2048, y=2048, z=1, t=1, m=77)],\n",
       " ['TileScan 2/E6', Dims(x=2048, y=2048, z=1, t=1, m=77)],\n",
       " ['TileScan 2/F6', Dims(x=2048, y=2048, z=1, t=1, m=77)],\n",
       " ['TileScan 2/G6', Dims(x=2048, y=2048, z=1, t=1, m=77)],\n",
       " ['TileScan 2/B4 Region1_Merged', Dims(x=16801, y=16804, z=1, t=1, m=1)],\n",
       " ['TileScan 2/C4_Merged', Dims(x=16786, y=16792, z=1, t=1, m=1)],\n",
       " ['TileScan 2/D6_Merged', Dims(x=16801, y=16796, z=1, t=1, m=1)],\n",
       " ['TileScan 2/E6_Merged', Dims(x=16806, y=16802, z=1, t=1, m=1)],\n",
       " ['TileScan 2/F6_Merged', Dims(x=16800, y=16803, z=1, t=1, m=1)],\n",
       " ['TileScan 2/G6_Merged', Dims(x=16786, y=16782, z=1, t=1, m=1)],\n",
       " ['TileScan 3/B4 Region1', Dims(x=2048, y=2048, z=1, t=1, m=48)],\n",
       " ['TileScan 3/B4 Region1_Merged', Dims(x=16798, y=11270, z=1, t=1, m=1)],\n",
       " ['TileScan 5/B4 Region1', Dims(x=2048, y=2048, z=1, t=241, m=77)],\n",
       " ['TileScan 5/C4', Dims(x=2048, y=2048, z=1, t=241, m=77)],\n",
       " ['TileScan 5/D6', Dims(x=2048, y=2048, z=1, t=241, m=77)],\n",
       " ['TileScan 5/E6', Dims(x=2048, y=2048, z=1, t=241, m=77)],\n",
       " ['TileScan 5/F6', Dims(x=2048, y=2048, z=1, t=241, m=77)],\n",
       " ['TileScan 5/G6', Dims(x=2048, y=2048, z=1, t=241, m=77)],\n",
       " ['TileScan 5/B4 Region1_Merged', Dims(x=16792, y=16800, z=1, t=241, m=1)],\n",
       " ['TileScan 5/C4_Merged', Dims(x=16796, y=16798, z=1, t=241, m=1)],\n",
       " ['TileScan 5/D6_Merged', Dims(x=16794, y=16797, z=1, t=241, m=1)],\n",
       " ['TileScan 5/E6_Merged', Dims(x=16802, y=16793, z=1, t=241, m=1)],\n",
       " ['TileScan 5/F6_Merged', Dims(x=16808, y=16802, z=1, t=241, m=1)],\n",
       " ['TileScan 5/G6_Merged', Dims(x=16796, y=16790, z=1, t=241, m=1)]]"
      ]
     },
     "execution_count": 5,
     "metadata": {},
     "output_type": "execute_result"
    }
   ],
   "source": [
    "# get names and dimensions of all elements in the lif file\n",
    "[[image.name, image.dims] for image in exp.get_iter_image()]"
   ]
  },
  {
   "cell_type": "code",
   "execution_count": 6,
   "metadata": {},
   "outputs": [
    {
     "data": {
      "text/plain": [
       "[Dims(x=16792, y=16800, z=1, t=241, m=1),\n",
       " Dims(x=16796, y=16798, z=1, t=241, m=1),\n",
       " Dims(x=16794, y=16797, z=1, t=241, m=1),\n",
       " Dims(x=16802, y=16793, z=1, t=241, m=1),\n",
       " Dims(x=16808, y=16802, z=1, t=241, m=1),\n",
       " Dims(x=16796, y=16790, z=1, t=241, m=1)]"
      ]
     },
     "execution_count": 6,
     "metadata": {},
     "output_type": "execute_result"
    }
   ],
   "source": [
    "# get a list based on criteria regarding dimensions\n",
    "[image.dims for image in exp.get_iter_image() if ((image.dims.t>100) and (image.dims.x > 2048))]"
   ]
  },
  {
   "cell_type": "code",
   "execution_count": 7,
   "metadata": {},
   "outputs": [
    {
     "data": {
      "text/plain": [
       "'LifImage object with dimensions: Dims(x=16802, y=16793, z=1, t=241, m=1)'"
      ]
     },
     "execution_count": 7,
     "metadata": {},
     "output_type": "execute_result"
    }
   ],
   "source": [
    "# get a a selected series\n",
    "sel_name = 'TileScan 5/E6_Merged'\n",
    "t = [image for image in exp.get_iter_image() if sel_name in image.name][0]\n",
    "t"
   ]
  },
  {
   "cell_type": "code",
   "execution_count": 29,
   "metadata": {},
   "outputs": [],
   "source": [
    "from numcodecs import Blosc\n",
    "compressor = Blosc(cname='lz4', clevel=1, shuffle=Blosc.NOSHUFFLE)"
   ]
  },
  {
   "cell_type": "code",
   "execution_count": 30,
   "metadata": {},
   "outputs": [
    {
     "data": {
      "text/plain": [
       "[]"
      ]
     },
     "execution_count": 30,
     "metadata": {},
     "output_type": "execute_result"
    }
   ],
   "source": [
    "def frame_getter(lif,ind):\n",
    "\n",
    "    return np.array(lif.get_frame(z=0, t=ind, c=1))\n",
    "\n",
    "lazy_arrays = [delayed(frame_getter)(t,i) for i in range(t.dims.t)]\n",
    "dask_arrays = [da.from_delayed(delayed_reader, shape=[16793,16802], dtype='uint16') for delayed_reader in lazy_arrays]\n",
    "stack = da.stack(dask_arrays, axis=0)\n",
    "\n",
    "# save zarr file\n",
    "\n",
    "size_t = 50\n",
    "size_xy = 128\n",
    "\n",
    "zarr_path = r'D:\\kasia\\tracking\\zarr_tests\\E6_C1_c1.zarr'\n",
    "\n",
    "# write the image data\n",
    "store = parse_url(zarr_path, mode=\"w\").store\n",
    "root = zarr.group(store=store)\n",
    "\n",
    "# it will fail if the store already contains arrays\n",
    "write_image(image=stack, group=root, axes=\"tyx\", storage_options=dict(chunks=(size_t,size_xy, size_xy),compressor=compressor))"
   ]
  }
 ],
 "metadata": {
  "kernelspec": {
   "display_name": "tracking",
   "language": "python",
   "name": "python3"
  },
  "language_info": {
   "codemirror_mode": {
    "name": "ipython",
    "version": 3
   },
   "file_extension": ".py",
   "mimetype": "text/x-python",
   "name": "python",
   "nbconvert_exporter": "python",
   "pygments_lexer": "ipython3",
   "version": "3.10.13"
  }
 },
 "nbformat": 4,
 "nbformat_minor": 2
}

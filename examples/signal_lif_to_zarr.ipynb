{
 "cells": [
  {
   "cell_type": "markdown",
   "metadata": {},
   "source": [
    "Notebook to save original experiment data in a form of lif files."
   ]
  },
  {
   "cell_type": "code",
   "execution_count": 5,
   "metadata": {},
   "outputs": [],
   "source": [
    "from readlif.reader import LifFile\n",
    "import numpy as np\n",
    "from dask import delayed\n",
    "import dask.array as da\n",
    "\n",
    "import zarr\n",
    "from ome_zarr.io import parse_url\n",
    "from ome_zarr.writer import write_image"
   ]
  },
  {
   "cell_type": "code",
   "execution_count": 6,
   "metadata": {},
   "outputs": [],
   "source": [
    "exp_path = r'R:\\Dante\\hillman_academy_2023\\Jinny_test.lif'"
   ]
  },
  {
   "cell_type": "code",
   "execution_count": 7,
   "metadata": {},
   "outputs": [],
   "source": [
    "# load experiment\n",
    "exp = LifFile(exp_path)"
   ]
  },
  {
   "cell_type": "code",
   "execution_count": 8,
   "metadata": {},
   "outputs": [
    {
     "data": {
      "text/plain": [
       "[['G6 Region1', Dims(x=2048, y=2048, z=1, t=1, m=76)],\n",
       " ['G6 Region1_Merged', Dims(x=35181, y=7548, z=1, t=1, m=1)],\n",
       " ['TileScan 4/B4 Region1', Dims(x=2048, y=2048, z=1, t=1, m=77)],\n",
       " ['TileScan 4/C4', Dims(x=2048, y=2048, z=1, t=1, m=77)],\n",
       " ['TileScan 4/D6', Dims(x=2048, y=2048, z=1, t=1, m=77)],\n",
       " ['TileScan 4/E6', Dims(x=2048, y=2048, z=1, t=1, m=77)],\n",
       " ['TileScan 4/F6', Dims(x=2048, y=2048, z=1, t=1, m=77)],\n",
       " ['TileScan 4/G6', Dims(x=2048, y=2048, z=1, t=1, m=77)],\n",
       " ['TileScan 4/B4 Region1_Merged', Dims(x=16801, y=16798, z=1, t=1, m=1)],\n",
       " ['TileScan 4/C4_Merged', Dims(x=16791, y=16793, z=1, t=1, m=1)],\n",
       " ['TileScan 4/D6_Merged', Dims(x=16799, y=16800, z=1, t=1, m=1)],\n",
       " ['TileScan 4/E6_Merged', Dims(x=16809, y=16796, z=1, t=1, m=1)],\n",
       " ['TileScan 4/F6_Merged', Dims(x=16800, y=16794, z=1, t=1, m=1)],\n",
       " ['TileScan 4/G6_Merged', Dims(x=16792, y=16783, z=1, t=1, m=1)],\n",
       " ['TileScan 1/B4 Region1', Dims(x=2048, y=2048, z=1, t=1, m=77)],\n",
       " ['TileScan 1/C4', Dims(x=2048, y=2048, z=1, t=1, m=77)],\n",
       " ['TileScan 1/D6', Dims(x=2048, y=2048, z=1, t=1, m=77)],\n",
       " ['TileScan 1/E6', Dims(x=2048, y=2048, z=1, t=1, m=77)],\n",
       " ['TileScan 1/F6', Dims(x=2048, y=2048, z=1, t=1, m=77)],\n",
       " ['TileScan 1/G6', Dims(x=2048, y=2048, z=1, t=1, m=34)],\n",
       " ['TileScan 1/B4 Region1_Merged', Dims(x=16800, y=16794, z=1, t=1, m=1)],\n",
       " ['TileScan 1/C4_Merged', Dims(x=16792, y=16789, z=1, t=1, m=1)],\n",
       " ['TileScan 1/D6_Merged', Dims(x=16802, y=16802, z=1, t=1, m=1)],\n",
       " ['TileScan 1/E6_Merged', Dims(x=16809, y=16796, z=1, t=1, m=1)],\n",
       " ['TileScan 1/F6_Merged', Dims(x=16798, y=16797, z=1, t=1, m=1)],\n",
       " ['TileScan 1/G6_Merged', Dims(x=16793, y=7577, z=1, t=1, m=1)],\n",
       " ['TileScan 2/B4 Region1', Dims(x=2048, y=2048, z=1, t=1, m=77)],\n",
       " ['TileScan 2/C4', Dims(x=2048, y=2048, z=1, t=1, m=77)],\n",
       " ['TileScan 2/D6', Dims(x=2048, y=2048, z=1, t=1, m=77)],\n",
       " ['TileScan 2/E6', Dims(x=2048, y=2048, z=1, t=1, m=77)],\n",
       " ['TileScan 2/F6', Dims(x=2048, y=2048, z=1, t=1, m=77)],\n",
       " ['TileScan 2/G6', Dims(x=2048, y=2048, z=1, t=1, m=77)],\n",
       " ['TileScan 2/B4 Region1_Merged', Dims(x=16801, y=16804, z=1, t=1, m=1)],\n",
       " ['TileScan 2/C4_Merged', Dims(x=16786, y=16792, z=1, t=1, m=1)],\n",
       " ['TileScan 2/D6_Merged', Dims(x=16801, y=16796, z=1, t=1, m=1)],\n",
       " ['TileScan 2/E6_Merged', Dims(x=16806, y=16802, z=1, t=1, m=1)],\n",
       " ['TileScan 2/F6_Merged', Dims(x=16800, y=16803, z=1, t=1, m=1)],\n",
       " ['TileScan 2/G6_Merged', Dims(x=16786, y=16782, z=1, t=1, m=1)],\n",
       " ['TileScan 3/B4 Region1', Dims(x=2048, y=2048, z=1, t=1, m=48)],\n",
       " ['TileScan 3/B4 Region1_Merged', Dims(x=16798, y=11270, z=1, t=1, m=1)],\n",
       " ['TileScan 5/B4 Region1', Dims(x=2048, y=2048, z=1, t=241, m=77)],\n",
       " ['TileScan 5/C4', Dims(x=2048, y=2048, z=1, t=241, m=77)],\n",
       " ['TileScan 5/D6', Dims(x=2048, y=2048, z=1, t=241, m=77)],\n",
       " ['TileScan 5/E6', Dims(x=2048, y=2048, z=1, t=241, m=77)],\n",
       " ['TileScan 5/F6', Dims(x=2048, y=2048, z=1, t=241, m=77)],\n",
       " ['TileScan 5/G6', Dims(x=2048, y=2048, z=1, t=241, m=77)],\n",
       " ['TileScan 5/B4 Region1_Merged', Dims(x=16792, y=16800, z=1, t=241, m=1)],\n",
       " ['TileScan 5/C4_Merged', Dims(x=16796, y=16798, z=1, t=241, m=1)],\n",
       " ['TileScan 5/D6_Merged', Dims(x=16794, y=16797, z=1, t=241, m=1)],\n",
       " ['TileScan 5/E6_Merged', Dims(x=16802, y=16793, z=1, t=241, m=1)],\n",
       " ['TileScan 5/F6_Merged', Dims(x=16808, y=16802, z=1, t=241, m=1)],\n",
       " ['TileScan 5/G6_Merged', Dims(x=16796, y=16790, z=1, t=241, m=1)]]"
      ]
     },
     "execution_count": 8,
     "metadata": {},
     "output_type": "execute_result"
    }
   ],
   "source": [
    "# get names and dimensions of all elements in the lif file\n",
    "[[image.name, image.dims] for image in exp.get_iter_image()]"
   ]
  },
  {
   "cell_type": "code",
   "execution_count": 10,
   "metadata": {},
   "outputs": [
    {
     "data": {
      "text/plain": [
       "[['TileScan 5/B4 Region1_Merged', Dims(x=16792, y=16800, z=1, t=241, m=1)],\n",
       " ['TileScan 5/C4_Merged', Dims(x=16796, y=16798, z=1, t=241, m=1)],\n",
       " ['TileScan 5/D6_Merged', Dims(x=16794, y=16797, z=1, t=241, m=1)],\n",
       " ['TileScan 5/E6_Merged', Dims(x=16802, y=16793, z=1, t=241, m=1)],\n",
       " ['TileScan 5/F6_Merged', Dims(x=16808, y=16802, z=1, t=241, m=1)],\n",
       " ['TileScan 5/G6_Merged', Dims(x=16796, y=16790, z=1, t=241, m=1)]]"
      ]
     },
     "execution_count": 10,
     "metadata": {},
     "output_type": "execute_result"
    }
   ],
   "source": [
    "# get a list based on criteria regarding dimensions\n",
    "[[image.name,image.dims] for image in exp.get_iter_image() if ((image.dims.t>100) and (image.dims.x > 2048))]"
   ]
  },
  {
   "cell_type": "code",
   "execution_count": 11,
   "metadata": {},
   "outputs": [
    {
     "data": {
      "text/plain": [
       "'LifImage object with dimensions: Dims(x=16796, y=16798, z=1, t=241, m=1)'"
      ]
     },
     "execution_count": 11,
     "metadata": {},
     "output_type": "execute_result"
    }
   ],
   "source": [
    "# get a a selected series\n",
    "sel_name = 'TileScan 5/C4_Merged'\n",
    "t = [image for image in exp.get_iter_image() if sel_name in image.name][0]\n",
    "t"
   ]
  },
  {
   "cell_type": "code",
   "execution_count": 12,
   "metadata": {},
   "outputs": [],
   "source": [
    "from numcodecs import Blosc\n",
    "compressor = Blosc(cname='lz4', clevel=1, shuffle=Blosc.NOSHUFFLE)"
   ]
  },
  {
   "cell_type": "code",
   "execution_count": 13,
   "metadata": {},
   "outputs": [],
   "source": [
    "def frame_getter(lif,ind):\n",
    "\n",
    "    return np.array(lif.get_frame(z=0, t=ind, c=1))\n",
    "\n",
    "lazy_arrays = [delayed(frame_getter)(t,i) for i in range(t.dims.t)]\n",
    "dask_arrays = [da.from_delayed(delayed_reader, shape=[16793,16802], dtype='uint16') for delayed_reader in lazy_arrays]\n",
    "stack = da.stack(dask_arrays, axis=0)"
   ]
  },
  {
   "cell_type": "code",
   "execution_count": 16,
   "metadata": {},
   "outputs": [
    {
     "data": {
      "text/html": [
       "<table>\n",
       "    <tr>\n",
       "        <td>\n",
       "            <table style=\"border-collapse: collapse;\">\n",
       "                <thead>\n",
       "                    <tr>\n",
       "                        <td> </td>\n",
       "                        <th> Array </th>\n",
       "                        <th> Chunk </th>\n",
       "                    </tr>\n",
       "                </thead>\n",
       "                <tbody>\n",
       "                    \n",
       "                    <tr>\n",
       "                        <th> Bytes </th>\n",
       "                        <td> 126.66 GiB </td>\n",
       "                        <td> 538.17 MiB </td>\n",
       "                    </tr>\n",
       "                    \n",
       "                    <tr>\n",
       "                        <th> Shape </th>\n",
       "                        <td> (241, 16793, 16802) </td>\n",
       "                        <td> (1, 16793, 16802) </td>\n",
       "                    </tr>\n",
       "                    <tr>\n",
       "                        <th> Dask graph </th>\n",
       "                        <td colspan=\"2\"> 241 chunks in 483 graph layers </td>\n",
       "                    </tr>\n",
       "                    <tr>\n",
       "                        <th> Data type </th>\n",
       "                        <td colspan=\"2\"> uint16 numpy.ndarray </td>\n",
       "                    </tr>\n",
       "                </tbody>\n",
       "            </table>\n",
       "        </td>\n",
       "        <td>\n",
       "        <svg width=\"196\" height=\"185\" style=\"stroke:rgb(0,0,0);stroke-width:1\" >\n",
       "\n",
       "  <!-- Horizontal lines -->\n",
       "  <line x1=\"10\" y1=\"0\" x2=\"26\" y2=\"16\" style=\"stroke-width:2\" />\n",
       "  <line x1=\"10\" y1=\"119\" x2=\"26\" y2=\"135\" style=\"stroke-width:2\" />\n",
       "\n",
       "  <!-- Vertical lines -->\n",
       "  <line x1=\"10\" y1=\"0\" x2=\"10\" y2=\"119\" style=\"stroke-width:2\" />\n",
       "  <line x1=\"10\" y1=\"0\" x2=\"10\" y2=\"120\" />\n",
       "  <line x1=\"11\" y1=\"1\" x2=\"11\" y2=\"121\" />\n",
       "  <line x1=\"12\" y1=\"2\" x2=\"12\" y2=\"122\" />\n",
       "  <line x1=\"13\" y1=\"3\" x2=\"13\" y2=\"123\" />\n",
       "  <line x1=\"14\" y1=\"4\" x2=\"14\" y2=\"124\" />\n",
       "  <line x1=\"15\" y1=\"5\" x2=\"15\" y2=\"124\" />\n",
       "  <line x1=\"15\" y1=\"5\" x2=\"15\" y2=\"125\" />\n",
       "  <line x1=\"16\" y1=\"6\" x2=\"16\" y2=\"126\" />\n",
       "  <line x1=\"17\" y1=\"7\" x2=\"17\" y2=\"127\" />\n",
       "  <line x1=\"18\" y1=\"8\" x2=\"18\" y2=\"128\" />\n",
       "  <line x1=\"19\" y1=\"9\" x2=\"19\" y2=\"129\" />\n",
       "  <line x1=\"20\" y1=\"10\" x2=\"20\" y2=\"130\" />\n",
       "  <line x1=\"20\" y1=\"10\" x2=\"20\" y2=\"130\" />\n",
       "  <line x1=\"21\" y1=\"11\" x2=\"21\" y2=\"131\" />\n",
       "  <line x1=\"22\" y1=\"12\" x2=\"22\" y2=\"132\" />\n",
       "  <line x1=\"23\" y1=\"13\" x2=\"23\" y2=\"133\" />\n",
       "  <line x1=\"24\" y1=\"14\" x2=\"24\" y2=\"134\" />\n",
       "  <line x1=\"25\" y1=\"15\" x2=\"25\" y2=\"135\" />\n",
       "  <line x1=\"26\" y1=\"16\" x2=\"26\" y2=\"135\" style=\"stroke-width:2\" />\n",
       "\n",
       "  <!-- Colored Rectangle -->\n",
       "  <polygon points=\"10.0,0.0 26.013100767981516,16.013100767981516 26.013100767981516,135.94882270584606 10.0,119.93572193786454\" style=\"fill:#8B4903A0;stroke-width:0\"/>\n",
       "\n",
       "  <!-- Horizontal lines -->\n",
       "  <line x1=\"10\" y1=\"0\" x2=\"130\" y2=\"0\" style=\"stroke-width:2\" />\n",
       "  <line x1=\"10\" y1=\"0\" x2=\"130\" y2=\"0\" />\n",
       "  <line x1=\"11\" y1=\"1\" x2=\"131\" y2=\"1\" />\n",
       "  <line x1=\"12\" y1=\"2\" x2=\"132\" y2=\"2\" />\n",
       "  <line x1=\"13\" y1=\"3\" x2=\"133\" y2=\"3\" />\n",
       "  <line x1=\"14\" y1=\"4\" x2=\"134\" y2=\"4\" />\n",
       "  <line x1=\"15\" y1=\"5\" x2=\"135\" y2=\"5\" />\n",
       "  <line x1=\"15\" y1=\"5\" x2=\"135\" y2=\"5\" />\n",
       "  <line x1=\"16\" y1=\"6\" x2=\"136\" y2=\"6\" />\n",
       "  <line x1=\"17\" y1=\"7\" x2=\"137\" y2=\"7\" />\n",
       "  <line x1=\"18\" y1=\"8\" x2=\"138\" y2=\"8\" />\n",
       "  <line x1=\"19\" y1=\"9\" x2=\"139\" y2=\"9\" />\n",
       "  <line x1=\"20\" y1=\"10\" x2=\"140\" y2=\"10\" />\n",
       "  <line x1=\"20\" y1=\"10\" x2=\"140\" y2=\"10\" />\n",
       "  <line x1=\"21\" y1=\"11\" x2=\"141\" y2=\"11\" />\n",
       "  <line x1=\"22\" y1=\"12\" x2=\"142\" y2=\"12\" />\n",
       "  <line x1=\"23\" y1=\"13\" x2=\"143\" y2=\"13\" />\n",
       "  <line x1=\"24\" y1=\"14\" x2=\"144\" y2=\"14\" />\n",
       "  <line x1=\"25\" y1=\"15\" x2=\"145\" y2=\"15\" />\n",
       "  <line x1=\"26\" y1=\"16\" x2=\"146\" y2=\"16\" style=\"stroke-width:2\" />\n",
       "\n",
       "  <!-- Vertical lines -->\n",
       "  <line x1=\"10\" y1=\"0\" x2=\"26\" y2=\"16\" style=\"stroke-width:2\" />\n",
       "  <line x1=\"130\" y1=\"0\" x2=\"146\" y2=\"16\" style=\"stroke-width:2\" />\n",
       "\n",
       "  <!-- Colored Rectangle -->\n",
       "  <polygon points=\"10.0,0.0 130.0,0.0 146.0131007679815,16.013100767981516 26.013100767981516,16.013100767981516\" style=\"fill:#8B4903A0;stroke-width:0\"/>\n",
       "\n",
       "  <!-- Horizontal lines -->\n",
       "  <line x1=\"26\" y1=\"16\" x2=\"146\" y2=\"16\" style=\"stroke-width:2\" />\n",
       "  <line x1=\"26\" y1=\"135\" x2=\"146\" y2=\"135\" style=\"stroke-width:2\" />\n",
       "\n",
       "  <!-- Vertical lines -->\n",
       "  <line x1=\"26\" y1=\"16\" x2=\"26\" y2=\"135\" style=\"stroke-width:2\" />\n",
       "  <line x1=\"146\" y1=\"16\" x2=\"146\" y2=\"135\" style=\"stroke-width:2\" />\n",
       "\n",
       "  <!-- Colored Rectangle -->\n",
       "  <polygon points=\"26.013100767981516,16.013100767981516 146.0131007679815,16.013100767981516 146.0131007679815,135.94882270584606 26.013100767981516,135.94882270584606\" style=\"fill:#ECB172A0;stroke-width:0\"/>\n",
       "\n",
       "  <!-- Text -->\n",
       "  <text x=\"86.013101\" y=\"155.948823\" font-size=\"1.0rem\" font-weight=\"100\" text-anchor=\"middle\" >16802</text>\n",
       "  <text x=\"166.013101\" y=\"75.980962\" font-size=\"1.0rem\" font-weight=\"100\" text-anchor=\"middle\" transform=\"rotate(-90,166.013101,75.980962)\">16793</text>\n",
       "  <text x=\"8.006550\" y=\"147.942272\" font-size=\"1.0rem\" font-weight=\"100\" text-anchor=\"middle\" transform=\"rotate(45,8.006550,147.942272)\">241</text>\n",
       "</svg>\n",
       "        </td>\n",
       "    </tr>\n",
       "</table>"
      ],
      "text/plain": [
       "dask.array<stack, shape=(241, 16793, 16802), dtype=uint16, chunksize=(1, 16793, 16802), chunktype=numpy.ndarray>"
      ]
     },
     "execution_count": 16,
     "metadata": {},
     "output_type": "execute_result"
    }
   ],
   "source": [
    "stack"
   ]
  },
  {
   "cell_type": "code",
   "execution_count": 15,
   "metadata": {},
   "outputs": [
    {
     "ename": "ValueError",
     "evalue": "parameter 'value': expected array with shape (1, 512, 418), got (1, 512, 412)",
     "output_type": "error",
     "traceback": [
      "\u001b[1;31m---------------------------------------------------------------------------\u001b[0m",
      "\u001b[1;31mValueError\u001b[0m                                Traceback (most recent call last)",
      "Cell \u001b[1;32mIn[15], line 24\u001b[0m\n\u001b[0;32m     21\u001b[0m root \u001b[38;5;241m=\u001b[39m zarr\u001b[38;5;241m.\u001b[39mgroup(store\u001b[38;5;241m=\u001b[39mstore)\n\u001b[0;32m     23\u001b[0m \u001b[38;5;66;03m# it will fail if the store already contains arrays\u001b[39;00m\n\u001b[1;32m---> 24\u001b[0m \u001b[43mwrite_image\u001b[49m\u001b[43m(\u001b[49m\u001b[43mimage\u001b[49m\u001b[38;5;241;43m=\u001b[39;49m\u001b[43mstack\u001b[49m\u001b[43m,\u001b[49m\u001b[43m \u001b[49m\u001b[43mgroup\u001b[49m\u001b[38;5;241;43m=\u001b[39;49m\u001b[43mroot\u001b[49m\u001b[43m,\u001b[49m\u001b[43m \u001b[49m\u001b[43maxes\u001b[49m\u001b[38;5;241;43m=\u001b[39;49m\u001b[38;5;124;43m\"\u001b[39;49m\u001b[38;5;124;43mtyx\u001b[39;49m\u001b[38;5;124;43m\"\u001b[39;49m\u001b[43m,\u001b[49m\u001b[43m \u001b[49m\u001b[43mstorage_options\u001b[49m\u001b[38;5;241;43m=\u001b[39;49m\u001b[38;5;28;43mdict\u001b[39;49m\u001b[43m(\u001b[49m\u001b[43mchunks\u001b[49m\u001b[38;5;241;43m=\u001b[39;49m\u001b[43m(\u001b[49m\u001b[43msize_t\u001b[49m\u001b[43m,\u001b[49m\u001b[43msize_xy\u001b[49m\u001b[43m,\u001b[49m\u001b[43m \u001b[49m\u001b[43msize_xy\u001b[49m\u001b[43m)\u001b[49m\u001b[43m,\u001b[49m\u001b[43mcompressor\u001b[49m\u001b[38;5;241;43m=\u001b[39;49m\u001b[43mcompressor\u001b[49m\u001b[43m)\u001b[49m\u001b[43m)\u001b[49m\n",
      "File \u001b[1;32mc:\\Users\\kmk280\\AppData\\Local\\miniconda3\\envs\\napari-env\\lib\\site-packages\\ome_zarr\\writer.py:477\u001b[0m, in \u001b[0;36mwrite_image\u001b[1;34m(image, group, scaler, chunks, fmt, axes, coordinate_transformations, storage_options, compute, **metadata)\u001b[0m\n\u001b[0;32m    474\u001b[0m dask_delayed_jobs \u001b[38;5;241m=\u001b[39m []\n\u001b[0;32m    476\u001b[0m \u001b[38;5;28;01mif\u001b[39;00m \u001b[38;5;28misinstance\u001b[39m(image, da\u001b[38;5;241m.\u001b[39mArray):\n\u001b[1;32m--> 477\u001b[0m     dask_delayed_jobs \u001b[38;5;241m=\u001b[39m _write_dask_image(\n\u001b[0;32m    478\u001b[0m         image,\n\u001b[0;32m    479\u001b[0m         group,\n\u001b[0;32m    480\u001b[0m         scaler,\n\u001b[0;32m    481\u001b[0m         chunks\u001b[38;5;241m=\u001b[39mchunks,\n\u001b[0;32m    482\u001b[0m         fmt\u001b[38;5;241m=\u001b[39mfmt,\n\u001b[0;32m    483\u001b[0m         axes\u001b[38;5;241m=\u001b[39maxes,\n\u001b[0;32m    484\u001b[0m         coordinate_transformations\u001b[38;5;241m=\u001b[39mcoordinate_transformations,\n\u001b[0;32m    485\u001b[0m         storage_options\u001b[38;5;241m=\u001b[39mstorage_options,\n\u001b[0;32m    486\u001b[0m         name\u001b[38;5;241m=\u001b[39m\u001b[38;5;28;01mNone\u001b[39;00m,\n\u001b[0;32m    487\u001b[0m         compute\u001b[38;5;241m=\u001b[39mcompute,\n\u001b[0;32m    488\u001b[0m         \u001b[38;5;241m*\u001b[39m\u001b[38;5;241m*\u001b[39mmetadata,\n\u001b[0;32m    489\u001b[0m     )\n\u001b[0;32m    490\u001b[0m \u001b[38;5;28;01melse\u001b[39;00m:\n\u001b[0;32m    491\u001b[0m     mip, axes \u001b[38;5;241m=\u001b[39m _create_mip(image, fmt, scaler, axes)\n",
      "File \u001b[1;32mc:\\Users\\kmk280\\AppData\\Local\\miniconda3\\envs\\napari-env\\lib\\site-packages\\ome_zarr\\writer.py:594\u001b[0m, in \u001b[0;36m_write_dask_image\u001b[1;34m(image, group, scaler, chunks, fmt, axes, coordinate_transformations, storage_options, name, compute, **metadata)\u001b[0m\n\u001b[0;32m    592\u001b[0m \u001b[38;5;66;03m# Computing delayed jobs if necessary\u001b[39;00m\n\u001b[0;32m    593\u001b[0m \u001b[38;5;28;01mif\u001b[39;00m compute:\n\u001b[1;32m--> 594\u001b[0m     \u001b[43mda\u001b[49m\u001b[38;5;241;43m.\u001b[39;49m\u001b[43mcompute\u001b[49m\u001b[43m(\u001b[49m\u001b[38;5;241;43m*\u001b[39;49m\u001b[43mdelayed\u001b[49m\u001b[43m)\u001b[49m\n\u001b[0;32m    595\u001b[0m     delayed \u001b[38;5;241m=\u001b[39m []\n\u001b[0;32m    597\u001b[0m \u001b[38;5;28;01mif\u001b[39;00m coordinate_transformations \u001b[38;5;129;01mis\u001b[39;00m \u001b[38;5;28;01mNone\u001b[39;00m:\n\u001b[0;32m    598\u001b[0m     \u001b[38;5;66;03m# shapes = [data.shape for data in delayed]\u001b[39;00m\n",
      "File \u001b[1;32mc:\\Users\\kmk280\\AppData\\Local\\miniconda3\\envs\\napari-env\\lib\\site-packages\\dask\\base.py:661\u001b[0m, in \u001b[0;36mcompute\u001b[1;34m(traverse, optimize_graph, scheduler, get, *args, **kwargs)\u001b[0m\n\u001b[0;32m    658\u001b[0m     postcomputes\u001b[38;5;241m.\u001b[39mappend(x\u001b[38;5;241m.\u001b[39m__dask_postcompute__())\n\u001b[0;32m    660\u001b[0m \u001b[38;5;28;01mwith\u001b[39;00m shorten_traceback():\n\u001b[1;32m--> 661\u001b[0m     results \u001b[38;5;241m=\u001b[39m schedule(dsk, keys, \u001b[38;5;241m*\u001b[39m\u001b[38;5;241m*\u001b[39mkwargs)\n\u001b[0;32m    663\u001b[0m \u001b[38;5;28;01mreturn\u001b[39;00m repack([f(r, \u001b[38;5;241m*\u001b[39ma) \u001b[38;5;28;01mfor\u001b[39;00m r, (f, a) \u001b[38;5;129;01min\u001b[39;00m \u001b[38;5;28mzip\u001b[39m(results, postcomputes)])\n",
      "File \u001b[1;32mc:\\Users\\kmk280\\AppData\\Local\\miniconda3\\envs\\napari-env\\lib\\site-packages\\zarr\\core.py:1450\u001b[0m, in \u001b[0;36mArray.__setitem__\u001b[1;34m(self, selection, value)\u001b[0m\n\u001b[0;32m   1448\u001b[0m     \u001b[38;5;28mself\u001b[39m\u001b[38;5;241m.\u001b[39mvindex[selection] \u001b[38;5;241m=\u001b[39m value\n\u001b[0;32m   1449\u001b[0m \u001b[38;5;28;01melif\u001b[39;00m is_pure_orthogonal_indexing(pure_selection, \u001b[38;5;28mself\u001b[39m\u001b[38;5;241m.\u001b[39mndim):\n\u001b[1;32m-> 1450\u001b[0m     \u001b[38;5;28;43mself\u001b[39;49m\u001b[38;5;241;43m.\u001b[39;49m\u001b[43mset_orthogonal_selection\u001b[49m\u001b[43m(\u001b[49m\u001b[43mpure_selection\u001b[49m\u001b[43m,\u001b[49m\u001b[43m \u001b[49m\u001b[43mvalue\u001b[49m\u001b[43m,\u001b[49m\u001b[43m \u001b[49m\u001b[43mfields\u001b[49m\u001b[38;5;241;43m=\u001b[39;49m\u001b[43mfields\u001b[49m\u001b[43m)\u001b[49m\n\u001b[0;32m   1451\u001b[0m \u001b[38;5;28;01melse\u001b[39;00m:\n\u001b[0;32m   1452\u001b[0m     \u001b[38;5;28mself\u001b[39m\u001b[38;5;241m.\u001b[39mset_basic_selection(pure_selection, value, fields\u001b[38;5;241m=\u001b[39mfields)\n",
      "File \u001b[1;32mc:\\Users\\kmk280\\AppData\\Local\\miniconda3\\envs\\napari-env\\lib\\site-packages\\zarr\\core.py:1639\u001b[0m, in \u001b[0;36mArray.set_orthogonal_selection\u001b[1;34m(self, selection, value, fields)\u001b[0m\n\u001b[0;32m   1636\u001b[0m \u001b[38;5;66;03m# setup indexer\u001b[39;00m\n\u001b[0;32m   1637\u001b[0m indexer \u001b[38;5;241m=\u001b[39m OrthogonalIndexer(selection, \u001b[38;5;28mself\u001b[39m)\n\u001b[1;32m-> 1639\u001b[0m \u001b[38;5;28;43mself\u001b[39;49m\u001b[38;5;241;43m.\u001b[39;49m\u001b[43m_set_selection\u001b[49m\u001b[43m(\u001b[49m\u001b[43mindexer\u001b[49m\u001b[43m,\u001b[49m\u001b[43m \u001b[49m\u001b[43mvalue\u001b[49m\u001b[43m,\u001b[49m\u001b[43m \u001b[49m\u001b[43mfields\u001b[49m\u001b[38;5;241;43m=\u001b[39;49m\u001b[43mfields\u001b[49m\u001b[43m)\u001b[49m\n",
      "File \u001b[1;32mc:\\Users\\kmk280\\AppData\\Local\\miniconda3\\envs\\napari-env\\lib\\site-packages\\zarr\\core.py:1965\u001b[0m, in \u001b[0;36mArray._set_selection\u001b[1;34m(self, indexer, value, fields)\u001b[0m\n\u001b[0;32m   1963\u001b[0m     \u001b[38;5;28;01mif\u001b[39;00m \u001b[38;5;129;01mnot\u001b[39;00m \u001b[38;5;28mhasattr\u001b[39m(value, \u001b[38;5;124m\"\u001b[39m\u001b[38;5;124mshape\u001b[39m\u001b[38;5;124m\"\u001b[39m):\n\u001b[0;32m   1964\u001b[0m         value \u001b[38;5;241m=\u001b[39m np\u001b[38;5;241m.\u001b[39masanyarray(value, like\u001b[38;5;241m=\u001b[39m\u001b[38;5;28mself\u001b[39m\u001b[38;5;241m.\u001b[39m_meta_array)\n\u001b[1;32m-> 1965\u001b[0m     \u001b[43mcheck_array_shape\u001b[49m\u001b[43m(\u001b[49m\u001b[38;5;124;43m\"\u001b[39;49m\u001b[38;5;124;43mvalue\u001b[39;49m\u001b[38;5;124;43m\"\u001b[39;49m\u001b[43m,\u001b[49m\u001b[43m \u001b[49m\u001b[43mvalue\u001b[49m\u001b[43m,\u001b[49m\u001b[43m \u001b[49m\u001b[43msel_shape\u001b[49m\u001b[43m)\u001b[49m\n\u001b[0;32m   1967\u001b[0m \u001b[38;5;66;03m# iterate over chunks in range\u001b[39;00m\n\u001b[0;32m   1968\u001b[0m \u001b[38;5;28;01mif\u001b[39;00m (\n\u001b[0;32m   1969\u001b[0m     \u001b[38;5;129;01mnot\u001b[39;00m \u001b[38;5;28mhasattr\u001b[39m(\u001b[38;5;28mself\u001b[39m\u001b[38;5;241m.\u001b[39mchunk_store, \u001b[38;5;124m\"\u001b[39m\u001b[38;5;124msetitems\u001b[39m\u001b[38;5;124m\"\u001b[39m)\n\u001b[0;32m   1970\u001b[0m     \u001b[38;5;129;01mor\u001b[39;00m \u001b[38;5;28mself\u001b[39m\u001b[38;5;241m.\u001b[39m_synchronizer \u001b[38;5;129;01mis\u001b[39;00m \u001b[38;5;129;01mnot\u001b[39;00m \u001b[38;5;28;01mNone\u001b[39;00m\n\u001b[0;32m   1971\u001b[0m     \u001b[38;5;129;01mor\u001b[39;00m \u001b[38;5;28many\u001b[39m(\u001b[38;5;28mmap\u001b[39m(\u001b[38;5;28;01mlambda\u001b[39;00m x: x \u001b[38;5;241m==\u001b[39m \u001b[38;5;241m0\u001b[39m, \u001b[38;5;28mself\u001b[39m\u001b[38;5;241m.\u001b[39mshape))\n\u001b[0;32m   1972\u001b[0m ):\n\u001b[0;32m   1973\u001b[0m     \u001b[38;5;66;03m# iterative approach\u001b[39;00m\n",
      "File \u001b[1;32mc:\\Users\\kmk280\\AppData\\Local\\miniconda3\\envs\\napari-env\\lib\\site-packages\\zarr\\util.py:552\u001b[0m, in \u001b[0;36mcheck_array_shape\u001b[1;34m(param, array, shape)\u001b[0m\n\u001b[0;32m    550\u001b[0m     \u001b[38;5;28;01mraise\u001b[39;00m \u001b[38;5;167;01mTypeError\u001b[39;00m(\u001b[38;5;124mf\u001b[39m\u001b[38;5;124m\"\u001b[39m\u001b[38;5;124mparameter \u001b[39m\u001b[38;5;132;01m{\u001b[39;00mparam\u001b[38;5;132;01m!r}\u001b[39;00m\u001b[38;5;124m: expected an array-like object, got \u001b[39m\u001b[38;5;132;01m{\u001b[39;00m\u001b[38;5;28mtype\u001b[39m(array)\u001b[38;5;132;01m!r}\u001b[39;00m\u001b[38;5;124m\"\u001b[39m)\n\u001b[0;32m    551\u001b[0m \u001b[38;5;28;01mif\u001b[39;00m array\u001b[38;5;241m.\u001b[39mshape \u001b[38;5;241m!=\u001b[39m shape:\n\u001b[1;32m--> 552\u001b[0m     \u001b[38;5;28;01mraise\u001b[39;00m \u001b[38;5;167;01mValueError\u001b[39;00m(\n\u001b[0;32m    553\u001b[0m         \u001b[38;5;124mf\u001b[39m\u001b[38;5;124m\"\u001b[39m\u001b[38;5;124mparameter \u001b[39m\u001b[38;5;132;01m{\u001b[39;00mparam\u001b[38;5;132;01m!r}\u001b[39;00m\u001b[38;5;124m: expected array with shape \u001b[39m\u001b[38;5;132;01m{\u001b[39;00mshape\u001b[38;5;132;01m!r}\u001b[39;00m\u001b[38;5;124m, got \u001b[39m\u001b[38;5;132;01m{\u001b[39;00marray\u001b[38;5;241m.\u001b[39mshape\u001b[38;5;132;01m!r}\u001b[39;00m\u001b[38;5;124m\"\u001b[39m\n\u001b[0;32m    554\u001b[0m     )\n",
      "\u001b[1;31mValueError\u001b[0m: parameter 'value': expected array with shape (1, 512, 418), got (1, 512, 412)"
     ]
    }
   ],
   "source": [
    "def frame_getter(lif,ind):\n",
    "\n",
    "    frame = np.array(lif.get_frame(z=0, t=ind, c=0))\n",
    "\n",
    "    return frame\n",
    "\n",
    "lazy_arrays = [delayed(frame_getter)(t,i) for i in range(t.dims.t)]\n",
    "dask_arrays = [da.from_delayed(delayed_reader, shape=[16793,16802], dtype='uint16') for delayed_reader in lazy_arrays]\n",
    "stack = da.stack(dask_arrays, axis=0)\n",
    "\n",
    "# save zarr file\n",
    "\n",
    "size_t = 10\n",
    "size_xy = 512\n",
    "\n",
    "zarr_path = r'R:\\Kasia\\tracking\\TrackGardener\\C4_C0.zarr'\n",
    "\n",
    "# write the image data\n",
    "store = parse_url(zarr_path, mode=\"w\").store\n",
    "root = zarr.group(store=store)\n",
    "\n",
    "# it will fail if the store already contains arrays\n",
    "write_image(image=stack, group=root, axes=\"tyx\", storage_options=dict(chunks=(size_t,size_xy, size_xy),compressor=compressor))"
   ]
  },
  {
   "cell_type": "code",
   "execution_count": null,
   "metadata": {},
   "outputs": [],
   "source": [
    "def frame_getter(lif,ind):\n",
    "\n",
    "    frame = np.array(lif.get_frame(z=0, t=ind, c=1))\n",
    "\n",
    "\n",
    "    return frame\n",
    "\n",
    "lazy_arrays = [delayed(frame_getter)(t,i) for i in range(t.dims.t)]\n",
    "dask_arrays = [da.from_delayed(delayed_reader, shape=[16793,16802], dtype='uint16') for delayed_reader in lazy_arrays]\n",
    "stack = da.stack(dask_arrays, axis=0)\n",
    "\n",
    "# save zarr file\n",
    "\n",
    "size_t = 10\n",
    "size_xy = 512\n",
    "\n",
    "zarr_path = r'R:\\Kasia\\tracking\\TrackGardener\\C4_C1.zarr'\n",
    "\n",
    "# write the image data\n",
    "store = parse_url(zarr_path, mode=\"w\").store\n",
    "root = zarr.group(store=store)\n",
    "\n",
    "# it will fail if the store already contains arrays\n",
    "write_image(image=stack, group=root, axes=\"tyx\", storage_options=dict(chunks=(size_t,size_xy, size_xy),compressor=compressor))"
   ]
  },
  {
   "cell_type": "code",
   "execution_count": null,
   "metadata": {},
   "outputs": [],
   "source": []
  }
 ],
 "metadata": {
  "kernelspec": {
   "display_name": "tracking",
   "language": "python",
   "name": "python3"
  },
  "language_info": {
   "codemirror_mode": {
    "name": "ipython",
    "version": 3
   },
   "file_extension": ".py",
   "mimetype": "text/x-python",
   "name": "python",
   "nbconvert_exporter": "python",
   "pygments_lexer": "ipython3",
   "version": "3.10.13"
  }
 },
 "nbformat": 4,
 "nbformat_minor": 2
}

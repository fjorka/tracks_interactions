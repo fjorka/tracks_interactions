{
 "cells": [
  {
   "cell_type": "markdown",
   "metadata": {},
   "source": [
    "Notebook to save original experiment data in a form of lif files."
   ]
  },
  {
   "cell_type": "code",
   "execution_count": 1,
   "metadata": {},
   "outputs": [],
   "source": [
    "from readlif.reader import LifFile\n",
    "import numpy as np\n",
    "from dask import delayed\n",
    "import dask.array as da\n",
    "\n",
    "import zarr\n",
    "from ome_zarr.io import parse_url\n",
    "from ome_zarr.writer import write_image"
   ]
  },
  {
   "cell_type": "code",
   "execution_count": 2,
   "metadata": {},
   "outputs": [],
   "source": [
    "exp_path = r'R:\\Dante\\hillman_academy_2023\\Jinny_test.lif'"
   ]
  },
  {
   "cell_type": "code",
   "execution_count": 3,
   "metadata": {},
   "outputs": [],
   "source": [
    "# load experiment\n",
    "exp = LifFile(exp_path)"
   ]
  },
  {
   "cell_type": "code",
   "execution_count": 4,
   "metadata": {},
   "outputs": [
    {
     "data": {
      "text/plain": [
       "[['G6 Region1', Dims(x=2048, y=2048, z=1, t=1, m=76)],\n",
       " ['G6 Region1_Merged', Dims(x=35181, y=7548, z=1, t=1, m=1)],\n",
       " ['TileScan 4/B4 Region1', Dims(x=2048, y=2048, z=1, t=1, m=77)],\n",
       " ['TileScan 4/C4', Dims(x=2048, y=2048, z=1, t=1, m=77)],\n",
       " ['TileScan 4/D6', Dims(x=2048, y=2048, z=1, t=1, m=77)],\n",
       " ['TileScan 4/E6', Dims(x=2048, y=2048, z=1, t=1, m=77)],\n",
       " ['TileScan 4/F6', Dims(x=2048, y=2048, z=1, t=1, m=77)],\n",
       " ['TileScan 4/G6', Dims(x=2048, y=2048, z=1, t=1, m=77)],\n",
       " ['TileScan 4/B4 Region1_Merged', Dims(x=16801, y=16798, z=1, t=1, m=1)],\n",
       " ['TileScan 4/C4_Merged', Dims(x=16791, y=16793, z=1, t=1, m=1)],\n",
       " ['TileScan 4/D6_Merged', Dims(x=16799, y=16800, z=1, t=1, m=1)],\n",
       " ['TileScan 4/E6_Merged', Dims(x=16809, y=16796, z=1, t=1, m=1)],\n",
       " ['TileScan 4/F6_Merged', Dims(x=16800, y=16794, z=1, t=1, m=1)],\n",
       " ['TileScan 4/G6_Merged', Dims(x=16792, y=16783, z=1, t=1, m=1)],\n",
       " ['TileScan 1/B4 Region1', Dims(x=2048, y=2048, z=1, t=1, m=77)],\n",
       " ['TileScan 1/C4', Dims(x=2048, y=2048, z=1, t=1, m=77)],\n",
       " ['TileScan 1/D6', Dims(x=2048, y=2048, z=1, t=1, m=77)],\n",
       " ['TileScan 1/E6', Dims(x=2048, y=2048, z=1, t=1, m=77)],\n",
       " ['TileScan 1/F6', Dims(x=2048, y=2048, z=1, t=1, m=77)],\n",
       " ['TileScan 1/G6', Dims(x=2048, y=2048, z=1, t=1, m=34)],\n",
       " ['TileScan 1/B4 Region1_Merged', Dims(x=16800, y=16794, z=1, t=1, m=1)],\n",
       " ['TileScan 1/C4_Merged', Dims(x=16792, y=16789, z=1, t=1, m=1)],\n",
       " ['TileScan 1/D6_Merged', Dims(x=16802, y=16802, z=1, t=1, m=1)],\n",
       " ['TileScan 1/E6_Merged', Dims(x=16809, y=16796, z=1, t=1, m=1)],\n",
       " ['TileScan 1/F6_Merged', Dims(x=16798, y=16797, z=1, t=1, m=1)],\n",
       " ['TileScan 1/G6_Merged', Dims(x=16793, y=7577, z=1, t=1, m=1)],\n",
       " ['TileScan 2/B4 Region1', Dims(x=2048, y=2048, z=1, t=1, m=77)],\n",
       " ['TileScan 2/C4', Dims(x=2048, y=2048, z=1, t=1, m=77)],\n",
       " ['TileScan 2/D6', Dims(x=2048, y=2048, z=1, t=1, m=77)],\n",
       " ['TileScan 2/E6', Dims(x=2048, y=2048, z=1, t=1, m=77)],\n",
       " ['TileScan 2/F6', Dims(x=2048, y=2048, z=1, t=1, m=77)],\n",
       " ['TileScan 2/G6', Dims(x=2048, y=2048, z=1, t=1, m=77)],\n",
       " ['TileScan 2/B4 Region1_Merged', Dims(x=16801, y=16804, z=1, t=1, m=1)],\n",
       " ['TileScan 2/C4_Merged', Dims(x=16786, y=16792, z=1, t=1, m=1)],\n",
       " ['TileScan 2/D6_Merged', Dims(x=16801, y=16796, z=1, t=1, m=1)],\n",
       " ['TileScan 2/E6_Merged', Dims(x=16806, y=16802, z=1, t=1, m=1)],\n",
       " ['TileScan 2/F6_Merged', Dims(x=16800, y=16803, z=1, t=1, m=1)],\n",
       " ['TileScan 2/G6_Merged', Dims(x=16786, y=16782, z=1, t=1, m=1)],\n",
       " ['TileScan 3/B4 Region1', Dims(x=2048, y=2048, z=1, t=1, m=48)],\n",
       " ['TileScan 3/B4 Region1_Merged', Dims(x=16798, y=11270, z=1, t=1, m=1)],\n",
       " ['TileScan 5/B4 Region1', Dims(x=2048, y=2048, z=1, t=241, m=77)],\n",
       " ['TileScan 5/C4', Dims(x=2048, y=2048, z=1, t=241, m=77)],\n",
       " ['TileScan 5/D6', Dims(x=2048, y=2048, z=1, t=241, m=77)],\n",
       " ['TileScan 5/E6', Dims(x=2048, y=2048, z=1, t=241, m=77)],\n",
       " ['TileScan 5/F6', Dims(x=2048, y=2048, z=1, t=241, m=77)],\n",
       " ['TileScan 5/G6', Dims(x=2048, y=2048, z=1, t=241, m=77)],\n",
       " ['TileScan 5/B4 Region1_Merged', Dims(x=16792, y=16800, z=1, t=241, m=1)],\n",
       " ['TileScan 5/C4_Merged', Dims(x=16796, y=16798, z=1, t=241, m=1)],\n",
       " ['TileScan 5/D6_Merged', Dims(x=16794, y=16797, z=1, t=241, m=1)],\n",
       " ['TileScan 5/E6_Merged', Dims(x=16802, y=16793, z=1, t=241, m=1)],\n",
       " ['TileScan 5/F6_Merged', Dims(x=16808, y=16802, z=1, t=241, m=1)],\n",
       " ['TileScan 5/G6_Merged', Dims(x=16796, y=16790, z=1, t=241, m=1)]]"
      ]
     },
     "execution_count": 4,
     "metadata": {},
     "output_type": "execute_result"
    }
   ],
   "source": [
    "# get names and dimensions of all elements in the lif file\n",
    "[[image.name, image.dims] for image in exp.get_iter_image()]"
   ]
  },
  {
   "cell_type": "code",
   "execution_count": 5,
   "metadata": {},
   "outputs": [
    {
     "data": {
      "text/plain": [
       "[['TileScan 5/B4 Region1_Merged', Dims(x=16792, y=16800, z=1, t=241, m=1)],\n",
       " ['TileScan 5/C4_Merged', Dims(x=16796, y=16798, z=1, t=241, m=1)],\n",
       " ['TileScan 5/D6_Merged', Dims(x=16794, y=16797, z=1, t=241, m=1)],\n",
       " ['TileScan 5/E6_Merged', Dims(x=16802, y=16793, z=1, t=241, m=1)],\n",
       " ['TileScan 5/F6_Merged', Dims(x=16808, y=16802, z=1, t=241, m=1)],\n",
       " ['TileScan 5/G6_Merged', Dims(x=16796, y=16790, z=1, t=241, m=1)]]"
      ]
     },
     "execution_count": 5,
     "metadata": {},
     "output_type": "execute_result"
    }
   ],
   "source": [
    "# get a list based on criteria regarding dimensions\n",
    "[[image.name,image.dims] for image in exp.get_iter_image() if ((image.dims.t>100) and (image.dims.x > 2048))]"
   ]
  },
  {
   "cell_type": "code",
   "execution_count": 6,
   "metadata": {},
   "outputs": [
    {
     "data": {
      "text/plain": [
       "'LifImage object with dimensions: Dims(x=16796, y=16798, z=1, t=241, m=1)'"
      ]
     },
     "execution_count": 6,
     "metadata": {},
     "output_type": "execute_result"
    }
   ],
   "source": [
    "# get a a selected series\n",
    "sel_name = 'TileScan 5/C4_Merged'\n",
    "t = [image for image in exp.get_iter_image() if sel_name in image.name][0]\n",
    "t"
   ]
  },
  {
   "cell_type": "code",
   "execution_count": 15,
   "metadata": {},
   "outputs": [],
   "source": [
    "from numcodecs import Blosc\n",
    "compressor = Blosc(cname='lz4', clevel=5, shuffle=Blosc.NOSHUFFLE)"
   ]
  },
  {
   "cell_type": "code",
   "execution_count": 16,
   "metadata": {},
   "outputs": [
    {
     "data": {
      "text/html": [
       "<table>\n",
       "    <tr>\n",
       "        <td>\n",
       "            <table style=\"border-collapse: collapse;\">\n",
       "                <thead>\n",
       "                    <tr>\n",
       "                        <td> </td>\n",
       "                        <th> Array </th>\n",
       "                        <th> Chunk </th>\n",
       "                    </tr>\n",
       "                </thead>\n",
       "                <tbody>\n",
       "                    \n",
       "                    <tr>\n",
       "                        <th> Bytes </th>\n",
       "                        <td> 126.65 GiB </td>\n",
       "                        <td> 538.14 MiB </td>\n",
       "                    </tr>\n",
       "                    \n",
       "                    <tr>\n",
       "                        <th> Shape </th>\n",
       "                        <td> (241, 16796, 16798) </td>\n",
       "                        <td> (1, 16796, 16798) </td>\n",
       "                    </tr>\n",
       "                    <tr>\n",
       "                        <th> Dask graph </th>\n",
       "                        <td colspan=\"2\"> 241 chunks in 483 graph layers </td>\n",
       "                    </tr>\n",
       "                    <tr>\n",
       "                        <th> Data type </th>\n",
       "                        <td colspan=\"2\"> uint16 numpy.ndarray </td>\n",
       "                    </tr>\n",
       "                </tbody>\n",
       "            </table>\n",
       "        </td>\n",
       "        <td>\n",
       "        <svg width=\"196\" height=\"185\" style=\"stroke:rgb(0,0,0);stroke-width:1\" >\n",
       "\n",
       "  <!-- Horizontal lines -->\n",
       "  <line x1=\"10\" y1=\"0\" x2=\"26\" y2=\"16\" style=\"stroke-width:2\" />\n",
       "  <line x1=\"10\" y1=\"119\" x2=\"26\" y2=\"135\" style=\"stroke-width:2\" />\n",
       "\n",
       "  <!-- Vertical lines -->\n",
       "  <line x1=\"10\" y1=\"0\" x2=\"10\" y2=\"119\" style=\"stroke-width:2\" />\n",
       "  <line x1=\"10\" y1=\"0\" x2=\"10\" y2=\"120\" />\n",
       "  <line x1=\"11\" y1=\"1\" x2=\"11\" y2=\"121\" />\n",
       "  <line x1=\"12\" y1=\"2\" x2=\"12\" y2=\"122\" />\n",
       "  <line x1=\"13\" y1=\"3\" x2=\"13\" y2=\"123\" />\n",
       "  <line x1=\"14\" y1=\"4\" x2=\"14\" y2=\"124\" />\n",
       "  <line x1=\"15\" y1=\"5\" x2=\"15\" y2=\"125\" />\n",
       "  <line x1=\"15\" y1=\"5\" x2=\"15\" y2=\"125\" />\n",
       "  <line x1=\"16\" y1=\"6\" x2=\"16\" y2=\"126\" />\n",
       "  <line x1=\"17\" y1=\"7\" x2=\"17\" y2=\"127\" />\n",
       "  <line x1=\"18\" y1=\"8\" x2=\"18\" y2=\"128\" />\n",
       "  <line x1=\"19\" y1=\"9\" x2=\"19\" y2=\"129\" />\n",
       "  <line x1=\"20\" y1=\"10\" x2=\"20\" y2=\"130\" />\n",
       "  <line x1=\"20\" y1=\"10\" x2=\"20\" y2=\"130\" />\n",
       "  <line x1=\"21\" y1=\"11\" x2=\"21\" y2=\"131\" />\n",
       "  <line x1=\"22\" y1=\"12\" x2=\"22\" y2=\"132\" />\n",
       "  <line x1=\"23\" y1=\"13\" x2=\"23\" y2=\"133\" />\n",
       "  <line x1=\"24\" y1=\"14\" x2=\"24\" y2=\"134\" />\n",
       "  <line x1=\"25\" y1=\"15\" x2=\"25\" y2=\"135\" />\n",
       "  <line x1=\"26\" y1=\"16\" x2=\"26\" y2=\"135\" style=\"stroke-width:2\" />\n",
       "\n",
       "  <!-- Colored Rectangle -->\n",
       "  <polygon points=\"10.0,0.0 26.013835092072068,16.013835092072068 26.013835092072068,135.99954767690357 10.0,119.98571258483152\" style=\"fill:#8B4903A0;stroke-width:0\"/>\n",
       "\n",
       "  <!-- Horizontal lines -->\n",
       "  <line x1=\"10\" y1=\"0\" x2=\"130\" y2=\"0\" style=\"stroke-width:2\" />\n",
       "  <line x1=\"10\" y1=\"0\" x2=\"130\" y2=\"0\" />\n",
       "  <line x1=\"11\" y1=\"1\" x2=\"131\" y2=\"1\" />\n",
       "  <line x1=\"12\" y1=\"2\" x2=\"132\" y2=\"2\" />\n",
       "  <line x1=\"13\" y1=\"3\" x2=\"133\" y2=\"3\" />\n",
       "  <line x1=\"14\" y1=\"4\" x2=\"134\" y2=\"4\" />\n",
       "  <line x1=\"15\" y1=\"5\" x2=\"135\" y2=\"5\" />\n",
       "  <line x1=\"15\" y1=\"5\" x2=\"135\" y2=\"5\" />\n",
       "  <line x1=\"16\" y1=\"6\" x2=\"136\" y2=\"6\" />\n",
       "  <line x1=\"17\" y1=\"7\" x2=\"137\" y2=\"7\" />\n",
       "  <line x1=\"18\" y1=\"8\" x2=\"138\" y2=\"8\" />\n",
       "  <line x1=\"19\" y1=\"9\" x2=\"139\" y2=\"9\" />\n",
       "  <line x1=\"20\" y1=\"10\" x2=\"140\" y2=\"10\" />\n",
       "  <line x1=\"20\" y1=\"10\" x2=\"140\" y2=\"10\" />\n",
       "  <line x1=\"21\" y1=\"11\" x2=\"141\" y2=\"11\" />\n",
       "  <line x1=\"22\" y1=\"12\" x2=\"142\" y2=\"12\" />\n",
       "  <line x1=\"23\" y1=\"13\" x2=\"143\" y2=\"13\" />\n",
       "  <line x1=\"24\" y1=\"14\" x2=\"144\" y2=\"14\" />\n",
       "  <line x1=\"25\" y1=\"15\" x2=\"145\" y2=\"15\" />\n",
       "  <line x1=\"26\" y1=\"16\" x2=\"146\" y2=\"16\" style=\"stroke-width:2\" />\n",
       "\n",
       "  <!-- Vertical lines -->\n",
       "  <line x1=\"10\" y1=\"0\" x2=\"26\" y2=\"16\" style=\"stroke-width:2\" />\n",
       "  <line x1=\"130\" y1=\"0\" x2=\"146\" y2=\"16\" style=\"stroke-width:2\" />\n",
       "\n",
       "  <!-- Colored Rectangle -->\n",
       "  <polygon points=\"10.0,0.0 130.0,0.0 146.01383509207207,16.013835092072068 26.013835092072068,16.013835092072068\" style=\"fill:#8B4903A0;stroke-width:0\"/>\n",
       "\n",
       "  <!-- Horizontal lines -->\n",
       "  <line x1=\"26\" y1=\"16\" x2=\"146\" y2=\"16\" style=\"stroke-width:2\" />\n",
       "  <line x1=\"26\" y1=\"135\" x2=\"146\" y2=\"135\" style=\"stroke-width:2\" />\n",
       "\n",
       "  <!-- Vertical lines -->\n",
       "  <line x1=\"26\" y1=\"16\" x2=\"26\" y2=\"135\" style=\"stroke-width:2\" />\n",
       "  <line x1=\"146\" y1=\"16\" x2=\"146\" y2=\"135\" style=\"stroke-width:2\" />\n",
       "\n",
       "  <!-- Colored Rectangle -->\n",
       "  <polygon points=\"26.013835092072068,16.013835092072068 146.01383509207207,16.013835092072068 146.01383509207207,135.99954767690357 26.013835092072068,135.99954767690357\" style=\"fill:#ECB172A0;stroke-width:0\"/>\n",
       "\n",
       "  <!-- Text -->\n",
       "  <text x=\"86.013835\" y=\"155.999548\" font-size=\"1.0rem\" font-weight=\"100\" text-anchor=\"middle\" >16798</text>\n",
       "  <text x=\"166.013835\" y=\"76.006691\" font-size=\"1.0rem\" font-weight=\"100\" text-anchor=\"middle\" transform=\"rotate(-90,166.013835,76.006691)\">16796</text>\n",
       "  <text x=\"8.006918\" y=\"147.992630\" font-size=\"1.0rem\" font-weight=\"100\" text-anchor=\"middle\" transform=\"rotate(45,8.006918,147.992630)\">241</text>\n",
       "</svg>\n",
       "        </td>\n",
       "    </tr>\n",
       "</table>"
      ],
      "text/plain": [
       "dask.array<stack, shape=(241, 16796, 16798), dtype=uint16, chunksize=(1, 16796, 16798), chunktype=numpy.ndarray>"
      ]
     },
     "execution_count": 16,
     "metadata": {},
     "output_type": "execute_result"
    }
   ],
   "source": [
    "stack"
   ]
  },
  {
   "cell_type": "code",
   "execution_count": 19,
   "metadata": {},
   "outputs": [
    {
     "data": {
      "text/plain": [
       "8399.0"
      ]
     },
     "execution_count": 19,
     "metadata": {},
     "output_type": "execute_result"
    }
   ],
   "source": [
    "16798/2"
   ]
  },
  {
   "cell_type": "code",
   "execution_count": 24,
   "metadata": {},
   "outputs": [],
   "source": [
    "from skimage.transform import resize"
   ]
  },
  {
   "cell_type": "code",
   "execution_count": 25,
   "metadata": {},
   "outputs": [
    {
     "data": {
      "text/plain": [
       "[]"
      ]
     },
     "execution_count": 25,
     "metadata": {},
     "output_type": "execute_result"
    }
   ],
   "source": [
    "frame_size = [8398,8399]\n",
    "\n",
    "def frame_getter(lif,ind):\n",
    "\n",
    "    frame = np.array(lif.get_frame(z=0, t=ind, c=0))\n",
    "\n",
    "    frame = resize(frame,frame_size,anti_aliasing=True,preserve_range=True).astype('uint16')\n",
    "\n",
    "    return frame\n",
    "\n",
    "lazy_arrays = [delayed(frame_getter)(t,i) for i in range(t.dims.t)]\n",
    "dask_arrays = [da.from_delayed(delayed_reader, shape=frame_size, dtype='uint16') for delayed_reader in lazy_arrays]\n",
    "stack = da.stack(dask_arrays, axis=0)\n",
    "\n",
    "# save zarr file\n",
    "\n",
    "size_t = 10\n",
    "size_xy = 512\n",
    "\n",
    "zarr_path = r'R:\\Kasia\\tracking\\TrackGardener\\C4_C0.zarr'\n",
    "\n",
    "# write the image data\n",
    "store = parse_url(zarr_path, mode=\"w\").store\n",
    "root = zarr.group(store=store)\n",
    "\n",
    "# it will fail if the store already contains arrays\n",
    "write_image(image=stack, group=root, axes=\"tyx\", storage_options=dict(chunks=(size_t,size_xy, size_xy),compressor=compressor))"
   ]
  },
  {
   "cell_type": "code",
   "execution_count": null,
   "metadata": {},
   "outputs": [],
   "source": [
    "frame_size = [8398,8399]\n",
    "\n",
    "def frame_getter(lif,ind):\n",
    "\n",
    "    frame = np.array(lif.get_frame(z=0, t=ind, c=1))\n",
    "\n",
    "    frame = resize(frame,frame_size,anti_aliasing=True,preserve_range=True).astype('uint16')\n",
    "\n",
    "    return frame\n",
    "\n",
    "lazy_arrays = [delayed(frame_getter)(t,i) for i in range(t.dims.t)]\n",
    "dask_arrays = [da.from_delayed(delayed_reader, shape=frame_size, dtype='uint16') for delayed_reader in lazy_arrays]\n",
    "stack = da.stack(dask_arrays, axis=0)\n",
    "\n",
    "# save zarr file\n",
    "\n",
    "size_t = 10\n",
    "size_xy = 512\n",
    "\n",
    "zarr_path = r'R:\\Kasia\\tracking\\TrackGardener\\C4_C1.zarr'\n",
    "\n",
    "# write the image data\n",
    "store = parse_url(zarr_path, mode=\"w\").store\n",
    "root = zarr.group(store=store)\n",
    "\n",
    "# it will fail if the store already contains arrays\n",
    "write_image(image=stack, group=root, axes=\"tyx\", storage_options=dict(chunks=(size_t,size_xy, size_xy),compressor=compressor))"
   ]
  },
  {
   "cell_type": "code",
   "execution_count": null,
   "metadata": {},
   "outputs": [],
   "source": []
  }
 ],
 "metadata": {
  "kernelspec": {
   "display_name": "tracking",
   "language": "python",
   "name": "python3"
  },
  "language_info": {
   "codemirror_mode": {
    "name": "ipython",
    "version": 3
   },
   "file_extension": ".py",
   "mimetype": "text/x-python",
   "name": "python",
   "nbconvert_exporter": "python",
   "pygments_lexer": "ipython3",
   "version": "3.10.14"
  }
 },
 "nbformat": 4,
 "nbformat_minor": 2
}

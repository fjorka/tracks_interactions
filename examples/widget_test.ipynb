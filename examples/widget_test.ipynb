{
 "cells": [
  {
   "cell_type": "code",
   "execution_count": 1,
   "metadata": {},
   "outputs": [],
   "source": [
    "%load_ext autoreload\n",
    "%autoreload 2\n",
    "\n",
    "import os\n",
    "import napari\n",
    "\n",
    "import sys\n",
    "sys.path.append('..')\n",
    "\n",
    "from tracks_interactions.widget.widget_main import TrackGardener"
   ]
  },
  {
   "cell_type": "code",
   "execution_count": 2,
   "metadata": {},
   "outputs": [
    {
     "data": {
      "text/plain": [
       "False"
      ]
     },
     "execution_count": 2,
     "metadata": {},
     "output_type": "execute_result"
    }
   ],
   "source": [
    "os.environ['NAPARI_PERFMON'] = '0'\n",
    "\n",
    "from napari.settings import get_settings\n",
    "settings = get_settings()\n",
    "settings.experimental.async_\n",
    "#settings.experimental.async_=True"
   ]
  },
  {
   "cell_type": "code",
   "execution_count": 4,
   "metadata": {},
   "outputs": [],
   "source": [
    "# get access to the database\n",
    "from sqlalchemy import create_engine\n",
    "from sqlalchemy.orm import sessionmaker\n",
    "\n",
    "new_db_path = r'D:\\kasia\\tracking\\E6_exp\\double_segmentation_ultrack\\Exp6_gardener_v6.db'\n",
    "engine = create_engine(f'sqlite:///{new_db_path}')\n",
    "session = sessionmaker(bind=engine)()\n",
    "\n",
    "from sqlalchemy import text\n",
    "session.execute(text(\"ANALYZE;\"))\n",
    "session.commit()"
   ]
  },
  {
   "cell_type": "code",
   "execution_count": 3,
   "metadata": {},
   "outputs": [
    {
     "data": {
      "text/plain": [
       "<napari._qt.widgets.qt_viewer_dock_widget.QtViewerDockWidget at 0x1b34c8d05e0>"
      ]
     },
     "execution_count": 3,
     "metadata": {},
     "output_type": "execute_result"
    }
   ],
   "source": [
    "viewer = napari.Viewer()\n",
    "\n",
    "track_gardener = TrackGardener(viewer)\n",
    "\n",
    "viewer.window.add_dock_widget(track_gardener,area='right',name='Track Gardener')"
   ]
  },
  {
   "cell_type": "code",
   "execution_count": 6,
   "metadata": {},
   "outputs": [],
   "source": [
    "from tracks_interactions.db.db_model import NO_PARENT, CellDB, TrackDB\n",
    "import matplotlib.pyplot as plt\n",
    "import numpy as np\n",
    "import pandas as pd\n",
    "import pyqtgraph as pg\n",
    "from sqlalchemy.orm.attributes import flag_modified\n",
    "import tracks_interactions.db.db_functions as fdb"
   ]
  },
  {
   "cell_type": "code",
   "execution_count": 30,
   "metadata": {},
   "outputs": [],
   "source": [
    "cell_id = 39122\n",
    "current_frame = 209"
   ]
  },
  {
   "cell_type": "code",
   "execution_count": 33,
   "metadata": {},
   "outputs": [
    {
     "data": {
      "text/plain": [
       "[210006237 from frame 209 with track_id 39122 at (4116,4520)]"
      ]
     },
     "execution_count": 33,
     "metadata": {},
     "output_type": "execute_result"
    }
   ],
   "source": [
    "c=session.query(CellDB).filter(CellDB.track_id == cell_id).filter_by(t = current_frame).order_by(CellDB.t).all()\n",
    "c"
   ]
  },
  {
   "cell_type": "code",
   "execution_count": 29,
   "metadata": {},
   "outputs": [
    {
     "ename": "IndexError",
     "evalue": "list index out of range",
     "output_type": "error",
     "traceback": [
      "\u001b[1;31m---------------------------------------------------------------------------\u001b[0m",
      "\u001b[1;31mIndexError\u001b[0m                                Traceback (most recent call last)",
      "Cell \u001b[1;32mIn[29], line 1\u001b[0m\n\u001b[1;32m----> 1\u001b[0m \u001b[43mc\u001b[49m\u001b[43m[\u001b[49m\u001b[38;5;241;43m0\u001b[39;49m\u001b[43m]\u001b[49m\u001b[38;5;241m.\u001b[39msignals\n",
      "\u001b[1;31mIndexError\u001b[0m: list index out of range"
     ]
    }
   ],
   "source": [
    "c[0].signals"
   ]
  },
  {
   "cell_type": "code",
   "execution_count": 37,
   "metadata": {},
   "outputs": [
    {
     "data": {
      "text/plain": [
       "Track 20426 from 43 to 80"
      ]
     },
     "execution_count": 37,
     "metadata": {},
     "output_type": "execute_result"
    }
   ],
   "source": [
    "cell_id = 20426\n",
    "t = session.query(TrackDB).filter_by(track_id = cell_id).first()\n",
    "t"
   ]
  },
  {
   "cell_type": "code",
   "execution_count": 36,
   "metadata": {},
   "outputs": [
    {
     "data": {
      "text/plain": [
       "[(144,),\n",
       " (145,),\n",
       " (146,),\n",
       " (147,),\n",
       " (148,),\n",
       " (149,),\n",
       " (150,),\n",
       " (151,),\n",
       " (152,),\n",
       " (153,),\n",
       " (154,),\n",
       " (155,),\n",
       " (156,),\n",
       " (157,),\n",
       " (158,),\n",
       " (159,),\n",
       " (160,)]"
      ]
     },
     "execution_count": 36,
     "metadata": {},
     "output_type": "execute_result"
    }
   ],
   "source": [
    "session.query(CellDB.t).filter(CellDB.track_id == cell_id).all()"
   ]
  },
  {
   "cell_type": "code",
   "execution_count": 97,
   "metadata": {},
   "outputs": [],
   "source": [
    "viewer.camera.events.zoom.disconnect(track_gardener.navigation_widget.build_labels)\n",
    "viewer.camera.events.center.disconnect(track_gardener.navigation_widget.build_labels)"
   ]
  },
  {
   "cell_type": "code",
   "execution_count": 84,
   "metadata": {},
   "outputs": [],
   "source": [
    "for event_emitter in viewer.dims.events.emitters.values():\n",
    "    event_emitter.disconnect()"
   ]
  },
  {
   "cell_type": "code",
   "execution_count": 72,
   "metadata": {},
   "outputs": [],
   "source": [
    "ch = track_gardener.settings_window.channels_list[0]\n",
    "channel_name = ch.get('name', 'Unnamed')\n",
    "channel_path = ch.get('path', '')\n",
    "channel_lut = ch.get('lut', 'green')"
   ]
  },
  {
   "cell_type": "code",
   "execution_count": 87,
   "metadata": {},
   "outputs": [
    {
     "data": {
      "text/plain": [
       "True"
      ]
     },
     "execution_count": 87,
     "metadata": {},
     "output_type": "execute_result"
    }
   ],
   "source": [
    "'Labels' in viewer.layers"
   ]
  },
  {
   "cell_type": "code",
   "execution_count": 85,
   "metadata": {},
   "outputs": [
    {
     "ename": "KeyError",
     "evalue": "\"'Labels' is not in list\"",
     "output_type": "error",
     "traceback": [
      "\u001b[1;31m---------------------------------------------------------------------------\u001b[0m",
      "\u001b[1;31mValueError\u001b[0m                                Traceback (most recent call last)",
      "File \u001b[1;32mc:\\Users\\kmk280\\.conda\\envs\\track-base-0320\\lib\\site-packages\\napari\\utils\\events\\containers\\_typed.py:150\u001b[0m, in \u001b[0;36mTypedMutableSequence.__getitem__\u001b[1;34m(self, key)\u001b[0m\n\u001b[0;32m    149\u001b[0m \u001b[38;5;28;01mtry\u001b[39;00m:\n\u001b[1;32m--> 150\u001b[0m     \u001b[38;5;28;01mreturn\u001b[39;00m \u001b[38;5;28mself\u001b[39m\u001b[38;5;241m.\u001b[39m\u001b[38;5;21m__getitem__\u001b[39m(\u001b[38;5;28;43mself\u001b[39;49m\u001b[38;5;241;43m.\u001b[39;49m\u001b[43mindex\u001b[49m\u001b[43m(\u001b[49m\u001b[43mkey\u001b[49m\u001b[43m)\u001b[49m)\n\u001b[0;32m    151\u001b[0m \u001b[38;5;28;01mexcept\u001b[39;00m \u001b[38;5;167;01mValueError\u001b[39;00m \u001b[38;5;28;01mas\u001b[39;00m e:\n",
      "File \u001b[1;32mc:\\Users\\kmk280\\.conda\\envs\\track-base-0320\\lib\\site-packages\\napari\\utils\\events\\containers\\_typed.py:242\u001b[0m, in \u001b[0;36mTypedMutableSequence.index\u001b[1;34m(self, value, start, stop)\u001b[0m\n\u001b[0;32m    240\u001b[0m         \u001b[38;5;28;01mreturn\u001b[39;00m i\n\u001b[1;32m--> 242\u001b[0m \u001b[38;5;28;01mraise\u001b[39;00m \u001b[38;5;167;01mValueError\u001b[39;00m(\n\u001b[0;32m    243\u001b[0m     trans\u001b[38;5;241m.\u001b[39m_(\n\u001b[0;32m    244\u001b[0m         \u001b[38;5;124m'\u001b[39m\u001b[38;5;132;01m{value!r}\u001b[39;00m\u001b[38;5;124m is not in list\u001b[39m\u001b[38;5;124m'\u001b[39m,\n\u001b[0;32m    245\u001b[0m         deferred\u001b[38;5;241m=\u001b[39m\u001b[38;5;28;01mTrue\u001b[39;00m,\n\u001b[0;32m    246\u001b[0m         value\u001b[38;5;241m=\u001b[39mvalue,\n\u001b[0;32m    247\u001b[0m     )\n\u001b[0;32m    248\u001b[0m )\n",
      "\u001b[1;31mValueError\u001b[0m: 'Labels' is not in list",
      "\nThe above exception was the direct cause of the following exception:\n",
      "\u001b[1;31mKeyError\u001b[0m                                  Traceback (most recent call last)",
      "Cell \u001b[1;32mIn[85], line 15\u001b[0m\n\u001b[0;32m     11\u001b[0m     ch_list\u001b[38;5;241m.\u001b[39mappend(da\u001b[38;5;241m.\u001b[39mfrom_zarr(channel_path, level))\n\u001b[0;32m     13\u001b[0m channels_data_list\u001b[38;5;241m.\u001b[39mappend(ch_list)\n\u001b[1;32m---> 15\u001b[0m \u001b[43mviewer\u001b[49m\u001b[38;5;241;43m.\u001b[39;49m\u001b[43madd_image\u001b[49m\u001b[43m(\u001b[49m\n\u001b[0;32m     16\u001b[0m \u001b[43m    \u001b[49m\u001b[43mch_list\u001b[49m\u001b[43m,\u001b[49m\n\u001b[0;32m     17\u001b[0m \u001b[43m    \u001b[49m\u001b[43mname\u001b[49m\u001b[38;5;241;43m=\u001b[39;49m\u001b[43mchannel_name\u001b[49m\u001b[43m,\u001b[49m\n\u001b[0;32m     18\u001b[0m \u001b[43m    \u001b[49m\u001b[43mcolormap\u001b[49m\u001b[38;5;241;43m=\u001b[39;49m\u001b[43mchannel_lut\u001b[49m\u001b[43m,\u001b[49m\n\u001b[0;32m     19\u001b[0m \u001b[43m    \u001b[49m\u001b[43mblending\u001b[49m\u001b[38;5;241;43m=\u001b[39;49m\u001b[38;5;124;43m'\u001b[39;49m\u001b[38;5;124;43madditive\u001b[39;49m\u001b[38;5;124;43m'\u001b[39;49m\u001b[43m,\u001b[49m\n\u001b[0;32m     20\u001b[0m \u001b[43m    \u001b[49m\u001b[43mcontrast_limits\u001b[49m\u001b[38;5;241;43m=\u001b[39;49m\u001b[43m[\u001b[49m\u001b[38;5;241;43m0\u001b[39;49m\u001b[43m,\u001b[49m\u001b[43m \u001b[49m\u001b[38;5;241;43m2048\u001b[39;49m\u001b[43m]\u001b[49m\u001b[43m,\u001b[49m\n\u001b[0;32m     21\u001b[0m \u001b[43m\u001b[49m\u001b[43m)\u001b[49m\n",
      "File \u001b[1;32mc:\\Users\\kmk280\\.conda\\envs\\track-base-0320\\lib\\site-packages\\napari\\utils\\migrations.py:66\u001b[0m, in \u001b[0;36mrename_argument.<locals>._wrapper.<locals>._update_from_dict\u001b[1;34m(*args, **kwargs)\u001b[0m\n\u001b[0;32m     64\u001b[0m     kwargs \u001b[38;5;241m=\u001b[39m kwargs\u001b[38;5;241m.\u001b[39mcopy()\n\u001b[0;32m     65\u001b[0m     kwargs[to_name] \u001b[38;5;241m=\u001b[39m kwargs\u001b[38;5;241m.\u001b[39mpop(from_name)\n\u001b[1;32m---> 66\u001b[0m \u001b[38;5;28;01mreturn\u001b[39;00m func(\u001b[38;5;241m*\u001b[39margs, \u001b[38;5;241m*\u001b[39m\u001b[38;5;241m*\u001b[39mkwargs)\n",
      "File \u001b[1;32mc:\\Users\\kmk280\\.conda\\envs\\track-base-0320\\lib\\site-packages\\napari\\components\\viewer_model.py:953\u001b[0m, in \u001b[0;36mViewerModel.add_image\u001b[1;34m(self, data, channel_axis, affine, attenuation, blending, cache, colormap, contrast_limits, custom_interpolation_kernel_2d, depiction, experimental_clipping_planes, gamma, interpolation2d, interpolation3d, iso_threshold, metadata, multiscale, name, opacity, plane, projection_mode, rendering, rgb, rotate, scale, shear, translate, visible)\u001b[0m\n\u001b[0;32m    945\u001b[0m             \u001b[38;5;28;01mraise\u001b[39;00m \u001b[38;5;167;01mTypeError\u001b[39;00m(\n\u001b[0;32m    946\u001b[0m                 trans\u001b[38;5;241m.\u001b[39m_(\n\u001b[0;32m    947\u001b[0m                     \u001b[38;5;124m\"\u001b[39m\u001b[38;5;124mReceived sequence for argument \u001b[39m\u001b[38;5;124m'\u001b[39m\u001b[38;5;132;01m{argument}\u001b[39;00m\u001b[38;5;124m'\u001b[39m\u001b[38;5;124m, did you mean to specify a \u001b[39m\u001b[38;5;124m'\u001b[39m\u001b[38;5;124mchannel_axis\u001b[39m\u001b[38;5;124m'\u001b[39m\u001b[38;5;124m? \u001b[39m\u001b[38;5;124m\"\u001b[39m,\n\u001b[1;32m   (...)\u001b[0m\n\u001b[0;32m    950\u001b[0m                 )\n\u001b[0;32m    951\u001b[0m             )\n\u001b[0;32m    952\u001b[0m     layer \u001b[38;5;241m=\u001b[39m Image(data, \u001b[38;5;241m*\u001b[39m\u001b[38;5;241m*\u001b[39mkwargs)\n\u001b[1;32m--> 953\u001b[0m     \u001b[38;5;28;43mself\u001b[39;49m\u001b[38;5;241;43m.\u001b[39;49m\u001b[43mlayers\u001b[49m\u001b[38;5;241;43m.\u001b[39;49m\u001b[43mappend\u001b[49m\u001b[43m(\u001b[49m\u001b[43mlayer\u001b[49m\u001b[43m)\u001b[49m\n\u001b[0;32m    955\u001b[0m     \u001b[38;5;28;01mreturn\u001b[39;00m layer\n\u001b[0;32m    957\u001b[0m layerdata_list \u001b[38;5;241m=\u001b[39m split_channels(data, channel_axis, \u001b[38;5;241m*\u001b[39m\u001b[38;5;241m*\u001b[39mkwargs)\n",
      "File \u001b[1;32mc:\\Users\\kmk280\\.conda\\envs\\track-base-0320\\lib\\_collections_abc.py:1128\u001b[0m, in \u001b[0;36mMutableSequence.append\u001b[1;34m(self, value)\u001b[0m\n\u001b[0;32m   1126\u001b[0m \u001b[38;5;28;01mdef\u001b[39;00m \u001b[38;5;21mappend\u001b[39m(\u001b[38;5;28mself\u001b[39m, value):\n\u001b[0;32m   1127\u001b[0m     \u001b[38;5;124m'\u001b[39m\u001b[38;5;124mS.append(value) -- append value to the end of the sequence\u001b[39m\u001b[38;5;124m'\u001b[39m\n\u001b[1;32m-> 1128\u001b[0m     \u001b[38;5;28;43mself\u001b[39;49m\u001b[38;5;241;43m.\u001b[39;49m\u001b[43minsert\u001b[49m\u001b[43m(\u001b[49m\u001b[38;5;28;43mlen\u001b[39;49m\u001b[43m(\u001b[49m\u001b[38;5;28;43mself\u001b[39;49m\u001b[43m)\u001b[49m\u001b[43m,\u001b[49m\u001b[43m \u001b[49m\u001b[43mvalue\u001b[49m\u001b[43m)\u001b[49m\n",
      "File \u001b[1;32mc:\\Users\\kmk280\\.conda\\envs\\track-base-0320\\lib\\site-packages\\napari\\components\\layerlist.py:193\u001b[0m, in \u001b[0;36mLayerList.insert\u001b[1;34m(self, index, value)\u001b[0m\n\u001b[0;32m    191\u001b[0m new_layer\u001b[38;5;241m.\u001b[39mevents\u001b[38;5;241m.\u001b[39mextent\u001b[38;5;241m.\u001b[39mconnect(\u001b[38;5;28mself\u001b[39m\u001b[38;5;241m.\u001b[39m_clean_cache)\n\u001b[0;32m    192\u001b[0m new_layer\u001b[38;5;241m.\u001b[39mevents\u001b[38;5;241m.\u001b[39m_extent_augmented\u001b[38;5;241m.\u001b[39mconnect(\u001b[38;5;28mself\u001b[39m\u001b[38;5;241m.\u001b[39m_clean_cache)\n\u001b[1;32m--> 193\u001b[0m \u001b[38;5;28;43msuper\u001b[39;49m\u001b[43m(\u001b[49m\u001b[43m)\u001b[49m\u001b[38;5;241;43m.\u001b[39;49m\u001b[43minsert\u001b[49m\u001b[43m(\u001b[49m\u001b[43mindex\u001b[49m\u001b[43m,\u001b[49m\u001b[43m \u001b[49m\u001b[43mnew_layer\u001b[49m\u001b[43m)\u001b[49m\n",
      "File \u001b[1;32mc:\\Users\\kmk280\\.conda\\envs\\track-base-0320\\lib\\site-packages\\napari\\utils\\events\\containers\\_selectable_list.py:68\u001b[0m, in \u001b[0;36mSelectableEventedList.insert\u001b[1;34m(self, index, value)\u001b[0m\n\u001b[0;32m     67\u001b[0m \u001b[38;5;28;01mdef\u001b[39;00m \u001b[38;5;21minsert\u001b[39m(\u001b[38;5;28mself\u001b[39m, index: \u001b[38;5;28mint\u001b[39m, value: _T) \u001b[38;5;241m-\u001b[39m\u001b[38;5;241m>\u001b[39m \u001b[38;5;28;01mNone\u001b[39;00m:\n\u001b[1;32m---> 68\u001b[0m     \u001b[38;5;28;43msuper\u001b[39;49m\u001b[43m(\u001b[49m\u001b[43m)\u001b[49m\u001b[38;5;241;43m.\u001b[39;49m\u001b[43minsert\u001b[49m\u001b[43m(\u001b[49m\u001b[43mindex\u001b[49m\u001b[43m,\u001b[49m\u001b[43m \u001b[49m\u001b[43mvalue\u001b[49m\u001b[43m)\u001b[49m\n\u001b[0;32m     69\u001b[0m     \u001b[38;5;28;01mif\u001b[39;00m \u001b[38;5;28mself\u001b[39m\u001b[38;5;241m.\u001b[39m_activate_on_insert:\n\u001b[0;32m     70\u001b[0m         \u001b[38;5;66;03m# Make layer selected and unselect all others\u001b[39;00m\n\u001b[0;32m     71\u001b[0m         \u001b[38;5;28mself\u001b[39m\u001b[38;5;241m.\u001b[39mselection\u001b[38;5;241m.\u001b[39mactive \u001b[38;5;241m=\u001b[39m value\n",
      "File \u001b[1;32mc:\\Users\\kmk280\\.conda\\envs\\track-base-0320\\lib\\site-packages\\napari\\utils\\events\\containers\\_evented_list.py:208\u001b[0m, in \u001b[0;36mEventedList.insert\u001b[1;34m(self, index, value)\u001b[0m\n\u001b[0;32m    206\u001b[0m \u001b[38;5;28mself\u001b[39m\u001b[38;5;241m.\u001b[39mevents\u001b[38;5;241m.\u001b[39minserting(index\u001b[38;5;241m=\u001b[39mindex)\n\u001b[0;32m    207\u001b[0m \u001b[38;5;28msuper\u001b[39m()\u001b[38;5;241m.\u001b[39minsert(index, value)\n\u001b[1;32m--> 208\u001b[0m \u001b[38;5;28;43mself\u001b[39;49m\u001b[38;5;241;43m.\u001b[39;49m\u001b[43mevents\u001b[49m\u001b[38;5;241;43m.\u001b[39;49m\u001b[43minserted\u001b[49m\u001b[43m(\u001b[49m\u001b[43mindex\u001b[49m\u001b[38;5;241;43m=\u001b[39;49m\u001b[43mindex\u001b[49m\u001b[43m,\u001b[49m\u001b[43m \u001b[49m\u001b[43mvalue\u001b[49m\u001b[38;5;241;43m=\u001b[39;49m\u001b[43mvalue\u001b[49m\u001b[43m)\u001b[49m\n\u001b[0;32m    209\u001b[0m \u001b[38;5;28mself\u001b[39m\u001b[38;5;241m.\u001b[39m_connect_child_emitters(value)\n",
      "File \u001b[1;32mc:\\Users\\kmk280\\.conda\\envs\\track-base-0320\\lib\\site-packages\\napari\\utils\\events\\event.py:769\u001b[0m, in \u001b[0;36mEventEmitter.__call__\u001b[1;34m(self, *args, **kwargs)\u001b[0m\n\u001b[0;32m    766\u001b[0m     \u001b[38;5;28mself\u001b[39m\u001b[38;5;241m.\u001b[39m_block_counter\u001b[38;5;241m.\u001b[39mupdate([cb])\n\u001b[0;32m    767\u001b[0m     \u001b[38;5;28;01mcontinue\u001b[39;00m\n\u001b[1;32m--> 769\u001b[0m \u001b[38;5;28;43mself\u001b[39;49m\u001b[38;5;241;43m.\u001b[39;49m\u001b[43m_invoke_callback\u001b[49m\u001b[43m(\u001b[49m\u001b[43mcb\u001b[49m\u001b[43m,\u001b[49m\u001b[43m \u001b[49m\u001b[43mevent\u001b[49m\u001b[43m \u001b[49m\u001b[38;5;28;43;01mif\u001b[39;49;00m\u001b[43m \u001b[49m\u001b[43mpass_event\u001b[49m\u001b[43m \u001b[49m\u001b[38;5;28;43;01melse\u001b[39;49;00m\u001b[43m \u001b[49m\u001b[38;5;28;43;01mNone\u001b[39;49;00m\u001b[43m)\u001b[49m\n\u001b[0;32m    770\u001b[0m \u001b[38;5;28;01mif\u001b[39;00m event\u001b[38;5;241m.\u001b[39mblocked:\n\u001b[0;32m    771\u001b[0m     \u001b[38;5;28;01mbreak\u001b[39;00m\n",
      "File \u001b[1;32mc:\\Users\\kmk280\\.conda\\envs\\track-base-0320\\lib\\site-packages\\napari\\utils\\events\\event.py:807\u001b[0m, in \u001b[0;36mEventEmitter._invoke_callback\u001b[1;34m(self, cb, event)\u001b[0m\n\u001b[0;32m    805\u001b[0m     \u001b[38;5;28mself\u001b[39m\u001b[38;5;241m.\u001b[39mdisconnect(cb)\n\u001b[0;32m    806\u001b[0m     \u001b[38;5;28;01mreturn\u001b[39;00m\n\u001b[1;32m--> 807\u001b[0m \u001b[43m_handle_exception\u001b[49m\u001b[43m(\u001b[49m\n\u001b[0;32m    808\u001b[0m \u001b[43m    \u001b[49m\u001b[38;5;28;43mself\u001b[39;49m\u001b[38;5;241;43m.\u001b[39;49m\u001b[43mignore_callback_errors\u001b[49m\u001b[43m,\u001b[49m\n\u001b[0;32m    809\u001b[0m \u001b[43m    \u001b[49m\u001b[38;5;28;43mself\u001b[39;49m\u001b[38;5;241;43m.\u001b[39;49m\u001b[43mprint_callback_errors\u001b[49m\u001b[43m,\u001b[49m\n\u001b[0;32m    810\u001b[0m \u001b[43m    \u001b[49m\u001b[38;5;28;43mself\u001b[39;49m\u001b[43m,\u001b[49m\n\u001b[0;32m    811\u001b[0m \u001b[43m    \u001b[49m\u001b[43mcb_event\u001b[49m\u001b[38;5;241;43m=\u001b[39;49m\u001b[43m(\u001b[49m\u001b[43mcb\u001b[49m\u001b[43m,\u001b[49m\u001b[43m \u001b[49m\u001b[43mevent\u001b[49m\u001b[43m)\u001b[49m\u001b[43m,\u001b[49m\n\u001b[0;32m    812\u001b[0m \u001b[43m\u001b[49m\u001b[43m)\u001b[49m\n",
      "File \u001b[1;32mc:\\Users\\kmk280\\.conda\\envs\\track-base-0320\\lib\\site-packages\\napari\\utils\\events\\event.py:794\u001b[0m, in \u001b[0;36mEventEmitter._invoke_callback\u001b[1;34m(self, cb, event)\u001b[0m\n\u001b[0;32m    792\u001b[0m \u001b[38;5;28;01mtry\u001b[39;00m:\n\u001b[0;32m    793\u001b[0m     \u001b[38;5;28;01mif\u001b[39;00m event \u001b[38;5;129;01mis\u001b[39;00m \u001b[38;5;129;01mnot\u001b[39;00m \u001b[38;5;28;01mNone\u001b[39;00m:\n\u001b[1;32m--> 794\u001b[0m         \u001b[43mcb\u001b[49m\u001b[43m(\u001b[49m\u001b[43mevent\u001b[49m\u001b[43m)\u001b[49m\n\u001b[0;32m    795\u001b[0m     \u001b[38;5;28;01melse\u001b[39;00m:\n\u001b[0;32m    796\u001b[0m         cb()\n",
      "File \u001b[1;32mc:\\Users\\kmk280\\.conda\\envs\\track-base-0320\\lib\\site-packages\\napari\\components\\viewer_model.py:637\u001b[0m, in \u001b[0;36mViewerModel._on_add_layer\u001b[1;34m(self, event)\u001b[0m\n\u001b[0;32m    633\u001b[0m \u001b[38;5;28mself\u001b[39m\u001b[38;5;241m.\u001b[39m_update_layers(layers\u001b[38;5;241m=\u001b[39m[layer])\n\u001b[0;32m    635\u001b[0m \u001b[38;5;28;01mif\u001b[39;00m \u001b[38;5;28mlen\u001b[39m(\u001b[38;5;28mself\u001b[39m\u001b[38;5;241m.\u001b[39mlayers) \u001b[38;5;241m==\u001b[39m \u001b[38;5;241m1\u001b[39m:\n\u001b[0;32m    636\u001b[0m     \u001b[38;5;66;03m# set dims slider to the middle of all dimensions\u001b[39;00m\n\u001b[1;32m--> 637\u001b[0m     \u001b[38;5;28;43mself\u001b[39;49m\u001b[38;5;241;43m.\u001b[39;49m\u001b[43mreset_view\u001b[49m\u001b[43m(\u001b[49m\u001b[43m)\u001b[49m\n\u001b[0;32m    638\u001b[0m     \u001b[38;5;28mself\u001b[39m\u001b[38;5;241m.\u001b[39mdims\u001b[38;5;241m.\u001b[39m_go_to_center_step()\n",
      "File \u001b[1;32mc:\\Users\\kmk280\\.conda\\envs\\track-base-0320\\lib\\site-packages\\napari\\components\\viewer_model.py:416\u001b[0m, in \u001b[0;36mViewerModel.reset_view\u001b[1;34m(self)\u001b[0m\n\u001b[0;32m    414\u001b[0m     scale \u001b[38;5;241m=\u001b[39m np\u001b[38;5;241m.\u001b[39marray(size[\u001b[38;5;241m-\u001b[39m\u001b[38;5;241m2\u001b[39m:])\n\u001b[0;32m    415\u001b[0m     scale[np\u001b[38;5;241m.\u001b[39misclose(scale, \u001b[38;5;241m0\u001b[39m)] \u001b[38;5;241m=\u001b[39m \u001b[38;5;241m1\u001b[39m\n\u001b[1;32m--> 416\u001b[0m     \u001b[38;5;28;43mself\u001b[39;49m\u001b[38;5;241;43m.\u001b[39;49m\u001b[43mcamera\u001b[49m\u001b[38;5;241;43m.\u001b[39;49m\u001b[43mzoom\u001b[49m \u001b[38;5;241m=\u001b[39m \u001b[38;5;241m0.95\u001b[39m \u001b[38;5;241m*\u001b[39m np\u001b[38;5;241m.\u001b[39mmin(\n\u001b[0;32m    417\u001b[0m         np\u001b[38;5;241m.\u001b[39marray(\u001b[38;5;28mself\u001b[39m\u001b[38;5;241m.\u001b[39m_canvas_size) \u001b[38;5;241m/\u001b[39m scale\n\u001b[0;32m    418\u001b[0m     )\n\u001b[0;32m    419\u001b[0m \u001b[38;5;28mself\u001b[39m\u001b[38;5;241m.\u001b[39mcamera\u001b[38;5;241m.\u001b[39mangles \u001b[38;5;241m=\u001b[39m (\u001b[38;5;241m0\u001b[39m, \u001b[38;5;241m0\u001b[39m, \u001b[38;5;241m90\u001b[39m)\n\u001b[0;32m    421\u001b[0m \u001b[38;5;66;03m# Emit a reset view event, which is no longer used internally, but\u001b[39;00m\n\u001b[0;32m    422\u001b[0m \u001b[38;5;66;03m# which maybe useful for building on napari.\u001b[39;00m\n",
      "File \u001b[1;32mc:\\Users\\kmk280\\.conda\\envs\\track-base-0320\\lib\\site-packages\\napari\\utils\\events\\evented_model.py:307\u001b[0m, in \u001b[0;36mEventedModel.__setattr__\u001b[1;34m(self, name, value)\u001b[0m\n\u001b[0;32m    305\u001b[0m     \u001b[38;5;28msuper\u001b[39m()\u001b[38;5;241m.\u001b[39m\u001b[38;5;21m__setattr__\u001b[39m(name, value)\n\u001b[0;32m    306\u001b[0m     \u001b[38;5;28;01mreturn\u001b[39;00m\n\u001b[1;32m--> 307\u001b[0m \u001b[38;5;28;01mwith\u001b[39;00m ComparisonDelayer(\u001b[38;5;28mself\u001b[39m):\n\u001b[0;32m    308\u001b[0m     \u001b[38;5;28mself\u001b[39m\u001b[38;5;241m.\u001b[39m_primary_changes\u001b[38;5;241m.\u001b[39madd(name)\n\u001b[0;32m    309\u001b[0m     \u001b[38;5;28mself\u001b[39m\u001b[38;5;241m.\u001b[39m_setattr_impl(name, value)\n",
      "File \u001b[1;32mc:\\Users\\kmk280\\.conda\\envs\\track-base-0320\\lib\\site-packages\\napari\\utils\\events\\evented_model.py:520\u001b[0m, in \u001b[0;36mComparisonDelayer.__exit__\u001b[1;34m(self, exc_type, exc_val, exc_tb)\u001b[0m\n\u001b[0;32m    518\u001b[0m \u001b[38;5;28;01mdef\u001b[39;00m \u001b[38;5;21m__exit__\u001b[39m(\u001b[38;5;28mself\u001b[39m, exc_type, exc_val, exc_tb):\n\u001b[0;32m    519\u001b[0m     \u001b[38;5;28mself\u001b[39m\u001b[38;5;241m.\u001b[39m_target\u001b[38;5;241m.\u001b[39m_delay_check_semaphore \u001b[38;5;241m-\u001b[39m\u001b[38;5;241m=\u001b[39m \u001b[38;5;241m1\u001b[39m\n\u001b[1;32m--> 520\u001b[0m     \u001b[38;5;28;43mself\u001b[39;49m\u001b[38;5;241;43m.\u001b[39;49m\u001b[43m_target\u001b[49m\u001b[38;5;241;43m.\u001b[39;49m\u001b[43m_check_if_values_changed_and_emit_if_needed\u001b[49m\u001b[43m(\u001b[49m\u001b[43m)\u001b[49m\n",
      "File \u001b[1;32mc:\\Users\\kmk280\\.conda\\envs\\track-base-0320\\lib\\site-packages\\napari\\utils\\events\\evented_model.py:345\u001b[0m, in \u001b[0;36mEventedModel._check_if_values_changed_and_emit_if_needed\u001b[1;34m(self)\u001b[0m\n\u001b[0;32m    342\u001b[0m \u001b[38;5;28;01mwith\u001b[39;00m ComparisonDelayer(\u001b[38;5;28mself\u001b[39m):\n\u001b[0;32m    343\u001b[0m     \u001b[38;5;66;03m# Again delay comparison to avoid having events caused by callback functions\u001b[39;00m\n\u001b[0;32m    344\u001b[0m     \u001b[38;5;28;01mfor\u001b[39;00m name, new_value \u001b[38;5;129;01min\u001b[39;00m to_emit:\n\u001b[1;32m--> 345\u001b[0m         \u001b[38;5;28;43mgetattr\u001b[39;49m\u001b[43m(\u001b[49m\u001b[38;5;28;43mself\u001b[39;49m\u001b[38;5;241;43m.\u001b[39;49m\u001b[43mevents\u001b[49m\u001b[43m,\u001b[49m\u001b[43m \u001b[49m\u001b[43mname\u001b[49m\u001b[43m)\u001b[49m\u001b[43m(\u001b[49m\u001b[43mvalue\u001b[49m\u001b[38;5;241;43m=\u001b[39;49m\u001b[43mnew_value\u001b[49m\u001b[43m)\u001b[49m\n",
      "File \u001b[1;32mc:\\Users\\kmk280\\.conda\\envs\\track-base-0320\\lib\\site-packages\\napari\\utils\\events\\event.py:769\u001b[0m, in \u001b[0;36mEventEmitter.__call__\u001b[1;34m(self, *args, **kwargs)\u001b[0m\n\u001b[0;32m    766\u001b[0m     \u001b[38;5;28mself\u001b[39m\u001b[38;5;241m.\u001b[39m_block_counter\u001b[38;5;241m.\u001b[39mupdate([cb])\n\u001b[0;32m    767\u001b[0m     \u001b[38;5;28;01mcontinue\u001b[39;00m\n\u001b[1;32m--> 769\u001b[0m \u001b[38;5;28;43mself\u001b[39;49m\u001b[38;5;241;43m.\u001b[39;49m\u001b[43m_invoke_callback\u001b[49m\u001b[43m(\u001b[49m\u001b[43mcb\u001b[49m\u001b[43m,\u001b[49m\u001b[43m \u001b[49m\u001b[43mevent\u001b[49m\u001b[43m \u001b[49m\u001b[38;5;28;43;01mif\u001b[39;49;00m\u001b[43m \u001b[49m\u001b[43mpass_event\u001b[49m\u001b[43m \u001b[49m\u001b[38;5;28;43;01melse\u001b[39;49;00m\u001b[43m \u001b[49m\u001b[38;5;28;43;01mNone\u001b[39;49;00m\u001b[43m)\u001b[49m\n\u001b[0;32m    770\u001b[0m \u001b[38;5;28;01mif\u001b[39;00m event\u001b[38;5;241m.\u001b[39mblocked:\n\u001b[0;32m    771\u001b[0m     \u001b[38;5;28;01mbreak\u001b[39;00m\n",
      "File \u001b[1;32mc:\\Users\\kmk280\\.conda\\envs\\track-base-0320\\lib\\site-packages\\napari\\utils\\events\\event.py:807\u001b[0m, in \u001b[0;36mEventEmitter._invoke_callback\u001b[1;34m(self, cb, event)\u001b[0m\n\u001b[0;32m    805\u001b[0m     \u001b[38;5;28mself\u001b[39m\u001b[38;5;241m.\u001b[39mdisconnect(cb)\n\u001b[0;32m    806\u001b[0m     \u001b[38;5;28;01mreturn\u001b[39;00m\n\u001b[1;32m--> 807\u001b[0m \u001b[43m_handle_exception\u001b[49m\u001b[43m(\u001b[49m\n\u001b[0;32m    808\u001b[0m \u001b[43m    \u001b[49m\u001b[38;5;28;43mself\u001b[39;49m\u001b[38;5;241;43m.\u001b[39;49m\u001b[43mignore_callback_errors\u001b[49m\u001b[43m,\u001b[49m\n\u001b[0;32m    809\u001b[0m \u001b[43m    \u001b[49m\u001b[38;5;28;43mself\u001b[39;49m\u001b[38;5;241;43m.\u001b[39;49m\u001b[43mprint_callback_errors\u001b[49m\u001b[43m,\u001b[49m\n\u001b[0;32m    810\u001b[0m \u001b[43m    \u001b[49m\u001b[38;5;28;43mself\u001b[39;49m\u001b[43m,\u001b[49m\n\u001b[0;32m    811\u001b[0m \u001b[43m    \u001b[49m\u001b[43mcb_event\u001b[49m\u001b[38;5;241;43m=\u001b[39;49m\u001b[43m(\u001b[49m\u001b[43mcb\u001b[49m\u001b[43m,\u001b[49m\u001b[43m \u001b[49m\u001b[43mevent\u001b[49m\u001b[43m)\u001b[49m\u001b[43m,\u001b[49m\n\u001b[0;32m    812\u001b[0m \u001b[43m\u001b[49m\u001b[43m)\u001b[49m\n",
      "File \u001b[1;32mc:\\Users\\kmk280\\.conda\\envs\\track-base-0320\\lib\\site-packages\\napari\\utils\\events\\event.py:796\u001b[0m, in \u001b[0;36mEventEmitter._invoke_callback\u001b[1;34m(self, cb, event)\u001b[0m\n\u001b[0;32m    794\u001b[0m         cb(event)\n\u001b[0;32m    795\u001b[0m     \u001b[38;5;28;01melse\u001b[39;00m:\n\u001b[1;32m--> 796\u001b[0m         \u001b[43mcb\u001b[49m\u001b[43m(\u001b[49m\u001b[43m)\u001b[49m\n\u001b[0;32m    797\u001b[0m \u001b[38;5;28;01mexcept\u001b[39;00m \u001b[38;5;167;01mException\u001b[39;00m \u001b[38;5;28;01mas\u001b[39;00m e:  \u001b[38;5;66;03m# noqa: BLE001\u001b[39;00m\n\u001b[0;32m    798\u001b[0m     \u001b[38;5;66;03m# dead Qt object with living python pointer. not importing Qt\u001b[39;00m\n\u001b[0;32m    799\u001b[0m     \u001b[38;5;66;03m# here... but this error is consistent across backends\u001b[39;00m\n\u001b[0;32m    800\u001b[0m     \u001b[38;5;28;01mif\u001b[39;00m (\n\u001b[0;32m    801\u001b[0m         \u001b[38;5;28misinstance\u001b[39m(e, \u001b[38;5;167;01mRuntimeError\u001b[39;00m)\n\u001b[0;32m    802\u001b[0m         \u001b[38;5;129;01mand\u001b[39;00m \u001b[38;5;124m'\u001b[39m\u001b[38;5;124mC++\u001b[39m\u001b[38;5;124m'\u001b[39m \u001b[38;5;129;01min\u001b[39;00m \u001b[38;5;28mstr\u001b[39m(e)\n\u001b[0;32m    803\u001b[0m         \u001b[38;5;129;01mand\u001b[39;00m \u001b[38;5;28mstr\u001b[39m(e)\u001b[38;5;241m.\u001b[39mendswith((\u001b[38;5;124m'\u001b[39m\u001b[38;5;124mhas been deleted\u001b[39m\u001b[38;5;124m'\u001b[39m, \u001b[38;5;124m'\u001b[39m\u001b[38;5;124malready deleted.\u001b[39m\u001b[38;5;124m'\u001b[39m))\n\u001b[0;32m    804\u001b[0m     ):\n",
      "File \u001b[1;32md:\\kasia\\tracking\\E6_exp\\code\\tracks_interactions\\examples\\..\\tracks_interactions\\widget\\widget_navigation.py:90\u001b[0m, in \u001b[0;36mTrackNavigationWidget.build_labels\u001b[1;34m(self)\u001b[0m\n\u001b[0;32m     85\u001b[0m \u001b[38;5;28;01mdef\u001b[39;00m \u001b[38;5;21mbuild_labels\u001b[39m(\u001b[38;5;28mself\u001b[39m):\n\u001b[0;32m     86\u001b[0m \u001b[38;5;250m    \u001b[39m\u001b[38;5;124;03m\"\"\"\u001b[39;00m\n\u001b[0;32m     87\u001b[0m \u001b[38;5;124;03m    Function to build the labels layer based on db content\u001b[39;00m\n\u001b[0;32m     88\u001b[0m \u001b[38;5;124;03m    \"\"\"\u001b[39;00m\n\u001b[1;32m---> 90\u001b[0m     \u001b[38;5;28;01mif\u001b[39;00m \u001b[38;5;28;43mself\u001b[39;49m\u001b[38;5;241;43m.\u001b[39;49m\u001b[43mviewer\u001b[49m\u001b[38;5;241;43m.\u001b[39;49m\u001b[43mlayers\u001b[49m\u001b[43m[\u001b[49m\u001b[38;5;124;43m'\u001b[39;49m\u001b[38;5;124;43mLabels\u001b[39;49m\u001b[38;5;124;43m'\u001b[39;49m\u001b[43m]\u001b[49m\u001b[38;5;241m.\u001b[39mvisible:\n\u001b[0;32m     91\u001b[0m         current_frame \u001b[38;5;241m=\u001b[39m \u001b[38;5;28mself\u001b[39m\u001b[38;5;241m.\u001b[39mviewer\u001b[38;5;241m.\u001b[39mdims\u001b[38;5;241m.\u001b[39mcurrent_step[\u001b[38;5;241m0\u001b[39m]\n\u001b[0;32m     93\u001b[0m         \u001b[38;5;66;03m# clear labels\u001b[39;00m\n",
      "File \u001b[1;32mc:\\Users\\kmk280\\.conda\\envs\\track-base-0320\\lib\\site-packages\\napari\\components\\layerlist.py:175\u001b[0m, in \u001b[0;36mLayerList.__getitem__\u001b[1;34m(self, item)\u001b[0m\n\u001b[0;32m    174\u001b[0m \u001b[38;5;28;01mdef\u001b[39;00m \u001b[38;5;21m__getitem__\u001b[39m(\u001b[38;5;28mself\u001b[39m, item):\n\u001b[1;32m--> 175\u001b[0m     \u001b[38;5;28;01mreturn\u001b[39;00m \u001b[38;5;28;43msuper\u001b[39;49m\u001b[43m(\u001b[49m\u001b[43m)\u001b[49m\u001b[38;5;241;43m.\u001b[39;49m\u001b[38;5;21;43m__getitem__\u001b[39;49m\u001b[43m(\u001b[49m\u001b[43mitem\u001b[49m\u001b[43m)\u001b[49m\n",
      "File \u001b[1;32mc:\\Users\\kmk280\\.conda\\envs\\track-base-0320\\lib\\site-packages\\napari\\utils\\events\\containers\\_typed.py:152\u001b[0m, in \u001b[0;36mTypedMutableSequence.__getitem__\u001b[1;34m(self, key)\u001b[0m\n\u001b[0;32m    150\u001b[0m         \u001b[38;5;28;01mreturn\u001b[39;00m \u001b[38;5;28mself\u001b[39m\u001b[38;5;241m.\u001b[39m\u001b[38;5;21m__getitem__\u001b[39m(\u001b[38;5;28mself\u001b[39m\u001b[38;5;241m.\u001b[39mindex(key))\n\u001b[0;32m    151\u001b[0m     \u001b[38;5;28;01mexcept\u001b[39;00m \u001b[38;5;167;01mValueError\u001b[39;00m \u001b[38;5;28;01mas\u001b[39;00m e:\n\u001b[1;32m--> 152\u001b[0m         \u001b[38;5;28;01mraise\u001b[39;00m \u001b[38;5;167;01mKeyError\u001b[39;00m(\u001b[38;5;28mstr\u001b[39m(e)) \u001b[38;5;28;01mfrom\u001b[39;00m \u001b[38;5;21;01me\u001b[39;00m\n\u001b[0;32m    154\u001b[0m result \u001b[38;5;241m=\u001b[39m \u001b[38;5;28mself\u001b[39m\u001b[38;5;241m.\u001b[39m_list[key]\n\u001b[0;32m    155\u001b[0m \u001b[38;5;28;01mreturn\u001b[39;00m \u001b[38;5;28mself\u001b[39m\u001b[38;5;241m.\u001b[39m__newlike__(result) \u001b[38;5;28;01mif\u001b[39;00m \u001b[38;5;28misinstance\u001b[39m(result, \u001b[38;5;28mlist\u001b[39m) \u001b[38;5;28;01melse\u001b[39;00m result\n",
      "\u001b[1;31mKeyError\u001b[0m: \"'Labels' is not in list\""
     ]
    }
   ],
   "source": [
    "import dask.array as da\n",
    "\n",
    "channels_data_list = []\n",
    "for ch in track_gardener.settings_window.channels_list:\n",
    "    channel_name = ch.get('name', 'Unnamed')\n",
    "    channel_path = ch.get('path', '')\n",
    "    channel_lut = ch.get('lut', 'green')\n",
    "\n",
    "    ch_list = []\n",
    "    for level in range(1, 5):\n",
    "        ch_list.append(da.from_zarr(channel_path, level))\n",
    "\n",
    "    channels_data_list.append(ch_list)\n",
    "\n",
    "    viewer.add_image(\n",
    "        ch_list,\n",
    "        name=channel_name,\n",
    "        colormap=channel_lut,\n",
    "        blending='additive',\n",
    "        contrast_limits=[0, 2048],\n",
    "    )\n",
    "            "
   ]
  },
  {
   "cell_type": "code",
   "execution_count": 73,
   "metadata": {},
   "outputs": [
    {
     "data": {
      "text/plain": [
       "<Image layer 'ch0 [1]' at 0x1d6aba1e800>"
      ]
     },
     "execution_count": 73,
     "metadata": {},
     "output_type": "execute_result"
    }
   ],
   "source": [
    "viewer.add_image(track_gardener.settings_window.channels_data_list[0],name=channel_name,colormap=channel_lut,blending='additive',contrast_limits=[0, 2048])"
   ]
  },
  {
   "cell_type": "code",
   "execution_count": 70,
   "metadata": {},
   "outputs": [
    {
     "data": {
      "text/plain": [
       "[{'name': 'ch0',\n",
       "  'path': 'D:\\\\kasia\\\\tracking\\\\E6_exp\\\\E6_C0.zarr',\n",
       "  'lut': 'green'},\n",
       " {'name': 'ch1',\n",
       "  'path': 'D:\\\\kasia\\\\tracking\\\\E6_exp\\\\E6_C1.zarr',\n",
       "  'lut': 'red'}]"
      ]
     },
     "execution_count": 70,
     "metadata": {},
     "output_type": "execute_result"
    }
   ],
   "source": [
    "track_gardener.settings_window.channels_list"
   ]
  },
  {
   "cell_type": "code",
   "execution_count": 64,
   "metadata": {},
   "outputs": [],
   "source": [
    "for event_emitter in viewer.dims.events.emitters.values():\n",
    "    event_emitter.disconnect()\n",
    "\n",
    "layers_list = [x.name for x in viewer.layers]\n",
    "\n",
    "for layer in layers_list:\n",
    "    viewer.layers.remove(layer)"
   ]
  },
  {
   "cell_type": "code",
   "execution_count": 57,
   "metadata": {},
   "outputs": [
    {
     "data": {
      "text/plain": [
       "[[dask.array<from-zarr, shape=(241, 8396, 8401), dtype=uint16, chunksize=(10, 512, 512), chunktype=numpy.ndarray>,\n",
       "  dask.array<from-zarr, shape=(241, 4198, 4200), dtype=uint16, chunksize=(10, 512, 512), chunktype=numpy.ndarray>,\n",
       "  dask.array<from-zarr, shape=(241, 2099, 2100), dtype=uint16, chunksize=(10, 512, 512), chunktype=numpy.ndarray>,\n",
       "  dask.array<from-zarr, shape=(241, 1049, 1050), dtype=uint16, chunksize=(10, 512, 512), chunktype=numpy.ndarray>]]"
      ]
     },
     "execution_count": 57,
     "metadata": {},
     "output_type": "execute_result"
    }
   ],
   "source": [
    "track_gardener.settings_window.channels_data_list"
   ]
  },
  {
   "cell_type": "code",
   "execution_count": 26,
   "metadata": {},
   "outputs": [
    {
     "name": "stderr",
     "output_type": "stream",
     "text": [
      "WARNING: QWindowsWindow::setGeometry: Unable to set geometry 1470x929+0+23 (frame: 1486x968-8-8) on QWidgetWindow/\"_QtMainWindowClassWindow\" on \"\\\\.\\DISPLAY49\". Resulting geometry: 1470x856+0+23 (frame: 1486x895-8-8) margins: 8, 31, 8, 8 minimum size: 1022x929 MINMAXINFO maxSize=0,0 maxpos=0,0 mintrack=1038,968 maxtrack=0,0)\n",
      "WARNING: QWindowsWindow::setGeometry: Unable to set geometry 1470x1135+0+23 (frame: 1486x1174-8-8) on QWidgetWindow/\"_QtMainWindowClassWindow\" on \"\\\\.\\DISPLAY49\". Resulting geometry: 1470x856+0+23 (frame: 1486x895-8-8) margins: 8, 31, 8, 8 minimum size: 1022x1135 MINMAXINFO maxSize=0,0 maxpos=0,0 mintrack=1038,1174 maxtrack=0,0)\n",
      "WARNING: QWindowsWindow::setGeometry: Unable to set geometry 1470x1138+0+23 (frame: 1486x1177-8-8) on QWidgetWindow/\"_QtMainWindowClassWindow\" on \"\\\\.\\DISPLAY49\". Resulting geometry: 1470x856+0+23 (frame: 1486x895-8-8) margins: 8, 31, 8, 8 minimum size: 1022x1138 MINMAXINFO maxSize=0,0 maxpos=0,0 mintrack=1038,1177 maxtrack=0,0)\n"
     ]
    }
   ],
   "source": [
    "import yaml\n",
    "from tracks_interactions.widget.signal_graph_widget import CellGraphWidget\n",
    "from sqlalchemy import create_engine\n",
    "from sqlalchemy.orm import sessionmaker\n",
    "\n",
    "# get access to the database\n",
    "new_db_path = r'D:\\kasia\\tracking\\E6_exp\\double_segmentation_ultrack\\Exp6_gardener_v6.db'\n",
    "engine = create_engine(f'sqlite:///{new_db_path}')\n",
    "session = sessionmaker(bind=engine)()\n",
    "\n",
    "filePath = r'D:\\kasia\\tracking\\E6_exp\\sample_data\\config.yaml'\n",
    "\n",
    "with open(filePath, 'r') as file:\n",
    "    config = yaml.safe_load(file)\n",
    "    graph_list = config.get('graphs', [])\n",
    "    cell_tags = config.get('cell_tags', [])\n",
    "\n",
    "signal_list = ['area','ch0_nuc','ch0_cyto','ch1_nuc','ch1_cyto']\n",
    "\n",
    "ind = 2\n",
    "for gr in graph_list:\n",
    "    graph_name = gr.get('name', 'Unnamed')\n",
    "    graph_signals = gr.get('signals', [])\n",
    "    graph_colors = gr.get('colors', [])\n",
    "\n",
    "    graph_widget = CellGraphWidget(viewer,session,signal_list,signal_sel_list=graph_signals,color_sel_list=graph_colors,tag_dictionary=cell_tags)\n",
    "    viewer.window.add_dock_widget(graph_widget,area='right')\n",
    "    #track_gardener.tab2.layout().addWidget(graph_widget, ind, 0)\n",
    "    #ind += 1"
   ]
  },
  {
   "cell_type": "code",
   "execution_count": null,
   "metadata": {},
   "outputs": [],
   "source": []
  }
 ],
 "metadata": {
  "kernelspec": {
   "display_name": "tracking",
   "language": "python",
   "name": "python3"
  },
  "language_info": {
   "codemirror_mode": {
    "name": "ipython",
    "version": 3
   },
   "file_extension": ".py",
   "mimetype": "text/x-python",
   "name": "python",
   "nbconvert_exporter": "python",
   "pygments_lexer": "ipython3",
   "version": "3.10.13"
  }
 },
 "nbformat": 4,
 "nbformat_minor": 2
}

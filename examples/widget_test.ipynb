{
 "cells": [
  {
   "cell_type": "code",
   "execution_count": 1,
   "metadata": {},
   "outputs": [],
   "source": [
    "%load_ext autoreload\n",
    "%autoreload 2\n",
    "\n",
    "import os\n",
    "import napari\n",
    "\n",
    "import sys\n",
    "sys.path.append('..')\n",
    "\n",
    "from tracks_interactions.widget.widget_main import TrackGardener"
   ]
  },
  {
   "cell_type": "code",
   "execution_count": 2,
   "metadata": {},
   "outputs": [
    {
     "data": {
      "text/plain": [
       "False"
      ]
     },
     "execution_count": 2,
     "metadata": {},
     "output_type": "execute_result"
    }
   ],
   "source": [
    "os.environ['NAPARI_PERFMON'] = '0'\n",
    "\n",
    "from napari.settings import get_settings\n",
    "settings = get_settings()\n",
    "settings.experimental.async_\n",
    "#settings.experimental.async_=True"
   ]
  },
  {
   "cell_type": "code",
   "execution_count": 3,
   "metadata": {},
   "outputs": [
    {
     "data": {
      "text/plain": [
       "<napari._qt.widgets.qt_viewer_dock_widget.QtViewerDockWidget at 0x1a78c10e200>"
      ]
     },
     "execution_count": 3,
     "metadata": {},
     "output_type": "execute_result"
    },
    {
     "name": "stderr",
     "output_type": "stream",
     "text": [
      "c:\\Users\\KMK280\\AppData\\Local\\anaconda3\\envs\\gardener-env\\lib\\site-packages\\zarr\\creation.py:614: UserWarning: ignoring keyword argument 'read_only'\n",
      "  compressor, fill_value = _kwargs_compat(compressor, fill_value, kwargs)\n",
      "c:\\Users\\KMK280\\AppData\\Local\\anaconda3\\envs\\gardener-env\\lib\\site-packages\\zarr\\creation.py:614: UserWarning: ignoring keyword argument 'read_only'\n",
      "  compressor, fill_value = _kwargs_compat(compressor, fill_value, kwargs)\n",
      "\u001b[32m2024-11-06 17:06:47.612\u001b[0m | \u001b[1mINFO    \u001b[0m | \u001b[36mtracks_interactions.db.db_functions\u001b[0m:\u001b[36mring_intensity\u001b[0m:\u001b[36m678\u001b[0m - \u001b[1m[128.0914881297047, 159.02142443543718]\u001b[0m\n",
      "\u001b[32m2024-11-06 17:07:05.921\u001b[0m | \u001b[1mINFO    \u001b[0m | \u001b[36mtracks_interactions.db.db_functions\u001b[0m:\u001b[36mring_intensity\u001b[0m:\u001b[36m678\u001b[0m - \u001b[1m[768.9173372348208, 152.70117044623262]\u001b[0m\n",
      "\u001b[32m2024-11-06 17:08:44.048\u001b[0m | \u001b[1mINFO    \u001b[0m | \u001b[36mtracks_interactions.db.db_functions\u001b[0m:\u001b[36mring_intensity\u001b[0m:\u001b[36m678\u001b[0m - \u001b[1m[836.2403685092128, 232.9606365159129]\u001b[0m\n",
      "\u001b[32m2024-11-06 17:09:17.094\u001b[0m | \u001b[1mINFO    \u001b[0m | \u001b[36mtracks_interactions.db.db_functions\u001b[0m:\u001b[36mring_intensity\u001b[0m:\u001b[36m678\u001b[0m - \u001b[1m[1531.22647702407, 241.64551422319474]\u001b[0m\n",
      "\u001b[32m2024-11-06 17:09:35.969\u001b[0m | \u001b[1mINFO    \u001b[0m | \u001b[36mtracks_interactions.db.db_functions\u001b[0m:\u001b[36mring_intensity\u001b[0m:\u001b[36m678\u001b[0m - \u001b[1m[3745.977011494253, 315.01724137931035]\u001b[0m\n",
      "\u001b[32m2024-11-06 17:09:52.508\u001b[0m | \u001b[1mINFO    \u001b[0m | \u001b[36mtracks_interactions.db.db_functions\u001b[0m:\u001b[36mring_intensity\u001b[0m:\u001b[36m678\u001b[0m - \u001b[1m[123.28778135048232, 151.55787781350483]\u001b[0m\n",
      "\u001b[32m2024-11-06 17:13:47.839\u001b[0m | \u001b[1mINFO    \u001b[0m | \u001b[36mtracks_interactions.db.db_functions\u001b[0m:\u001b[36mring_intensity\u001b[0m:\u001b[36m678\u001b[0m - \u001b[1m[126.09258084971465, 154.7844007609385]\u001b[0m\n",
      "\u001b[32m2024-11-06 17:13:52.868\u001b[0m | \u001b[1mINFO    \u001b[0m | \u001b[36mtracks_interactions.db.db_functions\u001b[0m:\u001b[36mring_intensity\u001b[0m:\u001b[36m678\u001b[0m - \u001b[1m[126.43087121212122, 155.36979166666666]\u001b[0m\n",
      "\u001b[32m2024-11-06 17:14:13.996\u001b[0m | \u001b[1mINFO    \u001b[0m | \u001b[36mtracks_interactions.db.db_functions\u001b[0m:\u001b[36mring_intensity\u001b[0m:\u001b[36m678\u001b[0m - \u001b[1m[126.81845349271573, 155.34142697048935]\u001b[0m\n",
      "\u001b[32m2024-11-06 17:14:39.854\u001b[0m | \u001b[1mINFO    \u001b[0m | \u001b[36mtracks_interactions.db.db_functions\u001b[0m:\u001b[36mring_intensity\u001b[0m:\u001b[36m678\u001b[0m - \u001b[1m[126.94731296101159, 157.32033719704953]\u001b[0m\n",
      "\u001b[32m2024-11-06 17:14:58.250\u001b[0m | \u001b[1mINFO    \u001b[0m | \u001b[36mtracks_interactions.db.db_functions\u001b[0m:\u001b[36mring_intensity\u001b[0m:\u001b[36m678\u001b[0m - \u001b[1m[125.11782032400589, 160.12960235640648]\u001b[0m\n",
      "\u001b[32m2024-11-06 17:15:14.125\u001b[0m | \u001b[1mINFO    \u001b[0m | \u001b[36mtracks_interactions.db.db_functions\u001b[0m:\u001b[36mring_intensity\u001b[0m:\u001b[36m678\u001b[0m - \u001b[1m[1335.811080835604, 208.14441416893732]\u001b[0m\n",
      "\u001b[32m2024-11-06 17:15:22.702\u001b[0m | \u001b[1mINFO    \u001b[0m | \u001b[36mtracks_interactions.db.db_functions\u001b[0m:\u001b[36mring_intensity\u001b[0m:\u001b[36m678\u001b[0m - \u001b[1m[125.11782032400589, 160.12960235640648]\u001b[0m\n"
     ]
    }
   ],
   "source": [
    "viewer = napari.Viewer()\n",
    "track_gardener = TrackGardener(viewer)\n",
    "viewer.window.add_dock_widget(track_gardener,area='right',name='Track Gardener')"
   ]
  },
  {
   "cell_type": "code",
   "execution_count": 7,
   "metadata": {},
   "outputs": [
    {
     "data": {
      "text/plain": [
       "dict"
      ]
     },
     "execution_count": 7,
     "metadata": {},
     "output_type": "execute_result"
    }
   ],
   "source": [
    "type(track_gardener.settings_window.graphs_list[0])"
   ]
  },
  {
   "cell_type": "code",
   "execution_count": null,
   "metadata": {},
   "outputs": [],
   "source": []
  }
 ],
 "metadata": {
  "kernelspec": {
   "display_name": "gardener-env",
   "language": "python",
   "name": "python3"
  },
  "language_info": {
   "codemirror_mode": {
    "name": "ipython",
    "version": 3
   },
   "file_extension": ".py",
   "mimetype": "text/x-python",
   "name": "python",
   "nbconvert_exporter": "python",
   "pygments_lexer": "ipython3",
   "version": "3.10.15"
  }
 },
 "nbformat": 4,
 "nbformat_minor": 2
}

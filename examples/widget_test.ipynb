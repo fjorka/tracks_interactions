{
 "cells": [
  {
   "cell_type": "code",
   "execution_count": 2,
   "metadata": {},
   "outputs": [
    {
     "name": "stdout",
     "output_type": "stream",
     "text": [
      "The autoreload extension is already loaded. To reload it, use:\n",
      "  %reload_ext autoreload\n"
     ]
    }
   ],
   "source": [
    "%load_ext autoreload\n",
    "%autoreload 2\n",
    "\n",
    "import os\n",
    "import napari\n",
    "\n",
    "import sys\n",
    "sys.path.append('..')\n",
    "\n",
    "from tracks_interactions.widget.widget_main import TrackGardener"
   ]
  },
  {
   "cell_type": "code",
   "execution_count": 3,
   "metadata": {},
   "outputs": [
    {
     "data": {
      "text/plain": [
       "False"
      ]
     },
     "execution_count": 3,
     "metadata": {},
     "output_type": "execute_result"
    }
   ],
   "source": [
    "os.environ['NAPARI_PERFMON'] = '0'\n",
    "\n",
    "from napari.settings import get_settings\n",
    "settings = get_settings()\n",
    "settings.experimental.async_\n",
    "#settings.experimental.async_=True"
   ]
  },
  {
   "cell_type": "code",
   "execution_count": 26,
   "metadata": {},
   "outputs": [
    {
     "name": "stderr",
     "output_type": "stream",
     "text": [
      "WARNING: QWindowsWindow::setGeometry: Unable to set geometry 1470x929+0+23 (frame: 1486x968-8-8) on QWidgetWindow/\"_QtMainWindowClassWindow\" on \"\\\\.\\DISPLAY49\". Resulting geometry: 1470x856+0+23 (frame: 1486x895-8-8) margins: 8, 31, 8, 8 minimum size: 1022x929 MINMAXINFO maxSize=0,0 maxpos=0,0 mintrack=1038,968 maxtrack=0,0)\n",
      "WARNING: QWindowsWindow::setGeometry: Unable to set geometry 1470x1135+0+23 (frame: 1486x1174-8-8) on QWidgetWindow/\"_QtMainWindowClassWindow\" on \"\\\\.\\DISPLAY49\". Resulting geometry: 1470x856+0+23 (frame: 1486x895-8-8) margins: 8, 31, 8, 8 minimum size: 1022x1135 MINMAXINFO maxSize=0,0 maxpos=0,0 mintrack=1038,1174 maxtrack=0,0)\n",
      "WARNING: QWindowsWindow::setGeometry: Unable to set geometry 1470x1138+0+23 (frame: 1486x1177-8-8) on QWidgetWindow/\"_QtMainWindowClassWindow\" on \"\\\\.\\DISPLAY49\". Resulting geometry: 1470x856+0+23 (frame: 1486x895-8-8) margins: 8, 31, 8, 8 minimum size: 1022x1138 MINMAXINFO maxSize=0,0 maxpos=0,0 mintrack=1038,1177 maxtrack=0,0)\n"
     ]
    }
   ],
   "source": [
    "import yaml\n",
    "from tracks_interactions.widget.signal_graph_widget import CellGraphWidget\n",
    "from sqlalchemy import create_engine\n",
    "from sqlalchemy.orm import sessionmaker\n",
    "\n",
    "# get access to the database\n",
    "new_db_path = r'D:\\kasia\\tracking\\E6_exp\\double_segmentation_ultrack\\Exp6_gardener_v6.db'\n",
    "engine = create_engine(f'sqlite:///{new_db_path}')\n",
    "session = sessionmaker(bind=engine)()\n",
    "\n",
    "filePath = r'D:\\kasia\\tracking\\E6_exp\\sample_data\\config.yaml'\n",
    "\n",
    "with open(filePath, 'r') as file:\n",
    "    config = yaml.safe_load(file)\n",
    "    graph_list = config.get('graphs', [])\n",
    "    cell_tags = config.get('cell_tags', [])\n",
    "\n",
    "signal_list = ['area','ch0_nuc','ch0_cyto','ch1_nuc','ch1_cyto']\n",
    "\n",
    "ind = 2\n",
    "for gr in graph_list:\n",
    "    graph_name = gr.get('name', 'Unnamed')\n",
    "    graph_signals = gr.get('signals', [])\n",
    "    graph_colors = gr.get('colors', [])\n",
    "\n",
    "    graph_widget = CellGraphWidget(viewer,session,signal_list,signal_sel_list=graph_signals,color_sel_list=graph_colors,tag_dictionary=cell_tags)\n",
    "    viewer.window.add_dock_widget(graph_widget,area='right')\n",
    "    #track_gardener.tab2.layout().addWidget(graph_widget, ind, 0)\n",
    "    #ind += 1"
   ]
  },
  {
   "cell_type": "code",
   "execution_count": 10,
   "metadata": {},
   "outputs": [
    {
     "data": {
      "text/plain": [
       "<napari._qt.widgets.qt_viewer_dock_widget.QtViewerDockWidget at 0x1f30b92d000>"
      ]
     },
     "execution_count": 10,
     "metadata": {},
     "output_type": "execute_result"
    }
   ],
   "source": [
    "viewer = napari.Viewer()\n",
    "\n",
    "track_gardener = TrackGardener(viewer)\n",
    "\n",
    "viewer.window.add_dock_widget(track_gardener,area='right',name='Track Gardener')"
   ]
  },
  {
   "cell_type": "code",
   "execution_count": null,
   "metadata": {},
   "outputs": [],
   "source": []
  }
 ],
 "metadata": {
  "kernelspec": {
   "display_name": "tracking",
   "language": "python",
   "name": "python3"
  },
  "language_info": {
   "codemirror_mode": {
    "name": "ipython",
    "version": 3
   },
   "file_extension": ".py",
   "mimetype": "text/x-python",
   "name": "python",
   "nbconvert_exporter": "python",
   "pygments_lexer": "ipython3",
   "version": "3.10.13"
  }
 },
 "nbformat": 4,
 "nbformat_minor": 2
}
